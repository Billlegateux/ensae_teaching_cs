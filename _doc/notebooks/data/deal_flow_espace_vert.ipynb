{
  "cells": [
    {
      "cell_type": "markdown",
      "metadata": {},
      "source": [
        "# Deal flow espaces verts 2018 - 2019\n",
        "\n",
        "Ce jeu de donn\u00e9es est propos\u00e9 pour la r\u00e9alisation d'un projet de module python pour partager une fonction de graphe. Un exemple de ce projet est propos\u00e9 : [td2a_plotting](https://github.com/sdpython/td2a_plotting)."
      ]
    },
    {
      "cell_type": "code",
      "execution_count": 1,
      "metadata": {},
      "outputs": [
        {
          "data": {
            "text/html": [
              "<div id=\"my_id_menu_nb\">run previous cell, wait for 2 seconds</div>\n",
              "<script>\n",
              "function repeat_indent_string(n){\n",
              "    var a = \"\" ;\n",
              "    for ( ; n > 0 ; --n)\n",
              "        a += \"    \";\n",
              "    return a;\n",
              "}\n",
              "// look up into all sections and builds an automated menu //\n",
              "var update_menu_string = function(begin, lfirst, llast, sformat, send, keep_item, begin_format, end_format) {\n",
              "    var anchors = document.getElementsByClassName(\"section\");\n",
              "    if (anchors.length == 0) {\n",
              "        anchors = document.getElementsByClassName(\"text_cell_render rendered_html\");\n",
              "    }\n",
              "    var i,t;\n",
              "    var text_menu = begin;\n",
              "    var text_memo = \"<pre>\\nlength:\" + anchors.length + \"\\n\";\n",
              "    var ind = \"\";\n",
              "    var memo_level = 1;\n",
              "    var href;\n",
              "    var tags = [];\n",
              "    var main_item = 0;\n",
              "    var format_open = 0;\n",
              "    for (i = 0; i <= llast; i++)\n",
              "        tags.push(\"h\" + i);\n",
              "\n",
              "    for (i = 0; i < anchors.length; i++) {\n",
              "        text_memo += \"**\" + anchors[i].id + \"--\\n\";\n",
              "\n",
              "        var child = null;\n",
              "        for(t = 0; t < tags.length; t++) {\n",
              "            var r = anchors[i].getElementsByTagName(tags[t]);\n",
              "            if (r.length > 0) {\n",
              "child = r[0];\n",
              "break;\n",
              "            }\n",
              "        }\n",
              "        if (child == null) {\n",
              "            text_memo += \"null\\n\";\n",
              "            continue;\n",
              "        }\n",
              "        if (anchors[i].hasAttribute(\"id\")) {\n",
              "            // when converted in RST\n",
              "            href = anchors[i].id;\n",
              "            text_memo += \"#1-\" + href;\n",
              "            // passer \u00e0 child suivant (le chercher)\n",
              "        }\n",
              "        else if (child.hasAttribute(\"id\")) {\n",
              "            // in a notebook\n",
              "            href = child.id;\n",
              "            text_memo += \"#2-\" + href;\n",
              "        }\n",
              "        else {\n",
              "            text_memo += \"#3-\" + \"*\" + \"\\n\";\n",
              "            continue;\n",
              "        }\n",
              "        var title = child.textContent;\n",
              "        var level = parseInt(child.tagName.substring(1,2));\n",
              "\n",
              "        text_memo += \"--\" + level + \"?\" + lfirst + \"--\" + title + \"\\n\";\n",
              "\n",
              "        if ((level < lfirst) || (level > llast)) {\n",
              "            continue ;\n",
              "        }\n",
              "        if (title.endsWith('\u00b6')) {\n",
              "            title = title.substring(0,title.length-1).replace(\"<\", \"&lt;\")\n",
              "         .replace(\">\", \"&gt;\").replace(\"&\", \"&amp;\");\n",
              "        }\n",
              "        if (title.length == 0) {\n",
              "            continue;\n",
              "        }\n",
              "\n",
              "        while (level < memo_level) {\n",
              "            text_menu += end_format + \"</ul>\\n\";\n",
              "            format_open -= 1;\n",
              "            memo_level -= 1;\n",
              "        }\n",
              "        if (level == lfirst) {\n",
              "            main_item += 1;\n",
              "        }\n",
              "        if (keep_item != -1 && main_item != keep_item + 1) {\n",
              "            // alert(main_item + \" - \" + level + \" - \" + keep_item);\n",
              "            continue;\n",
              "        }\n",
              "        while (level > memo_level) {\n",
              "            text_menu += \"<ul>\\n\";\n",
              "            memo_level += 1;\n",
              "        }\n",
              "        text_menu += repeat_indent_string(level-2);\n",
              "        text_menu += begin_format + sformat.replace(\"__HREF__\", href).replace(\"__TITLE__\", title);\n",
              "        format_open += 1;\n",
              "    }\n",
              "    while (1 < memo_level) {\n",
              "        text_menu += end_format + \"</ul>\\n\";\n",
              "        memo_level -= 1;\n",
              "        format_open -= 1;\n",
              "    }\n",
              "    text_menu += send;\n",
              "    //text_menu += \"\\n\" + text_memo;\n",
              "\n",
              "    while (format_open > 0) {\n",
              "        text_menu += end_format;\n",
              "        format_open -= 1;\n",
              "    }\n",
              "    return text_menu;\n",
              "};\n",
              "var update_menu = function() {\n",
              "    var sbegin = \"\";\n",
              "    var sformat = '<a href=\"#__HREF__\">__TITLE__</a>';\n",
              "    var send = \"\";\n",
              "    var begin_format = '<li>';\n",
              "    var end_format = '</li>';\n",
              "    var keep_item = -1;\n",
              "    var text_menu = update_menu_string(sbegin, 2, 4, sformat, send, keep_item,\n",
              "       begin_format, end_format);\n",
              "    var menu = document.getElementById(\"my_id_menu_nb\");\n",
              "    menu.innerHTML=text_menu;\n",
              "};\n",
              "window.setTimeout(update_menu,2000);\n",
              "            </script>"
            ],
            "text/plain": [
              "<IPython.core.display.HTML object>"
            ]
          },
          "execution_count": 2,
          "metadata": {},
          "output_type": "execute_result"
        }
      ],
      "source": [
        "from jyquickhelper import add_notebook_menu\n",
        "add_notebook_menu()"
      ]
    },
    {
      "cell_type": "code",
      "execution_count": 2,
      "metadata": {},
      "outputs": [],
      "source": [
        "%matplotlib inline"
      ]
    },
    {
      "cell_type": "markdown",
      "metadata": {},
      "source": [
        "## R\u00e9cup\u00e9ration des donn\u00e9es"
      ]
    },
    {
      "cell_type": "code",
      "execution_count": 3,
      "metadata": {},
      "outputs": [
        {
          "data": {
            "text/plain": [
              "['.\\\\.\\\\DEAL Flow automatisation 2019.xlsx',\n",
              " '.\\\\.\\\\Jeu de donn\u00e9es deal flow 2018.csv']"
            ]
          },
          "execution_count": 4,
          "metadata": {},
          "output_type": "execute_result"
        }
      ],
      "source": [
        "from ensae_teaching_cs.data import deal_flow_espace_vert_2018_2019\n",
        "filenames = deal_flow_espace_vert_2018_2019()\n",
        "filenames"
      ]
    },
    {
      "cell_type": "code",
      "execution_count": 4,
      "metadata": {},
      "outputs": [
        {
          "data": {
            "text/html": [
              "<div>\n",
              "<style scoped>\n",
              "    .dataframe tbody tr th:only-of-type {\n",
              "        vertical-align: middle;\n",
              "    }\n",
              "\n",
              "    .dataframe tbody tr th {\n",
              "        vertical-align: top;\n",
              "    }\n",
              "\n",
              "    .dataframe thead th {\n",
              "        text-align: right;\n",
              "    }\n",
              "</style>\n",
              "<table border=\"1\" class=\"dataframe\">\n",
              "  <thead>\n",
              "    <tr style=\"text-align: right;\">\n",
              "      <th></th>\n",
              "      <th>DOMAINE</th>\n",
              "      <th>SOUS_DOMAINE</th>\n",
              "      <th>SOUS_DOMAINE_NIV2</th>\n",
              "      <th>SOUS_DOMAINE_NIV3</th>\n",
              "      <th>DOSSIER_CODE</th>\n",
              "      <th>DOSSIER_OBJET</th>\n",
              "      <th>TIERS NOM</th>\n",
              "      <th>COMMUNE</th>\n",
              "      <th>COMMUNE_X</th>\n",
              "      <th>COMMUNE_Y</th>\n",
              "      <th>DOSSIER_DATE_NOTIFICATION</th>\n",
              "      <th>DOSSIER_DUREE</th>\n",
              "      <th>iOp\u00e9rationCout</th>\n",
              "      <th>iMontant total</th>\n",
              "    </tr>\n",
              "  </thead>\n",
              "  <tbody>\n",
              "    <tr>\n",
              "      <th>0</th>\n",
              "      <td>D2-Economie Circulaire</td>\n",
              "      <td>2DE-D\u00e9chets</td>\n",
              "      <td>2DE.01-Pr\u00e9vention</td>\n",
              "      <td>2DE.01.01-R\u00e9emploi/r\u00e9paration</td>\n",
              "      <td>19OCC0099</td>\n",
              "      <td>Achat et pose de mobilier de seconde vie pour ...</td>\n",
              "      <td>SA HLM CHALETS</td>\n",
              "      <td>Toulouse</td>\n",
              "      <td>1.431672</td>\n",
              "      <td>43.596382</td>\n",
              "      <td>2019-05-28</td>\n",
              "      <td>18.0</td>\n",
              "      <td>197001.00</td>\n",
              "      <td>15864.0</td>\n",
              "    </tr>\n",
              "    <tr>\n",
              "      <th>1</th>\n",
              "      <td>D2-Economie Circulaire</td>\n",
              "      <td>2DE-D\u00e9chets</td>\n",
              "      <td>2DE.02-Valorisation organique</td>\n",
              "      <td>2DE.02.01-M\u00e9thanisation</td>\n",
              "      <td>18BRC0299</td>\n",
              "      <td>BIOGAZ 2018 - Installation d'une unit\u00e9 de m\u00e9th...</td>\n",
              "      <td>GAEC LA MOTTE COATHUAL</td>\n",
              "      <td>Plouguern\u00e9vel</td>\n",
              "      <td>-3.247116</td>\n",
              "      <td>48.234072</td>\n",
              "      <td>2019-03-06</td>\n",
              "      <td>48.0</td>\n",
              "      <td>1283771.16</td>\n",
              "      <td>160103.0</td>\n",
              "    </tr>\n",
              "    <tr>\n",
              "      <th>2</th>\n",
              "      <td>D2-Economie Circulaire</td>\n",
              "      <td>2DE-D\u00e9chets</td>\n",
              "      <td>2DE.02-Valorisation organique</td>\n",
              "      <td>2DE.02.01-M\u00e9thanisation</td>\n",
              "      <td>18BRC0304</td>\n",
              "      <td>BIOGAZ 2018 - Installation d'une unit\u00e9 de m\u00e9th...</td>\n",
              "      <td>SAS METHA-GOURHAND</td>\n",
              "      <td>Martign\u00e9-Ferchaud</td>\n",
              "      <td>-1.328084</td>\n",
              "      <td>47.828196</td>\n",
              "      <td>2019-03-15</td>\n",
              "      <td>48.0</td>\n",
              "      <td>2073288.45</td>\n",
              "      <td>160417.0</td>\n",
              "    </tr>\n",
              "    <tr>\n",
              "      <th>3</th>\n",
              "      <td>D1-Energie, changement climatique, qualit\u00e9 de ...</td>\n",
              "      <td>1ER-Energies renouvelables et de r\u00e9cup\u00e9ration ...</td>\n",
              "      <td>1ER.06-Solaire Th.</td>\n",
              "      <td>1ER.06.03-Solaire tertiaire</td>\n",
              "      <td>19COC0041</td>\n",
              "      <td>AAP STCo - Alimentation ECS solaire d'une vill...</td>\n",
              "      <td>MINNA</td>\n",
              "      <td>Zonza</td>\n",
              "      <td>9.266098</td>\n",
              "      <td>41.721407</td>\n",
              "      <td>2019-05-17</td>\n",
              "      <td>18.0</td>\n",
              "      <td>6000.00</td>\n",
              "      <td>3255.0</td>\n",
              "    </tr>\n",
              "    <tr>\n",
              "      <th>4</th>\n",
              "      <td>D1-Energie, changement climatique, qualit\u00e9 de ...</td>\n",
              "      <td>1ER-Energies renouvelables et de r\u00e9cup\u00e9ration ...</td>\n",
              "      <td>1ER.05-R\u00e9seaux de chaleur distribution</td>\n",
              "      <td>1ER.05.02-Extension de R\u00e9seaux de chaleur</td>\n",
              "      <td>18RAC0252</td>\n",
              "      <td>AAP AURESEAU 2018 : Extension/densification du...</td>\n",
              "      <td>COMPAGNIE DE CHAUFFAGE INTERCOMMUNALE DE L'AGG...</td>\n",
              "      <td>Grenoble</td>\n",
              "      <td>5.721333</td>\n",
              "      <td>45.182120</td>\n",
              "      <td>NaT</td>\n",
              "      <td>65.0</td>\n",
              "      <td>98123000.00</td>\n",
              "      <td>8674236.0</td>\n",
              "    </tr>\n",
              "  </tbody>\n",
              "</table>\n",
              "</div>"
            ],
            "text/plain": [
              "                                             DOMAINE  \\\n",
              "0                             D2-Economie Circulaire   \n",
              "1                             D2-Economie Circulaire   \n",
              "2                             D2-Economie Circulaire   \n",
              "3  D1-Energie, changement climatique, qualit\u00e9 de ...   \n",
              "4  D1-Energie, changement climatique, qualit\u00e9 de ...   \n",
              "\n",
              "                                        SOUS_DOMAINE  \\\n",
              "0                                        2DE-D\u00e9chets   \n",
              "1                                        2DE-D\u00e9chets   \n",
              "2                                        2DE-D\u00e9chets   \n",
              "3  1ER-Energies renouvelables et de r\u00e9cup\u00e9ration ...   \n",
              "4  1ER-Energies renouvelables et de r\u00e9cup\u00e9ration ...   \n",
              "\n",
              "                        SOUS_DOMAINE_NIV2  \\\n",
              "0                       2DE.01-Pr\u00e9vention   \n",
              "1           2DE.02-Valorisation organique   \n",
              "2           2DE.02-Valorisation organique   \n",
              "3                      1ER.06-Solaire Th.   \n",
              "4  1ER.05-R\u00e9seaux de chaleur distribution   \n",
              "\n",
              "                           SOUS_DOMAINE_NIV3 DOSSIER_CODE  \\\n",
              "0              2DE.01.01-R\u00e9emploi/r\u00e9paration    19OCC0099   \n",
              "1                    2DE.02.01-M\u00e9thanisation    18BRC0299   \n",
              "2                    2DE.02.01-M\u00e9thanisation    18BRC0304   \n",
              "3                1ER.06.03-Solaire tertiaire    19COC0041   \n",
              "4  1ER.05.02-Extension de R\u00e9seaux de chaleur    18RAC0252   \n",
              "\n",
              "                                       DOSSIER_OBJET  \\\n",
              "0  Achat et pose de mobilier de seconde vie pour ...   \n",
              "1  BIOGAZ 2018 - Installation d'une unit\u00e9 de m\u00e9th...   \n",
              "2  BIOGAZ 2018 - Installation d'une unit\u00e9 de m\u00e9th...   \n",
              "3  AAP STCo - Alimentation ECS solaire d'une vill...   \n",
              "4  AAP AURESEAU 2018 : Extension/densification du...   \n",
              "\n",
              "                                           TIERS NOM            COMMUNE  \\\n",
              "0                                     SA HLM CHALETS           Toulouse   \n",
              "1                             GAEC LA MOTTE COATHUAL      Plouguern\u00e9vel   \n",
              "2                                 SAS METHA-GOURHAND  Martign\u00e9-Ferchaud   \n",
              "3                                              MINNA              Zonza   \n",
              "4  COMPAGNIE DE CHAUFFAGE INTERCOMMUNALE DE L'AGG...           Grenoble   \n",
              "\n",
              "   COMMUNE_X  COMMUNE_Y DOSSIER_DATE_NOTIFICATION  DOSSIER_DUREE  \\\n",
              "0   1.431672  43.596382                2019-05-28           18.0   \n",
              "1  -3.247116  48.234072                2019-03-06           48.0   \n",
              "2  -1.328084  47.828196                2019-03-15           48.0   \n",
              "3   9.266098  41.721407                2019-05-17           18.0   \n",
              "4   5.721333  45.182120                       NaT           65.0   \n",
              "\n",
              "   iOp\u00e9rationCout  iMontant total  \n",
              "0       197001.00         15864.0  \n",
              "1      1283771.16        160103.0  \n",
              "2      2073288.45        160417.0  \n",
              "3         6000.00          3255.0  \n",
              "4     98123000.00       8674236.0  "
            ]
          },
          "execution_count": 5,
          "metadata": {},
          "output_type": "execute_result"
        }
      ],
      "source": [
        "import pandas\n",
        "df19 = pandas.read_excel(filenames[0], engine='openpyxl')\n",
        "df19.head()"
      ]
    },
    {
      "cell_type": "markdown",
      "metadata": {},
      "source": [
        "L'encoding du fichier *csv* n'est pas \u00e9vident \u00e0 deviner. On utilise le module [chardet](https://chardet.readthedocs.io/en/latest/usage.html) pour cela."
      ]
    },
    {
      "cell_type": "code",
      "execution_count": 5,
      "metadata": {},
      "outputs": [
        {
          "data": {
            "text/plain": [
              "{'encoding': 'Windows-1252', 'confidence': 0.729730205381813, 'language': ''}"
            ]
          },
          "execution_count": 6,
          "metadata": {},
          "output_type": "execute_result"
        }
      ],
      "source": [
        "import chardet\n",
        "with open(filenames[1], 'rb') as f:\n",
        "    c = f.read()\n",
        "chardet.detect(c)"
      ]
    },
    {
      "cell_type": "code",
      "execution_count": 6,
      "metadata": {},
      "outputs": [
        {
          "data": {
            "text/html": [
              "<div>\n",
              "<style scoped>\n",
              "    .dataframe tbody tr th:only-of-type {\n",
              "        vertical-align: middle;\n",
              "    }\n",
              "\n",
              "    .dataframe tbody tr th {\n",
              "        vertical-align: top;\n",
              "    }\n",
              "\n",
              "    .dataframe thead th {\n",
              "        text-align: right;\n",
              "    }\n",
              "</style>\n",
              "<table border=\"1\" class=\"dataframe\">\n",
              "  <thead>\n",
              "    <tr style=\"text-align: right;\">\n",
              "      <th></th>\n",
              "      <th>DOMAINE</th>\n",
              "      <th>SOUS_DOMAINE</th>\n",
              "      <th>SOUS_DOMAINE_NIV2</th>\n",
              "      <th>SOUS_DOMAINE_NIV3</th>\n",
              "      <th>DOSSIER_CODE</th>\n",
              "      <th>DOSSIER_OBJET</th>\n",
              "      <th>TIERS_NOM</th>\n",
              "      <th>COMMUNE</th>\n",
              "      <th>COMMUNE_X</th>\n",
              "      <th>COMMUNE_Y</th>\n",
              "      <th>DOSSIER_DATE_NOTIFICATION</th>\n",
              "      <th>DOSSIER_DUREE</th>\n",
              "      <th>iNbDossiers</th>\n",
              "      <th>iOp\u00e9rationCout</th>\n",
              "      <th>iMontantTotal</th>\n",
              "    </tr>\n",
              "  </thead>\n",
              "  <tbody>\n",
              "    <tr>\n",
              "      <th>0</th>\n",
              "      <td>D1-Energie, changement climatique, qualit\u00e9 de ...</td>\n",
              "      <td>1BA-B\u00e2timent</td>\n",
              "      <td>1BA.01-Performance \u00e9nerg\u00e9tique b\u00e2timent</td>\n",
              "      <td>-</td>\n",
              "      <td>17GAC0007</td>\n",
              "      <td>Construction du groupe scolaire de Calvaire \u00e0 ...</td>\n",
              "      <td>COMMUNE DE BAIE-MAHAULT</td>\n",
              "      <td>Guadeloupe</td>\n",
              "      <td>-61.539650</td>\n",
              "      <td>16.198191</td>\n",
              "      <td>23/05/2018</td>\n",
              "      <td>36</td>\n",
              "      <td>1</td>\n",
              "      <td>719730.0</td>\n",
              "      <td>20586.0</td>\n",
              "    </tr>\n",
              "    <tr>\n",
              "      <th>1</th>\n",
              "      <td>D1-Energie, changement climatique, qualit\u00e9 de ...</td>\n",
              "      <td>1BA-B\u00e2timent</td>\n",
              "      <td>1BA.01-Performance \u00e9nerg\u00e9tique b\u00e2timent</td>\n",
              "      <td>-</td>\n",
              "      <td>17MAC0054</td>\n",
              "      <td>Laur\u00e9at AAP R\u00e9novation B\u00e2timent - R\u00e9novation \u00e9...</td>\n",
              "      <td>SA DE LA RAFFINERIE DES ANTILLES</td>\n",
              "      <td>Fort-de-France</td>\n",
              "      <td>-61.069188</td>\n",
              "      <td>14.641109</td>\n",
              "      <td>07/06/2018</td>\n",
              "      <td>26</td>\n",
              "      <td>1</td>\n",
              "      <td>488813.0</td>\n",
              "      <td>102154.0</td>\n",
              "    </tr>\n",
              "    <tr>\n",
              "      <th>2</th>\n",
              "      <td>D1-Energie, changement climatique, qualit\u00e9 de ...</td>\n",
              "      <td>1BA-B\u00e2timent</td>\n",
              "      <td>1BA.01-Performance \u00e9nerg\u00e9tique b\u00e2timent</td>\n",
              "      <td>-</td>\n",
              "      <td>17REC0125</td>\n",
              "      <td>Projet PREBAT UFR sant\u00e9</td>\n",
              "      <td>UNIVERSITE DE LA REUNION</td>\n",
              "      <td>La R\u00e9union</td>\n",
              "      <td>55.532483</td>\n",
              "      <td>-21.133114</td>\n",
              "      <td>03/05/2018</td>\n",
              "      <td>36</td>\n",
              "      <td>1</td>\n",
              "      <td>14415686.0</td>\n",
              "      <td>194489.0</td>\n",
              "    </tr>\n",
              "    <tr>\n",
              "      <th>3</th>\n",
              "      <td>D1-Energie, changement climatique, qualit\u00e9 de ...</td>\n",
              "      <td>1BA-B\u00e2timent</td>\n",
              "      <td>1BA.01-Performance \u00e9nerg\u00e9tique b\u00e2timent</td>\n",
              "      <td>-</td>\n",
              "      <td>18GAC0013</td>\n",
              "      <td>AAP BATEX 2017 -  R\u00e9alisation de l'H\u00f4tel Le R\u00e9...</td>\n",
              "      <td>COMPAGNIE D'EXPLOITATION HOTELIERE DES ABYMES ...</td>\n",
              "      <td>Guadeloupe</td>\n",
              "      <td>-61.539650</td>\n",
              "      <td>16.198191</td>\n",
              "      <td>26/11/2018</td>\n",
              "      <td>36</td>\n",
              "      <td>1</td>\n",
              "      <td>7429000.0</td>\n",
              "      <td>182100.0</td>\n",
              "    </tr>\n",
              "    <tr>\n",
              "      <th>4</th>\n",
              "      <td>D1-Energie, changement climatique, qualit\u00e9 de ...</td>\n",
              "      <td>1BA-B\u00e2timent</td>\n",
              "      <td>1BA.01-Performance \u00e9nerg\u00e9tique b\u00e2timent</td>\n",
              "      <td>-</td>\n",
              "      <td>18GAC0015</td>\n",
              "      <td>AAP BATEX 2017 - Construction du b\u00e2timent CONF...</td>\n",
              "      <td>ELLAGUA</td>\n",
              "      <td>Guadeloupe</td>\n",
              "      <td>-61.539650</td>\n",
              "      <td>16.198191</td>\n",
              "      <td>27/07/2018</td>\n",
              "      <td>44</td>\n",
              "      <td>1</td>\n",
              "      <td>1418327.0</td>\n",
              "      <td>64511.0</td>\n",
              "    </tr>\n",
              "  </tbody>\n",
              "</table>\n",
              "</div>"
            ],
            "text/plain": [
              "                                             DOMAINE  SOUS_DOMAINE  \\\n",
              "0  D1-Energie, changement climatique, qualit\u00e9 de ...  1BA-B\u00e2timent   \n",
              "1  D1-Energie, changement climatique, qualit\u00e9 de ...  1BA-B\u00e2timent   \n",
              "2  D1-Energie, changement climatique, qualit\u00e9 de ...  1BA-B\u00e2timent   \n",
              "3  D1-Energie, changement climatique, qualit\u00e9 de ...  1BA-B\u00e2timent   \n",
              "4  D1-Energie, changement climatique, qualit\u00e9 de ...  1BA-B\u00e2timent   \n",
              "\n",
              "                         SOUS_DOMAINE_NIV2 SOUS_DOMAINE_NIV3 DOSSIER_CODE  \\\n",
              "0  1BA.01-Performance \u00e9nerg\u00e9tique b\u00e2timent                 -    17GAC0007   \n",
              "1  1BA.01-Performance \u00e9nerg\u00e9tique b\u00e2timent                 -    17MAC0054   \n",
              "2  1BA.01-Performance \u00e9nerg\u00e9tique b\u00e2timent                 -    17REC0125   \n",
              "3  1BA.01-Performance \u00e9nerg\u00e9tique b\u00e2timent                 -    18GAC0013   \n",
              "4  1BA.01-Performance \u00e9nerg\u00e9tique b\u00e2timent                 -    18GAC0015   \n",
              "\n",
              "                                       DOSSIER_OBJET  \\\n",
              "0  Construction du groupe scolaire de Calvaire \u00e0 ...   \n",
              "1  Laur\u00e9at AAP R\u00e9novation B\u00e2timent - R\u00e9novation \u00e9...   \n",
              "2                            Projet PREBAT UFR sant\u00e9   \n",
              "3  AAP BATEX 2017 -  R\u00e9alisation de l'H\u00f4tel Le R\u00e9...   \n",
              "4  AAP BATEX 2017 - Construction du b\u00e2timent CONF...   \n",
              "\n",
              "                                           TIERS_NOM         COMMUNE  \\\n",
              "0                            COMMUNE DE BAIE-MAHAULT      Guadeloupe   \n",
              "1                   SA DE LA RAFFINERIE DES ANTILLES  Fort-de-France   \n",
              "2                           UNIVERSITE DE LA REUNION      La R\u00e9union   \n",
              "3  COMPAGNIE D'EXPLOITATION HOTELIERE DES ABYMES ...      Guadeloupe   \n",
              "4                                            ELLAGUA      Guadeloupe   \n",
              "\n",
              "   COMMUNE_X  COMMUNE_Y DOSSIER_DATE_NOTIFICATION  DOSSIER_DUREE  iNbDossiers  \\\n",
              "0 -61.539650  16.198191                23/05/2018             36            1   \n",
              "1 -61.069188  14.641109                07/06/2018             26            1   \n",
              "2  55.532483 -21.133114                03/05/2018             36            1   \n",
              "3 -61.539650  16.198191                26/11/2018             36            1   \n",
              "4 -61.539650  16.198191                27/07/2018             44            1   \n",
              "\n",
              "   iOp\u00e9rationCout  iMontantTotal  \n",
              "0        719730.0        20586.0  \n",
              "1        488813.0       102154.0  \n",
              "2      14415686.0       194489.0  \n",
              "3       7429000.0       182100.0  \n",
              "4       1418327.0        64511.0  "
            ]
          },
          "execution_count": 7,
          "metadata": {},
          "output_type": "execute_result"
        }
      ],
      "source": [
        "df18 = pandas.read_csv(filenames[1], encoding=\"Windows-1252\", sep=\";\", decimal=',')\n",
        "df18.head()"
      ]
    },
    {
      "cell_type": "markdown",
      "metadata": {},
      "source": [
        "Comparons les colonnes."
      ]
    },
    {
      "cell_type": "code",
      "execution_count": 7,
      "metadata": {},
      "outputs": [
        {
          "data": {
            "text/plain": [
              "Index(['DOMAINE', 'SOUS_DOMAINE', 'SOUS_DOMAINE_NIV2', 'SOUS_DOMAINE_NIV3',\n",
              "       'DOSSIER_CODE', 'DOSSIER_OBJET', 'TIERS_NOM', 'COMMUNE', 'COMMUNE_X',\n",
              "       'COMMUNE_Y', 'DOSSIER_DATE_NOTIFICATION', 'DOSSIER_DUREE',\n",
              "       'iNbDossiers', 'iOp\u00e9rationCout', 'iMontantTotal'],\n",
              "      dtype='object')"
            ]
          },
          "execution_count": 8,
          "metadata": {},
          "output_type": "execute_result"
        }
      ],
      "source": [
        "df18.columns"
      ]
    },
    {
      "cell_type": "code",
      "execution_count": 8,
      "metadata": {},
      "outputs": [
        {
          "data": {
            "text/plain": [
              "Index(['DOMAINE', 'SOUS_DOMAINE', 'SOUS_DOMAINE_NIV2', 'SOUS_DOMAINE_NIV3',\n",
              "       'DOSSIER_CODE', 'DOSSIER_OBJET', 'TIERS NOM', 'COMMUNE', 'COMMUNE_X',\n",
              "       'COMMUNE_Y', 'DOSSIER_DATE_NOTIFICATION', 'DOSSIER_DUREE',\n",
              "       'iOp\u00e9rationCout', 'iMontant total'],\n",
              "      dtype='object')"
            ]
          },
          "execution_count": 9,
          "metadata": {},
          "output_type": "execute_result"
        }
      ],
      "source": [
        "df19.columns"
      ]
    },
    {
      "cell_type": "markdown",
      "metadata": {},
      "source": [
        "## Vues dynamiques"
      ]
    },
    {
      "cell_type": "markdown",
      "metadata": {},
      "source": [
        "On regarde un peu les donn\u00e9es."
      ]
    },
    {
      "cell_type": "code",
      "execution_count": 9,
      "metadata": {},
      "outputs": [],
      "source": [
        "columns = list(sorted(set(list(df18.columns) +  list(df19.columns)))) + ['montant']"
      ]
    },
    {
      "cell_type": "code",
      "execution_count": 10,
      "metadata": {},
      "outputs": [],
      "source": [
        "from ipywidgets import interact"
      ]
    },
    {
      "cell_type": "code",
      "execution_count": 11,
      "metadata": {},
      "outputs": [
        {
          "data": {
            "application/vnd.jupyter.widget-view+json": {
              "model_id": "322bed75fbc94690994b1b1d2eeea42f",
              "version_major": 2,
              "version_minor": 0
            },
            "text/plain": [
              "interactive(children=(Dropdown(description='annee', options=(2018, 2019), value=2018), Dropdown(description='c\u2026"
            ]
          },
          "metadata": {},
          "output_type": "display_data"
        }
      ],
      "source": [
        "@interact(annee=[2018, 2019], column=columns, x=(0, 10000000, 100000))\n",
        "def show_rows(annee=2018, column='montant', x=100000):\n",
        "    if annee == 2018:\n",
        "        if column == 'montant':\n",
        "            column = 'iMontantTotal'\n",
        "        return df18[df18[column] >= x].sort_values(column).T\n",
        "    else:\n",
        "        if column == 'montant':\n",
        "            column = 'iMontant total'\n",
        "        return df19[df19[column] >= x].sort_values(column).T"
      ]
    },
    {
      "cell_type": "markdown",
      "metadata": {},
      "source": [
        "## Une carte\n",
        "\n",
        "On regarde les projets sur la m\u00e9tropole en 2018."
      ]
    },
    {
      "cell_type": "code",
      "execution_count": 12,
      "metadata": {},
      "outputs": [
        {
          "data": {
            "text/plain": [
              "((1036, 15), (271, 15))"
            ]
          },
          "execution_count": 13,
          "metadata": {},
          "output_type": "execute_result"
        }
      ],
      "source": [
        "lim_metropole = [-5, 10, 41, 52]\n",
        "\n",
        "df18_metro = df18[((df18.COMMUNE_X >= lim_metropole[0]) & (df19.COMMUNE_X <= lim_metropole[1]) &\n",
        "                   (df18.COMMUNE_Y >= lim_metropole[2]) & (df19.COMMUNE_Y <= lim_metropole[3]))]\n",
        "df18.shape, df18_metro.shape"
      ]
    },
    {
      "cell_type": "code",
      "execution_count": 13,
      "metadata": {},
      "outputs": [
        {
          "name": "stderr",
          "output_type": "stream",
          "text": [
            "c:\\python372_x64\\lib\\site-packages\\cartopy\\mpl\\geoaxes.py:388: MatplotlibDeprecationWarning: \n",
            "The 'inframe' parameter of draw() was deprecated in Matplotlib 3.3 and will be removed two minor releases later. Use Axes.redraw_in_frame() instead. If any parameter follows 'inframe', they should be passed as keyword, not positionally.\n",
            "  inframe=inframe)\n"
          ]
        },
        {
          "data": {
            "image/png": "[encoded data removed]",
            "text/plain": [
              "<Figure size 504x504 with 1 Axes>"
            ]
          },
          "metadata": {
            "needs_background": "light"
          },
          "output_type": "display_data"
        }
      ],
      "source": [
        "import cartopy.crs as ccrs\n",
        "import cartopy.feature as cfeature\n",
        "import matplotlib.pyplot as plt\n",
        "\n",
        "fig = plt.figure(figsize=(7,7))\n",
        "ax = fig.add_subplot(1, 1, 1, projection=ccrs.PlateCarree())\n",
        "ax.set_extent(lim_metropole)\n",
        "ax.add_feature(cfeature.OCEAN.with_scale('50m'))\n",
        "ax.add_feature(cfeature.COASTLINE.with_scale('50m'))\n",
        "ax.add_feature(cfeature.RIVERS.with_scale('50m'))\n",
        "ax.add_feature(cfeature.BORDERS.with_scale('50m'), linestyle=':')\n",
        "ax.scatter(df18_metro.COMMUNE_X, df18_metro.COMMUNE_Y,\n",
        "           s=df18_metro.iMontantTotal ** 0.5 / 20, alpha=0.5)\n",
        "ax.set_title('France 2018\\ninvestissements verts');"
      ]
    },
    {
      "cell_type": "code",
      "execution_count": 14,
      "metadata": {},
      "outputs": [],
      "source": []
    }
  ],
  "metadata": {
    "kernelspec": {
      "display_name": "Python 3",
      "language": "python",
      "name": "python3"
    },
    "language_info": {
      "codemirror_mode": {
        "name": "ipython",
        "version": 3
      },
      "file_extension": ".py",
      "mimetype": "text/x-python",
      "name": "python",
      "nbconvert_exporter": "python",
      "pygments_lexer": "ipython3",
      "version": "3.7.2"
    }
  },
  "nbformat": 4,
  "nbformat_minor": 2
}