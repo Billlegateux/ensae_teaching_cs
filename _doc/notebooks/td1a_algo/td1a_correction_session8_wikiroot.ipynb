{
  "cells": [
    {
      "cell_type": "markdown",
      "metadata": {},
      "source": [
        "# 1A.algo - Parcours dans un graphe (wikip\u00e9dia) - correction\n",
        "\n",
        "Correction du notebook du m\u00eame titre. On part d'une page, on explore les liens des pages li\u00e9es \u00e0 la premi\u00e8re et on continue. On utilise le module [beautifulsoup4](https://pypi.python.org/pypi/beautifulsoup4) ([web scrapping](https://fr.wikipedia.org/wiki/Web_scraping)) pour parser les pages."
      ]
    },
    {
      "cell_type": "code",
      "execution_count": 1,
      "metadata": {},
      "outputs": [
        {
          "data": {
            "text/html": [
              "<div id=\"my_id_menu_nb\">run previous cell, wait for 2 seconds</div>\n",
              "<script>\n",
              "function repeat_indent_string(n){\n",
              "    var a = \"\" ;\n",
              "    for ( ; n > 0 ; --n)\n",
              "        a += \"    \";\n",
              "    return a;\n",
              "}\n",
              "var update_menu_string = function(begin, lfirst, llast, sformat, send, keep_item, begin_format, end_format) {\n",
              "    var anchors = document.getElementsByClassName(\"section\");\n",
              "    if (anchors.length == 0) {\n",
              "        anchors = document.getElementsByClassName(\"text_cell_render rendered_html\");\n",
              "    }\n",
              "    var i,t;\n",
              "    var text_menu = begin;\n",
              "    var text_memo = \"<pre>\\nlength:\" + anchors.length + \"\\n\";\n",
              "    var ind = \"\";\n",
              "    var memo_level = 1;\n",
              "    var href;\n",
              "    var tags = [];\n",
              "    var main_item = 0;\n",
              "    var format_open = 0;\n",
              "    for (i = 0; i <= llast; i++)\n",
              "        tags.push(\"h\" + i);\n",
              "\n",
              "    for (i = 0; i < anchors.length; i++) {\n",
              "        text_memo += \"**\" + anchors[i].id + \"--\\n\";\n",
              "\n",
              "        var child = null;\n",
              "        for(t = 0; t < tags.length; t++) {\n",
              "            var r = anchors[i].getElementsByTagName(tags[t]);\n",
              "            if (r.length > 0) {\n",
              "child = r[0];\n",
              "break;\n",
              "            }\n",
              "        }\n",
              "        if (child == null) {\n",
              "            text_memo += \"null\\n\";\n",
              "            continue;\n",
              "        }\n",
              "        if (anchors[i].hasAttribute(\"id\")) {\n",
              "            // when converted in RST\n",
              "            href = anchors[i].id;\n",
              "            text_memo += \"#1-\" + href;\n",
              "            // passer \u00e0 child suivant (le chercher)\n",
              "        }\n",
              "        else if (child.hasAttribute(\"id\")) {\n",
              "            // in a notebook\n",
              "            href = child.id;\n",
              "            text_memo += \"#2-\" + href;\n",
              "        }\n",
              "        else {\n",
              "            text_memo += \"#3-\" + \"*\" + \"\\n\";\n",
              "            continue;\n",
              "        }\n",
              "        var title = child.textContent;\n",
              "        var level = parseInt(child.tagName.substring(1,2));\n",
              "\n",
              "        text_memo += \"--\" + level + \"?\" + lfirst + \"--\" + title + \"\\n\";\n",
              "\n",
              "        if ((level < lfirst) || (level > llast)) {\n",
              "            continue ;\n",
              "        }\n",
              "        if (title.endsWith('\u00b6')) {\n",
              "            title = title.substring(0,title.length-1).replace(\"<\", \"&lt;\")\n",
              "         .replace(\">\", \"&gt;\").replace(\"&\", \"&amp;\");\n",
              "        }\n",
              "        if (title.length == 0) {\n",
              "            continue;\n",
              "        }\n",
              "\n",
              "        while (level < memo_level) {\n",
              "            text_menu += end_format + \"</ul>\\n\";\n",
              "            format_open -= 1;\n",
              "            memo_level -= 1;\n",
              "        }\n",
              "        if (level == lfirst) {\n",
              "            main_item += 1;\n",
              "        }\n",
              "        if (keep_item != -1 && main_item != keep_item + 1) {\n",
              "            // alert(main_item + \" - \" + level + \" - \" + keep_item);\n",
              "            continue;\n",
              "        }\n",
              "        while (level > memo_level) {\n",
              "            text_menu += \"<ul>\\n\";\n",
              "            memo_level += 1;\n",
              "        }\n",
              "        text_menu += repeat_indent_string(level-2);\n",
              "        text_menu += begin_format + sformat.replace(\"__HREF__\", href).replace(\"__TITLE__\", title);\n",
              "        format_open += 1;\n",
              "    }\n",
              "    while (1 < memo_level) {\n",
              "        text_menu += end_format + \"</ul>\\n\";\n",
              "        memo_level -= 1;\n",
              "        format_open -= 1;\n",
              "    }\n",
              "    text_menu += send;\n",
              "    //text_menu += \"\\n\" + text_memo;\n",
              "\n",
              "    while (format_open > 0) {\n",
              "        text_menu += end_format;\n",
              "        format_open -= 1;\n",
              "    }\n",
              "    return text_menu;\n",
              "};\n",
              "var update_menu = function() {\n",
              "    var sbegin = \"\";\n",
              "    var sformat = '<a href=\"#__HREF__\">__TITLE__</a>';\n",
              "    var send = \"\";\n",
              "    var begin_format = '<li>';\n",
              "    var end_format = '</li>';\n",
              "    var keep_item = -1;\n",
              "    var text_menu = update_menu_string(sbegin, 2, 4, sformat, send, keep_item,\n",
              "       begin_format, end_format);\n",
              "    var menu = document.getElementById(\"my_id_menu_nb\");\n",
              "    menu.innerHTML=text_menu;\n",
              "};\n",
              "window.setTimeout(update_menu,2000);\n",
              "            </script>"
            ],
            "text/plain": [
              "<IPython.core.display.HTML object>"
            ]
          },
          "execution_count": 2,
          "metadata": {},
          "output_type": "execute_result"
        }
      ],
      "source": [
        "from jyquickhelper import add_notebook_menu\n",
        "add_notebook_menu()"
      ]
    },
    {
      "cell_type": "markdown",
      "metadata": {},
      "source": [
        "Solution de [F\u00e9lix Revert](https://github.com/FelixChop/getting-to-philosophy)."
      ]
    },
    {
      "cell_type": "markdown",
      "metadata": {},
      "source": [
        "## Exercice 1 : lire une page web\n"
      ]
    },
    {
      "cell_type": "code",
      "execution_count": 2,
      "metadata": {},
      "outputs": [
        {
          "data": {
            "text/plain": [
              "b'<?xml version=\"1.0\" encoding=\"utf-8\"?>\\r\\n<html>\\r\\n<head>\\r\\n<link TYPE=\"text/css\" href=\"pMenu2.css\" rel='"
            ]
          },
          "execution_count": 3,
          "metadata": {},
          "output_type": "execute_result"
        }
      ],
      "source": [
        "import urllib.request as ulib\n",
        "\n",
        "def get_html(address, source=\"https://fr.wikipedia.org/wiki/\"):\n",
        "    with ulib.urlopen(source+address) as u:\n",
        "        return u.read()\n",
        "    \n",
        "get_html(\"http://www.xavierdupre.fr\", source=\"\")[:100]"
      ]
    },
    {
      "cell_type": "markdown",
      "metadata": {},
      "source": [
        "## Exercice 2 : extraire le premier lien\n",
        "\n",
        "Il faut \u00e9crire une fonction qui r\u00e9cup\u00e8re le premier lien d'une page wikipedia avec [BeautifulSoup](https://pypi.python.org/pypi/beautifulsoup4)"
      ]
    },
    {
      "cell_type": "code",
      "execution_count": 3,
      "metadata": {},
      "outputs": [
        {
          "data": {
            "text/plain": [
              "'Langage_de_programmation'"
            ]
          },
          "execution_count": 4,
          "metadata": {},
          "output_type": "execute_result"
        }
      ],
      "source": [
        "def get_first_link(soup):\n",
        "    for p in soup.find('div',{'id':'bodyContent'}).findAll('p'):\n",
        "        for a in p.findAll('a'):\n",
        "            if a and a.get('href').startswith('/wiki/') and not \":\" in a.get('href'):\n",
        "                return a.get('href')[6:]\n",
        "            \n",
        "from bs4 import BeautifulSoup\n",
        "stru = BeautifulSoup(get_html(\"Python_(langage)\"), \"lxml\")      \n",
        "get_first_link(stru)"
      ]
    },
    {
      "cell_type": "code",
      "execution_count": 4,
      "metadata": {},
      "outputs": [
        {
          "name": "stdout",
          "output_type": "stream",
          "text": [
            "\n",
            "initial address: Python_(langage)\n",
            " Will you go to Philosophie ?...\n",
            "\n",
            "Langage_de_programmation\n",
            "Informatique\n",
            "Sciences_exactes\n",
            "Sciences_de_la_nature\n",
            "Anglais\n",
            "API_%CB%88\n",
            "Syllabe\n",
            "Latin\n",
            "Langues_italiques\n",
            "Langue\n",
            "Syst%C3%A8me\n",
            "Ensemble\n",
            "Totalit%C3%A9\n",
            "Concept\n"
          ]
        },
        {
          "data": {
            "text/plain": [
              "'100 it\u00e9rations atteintes'"
            ]
          },
          "execution_count": 5,
          "metadata": {},
          "output_type": "execute_result"
        }
      ],
      "source": [
        "def get_to_philosophy(initial_address, max_iterations=100, verbose=False):\n",
        "    target_page = \"Philosophie\"\n",
        "    iteration = 0\n",
        "    pages_visited = []\n",
        "    current_address = initial_address\n",
        "    \n",
        "    if verbose:\n",
        "        print(\"\\ninitial address: \" + current_address+\"\\n Will you go to \"+target_page+\" ?...\\n\")\n",
        "        \n",
        "    while iteration < max_iterations:\n",
        "        current_address = get_first_link(BeautifulSoup(get_html(current_address), \"lxml\"))\n",
        "        if current_address is None:\n",
        "            break\n",
        "        if verbose:\n",
        "            print(current_address)\n",
        "        \n",
        "        if current_address in pages_visited:\n",
        "            print(\"Boucle de \" + str(iteration - pages_visited.index(current_address)) + \n",
        "                  \" noeuds trouv\u00e9e \u00e0 partir de \"+str(pages_visited.index(current_address))+\" it\u00e9rations\")\n",
        "            return\n",
        "        elif current_address.lower() == target_page.lower():\n",
        "            print(str(iteration) + \" it\u00e9rations pour arriver \u00e0 la page Philosophie\")\n",
        "            return\n",
        "        else:\n",
        "            pages_visited.extend([current_address])\n",
        "            iteration += 1\n",
        "            \n",
        "    return str(max_iterations)+\" it\u00e9rations atteintes\"\n",
        "\n",
        "get_to_philosophy(\"Python_(langage)\", verbose=True)"
      ]
    },
    {
      "cell_type": "code",
      "execution_count": 5,
      "metadata": {
        "collapsed": true
      },
      "outputs": [],
      "source": []
    }
  ],
  "metadata": {
    "kernelspec": {
      "display_name": "Python 3",
      "language": "python",
      "name": "python3"
    },
    "language_info": {
      "codemirror_mode": {
        "name": "ipython",
        "version": 3
      },
      "file_extension": ".py",
      "mimetype": "text/x-python",
      "name": "python",
      "nbconvert_exporter": "python",
      "pygments_lexer": "ipython3",
      "version": "3.6.1"
    }
  },
  "nbformat": 4,
  "nbformat_minor": 1
}