{
  "cells": [
    {
      "cell_type": "markdown",
      "metadata": {},
      "source": [
        "# Tech - profiling\n",
        "\n",
        "Le [profilage de code](https://fr.wikipedia.org/wiki/Profilage_de_code) ou *profiling* en anglais signifie qu'on mesure le temps pass\u00e9 dans chaque partie d'un programme pour en d\u00e9couvrir les parties les plus co\u00fbteuses et les am\u00e9liorer. On souhaite toujours acc\u00e9l\u00e9rer un programme trop lent, le profiling permet de savoir sur quelles parties se concentrer."
      ]
    },
    {
      "cell_type": "code",
      "execution_count": 1,
      "metadata": {},
      "outputs": [
        {
          "data": {
            "text/html": [
              "<div id=\"my_id_menu_nb\">run previous cell, wait for 2 seconds</div>\n",
              "<script>\n",
              "function repeat_indent_string(n){\n",
              "    var a = \"\" ;\n",
              "    for ( ; n > 0 ; --n)\n",
              "        a += \"    \";\n",
              "    return a;\n",
              "}\n",
              "// look up into all sections and builds an automated menu //\n",
              "var update_menu_string = function(begin, lfirst, llast, sformat, send, keep_item, begin_format, end_format) {\n",
              "    var anchors = document.getElementsByClassName(\"section\");\n",
              "    if (anchors.length == 0) {\n",
              "        anchors = document.getElementsByClassName(\"text_cell_render rendered_html\");\n",
              "    }\n",
              "    var i,t;\n",
              "    var text_menu = begin;\n",
              "    var text_memo = \"<pre>\\nlength:\" + anchors.length + \"\\n\";\n",
              "    var ind = \"\";\n",
              "    var memo_level = 1;\n",
              "    var href;\n",
              "    var tags = [];\n",
              "    var main_item = 0;\n",
              "    var format_open = 0;\n",
              "    for (i = 0; i <= llast; i++)\n",
              "        tags.push(\"h\" + i);\n",
              "\n",
              "    for (i = 0; i < anchors.length; i++) {\n",
              "        text_memo += \"**\" + anchors[i].id + \"--\\n\";\n",
              "\n",
              "        var child = null;\n",
              "        for(t = 0; t < tags.length; t++) {\n",
              "            var r = anchors[i].getElementsByTagName(tags[t]);\n",
              "            if (r.length > 0) {\n",
              "child = r[0];\n",
              "break;\n",
              "            }\n",
              "        }\n",
              "        if (child == null) {\n",
              "            text_memo += \"null\\n\";\n",
              "            continue;\n",
              "        }\n",
              "        if (anchors[i].hasAttribute(\"id\")) {\n",
              "            // when converted in RST\n",
              "            href = anchors[i].id;\n",
              "            text_memo += \"#1-\" + href;\n",
              "            // passer \u00e0 child suivant (le chercher)\n",
              "        }\n",
              "        else if (child.hasAttribute(\"id\")) {\n",
              "            // in a notebook\n",
              "            href = child.id;\n",
              "            text_memo += \"#2-\" + href;\n",
              "        }\n",
              "        else {\n",
              "            text_memo += \"#3-\" + \"*\" + \"\\n\";\n",
              "            continue;\n",
              "        }\n",
              "        var title = child.textContent;\n",
              "        var level = parseInt(child.tagName.substring(1,2));\n",
              "\n",
              "        text_memo += \"--\" + level + \"?\" + lfirst + \"--\" + title + \"\\n\";\n",
              "\n",
              "        if ((level < lfirst) || (level > llast)) {\n",
              "            continue ;\n",
              "        }\n",
              "        if (title.endsWith('\u00b6')) {\n",
              "            title = title.substring(0,title.length-1).replace(\"<\", \"&lt;\")\n",
              "         .replace(\">\", \"&gt;\").replace(\"&\", \"&amp;\");\n",
              "        }\n",
              "        if (title.length == 0) {\n",
              "            continue;\n",
              "        }\n",
              "\n",
              "        while (level < memo_level) {\n",
              "            text_menu += end_format + \"</ul>\\n\";\n",
              "            format_open -= 1;\n",
              "            memo_level -= 1;\n",
              "        }\n",
              "        if (level == lfirst) {\n",
              "            main_item += 1;\n",
              "        }\n",
              "        if (keep_item != -1 && main_item != keep_item + 1) {\n",
              "            // alert(main_item + \" - \" + level + \" - \" + keep_item);\n",
              "            continue;\n",
              "        }\n",
              "        while (level > memo_level) {\n",
              "            text_menu += \"<ul>\\n\";\n",
              "            memo_level += 1;\n",
              "        }\n",
              "        text_menu += repeat_indent_string(level-2);\n",
              "        text_menu += begin_format + sformat.replace(\"__HREF__\", href).replace(\"__TITLE__\", title);\n",
              "        format_open += 1;\n",
              "    }\n",
              "    while (1 < memo_level) {\n",
              "        text_menu += end_format + \"</ul>\\n\";\n",
              "        memo_level -= 1;\n",
              "        format_open -= 1;\n",
              "    }\n",
              "    text_menu += send;\n",
              "    //text_menu += \"\\n\" + text_memo;\n",
              "\n",
              "    while (format_open > 0) {\n",
              "        text_menu += end_format;\n",
              "        format_open -= 1;\n",
              "    }\n",
              "    return text_menu;\n",
              "};\n",
              "var update_menu = function() {\n",
              "    var sbegin = \"\";\n",
              "    var sformat = '<a href=\"#__HREF__\">__TITLE__</a>';\n",
              "    var send = \"\";\n",
              "    var begin_format = '<li>';\n",
              "    var end_format = '</li>';\n",
              "    var keep_item = -1;\n",
              "    var text_menu = update_menu_string(sbegin, 2, 4, sformat, send, keep_item,\n",
              "       begin_format, end_format);\n",
              "    var menu = document.getElementById(\"my_id_menu_nb\");\n",
              "    menu.innerHTML=text_menu;\n",
              "};\n",
              "window.setTimeout(update_menu,2000);\n",
              "            </script>"
            ],
            "text/plain": [
              "<IPython.core.display.HTML object>"
            ]
          },
          "execution_count": 2,
          "metadata": {},
          "output_type": "execute_result"
        }
      ],
      "source": [
        "from jyquickhelper import add_notebook_menu\n",
        "add_notebook_menu()"
      ]
    },
    {
      "cell_type": "markdown",
      "metadata": {},
      "source": [
        "Autre lecture : [Exemple de profiling](http://www.xavierdupre.fr/app/ensae_teaching_cs/helpsphinx3/notebooks/profiling_example.html#profilingexamplerst)."
      ]
    },
    {
      "cell_type": "markdown",
      "metadata": {},
      "source": [
        "## Enonc\u00e9\n",
        "\n",
        "On applique le profiling au code suivant pour d\u00e9couvrir laquelle de ces fonctions est la plus lente. Vous pouvez changer ce code pour un de ceux que vous avez \u00e9crits pr\u00e9c\u00e9demment."
      ]
    },
    {
      "cell_type": "code",
      "execution_count": 2,
      "metadata": {},
      "outputs": [
        {
          "data": {
            "text/plain": [
              "(0.5, 0.9)"
            ]
          },
          "execution_count": 3,
          "metadata": {},
          "output_type": "execute_result"
        }
      ],
      "source": [
        "def _gini_sort(Y):\n",
        "    return list(sorted(Y))\n",
        "\n",
        "\n",
        "def _gini_init(Y):\n",
        "    return [[1, y] for y in Y]\n",
        "\n",
        "\n",
        "def _gini_cumsum(couples):\n",
        "    for i in range(1, len(couples)):\n",
        "        couples[i][0] += couples[i-1][0]\n",
        "        couples[i][1] += couples[i-1][1]\n",
        "    for i in range(0, len(couples)):\n",
        "        couples[i][0] /= couples[-1][0]\n",
        "        couples[i][1] /= couples[-1][1]\n",
        "    return couples\n",
        "\n",
        "    \n",
        "def _gini_final(couples):\n",
        "    g = couples[0][0] * couples[0][1]\n",
        "    n = len(couples)\n",
        "\n",
        "    for i in range(1, n):\n",
        "        dx = couples[i][0] - couples[i-1][0]\n",
        "        y = couples[i-1][1] + couples[i][1]\n",
        "        g += dx * y\n",
        "\n",
        "    return 1. - g / 2\n",
        "\n",
        "\n",
        "def gini(Y):\n",
        "    Y = _gini_sort(Y)\n",
        "    couples = _gini_init(Y)\n",
        "    couples = _gini_cumsum(couples)\n",
        "    return _gini_final(couples)\n",
        "\n",
        "\n",
        "gini([1, 1, 1, 1, 1]), gini([0, 0, 0, 0, 100000])"
      ]
    },
    {
      "cell_type": "markdown",
      "metadata": {},
      "source": [
        "### Exercice 1 : profiler le code pr\u00e9c\u00e9dent\n",
        "\n",
        "Le langage python dispose d'un module qui mesure le temps pass\u00e9 dans chaque fonction [profile](https://docs.python.org/3/library/profile.html). Il faut l'utiliser."
      ]
    },
    {
      "cell_type": "code",
      "execution_count": 3,
      "metadata": {},
      "outputs": [],
      "source": []
    },
    {
      "cell_type": "markdown",
      "metadata": {},
      "source": [
        "### Exercice 2 : changer la fonction _gini_final si possible en plus rapide\n",
        "\n"
      ]
    },
    {
      "cell_type": "code",
      "execution_count": 4,
      "metadata": {},
      "outputs": [],
      "source": []
    },
    {
      "cell_type": "markdown",
      "metadata": {},
      "source": [
        "### Exercice 3 : vous am\u00e9liorez la fonction _gini_final, profilez pour savoir de combien ?"
      ]
    },
    {
      "cell_type": "code",
      "execution_count": 5,
      "metadata": {},
      "outputs": [],
      "source": []
    },
    {
      "cell_type": "markdown",
      "metadata": {},
      "source": [
        "### Exercice 4 : utiliser d'autres modules de profiling\n",
        "\n",
        "Si c'est possible, comme [pyinstrument](https://github.com/joerick/pyinstrument) ou [py-spy](https://github.com/benfred/py-spy). Il y a deux fa\u00e7ons de faire du profiling :\n",
        "\n",
        "* **d\u00e9terministe :** on mesure le temps pass\u00e9 dans chaque fonction, \u00e0 chaque appel, ce type de profilage n'est souvent possible que pour des langages interpr\u00e9t\u00e9s,\n",
        "* **statistique :** tous les centi\u00e8mes de secondes, on regarde quelle ligne de quelle fonction le programme ex\u00e9cute. On compte ensuite combien de fois la ligne ex\u00e9cut\u00e9e \u00e9tait dans une fonction pour d\u00e9terminer le temps pass\u00e9 dans chaque fonction.\n",
        "\n",
        "Les deux modules propos\u00e9s sont statistiques, le premier est d\u00e9terministe. Bien \u00e9videmment, le fait de mesurer le temps pass\u00e9 prend du temps \u00e9galement, plus on s'arr\u00eate souvant, plus l'ex\u00e9cution est ralentie."
      ]
    },
    {
      "cell_type": "code",
      "execution_count": 6,
      "metadata": {},
      "outputs": [],
      "source": []
    },
    {
      "cell_type": "markdown",
      "metadata": {},
      "source": [
        "### Exercice 5 : la fonction _gini_cumsum contient deux boucles. Quelle est la plus rapide ?"
      ]
    },
    {
      "cell_type": "code",
      "execution_count": 7,
      "metadata": {},
      "outputs": [],
      "source": []
    },
    {
      "cell_type": "markdown",
      "metadata": {},
      "source": [
        "## R\u00e9ponses"
      ]
    },
    {
      "cell_type": "markdown",
      "metadata": {},
      "source": [
        "### Exercice 1 : profiler le code pr\u00e9c\u00e9dent\n",
        "\n",
        "On reprend un des exemples de cette page [The Python Profilers](https://docs.python.org/3/library/profile.html#module-cProfile)."
      ]
    },
    {
      "cell_type": "code",
      "execution_count": 8,
      "metadata": {},
      "outputs": [
        {
          "name": "stdout",
          "output_type": "stream",
          "text": [
            "         57 function calls in 0.000 seconds\n",
            "\n",
            "   Ordered by: cumulative time\n",
            "\n",
            "   ncalls  tottime  percall  cumtime  percall filename:lineno(function)\n",
            "        2    0.000    0.000    0.000    0.000 c:\\python372_x64\\lib\\site-packages\\IPython\\core\\interactiveshell.py:3293(run_code)\n",
            "        2    0.000    0.000    0.000    0.000 {built-in method builtins.exec}\n",
            "        2    0.000    0.000    0.000    0.000 c:\\python372_x64\\lib\\codeop.py:132(__call__)\n",
            "        1    0.000    0.000    0.000    0.000 <ipython-input-3-405f7b24fbdc>:6(<module>)\n",
            "        1    0.000    0.000    0.000    0.000 <ipython-input-2-3b0b0c672aa1>:31(gini)\n",
            "        2    0.000    0.000    0.000    0.000 {built-in method builtins.compile}\n",
            "        1    0.000    0.000    0.000    0.000 <ipython-input-2-3b0b0c672aa1>:9(_gini_cumsum)\n",
            "        1    0.000    0.000    0.000    0.000 <ipython-input-2-3b0b0c672aa1>:19(_gini_final)\n",
            "        2    0.000    0.000    0.000    0.000 c:\\python372_x64\\lib\\contextlib.py:107(__enter__)\n",
            "        2    0.000    0.000    0.000    0.000 c:\\python372_x64\\lib\\contextlib.py:237(helper)\n",
            "        2    0.000    0.000    0.000    0.000 c:\\python372_x64\\lib\\contextlib.py:116(__exit__)\n",
            "        4    0.000    0.000    0.000    0.000 {built-in method builtins.next}\n",
            "        1    0.000    0.000    0.000    0.000 <ipython-input-2-3b0b0c672aa1>:1(_gini_sort)\n",
            "        2    0.000    0.000    0.000    0.000 c:\\python372_x64\\lib\\contextlib.py:81(__init__)\n",
            "        1    0.000    0.000    0.000    0.000 <ipython-input-3-405f7b24fbdc>:8(<module>)\n",
            "        4    0.000    0.000    0.000    0.000 {built-in method builtins.getattr}\n",
            "        4    0.000    0.000    0.000    0.000 c:\\python372_x64\\lib\\site-packages\\IPython\\core\\compilerop.py:138(extra_flags)\n",
            "        1    0.000    0.000    0.000    0.000 <ipython-input-2-3b0b0c672aa1>:5(_gini_init)\n",
            "        2    0.000    0.000    0.000    0.000 c:\\python372_x64\\lib\\site-packages\\IPython\\core\\hooks.py:103(__call__)\n",
            "        2    0.000    0.000    0.000    0.000 c:\\python372_x64\\lib\\site-packages\\traitlets\\traitlets.py:545(__get__)\n",
            "        2    0.000    0.000    0.000    0.000 c:\\python372_x64\\lib\\site-packages\\IPython\\core\\interactiveshell.py:117(<lambda>)\n",
            "        1    0.000    0.000    0.000    0.000 {built-in method builtins.sorted}\n",
            "        1    0.000    0.000    0.000    0.000 <ipython-input-2-3b0b0c672aa1>:6(<listcomp>)\n",
            "        2    0.000    0.000    0.000    0.000 c:\\python372_x64\\lib\\site-packages\\traitlets\\traitlets.py:526(get)\n",
            "        2    0.000    0.000    0.000    0.000 c:\\python372_x64\\lib\\site-packages\\IPython\\utils\\ipstruct.py:125(__getattr__)\n",
            "        2    0.000    0.000    0.000    0.000 c:\\python372_x64\\lib\\site-packages\\IPython\\core\\interactiveshell.py:1276(user_global_ns)\n",
            "        2    0.000    0.000    0.000    0.000 c:\\python372_x64\\lib\\site-packages\\IPython\\core\\hooks.py:168(pre_run_code_hook)\n",
            "        3    0.000    0.000    0.000    0.000 {built-in method builtins.len}\n",
            "        2    0.000    0.000    0.000    0.000 c:\\python372_x64\\lib\\site-packages\\IPython\\core\\interactiveshell.py:3235(compare)\n",
            "        1    0.000    0.000    0.000    0.000 {method 'disable' of '_lsprof.Profiler' objects}\n",
            "\n",
            "\n",
            "\n"
          ]
        }
      ],
      "source": [
        "import cProfile, pstats, io\n",
        "from pstats import SortKey\n",
        "pr = cProfile.Profile()\n",
        "pr.enable()\n",
        "\n",
        "gini([1, 1, 1, 1, 1])\n",
        "\n",
        "pr.disable()\n",
        "s = io.StringIO()\n",
        "sortby = SortKey.CUMULATIVE\n",
        "ps = pstats.Stats(pr, stream=s).sort_stats(sortby)\n",
        "ps.print_stats()\n",
        "print(s.getvalue())"
      ]
    },
    {
      "cell_type": "markdown",
      "metadata": {},
      "source": [
        "Tous les temps sont nuls. Le code est trop rapide. Il faut soit ex\u00e9cuter le code plusieurs fois, soit prendre un tableau plus grand."
      ]
    },
    {
      "cell_type": "code",
      "execution_count": 9,
      "metadata": {},
      "outputs": [
        {
          "name": "stdout",
          "output_type": "stream",
          "text": [
            "         11047 function calls in 1.274 seconds\n",
            "\n",
            "   Ordered by: cumulative time\n",
            "\n",
            "   ncalls  tottime  percall  cumtime  percall filename:lineno(function)\n",
            "        2    0.000    0.000    1.274    0.637 c:\\python372_x64\\lib\\site-packages\\IPython\\core\\interactiveshell.py:3293(run_code)\n",
            "        2    0.000    0.000    1.274    0.637 {built-in method builtins.exec}\n",
            "        1    0.043    0.043    1.274    1.274 <ipython-input-5-b1075e275d99>:6(<module>)\n",
            "     1000    0.002    0.000    1.190    0.001 <ipython-input-2-3b0b0c672aa1>:31(gini)\n",
            "     1000    0.673    0.001    0.673    0.001 <ipython-input-2-3b0b0c672aa1>:9(_gini_cumsum)\n",
            "     1000    0.360    0.000    0.361    0.000 <ipython-input-2-3b0b0c672aa1>:19(_gini_final)\n",
            "     1000    0.001    0.000    0.142    0.000 <ipython-input-2-3b0b0c672aa1>:5(_gini_init)\n",
            "     1000    0.141    0.000    0.141    0.000 <ipython-input-2-3b0b0c672aa1>:6(<listcomp>)\n",
            "     1000    0.041    0.000    0.041    0.000 <ipython-input-5-b1075e275d99>:7(<listcomp>)\n",
            "     1000    0.005    0.000    0.013    0.000 <ipython-input-2-3b0b0c672aa1>:1(_gini_sort)\n",
            "     1000    0.009    0.000    0.009    0.000 {built-in method builtins.sorted}\n",
            "     3000    0.000    0.000    0.000    0.000 {built-in method builtins.len}\n",
            "        2    0.000    0.000    0.000    0.000 c:\\python372_x64\\lib\\codeop.py:132(__call__)\n",
            "        2    0.000    0.000    0.000    0.000 {built-in method builtins.compile}\n",
            "        2    0.000    0.000    0.000    0.000 c:\\python372_x64\\lib\\contextlib.py:237(helper)\n",
            "        4    0.000    0.000    0.000    0.000 {built-in method builtins.next}\n",
            "        2    0.000    0.000    0.000    0.000 c:\\python372_x64\\lib\\contextlib.py:107(__enter__)\n",
            "        2    0.000    0.000    0.000    0.000 c:\\python372_x64\\lib\\contextlib.py:116(__exit__)\n",
            "        2    0.000    0.000    0.000    0.000 c:\\python372_x64\\lib\\contextlib.py:81(__init__)\n",
            "        4    0.000    0.000    0.000    0.000 {built-in method builtins.getattr}\n",
            "        4    0.000    0.000    0.000    0.000 c:\\python372_x64\\lib\\site-packages\\IPython\\core\\compilerop.py:138(extra_flags)\n",
            "        2    0.000    0.000    0.000    0.000 c:\\python372_x64\\lib\\site-packages\\IPython\\core\\interactiveshell.py:117(<lambda>)\n",
            "        2    0.000    0.000    0.000    0.000 c:\\python372_x64\\lib\\site-packages\\traitlets\\traitlets.py:545(__get__)\n",
            "        2    0.000    0.000    0.000    0.000 c:\\python372_x64\\lib\\site-packages\\IPython\\core\\hooks.py:103(__call__)\n",
            "        1    0.000    0.000    0.000    0.000 <ipython-input-5-b1075e275d99>:9(<module>)\n",
            "        2    0.000    0.000    0.000    0.000 c:\\python372_x64\\lib\\site-packages\\traitlets\\traitlets.py:526(get)\n",
            "        2    0.000    0.000    0.000    0.000 c:\\python372_x64\\lib\\site-packages\\IPython\\utils\\ipstruct.py:125(__getattr__)\n",
            "        2    0.000    0.000    0.000    0.000 c:\\python372_x64\\lib\\site-packages\\IPython\\core\\interactiveshell.py:1276(user_global_ns)\n",
            "        2    0.000    0.000    0.000    0.000 c:\\python372_x64\\lib\\site-packages\\IPython\\core\\interactiveshell.py:3235(compare)\n",
            "        2    0.000    0.000    0.000    0.000 c:\\python372_x64\\lib\\site-packages\\IPython\\core\\hooks.py:168(pre_run_code_hook)\n",
            "        1    0.000    0.000    0.000    0.000 {method 'disable' of '_lsprof.Profiler' objects}\n",
            "\n",
            "\n",
            "\n"
          ]
        }
      ],
      "source": [
        "import cProfile, pstats, io\n",
        "from pstats import SortKey\n",
        "pr = cProfile.Profile()\n",
        "pr.enable()\n",
        "\n",
        "for i in range(1000):\n",
        "    gini([1 for i in range(1000)])\n",
        "\n",
        "pr.disable()\n",
        "s = io.StringIO()\n",
        "sortby = SortKey.CUMULATIVE\n",
        "ps = pstats.Stats(pr, stream=s).sort_stats(sortby)\n",
        "ps.print_stats()\n",
        "print(s.getvalue())"
      ]
    },
    {
      "cell_type": "markdown",
      "metadata": {},
      "source": [
        "### Exercice 2 : changer la fonction _gini_final si possible en plus rapide"
      ]
    },
    {
      "cell_type": "code",
      "execution_count": 10,
      "metadata": {},
      "outputs": [
        {
          "data": {
            "text/plain": [
              "(0.9, 0.5, 0.9, 0.5)"
            ]
          },
          "execution_count": 11,
          "metadata": {},
          "output_type": "execute_result"
        }
      ],
      "source": [
        "def _gini_final_faster(couples):\n",
        "    g = couples[0][0] * couples[0][1]\n",
        "    n = len(couples)\n",
        "\n",
        "    # par construction, tous les dx sont identiques, cela fait des calculs en moins\n",
        "    # le code suivant est plus rapide mais peut encore \u00eatre optimis\u00e9\n",
        "    dx = couples[0][0]\n",
        "    sy = couples[0][0]\n",
        "    for i in range(1, n):        \n",
        "        sy = couples[i-1][1] + couples[i][1]\n",
        "        g += dx * sy\n",
        "\n",
        "    return 1. - g / 2\n",
        "\n",
        "\n",
        "def gini_faster(Y):\n",
        "    Y = _gini_sort(Y)\n",
        "    couples = _gini_init(Y)\n",
        "    couples = _gini_cumsum(couples)\n",
        "    return _gini_final_faster(couples)\n",
        "\n",
        "\n",
        "(gini_faster([0, 0, 0, 0, 5000]), gini_faster([1, 1, 1, 1, 1]),\n",
        " gini([0, 0, 0, 0, 5000]), gini([1, 1, 1, 1, 1]))"
      ]
    },
    {
      "cell_type": "markdown",
      "metadata": {},
      "source": [
        "### Exercice 3 : vous am\u00e9liorez la fonction _gini_final, profilez pour savoir de combien ?\n",
        "\n",
        "On appelle les deux fonctions pour pouvoir comparer."
      ]
    },
    {
      "cell_type": "code",
      "execution_count": 11,
      "metadata": {},
      "outputs": [
        {
          "name": "stdout",
          "output_type": "stream",
          "text": [
            "         22047 function calls in 2.427 seconds\n",
            "\n",
            "   Ordered by: cumulative time\n",
            "\n",
            "   ncalls  tottime  percall  cumtime  percall filename:lineno(function)\n",
            "        2    0.000    0.000    2.427    1.213 c:\\python372_x64\\lib\\site-packages\\IPython\\core\\interactiveshell.py:3293(run_code)\n",
            "        2    0.000    0.000    2.427    1.213 {built-in method builtins.exec}\n",
            "        1    0.082    0.082    2.427    2.427 <ipython-input-47-48004205d1de>:6(<module>)\n",
            "     2000    1.344    0.001    1.345    0.001 <ipython-input-37-6d8b3d4c048c>:9(_gini_cumsum)\n",
            "     1000    0.002    0.000    1.193    0.001 <ipython-input-37-6d8b3d4c048c>:31(gini)\n",
            "     1000    0.002    0.000    1.068    0.001 <ipython-input-46-25d64f007e27>:15(gini_faster)\n",
            "     1000    0.358    0.000    0.358    0.000 <ipython-input-37-6d8b3d4c048c>:19(_gini_final)\n",
            "     2000    0.002    0.000    0.314    0.000 <ipython-input-37-6d8b3d4c048c>:5(_gini_init)\n",
            "     2000    0.312    0.000    0.312    0.000 <ipython-input-37-6d8b3d4c048c>:6(<listcomp>)\n",
            "     1000    0.215    0.000    0.215    0.000 <ipython-input-46-25d64f007e27>:1(_gini_final_faster)\n",
            "     1000    0.042    0.000    0.042    0.000 <ipython-input-47-48004205d1de>:8(<listcomp>)\n",
            "     1000    0.041    0.000    0.041    0.000 <ipython-input-47-48004205d1de>:7(<listcomp>)\n",
            "     2000    0.009    0.000    0.025    0.000 <ipython-input-37-6d8b3d4c048c>:1(_gini_sort)\n",
            "     2000    0.016    0.000    0.016    0.000 {built-in method builtins.sorted}\n",
            "     6000    0.001    0.000    0.001    0.000 {built-in method builtins.len}\n",
            "        2    0.000    0.000    0.000    0.000 c:\\python372_x64\\lib\\codeop.py:132(__call__)\n",
            "        2    0.000    0.000    0.000    0.000 {built-in method builtins.compile}\n",
            "        2    0.000    0.000    0.000    0.000 c:\\python372_x64\\lib\\contextlib.py:237(helper)\n",
            "        2    0.000    0.000    0.000    0.000 c:\\python372_x64\\lib\\contextlib.py:107(__enter__)\n",
            "        4    0.000    0.000    0.000    0.000 {built-in method builtins.next}\n",
            "        2    0.000    0.000    0.000    0.000 c:\\python372_x64\\lib\\contextlib.py:116(__exit__)\n",
            "        2    0.000    0.000    0.000    0.000 c:\\python372_x64\\lib\\contextlib.py:81(__init__)\n",
            "        2    0.000    0.000    0.000    0.000 c:\\python372_x64\\lib\\site-packages\\IPython\\core\\interactiveshell.py:117(<lambda>)\n",
            "        4    0.000    0.000    0.000    0.000 c:\\python372_x64\\lib\\site-packages\\IPython\\core\\compilerop.py:138(extra_flags)\n",
            "        4    0.000    0.000    0.000    0.000 {built-in method builtins.getattr}\n",
            "        2    0.000    0.000    0.000    0.000 c:\\python372_x64\\lib\\site-packages\\IPython\\core\\hooks.py:103(__call__)\n",
            "        2    0.000    0.000    0.000    0.000 c:\\python372_x64\\lib\\site-packages\\traitlets\\traitlets.py:545(__get__)\n",
            "        1    0.000    0.000    0.000    0.000 <ipython-input-47-48004205d1de>:10(<module>)\n",
            "        2    0.000    0.000    0.000    0.000 c:\\python372_x64\\lib\\site-packages\\traitlets\\traitlets.py:526(get)\n",
            "        2    0.000    0.000    0.000    0.000 c:\\python372_x64\\lib\\site-packages\\IPython\\utils\\ipstruct.py:125(__getattr__)\n",
            "        2    0.000    0.000    0.000    0.000 c:\\python372_x64\\lib\\site-packages\\IPython\\core\\interactiveshell.py:1276(user_global_ns)\n",
            "        2    0.000    0.000    0.000    0.000 c:\\python372_x64\\lib\\site-packages\\IPython\\core\\hooks.py:168(pre_run_code_hook)\n",
            "        2    0.000    0.000    0.000    0.000 c:\\python372_x64\\lib\\site-packages\\IPython\\core\\interactiveshell.py:3235(compare)\n",
            "        1    0.000    0.000    0.000    0.000 {method 'disable' of '_lsprof.Profiler' objects}\n",
            "\n",
            "\n",
            "\n"
          ]
        }
      ],
      "source": [
        "import cProfile, pstats, io\n",
        "from pstats import SortKey\n",
        "pr = cProfile.Profile()\n",
        "pr.enable()\n",
        "\n",
        "for i in range(1000):\n",
        "    gini([1 for i in range(1000)])\n",
        "    gini_faster([1 for i in range(1000)])\n",
        "\n",
        "pr.disable()\n",
        "s = io.StringIO()\n",
        "sortby = SortKey.CUMULATIVE\n",
        "ps = pstats.Stats(pr, stream=s).sort_stats(sortby)\n",
        "ps.print_stats()\n",
        "print(s.getvalue())"
      ]
    },
    {
      "cell_type": "markdown",
      "metadata": {},
      "source": [
        "La seconde version est plus rapide."
      ]
    },
    {
      "cell_type": "markdown",
      "metadata": {},
      "source": [
        "### Exercice 4 : utiliser d'autres modules de profiling\n",
        "\n",
        "[pyinstrument](https://github.com/joerick/pyinstrument) n'est pas peut-\u00eatre pas install\u00e9. Il fonctionne de la m\u00eame fa\u00e7on."
      ]
    },
    {
      "cell_type": "code",
      "execution_count": 12,
      "metadata": {},
      "outputs": [
        {
          "name": "stdout",
          "output_type": "stream",
          "text": [
            "\n",
            "  _     ._   __/__   _ _  _  _ _/_   Recorded: 23:55:20  Samples:  2658\n",
            " /_//_/// /_\\ / //_// / //_'/ //     Duration: 3.506     CPU time: 3.328\n",
            "/   _/                      v3.1.3\n",
            "\n",
            "Program: c:\\python372_x64\\lib\\site-packages\\ipykernel_launcher.py -f C:\\Users\\xavie\\AppData\\Roaming\\jupyter\\runtime\\kernel-86977e98-0575-4ce5-83b5-3c2d9e6b311c.json\n",
            "\n",
            "\u001b[31m3.506\u001b[0m run_ast_nodes\u001b[0m  \u001b[2mIPython\\core\\interactiveshell.py:3142\u001b[0m\n",
            "\u2514\u2500 \u001b[31m3.505\u001b[0m run_code\u001b[0m  \u001b[2mIPython\\core\\interactiveshell.py:3293\u001b[0m\n",
            "   \u2514\u2500 \u001b[31m3.505\u001b[0m \u001b[48;5;24m\u001b[38;5;15m<module>\u001b[0m  \u001b[2m<ipython-input-48-23d6f1dc379d>:6\u001b[0m\n",
            "      \u251c\u2500 \u001b[33m1.830\u001b[0m \u001b[48;5;24m\u001b[38;5;15mgini\u001b[0m  \u001b[2m<ipython-input-37-6d8b3d4c048c>:31\u001b[0m\n",
            "      \u2502  \u251c\u2500 \u001b[33m0.955\u001b[0m \u001b[48;5;24m\u001b[38;5;15m_gini_cumsum\u001b[0m  \u001b[2m<ipython-input-37-6d8b3d4c048c>:9\u001b[0m\n",
            "      \u2502  \u251c\u2500 \u001b[32m0.606\u001b[0m \u001b[48;5;24m\u001b[38;5;15m_gini_final\u001b[0m  \u001b[2m<ipython-input-37-6d8b3d4c048c>:19\u001b[0m\n",
            "      \u2502  \u2514\u2500 \u001b[32m0.237\u001b[0m \u001b[48;5;24m\u001b[38;5;15m_gini_init\u001b[0m  \u001b[2m<ipython-input-37-6d8b3d4c048c>:5\u001b[0m\n",
            "      \u2502     \u2514\u2500 \u001b[32m0.237\u001b[0m \u001b[48;5;24m\u001b[38;5;15m<listcomp>\u001b[0m  \u001b[2m<ipython-input-37-6d8b3d4c048c>:6\u001b[0m\n",
            "      \u251c\u2500 \u001b[33m1.456\u001b[0m \u001b[48;5;24m\u001b[38;5;15mgini_faster\u001b[0m  \u001b[2m<ipython-input-46-25d64f007e27>:15\u001b[0m\n",
            "      \u2502  \u251c\u2500 \u001b[33m0.994\u001b[0m \u001b[48;5;24m\u001b[38;5;15m_gini_cumsum\u001b[0m  \u001b[2m<ipython-input-37-6d8b3d4c048c>:9\u001b[0m\n",
            "      \u2502  \u251c\u2500 \u001b[32m0.274\u001b[0m \u001b[48;5;24m\u001b[38;5;15m_gini_final_faster\u001b[0m  \u001b[2m<ipython-input-46-25d64f007e27>:1\u001b[0m\n",
            "      \u2502  \u2514\u2500 \u001b[92m\u001b[2m0.165\u001b[0m \u001b[48;5;24m\u001b[38;5;15m_gini_init\u001b[0m  \u001b[2m<ipython-input-37-6d8b3d4c048c>:5\u001b[0m\n",
            "      \u2502     \u2514\u2500 \u001b[92m\u001b[2m0.165\u001b[0m \u001b[48;5;24m\u001b[38;5;15m<listcomp>\u001b[0m  \u001b[2m<ipython-input-37-6d8b3d4c048c>:6\u001b[0m\n",
            "      \u251c\u2500 \u001b[92m\u001b[2m0.100\u001b[0m [self]\u001b[0m  \u001b[2m\u001b[0m\n",
            "      \u251c\u2500 \u001b[92m\u001b[2m0.071\u001b[0m \u001b[48;5;24m\u001b[38;5;15m<listcomp>\u001b[0m  \u001b[2m<ipython-input-48-23d6f1dc379d>:7\u001b[0m\n",
            "      \u2514\u2500 \u001b[92m\u001b[2m0.048\u001b[0m \u001b[48;5;24m\u001b[38;5;15m<listcomp>\u001b[0m  \u001b[2m<ipython-input-48-23d6f1dc379d>:8\u001b[0m\n",
            "\n",
            "\n"
          ]
        }
      ],
      "source": [
        "from pyinstrument import Profiler\n",
        "\n",
        "profiler = Profiler()\n",
        "profiler.start()\n",
        "\n",
        "for i in range(1000):\n",
        "    gini([1 for i in range(1000)])\n",
        "    gini_faster([1 for i in range(1000)])\n",
        "\n",
        "profiler.stop()\n",
        "\n",
        "print(profiler.output_text(unicode=True, color=True))"
      ]
    },
    {
      "cell_type": "markdown",
      "metadata": {},
      "source": [
        "C'est plus facile \u00e0 lire."
      ]
    },
    {
      "cell_type": "markdown",
      "metadata": {},
      "source": [
        "### Exercice 5 : la fonction _gini_cumsum contient deux boucles. Quelle est la plus rapide ?\n",
        "\n",
        "Pour ce faire, on d\u00e9coupe la fonction en deux."
      ]
    },
    {
      "cell_type": "code",
      "execution_count": 13,
      "metadata": {},
      "outputs": [
        {
          "data": {
            "text/plain": [
              "(0.5, 0.9)"
            ]
          },
          "execution_count": 14,
          "metadata": {},
          "output_type": "execute_result"
        }
      ],
      "source": [
        "def _gini_cumsum2a(couples):\n",
        "    for i in range(1, len(couples)):\n",
        "        couples[i][0] += couples[i-1][0]\n",
        "        couples[i][1] += couples[i-1][1]\n",
        "    return couples\n",
        "\n",
        "\n",
        "def _gini_cumsum2b(couples):\n",
        "    for i in range(0, len(couples)):\n",
        "        couples[i][0] /= couples[-1][0]\n",
        "        couples[i][1] /= couples[-1][1]\n",
        "    return couples\n",
        "\n",
        "\n",
        "def _gini_cumsum2(couples):\n",
        "    _gini_cumsum2a(couples)\n",
        "    _gini_cumsum2b(couples)\n",
        "    return couples\n",
        "\n",
        "\n",
        "def gini2(Y):\n",
        "    Y = _gini_sort(Y)\n",
        "    couples = _gini_init(Y)\n",
        "    couples = _gini_cumsum2(couples)\n",
        "    return _gini_final(couples)\n",
        "\n",
        "\n",
        "gini2([1, 1, 1, 1, 1]), gini2([0, 0, 0, 0, 100000])"
      ]
    },
    {
      "cell_type": "code",
      "execution_count": 14,
      "metadata": {},
      "outputs": [
        {
          "name": "stdout",
          "output_type": "stream",
          "text": [
            "         24047 function calls in 2.505 seconds\n",
            "\n",
            "   Ordered by: cumulative time\n",
            "\n",
            "   ncalls  tottime  percall  cumtime  percall filename:lineno(function)\n",
            "        2    0.000    0.000    2.505    1.252 c:\\python372_x64\\lib\\site-packages\\IPython\\core\\interactiveshell.py:3293(run_code)\n",
            "        2    0.000    0.000    2.505    1.252 {built-in method builtins.exec}\n",
            "        1    0.092    0.092    2.505    2.505 <ipython-input-50-997a7e374f11>:6(<module>)\n",
            "     1000    0.002    0.000    1.221    0.001 <ipython-input-49-2fd5204eb0f7>:21(gini2)\n",
            "     1000    0.002    0.000    1.103    0.001 <ipython-input-46-25d64f007e27>:15(gini_faster)\n",
            "     1000    0.695    0.001    0.696    0.001 <ipython-input-37-6d8b3d4c048c>:9(_gini_cumsum)\n",
            "     1000    0.001    0.000    0.684    0.001 <ipython-input-49-2fd5204eb0f7>:15(_gini_cumsum2)\n",
            "     1000    0.368    0.000    0.368    0.000 <ipython-input-37-6d8b3d4c048c>:19(_gini_final)\n",
            "     1000    0.349    0.000    0.349    0.000 <ipython-input-49-2fd5204eb0f7>:1(_gini_cumsum2a)\n",
            "     1000    0.333    0.000    0.333    0.000 <ipython-input-49-2fd5204eb0f7>:8(_gini_cumsum2b)\n",
            "     2000    0.002    0.000    0.314    0.000 <ipython-input-37-6d8b3d4c048c>:5(_gini_init)\n",
            "     2000    0.312    0.000    0.312    0.000 <ipython-input-37-6d8b3d4c048c>:6(<listcomp>)\n",
            "     1000    0.232    0.000    0.233    0.000 <ipython-input-46-25d64f007e27>:1(_gini_final_faster)\n",
            "     1000    0.045    0.000    0.045    0.000 <ipython-input-50-997a7e374f11>:7(<listcomp>)\n",
            "     1000    0.043    0.000    0.043    0.000 <ipython-input-50-997a7e374f11>:8(<listcomp>)\n",
            "     2000    0.009    0.000    0.025    0.000 <ipython-input-37-6d8b3d4c048c>:1(_gini_sort)\n",
            "     2000    0.017    0.000    0.017    0.000 {built-in method builtins.sorted}\n",
            "     6000    0.001    0.000    0.001    0.000 {built-in method builtins.len}\n",
            "        2    0.000    0.000    0.000    0.000 c:\\python372_x64\\lib\\codeop.py:132(__call__)\n",
            "        2    0.000    0.000    0.000    0.000 {built-in method builtins.compile}\n",
            "        2    0.000    0.000    0.000    0.000 c:\\python372_x64\\lib\\contextlib.py:237(helper)\n",
            "        2    0.000    0.000    0.000    0.000 c:\\python372_x64\\lib\\contextlib.py:107(__enter__)\n",
            "        4    0.000    0.000    0.000    0.000 {built-in method builtins.next}\n",
            "        2    0.000    0.000    0.000    0.000 c:\\python372_x64\\lib\\contextlib.py:116(__exit__)\n",
            "        2    0.000    0.000    0.000    0.000 c:\\python372_x64\\lib\\contextlib.py:81(__init__)\n",
            "        2    0.000    0.000    0.000    0.000 c:\\python372_x64\\lib\\site-packages\\IPython\\core\\interactiveshell.py:117(<lambda>)\n",
            "        4    0.000    0.000    0.000    0.000 {built-in method builtins.getattr}\n",
            "        4    0.000    0.000    0.000    0.000 c:\\python372_x64\\lib\\site-packages\\IPython\\core\\compilerop.py:138(extra_flags)\n",
            "        2    0.000    0.000    0.000    0.000 c:\\python372_x64\\lib\\site-packages\\IPython\\core\\hooks.py:103(__call__)\n",
            "        2    0.000    0.000    0.000    0.000 c:\\python372_x64\\lib\\site-packages\\traitlets\\traitlets.py:545(__get__)\n",
            "        1    0.000    0.000    0.000    0.000 <ipython-input-50-997a7e374f11>:10(<module>)\n",
            "        2    0.000    0.000    0.000    0.000 c:\\python372_x64\\lib\\site-packages\\traitlets\\traitlets.py:526(get)\n",
            "        2    0.000    0.000    0.000    0.000 c:\\python372_x64\\lib\\site-packages\\IPython\\utils\\ipstruct.py:125(__getattr__)\n",
            "        2    0.000    0.000    0.000    0.000 c:\\python372_x64\\lib\\site-packages\\IPython\\core\\interactiveshell.py:1276(user_global_ns)\n",
            "        2    0.000    0.000    0.000    0.000 c:\\python372_x64\\lib\\site-packages\\IPython\\core\\hooks.py:168(pre_run_code_hook)\n",
            "        2    0.000    0.000    0.000    0.000 c:\\python372_x64\\lib\\site-packages\\IPython\\core\\interactiveshell.py:3235(compare)\n",
            "        1    0.000    0.000    0.000    0.000 {method 'disable' of '_lsprof.Profiler' objects}\n",
            "\n",
            "\n",
            "\n"
          ]
        }
      ],
      "source": [
        "import cProfile, pstats, io\n",
        "from pstats import SortKey\n",
        "pr = cProfile.Profile()\n",
        "pr.enable()\n",
        "\n",
        "for i in range(1000):\n",
        "    gini2([1 for i in range(1000)])\n",
        "    gini_faster([1 for i in range(1000)])\n",
        "\n",
        "pr.disable()\n",
        "s = io.StringIO()\n",
        "sortby = SortKey.CUMULATIVE\n",
        "ps = pstats.Stats(pr, stream=s).sort_stats(sortby)\n",
        "ps.print_stats()\n",
        "print(s.getvalue())"
      ]
    },
    {
      "cell_type": "markdown",
      "metadata": {},
      "source": [
        "Elles sont aussi rapides l'une que l'autre. On peut n\u00e9anmoins en acc\u00e9l\u00e9rer une."
      ]
    },
    {
      "cell_type": "code",
      "execution_count": 15,
      "metadata": {},
      "outputs": [
        {
          "data": {
            "text/plain": [
              "(0.5, 0.9)"
            ]
          },
          "execution_count": 16,
          "metadata": {},
          "output_type": "execute_result"
        }
      ],
      "source": [
        "def _gini_cumsum3b(couples):\n",
        "    total0 = couples[-1][0]\n",
        "    total1 = couples[-1][1]\n",
        "    for i in range(0, len(couples)):\n",
        "        couples[i][0] /= total0\n",
        "        couples[i][1] /= total1\n",
        "    return couples\n",
        "\n",
        "\n",
        "def _gini_cumsum3(couples):\n",
        "    _gini_cumsum2a(couples)\n",
        "    _gini_cumsum3b(couples)\n",
        "    return couples\n",
        "\n",
        "\n",
        "def gini3(Y):\n",
        "    Y = _gini_sort(Y)\n",
        "    couples = _gini_init(Y)\n",
        "    couples = _gini_cumsum3(couples)\n",
        "    return _gini_final(couples)\n",
        "\n",
        "\n",
        "gini2([1, 1, 1, 1, 1]), gini2([0, 0, 0, 0, 100000])"
      ]
    },
    {
      "cell_type": "code",
      "execution_count": 16,
      "metadata": {},
      "outputs": [
        {
          "name": "stdout",
          "output_type": "stream",
          "text": [
            "         26047 function calls in 2.702 seconds\n",
            "\n",
            "   Ordered by: cumulative time\n",
            "\n",
            "   ncalls  tottime  percall  cumtime  percall filename:lineno(function)\n",
            "        2    0.000    0.000    2.702    1.351 c:\\python372_x64\\lib\\site-packages\\IPython\\core\\interactiveshell.py:3293(run_code)\n",
            "        2    0.000    0.000    2.702    1.351 {built-in method builtins.exec}\n",
            "        1    0.096    0.096    2.702    2.702 <ipython-input-52-5ce2791feae5>:6(<module>)\n",
            "     1000    0.002    0.000    1.316    0.001 <ipython-input-49-2fd5204eb0f7>:21(gini2)\n",
            "     1000    0.002    0.000    1.200    0.001 <ipython-input-51-492a2c865fd9>:16(gini3)\n",
            "     2000    0.775    0.000    0.776    0.000 <ipython-input-37-6d8b3d4c048c>:19(_gini_final)\n",
            "     2000    0.745    0.000    0.745    0.000 <ipython-input-49-2fd5204eb0f7>:1(_gini_cumsum2a)\n",
            "     1000    0.001    0.000    0.742    0.001 <ipython-input-49-2fd5204eb0f7>:15(_gini_cumsum2)\n",
            "     1000    0.001    0.000    0.636    0.001 <ipython-input-51-492a2c865fd9>:10(_gini_cumsum3)\n",
            "     1000    0.364    0.000    0.364    0.000 <ipython-input-49-2fd5204eb0f7>:8(_gini_cumsum2b)\n",
            "     2000    0.002    0.000    0.330    0.000 <ipython-input-37-6d8b3d4c048c>:5(_gini_init)\n",
            "     2000    0.328    0.000    0.328    0.000 <ipython-input-37-6d8b3d4c048c>:6(<listcomp>)\n",
            "     1000    0.266    0.000    0.266    0.000 <ipython-input-51-492a2c865fd9>:1(_gini_cumsum3b)\n",
            "     1000    0.046    0.000    0.046    0.000 <ipython-input-52-5ce2791feae5>:8(<listcomp>)\n",
            "     1000    0.046    0.000    0.046    0.000 <ipython-input-52-5ce2791feae5>:7(<listcomp>)\n",
            "     2000    0.009    0.000    0.026    0.000 <ipython-input-37-6d8b3d4c048c>:1(_gini_sort)\n",
            "     2000    0.017    0.000    0.017    0.000 {built-in method builtins.sorted}\n",
            "     6000    0.001    0.000    0.001    0.000 {built-in method builtins.len}\n",
            "        2    0.000    0.000    0.000    0.000 c:\\python372_x64\\lib\\codeop.py:132(__call__)\n",
            "        2    0.000    0.000    0.000    0.000 {built-in method builtins.compile}\n",
            "        2    0.000    0.000    0.000    0.000 c:\\python372_x64\\lib\\contextlib.py:237(helper)\n",
            "        2    0.000    0.000    0.000    0.000 c:\\python372_x64\\lib\\contextlib.py:81(__init__)\n",
            "        2    0.000    0.000    0.000    0.000 c:\\python372_x64\\lib\\contextlib.py:107(__enter__)\n",
            "        4    0.000    0.000    0.000    0.000 {built-in method builtins.next}\n",
            "        2    0.000    0.000    0.000    0.000 c:\\python372_x64\\lib\\contextlib.py:116(__exit__)\n",
            "        2    0.000    0.000    0.000    0.000 c:\\python372_x64\\lib\\site-packages\\IPython\\core\\interactiveshell.py:117(<lambda>)\n",
            "        4    0.000    0.000    0.000    0.000 c:\\python372_x64\\lib\\site-packages\\IPython\\core\\compilerop.py:138(extra_flags)\n",
            "        4    0.000    0.000    0.000    0.000 {built-in method builtins.getattr}\n",
            "        2    0.000    0.000    0.000    0.000 c:\\python372_x64\\lib\\site-packages\\IPython\\core\\hooks.py:103(__call__)\n",
            "        1    0.000    0.000    0.000    0.000 <ipython-input-52-5ce2791feae5>:10(<module>)\n",
            "        2    0.000    0.000    0.000    0.000 c:\\python372_x64\\lib\\site-packages\\traitlets\\traitlets.py:545(__get__)\n",
            "        2    0.000    0.000    0.000    0.000 c:\\python372_x64\\lib\\site-packages\\IPython\\utils\\ipstruct.py:125(__getattr__)\n",
            "        2    0.000    0.000    0.000    0.000 c:\\python372_x64\\lib\\site-packages\\traitlets\\traitlets.py:526(get)\n",
            "        2    0.000    0.000    0.000    0.000 c:\\python372_x64\\lib\\site-packages\\IPython\\core\\interactiveshell.py:1276(user_global_ns)\n",
            "        2    0.000    0.000    0.000    0.000 c:\\python372_x64\\lib\\site-packages\\IPython\\core\\interactiveshell.py:3235(compare)\n",
            "        2    0.000    0.000    0.000    0.000 c:\\python372_x64\\lib\\site-packages\\IPython\\core\\hooks.py:168(pre_run_code_hook)\n",
            "        1    0.000    0.000    0.000    0.000 {method 'disable' of '_lsprof.Profiler' objects}\n",
            "\n",
            "\n",
            "\n"
          ]
        }
      ],
      "source": [
        "import cProfile, pstats, io\n",
        "from pstats import SortKey\n",
        "pr = cProfile.Profile()\n",
        "pr.enable()\n",
        "\n",
        "for i in range(1000):\n",
        "    gini2([1 for i in range(1000)])\n",
        "    gini3([1 for i in range(1000)])\n",
        "\n",
        "pr.disable()\n",
        "s = io.StringIO()\n",
        "sortby = SortKey.CUMULATIVE\n",
        "ps = pstats.Stats(pr, stream=s).sort_stats(sortby)\n",
        "ps.print_stats()\n",
        "print(s.getvalue())"
      ]
    },
    {
      "cell_type": "markdown",
      "metadata": {},
      "source": [
        "C'est mieux m\u00eame si l'am\u00e9lioration ne para\u00eet pas n\u00e9cessairement significative par rapport au temps total, le r\u00e9sultat l'est si on regarde le temps fonction par fonction."
      ]
    },
    {
      "cell_type": "code",
      "execution_count": 17,
      "metadata": {},
      "outputs": [],
      "source": []
    }
  ],
  "metadata": {
    "kernelspec": {
      "display_name": "Python 3",
      "language": "python",
      "name": "python3"
    },
    "language_info": {
      "codemirror_mode": {
        "name": "ipython",
        "version": 3
      },
      "file_extension": ".py",
      "mimetype": "text/x-python",
      "name": "python",
      "nbconvert_exporter": "python",
      "pygments_lexer": "ipython3",
      "version": "3.7.2"
    }
  },
  "nbformat": 4,
  "nbformat_minor": 1
}