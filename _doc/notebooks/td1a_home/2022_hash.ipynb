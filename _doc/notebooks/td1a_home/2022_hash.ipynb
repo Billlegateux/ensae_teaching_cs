{
  "cells": [
    {
      "cell_type": "markdown",
      "id": "61151cb3",
      "metadata": {},
      "source": [
        "# R\u00e9partition, table de hashage\n",
        "\n",
        "Il est facile de r\u00e9partir des \u00e9l\u00e8ves en quatre groupe apr\u00e8s les avoir tri\u00e9s par ordre croissant, les \u00e9l\u00e8ves dont les noms de famille commencent par *A* dans le premier groupe et ainsi de suite... Cette r\u00e9partition peut poser un probl\u00e8me \u00e9thique parfois. \n",
        "On souhaite \u00e9crire une fonction de r\u00e9partition qui affecte les \u00e9tudiants dans un groupe parmi quatre :\n",
        "\n",
        "* Cette fonction prend comme entr\u00e9e le nom et le pr\u00e9nom.\n",
        "* Le r\u00e9sultat ne d\u00e9pend pas des autres noms pr\u00e9sents dans la classe.\n",
        "* Les groupes sont \u00e0 peu pr\u00e8s de taille identique."
      ]
    },
    {
      "cell_type": "code",
      "execution_count": 1,
      "id": "524109c6",
      "metadata": {},
      "outputs": [
        {
          "data": {
            "text/html": [
              "<div id=\"my_id_menu_nb\">run previous cell, wait for 2 seconds</div>\n",
              "<script>\n",
              "function repeat_indent_string(n){\n",
              "    var a = \"\" ;\n",
              "    for ( ; n > 0 ; --n)\n",
              "        a += \"    \";\n",
              "    return a;\n",
              "}\n",
              "// look up into all sections and builds an automated menu //\n",
              "var update_menu_string = function(begin, lfirst, llast, sformat, send, keep_item, begin_format, end_format) {\n",
              "    var anchors = document.getElementsByClassName(\"section\");\n",
              "    if (anchors.length == 0) {\n",
              "        anchors = document.getElementsByClassName(\"text_cell_render rendered_html\");\n",
              "    }\n",
              "    var i,t;\n",
              "    var text_menu = begin;\n",
              "    var text_memo = \"<pre>\\nlength:\" + anchors.length + \"\\n\";\n",
              "    var ind = \"\";\n",
              "    var memo_level = 1;\n",
              "    var href;\n",
              "    var tags = [];\n",
              "    var main_item = 0;\n",
              "    var format_open = 0;\n",
              "    for (i = 0; i <= llast; i++)\n",
              "        tags.push(\"h\" + i);\n",
              "\n",
              "    for (i = 0; i < anchors.length; i++) {\n",
              "        text_memo += \"**\" + anchors[i].id + \"--\\n\";\n",
              "\n",
              "        var child = null;\n",
              "        for(t = 0; t < tags.length; t++) {\n",
              "            var r = anchors[i].getElementsByTagName(tags[t]);\n",
              "            if (r.length > 0) {\n",
              "child = r[0];\n",
              "break;\n",
              "            }\n",
              "        }\n",
              "        if (child == null) {\n",
              "            text_memo += \"null\\n\";\n",
              "            continue;\n",
              "        }\n",
              "        if (anchors[i].hasAttribute(\"id\")) {\n",
              "            // when converted in RST\n",
              "            href = anchors[i].id;\n",
              "            text_memo += \"#1-\" + href;\n",
              "            // passer \u00e0 child suivant (le chercher)\n",
              "        }\n",
              "        else if (child.hasAttribute(\"id\")) {\n",
              "            // in a notebook\n",
              "            href = child.id;\n",
              "            text_memo += \"#2-\" + href;\n",
              "        }\n",
              "        else {\n",
              "            text_memo += \"#3-\" + \"*\" + \"\\n\";\n",
              "            continue;\n",
              "        }\n",
              "        var title = child.textContent;\n",
              "        var level = parseInt(child.tagName.substring(1,2));\n",
              "\n",
              "        text_memo += \"--\" + level + \"?\" + lfirst + \"--\" + title + \"\\n\";\n",
              "\n",
              "        if ((level < lfirst) || (level > llast)) {\n",
              "            continue ;\n",
              "        }\n",
              "        if (title.endsWith('\u00b6')) {\n",
              "            title = title.substring(0,title.length-1).replace(\"<\", \"&lt;\")\n",
              "         .replace(\">\", \"&gt;\").replace(\"&\", \"&amp;\");\n",
              "        }\n",
              "        if (title.length == 0) {\n",
              "            continue;\n",
              "        }\n",
              "\n",
              "        while (level < memo_level) {\n",
              "            text_menu += end_format + \"</ul>\\n\";\n",
              "            format_open -= 1;\n",
              "            memo_level -= 1;\n",
              "        }\n",
              "        if (level == lfirst) {\n",
              "            main_item += 1;\n",
              "        }\n",
              "        if (keep_item != -1 && main_item != keep_item + 1) {\n",
              "            // alert(main_item + \" - \" + level + \" - \" + keep_item);\n",
              "            continue;\n",
              "        }\n",
              "        while (level > memo_level) {\n",
              "            text_menu += \"<ul>\\n\";\n",
              "            memo_level += 1;\n",
              "        }\n",
              "        text_menu += repeat_indent_string(level-2);\n",
              "        text_menu += begin_format + sformat.replace(\"__HREF__\", href).replace(\"__TITLE__\", title);\n",
              "        format_open += 1;\n",
              "    }\n",
              "    while (1 < memo_level) {\n",
              "        text_menu += end_format + \"</ul>\\n\";\n",
              "        memo_level -= 1;\n",
              "        format_open -= 1;\n",
              "    }\n",
              "    text_menu += send;\n",
              "    //text_menu += \"\\n\" + text_memo;\n",
              "\n",
              "    while (format_open > 0) {\n",
              "        text_menu += end_format;\n",
              "        format_open -= 1;\n",
              "    }\n",
              "    return text_menu;\n",
              "};\n",
              "var update_menu = function() {\n",
              "    var sbegin = \"\";\n",
              "    var sformat = '<a href=\"#__HREF__\">__TITLE__</a>';\n",
              "    var send = \"\";\n",
              "    var begin_format = '<li>';\n",
              "    var end_format = '</li>';\n",
              "    var keep_item = -1;\n",
              "    var text_menu = update_menu_string(sbegin, 2, 4, sformat, send, keep_item,\n",
              "       begin_format, end_format);\n",
              "    var menu = document.getElementById(\"my_id_menu_nb\");\n",
              "    menu.innerHTML=text_menu;\n",
              "};\n",
              "window.setTimeout(update_menu,2000);\n",
              "            </script>"
            ],
            "text/plain": [
              "<IPython.core.display.HTML object>"
            ]
          },
          "execution_count": 2,
          "metadata": {},
          "output_type": "execute_result"
        }
      ],
      "source": [
        "from jyquickhelper import add_notebook_menu\n",
        "add_notebook_menu()"
      ]
    },
    {
      "cell_type": "markdown",
      "id": "de82ac75",
      "metadata": {},
      "source": [
        "## Q1 - premi\u00e8re lettre\n",
        "\n",
        "Ecrire une fonction qui retourne la distribution la premi\u00e8re lettre de chaque personnage. Est-ce une distribution uniforme ?"
      ]
    },
    {
      "cell_type": "code",
      "execution_count": 2,
      "id": "57c7c276",
      "metadata": {},
      "outputs": [],
      "source": [
        "personnages = \"\"\"\n",
        "Jean Valjean\n",
        "Cosette\n",
        "Fantine\n",
        "Marius Pontmercy\n",
        "Gavroche Th\u00e9nardier\n",
        "Antagonistes\n",
        "Javert\n",
        "Monsieur Th\u00e9nardier\n",
        "Madame Th\u00e9nardier\n",
        "Babet\n",
        "Claquesous\n",
        "Montparnasse\n",
        "Gueulemer\n",
        "Brujon\n",
        "Bamatabois\n",
        "Madame Victurnien\n",
        "Les Amis de l'ABC\n",
        "Enjolras\n",
        "Combeferre\n",
        "Courfeyrac\n",
        "Jean Prouvaire\n",
        "Feuilly\n",
        "Bahorel\n",
        "Lesgle\n",
        "Joly\n",
        "Grantaire\n",
        "Marius Pontmercy\n",
        "Personnages secondaires\n",
        "Amies de Fantine\n",
        "Favourite\n",
        "Dahlia\n",
        "Z\u00e9phine\n",
        "Amis de F\u00e9lix Tholomy\u00e8s\n",
        "Listolier\n",
        "Fameuil\n",
        "Blachevelle\n",
        "Autres\n",
        "Fauchelevent\n",
        "Mr Mabeuf\n",
        "Azelma Th\u00e9nardier\n",
        "Toussaint\n",
        "Luc-Esprit Gillenormand\n",
        "Georges Pontmercy\n",
        "\u00c9v\u00eaque Myriel\n",
        "Baptistine Myriel\n",
        "Mme Magloire\n",
        "Petit-Gervais\n",
        "\"\"\""
      ]
    },
    {
      "cell_type": "markdown",
      "id": "b82c6e09",
      "metadata": {},
      "source": [
        "## Q2 - somme\n",
        "\n",
        "On \u00e9crit une fonction qui fait la somme des lettres (avec la fonction [ord](https://docs.python.org/3/library/functions.html?highlight=ord#ord) par exemple). On calcule ensuite la distribution du r\u00e9sultat modulo 26. Est-ce uniforme ?"
      ]
    },
    {
      "cell_type": "code",
      "execution_count": 3,
      "id": "d5de2740",
      "metadata": {},
      "outputs": [],
      "source": []
    },
    {
      "cell_type": "markdown",
      "id": "efceff56",
      "metadata": {},
      "source": [
        "## Q3 - pseudo g\u00e9n\u00e9rateur\n",
        "\n",
        "On s'inspire d'un [g\u00e9n\u00e9rateur congruentiel lin\u00e9aire](https://fr.wikipedia.org/wiki/G%C3%A9n%C3%A9rateur_congruentiel_lin%C3%A9aire).\n",
        "\n",
        "$X_{n+1} = (22695477 X_n + 1) \\mod 2^{32}$ qu'on transforme en $X_{n+1} = (22695477 (X_n + c_n) + 1) \\mod 2^{32}$ o\u00f9 $c_n$ est la n-\u00e9ni\u00e8me lettre du nom du personnage.\n",
        "\n",
        "On prendra comme r\u00e9sultat le dernier nombre de la s\u00e9rie $X_n >> 16$, le tout module 26. On calcule de nouveau la distribution."
      ]
    },
    {
      "cell_type": "code",
      "execution_count": 4,
      "id": "a27e2e08",
      "metadata": {},
      "outputs": [],
      "source": []
    },
    {
      "cell_type": "markdown",
      "id": "0d09fd46",
      "metadata": {},
      "source": [
        "## Q4 - hash\n",
        "\n",
        "On utilise un algorithme hashage impl\u00e9ment\u00e9 par la librairie [hashlib](https://docs.python.org/3/library/hashlib.html). On transforme chaque nom des personnages et on calcule la distribution de la premi\u00e8re lettre du *hash* obtenu."
      ]
    },
    {
      "cell_type": "code",
      "execution_count": 5,
      "id": "f5a37c91",
      "metadata": {},
      "outputs": [],
      "source": []
    },
    {
      "cell_type": "markdown",
      "id": "dab17b45",
      "metadata": {},
      "source": [
        "## Q5 - light hash\n",
        "\n",
        "On s'inspire de la page [What hash algorithm does Python's dictionary mapping use?](https://stackoverflow.com/questions/8997894/what-hash-algorithm-does-pythons-dictionary-mapping-use).\n",
        "\n",
        "```python\n",
        "def hash(string):\n",
        "    x = string[0] << 7\n",
        "    for chr in string[1:]:\n",
        "        x = ((1000003 * x) ^ chr) & (1<<32)\n",
        "    return x\n",
        "```\n",
        "\n",
        "De nouveau calculer la distribution du hash obtenu."
      ]
    },
    {
      "cell_type": "code",
      "execution_count": 6,
      "id": "0d30cd10",
      "metadata": {},
      "outputs": [],
      "source": []
    },
    {
      "cell_type": "markdown",
      "id": "8ce85c58",
      "metadata": {},
      "source": [
        "## Q6 - r\u00e9partition\n",
        "\n",
        "Imagine une fa\u00e7on de r\u00e9partir des \u00e9l\u00e8ves en 4 groupes."
      ]
    },
    {
      "cell_type": "code",
      "execution_count": 7,
      "id": "1ae07b3f",
      "metadata": {},
      "outputs": [],
      "source": []
    },
    {
      "cell_type": "markdown",
      "id": "8f780015",
      "metadata": {},
      "source": [
        "## Q7 - dictionnaire\n",
        "\n",
        "Les dictionnaires en python s'appuient sur une table de hashage et non sur un arbre de recherche dichotomique (voir aussi son code : [taille de hash](https://github.com/python/cpython/blob/main/Objects/dictobject.c#L38)). Quelle exp\u00e9rience pourrait-on mener pour s'assurer ? Le module [timeit](https://docs.python.org/3/library/timeit.html) pourrait vous mettre sur la voie."
      ]
    },
    {
      "cell_type": "markdown",
      "id": "2ecc22f8",
      "metadata": {},
      "source": []
    },
    {
      "cell_type": "code",
      "execution_count": 8,
      "id": "738f6e78",
      "metadata": {},
      "outputs": [],
      "source": []
    }
  ],
  "metadata": {
    "kernelspec": {
      "display_name": "Python 3 (ipykernel)",
      "language": "python",
      "name": "python3"
    },
    "language_info": {
      "codemirror_mode": {
        "name": "ipython",
        "version": 3
      },
      "file_extension": ".py",
      "mimetype": "text/x-python",
      "name": "python",
      "nbconvert_exporter": "python",
      "pygments_lexer": "ipython3",
      "version": "3.10.5"
    }
  },
  "nbformat": 4,
  "nbformat_minor": 5
}