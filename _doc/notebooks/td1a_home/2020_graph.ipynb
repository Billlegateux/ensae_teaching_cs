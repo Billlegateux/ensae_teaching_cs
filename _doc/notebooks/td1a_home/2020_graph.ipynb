{
  "cells": [
    {
      "cell_type": "markdown",
      "metadata": {},
      "source": [
        "# Algo - Graphe - Composantes connexes\n",
        "\n",
        "Les graphes sont un outil tr\u00e8s utilis\u00e9 pour mod\u00e9liser un ensemble de relations entre personnes, entre produits, entre consommateurs. Les utilisations sont nombreuses, syst\u00e8mes de recommandations, mod\u00e9lisation de la propagation d'une \u00e9pid\u00e9mie, mod\u00e9lisation de flux, plus court chemin dans un graphe.\n",
        "\n",
        "Un graphe est d\u00e9crit par un ensemble *V* de noeuds (ou *vertices* en anglais) et un ensemble d'arcs (ou *edges* en anglais) reliant deux noeuds entre eux. Chaque arc peut \u00eatre orient\u00e9 - un seul chemin d'une extr\u00e9mit\u00e9 \u00e0 l'autre est possible - ou pas.\n",
        "\n",
        "L'algorithme propos\u00e9 dans ce notebook calcule les composantes connexes dans un graphe non orient\u00e9. Un [graphe connexe](https://fr.wikipedia.org/wiki/Graphe_connexe) v\u00e9rifie la propri\u00e9t\u00e9 suivante : pour tout couple de noeuds, il existe un chemin - une s\u00e9quence d'arcs - reliant ces deux noeuds. Si un graphe est connexe, il contient une seule composante connexe, s'il ne l'est pas, alors on peut le diviser en sous-graphe connexe de telle sorte qu'il n'existe aucun arc reliant deux noeuds appartenant \u00e0 des sous-graphes distincts.\n",
        "\n",
        "Un graphe est enti\u00e8rement d\u00e9fini par sa [matrice d'adjacence](https://fr.wikipedia.org/wiki/Matrice_d%27adjacence) $M=(m_{ij})$ : $m_{ij} = 1$ si les noeuds $V_i$  et $V_j$ sont reli\u00e9s entre eux, 0 sinon. Si le graphe est orient\u00e9 alors $m_{ij} = m_{ji}$ : la matrice est sym\u00e9trique."
      ]
    },
    {
      "cell_type": "code",
      "execution_count": 1,
      "metadata": {},
      "outputs": [
        {
          "data": {
            "text/html": [
              "<div id=\"my_id_menu_nb\">run previous cell, wait for 2 seconds</div>\n",
              "<script>\n",
              "function repeat_indent_string(n){\n",
              "    var a = \"\" ;\n",
              "    for ( ; n > 0 ; --n)\n",
              "        a += \"    \";\n",
              "    return a;\n",
              "}\n",
              "// look up into all sections and builds an automated menu //\n",
              "var update_menu_string = function(begin, lfirst, llast, sformat, send, keep_item, begin_format, end_format) {\n",
              "    var anchors = document.getElementsByClassName(\"section\");\n",
              "    if (anchors.length == 0) {\n",
              "        anchors = document.getElementsByClassName(\"text_cell_render rendered_html\");\n",
              "    }\n",
              "    var i,t;\n",
              "    var text_menu = begin;\n",
              "    var text_memo = \"<pre>\\nlength:\" + anchors.length + \"\\n\";\n",
              "    var ind = \"\";\n",
              "    var memo_level = 1;\n",
              "    var href;\n",
              "    var tags = [];\n",
              "    var main_item = 0;\n",
              "    var format_open = 0;\n",
              "    for (i = 0; i <= llast; i++)\n",
              "        tags.push(\"h\" + i);\n",
              "\n",
              "    for (i = 0; i < anchors.length; i++) {\n",
              "        text_memo += \"**\" + anchors[i].id + \"--\\n\";\n",
              "\n",
              "        var child = null;\n",
              "        for(t = 0; t < tags.length; t++) {\n",
              "            var r = anchors[i].getElementsByTagName(tags[t]);\n",
              "            if (r.length > 0) {\n",
              "child = r[0];\n",
              "break;\n",
              "            }\n",
              "        }\n",
              "        if (child == null) {\n",
              "            text_memo += \"null\\n\";\n",
              "            continue;\n",
              "        }\n",
              "        if (anchors[i].hasAttribute(\"id\")) {\n",
              "            // when converted in RST\n",
              "            href = anchors[i].id;\n",
              "            text_memo += \"#1-\" + href;\n",
              "            // passer \u00e0 child suivant (le chercher)\n",
              "        }\n",
              "        else if (child.hasAttribute(\"id\")) {\n",
              "            // in a notebook\n",
              "            href = child.id;\n",
              "            text_memo += \"#2-\" + href;\n",
              "        }\n",
              "        else {\n",
              "            text_memo += \"#3-\" + \"*\" + \"\\n\";\n",
              "            continue;\n",
              "        }\n",
              "        var title = child.textContent;\n",
              "        var level = parseInt(child.tagName.substring(1,2));\n",
              "\n",
              "        text_memo += \"--\" + level + \"?\" + lfirst + \"--\" + title + \"\\n\";\n",
              "\n",
              "        if ((level < lfirst) || (level > llast)) {\n",
              "            continue ;\n",
              "        }\n",
              "        if (title.endsWith('\u00b6')) {\n",
              "            title = title.substring(0,title.length-1).replace(\"<\", \"&lt;\")\n",
              "         .replace(\">\", \"&gt;\").replace(\"&\", \"&amp;\");\n",
              "        }\n",
              "        if (title.length == 0) {\n",
              "            continue;\n",
              "        }\n",
              "\n",
              "        while (level < memo_level) {\n",
              "            text_menu += end_format + \"</ul>\\n\";\n",
              "            format_open -= 1;\n",
              "            memo_level -= 1;\n",
              "        }\n",
              "        if (level == lfirst) {\n",
              "            main_item += 1;\n",
              "        }\n",
              "        if (keep_item != -1 && main_item != keep_item + 1) {\n",
              "            // alert(main_item + \" - \" + level + \" - \" + keep_item);\n",
              "            continue;\n",
              "        }\n",
              "        while (level > memo_level) {\n",
              "            text_menu += \"<ul>\\n\";\n",
              "            memo_level += 1;\n",
              "        }\n",
              "        text_menu += repeat_indent_string(level-2);\n",
              "        text_menu += begin_format + sformat.replace(\"__HREF__\", href).replace(\"__TITLE__\", title);\n",
              "        format_open += 1;\n",
              "    }\n",
              "    while (1 < memo_level) {\n",
              "        text_menu += end_format + \"</ul>\\n\";\n",
              "        memo_level -= 1;\n",
              "        format_open -= 1;\n",
              "    }\n",
              "    text_menu += send;\n",
              "    //text_menu += \"\\n\" + text_memo;\n",
              "\n",
              "    while (format_open > 0) {\n",
              "        text_menu += end_format;\n",
              "        format_open -= 1;\n",
              "    }\n",
              "    return text_menu;\n",
              "};\n",
              "var update_menu = function() {\n",
              "    var sbegin = \"\";\n",
              "    var sformat = '<a href=\"#__HREF__\">__TITLE__</a>';\n",
              "    var send = \"\";\n",
              "    var begin_format = '<li>';\n",
              "    var end_format = '</li>';\n",
              "    var keep_item = -1;\n",
              "    var text_menu = update_menu_string(sbegin, 2, 4, sformat, send, keep_item,\n",
              "       begin_format, end_format);\n",
              "    var menu = document.getElementById(\"my_id_menu_nb\");\n",
              "    menu.innerHTML=text_menu;\n",
              "};\n",
              "window.setTimeout(update_menu,2000);\n",
              "            </script>"
            ],
            "text/plain": [
              "<IPython.core.display.HTML object>"
            ]
          },
          "execution_count": 2,
          "metadata": {},
          "output_type": "execute_result"
        }
      ],
      "source": [
        "from jyquickhelper import add_notebook_menu\n",
        "add_notebook_menu()"
      ]
    },
    {
      "cell_type": "code",
      "execution_count": 2,
      "metadata": {},
      "outputs": [],
      "source": [
        "%matplotlib inline"
      ]
    },
    {
      "cell_type": "markdown",
      "metadata": {},
      "source": [
        "## Enonc\u00e9\n",
        "\n"
      ]
    },
    {
      "cell_type": "markdown",
      "metadata": {},
      "source": [
        "### Q1 : construire une matrice d'adjacence sym\u00e9trique al\u00e9atoire\n"
      ]
    },
    {
      "cell_type": "code",
      "execution_count": 3,
      "metadata": {},
      "outputs": [],
      "source": [
        "def random_adjacency_matrix(n, alpha=0.3):\n",
        "    # alpha est le taux de remplissage, plus il est faible, plus la probabilit\u00e9\n",
        "    # d'avoir plusieurs composantes connexes est grande.\n",
        "    # ...\n",
        "    return None"
      ]
    },
    {
      "cell_type": "markdown",
      "metadata": {},
      "source": [
        "### Q2 : calculer les valeurs propres et les trier par ordre croissant\n",
        "\n",
        "Il faudra recommencer avec plusieurs valeurs de *alpha* diff\u00e9rentes pour avoir une id\u00e9e de ce qu'il se passe."
      ]
    },
    {
      "cell_type": "code",
      "execution_count": 4,
      "metadata": {},
      "outputs": [],
      "source": []
    },
    {
      "cell_type": "markdown",
      "metadata": {},
      "source": [
        "### Q3 : que fait l'algorithme suivant\n",
        "\n",
        "On cr\u00e9e un tableau ``T=list(range(n))`` o\u00f9 ``n`` est le nombre de noeuds.\n",
        "\n",
        "Pour tous les arcs $V=(E_i, E_j)$ faire ``T[i] = T[j] = min(T[i], T[j])``.\n",
        "\n",
        "Recommencer tant qu'une valeur de ``T`` est mise \u00e0 jour."
      ]
    },
    {
      "cell_type": "code",
      "execution_count": 5,
      "metadata": {},
      "outputs": [],
      "source": []
    },
    {
      "cell_type": "markdown",
      "metadata": {},
      "source": [
        "### Q4 : construire un algorithme qui retourne les composantes connexes d'un graphe\n"
      ]
    },
    {
      "cell_type": "code",
      "execution_count": 6,
      "metadata": {},
      "outputs": [],
      "source": []
    },
    {
      "cell_type": "markdown",
      "metadata": {},
      "source": [
        "## R\u00e9ponses"
      ]
    },
    {
      "cell_type": "markdown",
      "metadata": {},
      "source": [
        "### Q1 : construire une matrice d'adjacence sym\u00e9trique al\u00e9atoire\n",
        "\n",
        "On change un peu l'\u00e9nonc\u00e9 et on remplace les valeurs nulles sur la diagonale par l'oppos\u00e9 du degr\u00e9 de chaque noeud. Le degr\u00e9 d'un noeud est le nombre d'arc reli\u00e9 \u00e0 ce noeud. De cette fa\u00e7on, la somme des coefficients sur une ligne est nulle. Donc il existe un vecteur propre associ\u00e9 \u00e0 la valeur propre 0."
      ]
    },
    {
      "cell_type": "code",
      "execution_count": 7,
      "metadata": {},
      "outputs": [
        {
          "data": {
            "text/plain": [
              "array([[-3.,  1.,  0.,  1.,  1.],\n",
              "       [ 1., -2.,  0.,  0.,  1.],\n",
              "       [ 0.,  0., -1.,  1.,  0.],\n",
              "       [ 1.,  0.,  1., -3.,  1.],\n",
              "       [ 1.,  1.,  0.,  1., -3.]])"
            ]
          },
          "execution_count": 8,
          "metadata": {},
          "output_type": "execute_result"
        }
      ],
      "source": [
        "import numpy\n",
        "\n",
        "def random_symmetric_adjacency_matrix(n, alpha=0.3):\n",
        "    rnd = numpy.random.rand(n, n)\n",
        "    rnd = (rnd + rnd.T) / 2  # sym\u00e9trique\n",
        "    rnd2 = rnd.copy()  # copie\n",
        "    rnd2[rnd <= alpha] = 1\n",
        "    rnd2[rnd > alpha] = 0\n",
        "    for i in range(n):\n",
        "        rnd2[i, i] = 0  # 0 sur la diagonale\n",
        "        rnd2[i, i] = - rnd2[i, :].sum()\n",
        "    return rnd2\n",
        "\n",
        "random_symmetric_adjacency_matrix(5, alpha=0.5)"
      ]
    },
    {
      "cell_type": "code",
      "execution_count": 8,
      "metadata": {},
      "outputs": [
        {
          "name": "stderr",
          "output_type": "stream",
          "text": [
            "100%|\u2588\u2588\u2588\u2588\u2588\u2588\u2588\u2588\u2588\u2588| 11/11 [00:01<00:00,  8.77it/s]\n"
          ]
        },
        {
          "data": {
            "image/png": "[encoded data removed]",
            "text/plain": [
              "<Figure size 432x288 with 1 Axes>"
            ]
          },
          "metadata": {
            "needs_background": "light"
          },
          "output_type": "display_data"
        }
      ],
      "source": [
        "from tqdm import tqdm\n",
        "import pandas\n",
        "\n",
        "N = 2000\n",
        "obs = []\n",
        "for alpha in tqdm([0., 0.1, 0.2, 0.3, 0.4, 0.5, 0.6, 0.7, 0.8, 0.9, 1.]):\n",
        "    total_nb1 = 0\n",
        "    for i in range(0, N):\n",
        "        mat = random_symmetric_adjacency_matrix(10, alpha=alpha)\n",
        "        nb1 = (mat.ravel() == 1).sum()\n",
        "        total_nb1 += nb1\n",
        "    obs.append(dict(alpha=alpha, emptyness=total_nb1 / (mat.size - mat.shape[0]) / N))\n",
        "\n",
        "df = pandas.DataFrame(obs)\n",
        "df.plot(x=\"alpha\", y=\"emptyness\", title='proportion de coefficient nuls');"
      ]
    },
    {
      "cell_type": "markdown",
      "metadata": {},
      "source": [
        "### Q2 : calculer les valeurs propres et les trier par ordre croissant"
      ]
    },
    {
      "cell_type": "code",
      "execution_count": 9,
      "metadata": {},
      "outputs": [
        {
          "data": {
            "text/plain": [
              "array([-10.+0.00000000e+00j,   0.+0.00000000e+00j, -10.+0.00000000e+00j,\n",
              "       -10.+0.00000000e+00j, -10.+1.43217089e-15j, -10.-1.43217089e-15j,\n",
              "       -10.+0.00000000e+00j, -10.+0.00000000e+00j, -10.+9.33095071e-16j,\n",
              "       -10.-9.33095071e-16j])"
            ]
          },
          "execution_count": 10,
          "metadata": {},
          "output_type": "execute_result"
        }
      ],
      "source": [
        "w, v = numpy.linalg.eig(mat)\n",
        "w"
      ]
    },
    {
      "cell_type": "code",
      "execution_count": 10,
      "metadata": {},
      "outputs": [
        {
          "data": {
            "text/plain": [
              "1"
            ]
          },
          "execution_count": 11,
          "metadata": {},
          "output_type": "execute_result"
        }
      ],
      "source": [
        "sum(numpy.abs(w) < 1e-7)"
      ]
    },
    {
      "cell_type": "code",
      "execution_count": 11,
      "metadata": {},
      "outputs": [
        {
          "name": "stderr",
          "output_type": "stream",
          "text": [
            "100%|\u2588\u2588\u2588\u2588\u2588\u2588\u2588\u2588\u2588\u2588| 11/11 [00:01<00:00,  7.07it/s]\n"
          ]
        },
        {
          "data": {
            "image/png": "[encoded data removed]",
            "text/plain": [
              "<Figure size 432x288 with 1 Axes>"
            ]
          },
          "metadata": {
            "needs_background": "light"
          },
          "output_type": "display_data"
        }
      ],
      "source": [
        "N = 1000\n",
        "obs = []\n",
        "for alpha in tqdm([0., 0.1, 0.2, 0.3, 0.4, 0.5, 0.6, 0.7, 0.8, 0.9, 1.]):\n",
        "    total_null = 0\n",
        "    for i in range(0, N):\n",
        "        mat = random_symmetric_adjacency_matrix(10, alpha=alpha)\n",
        "        w, v = numpy.linalg.eig(mat)\n",
        "        nb_null = sum(numpy.abs(w) < 1e-7)\n",
        "        total_null += nb_null\n",
        "    obs.append(dict(alpha=alpha, null=total_null / N))\n",
        "\n",
        "df = pandas.DataFrame(obs)\n",
        "df.plot(x=\"alpha\", y=\"null\", title='nombre de valeurs propres nulles');"
      ]
    },
    {
      "cell_type": "markdown",
      "metadata": {},
      "source": [
        "On peut lire ce graphe de plusieurs fa\u00e7ons. Tout d'abord, si `alpha=0`, il n'y a aucun arc et la matrice est nulle, toutes les valeurs propres sont nulles. Si `alpha` est petit, il y a peu de coefficients non nuls et il est impossible de compresser l'information qu'elle contient en une matrice de rang inf\u00e9rieur."
      ]
    },
    {
      "cell_type": "markdown",
      "metadata": {},
      "source": [
        "### Q3 : que fait l'algorithme suivant\n",
        "\n",
        "On cr\u00e9e un tableau ``T=list(range(n))`` o\u00f9 ``n`` est le nombre de noeuds.\n",
        "\n",
        "Pour tous les arcs $V=(E_i, E_j)$ faire ``T[i] = T[j] = min(T[i], T[j])``.\n",
        "\n",
        "Recommencer tant qu'une valeur de ``T`` est mise \u00e0 jour."
      ]
    },
    {
      "cell_type": "code",
      "execution_count": 12,
      "metadata": {},
      "outputs": [
        {
          "data": {
            "text/plain": [
              "array([0, 0, 0, 3, 4, 0, 6, 7, 8, 4])"
            ]
          },
          "execution_count": 13,
          "metadata": {},
          "output_type": "execute_result"
        }
      ],
      "source": [
        "def connex_components(mat):\n",
        "    N = mat.shape[0]\n",
        "    T = numpy.arange(N)\n",
        "    \n",
        "    modifications = True\n",
        "    while modifications:\n",
        "        modifications = False\n",
        "        for i in range(N):\n",
        "            for j in range(i+1, N):\n",
        "                if mat[i, j] == 1 and T[i] != T[j]:\n",
        "                    T[i] = T[j] = min(T[i], T[j])\n",
        "                    modifications = True\n",
        "    return T\n",
        "\n",
        "mat = random_symmetric_adjacency_matrix(10, alpha=0.2)\n",
        "res = connex_components(mat)\n",
        "res"
      ]
    },
    {
      "cell_type": "markdown",
      "metadata": {},
      "source": [
        "Le nombre de composantes connexes correspond au nombre de num\u00e9ro distincts dans le tableau que la fonction retourne."
      ]
    },
    {
      "cell_type": "code",
      "execution_count": 13,
      "metadata": {},
      "outputs": [
        {
          "name": "stderr",
          "output_type": "stream",
          "text": [
            "100%|\u2588\u2588\u2588\u2588\u2588\u2588\u2588\u2588\u2588\u2588| 11/11 [00:00<00:00, 37.84it/s]\n"
          ]
        },
        {
          "data": {
            "image/png": "[encoded data removed]",
            "text/plain": [
              "<Figure size 1008x288 with 2 Axes>"
            ]
          },
          "metadata": {
            "needs_background": "light"
          },
          "output_type": "display_data"
        }
      ],
      "source": [
        "import matplotlib.pyplot as plt\n",
        "\n",
        "N = 100\n",
        "obs = []\n",
        "for alpha in tqdm([0., 0.1, 0.2, 0.3, 0.4, 0.5, 0.6, 0.7, 0.8, 0.9, 1.]):\n",
        "    total_null = 0\n",
        "    total_cnx = 0\n",
        "    for i in range(0, N):\n",
        "        mat = random_symmetric_adjacency_matrix(10, alpha=alpha)\n",
        "        cnx = len(set(connex_components(mat)))\n",
        "        w, v = numpy.linalg.eig(mat)\n",
        "        nb_null = sum(numpy.abs(w) < 1e-7)\n",
        "        total_null += nb_null\n",
        "        total_cnx += cnx\n",
        "    obs.append(dict(alpha=alpha, null=total_null / N, cnx=total_cnx / N))\n",
        "\n",
        "df = pandas.DataFrame(obs)\n",
        "fig, ax = plt.subplots(1, 2, figsize=(14, 4))\n",
        "df.plot(\n",
        "    x=\"alpha\", y=[\"null\", \"cnx\"], ax=ax[0],\n",
        "    title='nombre de valeurs propres nulles\\net nombre de composantes connexes')\n",
        "df.plot(\n",
        "    x=\"null\", y=[\"cnx\"], ax=ax[1],\n",
        "    title='x=valeurs propres nulles\\ny=composantes connexes');"
      ]
    },
    {
      "cell_type": "markdown",
      "metadata": {},
      "source": [
        "Le nombre de composantes connexes semble \u00e9gal au nombre de valeurs propres nulles de la matrice d'adjacence dans laquelle le coefficient sur la diagonale est le degr\u00e9 du noeud."
      ]
    },
    {
      "cell_type": "markdown",
      "metadata": {},
      "source": [
        "### Q4 : construire un algorithme qui retourne les composantes connexes d'un graphe\n",
        "\n",
        "On construit un dictionnaire qui accumule les \u00e9l\u00e9ments dans des listes associ\u00e9s \u00e0 chaque num\u00e9ro de composante connexe."
      ]
    },
    {
      "cell_type": "code",
      "execution_count": 14,
      "metadata": {},
      "outputs": [
        {
          "data": {
            "text/plain": [
              "{0: [0, 3, 5, 6, 7], 1: [1, 4, 9], 2: [2], 8: [8]}"
            ]
          },
          "execution_count": 15,
          "metadata": {},
          "output_type": "execute_result"
        }
      ],
      "source": [
        "def connex_components_indices(mat):\n",
        "    cnx = connex_components(mat)\n",
        "    res = {}\n",
        "    for i, c in enumerate(cnx):\n",
        "        if c not in res:\n",
        "            res[c] = []\n",
        "        res[c].append(i)\n",
        "    return res\n",
        "\n",
        "mat = random_symmetric_adjacency_matrix(10, alpha=0.3)\n",
        "connex_components_indices(mat)"
      ]
    },
    {
      "cell_type": "code",
      "execution_count": 15,
      "metadata": {},
      "outputs": [],
      "source": []
    }
  ],
  "metadata": {
    "kernelspec": {
      "display_name": "Python 3",
      "language": "python",
      "name": "python3"
    },
    "language_info": {
      "codemirror_mode": {
        "name": "ipython",
        "version": 3
      },
      "file_extension": ".py",
      "mimetype": "text/x-python",
      "name": "python",
      "nbconvert_exporter": "python",
      "pygments_lexer": "ipython3",
      "version": "3.7.2"
    }
  },
  "nbformat": 4,
  "nbformat_minor": 2
}