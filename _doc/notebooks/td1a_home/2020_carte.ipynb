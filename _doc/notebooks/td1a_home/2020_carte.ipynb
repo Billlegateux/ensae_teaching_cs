{
  "cells": [
    {
      "cell_type": "markdown",
      "metadata": {},
      "source": [
        "# Tech - carte\n",
        "\n",
        "Faire une carte, c'est toujours compliqu\u00e9. C'est simple jusqu'\u00e0 ce qu'on s'aper\u00e7oive qu'on doit r\u00e9cup\u00e9rer la description des zones administratives d'un pays, fournies parfois dans des coordonn\u00e9es autres que longitude et latitude. Quelques modules utiles :\n",
        "\n",
        "* [cartopy](https://scitools.org.uk/cartopy/docs/latest/) : surcouche de matplotlib pour faire des dessins avec des coordonn\u00e9es g\u00e9ographiques\n",
        "* [bokeh](https://docs.bokeh.org/) : pour tracer des cartes interactives\n",
        "* [pyproj](https://github.com/pyproj4/pyproj) : conversion entre syst\u00e8mes de coordonn\u00e9es\n",
        "* [shapely](https://shapely.readthedocs.io/en/stable/manual.html) : manipuler des polygones g\u00e9ographiques (union, intersection, ...)\n",
        "* [pyshp](https://github.com/GeospatialPython/pyshp) : lire ou \u00e9crire des polygones g\u00e9ographiques\n",
        "* [geopandas](https://geopandas.org/) : manipulation de dataframe avec des coordonn\u00e9es g\u00e9ographiques\n",
        "\n",
        "Quelques notebooks int\u00e9ressants :\n",
        "* [Tracer une carte en Python avec bokeh](http://195-154-200-30.rev.poneytelecom.eu/app/papierstat/helpsphinx/notebooks/enedis_cartes_bokeh.html)\n",
        "* [Tracer une carte en Python](http://195-154-200-30.rev.poneytelecom.eu/app/papierstat/helpsphinx/notebooks/enedis_cartes.html)\n",
        "* [Donn\u00e9es carroy\u00e9es et OpenStreetMap](http://195-154-200-30.rev.poneytelecom.eu/app/papierstat/helpsphinx/notebooks/carte_carreau.html)\n",
        "* [Carte de France avec les d\u00e9partements](http://www.xavierdupre.fr/app/ensae_teaching_cs/helpsphinx3/notebooks/td1a_cenonce_session_12_carte.html)\n",
        "* [Carte de France avec les d\u00e9partements (2)](http://www.xavierdupre.fr/app/actuariat_python/helpsphinx/notebooks/seance6_graphes_correction.html)"
      ]
    },
    {
      "cell_type": "code",
      "execution_count": 1,
      "metadata": {},
      "outputs": [
        {
          "data": {
            "text/html": [
              "<div id=\"my_id_menu_nb\">run previous cell, wait for 2 seconds</div>\n",
              "<script>\n",
              "function repeat_indent_string(n){\n",
              "    var a = \"\" ;\n",
              "    for ( ; n > 0 ; --n)\n",
              "        a += \"    \";\n",
              "    return a;\n",
              "}\n",
              "// look up into all sections and builds an automated menu //\n",
              "var update_menu_string = function(begin, lfirst, llast, sformat, send, keep_item, begin_format, end_format) {\n",
              "    var anchors = document.getElementsByClassName(\"section\");\n",
              "    if (anchors.length == 0) {\n",
              "        anchors = document.getElementsByClassName(\"text_cell_render rendered_html\");\n",
              "    }\n",
              "    var i,t;\n",
              "    var text_menu = begin;\n",
              "    var text_memo = \"<pre>\\nlength:\" + anchors.length + \"\\n\";\n",
              "    var ind = \"\";\n",
              "    var memo_level = 1;\n",
              "    var href;\n",
              "    var tags = [];\n",
              "    var main_item = 0;\n",
              "    var format_open = 0;\n",
              "    for (i = 0; i <= llast; i++)\n",
              "        tags.push(\"h\" + i);\n",
              "\n",
              "    for (i = 0; i < anchors.length; i++) {\n",
              "        text_memo += \"**\" + anchors[i].id + \"--\\n\";\n",
              "\n",
              "        var child = null;\n",
              "        for(t = 0; t < tags.length; t++) {\n",
              "            var r = anchors[i].getElementsByTagName(tags[t]);\n",
              "            if (r.length > 0) {\n",
              "child = r[0];\n",
              "break;\n",
              "            }\n",
              "        }\n",
              "        if (child == null) {\n",
              "            text_memo += \"null\\n\";\n",
              "            continue;\n",
              "        }\n",
              "        if (anchors[i].hasAttribute(\"id\")) {\n",
              "            // when converted in RST\n",
              "            href = anchors[i].id;\n",
              "            text_memo += \"#1-\" + href;\n",
              "            // passer \u00e0 child suivant (le chercher)\n",
              "        }\n",
              "        else if (child.hasAttribute(\"id\")) {\n",
              "            // in a notebook\n",
              "            href = child.id;\n",
              "            text_memo += \"#2-\" + href;\n",
              "        }\n",
              "        else {\n",
              "            text_memo += \"#3-\" + \"*\" + \"\\n\";\n",
              "            continue;\n",
              "        }\n",
              "        var title = child.textContent;\n",
              "        var level = parseInt(child.tagName.substring(1,2));\n",
              "\n",
              "        text_memo += \"--\" + level + \"?\" + lfirst + \"--\" + title + \"\\n\";\n",
              "\n",
              "        if ((level < lfirst) || (level > llast)) {\n",
              "            continue ;\n",
              "        }\n",
              "        if (title.endsWith('\u00b6')) {\n",
              "            title = title.substring(0,title.length-1).replace(\"<\", \"&lt;\")\n",
              "         .replace(\">\", \"&gt;\").replace(\"&\", \"&amp;\");\n",
              "        }\n",
              "        if (title.length == 0) {\n",
              "            continue;\n",
              "        }\n",
              "\n",
              "        while (level < memo_level) {\n",
              "            text_menu += end_format + \"</ul>\\n\";\n",
              "            format_open -= 1;\n",
              "            memo_level -= 1;\n",
              "        }\n",
              "        if (level == lfirst) {\n",
              "            main_item += 1;\n",
              "        }\n",
              "        if (keep_item != -1 && main_item != keep_item + 1) {\n",
              "            // alert(main_item + \" - \" + level + \" - \" + keep_item);\n",
              "            continue;\n",
              "        }\n",
              "        while (level > memo_level) {\n",
              "            text_menu += \"<ul>\\n\";\n",
              "            memo_level += 1;\n",
              "        }\n",
              "        text_menu += repeat_indent_string(level-2);\n",
              "        text_menu += begin_format + sformat.replace(\"__HREF__\", href).replace(\"__TITLE__\", title);\n",
              "        format_open += 1;\n",
              "    }\n",
              "    while (1 < memo_level) {\n",
              "        text_menu += end_format + \"</ul>\\n\";\n",
              "        memo_level -= 1;\n",
              "        format_open -= 1;\n",
              "    }\n",
              "    text_menu += send;\n",
              "    //text_menu += \"\\n\" + text_memo;\n",
              "\n",
              "    while (format_open > 0) {\n",
              "        text_menu += end_format;\n",
              "        format_open -= 1;\n",
              "    }\n",
              "    return text_menu;\n",
              "};\n",
              "var update_menu = function() {\n",
              "    var sbegin = \"\";\n",
              "    var sformat = '<a href=\"#__HREF__\">__TITLE__</a>';\n",
              "    var send = \"\";\n",
              "    var begin_format = '<li>';\n",
              "    var end_format = '</li>';\n",
              "    var keep_item = -1;\n",
              "    var text_menu = update_menu_string(sbegin, 2, 4, sformat, send, keep_item,\n",
              "       begin_format, end_format);\n",
              "    var menu = document.getElementById(\"my_id_menu_nb\");\n",
              "    menu.innerHTML=text_menu;\n",
              "};\n",
              "window.setTimeout(update_menu,2000);\n",
              "            </script>"
            ],
            "text/plain": [
              "<IPython.core.display.HTML object>"
            ]
          },
          "execution_count": 2,
          "metadata": {},
          "output_type": "execute_result"
        }
      ],
      "source": [
        "from jyquickhelper import add_notebook_menu\n",
        "add_notebook_menu()"
      ]
    },
    {
      "cell_type": "code",
      "execution_count": 2,
      "metadata": {},
      "outputs": [],
      "source": [
        "%matplotlib inline"
      ]
    },
    {
      "cell_type": "markdown",
      "metadata": {},
      "source": [
        "## Expos\u00e9\n",
        "\n",
        "On t\u00e9l\u00e9charge des [donn\u00e9es hospitali\u00e8res par d\u00e9partements](https://www.data.gouv.fr/fr/datasets/donnees-hospitalieres-relatives-a-lepidemie-de-covid-19/)."
      ]
    },
    {
      "cell_type": "markdown",
      "metadata": {},
      "source": [
        "### Donn\u00e9es COVID"
      ]
    },
    {
      "cell_type": "code",
      "execution_count": 3,
      "metadata": {},
      "outputs": [
        {
          "data": {
            "text/html": [
              "<div>\n",
              "<style scoped>\n",
              "    .dataframe tbody tr th:only-of-type {\n",
              "        vertical-align: middle;\n",
              "    }\n",
              "\n",
              "    .dataframe tbody tr th {\n",
              "        vertical-align: top;\n",
              "    }\n",
              "\n",
              "    .dataframe thead th {\n",
              "        text-align: right;\n",
              "    }\n",
              "</style>\n",
              "<table border=\"1\" class=\"dataframe\">\n",
              "  <thead>\n",
              "    <tr style=\"text-align: right;\">\n",
              "      <th></th>\n",
              "      <th>dep</th>\n",
              "      <th>sexe</th>\n",
              "      <th>jour</th>\n",
              "      <th>hosp</th>\n",
              "      <th>rea</th>\n",
              "      <th>rad</th>\n",
              "      <th>dc</th>\n",
              "    </tr>\n",
              "  </thead>\n",
              "  <tbody>\n",
              "    <tr>\n",
              "      <th>73927</th>\n",
              "      <td>974</td>\n",
              "      <td>1</td>\n",
              "      <td>2020-11-16</td>\n",
              "      <td>47</td>\n",
              "      <td>8</td>\n",
              "      <td>277</td>\n",
              "      <td>18</td>\n",
              "    </tr>\n",
              "    <tr>\n",
              "      <th>73928</th>\n",
              "      <td>974</td>\n",
              "      <td>2</td>\n",
              "      <td>2020-11-16</td>\n",
              "      <td>41</td>\n",
              "      <td>9</td>\n",
              "      <td>282</td>\n",
              "      <td>21</td>\n",
              "    </tr>\n",
              "    <tr>\n",
              "      <th>73929</th>\n",
              "      <td>976</td>\n",
              "      <td>0</td>\n",
              "      <td>2020-11-16</td>\n",
              "      <td>13</td>\n",
              "      <td>4</td>\n",
              "      <td>500</td>\n",
              "      <td>32</td>\n",
              "    </tr>\n",
              "    <tr>\n",
              "      <th>73930</th>\n",
              "      <td>976</td>\n",
              "      <td>1</td>\n",
              "      <td>2020-11-16</td>\n",
              "      <td>8</td>\n",
              "      <td>3</td>\n",
              "      <td>240</td>\n",
              "      <td>20</td>\n",
              "    </tr>\n",
              "    <tr>\n",
              "      <th>73931</th>\n",
              "      <td>976</td>\n",
              "      <td>2</td>\n",
              "      <td>2020-11-16</td>\n",
              "      <td>5</td>\n",
              "      <td>1</td>\n",
              "      <td>255</td>\n",
              "      <td>12</td>\n",
              "    </tr>\n",
              "  </tbody>\n",
              "</table>\n",
              "</div>"
            ],
            "text/plain": [
              "       dep  sexe        jour  hosp  rea  rad  dc\n",
              "73927  974     1  2020-11-16    47    8  277  18\n",
              "73928  974     2  2020-11-16    41    9  282  21\n",
              "73929  976     0  2020-11-16    13    4  500  32\n",
              "73930  976     1  2020-11-16     8    3  240  20\n",
              "73931  976     2  2020-11-16     5    1  255  12"
            ]
          },
          "execution_count": 4,
          "metadata": {},
          "output_type": "execute_result"
        }
      ],
      "source": [
        "# https://www.data.gouv.fr/fr/datasets/donnees-hospitalieres-relatives-a-lepidemie-de-covid-19/\n",
        "from pandas import read_csv\n",
        "url = \"https://www.data.gouv.fr/fr/datasets/r/63352e38-d353-4b54-bfd1-f1b3ee1cabd7\"\n",
        "covid = read_csv(url, sep=\";\")\n",
        "covid.tail()"
      ]
    },
    {
      "cell_type": "code",
      "execution_count": 4,
      "metadata": {},
      "outputs": [
        {
          "data": {
            "text/plain": [
              "'2020-11-16'"
            ]
          },
          "execution_count": 5,
          "metadata": {},
          "output_type": "execute_result"
        }
      ],
      "source": [
        "last_day = covid.loc[covid.index[-1], \"jour\"]\n",
        "last_day"
      ]
    },
    {
      "cell_type": "code",
      "execution_count": 5,
      "metadata": {},
      "outputs": [
        {
          "data": {
            "text/plain": [
              "(101, 5)"
            ]
          },
          "execution_count": 6,
          "metadata": {},
          "output_type": "execute_result"
        }
      ],
      "source": [
        "last_data = covid[covid.jour == last_day].groupby(\"dep\").sum()\n",
        "last_data.shape"
      ]
    },
    {
      "cell_type": "code",
      "execution_count": 6,
      "metadata": {},
      "outputs": [
        {
          "data": {
            "text/html": [
              "<div>\n",
              "<style scoped>\n",
              "    .dataframe tbody tr th:only-of-type {\n",
              "        vertical-align: middle;\n",
              "    }\n",
              "\n",
              "    .dataframe tbody tr th {\n",
              "        vertical-align: top;\n",
              "    }\n",
              "\n",
              "    .dataframe thead th {\n",
              "        text-align: right;\n",
              "    }\n",
              "</style>\n",
              "<table border=\"1\" class=\"dataframe\">\n",
              "  <thead>\n",
              "    <tr style=\"text-align: right;\">\n",
              "      <th></th>\n",
              "      <th>sexe</th>\n",
              "      <th>hosp</th>\n",
              "      <th>rea</th>\n",
              "      <th>rad</th>\n",
              "      <th>dc</th>\n",
              "    </tr>\n",
              "  </thead>\n",
              "  <tbody>\n",
              "    <tr>\n",
              "      <th>count</th>\n",
              "      <td>101.0</td>\n",
              "      <td>101.000000</td>\n",
              "      <td>101.000000</td>\n",
              "      <td>101.000000</td>\n",
              "      <td>101.000000</td>\n",
              "    </tr>\n",
              "    <tr>\n",
              "      <th>mean</th>\n",
              "      <td>3.0</td>\n",
              "      <td>659.455446</td>\n",
              "      <td>96.732673</td>\n",
              "      <td>2783.039604</td>\n",
              "      <td>618.366337</td>\n",
              "    </tr>\n",
              "    <tr>\n",
              "      <th>std</th>\n",
              "      <td>0.0</td>\n",
              "      <td>706.432113</td>\n",
              "      <td>122.227402</td>\n",
              "      <td>3666.557494</td>\n",
              "      <td>806.620353</td>\n",
              "    </tr>\n",
              "    <tr>\n",
              "      <th>min</th>\n",
              "      <td>3.0</td>\n",
              "      <td>26.000000</td>\n",
              "      <td>0.000000</td>\n",
              "      <td>182.000000</td>\n",
              "      <td>24.000000</td>\n",
              "    </tr>\n",
              "    <tr>\n",
              "      <th>25%</th>\n",
              "      <td>3.0</td>\n",
              "      <td>216.000000</td>\n",
              "      <td>26.000000</td>\n",
              "      <td>647.000000</td>\n",
              "      <td>142.000000</td>\n",
              "    </tr>\n",
              "    <tr>\n",
              "      <th>50%</th>\n",
              "      <td>3.0</td>\n",
              "      <td>420.000000</td>\n",
              "      <td>50.000000</td>\n",
              "      <td>1356.000000</td>\n",
              "      <td>306.000000</td>\n",
              "    </tr>\n",
              "    <tr>\n",
              "      <th>75%</th>\n",
              "      <td>3.0</td>\n",
              "      <td>837.000000</td>\n",
              "      <td>130.000000</td>\n",
              "      <td>3355.000000</td>\n",
              "      <td>676.000000</td>\n",
              "    </tr>\n",
              "    <tr>\n",
              "      <th>max</th>\n",
              "      <td>3.0</td>\n",
              "      <td>3798.000000</td>\n",
              "      <td>620.000000</td>\n",
              "      <td>18651.000000</td>\n",
              "      <td>4637.000000</td>\n",
              "    </tr>\n",
              "  </tbody>\n",
              "</table>\n",
              "</div>"
            ],
            "text/plain": [
              "        sexe         hosp         rea           rad           dc\n",
              "count  101.0   101.000000  101.000000    101.000000   101.000000\n",
              "mean     3.0   659.455446   96.732673   2783.039604   618.366337\n",
              "std      0.0   706.432113  122.227402   3666.557494   806.620353\n",
              "min      3.0    26.000000    0.000000    182.000000    24.000000\n",
              "25%      3.0   216.000000   26.000000    647.000000   142.000000\n",
              "50%      3.0   420.000000   50.000000   1356.000000   306.000000\n",
              "75%      3.0   837.000000  130.000000   3355.000000   676.000000\n",
              "max      3.0  3798.000000  620.000000  18651.000000  4637.000000"
            ]
          },
          "execution_count": 7,
          "metadata": {},
          "output_type": "execute_result"
        }
      ],
      "source": [
        "last_data.describe()"
      ]
    },
    {
      "cell_type": "markdown",
      "metadata": {},
      "source": [
        "### Donn\u00e9es d\u00e9partements"
      ]
    },
    {
      "cell_type": "markdown",
      "metadata": {},
      "source": [
        "On r\u00e9cup\u00e8re ensuite la d\u00e9finition [g\u00e9ographique des d\u00e9partements](https://www.data.gouv.fr/en/datasets/contours-geographiques-des-departements/)."
      ]
    },
    {
      "cell_type": "code",
      "execution_count": 7,
      "metadata": {},
      "outputs": [
        {
          "data": {
            "text/html": [
              "<div>\n",
              "<style scoped>\n",
              "    .dataframe tbody tr th:only-of-type {\n",
              "        vertical-align: middle;\n",
              "    }\n",
              "\n",
              "    .dataframe tbody tr th {\n",
              "        vertical-align: top;\n",
              "    }\n",
              "\n",
              "    .dataframe thead th {\n",
              "        text-align: right;\n",
              "    }\n",
              "</style>\n",
              "<table border=\"1\" class=\"dataframe\">\n",
              "  <thead>\n",
              "    <tr style=\"text-align: right;\">\n",
              "      <th></th>\n",
              "      <th>code_depart</th>\n",
              "      <th>departement</th>\n",
              "      <th>code_region</th>\n",
              "      <th>region</th>\n",
              "      <th>code_ancien</th>\n",
              "      <th>ancienne_re</th>\n",
              "      <th>geometry</th>\n",
              "    </tr>\n",
              "  </thead>\n",
              "  <tbody>\n",
              "    <tr>\n",
              "      <th>96</th>\n",
              "      <td>87</td>\n",
              "      <td>Haute-Vienne</td>\n",
              "      <td>75.0</td>\n",
              "      <td>Nouvelle-Aquitaine</td>\n",
              "      <td>74.0</td>\n",
              "      <td>Limousin</td>\n",
              "      <td>POLYGON ((0.92278 45.94610, 0.92856 45.94808, ...</td>\n",
              "    </tr>\n",
              "    <tr>\n",
              "      <th>97</th>\n",
              "      <td>63</td>\n",
              "      <td>Puy-de-D\u00f4me</td>\n",
              "      <td>84.0</td>\n",
              "      <td>Auvergne-Rh\u00f4ne-Alpes</td>\n",
              "      <td>83.0</td>\n",
              "      <td>Auvergne</td>\n",
              "      <td>POLYGON ((2.45492 45.76131, 2.45169 45.76137, ...</td>\n",
              "    </tr>\n",
              "    <tr>\n",
              "      <th>98</th>\n",
              "      <td>14</td>\n",
              "      <td>Calvados</td>\n",
              "      <td>28.0</td>\n",
              "      <td>Normandie</td>\n",
              "      <td>25.0</td>\n",
              "      <td>Basse-Normandie</td>\n",
              "      <td>MULTIPOLYGON (((-0.42990 48.86405, -0.42881 48...</td>\n",
              "    </tr>\n",
              "    <tr>\n",
              "      <th>99</th>\n",
              "      <td>07</td>\n",
              "      <td>Ard\u00e8che</td>\n",
              "      <td>84.0</td>\n",
              "      <td>Auvergne-Rh\u00f4ne-Alpes</td>\n",
              "      <td>82.0</td>\n",
              "      <td>Rh\u00f4ne-Alpes</td>\n",
              "      <td>POLYGON ((4.30746 44.98596, 4.30412 44.98837, ...</td>\n",
              "    </tr>\n",
              "    <tr>\n",
              "      <th>100</th>\n",
              "      <td>32</td>\n",
              "      <td>Gers</td>\n",
              "      <td>76.0</td>\n",
              "      <td>Occitanie</td>\n",
              "      <td>73.0</td>\n",
              "      <td>Midi-Pyr\u00e9n\u00e9es</td>\n",
              "      <td>POLYGON ((-0.24307 43.66404, -0.24328 43.66476...</td>\n",
              "    </tr>\n",
              "  </tbody>\n",
              "</table>\n",
              "</div>"
            ],
            "text/plain": [
              "    code_depart   departement  code_region                region  code_ancien  \\\n",
              "96           87  Haute-Vienne         75.0    Nouvelle-Aquitaine         74.0   \n",
              "97           63   Puy-de-D\u00f4me         84.0  Auvergne-Rh\u00f4ne-Alpes         83.0   \n",
              "98           14      Calvados         28.0             Normandie         25.0   \n",
              "99           07       Ard\u00e8che         84.0  Auvergne-Rh\u00f4ne-Alpes         82.0   \n",
              "100          32          Gers         76.0             Occitanie         73.0   \n",
              "\n",
              "         ancienne_re                                           geometry  \n",
              "96          Limousin  POLYGON ((0.92278 45.94610, 0.92856 45.94808, ...  \n",
              "97          Auvergne  POLYGON ((2.45492 45.76131, 2.45169 45.76137, ...  \n",
              "98   Basse-Normandie  MULTIPOLYGON (((-0.42990 48.86405, -0.42881 48...  \n",
              "99       Rh\u00f4ne-Alpes  POLYGON ((4.30746 44.98596, 4.30412 44.98837, ...  \n",
              "100    Midi-Pyr\u00e9n\u00e9es  POLYGON ((-0.24307 43.66404, -0.24328 43.66476...  "
            ]
          },
          "execution_count": 8,
          "metadata": {},
          "output_type": "execute_result"
        }
      ],
      "source": [
        "import geopandas\n",
        "# dernier lien de la page (format shapefiles)\n",
        "url = \"https://www.data.gouv.fr/en/datasets/r/ed02b655-4307-4db4-b1ca-7939145dc20f\"\n",
        "geo = geopandas.read_file(url)\n",
        "geo.tail()"
      ]
    },
    {
      "cell_type": "markdown",
      "metadata": {},
      "source": [
        "Il faudrait aussi fusionner avec la population de chaque d\u00e9partement. Ce sera pour une autre fois. "
      ]
    },
    {
      "cell_type": "markdown",
      "metadata": {},
      "source": [
        "### Carte"
      ]
    },
    {
      "cell_type": "code",
      "execution_count": 8,
      "metadata": {},
      "outputs": [
        {
          "data": {
            "image/png": "[encoded data removed]",
            "text/plain": [
              "<Figure size 360x288 with 1 Axes>"
            ]
          },
          "metadata": {
            "needs_background": "light"
          },
          "output_type": "display_data"
        }
      ],
      "source": [
        "import matplotlib.pyplot as plt\n",
        "fig, ax = plt.subplots(1, 1, figsize=(5, 4))\n",
        "geo.plot(ax=ax, color='white', edgecolor='black');"
      ]
    },
    {
      "cell_type": "markdown",
      "metadata": {},
      "source": [
        "On enl\u00e8ve tous les d\u00e9partements \u00e0 trois chiffres."
      ]
    },
    {
      "cell_type": "code",
      "execution_count": 9,
      "metadata": {},
      "outputs": [
        {
          "data": {
            "text/html": [
              "<div>\n",
              "<style scoped>\n",
              "    .dataframe tbody tr th:only-of-type {\n",
              "        vertical-align: middle;\n",
              "    }\n",
              "\n",
              "    .dataframe tbody tr th {\n",
              "        vertical-align: top;\n",
              "    }\n",
              "\n",
              "    .dataframe thead th {\n",
              "        text-align: right;\n",
              "    }\n",
              "</style>\n",
              "<table border=\"1\" class=\"dataframe\">\n",
              "  <thead>\n",
              "    <tr style=\"text-align: right;\">\n",
              "      <th></th>\n",
              "      <th>code_depart</th>\n",
              "      <th>departement</th>\n",
              "      <th>code_region</th>\n",
              "      <th>region</th>\n",
              "      <th>code_ancien</th>\n",
              "      <th>ancienne_re</th>\n",
              "      <th>geometry</th>\n",
              "    </tr>\n",
              "  </thead>\n",
              "  <tbody>\n",
              "    <tr>\n",
              "      <th>96</th>\n",
              "      <td>87</td>\n",
              "      <td>Haute-Vienne</td>\n",
              "      <td>75.0</td>\n",
              "      <td>Nouvelle-Aquitaine</td>\n",
              "      <td>74.0</td>\n",
              "      <td>Limousin</td>\n",
              "      <td>POLYGON ((0.92278 45.94610, 0.92856 45.94808, ...</td>\n",
              "    </tr>\n",
              "    <tr>\n",
              "      <th>97</th>\n",
              "      <td>63</td>\n",
              "      <td>Puy-de-D\u00f4me</td>\n",
              "      <td>84.0</td>\n",
              "      <td>Auvergne-Rh\u00f4ne-Alpes</td>\n",
              "      <td>83.0</td>\n",
              "      <td>Auvergne</td>\n",
              "      <td>POLYGON ((2.45492 45.76131, 2.45169 45.76137, ...</td>\n",
              "    </tr>\n",
              "    <tr>\n",
              "      <th>98</th>\n",
              "      <td>14</td>\n",
              "      <td>Calvados</td>\n",
              "      <td>28.0</td>\n",
              "      <td>Normandie</td>\n",
              "      <td>25.0</td>\n",
              "      <td>Basse-Normandie</td>\n",
              "      <td>MULTIPOLYGON (((-0.42990 48.86405, -0.42881 48...</td>\n",
              "    </tr>\n",
              "    <tr>\n",
              "      <th>99</th>\n",
              "      <td>07</td>\n",
              "      <td>Ard\u00e8che</td>\n",
              "      <td>84.0</td>\n",
              "      <td>Auvergne-Rh\u00f4ne-Alpes</td>\n",
              "      <td>82.0</td>\n",
              "      <td>Rh\u00f4ne-Alpes</td>\n",
              "      <td>POLYGON ((4.30746 44.98596, 4.30412 44.98837, ...</td>\n",
              "    </tr>\n",
              "    <tr>\n",
              "      <th>100</th>\n",
              "      <td>32</td>\n",
              "      <td>Gers</td>\n",
              "      <td>76.0</td>\n",
              "      <td>Occitanie</td>\n",
              "      <td>73.0</td>\n",
              "      <td>Midi-Pyr\u00e9n\u00e9es</td>\n",
              "      <td>POLYGON ((-0.24307 43.66404, -0.24328 43.66476...</td>\n",
              "    </tr>\n",
              "  </tbody>\n",
              "</table>\n",
              "</div>"
            ],
            "text/plain": [
              "    code_depart   departement  code_region                region  code_ancien  \\\n",
              "96           87  Haute-Vienne         75.0    Nouvelle-Aquitaine         74.0   \n",
              "97           63   Puy-de-D\u00f4me         84.0  Auvergne-Rh\u00f4ne-Alpes         83.0   \n",
              "98           14      Calvados         28.0             Normandie         25.0   \n",
              "99           07       Ard\u00e8che         84.0  Auvergne-Rh\u00f4ne-Alpes         82.0   \n",
              "100          32          Gers         76.0             Occitanie         73.0   \n",
              "\n",
              "         ancienne_re                                           geometry  \n",
              "96          Limousin  POLYGON ((0.92278 45.94610, 0.92856 45.94808, ...  \n",
              "97          Auvergne  POLYGON ((2.45492 45.76131, 2.45169 45.76137, ...  \n",
              "98   Basse-Normandie  MULTIPOLYGON (((-0.42990 48.86405, -0.42881 48...  \n",
              "99       Rh\u00f4ne-Alpes  POLYGON ((4.30746 44.98596, 4.30412 44.98837, ...  \n",
              "100    Midi-Pyr\u00e9n\u00e9es  POLYGON ((-0.24307 43.66404, -0.24328 43.66476...  "
            ]
          },
          "execution_count": 10,
          "metadata": {},
          "output_type": "execute_result"
        }
      ],
      "source": [
        "codes = [_ for _ in set(geo.code_depart) if len(_) < 3]\n",
        "metropole = geo[geo.code_depart.isin(codes)]\n",
        "metropole.tail()"
      ]
    },
    {
      "cell_type": "code",
      "execution_count": 10,
      "metadata": {},
      "outputs": [
        {
          "data": {
            "image/png": "[encoded data removed]",
            "text/plain": [
              "<Figure size 360x288 with 1 Axes>"
            ]
          },
          "metadata": {
            "needs_background": "light"
          },
          "output_type": "display_data"
        }
      ],
      "source": [
        "fig, ax = plt.subplots(1, 1, figsize=(5, 4))\n",
        "metropole.plot(ax=ax, color='white', edgecolor='black')\n",
        "ax.set_title(\"%s d\u00e9partements\" % metropole.shape[0]);"
      ]
    },
    {
      "cell_type": "markdown",
      "metadata": {},
      "source": [
        "### Carte COVID"
      ]
    },
    {
      "cell_type": "code",
      "execution_count": 11,
      "metadata": {},
      "outputs": [
        {
          "data": {
            "text/plain": [
              "(96, 13)"
            ]
          },
          "execution_count": 12,
          "metadata": {},
          "output_type": "execute_result"
        }
      ],
      "source": [
        "merged = last_data.reset_index(drop=False).merge(metropole, left_on=\"dep\", right_on=\"code_depart\")\n",
        "merged.shape"
      ]
    },
    {
      "cell_type": "code",
      "execution_count": 12,
      "metadata": {},
      "outputs": [
        {
          "data": {
            "text/html": [
              "<div>\n",
              "<style scoped>\n",
              "    .dataframe tbody tr th:only-of-type {\n",
              "        vertical-align: middle;\n",
              "    }\n",
              "\n",
              "    .dataframe tbody tr th {\n",
              "        vertical-align: top;\n",
              "    }\n",
              "\n",
              "    .dataframe thead th {\n",
              "        text-align: right;\n",
              "    }\n",
              "</style>\n",
              "<table border=\"1\" class=\"dataframe\">\n",
              "  <thead>\n",
              "    <tr style=\"text-align: right;\">\n",
              "      <th></th>\n",
              "      <th>dep</th>\n",
              "      <th>sexe</th>\n",
              "      <th>hosp</th>\n",
              "      <th>rea</th>\n",
              "      <th>rad</th>\n",
              "      <th>dc</th>\n",
              "      <th>code_depart</th>\n",
              "      <th>departement</th>\n",
              "      <th>code_region</th>\n",
              "      <th>region</th>\n",
              "      <th>code_ancien</th>\n",
              "      <th>ancienne_re</th>\n",
              "      <th>geometry</th>\n",
              "    </tr>\n",
              "  </thead>\n",
              "  <tbody>\n",
              "    <tr>\n",
              "      <th>91</th>\n",
              "      <td>91</td>\n",
              "      <td>3</td>\n",
              "      <td>1422</td>\n",
              "      <td>227</td>\n",
              "      <td>8167</td>\n",
              "      <td>1651</td>\n",
              "      <td>91</td>\n",
              "      <td>Essonne</td>\n",
              "      <td>11.0</td>\n",
              "      <td>\u00cele-de-France</td>\n",
              "      <td>11.0</td>\n",
              "      <td>\u00cele-de-France</td>\n",
              "      <td>POLYGON ((2.04261 48.62638, 2.04045 48.62754, ...</td>\n",
              "    </tr>\n",
              "    <tr>\n",
              "      <th>92</th>\n",
              "      <td>92</td>\n",
              "      <td>3</td>\n",
              "      <td>1750</td>\n",
              "      <td>312</td>\n",
              "      <td>14079</td>\n",
              "      <td>2752</td>\n",
              "      <td>92</td>\n",
              "      <td>Hauts-de-Seine</td>\n",
              "      <td>11.0</td>\n",
              "      <td>\u00cele-de-France</td>\n",
              "      <td>11.0</td>\n",
              "      <td>\u00cele-de-France</td>\n",
              "      <td>POLYGON ((2.22040 48.92061, 2.23114 48.92773, ...</td>\n",
              "    </tr>\n",
              "    <tr>\n",
              "      <th>93</th>\n",
              "      <td>93</td>\n",
              "      <td>3</td>\n",
              "      <td>1717</td>\n",
              "      <td>230</td>\n",
              "      <td>12493</td>\n",
              "      <td>2593</td>\n",
              "      <td>93</td>\n",
              "      <td>Seine-Saint-Denis</td>\n",
              "      <td>11.0</td>\n",
              "      <td>\u00cele-de-France</td>\n",
              "      <td>11.0</td>\n",
              "      <td>\u00cele-de-France</td>\n",
              "      <td>POLYGON ((2.45949 48.95505, 2.46072 48.95840, ...</td>\n",
              "    </tr>\n",
              "    <tr>\n",
              "      <th>94</th>\n",
              "      <td>94</td>\n",
              "      <td>3</td>\n",
              "      <td>1866</td>\n",
              "      <td>265</td>\n",
              "      <td>13021</td>\n",
              "      <td>3100</td>\n",
              "      <td>94</td>\n",
              "      <td>Val-de-Marne</td>\n",
              "      <td>11.0</td>\n",
              "      <td>\u00cele-de-France</td>\n",
              "      <td>11.0</td>\n",
              "      <td>\u00cele-de-France</td>\n",
              "      <td>POLYGON ((2.32906 48.81378, 2.33190 48.81701, ...</td>\n",
              "    </tr>\n",
              "    <tr>\n",
              "      <th>95</th>\n",
              "      <td>95</td>\n",
              "      <td>3</td>\n",
              "      <td>1045</td>\n",
              "      <td>118</td>\n",
              "      <td>8304</td>\n",
              "      <td>1966</td>\n",
              "      <td>95</td>\n",
              "      <td>Val-d'Oise</td>\n",
              "      <td>11.0</td>\n",
              "      <td>\u00cele-de-France</td>\n",
              "      <td>11.0</td>\n",
              "      <td>\u00cele-de-France</td>\n",
              "      <td>POLYGON ((2.43548 49.13411, 2.44084 49.13419, ...</td>\n",
              "    </tr>\n",
              "  </tbody>\n",
              "</table>\n",
              "</div>"
            ],
            "text/plain": [
              "   dep  sexe  hosp  rea    rad    dc code_depart        departement  \\\n",
              "91  91     3  1422  227   8167  1651          91            Essonne   \n",
              "92  92     3  1750  312  14079  2752          92     Hauts-de-Seine   \n",
              "93  93     3  1717  230  12493  2593          93  Seine-Saint-Denis   \n",
              "94  94     3  1866  265  13021  3100          94       Val-de-Marne   \n",
              "95  95     3  1045  118   8304  1966          95         Val-d'Oise   \n",
              "\n",
              "    code_region         region  code_ancien    ancienne_re  \\\n",
              "91         11.0  \u00cele-de-France         11.0  \u00cele-de-France   \n",
              "92         11.0  \u00cele-de-France         11.0  \u00cele-de-France   \n",
              "93         11.0  \u00cele-de-France         11.0  \u00cele-de-France   \n",
              "94         11.0  \u00cele-de-France         11.0  \u00cele-de-France   \n",
              "95         11.0  \u00cele-de-France         11.0  \u00cele-de-France   \n",
              "\n",
              "                                             geometry  \n",
              "91  POLYGON ((2.04261 48.62638, 2.04045 48.62754, ...  \n",
              "92  POLYGON ((2.22040 48.92061, 2.23114 48.92773, ...  \n",
              "93  POLYGON ((2.45949 48.95505, 2.46072 48.95840, ...  \n",
              "94  POLYGON ((2.32906 48.81378, 2.33190 48.81701, ...  \n",
              "95  POLYGON ((2.43548 49.13411, 2.44084 49.13419, ...  "
            ]
          },
          "execution_count": 13,
          "metadata": {},
          "output_type": "execute_result"
        }
      ],
      "source": [
        "merged.tail()"
      ]
    },
    {
      "cell_type": "code",
      "execution_count": 13,
      "metadata": {},
      "outputs": [
        {
          "data": {
            "image/png": "[encoded data removed]",
            "text/plain": [
              "<Figure size 360x288 with 1 Axes>"
            ]
          },
          "metadata": {
            "needs_background": "light"
          },
          "output_type": "display_data"
        }
      ],
      "source": [
        "fig, ax = plt.subplots(1, 1, figsize=(5, 4))\n",
        "merged.hist('rea', bins=20, ax=ax)\n",
        "ax.set_title(\"Distribution rea\");"
      ]
    },
    {
      "cell_type": "markdown",
      "metadata": {},
      "source": [
        "Les r\u00e9gions les plus peupl\u00e9es ont sans doute la plus grande capacit\u00e9 hospitali\u00e8re. Il faudrait diviser par cette capacit\u00e9 pour avoir une carte qui ait un peu plus de sens. Comme l'id\u00e9e est ici de simplement tracer la carte, on ne calculera pas de ratio."
      ]
    },
    {
      "cell_type": "code",
      "execution_count": 14,
      "metadata": {},
      "outputs": [
        {
          "data": {
            "text/html": [
              "<div>\n",
              "<style scoped>\n",
              "    .dataframe tbody tr th:only-of-type {\n",
              "        vertical-align: middle;\n",
              "    }\n",
              "\n",
              "    .dataframe tbody tr th {\n",
              "        vertical-align: top;\n",
              "    }\n",
              "\n",
              "    .dataframe thead th {\n",
              "        text-align: right;\n",
              "    }\n",
              "</style>\n",
              "<table border=\"1\" class=\"dataframe\">\n",
              "  <thead>\n",
              "    <tr style=\"text-align: right;\">\n",
              "      <th></th>\n",
              "      <th>dep</th>\n",
              "      <th>sexe</th>\n",
              "      <th>hosp</th>\n",
              "      <th>rea</th>\n",
              "      <th>rad</th>\n",
              "      <th>dc</th>\n",
              "      <th>code_depart</th>\n",
              "      <th>departement</th>\n",
              "      <th>code_region</th>\n",
              "      <th>region</th>\n",
              "      <th>code_ancien</th>\n",
              "      <th>ancienne_re</th>\n",
              "      <th>geometry</th>\n",
              "    </tr>\n",
              "  </thead>\n",
              "  <tbody>\n",
              "    <tr>\n",
              "      <th>92</th>\n",
              "      <td>92</td>\n",
              "      <td>3</td>\n",
              "      <td>1750</td>\n",
              "      <td>312</td>\n",
              "      <td>14079</td>\n",
              "      <td>2752</td>\n",
              "      <td>92</td>\n",
              "      <td>Hauts-de-Seine</td>\n",
              "      <td>11.0</td>\n",
              "      <td>\u00cele-de-France</td>\n",
              "      <td>11.0</td>\n",
              "      <td>\u00cele-de-France</td>\n",
              "      <td>POLYGON ((2.22040 48.92061, 2.23114 48.92773, ...</td>\n",
              "    </tr>\n",
              "    <tr>\n",
              "      <th>59</th>\n",
              "      <td>59</td>\n",
              "      <td>3</td>\n",
              "      <td>3314</td>\n",
              "      <td>555</td>\n",
              "      <td>11109</td>\n",
              "      <td>2660</td>\n",
              "      <td>59</td>\n",
              "      <td>Nord</td>\n",
              "      <td>32.0</td>\n",
              "      <td>Hauts-de-France</td>\n",
              "      <td>31.0</td>\n",
              "      <td>Nord-Pas-de-Calais</td>\n",
              "      <td>MULTIPOLYGON (((3.04058 50.15986, 3.04806 50.1...</td>\n",
              "    </tr>\n",
              "    <tr>\n",
              "      <th>69</th>\n",
              "      <td>69</td>\n",
              "      <td>3</td>\n",
              "      <td>3798</td>\n",
              "      <td>581</td>\n",
              "      <td>12454</td>\n",
              "      <td>2488</td>\n",
              "      <td>69</td>\n",
              "      <td>Rh\u00f4ne</td>\n",
              "      <td>84.0</td>\n",
              "      <td>Auvergne-Rh\u00f4ne-Alpes</td>\n",
              "      <td>82.0</td>\n",
              "      <td>Rh\u00f4ne-Alpes</td>\n",
              "      <td>POLYGON ((4.43893 46.16789, 4.43463 46.17034, ...</td>\n",
              "    </tr>\n",
              "    <tr>\n",
              "      <th>12</th>\n",
              "      <td>13</td>\n",
              "      <td>3</td>\n",
              "      <td>3147</td>\n",
              "      <td>587</td>\n",
              "      <td>16493</td>\n",
              "      <td>2514</td>\n",
              "      <td>13</td>\n",
              "      <td>Bouches-du-Rh\u00f4ne</td>\n",
              "      <td>93.0</td>\n",
              "      <td>Provence-Alpes-C\u00f4te d'Azur</td>\n",
              "      <td>93.0</td>\n",
              "      <td>Provence-Alpes-C\u00f4te d'Azur</td>\n",
              "      <td>MULTIPOLYGON (((5.38534 43.18909, 5.38440 43.1...</td>\n",
              "    </tr>\n",
              "    <tr>\n",
              "      <th>75</th>\n",
              "      <td>75</td>\n",
              "      <td>3</td>\n",
              "      <td>2678</td>\n",
              "      <td>620</td>\n",
              "      <td>18651</td>\n",
              "      <td>4637</td>\n",
              "      <td>75</td>\n",
              "      <td>Paris</td>\n",
              "      <td>11.0</td>\n",
              "      <td>\u00cele-de-France</td>\n",
              "      <td>11.0</td>\n",
              "      <td>\u00cele-de-France</td>\n",
              "      <td>POLYGON ((2.27995 48.87857, 2.28101 48.88297, ...</td>\n",
              "    </tr>\n",
              "  </tbody>\n",
              "</table>\n",
              "</div>"
            ],
            "text/plain": [
              "   dep  sexe  hosp  rea    rad    dc code_depart       departement  \\\n",
              "92  92     3  1750  312  14079  2752          92    Hauts-de-Seine   \n",
              "59  59     3  3314  555  11109  2660          59              Nord   \n",
              "69  69     3  3798  581  12454  2488          69             Rh\u00f4ne   \n",
              "12  13     3  3147  587  16493  2514          13  Bouches-du-Rh\u00f4ne   \n",
              "75  75     3  2678  620  18651  4637          75             Paris   \n",
              "\n",
              "    code_region                      region  code_ancien  \\\n",
              "92         11.0               \u00cele-de-France         11.0   \n",
              "59         32.0             Hauts-de-France         31.0   \n",
              "69         84.0        Auvergne-Rh\u00f4ne-Alpes         82.0   \n",
              "12         93.0  Provence-Alpes-C\u00f4te d'Azur         93.0   \n",
              "75         11.0               \u00cele-de-France         11.0   \n",
              "\n",
              "                   ancienne_re  \\\n",
              "92               \u00cele-de-France   \n",
              "59          Nord-Pas-de-Calais   \n",
              "69                 Rh\u00f4ne-Alpes   \n",
              "12  Provence-Alpes-C\u00f4te d'Azur   \n",
              "75               \u00cele-de-France   \n",
              "\n",
              "                                             geometry  \n",
              "92  POLYGON ((2.22040 48.92061, 2.23114 48.92773, ...  \n",
              "59  MULTIPOLYGON (((3.04058 50.15986, 3.04806 50.1...  \n",
              "69  POLYGON ((4.43893 46.16789, 4.43463 46.17034, ...  \n",
              "12  MULTIPOLYGON (((5.38534 43.18909, 5.38440 43.1...  \n",
              "75  POLYGON ((2.27995 48.87857, 2.28101 48.88297, ...  "
            ]
          },
          "execution_count": 15,
          "metadata": {},
          "output_type": "execute_result"
        }
      ],
      "source": [
        "merged.sort_values('rea').tail()"
      ]
    },
    {
      "cell_type": "code",
      "execution_count": 15,
      "metadata": {},
      "outputs": [],
      "source": [
        "geomerged = geopandas.GeoDataFrame(merged)"
      ]
    },
    {
      "cell_type": "code",
      "execution_count": 16,
      "metadata": {
        "scrolled": false
      },
      "outputs": [
        {
          "data": {
            "image/png": "[encoded data removed]",
            "text/plain": [
              "<Figure size 432x288 with 2 Axes>"
            ]
          },
          "metadata": {
            "needs_background": "light"
          },
          "output_type": "display_data"
        }
      ],
      "source": [
        "from mpl_toolkits.axes_grid1 import make_axes_locatable\n",
        "\n",
        "fig, ax = plt.subplots(1, 1)\n",
        "\n",
        "# ligne \u00e0 ajouter pour avoir une l\u00e9gende ajust\u00e9e \u00e0 la taille du graphe\n",
        "cax = make_axes_locatable(ax).append_axes(\"right\", size=\"5%\", pad=0.1)\n",
        "\n",
        "geomerged.plot(column=\"rea\", ax=ax, edgecolor='black', legend=True, cax=cax)\n",
        "ax.set_title(\"R\u00e9animations pour les %d d\u00e9partements\" % metropole.shape[0]);"
      ]
    },
    {
      "cell_type": "markdown",
      "metadata": {},
      "source": [
        "La cr\u00e9ation de carte a toujours \u00e9t\u00e9 plus ou moins compliqu\u00e9. Les premiers notebooks que j'ai cr\u00e9\u00e9s sur le sujet \u00e9taient beaucoup plus complexe. *geopandas* a simplifi\u00e9 les choses. Son d\u00e9veloppement a commenc\u00e9 entre [2013](https://github.com/geopandas/geopandas/graphs/contributors) et a bien \u00e9volu\u00e9 depuis. Et j'ai d\u00fb passer quelques heures \u00e0 r\u00e9cup\u00e9rer les contours des d\u00e9partements il y a cinq ans."
      ]
    },
    {
      "cell_type": "code",
      "execution_count": 17,
      "metadata": {},
      "outputs": [],
      "source": []
    }
  ],
  "metadata": {
    "kernelspec": {
      "display_name": "Python 3",
      "language": "python",
      "name": "python3"
    },
    "language_info": {
      "codemirror_mode": {
        "name": "ipython",
        "version": 3
      },
      "file_extension": ".py",
      "mimetype": "text/x-python",
      "name": "python",
      "nbconvert_exporter": "python",
      "pygments_lexer": "ipython3",
      "version": "3.7.2"
    }
  },
  "nbformat": 4,
  "nbformat_minor": 2
}