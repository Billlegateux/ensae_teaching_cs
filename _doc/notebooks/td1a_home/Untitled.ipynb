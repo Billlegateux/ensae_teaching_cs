{
  "cells": [
    {
      "cell_type": "markdown",
      "id": "8dd2b52c",
      "metadata": {},
      "source": [
        "# Profiling, application \u00e0 la convolution\n",
        "\n",
        "Une convolution est une op\u00e9ration tr\u00e8s fr\u00e9quente en deep learning lorsqu'il s'agit d'interpr\u00e9ter des images. Elle est aussi co\u00fbteuse et c'est pour \u00e7a que beaucoup essayent d'acc\u00e9l\u00e9rer son calcul \u00e0 d\u00e9faut de s'en passer."
      ]
    },
    {
      "cell_type": "code",
      "execution_count": 1,
      "id": "5d24d6c8",
      "metadata": {},
      "outputs": [],
      "source": [
        "from jyquickhelper import add_"
      ]
    }
  ],
  "metadata": {
    "kernelspec": {
      "display_name": "Python 3 (ipykernel)",
      "language": "python",
      "name": "python3"
    }
  },
  "nbformat": 4,
  "nbformat_minor": 5
}