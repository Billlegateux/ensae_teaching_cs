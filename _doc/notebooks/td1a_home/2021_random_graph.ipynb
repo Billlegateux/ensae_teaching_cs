{
  "cells": [
    {
      "cell_type": "markdown",
      "id": "69e1b7d3",
      "metadata": {},
      "source": [
        "# Algo - graphes al\u00e9atoires\n",
        "\n",
        "Comment g\u00e9n\u00e9rer un graphe al\u00e9atoire."
      ]
    },
    {
      "cell_type": "code",
      "execution_count": 1,
      "id": "2078981b",
      "metadata": {},
      "outputs": [],
      "source": [
        "%matplotlib inline"
      ]
    },
    {
      "cell_type": "code",
      "execution_count": 2,
      "id": "d076b8b7",
      "metadata": {},
      "outputs": [
        {
          "data": {
            "text/plain": [
              "array([[0, 0, 0, 0, 0, 0, 0, 0, 0, 0, 0, 0, 0, 0, 0],\n",
              "       [0, 0, 0, 1, 1, 0, 0, 0, 0, 0, 0, 0, 0, 0, 0],\n",
              "       [0, 0, 0, 0, 1, 0, 1, 0, 0, 0, 0, 0, 0, 0, 0],\n",
              "       [0, 1, 0, 0, 0, 0, 0, 0, 0, 0, 0, 1, 0, 0, 0],\n",
              "       [0, 1, 1, 0, 0, 0, 0, 0, 0, 0, 0, 0, 0, 0, 0],\n",
              "       [0, 0, 0, 0, 0, 0, 0, 0, 0, 0, 1, 1, 0, 0, 0],\n",
              "       [0, 0, 1, 0, 0, 0, 0, 0, 1, 0, 0, 0, 0, 1, 0],\n",
              "       [0, 0, 0, 0, 0, 0, 0, 0, 0, 0, 0, 0, 0, 0, 0],\n",
              "       [0, 0, 0, 0, 0, 0, 1, 0, 0, 0, 0, 1, 0, 0, 0],\n",
              "       [0, 0, 0, 0, 0, 0, 0, 0, 0, 0, 1, 0, 0, 0, 0],\n",
              "       [0, 0, 0, 0, 0, 1, 0, 0, 0, 1, 0, 0, 0, 0, 0],\n",
              "       [0, 0, 0, 1, 0, 1, 0, 0, 1, 0, 0, 0, 0, 1, 0],\n",
              "       [0, 0, 0, 0, 0, 0, 0, 0, 0, 0, 0, 0, 0, 1, 0],\n",
              "       [0, 0, 0, 0, 0, 0, 1, 0, 0, 0, 0, 1, 1, 0, 0],\n",
              "       [0, 0, 0, 0, 0, 0, 0, 0, 0, 0, 0, 0, 0, 0, 0]])"
            ]
          },
          "execution_count": 3,
          "metadata": {},
          "output_type": "execute_result"
        }
      ],
      "source": [
        "import numpy\n",
        "\n",
        "mat = numpy.random.random((15, 15))\n",
        "mat = mat + mat.T\n",
        "adja = (mat >= 1.4).astype(int)\n",
        "for i in range(adja.shape[0]):\n",
        "    adja[i ,i] = 0\n",
        "adja"
      ]
    },
    {
      "cell_type": "code",
      "execution_count": 3,
      "id": "f448c29a",
      "metadata": {},
      "outputs": [
        {
          "data": {
            "image/png": "[encoded data removed]",
            "text/plain": [
              "<Figure size 288x288 with 1 Axes>"
            ]
          },
          "metadata": {},
          "output_type": "display_data"
        }
      ],
      "source": [
        "import networkx\n",
        "import matplotlib.pyplot as plt\n",
        "fix, ax = plt.subplots(1, 1,figsize=(4,4))\n",
        "G = networkx.from_numpy_matrix(adja)  \n",
        "networkx.draw(G, with_labels=True, ax=ax) "
      ]
    },
    {
      "cell_type": "code",
      "execution_count": 4,
      "id": "b256dd97",
      "metadata": {},
      "outputs": [
        {
          "data": {
            "text/plain": [
              "array([0, 2, 2, 2, 2, 2, 3, 0, 2, 1, 2, 4, 1, 3, 0])"
            ]
          },
          "execution_count": 5,
          "metadata": {},
          "output_type": "execute_result"
        }
      ],
      "source": [
        "degres = adja.sum(axis=1)\n",
        "degres"
      ]
    },
    {
      "cell_type": "code",
      "execution_count": 5,
      "id": "50cdcd35",
      "metadata": {},
      "outputs": [
        {
          "data": {
            "text/plain": [
              "{0: 3, 2: 7, 3: 2, 1: 2, 4: 1}"
            ]
          },
          "execution_count": 6,
          "metadata": {},
          "output_type": "execute_result"
        }
      ],
      "source": [
        "distrib = {}\n",
        "for d in degres:\n",
        "    if d in distrib:\n",
        "        distrib[d] += 1\n",
        "    else:\n",
        "        distrib[d] = 1\n",
        "distrib"
      ]
    },
    {
      "cell_type": "markdown",
      "id": "9747d283",
      "metadata": {},
      "source": [
        "On calcule $A + A^2 + A^3 + ... + A^n$ o\u00f9 n est la dimension de la matrice."
      ]
    },
    {
      "cell_type": "code",
      "execution_count": 6,
      "id": "cb764aad",
      "metadata": {},
      "outputs": [
        {
          "data": {
            "text/plain": [
              "array([[0, 0, 0, 0, 0, 0, 0, 0, 0, 0, 0, 0, 0, 0, 0],\n",
              "       [0, 1, 1, 1, 1, 1, 1, 0, 1, 1, 1, 1, 1, 1, 0],\n",
              "       [0, 1, 1, 1, 1, 1, 1, 0, 1, 1, 1, 1, 1, 1, 0],\n",
              "       [0, 1, 1, 1, 1, 1, 1, 0, 1, 1, 1, 1, 1, 1, 0],\n",
              "       [0, 1, 1, 1, 1, 1, 1, 0, 1, 1, 1, 1, 1, 1, 0],\n",
              "       [0, 1, 1, 1, 1, 1, 1, 0, 1, 1, 1, 1, 1, 1, 0],\n",
              "       [0, 1, 1, 1, 1, 1, 1, 0, 1, 1, 1, 1, 1, 1, 0],\n",
              "       [0, 0, 0, 0, 0, 0, 0, 0, 0, 0, 0, 0, 0, 0, 0],\n",
              "       [0, 1, 1, 1, 1, 1, 1, 0, 1, 1, 1, 1, 1, 1, 0],\n",
              "       [0, 1, 1, 1, 1, 1, 1, 0, 1, 1, 1, 1, 1, 1, 0],\n",
              "       [0, 1, 1, 1, 1, 1, 1, 0, 1, 1, 1, 1, 1, 1, 0],\n",
              "       [0, 1, 1, 1, 1, 1, 1, 0, 1, 1, 1, 1, 1, 1, 0],\n",
              "       [0, 1, 1, 1, 1, 1, 1, 0, 1, 1, 1, 1, 1, 1, 0],\n",
              "       [0, 1, 1, 1, 1, 1, 1, 0, 1, 1, 1, 1, 1, 1, 0],\n",
              "       [0, 0, 0, 0, 0, 0, 0, 0, 0, 0, 0, 0, 0, 0, 0]])"
            ]
          },
          "execution_count": 7,
          "metadata": {},
          "output_type": "execute_result"
        }
      ],
      "source": [
        "adjan = adja.copy()\n",
        "conne = numpy.zeros(adja.shape)\n",
        "for i in range(1, adja.shape[0]):\n",
        "    conne += adjan\n",
        "    adjan = adjan @ adja\n",
        "(conne > 0).astype(int)"
      ]
    },
    {
      "cell_type": "code",
      "execution_count": 7,
      "id": "a2c8b379",
      "metadata": {},
      "outputs": [
        {
          "data": {
            "text/plain": [
              "array([ 0,  1,  1,  1,  1,  1,  1,  7,  1,  1,  1,  1,  1,  1, 14])"
            ]
          },
          "execution_count": 8,
          "metadata": {},
          "output_type": "execute_result"
        }
      ],
      "source": [
        "C = numpy.arange(adja.shape[0])\n",
        "maj = 1\n",
        "while maj > 0:\n",
        "    maj = 0\n",
        "    for i in range(adja.shape[0]):\n",
        "        for j in range(i + 1, adja.shape[1]):\n",
        "            if adja[i, j] > 0 and C[i] != C[j]:\n",
        "                maj += 1\n",
        "                C[i] = C[j] = min(C[i], C[j])\n",
        "                \n",
        "C"
      ]
    },
    {
      "cell_type": "markdown",
      "id": "d525fcf4",
      "metadata": {},
      "source": [
        "[Graphes al\u00e9atoires](http://perso.ens-lyon.fr/eric.thierry/Graphes2007/thomas-braibant.pdf), [Les mod\u00e8les de graphes th\u00e9oriques](https://halshs.archives-ouvertes.fr/halshs-00773006/document),\n",
        "\n",
        "[algorithme graphe al\u00e9atoire](http://www.proba.jussieu.fr/pageperso/rebafka/BookGraphes/graphes-scale-free.html)\n",
        "\n",
        "[cours](https://www-complexnetworks.lip6.fr/~magnien/SDR/cours4.pdf)"
      ]
    },
    {
      "cell_type": "code",
      "execution_count": 8,
      "id": "419c31ad",
      "metadata": {},
      "outputs": [],
      "source": []
    }
  ],
  "metadata": {
    "kernelspec": {
      "display_name": "Python 3",
      "language": "python",
      "name": "python3"
    },
    "language_info": {
      "codemirror_mode": {
        "name": "ipython",
        "version": 3
      },
      "file_extension": ".py",
      "mimetype": "text/x-python",
      "name": "python",
      "nbconvert_exporter": "python",
      "pygments_lexer": "ipython3",
      "version": "3.9.5"
    }
  },
  "nbformat": 4,
  "nbformat_minor": 5
}