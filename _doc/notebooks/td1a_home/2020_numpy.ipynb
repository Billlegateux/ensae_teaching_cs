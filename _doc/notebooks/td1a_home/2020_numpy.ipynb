{
  "cells": [
    {
      "cell_type": "markdown",
      "metadata": {},
      "source": [
        "# Tech - calcul matriciel avec numpy\n",
        "\n",
        "[numpy](https://numpy.org/) est la librairie incontournable pour faire des calculs en Python. Ces fonctionnalit\u00e9s sont disponibles dans tous les langages et utilisent les optimisations processeurs. Il est hautement improbable d'\u00e9crire un code aussi rapide sans l'utiliser.\n",
        "\n",
        "[numpy](https://numpy.org/) impl\u00e9mente ce qu'on appelle les op\u00e9rations matricielles basiques ou plus commun\u00e9ment appel\u00e9es [BLAS](https://en.wikipedia.org/wiki/Basic_Linear_Algebra_Subprograms). Quelque soit le langage, l'impl\u00e9mentation est r\u00e9alis\u00e9e en langage bas niveau (C, fortran, assembleur) et a \u00e9t\u00e9 peaufin\u00e9e depuis 50 ans au gr\u00e9 des am\u00e9liorations mat\u00e9rielles."
      ]
    },
    {
      "cell_type": "code",
      "execution_count": 1,
      "metadata": {},
      "outputs": [
        {
          "data": {
            "text/html": [
              "<div id=\"my_id_menu_nb\">run previous cell, wait for 2 seconds</div>\n",
              "<script>\n",
              "function repeat_indent_string(n){\n",
              "    var a = \"\" ;\n",
              "    for ( ; n > 0 ; --n)\n",
              "        a += \"    \";\n",
              "    return a;\n",
              "}\n",
              "// look up into all sections and builds an automated menu //\n",
              "var update_menu_string = function(begin, lfirst, llast, sformat, send, keep_item, begin_format, end_format) {\n",
              "    var anchors = document.getElementsByClassName(\"section\");\n",
              "    if (anchors.length == 0) {\n",
              "        anchors = document.getElementsByClassName(\"text_cell_render rendered_html\");\n",
              "    }\n",
              "    var i,t;\n",
              "    var text_menu = begin;\n",
              "    var text_memo = \"<pre>\\nlength:\" + anchors.length + \"\\n\";\n",
              "    var ind = \"\";\n",
              "    var memo_level = 1;\n",
              "    var href;\n",
              "    var tags = [];\n",
              "    var main_item = 0;\n",
              "    var format_open = 0;\n",
              "    for (i = 0; i <= llast; i++)\n",
              "        tags.push(\"h\" + i);\n",
              "\n",
              "    for (i = 0; i < anchors.length; i++) {\n",
              "        text_memo += \"**\" + anchors[i].id + \"--\\n\";\n",
              "\n",
              "        var child = null;\n",
              "        for(t = 0; t < tags.length; t++) {\n",
              "            var r = anchors[i].getElementsByTagName(tags[t]);\n",
              "            if (r.length > 0) {\n",
              "child = r[0];\n",
              "break;\n",
              "            }\n",
              "        }\n",
              "        if (child == null) {\n",
              "            text_memo += \"null\\n\";\n",
              "            continue;\n",
              "        }\n",
              "        if (anchors[i].hasAttribute(\"id\")) {\n",
              "            // when converted in RST\n",
              "            href = anchors[i].id;\n",
              "            text_memo += \"#1-\" + href;\n",
              "            // passer \u00e0 child suivant (le chercher)\n",
              "        }\n",
              "        else if (child.hasAttribute(\"id\")) {\n",
              "            // in a notebook\n",
              "            href = child.id;\n",
              "            text_memo += \"#2-\" + href;\n",
              "        }\n",
              "        else {\n",
              "            text_memo += \"#3-\" + \"*\" + \"\\n\";\n",
              "            continue;\n",
              "        }\n",
              "        var title = child.textContent;\n",
              "        var level = parseInt(child.tagName.substring(1,2));\n",
              "\n",
              "        text_memo += \"--\" + level + \"?\" + lfirst + \"--\" + title + \"\\n\";\n",
              "\n",
              "        if ((level < lfirst) || (level > llast)) {\n",
              "            continue ;\n",
              "        }\n",
              "        if (title.endsWith('\u00b6')) {\n",
              "            title = title.substring(0,title.length-1).replace(\"<\", \"&lt;\")\n",
              "         .replace(\">\", \"&gt;\").replace(\"&\", \"&amp;\");\n",
              "        }\n",
              "        if (title.length == 0) {\n",
              "            continue;\n",
              "        }\n",
              "\n",
              "        while (level < memo_level) {\n",
              "            text_menu += end_format + \"</ul>\\n\";\n",
              "            format_open -= 1;\n",
              "            memo_level -= 1;\n",
              "        }\n",
              "        if (level == lfirst) {\n",
              "            main_item += 1;\n",
              "        }\n",
              "        if (keep_item != -1 && main_item != keep_item + 1) {\n",
              "            // alert(main_item + \" - \" + level + \" - \" + keep_item);\n",
              "            continue;\n",
              "        }\n",
              "        while (level > memo_level) {\n",
              "            text_menu += \"<ul>\\n\";\n",
              "            memo_level += 1;\n",
              "        }\n",
              "        text_menu += repeat_indent_string(level-2);\n",
              "        text_menu += begin_format + sformat.replace(\"__HREF__\", href).replace(\"__TITLE__\", title);\n",
              "        format_open += 1;\n",
              "    }\n",
              "    while (1 < memo_level) {\n",
              "        text_menu += end_format + \"</ul>\\n\";\n",
              "        memo_level -= 1;\n",
              "        format_open -= 1;\n",
              "    }\n",
              "    text_menu += send;\n",
              "    //text_menu += \"\\n\" + text_memo;\n",
              "\n",
              "    while (format_open > 0) {\n",
              "        text_menu += end_format;\n",
              "        format_open -= 1;\n",
              "    }\n",
              "    return text_menu;\n",
              "};\n",
              "var update_menu = function() {\n",
              "    var sbegin = \"\";\n",
              "    var sformat = '<a href=\"#__HREF__\">__TITLE__</a>';\n",
              "    var send = \"\";\n",
              "    var begin_format = '<li>';\n",
              "    var end_format = '</li>';\n",
              "    var keep_item = -1;\n",
              "    var text_menu = update_menu_string(sbegin, 2, 4, sformat, send, keep_item,\n",
              "       begin_format, end_format);\n",
              "    var menu = document.getElementById(\"my_id_menu_nb\");\n",
              "    menu.innerHTML=text_menu;\n",
              "};\n",
              "window.setTimeout(update_menu,2000);\n",
              "            </script>"
            ],
            "text/plain": [
              "<IPython.core.display.HTML object>"
            ]
          },
          "execution_count": 2,
          "metadata": {},
          "output_type": "execute_result"
        }
      ],
      "source": [
        "from jyquickhelper import add_notebook_menu\n",
        "add_notebook_menu()"
      ]
    },
    {
      "cell_type": "code",
      "execution_count": 2,
      "metadata": {},
      "outputs": [],
      "source": [
        "%matplotlib inline"
      ]
    },
    {
      "cell_type": "markdown",
      "metadata": {},
      "source": [
        "## Enonc\u00e9\n",
        "\n",
        "La librairie [numpy](https://numpy.org/) propose principalement deux types : [array](https://numpy.org/doc/stable/reference/generated/numpy.array.html) et [matrix](https://numpy.org/doc/stable/reference/generated/numpy.matrix.html). Pour faire simple, prenez toujours le premier. Ca \u00e9vite les erreurs. Les [array](https://numpy.org/doc/stable/reference/generated/numpy.array.html) sont des tableaux \u00e0 plusieurs dimensions."
      ]
    },
    {
      "cell_type": "markdown",
      "metadata": {},
      "source": [
        "### La ma\u00eetrise du slice\n",
        "\n",
        "Le slice est l'op\u00e9rateur ``:`` (d\u00e9crit sur la page [indexing](https://numpy.org/doc/stable/reference/arrays.indexing.html)). Il permet de r\u00e9cup\u00e9rer une ligne, une colonne, un intervalle de valeurs."
      ]
    },
    {
      "cell_type": "code",
      "execution_count": 3,
      "metadata": {},
      "outputs": [
        {
          "data": {
            "text/plain": [
              "array([[ 0,  5,  6, -3],\n",
              "       [ 6,  7, -4,  8],\n",
              "       [-5,  8, -4,  9]])"
            ]
          },
          "execution_count": 4,
          "metadata": {},
          "output_type": "execute_result"
        }
      ],
      "source": [
        "import numpy\n",
        "\n",
        "mat = numpy.array([[0, 5, 6, -3],\n",
        "                   [6, 7, -4, 8],\n",
        "                   [-5, 8, -4, 9]])\n",
        "mat"
      ]
    },
    {
      "cell_type": "code",
      "execution_count": 4,
      "metadata": {},
      "outputs": [
        {
          "data": {
            "text/plain": [
              "(array([[ 0,  5,  6, -3],\n",
              "        [ 6,  7, -4,  8]]),\n",
              " array([[ 0,  5],\n",
              "        [ 6,  7],\n",
              "        [-5,  8]]),\n",
              " -3,\n",
              " array([[0, 5],\n",
              "        [6, 7]]))"
            ]
          },
          "execution_count": 5,
          "metadata": {},
          "output_type": "execute_result"
        }
      ],
      "source": [
        "mat[:2], mat[:, :2], mat[0, 3], mat[0:2, 0:2]"
      ]
    },
    {
      "cell_type": "markdown",
      "metadata": {},
      "source": [
        "### La ma\u00eetrise du nan\n",
        "\n",
        "[nan](https://numpy.org/doc/stable/reference/constants.html) est une convention pour d\u00e9signer une valeur manquante. Elle r\u00e9agit de fa\u00e7on un peut particuli\u00e8re. Elle n'est \u00e9gale \u00e0 aucune autre y compris elle-m\u00eame."
      ]
    },
    {
      "cell_type": "code",
      "execution_count": 5,
      "metadata": {},
      "outputs": [
        {
          "data": {
            "text/plain": [
              "False"
            ]
          },
          "execution_count": 6,
          "metadata": {},
          "output_type": "execute_result"
        }
      ],
      "source": [
        "numpy.nan == numpy.nan"
      ]
    },
    {
      "cell_type": "code",
      "execution_count": 6,
      "metadata": {},
      "outputs": [
        {
          "data": {
            "text/plain": [
              "False"
            ]
          },
          "execution_count": 7,
          "metadata": {},
          "output_type": "execute_result"
        }
      ],
      "source": [
        "numpy.nan == 4"
      ]
    },
    {
      "cell_type": "markdown",
      "metadata": {},
      "source": [
        "Il faut donc utiliser une fonction sp\u00e9ciale [isnan](https://numpy.org/doc/stable/reference/generated/numpy.isnan.html)."
      ]
    },
    {
      "cell_type": "code",
      "execution_count": 7,
      "metadata": {},
      "outputs": [
        {
          "data": {
            "text/plain": [
              "True"
            ]
          },
          "execution_count": 8,
          "metadata": {},
          "output_type": "execute_result"
        }
      ],
      "source": [
        "numpy.isnan(numpy.nan)"
      ]
    },
    {
      "cell_type": "markdown",
      "metadata": {},
      "source": [
        "### La ma\u00eetrise des types\n",
        "\n",
        "Un tableau est d\u00e9fini par ses dimensions et le type unnique des \u00e9l\u00e9lments qu'il contient."
      ]
    },
    {
      "cell_type": "code",
      "execution_count": 8,
      "metadata": {},
      "outputs": [
        {
          "data": {
            "text/plain": [
              "((3,), dtype('int32'))"
            ]
          },
          "execution_count": 9,
          "metadata": {},
          "output_type": "execute_result"
        }
      ],
      "source": [
        "matint = numpy.array([0, 1, 2])\n",
        "matint.shape, matint.dtype"
      ]
    },
    {
      "cell_type": "markdown",
      "metadata": {},
      "source": [
        "C'est le m\u00eame type pour toute la matrice. Il existe plusieurs type d'entiers et des r\u00e9els pour des questions de performances."
      ]
    },
    {
      "cell_type": "code",
      "execution_count": 9,
      "metadata": {},
      "outputs": [
        {
          "name": "stdout",
          "output_type": "stream",
          "text": [
            "673 ns \u00b1 51.1 ns per loop (mean \u00b1 std. dev. of 7 runs, 1000000 loops each)\n"
          ]
        }
      ],
      "source": [
        "%timeit matint * matint"
      ]
    },
    {
      "cell_type": "code",
      "execution_count": 10,
      "metadata": {},
      "outputs": [
        {
          "data": {
            "text/plain": [
              "((3,), dtype('float64'))"
            ]
          },
          "execution_count": 11,
          "metadata": {},
          "output_type": "execute_result"
        }
      ],
      "source": [
        "matintf = matint.astype(numpy.float64)\n",
        "matintf.shape, matintf.dtype"
      ]
    },
    {
      "cell_type": "code",
      "execution_count": 11,
      "metadata": {},
      "outputs": [
        {
          "name": "stdout",
          "output_type": "stream",
          "text": [
            "945 ns \u00b1 184 ns per loop (mean \u00b1 std. dev. of 7 runs, 1000000 loops each)\n"
          ]
        }
      ],
      "source": [
        "%timeit matintf * matintf"
      ]
    },
    {
      "cell_type": "code",
      "execution_count": 12,
      "metadata": {},
      "outputs": [
        {
          "name": "stdout",
          "output_type": "stream",
          "text": [
            "1.17 \u00b5s \u00b1 78.8 ns per loop (mean \u00b1 std. dev. of 7 runs, 1000000 loops each)\n"
          ]
        }
      ],
      "source": [
        "%timeit matintf * matint"
      ]
    },
    {
      "cell_type": "markdown",
      "metadata": {},
      "source": [
        "Un changement de type et le calcul est plus long."
      ]
    },
    {
      "cell_type": "markdown",
      "metadata": {},
      "source": [
        "### La ma\u00eetrise du broadcasting\n",
        "\n",
        "Le [broadcasting](https://numpy.org/doc/stable/user/basics.broadcasting.html) signifie que certaines op\u00e9rations ont un sens m\u00eame si les dimensions des tableaux ne sont pas tout \u00e0 fait \u00e9gales."
      ]
    },
    {
      "cell_type": "code",
      "execution_count": 13,
      "metadata": {},
      "outputs": [
        {
          "data": {
            "text/plain": [
              "array([[ 0,  5,  6, -3],\n",
              "       [ 6,  7, -4,  8],\n",
              "       [-5,  8, -4,  9]])"
            ]
          },
          "execution_count": 14,
          "metadata": {},
          "output_type": "execute_result"
        }
      ],
      "source": [
        "mat"
      ]
    },
    {
      "cell_type": "code",
      "execution_count": 14,
      "metadata": {},
      "outputs": [
        {
          "data": {
            "text/plain": [
              "array([[1000, 1005, 1006,  997],\n",
              "       [1006, 1007,  996, 1008],\n",
              "       [ 995, 1008,  996, 1009]])"
            ]
          },
          "execution_count": 15,
          "metadata": {},
          "output_type": "execute_result"
        }
      ],
      "source": [
        "mat + 1000"
      ]
    },
    {
      "cell_type": "code",
      "execution_count": 15,
      "metadata": {},
      "outputs": [
        {
          "data": {
            "text/plain": [
              "array([[   0,   15,  106,  997],\n",
              "       [   6,   17,   96, 1008],\n",
              "       [  -5,   18,   96, 1009]])"
            ]
          },
          "execution_count": 16,
          "metadata": {},
          "output_type": "execute_result"
        }
      ],
      "source": [
        "mat + numpy.array([0, 10, 100, 1000])"
      ]
    },
    {
      "cell_type": "code",
      "execution_count": 16,
      "metadata": {},
      "outputs": [
        {
          "data": {
            "text/plain": [
              "array([[  0,   5,   6,  -3],\n",
              "       [ 16,  17,   6,  18],\n",
              "       [ 95, 108,  96, 109]])"
            ]
          },
          "execution_count": 17,
          "metadata": {},
          "output_type": "execute_result"
        }
      ],
      "source": [
        "mat + numpy.array([[0, 10, 100]]).T"
      ]
    },
    {
      "cell_type": "markdown",
      "metadata": {},
      "source": [
        "### La ma\u00eetrise des index"
      ]
    },
    {
      "cell_type": "code",
      "execution_count": 17,
      "metadata": {},
      "outputs": [
        {
          "data": {
            "text/plain": [
              "array([[ 0,  5,  6, -3],\n",
              "       [ 6,  7, -4,  8],\n",
              "       [-5,  8, -4,  9]])"
            ]
          },
          "execution_count": 18,
          "metadata": {},
          "output_type": "execute_result"
        }
      ],
      "source": [
        "mat = numpy.array([[0, 5, 6, -3],\n",
        "                   [6, 7, -4, 8],\n",
        "                   [-5, 8, -4, 9]])\n",
        "mat"
      ]
    },
    {
      "cell_type": "code",
      "execution_count": 18,
      "metadata": {},
      "outputs": [
        {
          "data": {
            "text/plain": [
              "array([[False,  True, False, False],\n",
              "       [False, False, False, False],\n",
              "       [False, False, False, False]])"
            ]
          },
          "execution_count": 19,
          "metadata": {},
          "output_type": "execute_result"
        }
      ],
      "source": [
        "mat == 5"
      ]
    },
    {
      "cell_type": "code",
      "execution_count": 19,
      "metadata": {},
      "outputs": [
        {
          "data": {
            "text/plain": [
              "array([[ True, False, False, False],\n",
              "       [False, False,  True, False],\n",
              "       [False, False, False,  True]])"
            ]
          },
          "execution_count": 20,
          "metadata": {},
          "output_type": "execute_result"
        }
      ],
      "source": [
        "mat == numpy.array([[0, -4, 9]]).T"
      ]
    },
    {
      "cell_type": "code",
      "execution_count": 20,
      "metadata": {},
      "outputs": [
        {
          "data": {
            "text/plain": [
              "array([[1, 0, 0, 0],\n",
              "       [0, 0, 1, 0],\n",
              "       [0, 0, 0, 1]], dtype=int64)"
            ]
          },
          "execution_count": 21,
          "metadata": {},
          "output_type": "execute_result"
        }
      ],
      "source": [
        "(mat == numpy.array([[0, -4, 9]]).T).astype(numpy.int64)"
      ]
    },
    {
      "cell_type": "code",
      "execution_count": 21,
      "metadata": {},
      "outputs": [
        {
          "data": {
            "text/plain": [
              "array([[ 0,  0,  0,  0],\n",
              "       [ 0,  0, -4,  0],\n",
              "       [ 0,  0,  0,  9]], dtype=int64)"
            ]
          },
          "execution_count": 22,
          "metadata": {},
          "output_type": "execute_result"
        }
      ],
      "source": [
        "mat * (mat == numpy.array([[0, -4, 9]]).T).astype(numpy.int64)"
      ]
    },
    {
      "cell_type": "markdown",
      "metadata": {},
      "source": [
        "### La ma\u00eetrise des fonctions\n",
        "\n",
        "On peut regrouper les op\u00e9rations que [numpy](https://numpy.org/) propose en diff\u00e9rents th\u00e8mes. Mais avant il \n",
        "\n",
        "* L'**initialisation** : [array](https://numpy.org/doc/stable/reference/generated/numpy.array.html), [empty](https://numpy.org/doc/stable/reference/generated/numpy.empty.html), [zeros](https://numpy.org/doc/stable/reference/generated/numpy.zeros.html), [ones](https://numpy.org/doc/stable/reference/generated/numpy.ones.html), [full](https://numpy.org/doc/stable/reference/generated/numpy.full.html), [identity](https://numpy.org/doc/stable/reference/generated/numpy.identity.html), [rand](https://numpy.org/doc/stable/reference/random/generated/numpy.random.rand.html), [randn](https://numpy.org/doc/stable/reference/random/generated/numpy.random.randn.html), [randint](https://numpy.org/doc/stable/reference/random/generated/numpy.random.randint.html)\n",
        "* Les **op\u00e9rations basiques** : `+`, `-`, `*`, `/`, `@`, [dot](https://numpy.org/doc/stable/reference/generated/numpy.dot.html)\n",
        "* Les **transformations** : [transpose](https://numpy.org/doc/stable/reference/generated/numpy.transpose.html), [hstack](https://numpy.org/doc/stable/reference/generated/numpy.hstack.html), [vstack](https://numpy.org/doc/stable/reference/generated/numpy.vstack.html), [reshape](https://numpy.org/doc/stable/reference/generated/numpy.reshape.html), [squeeze](https://numpy.org/doc/stable/reference/generated/numpy.squeeze.html), [expend_dims](https://numpy.org/doc/stable/reference/generated/numpy.expand_dims.html)\n",
        "* Les **op\u00e9rations de r\u00e9duction** : [minimum](https://numpy.org/doc/stable/reference/generated/numpy.minimum.html), [maximum](https://numpy.org/doc/stable/reference/generated/numpy.maximum.html), [argmin](https://numpy.org/doc/stable/reference/generated/numpy.argmin.html), [argmax](https://numpy.org/doc/stable/reference/generated/numpy.argmax.html), [sum](https://numpy.org/doc/stable/reference/generated/numpy.sum.html), [mean](https://numpy.org/doc/stable/reference/generated/numpy.mean.html), [prod](https://numpy.org/doc/stable/reference/generated/numpy.prod.html), [var](https://numpy.org/doc/stable/reference/generated/numpy.var.html), [std](https://numpy.org/doc/stable/reference/generated/numpy.std.html)\n",
        "* Tout le reste comme la g\u00e9n\u00e9ration de matrices al\u00e9atoires, le calcul des valeurs, vecteurs propres, des fonctions commme [take](https://numpy.org/doc/stable/reference/generated/numpy.take.html), ..."
      ]
    },
    {
      "cell_type": "markdown",
      "metadata": {},
      "source": [
        "### Q1 : calculer la valeur du $\\chi_2$ d'un tableau de contingence\n",
        "\n",
        "La formule est [l\u00e0](https://en.wikipedia.org/wiki/Pearson%27s_chi-squared_test#Testing_for_statistical_independence). Et il faut le faire sans boucle. Vous pouvez comparer avec la fonction [chisquare](https://docs.scipy.org/doc/scipy/reference/generated/scipy.stats.chisquare.html) de la librairie [scipy](https://www.scipy.org/) qui est une extension de [numpy](https://numpy.org/)."
      ]
    },
    {
      "cell_type": "code",
      "execution_count": 22,
      "metadata": {},
      "outputs": [],
      "source": []
    },
    {
      "cell_type": "markdown",
      "metadata": {},
      "source": [
        "### Q2 : calculer une distribution un peu particuli\u00e8re\n",
        "\n",
        "La fonction [histogram](https://numpy.org/doc/stable/reference/generated/numpy.histogram.html) permet de calculer la distribution empirique de variables. Pour cette question, on tire un vecteur al\u00e9atoire de taille 10 avec la fonction [rand](https://numpy.org/doc/stable/reference/random/generated/numpy.random.rand.html), on les trie par ordre croissant, on recommence plein de fois, on calcule la distribution du plus grand nombre, du second plus grand nombre, ..., du plus petit nombre."
      ]
    },
    {
      "cell_type": "code",
      "execution_count": 23,
      "metadata": {},
      "outputs": [],
      "source": []
    },
    {
      "cell_type": "markdown",
      "metadata": {},
      "source": [
        "### Q3 : on veut cr\u00e9er une matrice identit\u00e9 un million par un million\n",
        "\n",
        "Vous pouvez essayer sans r\u00e9fl\u00e9chir ou lire cette page d'abord : [csr_matrix](https://docs.scipy.org/doc/scipy/reference/generated/scipy.sparse.csr_matrix.html)."
      ]
    },
    {
      "cell_type": "code",
      "execution_count": 24,
      "metadata": {},
      "outputs": [],
      "source": []
    },
    {
      "cell_type": "markdown",
      "metadata": {},
      "source": [
        "### Q4 : vous devez cr\u00e9er l'application StopCovid\n",
        "\n",
        "Il existe une machine qui re\u00e7oit la position de 3 millions de t\u00e9l\u00e9phones portable. On veut identifier les cas contacts (rapidement)."
      ]
    },
    {
      "cell_type": "code",
      "execution_count": 25,
      "metadata": {},
      "outputs": [],
      "source": []
    },
    {
      "cell_type": "markdown",
      "metadata": {},
      "source": [
        "## R\u00e9ponses"
      ]
    },
    {
      "cell_type": "code",
      "execution_count": 26,
      "metadata": {},
      "outputs": [],
      "source": []
    }
  ],
  "metadata": {
    "kernelspec": {
      "display_name": "Python 3",
      "language": "python",
      "name": "python3"
    },
    "language_info": {
      "codemirror_mode": {
        "name": "ipython",
        "version": 3
      },
      "file_extension": ".py",
      "mimetype": "text/x-python",
      "name": "python",
      "nbconvert_exporter": "python",
      "pygments_lexer": "ipython3",
      "version": "3.7.2"
    }
  },
  "nbformat": 4,
  "nbformat_minor": 1
}