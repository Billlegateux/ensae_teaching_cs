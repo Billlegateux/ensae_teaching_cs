{
  "cells": [
    {
      "cell_type": "markdown",
      "metadata": {},
      "source": [
        "# Algo - les k premiers \u00e9l\u00e9ments\n",
        "\n",
        "Rechercher les k premiers \u00e9l\u00e9ments est un exercice classique d'algorithmie, souvent appel\u00e9 *top-k*et qu'on peut r\u00e9soudre \u00e0 l'aide d'un [algorithme de s\u00e9lection](https://fr.wikipedia.org/wiki/Algorithme_de_s%C3%A9lection). C'est tr\u00e8s utile en machine learning pour retourner les 3, 4, ou 5 premiers r\u00e9sultats d'un mod\u00e8le pr\u00e9dictif."
      ]
    },
    {
      "cell_type": "code",
      "execution_count": 1,
      "metadata": {},
      "outputs": [
        {
          "data": {
            "text/html": [
              "<div id=\"my_id_menu_nb\">run previous cell, wait for 2 seconds</div>\n",
              "<script>\n",
              "function repeat_indent_string(n){\n",
              "    var a = \"\" ;\n",
              "    for ( ; n > 0 ; --n)\n",
              "        a += \"    \";\n",
              "    return a;\n",
              "}\n",
              "// look up into all sections and builds an automated menu //\n",
              "var update_menu_string = function(begin, lfirst, llast, sformat, send, keep_item, begin_format, end_format) {\n",
              "    var anchors = document.getElementsByClassName(\"section\");\n",
              "    if (anchors.length == 0) {\n",
              "        anchors = document.getElementsByClassName(\"text_cell_render rendered_html\");\n",
              "    }\n",
              "    var i,t;\n",
              "    var text_menu = begin;\n",
              "    var text_memo = \"<pre>\\nlength:\" + anchors.length + \"\\n\";\n",
              "    var ind = \"\";\n",
              "    var memo_level = 1;\n",
              "    var href;\n",
              "    var tags = [];\n",
              "    var main_item = 0;\n",
              "    var format_open = 0;\n",
              "    for (i = 0; i <= llast; i++)\n",
              "        tags.push(\"h\" + i);\n",
              "\n",
              "    for (i = 0; i < anchors.length; i++) {\n",
              "        text_memo += \"**\" + anchors[i].id + \"--\\n\";\n",
              "\n",
              "        var child = null;\n",
              "        for(t = 0; t < tags.length; t++) {\n",
              "            var r = anchors[i].getElementsByTagName(tags[t]);\n",
              "            if (r.length > 0) {\n",
              "child = r[0];\n",
              "break;\n",
              "            }\n",
              "        }\n",
              "        if (child == null) {\n",
              "            text_memo += \"null\\n\";\n",
              "            continue;\n",
              "        }\n",
              "        if (anchors[i].hasAttribute(\"id\")) {\n",
              "            // when converted in RST\n",
              "            href = anchors[i].id;\n",
              "            text_memo += \"#1-\" + href;\n",
              "            // passer \u00e0 child suivant (le chercher)\n",
              "        }\n",
              "        else if (child.hasAttribute(\"id\")) {\n",
              "            // in a notebook\n",
              "            href = child.id;\n",
              "            text_memo += \"#2-\" + href;\n",
              "        }\n",
              "        else {\n",
              "            text_memo += \"#3-\" + \"*\" + \"\\n\";\n",
              "            continue;\n",
              "        }\n",
              "        var title = child.textContent;\n",
              "        var level = parseInt(child.tagName.substring(1,2));\n",
              "\n",
              "        text_memo += \"--\" + level + \"?\" + lfirst + \"--\" + title + \"\\n\";\n",
              "\n",
              "        if ((level < lfirst) || (level > llast)) {\n",
              "            continue ;\n",
              "        }\n",
              "        if (title.endsWith('\u00b6')) {\n",
              "            title = title.substring(0,title.length-1).replace(\"<\", \"&lt;\")\n",
              "         .replace(\">\", \"&gt;\").replace(\"&\", \"&amp;\");\n",
              "        }\n",
              "        if (title.length == 0) {\n",
              "            continue;\n",
              "        }\n",
              "\n",
              "        while (level < memo_level) {\n",
              "            text_menu += end_format + \"</ul>\\n\";\n",
              "            format_open -= 1;\n",
              "            memo_level -= 1;\n",
              "        }\n",
              "        if (level == lfirst) {\n",
              "            main_item += 1;\n",
              "        }\n",
              "        if (keep_item != -1 && main_item != keep_item + 1) {\n",
              "            // alert(main_item + \" - \" + level + \" - \" + keep_item);\n",
              "            continue;\n",
              "        }\n",
              "        while (level > memo_level) {\n",
              "            text_menu += \"<ul>\\n\";\n",
              "            memo_level += 1;\n",
              "        }\n",
              "        text_menu += repeat_indent_string(level-2);\n",
              "        text_menu += begin_format + sformat.replace(\"__HREF__\", href).replace(\"__TITLE__\", title);\n",
              "        format_open += 1;\n",
              "    }\n",
              "    while (1 < memo_level) {\n",
              "        text_menu += end_format + \"</ul>\\n\";\n",
              "        memo_level -= 1;\n",
              "        format_open -= 1;\n",
              "    }\n",
              "    text_menu += send;\n",
              "    //text_menu += \"\\n\" + text_memo;\n",
              "\n",
              "    while (format_open > 0) {\n",
              "        text_menu += end_format;\n",
              "        format_open -= 1;\n",
              "    }\n",
              "    return text_menu;\n",
              "};\n",
              "var update_menu = function() {\n",
              "    var sbegin = \"\";\n",
              "    var sformat = '<a href=\"#__HREF__\">__TITLE__</a>';\n",
              "    var send = \"\";\n",
              "    var begin_format = '<li>';\n",
              "    var end_format = '</li>';\n",
              "    var keep_item = -1;\n",
              "    var text_menu = update_menu_string(sbegin, 2, 4, sformat, send, keep_item,\n",
              "       begin_format, end_format);\n",
              "    var menu = document.getElementById(\"my_id_menu_nb\");\n",
              "    menu.innerHTML=text_menu;\n",
              "};\n",
              "window.setTimeout(update_menu,2000);\n",
              "            </script>"
            ],
            "text/plain": [
              "<IPython.core.display.HTML object>"
            ]
          },
          "execution_count": 2,
          "metadata": {},
          "output_type": "execute_result"
        }
      ],
      "source": [
        "from jyquickhelper import add_notebook_menu\n",
        "add_notebook_menu()"
      ]
    },
    {
      "cell_type": "markdown",
      "metadata": {},
      "source": [
        "## Enonc\u00e9\n",
        "\n",
        "On part d'une liste toute simple, une permutation al\u00e9atoire des premiers entiers. On conna\u00eet donc les *k* plus petits \u00e9l\u00e9ments qu'il faut obtenir."
      ]
    },
    {
      "cell_type": "code",
      "execution_count": 2,
      "metadata": {},
      "outputs": [
        {
          "data": {
            "text/plain": [
              "array([19,  1,  7, 15, 14,  9,  5,  2, 12,  4,  3, 18,  8,  0, 16, 17,  6,\n",
              "       13, 10, 11])"
            ]
          },
          "execution_count": 3,
          "metadata": {},
          "output_type": "execute_result"
        }
      ],
      "source": [
        "import numpy\n",
        "perm = numpy.random.permutation(numpy.arange(20))\n",
        "perm"
      ]
    },
    {
      "cell_type": "markdown",
      "metadata": {},
      "source": [
        "### Exercice 1 : on trie tout et on prend les k plus petit\n",
        "\n",
        "C'est la m\u00e9thode la plus simple mais pas la plus efficace."
      ]
    },
    {
      "cell_type": "code",
      "execution_count": 3,
      "metadata": {},
      "outputs": [],
      "source": [
        "def topk_sortall(ensemble, k):\n",
        "    # \u00e0 vous\n",
        "    # ...\n",
        "    pass\n",
        "\n",
        "topk_sortall(perm, 4)"
      ]
    },
    {
      "cell_type": "markdown",
      "metadata": {},
      "source": [
        "### Exercice 2 : version plus rapide au choix\n",
        "\n",
        "A vois de choisir entre l'une et l'autre voire les deux si vous allez vite.\n",
        "\n",
        "**Id\u00e9e 1**\n",
        "\n",
        "On garde un tableau de *k* \u00e9l\u00e9ments tri\u00e9s *T*, on parcourt tous les \u00e9l\u00e9ments du tableau initial. Si l'\u00e9l\u00e9ment est plus petit que le plus grand des \u00e9l\u00e9ments dans le tableau *T*, on l'ajoute \u00e0 ce tableau de fa\u00e7on \u00e0 le garder trier. On continue jusqu'\u00e0 la fin et le tableau *T* est l'ensemble des *k* plus petits \u00e9l\u00e9ments.\n",
        "\n",
        "**Id\u00e9e 2**\n",
        "\n",
        "On d\u00e9coupe le tableau en $\\left[\\frac{n}{k}\\right]$ tableaux de taille *k* qu'on trie. On fusionne ensuite ces $\\left[\\frac{n}{k}\\right]$ pour garder ensuite les *k* plus petits \u00e9l\u00e9ments."
      ]
    },
    {
      "cell_type": "code",
      "execution_count": 4,
      "metadata": {},
      "outputs": [],
      "source": [
        "def topk_idee1ou2(ensemble, k):\n",
        "    pass"
      ]
    },
    {
      "cell_type": "markdown",
      "metadata": {},
      "source": [
        "Vous avez aussi le droit de tricher pour une troisi\u00e8me id\u00e9e [Heap / Tas](http://www.xavierdupre.fr/app/ensae_teaching_cs/helpsphinx3/notebooks/nbheap.html) mais il faudra vous d\u00e9brouiller tout seul."
      ]
    },
    {
      "cell_type": "markdown",
      "metadata": {},
      "source": [
        "### Exercice 3 : algorithme de s\u00e9lection\n",
        "\n",
        "L'id\u00e9e est assez simple : on prend un \u00e9l\u00e9ment du tableau au hasard - le pivot - , on range \u00e0 droite tous les \u00e9l\u00e9ments sup\u00e9rieurs, \u00e0 gauche tous les \u00e9l\u00e9ments inf\u00e9rieurs. Si ce pivot se trouve \u00e0 la position *k* alors on a trouv\u00e9 les *k* plus petits \u00e9l\u00e9ments. Sinon, on sait o\u00f9 chercher."
      ]
    },
    {
      "cell_type": "code",
      "execution_count": 5,
      "metadata": {},
      "outputs": [],
      "source": []
    },
    {
      "cell_type": "markdown",
      "metadata": {},
      "source": [
        "### Exercice 4 : utiliser la fonction perf_counter pour comparer les vitessses de chaque solution\n",
        "\n",
        "Et bien s\u00fbr, il faudra expliquer pourquoi l'algorithme le plus rapide est bien le plus rapide. Faire varier la taille du tableau initial."
      ]
    },
    {
      "cell_type": "code",
      "execution_count": 6,
      "metadata": {},
      "outputs": [],
      "source": [
        "from time import perf_counter"
      ]
    },
    {
      "cell_type": "code",
      "execution_count": 7,
      "metadata": {},
      "outputs": [],
      "source": []
    },
    {
      "cell_type": "markdown",
      "metadata": {},
      "source": [
        "## R\u00e9ponses"
      ]
    },
    {
      "cell_type": "markdown",
      "metadata": {},
      "source": [
        "### Exercice 1 : on trie tout et on prend les k plus petit\n",
        "\n",
        "Tr\u00e8s simple mais le co\u00fbt est en $O(n \\ln n)$ puisqu'il faut trier tous les \u00e9l\u00e9ments."
      ]
    },
    {
      "cell_type": "code",
      "execution_count": 8,
      "metadata": {},
      "outputs": [
        {
          "data": {
            "text/plain": [
              "array([0, 1, 2, 3])"
            ]
          },
          "execution_count": 9,
          "metadata": {},
          "output_type": "execute_result"
        }
      ],
      "source": [
        "def topk_sortall(ensemble, k):\n",
        "    ensemble = ensemble.copy()\n",
        "    ensemble.sort()\n",
        "    return ensemble[:k]\n",
        "\n",
        "topk_sortall(perm, 4)"
      ]
    },
    {
      "cell_type": "markdown",
      "metadata": {},
      "source": [
        "Or trier tous les \u00e9l\u00e9ments n'est pas n\u00e9cessaire. On n'a pas besoin de trier tous les \u00e9l\u00e9ments apr\u00e8s la position *k*. Il est donc a priori envisageable de fairre mieux en ne faisant que les calculs n\u00e9cessaires."
      ]
    },
    {
      "cell_type": "markdown",
      "metadata": {},
      "source": [
        "### Exercice 2 : version plus rapide au choix\n",
        "\n",
        "La premi\u00e8re id\u00e9e n'est pas une de celles propos\u00e9es mais elle est tr\u00e8s simple. Parmi les tris d\u00e9crits sur cette [interstices/tri](https://interstices.info/les-algorithmes-de-tri/), le tri par s\u00e9lection est int\u00e9ressant car il suffit d'effectuer les *k* premi\u00e8res it\u00e9rations pour retrouver les *k* plus petits \u00e9l\u00e9ments aux *k* premi\u00e8res positions."
      ]
    },
    {
      "cell_type": "code",
      "execution_count": 9,
      "metadata": {},
      "outputs": [
        {
          "data": {
            "text/plain": [
              "array([0, 1, 2, 3])"
            ]
          },
          "execution_count": 10,
          "metadata": {},
          "output_type": "execute_result"
        }
      ],
      "source": [
        "def topk_tri_selection(ensemble, k):\n",
        "    ensemble = ensemble.copy()\n",
        "    for i in range(0, min(k, len(ensemble))):\n",
        "        for j in range(i + 1, len(ensemble)):\n",
        "            if ensemble[i] > ensemble[j]:\n",
        "                ensemble[i], ensemble[j] = ensemble[j], ensemble[i]\n",
        "    return ensemble[:k]\n",
        "\n",
        "topk_tri_selection(perm, 4)"
      ]
    },
    {
      "cell_type": "markdown",
      "metadata": {},
      "source": [
        "Le co\u00fbt de l'algorithme est en $O(kn)$.\n",
        "\n",
        "**id\u00e9e 1**"
      ]
    },
    {
      "cell_type": "code",
      "execution_count": 10,
      "metadata": {},
      "outputs": [
        {
          "data": {
            "text/plain": [
              "[0, 1, 2, 3]"
            ]
          },
          "execution_count": 11,
          "metadata": {},
          "output_type": "execute_result"
        }
      ],
      "source": [
        "def topk_insertion(ensemble, k):\n",
        "    \n",
        "    def position(sub, value):\n",
        "        a, b = 0, len(sub) - 1\n",
        "        m = (a + b) // 2\n",
        "        while a < b:\n",
        "            if value == sub[m]:\n",
        "                return m\n",
        "            if value < sub[m]:\n",
        "                b = m - 1\n",
        "            else:\n",
        "                a = m + 1\n",
        "            m = (a + b) // 2\n",
        "        return m if sub[m] >= value else m + 1\n",
        "    \n",
        "    res = [ensemble[0]]\n",
        "    for i in range(1, len(ensemble)):\n",
        "        if ensemble[i] < res[-1]:\n",
        "            # on ins\u00e8re selon un m\u00e9thode dichotomique\n",
        "            p = position(res, ensemble[i])\n",
        "            res.insert(p, ensemble[i])\n",
        "            if len(res) > k:\n",
        "                res.pop()\n",
        "    \n",
        "    return res\n",
        "\n",
        "\n",
        "topk_insertion(perm, 4)"
      ]
    },
    {
      "cell_type": "markdown",
      "metadata": {},
      "source": [
        "Le co\u00fbt de l'algorithme est dans le pire des cas $O(n * (\\ln k + k))$ :\n",
        "\n",
        "* *n* car il y *n* it\u00e9rations\n",
        "* $\\ln k$ car on recherche un \u00e9l\u00e9ment de fa\u00e7on dichotomique dans un tableau tri\u00e9\n",
        "* *k* car on ins\u00e8re un \u00e9l\u00e9ment dans un tableau en d\u00e9pla\u00e7ant tous les \u00e9l\u00e9ments plus grands\n",
        "\n",
        "Dans les faits, c'est un peu plus compliqu\u00e9 car le fait qu'on ait trouv\u00e9 un \u00e9l\u00e9ment plus petit \u00e0 la position $i$ que le plus grand d\u00e9j\u00e0 trouv\u00e9 n'est pas un \u00e9v\u00e9nement fr\u00e9quent si on suppose que le tableau est dans un ordre al\u00e9atoire. On pourrait m\u00eame dire que la probabilit\u00e9 de trouver un \u00e9l\u00e9ment faisant partie des *k* plus petits \u00e9l\u00e9ments est de plus en plus faible. On pourrait soit en rester l\u00e0, soit se dire qu'on souhaite un algorithme plus rapide encore m\u00eame dans le pire des cas qui serait pour cette version-ci un tableau tri\u00e9 dans le sens d\u00e9croissant. Dans ce cas, on sait que le prochain \u00e9l\u00e9ment fait toujours partie des $k$ plus petits \u00e9l\u00e9ments connus jusqu'\u00e0 pr\u00e9sent.\n",
        "\n",
        "On pourrait r\u00e9pondre \u00e0 cette question si on suppose que les \u00e9l\u00e9ments sont ind\u00e9pendants et tir\u00e9s selon la m\u00eame loi al\u00e9atoire."
      ]
    },
    {
      "cell_type": "markdown",
      "metadata": {},
      "source": [
        "**id\u00e9e 2**\n",
        "\n",
        "L'id\u00e9e est un peu plus compliqu\u00e9e."
      ]
    },
    {
      "cell_type": "code",
      "execution_count": 11,
      "metadata": {},
      "outputs": [
        {
          "data": {
            "text/plain": [
              "[0, 1, 2, 3]"
            ]
          },
          "execution_count": 12,
          "metadata": {},
          "output_type": "execute_result"
        }
      ],
      "source": [
        "def topk_fusion(ensemble, k):\n",
        "    n = len(ensemble) // (len(ensemble) // k)\n",
        "    res = []\n",
        "    last = 0\n",
        "    while last < len(ensemble):\n",
        "        res.append(last)\n",
        "        last += n\n",
        "    res.append(len(ensemble))\n",
        "    \n",
        "    subs = []\n",
        "    for i in range(1, len(res)):\n",
        "        sub = ensemble[res[i-1] : res[i]]\n",
        "        sub.sort()\n",
        "        subs.append(sub)\n",
        "        \n",
        "    indices = [0 for sub in subs]\n",
        "    topk = []\n",
        "    while len(topk) < k:\n",
        "        arg = None\n",
        "        for i, sub in enumerate(subs):\n",
        "            if indices[i] < len(sub) and (arg is None or sub[indices[i]] < subs[arg][indices[arg]]):\n",
        "                arg = i\n",
        "        topk.append(subs[arg][indices[arg]])\n",
        "        indices[arg] += 1\n",
        "    \n",
        "    return topk\n",
        "    \n",
        "\n",
        "topk_fusion(perm, 4)"
      ]
    },
    {
      "cell_type": "markdown",
      "metadata": {},
      "source": [
        "### Exercice 3 : algorithme de s\u00e9lection\n",
        "\n",
        "Premi\u00e8re version par r\u00e9currence."
      ]
    },
    {
      "cell_type": "code",
      "execution_count": 12,
      "metadata": {},
      "outputs": [
        {
          "data": {
            "text/plain": [
              "[1, 2, 0, 3]"
            ]
          },
          "execution_count": 13,
          "metadata": {},
          "output_type": "execute_result"
        }
      ],
      "source": [
        "def topk_select_recursive(ensemble, k):\n",
        "    if len(ensemble) <= k:\n",
        "        return ensemble\n",
        "    p = ensemble[k]\n",
        "    inf, sup = [], []\n",
        "    for e in ensemble:\n",
        "        if e > p:\n",
        "            sup.append(e)\n",
        "        else:\n",
        "            inf.append(e)\n",
        "    if len(inf) == k:\n",
        "        return inf\n",
        "    if len(sup) == 0:\n",
        "        # potentiellement une boucle infinie, on change\n",
        "        # le pivot de c\u00f4t\u00e9\n",
        "        sup.append(p)\n",
        "        del inf[inf.index(p)]\n",
        "    if len(inf) > k:\n",
        "        return topk_select_recursive(inf, k)\n",
        "    return inf + topk_select_recursive(sup, k - len(inf))\n",
        "\n",
        "\n",
        "topk_select_recursive(perm, 4)"
      ]
    },
    {
      "cell_type": "markdown",
      "metadata": {},
      "source": [
        "Une seconde version sans r\u00e9currence."
      ]
    },
    {
      "cell_type": "code",
      "execution_count": 13,
      "metadata": {},
      "outputs": [
        {
          "data": {
            "text/plain": [
              "array([1, 0, 2, 3])"
            ]
          },
          "execution_count": 14,
          "metadata": {},
          "output_type": "execute_result"
        }
      ],
      "source": [
        "def topk_select(ensemble, k):\n",
        "    ensemble = ensemble.copy()\n",
        "    \n",
        "    def loop(a, b, pivot):\n",
        "        pivot_index = None\n",
        "        while a < b:\n",
        "            while a < len(ensemble) and ensemble[a] < pivot:\n",
        "                a += 1\n",
        "            while b >= 0 and ensemble[b] >= pivot:\n",
        "                if ensemble[b] == pivot:\n",
        "                    pivot_index = b\n",
        "                b -= 1\n",
        "            if a < b:\n",
        "                ensemble[a], ensemble[b] = ensemble[b], ensemble[a]\n",
        "        return min(a, len(ensemble) - 1), pivot_index\n",
        "            \n",
        "\n",
        "    a = 0\n",
        "    b = len(ensemble) - 1\n",
        "    m = k\n",
        "    while True:\n",
        "        pivot = ensemble[m]\n",
        "        m, pi = loop(a, b, pivot)\n",
        "        if m == k:\n",
        "            return ensemble[:m]\n",
        "        # Les cas particuliers interviennent lorsque pivot choisi est\n",
        "        # identique au pr\u00e9c\u00e9dent.\n",
        "        if m > k:\n",
        "            if b == m - 1:\n",
        "                ensemble[b], ensemble[pi] = ensemble[pi], ensemble[b]\n",
        "                b -= 1\n",
        "            else:\n",
        "                b = m - 1\n",
        "        else:\n",
        "            if a == m:\n",
        "                ensemble[a], ensemble[pi] = ensemble[pi], ensemble[a]\n",
        "                a += 1\n",
        "            else:\n",
        "                a = m\n",
        "        m = k\n",
        "\n",
        "            \n",
        "topk_select(perm, 4)"
      ]
    },
    {
      "cell_type": "markdown",
      "metadata": {},
      "source": [
        "### Exercice 4 : utiliser la fonction perf_counter pour comparer les vitessses de chaque solution"
      ]
    },
    {
      "cell_type": "code",
      "execution_count": 14,
      "metadata": {},
      "outputs": [
        {
          "data": {
            "text/plain": [
              "0.003991000000041822"
            ]
          },
          "execution_count": 15,
          "metadata": {},
          "output_type": "execute_result"
        }
      ],
      "source": [
        "from time import perf_counter\n",
        "\n",
        "def measure_time(fct, perm, k, repeat=1000):\n",
        "    t1 = perf_counter()\n",
        "    for r in range(repeat):\n",
        "        fct(perm, k)\n",
        "    return perf_counter() - t1\n",
        "\n",
        "measure_time(topk_sortall, perm, 4)"
      ]
    },
    {
      "cell_type": "code",
      "execution_count": 15,
      "metadata": {},
      "outputs": [
        {
          "data": {
            "text/plain": [
              "0.06562429999985397"
            ]
          },
          "execution_count": 16,
          "metadata": {},
          "output_type": "execute_result"
        }
      ],
      "source": [
        "measure_time(topk_tri_selection, perm, 4)"
      ]
    },
    {
      "cell_type": "code",
      "execution_count": 16,
      "metadata": {},
      "outputs": [
        {
          "data": {
            "text/plain": [
              "0.006820699999934732"
            ]
          },
          "execution_count": 17,
          "metadata": {},
          "output_type": "execute_result"
        }
      ],
      "source": [
        "measure_time(topk_insertion, perm, 4)"
      ]
    },
    {
      "cell_type": "code",
      "execution_count": 17,
      "metadata": {},
      "outputs": [
        {
          "data": {
            "text/plain": [
              "0.031233499999871128"
            ]
          },
          "execution_count": 18,
          "metadata": {},
          "output_type": "execute_result"
        }
      ],
      "source": [
        "measure_time(topk_fusion, perm, 4)"
      ]
    },
    {
      "cell_type": "code",
      "execution_count": 18,
      "metadata": {},
      "outputs": [
        {
          "data": {
            "text/plain": [
              "0.027547499999855063"
            ]
          },
          "execution_count": 19,
          "metadata": {},
          "output_type": "execute_result"
        }
      ],
      "source": [
        "measure_time(topk_select_recursive, perm, 4)"
      ]
    },
    {
      "cell_type": "code",
      "execution_count": 19,
      "metadata": {},
      "outputs": [
        {
          "data": {
            "text/plain": [
              "0.0858320999998341"
            ]
          },
          "execution_count": 20,
          "metadata": {},
          "output_type": "execute_result"
        }
      ],
      "source": [
        "measure_time(topk_select, perm, 4)"
      ]
    },
    {
      "cell_type": "markdown",
      "metadata": {},
      "source": [
        "La premi\u00e8re fonction est plus rapide surtout parce que le tri est impl\u00e9ment\u00e9 par une fonction du langage particuli\u00e8rement optimis\u00e9e (en C). Il faudrait impl\u00e9menter un tri en python pour pouvoir comparer."
      ]
    },
    {
      "cell_type": "code",
      "execution_count": 20,
      "metadata": {},
      "outputs": [],
      "source": [
        "perm10000 = numpy.random.permutation(numpy.arange(10000))"
      ]
    },
    {
      "cell_type": "code",
      "execution_count": 21,
      "metadata": {},
      "outputs": [
        {
          "data": {
            "text/plain": [
              "0.007338600000139195"
            ]
          },
          "execution_count": 22,
          "metadata": {},
          "output_type": "execute_result"
        }
      ],
      "source": [
        "measure_time(topk_sortall, perm10000, 40, repeat=10)"
      ]
    },
    {
      "cell_type": "code",
      "execution_count": 22,
      "metadata": {},
      "outputs": [
        {
          "data": {
            "text/plain": [
              "1.5740684999998393"
            ]
          },
          "execution_count": 23,
          "metadata": {},
          "output_type": "execute_result"
        }
      ],
      "source": [
        "measure_time(topk_tri_selection, perm10000, 40, repeat=10)"
      ]
    },
    {
      "cell_type": "code",
      "execution_count": 23,
      "metadata": {},
      "outputs": [
        {
          "data": {
            "text/plain": [
              "0.04748210000002473"
            ]
          },
          "execution_count": 24,
          "metadata": {},
          "output_type": "execute_result"
        }
      ],
      "source": [
        "measure_time(topk_insertion, perm10000, 40, repeat=10)"
      ]
    },
    {
      "cell_type": "code",
      "execution_count": 24,
      "metadata": {},
      "outputs": [
        {
          "data": {
            "text/plain": [
              "0.08374770000000353"
            ]
          },
          "execution_count": 25,
          "metadata": {},
          "output_type": "execute_result"
        }
      ],
      "source": [
        "measure_time(topk_fusion, perm10000, 40, repeat=10)"
      ]
    },
    {
      "cell_type": "code",
      "execution_count": 25,
      "metadata": {},
      "outputs": [
        {
          "data": {
            "text/plain": [
              "0.03768960000002153"
            ]
          },
          "execution_count": 26,
          "metadata": {},
          "output_type": "execute_result"
        }
      ],
      "source": [
        "measure_time(topk_select_recursive, perm10000, 40, repeat=10)"
      ]
    },
    {
      "cell_type": "code",
      "execution_count": 26,
      "metadata": {},
      "outputs": [
        {
          "data": {
            "text/plain": [
              "0.08520759999987604"
            ]
          },
          "execution_count": 27,
          "metadata": {},
          "output_type": "execute_result"
        }
      ],
      "source": [
        "measure_time(topk_select, perm10000, 40, repeat=10)"
      ]
    },
    {
      "cell_type": "code",
      "execution_count": 27,
      "metadata": {},
      "outputs": [],
      "source": []
    },
    {
      "cell_type": "code",
      "execution_count": 28,
      "metadata": {},
      "outputs": [],
      "source": []
    }
  ],
  "metadata": {
    "kernelspec": {
      "display_name": "Python 3",
      "language": "python",
      "name": "python3"
    },
    "language_info": {
      "codemirror_mode": {
        "name": "ipython",
        "version": 3
      },
      "file_extension": ".py",
      "mimetype": "text/x-python",
      "name": "python",
      "nbconvert_exporter": "python",
      "pygments_lexer": "ipython3",
      "version": "3.7.2"
    }
  },
  "nbformat": 4,
  "nbformat_minor": 1
}