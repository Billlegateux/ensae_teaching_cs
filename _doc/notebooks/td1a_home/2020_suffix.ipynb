{
  "cells": [
    {
      "cell_type": "markdown",
      "metadata": {},
      "source": [
        "# Algo - jeux de dictionnaires, plus grand suffix commun\n",
        "\n",
        "Les [dictionnaires](http://www.xavierdupre.fr/app/teachpyx/helpsphinx/c_lang/types.html#dictionnaire) sont tr\u00e8s utilis\u00e9s pour associer des choses entre elles, surtout quand ces choses ne sont pas enti\u00e8res. Le notebook montre l'int\u00e9r\u00eat de perdre un peu de temps pour transformer les donn\u00e9es et rendre un calcul plus rapide."
      ]
    },
    {
      "cell_type": "code",
      "execution_count": 1,
      "metadata": {},
      "outputs": [
        {
          "data": {
            "text/html": [
              "<div id=\"my_id_menu_nb\">run previous cell, wait for 2 seconds</div>\n",
              "<script>\n",
              "function repeat_indent_string(n){\n",
              "    var a = \"\" ;\n",
              "    for ( ; n > 0 ; --n)\n",
              "        a += \"    \";\n",
              "    return a;\n",
              "}\n",
              "// look up into all sections and builds an automated menu //\n",
              "var update_menu_string = function(begin, lfirst, llast, sformat, send, keep_item, begin_format, end_format) {\n",
              "    var anchors = document.getElementsByClassName(\"section\");\n",
              "    if (anchors.length == 0) {\n",
              "        anchors = document.getElementsByClassName(\"text_cell_render rendered_html\");\n",
              "    }\n",
              "    var i,t;\n",
              "    var text_menu = begin;\n",
              "    var text_memo = \"<pre>\\nlength:\" + anchors.length + \"\\n\";\n",
              "    var ind = \"\";\n",
              "    var memo_level = 1;\n",
              "    var href;\n",
              "    var tags = [];\n",
              "    var main_item = 0;\n",
              "    var format_open = 0;\n",
              "    for (i = 0; i <= llast; i++)\n",
              "        tags.push(\"h\" + i);\n",
              "\n",
              "    for (i = 0; i < anchors.length; i++) {\n",
              "        text_memo += \"**\" + anchors[i].id + \"--\\n\";\n",
              "\n",
              "        var child = null;\n",
              "        for(t = 0; t < tags.length; t++) {\n",
              "            var r = anchors[i].getElementsByTagName(tags[t]);\n",
              "            if (r.length > 0) {\n",
              "child = r[0];\n",
              "break;\n",
              "            }\n",
              "        }\n",
              "        if (child == null) {\n",
              "            text_memo += \"null\\n\";\n",
              "            continue;\n",
              "        }\n",
              "        if (anchors[i].hasAttribute(\"id\")) {\n",
              "            // when converted in RST\n",
              "            href = anchors[i].id;\n",
              "            text_memo += \"#1-\" + href;\n",
              "            // passer \u00e0 child suivant (le chercher)\n",
              "        }\n",
              "        else if (child.hasAttribute(\"id\")) {\n",
              "            // in a notebook\n",
              "            href = child.id;\n",
              "            text_memo += \"#2-\" + href;\n",
              "        }\n",
              "        else {\n",
              "            text_memo += \"#3-\" + \"*\" + \"\\n\";\n",
              "            continue;\n",
              "        }\n",
              "        var title = child.textContent;\n",
              "        var level = parseInt(child.tagName.substring(1,2));\n",
              "\n",
              "        text_memo += \"--\" + level + \"?\" + lfirst + \"--\" + title + \"\\n\";\n",
              "\n",
              "        if ((level < lfirst) || (level > llast)) {\n",
              "            continue ;\n",
              "        }\n",
              "        if (title.endsWith('\u00b6')) {\n",
              "            title = title.substring(0,title.length-1).replace(\"<\", \"&lt;\")\n",
              "         .replace(\">\", \"&gt;\").replace(\"&\", \"&amp;\");\n",
              "        }\n",
              "        if (title.length == 0) {\n",
              "            continue;\n",
              "        }\n",
              "\n",
              "        while (level < memo_level) {\n",
              "            text_menu += end_format + \"</ul>\\n\";\n",
              "            format_open -= 1;\n",
              "            memo_level -= 1;\n",
              "        }\n",
              "        if (level == lfirst) {\n",
              "            main_item += 1;\n",
              "        }\n",
              "        if (keep_item != -1 && main_item != keep_item + 1) {\n",
              "            // alert(main_item + \" - \" + level + \" - \" + keep_item);\n",
              "            continue;\n",
              "        }\n",
              "        while (level > memo_level) {\n",
              "            text_menu += \"<ul>\\n\";\n",
              "            memo_level += 1;\n",
              "        }\n",
              "        text_menu += repeat_indent_string(level-2);\n",
              "        text_menu += begin_format + sformat.replace(\"__HREF__\", href).replace(\"__TITLE__\", title);\n",
              "        format_open += 1;\n",
              "    }\n",
              "    while (1 < memo_level) {\n",
              "        text_menu += end_format + \"</ul>\\n\";\n",
              "        memo_level -= 1;\n",
              "        format_open -= 1;\n",
              "    }\n",
              "    text_menu += send;\n",
              "    //text_menu += \"\\n\" + text_memo;\n",
              "\n",
              "    while (format_open > 0) {\n",
              "        text_menu += end_format;\n",
              "        format_open -= 1;\n",
              "    }\n",
              "    return text_menu;\n",
              "};\n",
              "var update_menu = function() {\n",
              "    var sbegin = \"\";\n",
              "    var sformat = '<a href=\"#__HREF__\">__TITLE__</a>';\n",
              "    var send = \"\";\n",
              "    var begin_format = '<li>';\n",
              "    var end_format = '</li>';\n",
              "    var keep_item = -1;\n",
              "    var text_menu = update_menu_string(sbegin, 2, 4, sformat, send, keep_item,\n",
              "       begin_format, end_format);\n",
              "    var menu = document.getElementById(\"my_id_menu_nb\");\n",
              "    menu.innerHTML=text_menu;\n",
              "};\n",
              "window.setTimeout(update_menu,2000);\n",
              "            </script>"
            ],
            "text/plain": [
              "<IPython.core.display.HTML object>"
            ]
          },
          "execution_count": 2,
          "metadata": {},
          "output_type": "execute_result"
        }
      ],
      "source": [
        "from jyquickhelper import add_notebook_menu\n",
        "add_notebook_menu()"
      ]
    },
    {
      "cell_type": "markdown",
      "metadata": {},
      "source": [
        "## Enonc\u00e9\n",
        "\n",
        "Le texte suivant est un po\u00e8me d'Arthur Rimbaud, Les Voyelles. On veut en extraire tous les mots."
      ]
    },
    {
      "cell_type": "code",
      "execution_count": 2,
      "metadata": {},
      "outputs": [],
      "source": [
        "poeme = \"\"\"\n",
        "A noir, E blanc, I rouge, U vert, O bleu, voyelles,\n",
        "Je dirai quelque jour vos naissances latentes.\n",
        "A, noir corset velu des mouches \u00e9clatantes\n",
        "Qui bombillent autour des puanteurs cruelles,\n",
        "\n",
        "Golfe d'ombre; E, candeur des vapeurs et des tentes,\n",
        "Lance des glaciers fiers, rois blancs, frissons d'ombelles;\n",
        "I, pourpres, sang crach\u00e9, rire des l\u00e8vres belles\n",
        "Dans la col\u00e8re ou les ivresses p\u00e9nitentes;\n",
        "\n",
        "U, cycles, vibrements divins des mers virides,\n",
        "Paix des p\u00e2tis sem\u00e9s d'animaux, paix des rides\n",
        "Que l'alchimie imprime aux grands fronts studieux;\n",
        "\n",
        "O, supr\u00eame clairon plein de strideurs \u00e9tranges,\n",
        "Silences travers\u00e9s des Mondes et des Anges:\n",
        "\u2014O l'Om\u00e9ga, rayon violet de Ses Yeux!\n",
        "\"\"\""
      ]
    },
    {
      "cell_type": "code",
      "execution_count": 3,
      "metadata": {},
      "outputs": [
        {
          "name": "stdout",
          "output_type": "stream",
          "text": [
            "['a', 'noir', 'e', 'blanc', 'i', 'rouge', 'u', 'vert', 'o', 'bleu', 'voyelles', 'je', 'dirai', 'quelque', 'jour', 'vos', 'naissances', 'latentes', 'a', 'noir', 'corset', 'velu', 'des', 'mouches', '\u00e9clatantes', 'qui', 'bombillent', 'autour', 'des', 'puanteurs', 'cruelles', 'golfe', \"d'ombre\", 'e', 'candeur', 'des', 'vapeurs', 'et', 'des', 'tentes', 'lance', 'des', 'glaciers', 'fiers', 'rois', 'blancs', 'frissons', \"d'ombelles\", 'i', 'pourpres', 'sang', 'crach\u00e9', 'rire', 'des', 'l\u00e8vres', 'belles', 'dans', 'la', 'col\u00e8re', 'ou', 'les', 'ivresses', 'p\u00e9nitentes', 'u', 'cycles', 'vibrements', 'divins', 'des', 'mers', 'virides', 'paix', 'des', 'p\u00e2tis', 'sem\u00e9s', \"d'animaux\", 'paix', 'des', 'rides', 'que', \"l'alchimie\", 'imprime', 'aux', 'grands', 'fronts', 'studieux', 'o', 'supr\u00eame', 'clairon', 'plein', 'de', 'strideurs', '\u00e9tranges', 'silences', 'travers\u00e9s', 'des', 'mondes', 'et', 'des', 'anges', '\u2014o', \"l'om\u00e9ga\", 'rayon', 'violet', 'de', 'ses', 'yeux']\n"
          ]
        }
      ],
      "source": [
        "def extract_words(text):\n",
        "    # ce n'est pas la plus efficace des fonctions mais \u00e7a fait ce qu'on veut\n",
        "    spl = text.lower().replace(\"!\", \"\").replace(\",\", \"\").replace(\n",
        "        \";\", \"\").replace(\".\", \"\").replace(\":\", \"\").split()\n",
        "    return(spl)\n",
        "    \n",
        "print(extract_words(poeme))"
      ]
    },
    {
      "cell_type": "markdown",
      "metadata": {},
      "source": [
        "### Exercice 1 : trouver les deux mots qui partagent le plus grand suffixe en commun"
      ]
    },
    {
      "cell_type": "code",
      "execution_count": 4,
      "metadata": {},
      "outputs": [],
      "source": []
    },
    {
      "cell_type": "markdown",
      "metadata": {},
      "source": [
        "### Exercice 2 : constuire un dictionnaire qui associe \u00e0 chaque lettre tous les mots se terminant par celle-ci"
      ]
    },
    {
      "cell_type": "code",
      "execution_count": 5,
      "metadata": {},
      "outputs": [],
      "source": []
    },
    {
      "cell_type": "markdown",
      "metadata": {},
      "source": [
        "### Exercice 3 : trouver les deux mots qui partagent le plus grand suffixe en commun en utilisant le dictionnaire pr\u00e9c\u00e9dent"
      ]
    },
    {
      "cell_type": "code",
      "execution_count": 6,
      "metadata": {},
      "outputs": [],
      "source": []
    },
    {
      "cell_type": "markdown",
      "metadata": {},
      "source": [
        "### Exercice 4 : mesurer le temps pris par chaque fonction\n",
        "\n",
        "La fonction [perf_counter](https://docs.python.org/3/library/time.html#time.perf_counter) est parfaite pour \u00e7a."
      ]
    },
    {
      "cell_type": "code",
      "execution_count": 7,
      "metadata": {},
      "outputs": [],
      "source": []
    },
    {
      "cell_type": "markdown",
      "metadata": {},
      "source": [
        "### Exercice 5 : expliquer pourquoi telle m\u00e9thode est plus rapide.\n",
        "\n",
        "La r\u00e9ponse devrait guider vers une m\u00e9thode encore plus rapide."
      ]
    },
    {
      "cell_type": "markdown",
      "metadata": {},
      "source": [
        "## R\u00e9ponses"
      ]
    },
    {
      "cell_type": "markdown",
      "metadata": {},
      "source": [
        "### Exercice 1 : trouver les deux mots qui partagent le plus grand suffixe en commun\n",
        "\n",
        "Ce n'est qu'une suggestion. La fonction repose sur trois boucles, la premi\u00e8re parcourt diff\u00e9rentes tailles de suffixe, les deux autres regardes toutes les paires de mots."
      ]
    },
    {
      "cell_type": "code",
      "execution_count": 8,
      "metadata": {},
      "outputs": [
        {
          "data": {
            "text/plain": [
              "('tentes', ('latentes', 'tentes'))"
            ]
          },
          "execution_count": 9,
          "metadata": {},
          "output_type": "execute_result"
        }
      ],
      "source": [
        "def plus_grand_suffix_commun(mots):\n",
        "    longueur_max = max([len(m) for m in mots])\n",
        "    meilleure_paire = None\n",
        "    meilleur_suffix = None\n",
        "    # On peut parcourir les tailles de suffixe dans un sens croissant\n",
        "    # mais c'est plus efficace dans un sens d\u00e9croissant dans la mesure\n",
        "    # o\u00f9 le premier suffixe trouv\u00e9 est alors n\u00e9cessairement le plus long.\n",
        "    for i in range(longueur_max - 1, 0, -1):\n",
        "        for m1 in mots:\n",
        "            for m2 in mots:  # ici, on pourrait ne parcourir qu'une partie des mots\n",
        "                             # car m1,m2 ou m2,m1, c'est pareil.\n",
        "                if m1 == m2:\n",
        "                    continue\n",
        "                if len(m1) < i or len(m2) < i:\n",
        "                     continue\n",
        "                suffixe = m1[-i:]\n",
        "                if m2[-i:] == suffixe:\n",
        "                    meilleur_suffix = suffixe\n",
        "                    meilleure_paire = m1, m2\n",
        "                    return meilleur_suffix, meilleure_paire\n",
        "    \n",
        "mots = extract_words(poeme)\n",
        "plus_grand_suffix_commun(mots)"
      ]
    },
    {
      "cell_type": "markdown",
      "metadata": {},
      "source": [
        "### Exercice 2 : constuire un dictionnaire qui associe \u00e0 chaque lettre tous les mots se terminant par celle-ci"
      ]
    },
    {
      "cell_type": "code",
      "execution_count": 9,
      "metadata": {},
      "outputs": [
        {
          "data": {
            "text/plain": [
              "{'a': ['a', 'a', 'la', \"l'om\u00e9ga\"],\n",
              " 'r': ['noir', 'jour', 'noir', 'autour', 'candeur'],\n",
              " 'e': ['e',\n",
              "  'rouge',\n",
              "  'je',\n",
              "  'quelque',\n",
              "  'golfe',\n",
              "  \"d'ombre\",\n",
              "  'e',\n",
              "  'lance',\n",
              "  'rire',\n",
              "  'col\u00e8re',\n",
              "  'que',\n",
              "  \"l'alchimie\",\n",
              "  'imprime',\n",
              "  'supr\u00eame',\n",
              "  'de',\n",
              "  'de'],\n",
              " 'c': ['blanc'],\n",
              " 'i': ['i', 'dirai', 'qui', 'i'],\n",
              " 'u': ['u', 'bleu', 'velu', 'ou', 'u'],\n",
              " 't': ['vert', 'corset', 'bombillent', 'et', 'et', 'violet'],\n",
              " 'o': ['o', 'o', '\u2014o'],\n",
              " 's': ['voyelles',\n",
              "  'vos',\n",
              "  'naissances',\n",
              "  'latentes',\n",
              "  'des',\n",
              "  'mouches',\n",
              "  '\u00e9clatantes',\n",
              "  'des',\n",
              "  'puanteurs',\n",
              "  'cruelles',\n",
              "  'des',\n",
              "  'vapeurs',\n",
              "  'des',\n",
              "  'tentes',\n",
              "  'des',\n",
              "  'glaciers',\n",
              "  'fiers',\n",
              "  'rois',\n",
              "  'blancs',\n",
              "  'frissons',\n",
              "  \"d'ombelles\",\n",
              "  'pourpres',\n",
              "  'des',\n",
              "  'l\u00e8vres',\n",
              "  'belles',\n",
              "  'dans',\n",
              "  'les',\n",
              "  'ivresses',\n",
              "  'p\u00e9nitentes',\n",
              "  'cycles',\n",
              "  'vibrements',\n",
              "  'divins',\n",
              "  'des',\n",
              "  'mers',\n",
              "  'virides',\n",
              "  'des',\n",
              "  'p\u00e2tis',\n",
              "  'sem\u00e9s',\n",
              "  'des',\n",
              "  'rides',\n",
              "  'grands',\n",
              "  'fronts',\n",
              "  'strideurs',\n",
              "  '\u00e9tranges',\n",
              "  'silences',\n",
              "  'travers\u00e9s',\n",
              "  'des',\n",
              "  'mondes',\n",
              "  'des',\n",
              "  'anges',\n",
              "  'ses'],\n",
              " 'g': ['sang'],\n",
              " '\u00e9': ['crach\u00e9'],\n",
              " 'x': ['paix', \"d'animaux\", 'paix', 'aux', 'studieux', 'yeux'],\n",
              " 'n': ['clairon', 'plein', 'rayon']}"
            ]
          },
          "execution_count": 10,
          "metadata": {},
          "output_type": "execute_result"
        }
      ],
      "source": [
        "mots = extract_words(poeme)\n",
        "suffix_map = {}\n",
        "for mot in mots:\n",
        "    lettre = mot[-1]\n",
        "    if lettre in suffix_map:\n",
        "        suffix_map[lettre].append(mot)\n",
        "    else:\n",
        "        suffix_map[lettre] = [mot]\n",
        "suffix_map"
      ]
    },
    {
      "cell_type": "markdown",
      "metadata": {},
      "source": [
        "### Exercice 3 : trouver les deux mots qui partagent le plus grand suffixe en commun en utilisant le dictionnaire pr\u00e9c\u00e9dent\n",
        "\n",
        "On reprend les deux ingr\u00e9dients."
      ]
    },
    {
      "cell_type": "code",
      "execution_count": 10,
      "metadata": {},
      "outputs": [
        {
          "data": {
            "text/plain": [
              "(6, 'tentes', ('latentes', 'tentes'))"
            ]
          },
          "execution_count": 11,
          "metadata": {},
          "output_type": "execute_result"
        }
      ],
      "source": [
        "def plus_grand_suffix_commun_dictionnaire(mots):\n",
        "    suffix_map = {}\n",
        "    for mot in mots:\n",
        "        lettre = mot[-1]\n",
        "        if lettre in suffix_map:\n",
        "            suffix_map[lettre].append(mot)\n",
        "        else:\n",
        "            suffix_map[lettre] = [mot]\n",
        "\n",
        "    tout = []\n",
        "    for cle, valeur in suffix_map.items():\n",
        "        suffix = plus_grand_suffix_commun(valeur)\n",
        "        if suffix is None:\n",
        "            continue\n",
        "        tout.append((len(suffix[0]), suffix[0], suffix[1]))\n",
        "    return max(tout)\n",
        "\n",
        "mots = extract_words(poeme)\n",
        "plus_grand_suffix_commun_dictionnaire(mots)"
      ]
    },
    {
      "cell_type": "markdown",
      "metadata": {},
      "source": [
        "### Exercice 4 : mesurer le temps pris par chaque fonction"
      ]
    },
    {
      "cell_type": "code",
      "execution_count": 11,
      "metadata": {},
      "outputs": [
        {
          "data": {
            "text/plain": [
              "0.8341831999999996"
            ]
          },
          "execution_count": 12,
          "metadata": {},
          "output_type": "execute_result"
        }
      ],
      "source": [
        "from time import perf_counter\n",
        "\n",
        "mots = extract_words(poeme)\n",
        "\n",
        "debut = perf_counter()\n",
        "for i in range(100):\n",
        "    plus_grand_suffix_commun(mots)\n",
        "perf_counter() - debut"
      ]
    },
    {
      "cell_type": "code",
      "execution_count": 12,
      "metadata": {},
      "outputs": [
        {
          "data": {
            "text/plain": [
              "0.20950450000000043"
            ]
          },
          "execution_count": 13,
          "metadata": {},
          "output_type": "execute_result"
        }
      ],
      "source": [
        "debut = perf_counter()\n",
        "for i in range(100):\n",
        "    plus_grand_suffix_commun_dictionnaire(mots)\n",
        "perf_counter() - debut"
      ]
    },
    {
      "cell_type": "markdown",
      "metadata": {},
      "source": [
        "### Exercice 5 : expliquer pourquoi telle m\u00e9thode est plus rapide.\n",
        "\n",
        "La seconde m\u00e9thode est deux \u00e0 trois fois plus rapide. Cela d\u00e9pend du nombre de mots qu'on note *N*. Si on note *L* la longueur du plus grand mot, la premi\u00e8re m\u00e9thode a pour co\u00fbt $O(LN^2)$. La seconde est une succession de deux \u00e9tapes. La premi\u00e8re \u00e9tape construit un dictionnaire en parcourant une seule fois la liste des mots. Son co\u00fbt est $O(N)$. La seconde utilise la premi\u00e8re m\u00e9thode mais sur des ensembles plus petits. Plus exactements, si $N_x$ est le nombre de mots se terminant pas $x$, alors le co\u00fbt de la m\u00e9thode est $O(L \\sum_x N_x^2)$ avec $\\sum_x N_x = N$. Il faut donc comparer $O(LN^2)$ \u00e0 $O(N) + O(L \\sum_x N_x^2)$. Le second co\u00fbt est plus petit."
      ]
    },
    {
      "cell_type": "code",
      "execution_count": 13,
      "metadata": {},
      "outputs": [],
      "source": []
    }
  ],
  "metadata": {
    "kernelspec": {
      "display_name": "Python 3",
      "language": "python",
      "name": "python3"
    },
    "language_info": {
      "codemirror_mode": {
        "name": "ipython",
        "version": 3
      },
      "file_extension": ".py",
      "mimetype": "text/x-python",
      "name": "python",
      "nbconvert_exporter": "python",
      "pygments_lexer": "ipython3",
      "version": "3.7.2"
    }
  },
  "nbformat": 4,
  "nbformat_minor": 1
}