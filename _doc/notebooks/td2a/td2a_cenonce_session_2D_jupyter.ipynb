{
  "cells": [
    {
      "cell_type": "markdown",
      "metadata": {},
      "source": [
        "# 2A.i - Jupyter et calcul distribu\u00e9\n",
        "\n",
        "[Jupyter](http://jupyter.org/) a \u00e9t\u00e9 d\u00e9coup\u00e9 en plusieurs extensions comme [ipyparallel](http://ipyparallel.readthedocs.io/en/latest/) qui permet de distribuer un calcul sur plusieurs processus. Ce notebook montre comment faire sur une seule machine."
      ]
    },
    {
      "cell_type": "code",
      "execution_count": 1,
      "metadata": {},
      "outputs": [
        {
          "data": {
            "text/html": [
              "<div id=\"my_id_menu_nb\">run previous cell, wait for 2 seconds</div>\n",
              "<script>\n",
              "function repeat_indent_string(n){\n",
              "    var a = \"\" ;\n",
              "    for ( ; n > 0 ; --n)\n",
              "        a += \"    \";\n",
              "    return a;\n",
              "}\n",
              "var update_menu_string = function(begin, lfirst, llast, sformat, send, keep_item, begin_format, end_format) {\n",
              "    var anchors = document.getElementsByClassName(\"section\");\n",
              "    if (anchors.length == 0) {\n",
              "        anchors = document.getElementsByClassName(\"text_cell_render rendered_html\");\n",
              "    }\n",
              "    var i,t;\n",
              "    var text_menu = begin;\n",
              "    var text_memo = \"<pre>\\nlength:\" + anchors.length + \"\\n\";\n",
              "    var ind = \"\";\n",
              "    var memo_level = 1;\n",
              "    var href;\n",
              "    var tags = [];\n",
              "    var main_item = 0;\n",
              "    var format_open = 0;\n",
              "    for (i = 0; i <= llast; i++)\n",
              "        tags.push(\"h\" + i);\n",
              "\n",
              "    for (i = 0; i < anchors.length; i++) {\n",
              "        text_memo += \"**\" + anchors[i].id + \"--\\n\";\n",
              "\n",
              "        var child = null;\n",
              "        for(t = 0; t < tags.length; t++) {\n",
              "            var r = anchors[i].getElementsByTagName(tags[t]);\n",
              "            if (r.length > 0) {\n",
              "child = r[0];\n",
              "break;\n",
              "            }\n",
              "        }\n",
              "        if (child == null) {\n",
              "            text_memo += \"null\\n\";\n",
              "            continue;\n",
              "        }\n",
              "        if (anchors[i].hasAttribute(\"id\")) {\n",
              "            // when converted in RST\n",
              "            href = anchors[i].id;\n",
              "            text_memo += \"#1-\" + href;\n",
              "            // passer \u00e0 child suivant (le chercher)\n",
              "        }\n",
              "        else if (child.hasAttribute(\"id\")) {\n",
              "            // in a notebook\n",
              "            href = child.id;\n",
              "            text_memo += \"#2-\" + href;\n",
              "        }\n",
              "        else {\n",
              "            text_memo += \"#3-\" + \"*\" + \"\\n\";\n",
              "            continue;\n",
              "        }\n",
              "        var title = child.textContent;\n",
              "        var level = parseInt(child.tagName.substring(1,2));\n",
              "\n",
              "        text_memo += \"--\" + level + \"?\" + lfirst + \"--\" + title + \"\\n\";\n",
              "\n",
              "        if ((level < lfirst) || (level > llast)) {\n",
              "            continue ;\n",
              "        }\n",
              "        if (title.endsWith('\u00b6')) {\n",
              "            title = title.substring(0,title.length-1).replace(\"<\", \"&lt;\")\n",
              "         .replace(\">\", \"&gt;\").replace(\"&\", \"&amp;\");\n",
              "        }\n",
              "        if (title.length == 0) {\n",
              "            continue;\n",
              "        }\n",
              "\n",
              "        while (level < memo_level) {\n",
              "            text_menu += end_format + \"</ul>\\n\";\n",
              "            format_open -= 1;\n",
              "            memo_level -= 1;\n",
              "        }\n",
              "        if (level == lfirst) {\n",
              "            main_item += 1;\n",
              "        }\n",
              "        if (keep_item != -1 && main_item != keep_item + 1) {\n",
              "            // alert(main_item + \" - \" + level + \" - \" + keep_item);\n",
              "            continue;\n",
              "        }\n",
              "        while (level > memo_level) {\n",
              "            text_menu += \"<ul>\\n\";\n",
              "            memo_level += 1;\n",
              "        }\n",
              "        text_menu += repeat_indent_string(level-2);\n",
              "        text_menu += begin_format + sformat.replace(\"__HREF__\", href).replace(\"__TITLE__\", title);\n",
              "        format_open += 1;\n",
              "    }\n",
              "    while (1 < memo_level) {\n",
              "        text_menu += end_format + \"</ul>\\n\";\n",
              "        memo_level -= 1;\n",
              "        format_open -= 1;\n",
              "    }\n",
              "    text_menu += send;\n",
              "    //text_menu += \"\\n\" + text_memo;\n",
              "\n",
              "    while (format_open > 0) {\n",
              "        text_menu += end_format;\n",
              "        format_open -= 1;\n",
              "    }\n",
              "    return text_menu;\n",
              "};\n",
              "var update_menu = function() {\n",
              "    var sbegin = \"\";\n",
              "    var sformat = '<a href=\"#__HREF__\">__TITLE__</a>';\n",
              "    var send = \"\";\n",
              "    var begin_format = '<li>';\n",
              "    var end_format = '</li>';\n",
              "    var keep_item = -1;\n",
              "    var text_menu = update_menu_string(sbegin, 2, 4, sformat, send, keep_item,\n",
              "       begin_format, end_format);\n",
              "    var menu = document.getElementById(\"my_id_menu_nb\");\n",
              "    menu.innerHTML=text_menu;\n",
              "};\n",
              "window.setTimeout(update_menu,2000);\n",
              "            </script>"
            ],
            "text/plain": [
              "<IPython.core.display.HTML object>"
            ]
          },
          "execution_count": 2,
          "metadata": {},
          "output_type": "execute_result"
        }
      ],
      "source": [
        "from jyquickhelper import add_notebook_menu\n",
        "add_notebook_menu()"
      ]
    },
    {
      "cell_type": "markdown",
      "metadata": {},
      "source": [
        "Avec de commencer, quelques mots de vocabulaire :\n",
        "\n",
        "* [thread](http://fr.wikipedia.org/wiki/Thread_%28informatique%29) : il est possible de parall\u00e9liser un traitement au sein d'un m\u00eame programme ou processus, c'est un *thread*. Les threads ont acc\u00e8s aux m\u00eames variables.\n",
        "* [processus](http://fr.wikipedia.org/wiki/Processus_%28informatique%29) : c'est un programme, chaque processus a sa propre m\u00e9moire non partag\u00e9e avec d'autres processus."
      ]
    },
    {
      "cell_type": "markdown",
      "metadata": {},
      "source": [
        "## Une fontion utile pour r\u00e9cup\u00e9rer les processus qui tournent\n",
        "\n",
        "Voir [psutil](https://pythonhosted.org/psutil/)."
      ]
    },
    {
      "cell_type": "code",
      "execution_count": 2,
      "metadata": {
        "collapsed": true
      },
      "outputs": [],
      "source": [
        "import psutil\n",
        "\n",
        "def find_process(name):\n",
        "    for proc in psutil.process_iter():\n",
        "        try: pinfo = proc.as_dict(attrs=['pid', 'name'])\n",
        "        except psutil.NoSuchProcess: pass\n",
        "        else:\n",
        "            if name in pinfo[\"name\"]:\n",
        "                return pinfo, proc\n",
        "    return None, None"
      ]
    },
    {
      "cell_type": "code",
      "execution_count": 3,
      "metadata": {},
      "outputs": [
        {
          "data": {
            "text/plain": [
              "(None, None)"
            ]
          },
          "execution_count": 4,
          "metadata": {},
          "output_type": "execute_result"
        }
      ],
      "source": [
        "i, p = find_process('ipcluster')\n",
        "i, p"
      ]
    },
    {
      "cell_type": "markdown",
      "metadata": {},
      "source": [
        "## Calcul distribu\u00e9\n",
        "\n",
        "Quelques liens :\n",
        "\n",
        "* [Overview and getting started with ipyrallel](https://ipyparallel.readthedocs.io/en/latest/)\n",
        "La distribution d'un programme implique l'ex\u00e9cution en parall\u00e8le de morceaux de programme, sur la m\u00eame machine ou sur des machines diff\u00e9rentes. Dans le cas de cette s\u00e9ance, ce sera sur la m\u00eame machine mais le principe reste le m\u00eame : une machine centrale (serveur) envoie des donn\u00e9es et le traitement associ\u00e9 sur d'autres machines (clients). Pour que les clients comprennent qu'ils doivent ex\u00e9cuter un programme, ils doivent continuellement attendre qu'on leur envoie des instructions : un client est lanc\u00e9 puis attend des instructions. Pour lancer des clients localement sur cette machine, on doit aller dans le r\u00e9pertoire :"
      ]
    },
    {
      "cell_type": "code",
      "execution_count": 4,
      "metadata": {},
      "outputs": [
        {
          "data": {
            "text/plain": [
              "'c:\\\\python35_x64\\\\Scripts'"
            ]
          },
          "execution_count": 5,
          "metadata": {},
          "output_type": "execute_result"
        }
      ],
      "source": [
        "import os,sys\n",
        "if hasattr(sys, 'real_prefix'):\n",
        "    exe = sys.real_prefix\n",
        "else:\n",
        "    exe = sys.base_exec_prefix\n",
        "f = os.path.join(exe, \"Scripts\")\n",
        "f"
      ]
    },
    {
      "cell_type": "code",
      "execution_count": 5,
      "metadata": {},
      "outputs": [
        {
          "data": {
            "text/plain": [
              "['ipcluster.exe']"
            ]
          },
          "execution_count": 6,
          "metadata": {},
          "output_type": "execute_result"
        }
      ],
      "source": [
        "[ _ for _ in os.listdir(f) if \"cluster\" in _ ]"
      ]
    },
    {
      "cell_type": "markdown",
      "metadata": {},
      "source": [
        "Il faut ex\u00e9cuter l'instruction ``ipcluster start -n 2`` depuis une ligne de commande. Celle-ci vient avec le module [ipyparallel](https://ipyparallel.readthedocs.org/en/latest/) ``2`` signifie deux clients puis on v\u00e9rifie que ceux-ci sont bien en train de s'ex\u00e9cuter. Sous Windows, il faut ouvrir une fen\u00eatre de commande avec la commande [cmd](http://windows.microsoft.com/fr-fr/windows/command-prompt-faq#1TC=windows-8)."
      ]
    },
    {
      "cell_type": "code",
      "execution_count": 6,
      "metadata": {
        "collapsed": true
      },
      "outputs": [],
      "source": [
        "# ipcluster start -n 2"
      ]
    },
    {
      "cell_type": "markdown",
      "metadata": {},
      "source": [
        "On obtient quelque chose similaire \u00e0 ceci :"
      ]
    },
    {
      "cell_type": "code",
      "execution_count": 7,
      "metadata": {},
      "outputs": [
        {
          "data": {
            "image/png": "[encoded data removed]",
            "text/plain": [
              "<IPython.core.display.Image object>"
            ]
          },
          "execution_count": 8,
          "metadata": {},
          "output_type": "execute_result"
        }
      ],
      "source": [
        "from pyquickhelper.helpgen import NbImage\n",
        "NbImage(\"cmdipc.png\")"
      ]
    },
    {
      "cell_type": "markdown",
      "metadata": {},
      "source": [
        "On utilise une astuce pour le lancer depuis un noteboook :"
      ]
    },
    {
      "cell_type": "code",
      "execution_count": 8,
      "metadata": {},
      "outputs": [
        {
          "name": "stdout",
          "output_type": "stream",
          "text": [
            "start ipcluster\n"
          ]
        }
      ],
      "source": [
        "if find_process(\"ipcluster\")[0] is None:\n",
        "    print(\"start ipcluster\")\n",
        "    from pyquickhelper.loghelper import run_cmd\n",
        "    if sys.platform.startswith(\"win\"):\n",
        "        cmd = os.path.join(f, \"ipcluster\")\n",
        "    else:\n",
        "        cmd = \"ipcluster\"\n",
        "    cmd += \" start -n 2\"\n",
        "    run_cmd(cmd, wait=False)\n",
        "else:\n",
        "    print(\"d\u00e9j\u00e0 d\u00e9marr\u00e9\", find_process(\"ipcluster\"))"
      ]
    },
    {
      "cell_type": "markdown",
      "metadata": {},
      "source": [
        "On attend que le processus d\u00e9marre."
      ]
    },
    {
      "cell_type": "code",
      "execution_count": 9,
      "metadata": {
        "collapsed": true
      },
      "outputs": [],
      "source": [
        "import time\n",
        "time.sleep(5)"
      ]
    },
    {
      "cell_type": "markdown",
      "metadata": {},
      "source": [
        "On v\u00e9rifie que les deux clients sont accessibles depuis de notebook :"
      ]
    },
    {
      "cell_type": "code",
      "execution_count": 10,
      "metadata": {},
      "outputs": [
        {
          "name": "stdout",
          "output_type": "stream",
          "text": [
            "[0, 1]\n"
          ]
        }
      ],
      "source": [
        "from ipyparallel import Client\n",
        "clients = Client()\n",
        "clients.block = True  # use synchronous computations\n",
        "print(clients.ids)    # on s'attend \u00e0 deux clients"
      ]
    },
    {
      "cell_type": "markdown",
      "metadata": {},
      "source": [
        "Tout va bien. L'ensemble fonctionne comme le dessin ci-dessous :"
      ]
    },
    {
      "cell_type": "code",
      "execution_count": 11,
      "metadata": {},
      "outputs": [
        {
          "data": {
            "image/png": "[encoded data removed]",
            "text/plain": [
              "<IPython.core.display.Image object>"
            ]
          },
          "execution_count": 12,
          "metadata": {
            "image/png": {
              "width": 300
            }
          },
          "output_type": "execute_result"
        }
      ],
      "source": [
        "from IPython.core.display import Image\n",
        "Image(\"http://ipython.org/ipython-doc/stable/_images/wideView.png\", width=300)"
      ]
    },
    {
      "cell_type": "markdown",
      "metadata": {},
      "source": [
        "## Exemple simple"
      ]
    },
    {
      "cell_type": "markdown",
      "metadata": {},
      "source": [
        "On teste l'exemple du [tutoriel](https://ipyparallel.readthedocs.io/en/latest/intro.html#getting-started) :"
      ]
    },
    {
      "cell_type": "code",
      "execution_count": 12,
      "metadata": {},
      "outputs": [
        {
          "data": {
            "text/plain": [
              "['Hello, World', 'Hello, World']"
            ]
          },
          "execution_count": 13,
          "metadata": {},
          "output_type": "execute_result"
        }
      ],
      "source": [
        "clients[:].apply_sync(lambda : \"Hello, World\")"
      ]
    },
    {
      "cell_type": "markdown",
      "metadata": {},
      "source": [
        "Et un autre pour parall\u00e9liser l'ex\u00e9cution d'une fonction : [map_sync](https://ipyparallel.readthedocs.io/en/latest/multiengine.html#parallel-map)."
      ]
    },
    {
      "cell_type": "code",
      "execution_count": 13,
      "metadata": {
        "collapsed": true
      },
      "outputs": [],
      "source": [
        "def addition(m):\n",
        "    return m + 1"
      ]
    },
    {
      "cell_type": "code",
      "execution_count": 14,
      "metadata": {
        "collapsed": true
      },
      "outputs": [],
      "source": [
        "parallel_result = clients[:].map_sync(addition, range(32))"
      ]
    },
    {
      "cell_type": "code",
      "execution_count": 15,
      "metadata": {},
      "outputs": [
        {
          "data": {
            "text/plain": [
              "[1, 2, 3, 4, 5]"
            ]
          },
          "execution_count": 16,
          "metadata": {},
          "output_type": "execute_result"
        }
      ],
      "source": [
        "parallel_result[:5]"
      ]
    },
    {
      "cell_type": "markdown",
      "metadata": {},
      "source": [
        "## Exemple plus subtile"
      ]
    },
    {
      "cell_type": "markdown",
      "metadata": {},
      "source": [
        "On cr\u00e9e une autre fonction plus complexe qu'on souhaite parall\u00e9liser :"
      ]
    },
    {
      "cell_type": "code",
      "execution_count": 16,
      "metadata": {
        "collapsed": true
      },
      "outputs": [],
      "source": [
        "def inverse_matrice(m) :\n",
        "    return numpy.linalg.inv ( m )"
      ]
    },
    {
      "cell_type": "markdown",
      "metadata": {},
      "source": [
        "Ensuite, on cr\u00e9er 100 matrices \u00e0 inverser :"
      ]
    },
    {
      "cell_type": "code",
      "execution_count": 17,
      "metadata": {
        "collapsed": true
      },
      "outputs": [],
      "source": [
        "import numpy\n",
        "ms = [ numpy.random.random ( (5,5) )  for i in range(0,10) ]"
      ]
    },
    {
      "cell_type": "markdown",
      "metadata": {},
      "source": [
        "On fait de m\u00eame pour parall\u00e9liser la fonction. Selon les diff\u00e9rentes installation, cela provoaque une erreur ou cela n'aboutit pas."
      ]
    },
    {
      "cell_type": "code",
      "execution_count": 18,
      "metadata": {
        "collapsed": true
      },
      "outputs": [],
      "source": [
        "# mat = clients[:].map_sync(inverse_matrice, ms)"
      ]
    },
    {
      "cell_type": "markdown",
      "metadata": {},
      "source": [
        "Car le module ``numpy`` a \u00e9t\u00e9 import\u00e9 dans ce notebook mais il ne l'a pas \u00e9t\u00e9 sur les processus distribu\u00e9s :"
      ]
    },
    {
      "cell_type": "code",
      "execution_count": 19,
      "metadata": {},
      "outputs": [
        {
          "name": "stdout",
          "output_type": "stream",
          "text": [
            "importing numpy on engine(s)\n"
          ]
        }
      ],
      "source": [
        "with clients[:].sync_imports():\n",
        "    import numpy"
      ]
    },
    {
      "cell_type": "markdown",
      "metadata": {},
      "source": [
        "On r\u00e9essaye :"
      ]
    },
    {
      "cell_type": "code",
      "execution_count": 20,
      "metadata": {
        "collapsed": true
      },
      "outputs": [],
      "source": [
        "mat = clients[:].map_sync(inverse_matrice, ms)"
      ]
    },
    {
      "cell_type": "code",
      "execution_count": 21,
      "metadata": {},
      "outputs": [
        {
          "data": {
            "text/plain": [
              "[array([[  0.44355592,  -1.51704114,   0.78806645,   1.46110877,\n",
              "          -0.91563883],\n",
              "        [  2.75547106,  -7.29685701,   6.23665899,   7.79916234,\n",
              "         -15.77432008],\n",
              "        [ -2.86686696,   4.24283253,  -2.76788208,  -4.2635678 ,\n",
              "          10.16315185],\n",
              "        [  3.66888355,  -4.75685452,   4.39946704,   4.01960793,\n",
              "         -12.05135127],\n",
              "        [ -7.28746322,  16.05911264, -13.53209716, -14.15627803,\n",
              "          33.21478412]]),\n",
              " array([[  6.25664148,  15.66280127,  12.06488389, -13.3586936 ,\n",
              "         -16.76660498],\n",
              "        [  0.35637738,  -4.10233268,  -4.27594773,   2.7287904 ,\n",
              "           4.91983962],\n",
              "        [-15.0833757 , -30.39031239, -18.9426754 ,  28.14733333,\n",
              "          30.08489302],\n",
              "        [  0.2343882 ,  -0.76741284,  -3.21725047,   1.67819449,\n",
              "           2.19797219],\n",
              "        [  6.31315111,  13.48306181,   9.00514844, -13.46040096,\n",
              "         -12.49950715]])]"
            ]
          },
          "execution_count": 22,
          "metadata": {},
          "output_type": "execute_result"
        }
      ],
      "source": [
        "mat[:2]"
      ]
    },
    {
      "cell_type": "markdown",
      "metadata": {},
      "source": [
        "## Autre \u00e9criture et mesure de temps"
      ]
    },
    {
      "cell_type": "markdown",
      "metadata": {},
      "source": [
        "Puis on cr\u00e9e une [view](https://ipyparallel.readthedocs.io/en/latest/api/ipyparallel.html?ipyparallel.LoadBalancedView) *load balanced* :"
      ]
    },
    {
      "cell_type": "code",
      "execution_count": 22,
      "metadata": {
        "collapsed": true
      },
      "outputs": [],
      "source": [
        "view = clients.load_balanced_view()"
      ]
    },
    {
      "cell_type": "markdown",
      "metadata": {},
      "source": [
        "Qu'on utilise pour dispatcher les r\u00e9sultats sur plusieurs processus :"
      ]
    },
    {
      "cell_type": "code",
      "execution_count": 23,
      "metadata": {},
      "outputs": [
        {
          "data": {
            "text/plain": [
              "10"
            ]
          },
          "execution_count": 24,
          "metadata": {},
          "output_type": "execute_result"
        }
      ],
      "source": [
        "results = view.map(inverse_matrice, ms)\n",
        "len(results)"
      ]
    },
    {
      "cell_type": "markdown",
      "metadata": {},
      "source": [
        "On recommence \u00e0 ex\u00e9cuter le code suivant :"
      ]
    },
    {
      "cell_type": "code",
      "execution_count": 24,
      "metadata": {},
      "outputs": [
        {
          "data": {
            "text/plain": [
              "10"
            ]
          },
          "execution_count": 25,
          "metadata": {},
          "output_type": "execute_result"
        }
      ],
      "source": [
        "results = view.map(inverse_matrice, ms)\n",
        "len(results)"
      ]
    },
    {
      "cell_type": "markdown",
      "metadata": {},
      "source": [
        "On compare avec un traitement non distribu\u00e9 :"
      ]
    },
    {
      "cell_type": "code",
      "execution_count": 25,
      "metadata": {},
      "outputs": [
        {
          "name": "stdout",
          "output_type": "stream",
          "text": [
            "The slowest run took 33.95 times longer than the fastest. This could mean that an intermediate result is being cached.\n",
            "1000 loops, best of 3: 296 \u00b5s per loop\n"
          ]
        }
      ],
      "source": [
        "%timeit list(map(inverse_matrice, ms))"
      ]
    },
    {
      "cell_type": "code",
      "execution_count": 26,
      "metadata": {},
      "outputs": [
        {
          "name": "stdout",
          "output_type": "stream",
          "text": [
            "1 loop, best of 3: 294 ms per loop\n"
          ]
        }
      ],
      "source": [
        "%timeit view.map(inverse_matrice, ms)"
      ]
    },
    {
      "cell_type": "markdown",
      "metadata": {},
      "source": [
        "Le processus distribu\u00e9 est plus long : cela prend du temps de communiquer les matrices depuis ce notebook vers les *engines*. Ce temps est manifestement plus long. C'est pourquoi on distribue g\u00e9n\u00e9ralement des processus dont le calcul est significativement plus lent que le temps de communication. Selon ce sch\u00e9ma, on pr\u00e9f\u00e8re envoyer des noms de fichiers au processus pour ce recevoir des r\u00e9sultats courts. Pour distribuer, il faut faire attention au ratio communication/calcul. La fonction suivante ne re\u00e7oit rien, fait beaucoup de calcul et retourne une matrice 10x10."
      ]
    },
    {
      "cell_type": "code",
      "execution_count": 27,
      "metadata": {
        "collapsed": true
      },
      "outputs": [],
      "source": [
        "def average_random_matrix(i):\n",
        "    mean = None\n",
        "    for n in range(0,100000):\n",
        "        m = numpy.random.random ( (10,10) )\n",
        "        if mean is None : mean = m\n",
        "        else : mean += m\n",
        "    return mean / n"
      ]
    },
    {
      "cell_type": "code",
      "execution_count": 28,
      "metadata": {},
      "outputs": [
        {
          "name": "stdout",
          "output_type": "stream",
          "text": [
            "1 loop, best of 3: 5.16 s per loop\n"
          ]
        }
      ],
      "source": [
        "%timeit list(map(average_random_matrix, range(0,10)))"
      ]
    },
    {
      "cell_type": "code",
      "execution_count": 29,
      "metadata": {},
      "outputs": [
        {
          "name": "stdout",
          "output_type": "stream",
          "text": [
            "1 loop, best of 3: 3.23 s per loop\n"
          ]
        }
      ],
      "source": [
        "%timeit view.map(average_random_matrix, range(0,10))"
      ]
    },
    {
      "cell_type": "markdown",
      "metadata": {},
      "source": [
        "La distribution commence \u00e0 montrer un gain de temps. Elle ne devient g\u00e9n\u00e9ralement int\u00e9ressante que si un traitement num\u00e9rique dure au moins quelques secondes."
      ]
    },
    {
      "cell_type": "markdown",
      "metadata": {},
      "source": [
        "## Autres options pour distribuer les calculs"
      ]
    },
    {
      "cell_type": "markdown",
      "metadata": {},
      "source": [
        "IPython n'est pas le seul module \u00e0 proposer un m\u00e9chanisme de parall\u00e9lisation. Un probl\u00e8me r\u00e9current et souvent tr\u00e8s aga\u00e7ant est l'**erreur qui oblige \u00e0 tout recommencer depuis le depuis**. On parall\u00e9lise pour gagner du temps et une erreur se produit au bout de trois heures \u00e0 cause d'une division par z\u00e9ro par exemple. Il existe des modules qui sauvent les r\u00e9sultats interm\u00e9diaires et ne recommencent pas les calculs d\u00e9j\u00e0 effectu\u00e9s :\n",
        "\n",
        "* [joblib](http://pythonhosted.org//joblib/index.html) : tr\u00e8s simple d'utilisation, le module parall\u00e9lise des t\u00e2ches sur plusieurs processus sans que vous ayez \u00e0 vous soucier des \u00e9changes entre processus.\n",
        "* [luigi](https://github.com/spotify/luigi) : c'est un syst\u00e8me pour les long [workflow](http://en.wikipedia.org/wiki/Workflow) (plusieurs heures ou jours), il permet de voir visuellement l'avancement.\n",
        "\n",
        "Il existe d'autres options comme [pyina](https://pypi.python.org/pypi/pyina). Une des premi\u00e8res solutions capable de faire cela \u00e9tait [RPyC](http://rpyc.readthedocs.org/en/latest/). Lorsqu'on veut distribuer sur plusieurs machines, il faut faire attention \u00e0 :\n",
        "\n",
        "* Les machines sont-elles sur un r\u00e9seau local ou distantes (Azure, Amazon, ...) ?\n",
        "* Les communications doivent-elles encrypt\u00e9es ?\n",
        "\n",
        "Quelques pointeurs :\n",
        "\n",
        "* [An introduction to 0mq](http://nichol.as/zeromq-an-introduction)\n",
        "* [Using IPython for parallel computing](http://ipython.org/ipython-doc/stable/parallel/index.html)\n",
        "* [mpi4py](http://pythonhosted.org//mpi4py/)"
      ]
    },
    {
      "cell_type": "markdown",
      "metadata": {},
      "source": [
        "## Un peu plus sur les threads\n",
        "\n",
        "Le module [threading](https://docs.python.org/3.4/library/threading.html) propose une interface pour cr\u00e9er des threads. C'est utile pour ex\u00e9cuter des fonctions en parall\u00e8le. Toutefois, comme le langage Python n'est pas un langage multithread\u00e9 (voir [Global Interpreter Lock](http://en.wikipedia.org/wiki/Global_Interpreter_Lock), il ne sera pas plus rapide du point de vue vitesse de calcul. La fonction suivante montre comment \u00e0 partir de la librairie standard  [threading](https://docs.python.org/3.4/library/threading.html) on peut parall\u00e9liser un traitement (voir [ParallelThread](http://www.xavierdupre.fr/app/ensae_teaching_cs/helpsphinx/_modules/td_2a/parallel_thread.html))."
      ]
    },
    {
      "cell_type": "code",
      "execution_count": 30,
      "metadata": {},
      "outputs": [
        {
          "name": "stdout",
          "output_type": "stream",
          "text": [
            "1 loop, best of 3: 3.12 s per loop\n"
          ]
        }
      ],
      "source": [
        "import numpy\n",
        "ms = [ numpy.random.random ( (5,5) )  for i in range(0,100000) ]\n",
        "\n",
        "def inverse_matrice(m) :\n",
        "    return numpy.linalg.inv ( m )\n",
        "\n",
        "from ensae_teaching_cs.td_2a import ParallelThread\n",
        "%timeit res = ParallelThread.parallel( inverse_matrice, [ (m,) for m in ms ], 4, delay_sec = 0.1 )"
      ]
    },
    {
      "cell_type": "markdown",
      "metadata": {},
      "source": [
        "Ce code sera plus lent que d'appeler la fonction directement car il faudra en plus passer du temps \u00e0 attendre la fin des autres threads ou fils d'ex\u00e9cution."
      ]
    },
    {
      "cell_type": "code",
      "execution_count": 31,
      "metadata": {},
      "outputs": [
        {
          "name": "stdout",
          "output_type": "stream",
          "text": [
            "1 loop, best of 3: 2.95 s per loop\n"
          ]
        }
      ],
      "source": [
        "%timeit list(map(inverse_matrice, ms))"
      ]
    },
    {
      "cell_type": "markdown",
      "metadata": {},
      "source": [
        "## Exercice 1 : Distribuer un calcul"
      ]
    },
    {
      "cell_type": "code",
      "execution_count": 32,
      "metadata": {},
      "outputs": [
        {
          "data": {
            "text/plain": [
              "['stations.txt', 'td8_velib.txt']"
            ]
          },
          "execution_count": 33,
          "metadata": {},
          "output_type": "execute_result"
        }
      ],
      "source": [
        "import pyensae.datasource\n",
        "pyensae.datasource.download_data(\"td8_velib.zip\")"
      ]
    },
    {
      "cell_type": "code",
      "execution_count": 33,
      "metadata": {
        "collapsed": true
      },
      "outputs": [],
      "source": [
        "import pandas\n",
        "df = pandas.read_csv(\"td8_velib.txt\", sep=\"\\t\")"
      ]
    },
    {
      "cell_type": "code",
      "execution_count": 34,
      "metadata": {},
      "outputs": [
        {
          "data": {
            "text/plain": [
              "(1103787, 7)"
            ]
          },
          "execution_count": 35,
          "metadata": {},
          "output_type": "execute_result"
        }
      ],
      "source": [
        "df.shape"
      ]
    },
    {
      "cell_type": "code",
      "execution_count": 35,
      "metadata": {},
      "outputs": [
        {
          "data": {
            "text/plain": [
              "Index(['collect_date', 'last_update', 'available_bike_stands',\n",
              "       'available_bikes', 'number', 'heure', 'minute'],\n",
              "      dtype='object')"
            ]
          },
          "execution_count": 36,
          "metadata": {},
          "output_type": "execute_result"
        }
      ],
      "source": [
        "df.columns"
      ]
    },
    {
      "cell_type": "code",
      "execution_count": 36,
      "metadata": {},
      "outputs": [
        {
          "data": {
            "text/html": [
              "<div>\n",
              "<table border=\"1\" class=\"dataframe\">\n",
              "  <thead>\n",
              "    <tr style=\"text-align: right;\">\n",
              "      <th></th>\n",
              "      <th>collect_date</th>\n",
              "      <th>last_update</th>\n",
              "      <th>available_bike_stands</th>\n",
              "      <th>available_bikes</th>\n",
              "      <th>number</th>\n",
              "      <th>heure</th>\n",
              "      <th>minute</th>\n",
              "    </tr>\n",
              "  </thead>\n",
              "  <tbody>\n",
              "    <tr>\n",
              "      <th>40729</th>\n",
              "      <td>2013-09-10 11:27:43.390054</td>\n",
              "      <td>2013-09-10 11:25:19</td>\n",
              "      <td>7</td>\n",
              "      <td>15</td>\n",
              "      <td>22005</td>\n",
              "      <td>11</td>\n",
              "      <td>25</td>\n",
              "    </tr>\n",
              "    <tr>\n",
              "      <th>40467</th>\n",
              "      <td>2013-09-10 11:27:43.390054</td>\n",
              "      <td>2013-09-10 11:25:19</td>\n",
              "      <td>19</td>\n",
              "      <td>0</td>\n",
              "      <td>13037</td>\n",
              "      <td>11</td>\n",
              "      <td>25</td>\n",
              "    </tr>\n",
              "    <tr>\n",
              "      <th>40525</th>\n",
              "      <td>2013-09-10 11:27:43.390054</td>\n",
              "      <td>2013-09-10 11:25:19</td>\n",
              "      <td>20</td>\n",
              "      <td>2</td>\n",
              "      <td>9021</td>\n",
              "      <td>11</td>\n",
              "      <td>25</td>\n",
              "    </tr>\n",
              "    <tr>\n",
              "      <th>40351</th>\n",
              "      <td>2013-09-10 11:27:43.390054</td>\n",
              "      <td>2013-09-10 11:25:19</td>\n",
              "      <td>16</td>\n",
              "      <td>2</td>\n",
              "      <td>19038</td>\n",
              "      <td>11</td>\n",
              "      <td>25</td>\n",
              "    </tr>\n",
              "    <tr>\n",
              "      <th>40070</th>\n",
              "      <td>2013-09-10 11:27:43.390054</td>\n",
              "      <td>2013-09-10 11:20:19</td>\n",
              "      <td>19</td>\n",
              "      <td>0</td>\n",
              "      <td>13037</td>\n",
              "      <td>11</td>\n",
              "      <td>20</td>\n",
              "    </tr>\n",
              "  </tbody>\n",
              "</table>\n",
              "</div>"
            ],
            "text/plain": [
              "                     collect_date          last_update  available_bike_stands  \\\n",
              "40729  2013-09-10 11:27:43.390054  2013-09-10 11:25:19                      7   \n",
              "40467  2013-09-10 11:27:43.390054  2013-09-10 11:25:19                     19   \n",
              "40525  2013-09-10 11:27:43.390054  2013-09-10 11:25:19                     20   \n",
              "40351  2013-09-10 11:27:43.390054  2013-09-10 11:25:19                     16   \n",
              "40070  2013-09-10 11:27:43.390054  2013-09-10 11:20:19                     19   \n",
              "\n",
              "       available_bikes  number  heure  minute  \n",
              "40729               15   22005     11      25  \n",
              "40467                0   13037     11      25  \n",
              "40525                2    9021     11      25  \n",
              "40351                2   19038     11      25  \n",
              "40070                0   13037     11      20  "
            ]
          },
          "execution_count": 37,
          "metadata": {},
          "output_type": "execute_result"
        }
      ],
      "source": [
        "df = df.sort_values(\"collect_date\")\n",
        "df.head()"
      ]
    },
    {
      "cell_type": "markdown",
      "metadata": {},
      "source": [
        "La colonne ``number`` indique le num\u00e9ro d'une station de v\u00e9lo. On peut calculer le pourcentage de places disponibles sur l'ensemble des places de chaque station, on moyenne ce pourcentage pour chaque heure de la journ\u00e9e. Pour chaque station, on a un vecteur qui correspond \u00e0 un pourcentage pour chaque heure de la journ\u00e9e. On veut constuire la matrice de corr\u00e9lation de ces vecteurs, si possible en distribuant."
      ]
    },
    {
      "cell_type": "markdown",
      "metadata": {},
      "source": [
        "## Fin : on arr\u00eate le cluster"
      ]
    },
    {
      "cell_type": "code",
      "execution_count": 37,
      "metadata": {},
      "outputs": [
        {
          "data": {
            "text/plain": [
              "'c:\\\\python35_x64\\\\Scripts'"
            ]
          },
          "execution_count": 38,
          "metadata": {},
          "output_type": "execute_result"
        }
      ],
      "source": [
        "import os,sys\n",
        "if hasattr(sys, 'real_prefix'):\n",
        "    exe = sys.real_prefix\n",
        "else:\n",
        "    exe = sys.base_exec_prefix\n",
        "f = os.path.join(exe, \"Scripts\")\n",
        "f"
      ]
    },
    {
      "cell_type": "code",
      "execution_count": 38,
      "metadata": {},
      "outputs": [
        {
          "name": "stdout",
          "output_type": "stream",
          "text": [
            "stop ipcluster\n",
            "\n"
          ]
        }
      ],
      "source": [
        "if find_process(\"ipcluster\")[0] is not None:\n",
        "    print(\"stop ipcluster\")\n",
        "    from pyquickhelper.loghelper import run_cmd\n",
        "    if sys.platform.startswith(\"win\"):\n",
        "        cmd = os.path.join(f, \"ipcluster\")\n",
        "    else:\n",
        "        cmd = \"ipcluster\"\n",
        "    cmd += \" stop\"\n",
        "    out, err = run_cmd(cmd, wait=True)\n",
        "    print(out.replace(os.environ[\"USERNAME\"], \"USERNAME\"))\n",
        "else:\n",
        "    print(\"aucun processus ipcluster trouv\u00e9\")"
      ]
    },
    {
      "cell_type": "code",
      "execution_count": 39,
      "metadata": {
        "collapsed": true
      },
      "outputs": [],
      "source": []
    }
  ],
  "metadata": {
    "kernelspec": {
      "display_name": "Python 3",
      "language": "python",
      "name": "python3"
    },
    "language_info": {
      "codemirror_mode": {
        "name": "ipython",
        "version": 3
      },
      "file_extension": ".py",
      "mimetype": "text/x-python",
      "name": "python",
      "nbconvert_exporter": "python",
      "pygments_lexer": "ipython3",
      "version": "3.6.1"
    }
  },
  "nbformat": 4,
  "nbformat_minor": 1
}