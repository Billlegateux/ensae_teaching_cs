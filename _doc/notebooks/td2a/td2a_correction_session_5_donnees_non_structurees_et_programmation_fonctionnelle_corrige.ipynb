{
  "cells": [
    {
      "cell_type": "markdown",
      "metadata": {},
      "source": [
        "# 2A.i - Donn\u00e9es non structur\u00e9es, programmation fonctionnelle - correction\n",
        "\n",
        "Calculs de moyennes et autres statistiques sur une base twitter au format JSON avec de la programmation fonctionnelle (module [cytoolz](https://github.com/pytoolz/cytoolz))."
      ]
    },
    {
      "cell_type": "code",
      "execution_count": 1,
      "metadata": {},
      "outputs": [
        {
          "data": {
            "text/html": [
              "<div id=\"my_id_menu_nb\">run previous cell, wait for 2 seconds</div>\n",
              "<script>\n",
              "function repeat_indent_string(n){\n",
              "    var a = \"\" ;\n",
              "    for ( ; n > 0 ; --n)\n",
              "        a += \"    \";\n",
              "    return a;\n",
              "}\n",
              "var update_menu_string = function(begin, lfirst, llast, sformat, send, keep_item, begin_format, end_format) {\n",
              "    var anchors = document.getElementsByClassName(\"section\");\n",
              "    if (anchors.length == 0) {\n",
              "        anchors = document.getElementsByClassName(\"text_cell_render rendered_html\");\n",
              "    }\n",
              "    var i,t;\n",
              "    var text_menu = begin;\n",
              "    var text_memo = \"<pre>\\nlength:\" + anchors.length + \"\\n\";\n",
              "    var ind = \"\";\n",
              "    var memo_level = 1;\n",
              "    var href;\n",
              "    var tags = [];\n",
              "    var main_item = 0;\n",
              "    var format_open = 0;\n",
              "    for (i = 0; i <= llast; i++)\n",
              "        tags.push(\"h\" + i);\n",
              "\n",
              "    for (i = 0; i < anchors.length; i++) {\n",
              "        text_memo += \"**\" + anchors[i].id + \"--\\n\";\n",
              "\n",
              "        var child = null;\n",
              "        for(t = 0; t < tags.length; t++) {\n",
              "            var r = anchors[i].getElementsByTagName(tags[t]);\n",
              "            if (r.length > 0) {\n",
              "child = r[0];\n",
              "break;\n",
              "            }\n",
              "        }\n",
              "        if (child == null) {\n",
              "            text_memo += \"null\\n\";\n",
              "            continue;\n",
              "        }\n",
              "        if (anchors[i].hasAttribute(\"id\")) {\n",
              "            // when converted in RST\n",
              "            href = anchors[i].id;\n",
              "            text_memo += \"#1-\" + href;\n",
              "            // passer \u00e0 child suivant (le chercher)\n",
              "        }\n",
              "        else if (child.hasAttribute(\"id\")) {\n",
              "            // in a notebook\n",
              "            href = child.id;\n",
              "            text_memo += \"#2-\" + href;\n",
              "        }\n",
              "        else {\n",
              "            text_memo += \"#3-\" + \"*\" + \"\\n\";\n",
              "            continue;\n",
              "        }\n",
              "        var title = child.textContent;\n",
              "        var level = parseInt(child.tagName.substring(1,2));\n",
              "\n",
              "        text_memo += \"--\" + level + \"?\" + lfirst + \"--\" + title + \"\\n\";\n",
              "\n",
              "        if ((level < lfirst) || (level > llast)) {\n",
              "            continue ;\n",
              "        }\n",
              "        if (title.endsWith('\u00b6')) {\n",
              "            title = title.substring(0,title.length-1).replace(\"<\", \"&lt;\")\n",
              "         .replace(\">\", \"&gt;\").replace(\"&\", \"&amp;\");\n",
              "        }\n",
              "        if (title.length == 0) {\n",
              "            continue;\n",
              "        }\n",
              "\n",
              "        while (level < memo_level) {\n",
              "            text_menu += end_format + \"</ul>\\n\";\n",
              "            format_open -= 1;\n",
              "            memo_level -= 1;\n",
              "        }\n",
              "        if (level == lfirst) {\n",
              "            main_item += 1;\n",
              "        }\n",
              "        if (keep_item != -1 && main_item != keep_item + 1) {\n",
              "            // alert(main_item + \" - \" + level + \" - \" + keep_item);\n",
              "            continue;\n",
              "        }\n",
              "        while (level > memo_level) {\n",
              "            text_menu += \"<ul>\\n\";\n",
              "            memo_level += 1;\n",
              "        }\n",
              "        text_menu += repeat_indent_string(level-2);\n",
              "        text_menu += begin_format + sformat.replace(\"__HREF__\", href).replace(\"__TITLE__\", title);\n",
              "        format_open += 1;\n",
              "    }\n",
              "    while (1 < memo_level) {\n",
              "        text_menu += end_format + \"</ul>\\n\";\n",
              "        memo_level -= 1;\n",
              "        format_open -= 1;\n",
              "    }\n",
              "    text_menu += send;\n",
              "    //text_menu += \"\\n\" + text_memo;\n",
              "\n",
              "    while (format_open > 0) {\n",
              "        text_menu += end_format;\n",
              "        format_open -= 1;\n",
              "    }\n",
              "    return text_menu;\n",
              "};\n",
              "var update_menu = function() {\n",
              "    var sbegin = \"\";\n",
              "    var sformat = '<a href=\"#__HREF__\">__TITLE__</a>';\n",
              "    var send = \"\";\n",
              "    var begin_format = '<li>';\n",
              "    var end_format = '</li>';\n",
              "    var keep_item = -1;\n",
              "    var text_menu = update_menu_string(sbegin, 2, 4, sformat, send, keep_item,\n",
              "       begin_format, end_format);\n",
              "    var menu = document.getElementById(\"my_id_menu_nb\");\n",
              "    menu.innerHTML=text_menu;\n",
              "};\n",
              "window.setTimeout(update_menu,2000);\n",
              "            </script>"
            ],
            "text/plain": [
              "<IPython.core.display.HTML object>"
            ]
          },
          "execution_count": 2,
          "metadata": {},
          "output_type": "execute_result"
        }
      ],
      "source": [
        "from jyquickhelper import add_notebook_menu\n",
        "add_notebook_menu()"
      ]
    },
    {
      "cell_type": "markdown",
      "metadata": {},
      "source": [
        "Commencez par t\u00e9l\u00e9charger la base de donn\u00e9e :\n",
        "\n",
        "twitter_for_network_100000.db  \n",
        "https://drive.google.com/file/d/0B6jkqYitZ0uTWjFjd3lpREpFYVE/view?usp=sharing\n",
        "\n",
        "Vous pourrez \u00e9ventuellement t\u00e9l\u00e9charger la base compl\u00e8te (3,4 millions d'utilisateurs, plut\u00f4t que 100000) ult\u00e9rieurement si vous souhaitez tester vos fonctions. Ne perdez pas de temps avec ceci dans ce tp.\n",
        "twitter_for_network_full.db   \n",
        "https://drive.google.com/file/d/0B6jkqYitZ0uTWkR6cDZQUTlVSWM/view?usp=sharing\n",
        "\n",
        "Vous pouvez consulter l'aide de pytoolz (m\u00eame interface que cytoolz) ici :  \n",
        "http://toolz.readthedocs.org/en/latest/  \n",
        "\n",
        "La section sur l'API est particuli\u00e8rement utile car elle r\u00e9sume bien les diff\u00e9rentes fonctions :\n",
        "http://toolz.readthedocs.org/en/latest/api.html  \n",
        "\n",
        "Ensuite ex\u00e9cutez la cellule suivante :"
      ]
    },
    {
      "cell_type": "markdown",
      "metadata": {},
      "source": [
        "Liens alternatifs :\n",
        "\n",
        "* [twitter_for_network_100000.db.zip](http://www.xavierdupre.fr/enseignement/complements/twitter_for_network_100000.db.zip)\n",
        "* [twitter_for_network_full.db.zip](http://www.xavierdupre.fr/enseignement/complements/twitter_for_network_full.db.zip)"
      ]
    },
    {
      "cell_type": "code",
      "execution_count": 2,
      "metadata": {},
      "outputs": [
        {
          "data": {
            "text/plain": [
              "['.\\\\twitter_for_network_100000.db']"
            ]
          },
          "execution_count": 3,
          "metadata": {},
          "output_type": "execute_result"
        }
      ],
      "source": [
        "import pyensae.datasource\n",
        "pyensae.datasource.download_data(\"twitter_for_network_100000.db.zip\")"
      ]
    },
    {
      "cell_type": "code",
      "execution_count": 3,
      "metadata": {
        "collapsed": true
      },
      "outputs": [],
      "source": [
        "import cytoolz as ct \n",
        "import cytoolz.curried as ctc\n",
        "import sqlite3\n",
        "import pprint\n",
        "try:\n",
        "    import ujson as json\n",
        "except:\n",
        "    import json\n",
        "\n",
        "conn_sqlite = sqlite3.connect(\"twitter_for_network_100000.db\")\n",
        "cursor_sqlite = conn_sqlite.cursor()"
      ]
    },
    {
      "cell_type": "markdown",
      "metadata": {},
      "source": [
        "## Description de la base de donn\u00e9e"
      ]
    },
    {
      "cell_type": "markdown",
      "metadata": {},
      "source": [
        "Nous nous int\u00e9resserons \u00e0 3 tables : **tw_users**, **tw_status** et **tw_followers_id**.  \n",
        "\n",
        "La premi\u00e8re (**tw_users**) contient des profils utilisateurs tels que retourn\u00e9s par l'api twitter (\u00e0 noter que les profils ont \u00e9t\u00e9 \"\u00e9pur\u00e9s\" d'informations jug\u00e9es inutiles pour limiter la taille de la base de donn\u00e9e).\n",
        "\n",
        "La deuxi\u00e8me (**tw_status**) contient des status twitter (tweet, retweet, ou r\u00e9ponse \u00e0 un tweet), complets, issus d'une certaine cat\u00e9gorie d'utilisateurs (les tweets sont tous issus d'environ 70 profils).\n",
        "\n",
        "La troisi\u00e8me (**tw_followers_id**) contient des listes d'id d'users, qui suivent les utilisateurs r\u00e9f\u00e9renc\u00e9s par la colonne user_id. L\u00e0 encore ce ne sont les followers que de environ 70 profils. Chaque entr\u00e9e contient au plus 5000 id de followers (il s'agit d'une limitation de twitter).\n",
        "\n",
        "Elles ont les structures suivantes :"
      ]
    },
    {
      "cell_type": "raw",
      "metadata": {},
      "source": [
        "CREATE TABLE tw_followers_id( user_id bigint NOT NULL, cursor bigint NOT NULL, prev_cursor bigint NOT NULL, next_cursor bigint NOT NULL, update_time timestamp NOT NULL, content json NOT NULL);\n",
        "CREATE TABLE tw_users (    id bigint NOT NULL,    last_update timestamp NOT NULL,    content json, screen_name character varying(512));\n",
        "CREATE TABLE tw_status (    id bigint NOT NULL,    user_id bigint NOT NULL,    last_update timestamp NOT NULL,    content json);"
      ]
    },
    {
      "cell_type": "markdown",
      "metadata": {},
      "source": [
        "Les trois poss\u00e8dent un champ content, de type json, qui sera celui qui nous interessera le plus. Vous pouvez acc\u00e9dez aux donn\u00e9es dans les tables avec les syntaxes suivantes (vous pouvez commenter/d\u00e9commenter les diff\u00e9rentes requ\u00eates)."
      ]
    },
    {
      "cell_type": "code",
      "execution_count": 4,
      "metadata": {},
      "outputs": [
        {
          "data": {
            "text/plain": [
              "(1103159180,\n",
              " '{\"utc_offset\": 7200, \"friends_count\": 454, \"entities\": {\"description\": {\"urls\": []}, \"url\": {\"urls\": [{\"expanded_url\": \"http://www.havas.com\", \"display_url\": \"havas.com\", \"indices\": [0, 22], \"url\": \"http://t.co/8GcZtydjWh\"}]}}, \"description\": \"Havas Group CEO\", \"id\": 1103159180, \"contributors_enabled\": false, \"geo_enabled\": false, \"name\": \"Yannick Bollor\\\\u00e9\", \"favourites_count\": 873, \"verified\": true, \"protected\": false, \"created_at\": \"Sat Jan 19 08:23:33 +0000 2013\", \"statuses_count\": 654, \"lang\": \"en\", \"time_zone\": \"Ljubljana\", \"screen_name\": \"YannickBollore\", \"location\": \"\", \"id_str\": \"1103159180\", \"url\": \"http://t.co/8GcZtydjWh\", \"followers_count\": 7345, \"listed_count\": 118, \"has_extended_profile\": false}',\n",
              " 'YannickBollore')"
            ]
          },
          "execution_count": 5,
          "metadata": {},
          "output_type": "execute_result"
        }
      ],
      "source": [
        "# cursor_sqlite.execute( \"SELECT user_id, content FROM tw_followers_id\")\n",
        "cursor_sqlite.execute( \"SELECT id, content, screen_name FROM tw_users\")\n",
        "# cursor_sqlite.execute( \"SELECT id, content, user_id FROM tw_status\")\n",
        "\n",
        "for it_elt in cursor_sqlite:\n",
        "    ## do something here\n",
        "    pass\n",
        "\n",
        "# ou, pour acc\u00e9der \u00e0 un \u00e9l\u00e9ment :\n",
        "cursor_sqlite.execute( \"SELECT id, content, screen_name FROM tw_users\")\n",
        "cursor_sqlite.fetchone()"
      ]
    },
    {
      "cell_type": "markdown",
      "metadata": {},
      "source": [
        "Toutefois les curseurs de base de donn\u00e9e en python se comportent comme des \"iterables\" (i.e. comme une liste ou une s\u00e9quence, mais sans n\u00e9cessairement charger toutes les donn\u00e9es en m\u00e9moire).  \n",
        "On peut donc les passer directement en argument aux fonctions de cytoolz."
      ]
    },
    {
      "cell_type": "code",
      "execution_count": 5,
      "metadata": {},
      "outputs": [
        {
          "name": "stdout",
          "output_type": "stream",
          "text": [
            "2079\n",
            "16092\n",
            "100071\n"
          ]
        }
      ],
      "source": [
        "cursor_sqlite.execute( \"SELECT user_id, content FROM tw_followers_id\")\n",
        "print( ct.count( cursor_sqlite ) )\n",
        "cursor_sqlite.execute( \"SELECT id, content, user_id FROM tw_status\")\n",
        "print( ct.count( cursor_sqlite ) )\n",
        "cursor_sqlite.execute( \"SELECT id, content, screen_name FROM tw_users\")\n",
        "print( ct.count( cursor_sqlite ) )"
      ]
    },
    {
      "cell_type": "markdown",
      "metadata": {},
      "source": [
        "**Attention au fait que le curseur garde un \u00e9tat**.  \n",
        "Par exemple ex\u00e9cutez le code suivant :  "
      ]
    },
    {
      "cell_type": "code",
      "execution_count": 6,
      "metadata": {},
      "outputs": [
        {
          "name": "stdout",
          "output_type": "stream",
          "text": [
            "2079\n",
            "0\n"
          ]
        }
      ],
      "source": [
        "cursor_sqlite.execute( \"SELECT user_id, content FROM tw_followers_id\")\n",
        "print( ct.count( cursor_sqlite ) )\n",
        "print( ct.count( cursor_sqlite ) )"
      ]
    },
    {
      "cell_type": "markdown",
      "metadata": {},
      "source": [
        "Le deuxi\u00e8me count renvoit 0 car le curseur se rappelle qu'il est d\u00e9j\u00e0 arriv\u00e9 \u00e0 la fin des donn\u00e9es qu'il devait parcourir. Il faut donc r\u00e9initialiser le curseur :"
      ]
    },
    {
      "cell_type": "code",
      "execution_count": 7,
      "metadata": {},
      "outputs": [
        {
          "name": "stdout",
          "output_type": "stream",
          "text": [
            "2079\n",
            "2079\n"
          ]
        }
      ],
      "source": [
        "cursor_sqlite.execute( \"SELECT user_id, content FROM tw_followers_id\")\n",
        "print( ct.count( cursor_sqlite ) )\n",
        "cursor_sqlite.execute( \"SELECT user_id, content FROM tw_followers_id\")\n",
        "print( ct.count( cursor_sqlite ) )"
      ]
    },
    {
      "cell_type": "markdown",
      "metadata": {},
      "source": [
        "On peut \u00e9galement mettre la commande execute \u00e0 l'int\u00e9rieur d'une fonction, que l'on appelle ensuite :"
      ]
    },
    {
      "cell_type": "code",
      "execution_count": 8,
      "metadata": {},
      "outputs": [
        {
          "name": "stdout",
          "output_type": "stream",
          "text": [
            "2079\n",
            "2079\n"
          ]
        }
      ],
      "source": [
        "def get_tw_followers_id():\n",
        "    return cursor_sqlite.execute( \"SELECT user_id, content FROM tw_followers_id\")\n",
        "print( ct.count( get_tw_followers_id() ) )\n",
        "print( ct.count( get_tw_followers_id() ) )"
      ]
    },
    {
      "cell_type": "markdown",
      "metadata": {},
      "source": [
        "La commande ex\u00e9cute en elle-m\u00eame ne prend pas du tout de temps, car elle ne fait que pr\u00e9parer la requ\u00eate, n'h\u00e9sitez donc pas \u00e0 en mettre syst\u00e9matiquement dans vos cellules, plut\u00f4t que de risquer d'avoir un curseur dont vous ne vous souvenez plus de l'\u00e9tat."
      ]
    },
    {
      "cell_type": "markdown",
      "metadata": {},
      "source": [
        "## Partie 1 - description de la base de donn\u00e9e"
      ]
    },
    {
      "cell_type": "markdown",
      "metadata": {},
      "source": [
        "#### Question 1 - \u00e9l\u00e9ments unique d'une table"
      ]
    },
    {
      "cell_type": "markdown",
      "metadata": {},
      "source": [
        "Trouvez la liste des user_id diff\u00e9rents dans la table tw_followers_id, en utilisant les fonctions cytoolz.  \n",
        "La fonction qui pourra vous \u00eatre utiles ici :  \n",
        "\n",
        "  - `ct.unique(seq)` => \u00e0 partir d'une s\u00e9quence, renvoit une s\u00e9quence o\u00f9 tous les doublons ont \u00e9t\u00e9 supprim\u00e9s\n",
        "  \n",
        "Vous vous rappelez sans doute que nous utilisions syst\u00e9matiquement pluck et map pour les exemples du cours, ceux-ci ne sont pas n\u00e9cessaires ici.  \n",
        "A noter qu'il faudra sans doute utilisez la fonction list( ... ), ou une boucle for pour forcer l'\u00e9valuation des fonctions [cytoolz](https://github.com/pytoolz/cytoolz)."
      ]
    },
    {
      "cell_type": "code",
      "execution_count": 9,
      "metadata": {},
      "outputs": [
        {
          "data": {
            "text/plain": [
              "[(18814998,),\n",
              " (26031424,),\n",
              " (96093611,),\n",
              " (24906326,),\n",
              " (17211968,),\n",
              " (17172319,),\n",
              " (14658057,),\n",
              " (427288938,),\n",
              " (105116603,),\n",
              " (95533081,),\n",
              " (24732180,),\n",
              " (17508660,),\n",
              " (38170599,),\n",
              " (83784709,),\n",
              " (22428439,),\n",
              " (551669623,),\n",
              " (14389177,),\n",
              " (26073581,),\n",
              " (360680603,),\n",
              " (104857771,),\n",
              " (1055021191,),\n",
              " (217749896,),\n",
              " (2445174992,),\n",
              " (258345629,),\n",
              " (20702279,),\n",
              " (1134643441,),\n",
              " (415498269,),\n",
              " (374184532,),\n",
              " (1976143068,),\n",
              " (520449734,),\n",
              " (483087012,),\n",
              " (80820758,),\n",
              " (69255422,),\n",
              " (413839619,),\n",
              " (34225599,),\n",
              " (38021678,),\n",
              " (472412809,),\n",
              " (219361536,),\n",
              " (49969223,),\n",
              " (359979086,),\n",
              " (72276456,),\n",
              " (69032746,),\n",
              " (490126636,),\n",
              " (93484066,),\n",
              " (308679667,),\n",
              " (70385068,),\n",
              " (19438626,),\n",
              " (2709830497,),\n",
              " (120003933,),\n",
              " (61903470,),\n",
              " (273341346,),\n",
              " (146423935,),\n",
              " (601970599,),\n",
              " (3301529297,),\n",
              " (3026614773,),\n",
              " (3115155587,),\n",
              " (1374567409,),\n",
              " (2336714149,),\n",
              " (873851912,),\n",
              " (17744075,),\n",
              " (283979861,),\n",
              " (2310376344,),\n",
              " (88884666,),\n",
              " (417340481,),\n",
              " (274924087,),\n",
              " (534135763,),\n",
              " (16222469,),\n",
              " (497110024,),\n",
              " (299722946,),\n",
              " (271892968,),\n",
              " (481097138,),\n",
              " (79145543,),\n",
              " (988830782,)]"
            ]
          },
          "execution_count": 10,
          "metadata": {},
          "output_type": "execute_result"
        }
      ],
      "source": [
        "import cytoolz as ct \n",
        "import cytoolz.curried as ctc\n",
        "\n",
        "list( ct.unique( cursor_sqlite.execute( \"SELECT user_id FROM tw_followers_id\") ) )"
      ]
    },
    {
      "cell_type": "markdown",
      "metadata": {},
      "source": [
        "A noter que si vous voyez appara\u00eetre vos r\u00e9sultats sous la forme (79145543,), c'est normal, le curseur sqlite renvoit toujours ces r\u00e9sultats sous forme de tuple : (colonne1, colonne2, colonne3, ...) et ce m\u00eame si il n'y a qu'une seule colonne dans la requ\u00eate.  \n",
        "\n",
        "Nous utiliserons pluck pour extraire le premier \u00e9l\u00e9ment du tuple."
      ]
    },
    {
      "cell_type": "markdown",
      "metadata": {},
      "source": [
        "#### Question 2 - nombre d'\u00e9lements unique d'une table"
      ]
    },
    {
      "cell_type": "markdown",
      "metadata": {},
      "source": [
        "Trouvez le nombre de user_id diff\u00e9rents dans la table tw_followers_id, en utilisant les fonctions cytoolz.  \n",
        "Les fonctions qui pourront vous \u00eatres utiles ici :  \n",
        "\n",
        "  - `ct.count(seq)` => compte le nombre d'\u00e9l\u00e9ments d'une s\u00e9quence\n",
        "  - `ct.unique(seq)` => \u00e0 partir d'une s\u00e9quence, renvoit une s\u00e9quence o\u00f9 tous les doublons ont \u00e9t\u00e9 supprim\u00e9s\n",
        "  \n",
        "Vous vous rappelez sans doute que nous utilisions syst\u00e9matiquement pluck et map pour les exemples du cours, ceux-ci ne sont pas n\u00e9cessaires, ici."
      ]
    },
    {
      "cell_type": "code",
      "execution_count": 10,
      "metadata": {},
      "outputs": [
        {
          "data": {
            "text/plain": [
              "73"
            ]
          },
          "execution_count": 11,
          "metadata": {},
          "output_type": "execute_result"
        }
      ],
      "source": [
        "import cytoolz as ct \n",
        "import cytoolz.curried as ctc\n",
        "\n",
        "ct.count( ct.unique( cursor_sqlite.execute( \"SELECT user_id FROM tw_followers_id\") ) )"
      ]
    },
    {
      "cell_type": "markdown",
      "metadata": {},
      "source": [
        "#### Question 3 : cr\u00e9ation d'une fonction comptez_unique"
      ]
    },
    {
      "cell_type": "markdown",
      "metadata": {},
      "source": [
        "A l'aide de `ct.compose`, cr\u00e9ez une fonction **comptez_unique** qui effectue directement cette op\u00e9ration. Pour rappel, ``ct.compose( f, g, h, ...)`` renvoit une fonction qui appel\u00e9e sur `x` ex\u00e9cute (``f(g(h(x))``). `ct.compose` prend un nombre d'arguments quelconque. A noter que les fonctions donn\u00e9es en argument doivent ne prendre qu'un seul argument, ce qui est le cas ici. Pensez bien que comme vous manipulez ici les fonctions elle-m\u00eame, il ne faut pas mettre de parenth\u00e8ses apr\u00e8s "
      ]
    },
    {
      "cell_type": "code",
      "execution_count": 11,
      "metadata": {
        "collapsed": true
      },
      "outputs": [],
      "source": [
        "import cytoolz as ct \n",
        "import cytoolz.curried as ctc\n",
        "\n",
        "comptez_unique = ct.compose( ct.count, ct.unique )"
      ]
    },
    {
      "cell_type": "code",
      "execution_count": 12,
      "metadata": {},
      "outputs": [
        {
          "data": {
            "text/plain": [
              "73"
            ]
          },
          "execution_count": 13,
          "metadata": {},
          "output_type": "execute_result"
        }
      ],
      "source": [
        "## Pour tester votre code, cette ligne doit renvoyer le m\u00eame nombre qu'\u00e0 la question 2\n",
        "comptez_unique( cursor_sqlite.execute( \"SELECT user_id FROM tw_followers_id\") )"
      ]
    },
    {
      "cell_type": "markdown",
      "metadata": {},
      "source": [
        "#### Question 4 : compte du nombre de valeurs de \"location\" diff\u00e9rentes dans la table tw_users"
      ]
    },
    {
      "cell_type": "markdown",
      "metadata": {},
      "source": [
        "Nous allons utiliser la fonction comptez_unique d\u00e9finie pr\u00e9c\u00e9demment pour comptez le nombre de \"location\" diff\u00e9rentes dans la table **tw_users**.  \n",
        "Pour cela il faudra faire appel \u00e0 deux fonctions :  \n",
        "\n",
        "  - **ct.pluck** pour extraire une valeur de tous les \u00e9l\u00e9ments d'une s\u00e9quence\n",
        "  - **ct.map** pour appliquer une fonction (ici `json.loads` pour transformer une cha\u00eene de caract\u00e8re au format json en objet python).\n",
        "  \n",
        "Il faudra sans doute appliquer `ct.pluck` deux fois, une fois pour extraire la colonne content du r\u00e9sultat de la requ\u00eate (m\u00eame si celle-ci ne comprend qu'une colonne) et une fois pour extraire le champ \"location\" du json. Les syntaxes de ces fonctions sont les suivantes :\n",
        "\n",
        "  - **ct.pluck( 0, seq )** (cas d'une s\u00e9quence de liste ou de tuple) ou **ct.pluck( key, seq )** (cas d'une s\u00e9quence de dictionnaire).\n",
        "  - **ct.map( f, seq )** o\u00f9 f est la fonction que l'on souhaite appliquer (ne mettez pas les parenth\u00e8ses apr\u00e8s le `f`, ici vous faites r\u00e9f\u00e9rences \u00e0 la fonction, pas son r\u00e9sultat)"
      ]
    },
    {
      "cell_type": "markdown",
      "metadata": {},
      "source": [
        "**Astuce :** dans le cas improbable o\u00f9 vous auriez un ordinateur sensiblement plus lent que le r\u00e9dacteur du tp, rajoutez `LIMIT 10000` \u00e0 la fin des requ\u00eates"
      ]
    },
    {
      "cell_type": "code",
      "execution_count": 13,
      "metadata": {},
      "outputs": [
        {
          "data": {
            "text/plain": [
              "13730"
            ]
          },
          "execution_count": 14,
          "metadata": {},
          "output_type": "execute_result"
        }
      ],
      "source": [
        "import cytoolz as ct \n",
        "\n",
        "cursor_sqlite.execute( \"SELECT content FROM tw_users\")\n",
        "comptez_unique( ct.pluck(\"location\", ct.map(json.loads, ct.pluck(0, cursor_sqlite))))\n",
        "# Le r\u00e9sultat attendu est 13730"
      ]
    },
    {
      "cell_type": "markdown",
      "metadata": {},
      "source": [
        "#### Question 5 : curly fonctions\n",
        "\n",
        "Comme on risque de beaucoup utiliser les fonctions `ct.map` et `ct.pluck`, on veut se simplifier la vie en utilisant la notation suivante :  "
      ]
    },
    {
      "cell_type": "code",
      "execution_count": 14,
      "metadata": {},
      "outputs": [],
      "source": [
        "pluck_loc = ctc.pluck(\"location\")\n",
        "map_loads = ctc.map(json.loads)\n",
        "pluck_0   = ctc.pluck(0)"
      ]
    },
    {
      "cell_type": "markdown",
      "metadata": {},
      "source": [
        "Notez bien que nous utilisons ctc.pluck et non pas ct.pluck, car le package [cytoolz.curry](http://toolz.readthedocs.io/en/latest/curry.html) (ici import\u00e9 en temps que `ctc`) contient les versions de ces fonctions qui supportent l'\u00e9valuation partielle. Les objets **pluck_loc**, **map_loads**, **pluck_0** sont donc des fonctions \u00e0 un argument, construites \u00e0 partir de fonctions \u00e0 deux arguments. Utilisez ces 3 fonctions pour simplifier l'\u00e9criture de la question 4"
      ]
    },
    {
      "cell_type": "code",
      "execution_count": 15,
      "metadata": {},
      "outputs": [
        {
          "data": {
            "text/plain": [
              "13730"
            ]
          },
          "execution_count": 16,
          "metadata": {},
          "output_type": "execute_result"
        }
      ],
      "source": [
        "import cytoolz as ct \n",
        "\n",
        "cursor_sqlite.execute( \"SELECT content FROM tw_users\")\n",
        "comptez_unique( pluck_loc( map_loads( pluck_0(cursor_sqlite))))\n",
        "# Le r\u00e9sultat attendu est 13730"
      ]
    },
    {
      "cell_type": "markdown",
      "metadata": {},
      "source": [
        "#### Question 6 : fonction get_json_seq\n",
        "\n",
        "A partir des fonctions pr\u00e9c\u00e9dentes et de la fonction compose, cr\u00e9ez une fonction get_json_seq, qui \u00e0 partir d'un curseur d'une requ\u00eate dont la colonne content est en premi\u00e8re position, renvoit une s\u00e9quence des objets json load\u00e9s. Vous devez pouvoir l'utiliser pour r\u00e9\u00e9crire le code de la question pr\u00e9c\u00e9dente ainsi :"
      ]
    },
    {
      "cell_type": "code",
      "execution_count": 16,
      "metadata": {},
      "outputs": [
        {
          "data": {
            "text/plain": [
              "13730"
            ]
          },
          "execution_count": 17,
          "metadata": {},
          "output_type": "execute_result"
        }
      ],
      "source": [
        "import cytoolz as ct \n",
        "\n",
        "cursor_sqlite.execute( \"SELECT content FROM tw_users\")\n",
        "get_json_seq = ct.compose( map_loads, pluck_0 )\n",
        "comptez_unique( pluck_loc( get_json_seq(cursor_sqlite)))"
      ]
    },
    {
      "cell_type": "markdown",
      "metadata": {},
      "source": [
        "#### Question 7 : liste des localisations avec Paris\n",
        "\n",
        "On peut v\u00e9rifier si une localisation contient le mot \"Paris\", avec toutes ces variations de casse possible avec la fonction suivante :"
      ]
    },
    {
      "cell_type": "code",
      "execution_count": 17,
      "metadata": {
        "collapsed": true
      },
      "outputs": [],
      "source": [
        "def contains_paris(loc):\n",
        "    return \"paris\" in loc.lower()"
      ]
    },
    {
      "cell_type": "markdown",
      "metadata": {},
      "source": [
        "En utilisant cette fonction et la fonction ct.filter, trouvez :  \n",
        "\n",
        "  - le nombre d'utilisateur dont la location contient Paris sous une forme ou une autre (question 7.1)\n",
        "  - tous les variantes de location contenant Paris (pour info il y en a 977)\n",
        "  \n",
        "`ct.filter` s'utilise avec la syntaxe ``ct.filter( f, seq )`` et renvoit une s\u00e9quence de tous les \u00e9l\u00e9ments de la s\u00e9quence en entr\u00e9e pour lesquels f renvoit `true`. Vous aurez besoin des fonctions ct.unique et ct.count. Si vous avez une sortie du type `<cytoolz.itertoolz._unique_identity at 0x7f3e7f3d6d30>`, rajouter la fonction `list( ... )` autour pour forcer l'\u00e9valuation."
      ]
    },
    {
      "cell_type": "code",
      "execution_count": 18,
      "metadata": {},
      "outputs": [
        {
          "data": {
            "text/plain": [
              "5470"
            ]
          },
          "execution_count": 19,
          "metadata": {},
          "output_type": "execute_result"
        }
      ],
      "source": [
        "## R\u00e9ponse 7.1\n",
        "import cytoolz as ct \n",
        "\n",
        "cursor_sqlite.execute( \"SELECT content FROM tw_users\")\n",
        "ct.count( ct.filter( contains_paris, pluck_loc( get_json_seq(cursor_sqlite))))\n",
        "## le r\u00e9sultat attendu est 5470"
      ]
    },
    {
      "cell_type": "code",
      "execution_count": 19,
      "metadata": {
        "scrolled": false
      },
      "outputs": [
        {
          "data": {
            "text/plain": [
              "['Paris, Ile-de-France',\n",
              " 'Paris',\n",
              " 'Rouen/Paris, France',\n",
              " 'paris 75006',\n",
              " 'paris 75018',\n",
              " 'Somewhere in Paris area',\n",
              " 'Paris.',\n",
              " 'Paris, New York, Indonesia',\n",
              " 'PARiS',\n",
              " 'Now in Paris',\n",
              " 'paris',\n",
              " 'Paris France',\n",
              " 'Est parisien',\n",
              " 'PARIS',\n",
              " 'Paris ',\n",
              " 'paris ',\n",
              " '- Paris -',\n",
              " 'France, Paris',\n",
              " '10, rue du Colis\u00e9e 75008 Paris',\n",
              " 'Paris - Munich',\n",
              " \"Paris' Beach\",\n",
              " 'Paris - Uppsala',\n",
              " 'Groupe La Poste -Paris',\n",
              " 'France (Paris) ',\n",
              " 'Paris, France',\n",
              " 'Normandie Deauville et Paris',\n",
              " 'Paris /France',\n",
              " 'Perpignan, Paris, Cordoba (SP)',\n",
              " 'Paris - Arras - Gascogne ',\n",
              " 'Paris / Toulouse / Krakow',\n",
              " '#Paris, Ile-de-France',\n",
              " 'Montr\u00e9al - Paris',\n",
              " 'Limoges/Paris',\n",
              " 'LyonParisClermontNantesMorzine',\n",
              " 'paris 13',\n",
              " 'Grenoble, Paris, Annonay ',\n",
              " 'Bordeaux/Paris',\n",
              " '#Paris5',\n",
              " \"Paris / Ile d'Yeu\",\n",
              " '#Paris - #Angers',\n",
              " 'Paris et Toulouse',\n",
              " 'Paris 19\u00e8me',\n",
              " 'paris Marais',\n",
              " 'REIMS. METZ. PARIS',\n",
              " 'Europe Paris Nantes',\n",
              " 'Auxerre Paris Toulouse',\n",
              " 'Paris, 3e',\n",
              " 'Paris - Montpellier',\n",
              " 'Paris-Reims',\n",
              " 'Paris - Prague',\n",
              " 'Paris, Montr\u00e9al, NYC',\n",
              " 'Paris - Lyon - Grenoble',\n",
              " 'villeparisis',\n",
              " 'Paris 75019',\n",
              " 'N\u00eemes | Paris',\n",
              " 'Paris, FRANCE',\n",
              " 'Strasbourg, Paris',\n",
              " 'Paris, France.',\n",
              " 'Paris / NYC / London',\n",
              " '16 Rue Am\u00e9lie 75007 Paris',\n",
              " 'Paris. France.',\n",
              " 'Paris - Saint Malo',\n",
              " 'Paris 9e',\n",
              " 'Paris - France',\n",
              " 'Rennes/Paris France',\n",
              " 'Perpignan - Paris',\n",
              " 'Compi\u00e8gne - Paris - FRANCE',\n",
              " 'Montbeliard Paris \u00e7a depend !',\n",
              " 'Paris . Londres . Shanghai .',\n",
              " 'Paris  - La Rochelle - Corr\u00e8ze',\n",
              " 'PARIS ',\n",
              " 'Paris/Brussels/Montargis',\n",
              " 'Paris...et ailleurs ',\n",
              " 'Paris / Madrid / Hanoi / Yango',\n",
              " 'Paris, London, the world',\n",
              " 'France, Lyon, Guadeloupe,Paris',\n",
              " ' Paris-Martinique ',\n",
              " 'Paris / Pau / New-York',\n",
              " '#Paris',\n",
              " 'Paris-Gaiole in Chianti-Senlis',\n",
              " 'Strasbourg, Lyon, Paris',\n",
              " 'Paris - Bruxelles - Gen\u00e8ve',\n",
              " 'near Paris',\n",
              " 'France . Paris .',\n",
              " 'Rennes, Paris',\n",
              " 'R\u00e9gion parisienne',\n",
              " 'bruxelles/paris/capferret',\n",
              " 'Romainville (Greater Paris)',\n",
              " 'Paris - Bordeaux',\n",
              " \"L'amour de la cuisine & Paris \",\n",
              " 'Entre Paris et Val-de-Marne',\n",
              " 'Le Touquet. Lille. Paris',\n",
              " '#Paris #Paris10',\n",
              " '75002 Paris, france',\n",
              " 'Paris/Blagnac',\n",
              " '77 Rue de Varenne Paris, France',\n",
              " '75005 Paris',\n",
              " 'Paris  France',\n",
              " 'Paris Marais',\n",
              " 'Paris, Dijon',\n",
              " '18, rue de Tilsitt - Paris 17 ',\n",
              " 'France(Bordeaux,Paris,Cognac)',\n",
              " 'Paris France ',\n",
              " 'Paris, Lyc\u00e9e Henri IV',\n",
              " 'France,Paris',\n",
              " ' paris rennes',\n",
              " 'Paris, Tours, Vend\u00f4me',\n",
              " 'Paris - Aveyron',\n",
              " 'Paris - Berlin - Shanghai',\n",
              " '  Paris 9',\n",
              " 'paris,france',\n",
              " ' Paris et Nice',\n",
              " 'Paris, Biarritz',\n",
              " 'Paris - Quebec - Atlanta',\n",
              " 'Paris-Bruxelles',\n",
              " '15\u00e8me arrondissement de Paris',\n",
              " 'Lyon - Paris',\n",
              " 'nantes/paris',\n",
              " 'Paris (France)',\n",
              " 'Personal tweets from Paris, FR',\n",
              " 'Paris, france',\n",
              " 'Bourguignon expatri\u00e9 \u00e0 Paris',\n",
              " 'Paris et ailleurs',\n",
              " 'Paris / France',\n",
              " 'Tours-Blois-Orleans-Paris',\n",
              " 'Bamako / Paris ',\n",
              " 'paris 7e',\n",
              " 'Paris, Lyon, Europe...',\n",
              " 'Paris (almost)',\n",
              " '#93270 #GrandParis #Bruxelles ',\n",
              " 'Paris - Montrouge',\n",
              " 'DAKAR Paris Joburg Montreal',\n",
              " 'Paris, London, New York',\n",
              " 'Paris-France',\n",
              " 'Paris, 75004',\n",
              " 'Paris 75017',\n",
              " 'Paris Aix Portigliolo',\n",
              " 'Lille - Paris // France',\n",
              " 'Goussainville - Paris - Nice',\n",
              " 'Paris - Lille - Seoul',\n",
              " 'Ard\u00e8che - Paris',\n",
              " 'Paris, Ile-de-France, France',\n",
              " 'Babi, Barca, 75% loin de Paris',\n",
              " 'paris, France',\n",
              " 'Often in my sneakers (Paris)',\n",
              " 'Paris / N\u00eemes',\n",
              " 'Planet e@rth  Zoom @Paris',\n",
              " 'Headquarter Paris, France',\n",
              " 'Rochemaure / Paris',\n",
              " 'Paris \u2013 Niort',\n",
              " 'Paris / Berlin / Hamburg',\n",
              " 'Paris/StNicolasdAcy/CapNegre',\n",
              " 'paris\\n',\n",
              " 'Paris 4',\n",
              " 'Madrid y Paris. No s\u00f3lo.',\n",
              " 'Paris - Toulouse',\n",
              " 'Paris - Nanterre - Versailles',\n",
              " 'Paris/Toulouse',\n",
              " 'Lille & Paris',\n",
              " 'Paris 11e ',\n",
              " 'Paris & London',\n",
              " 'UGC cin\u00e9 cit\u00e9 Paris 19eme',\n",
              " 'Paris 15\u00e8me',\n",
              " 'London (no longer Paris)',\n",
              " 'Paris - Berlin',\n",
              " 'Paris / TLV / Guayaquil / Nice',\n",
              " 'Paris/Biarritz',\n",
              " 'Paris,France',\n",
              " 'New york ,London,Paris,Monaco',\n",
              " 'Paris-New York',\n",
              " 'Paris IIX',\n",
              " 'Paris - Bruxelles',\n",
              " 'Paris 4e',\n",
              " 'Banlieue Parisienne',\n",
              " 'Exil\u00e9 b\u00e9arnais \u00e0 Paris - ',\n",
              " 'Paris 2\u00e8me',\n",
              " 'Lyon Paris Bordeaux Nantes',\n",
              " 'Paris, Bilbao, Dieppe',\n",
              " 'paris idf ',\n",
              " 'ParisMLP2017 Natio Remigration',\n",
              " 'Toulon//Lyon//Paris//Nantes',\n",
              " 'Paris France World...',\n",
              " 'France Paris',\n",
              " 'paris, france',\n",
              " 'Paris - France, Europe. ',\n",
              " 'Dakar-Paris',\n",
              " 'Paris, Lyon, Barcelone',\n",
              " 'Toulousain en escale \u00e0 PARIS',\n",
              " 'Paris / Miami',\n",
              " 'Paris, France ',\n",
              " 'Paris - Strasbourg - Bruxelles',\n",
              " '94170 nojent sur marne paris',\n",
              " 'Paris - Marseille',\n",
              " 'Argentan - Paris - Caen',\n",
              " 'Paris / Gen\u00e8ve ',\n",
              " 'Paris 14',\n",
              " 'Rabat-Paris',\n",
              " 'M\u00fcnchen - Paris',\n",
              " 'Ayoub 20 Paris # La Vida Lokaa',\n",
              " 'Capetown / Paris',\n",
              " 'Nantes/Paris/Strasbourg/Annaba',\n",
              " 'Kinshasa Paris ',\n",
              " 'paris 20e',\n",
              " 'Region de Paris FRANCE',\n",
              " 'Paris Nantes ',\n",
              " 'Paris, Fr',\n",
              " 'Paris/Lyon, France',\n",
              " 'paris panam',\n",
              " 'Paris/Lectoure (32)',\n",
              " 'Carpentras - Paris',\n",
              " 'Paris, Montmartre',\n",
              " 'France, Paris, 18eme',\n",
              " 'Parissss',\n",
              " 'Paris. Lormes.',\n",
              " 'Paris 12e',\n",
              " 'Rennes - Paris ',\n",
              " 'Paris -  Lille',\n",
              " 'Paris/Tunis',\n",
              " 'Paris, 18e arrondissement',\n",
              " 'Toulouse/Link\u00f6ping/Paris',\n",
              " 'Paris/France',\n",
              " 'Paris 13 & Glumotte, Groland ',\n",
              " 'Paris, Beauvais, Bretigny',\n",
              " 'Paris et sa banlieue ',\n",
              " 'Paris XIV',\n",
              " 'Paris, La Roche sur Yon',\n",
              " 'Paris : France',\n",
              " 'Paris 18 / Matane',\n",
              " 'Paris - Versailles - Angers',\n",
              " 'Paris, London, Barcelona',\n",
              " 'ASNIERES, PARIS',\n",
              " 'France,R\u00e9gion parisienne',\n",
              " \"Goutte d'or #paris18\",\n",
              " 'Paris et Lyon...',\n",
              " 'Paris, FR',\n",
              " '75017 Paris',\n",
              " 'Avignon-Montpellier-Paris ',\n",
              " 'auvergne et paris ',\n",
              " 'Paris/Bastia',\n",
              " \"Paris' cambrousse\",\n",
              " 'paris 15',\n",
              " 'Lille - Le Touquet - Paris 8',\n",
              " 'PARIS FRANCE',\n",
              " 'Paris 3e',\n",
              " 'Paris (West Side)',\n",
              " 'paris france',\n",
              " 'LONDON - PARIS',\n",
              " 'FRANCE Paris',\n",
              " '#Paris, #Hamburg',\n",
              " 'Paris - Montr\u00e9al',\n",
              " 'Paris, 10 \u00e8me',\n",
              " 'Metz, Paris, Montr\u00e9al',\n",
              " 'Paris (France)Bhaktapur(Nepal)',\n",
              " 'Paris / Toulon',\n",
              " 'PARIS IDF FRANCE',\n",
              " '#UnivParis8 salle ME-23 MDE',\n",
              " 'Paris Montpellier',\n",
              " 'Paris, Laval, Singapore.....',\n",
              " 'Montpellier & Paris',\n",
              " 'paris / beyrouth / erevan',\n",
              " 'Paris 75020',\n",
              " 'Paris - Saint-Cloud',\n",
              " 'Paris ~ Somewhere',\n",
              " 'Lille, Paris',\n",
              " 'Paris/Saint Germain en Laye',\n",
              " 'Rue du bac,  Paris VII',\n",
              " 'Avignon/Paris',\n",
              " 'PARIS 19E ARRONDISSEMENT',\n",
              " 'Paris/ Tours / Strasbourg',\n",
              " 'Aquitaine, France,paris,mali,',\n",
              " 'Washington DC - Paris',\n",
              " 'Paris-IDF',\n",
              " 'Paris, Toulouse, Pamiers',\n",
              " 'Paris et ses alentours',\n",
              " '15 rue de la Bruy\u00e8re - 75009 Paris',\n",
              " '\u0421\u0430\u043d\u043a\u0442-\u041f\u0435\u0442\u0435\u0440\u0431\u0443\u0440\u0433 & Paris 6th',\n",
              " 'Paris, 8\u00e8me',\n",
              " 'Paris/Nice',\n",
              " 'Honfleur / Paris / Antibes ',\n",
              " 'Paris, Cannes',\n",
              " 'PARIS / NICE',\n",
              " 'Ile-de-France, Paris',\n",
              " 'France paris',\n",
              " '\u00cele-de-France, Paris',\n",
              " '#Paris 14',\n",
              " 'Paris 12',\n",
              " 'PARIS 75012, PARIS 75017',\n",
              " 'paris 20\u00e8me',\n",
              " 'Paris - france',\n",
              " 'Paris/Banlieue Ouest',\n",
              " 'Paris / \u0130stanbul',\n",
              " 'Lille - Paris - Londres',\n",
              " 'Paris-La Mecque \u0628\u0627\u0631\u064a\u0633-\u0645\u0643\u0629',\n",
              " 'Paris, France / Dakar, S\u00e9n\u00e9gal',\n",
              " 'Moscow, Paris ',\n",
              " 'Paris - FRANCE',\n",
              " 'France , paris',\n",
              " 'Auvergne - Bruxelles - Paris',\n",
              " 'Bordeaux, Paris, Lausanne',\n",
              " 'Sciences Po Paris',\n",
              " 'Lille/Paris \u00e0 mi temps',\n",
              " 'Grenoble - Lyon - Paris ',\n",
              " 'Paris - S\u00e9oul',\n",
              " 'Rouen - Paris - Marrakech',\n",
              " 'Paris - Boulogne-Billancourt',\n",
              " 'Casablanca/Paris/NYC',\n",
              " 'Casa-Paris ',\n",
              " 'Paris - Nagoya',\n",
              " 'Paris - London',\n",
              " 'Bastia / Paris',\n",
              " 'Paris - \u041f\u0430\u0440\u0438\u0301\u0436',\n",
              " 'Rabat/Morocco, Paris/France',\n",
              " 'PARIS 75018',\n",
              " 'PARIS, France',\n",
              " 'Paris - Montlu\u00e7on',\n",
              " 'PARIS, FRANCE',\n",
              " '97 Rue du Bac, 75007 Paris',\n",
              " 'Paris, Hong Kong',\n",
              " 'Cit\u00e9 des Sciences - Paris',\n",
              " 'Paris,France ',\n",
              " 'Paris, France. Tweets FR/EN/ES',\n",
              " 'Paris \u2729 La',\n",
              " 'Stockholm/Paris',\n",
              " 'Paris 75016, France',\n",
              " 'paris lille bruxelles varsovie',\n",
              " 'Paris/Rabat',\n",
              " 'Paris Bordeaux Amiens',\n",
              " 'paris14',\n",
              " 'Paris / Grenoble',\n",
              " 'Paris New York HK',\n",
              " 'paris xx',\n",
              " 'entre Paris et la Bretagne ',\n",
              " 'Boulogne / mer- Lille - Paris',\n",
              " 'PARIS et le coeur \u00e0 DJIBOUTI',\n",
              " 'paris 17',\n",
              " 'Dioc\u00e8se de Paris',\n",
              " 'Polska. Gwada. Paris. London',\n",
              " 'Paris 10e',\n",
              " 'Alger Paris',\n",
              " 'Paris - Lyon - Francfort',\n",
              " 'Rouen et paris',\n",
              " 'Paris / San Francisco',\n",
              " 'Paris- Singapore',\n",
              " 'paris v',\n",
              " 'Paris 2',\n",
              " 'Paris - Lyon - Marseille',\n",
              " 'Paris   Cargese ',\n",
              " 'Paris-Lisbonne',\n",
              " 'Paris-Tunis',\n",
              " 'Paris 11\u00e8me',\n",
              " 'paris, 19',\n",
              " 'Paris et Montreal',\n",
              " 'Nantes Paris Roscoff ',\n",
              " 'paris18eme',\n",
              " '#Paris9',\n",
              " 'France - Paris',\n",
              " 'Paris, Orl\u00e9ans',\n",
              " 'Paris, Ile-de-France_ Algerie',\n",
              " '#Paris5 France',\n",
              " 'paris-rive gauche',\n",
              " 'For now, in Paris',\n",
              " 'Paris/Lom\u00e9/Abidjan ',\n",
              " 'Alger-Paris',\n",
              " 'FR - Paris/Lille',\n",
              " 'Paris - Hamburg',\n",
              " 'Paris ; Lyon',\n",
              " 'Vannes - Rennes - Paris',\n",
              " 'Paris 20',\n",
              " 'Rue Lamarck, Paris 18',\n",
              " 'Rgion Parisienne',\n",
              " 'REGION PARISIENNE',\n",
              " 'Paris XV',\n",
              " 'Glasgow/Paris',\n",
              " 'Saint-Ouen, Paris, France',\n",
              " 'Paris - Toulouse - France',\n",
              " 'Paris, Nantes',\n",
              " 'Paris, Tours',\n",
              " 'Paris (20\u00e8me arrondissement)',\n",
              " 'Paris - Algeciras',\n",
              " 'Paris 15\u00e8me arrondissement',\n",
              " 'Paris - Issy ',\n",
              " 'Paris Bordj Bou Arreridj',\n",
              " 'paris 92',\n",
              " 'Paris 10\u00e8me',\n",
              " 'Paris + Shanghai + Italy',\n",
              " 'Paris  - Normandie',\n",
              " 'Paris 9',\n",
              " 'Paris, Telecom ParisTech',\n",
              " 'Paris - Worldwilde',\n",
              " 'Paris - Buenos Aires',\n",
              " 'paris/telaviv',\n",
              " 'Ferrandi Paris (75006)',\n",
              " 'Brussels - London - Paris',\n",
              " 'Paris 17\u00e8me',\n",
              " 'Paris - Strasbourg',\n",
              " 'paris 18\u00e8me',\n",
              " 'Bondy_Paris-France',\n",
              " 'paris 75013',\n",
              " 'Paris - Caen',\n",
              " 'Bruxelles -- Paris ',\n",
              " 'Marseille - Paris',\n",
              " 'Paris - Stockholm',\n",
              " 'paris75019',\n",
              " 'paris 11',\n",
              " 'Stbg / Paris',\n",
              " 'Paris - Montmatre ',\n",
              " 'Paris-Sabadell',\n",
              " 'Coeur \u00e0 Nantes - Corps \u00e0 Paris',\n",
              " '75015 Paris  ',\n",
              " 'Paris-Dakar',\n",
              " 'Cuxhaven (D), Paris (F)',\n",
              " 'Paris & Ajaccio',\n",
              " 'Paris XX',\n",
              " 'Paris - Beauvais',\n",
              " 'Paris, Chicago, Madrid, Moscow',\n",
              " 'Berges de Seine - Paris',\n",
              " 's\u00e3o paulo / paris',\n",
              " 'Brussels & Paris',\n",
              " 'Paris - C\u00f3rdoba',\n",
              " 'France -Paris',\n",
              " 'Paris / London',\n",
              " 'Paris/Europe',\n",
              " 'trieste-sardinia-paris',\n",
              " 'Paris, Texas',\n",
              " 'Paris - Val-de-Marne',\n",
              " 'Paris, 13\u00e8me arrondissement',\n",
              " 'Longjumeau bient\u00f4t Paris',\n",
              " \"45 rue de l'esperance paris\",\n",
              " 'S\u00e3o Paulo, Paris',\n",
              " '86, Bd de Charonne, Paris',\n",
              " 'Paris4 / Pantin',\n",
              " 'Paris 14\u00e8me',\n",
              " 'Paris, France - via SF',\n",
              " 'Paris (20e ardt)',\n",
              " 'PARIS10',\n",
              " '14 rue du Cygne, 75001 PARIS',\n",
              " 'Paris XII',\n",
              " 'Paris intra-muros',\n",
              " 'Entre Rennes & Paris',\n",
              " 'tiaparis',\n",
              " 'Paris-Goudelin-Abidjan-Ouaga',\n",
              " 'Paris, Ile-de-France XX',\n",
              " 'PARIS..with LOVE',\n",
              " 'Paris (enfin pas tr\u00e8s loin)',\n",
              " 'Mentally in Paris & Copacabana',\n",
              " 'Rabat | Paris | 18 ',\n",
              " 'NYC, London, Paris, Lom\u00e9',\n",
              " '7 rue Lincoln - 75008 Paris',\n",
              " 'Kyprianos-Athens-Paris',\n",
              " '| PaRiS| FrAnCe ',\n",
              " 'Paris , Nantes',\n",
              " 'Paris, Grand Ouest',\n",
              " 'Paris-Lagnieu',\n",
              " 'Paris/IDF_Issy les moulineaux',\n",
              " 'Shanghai, Tokyo, Paris',\n",
              " 'france , paris ',\n",
              " 'Paris/Brussels',\n",
              " 'France  -  Paris',\n",
              " 'Brasil - SP-Paris',\n",
              " 'Paris, France. ',\n",
              " 'Paris, France. 13\u00e8me.',\n",
              " 'Paris/Dhaka',\n",
              " 'Paris ou Bamako, Mali',\n",
              " 'Metz, Nancy, Paris',\n",
              " 'Paris, FR.',\n",
              " 'Paris, \u00e0 deux pas du 77',\n",
              " 'marseille et paris ',\n",
              " 'PAris ',\n",
              " 'Paris ile de france',\n",
              " 'Deauville/Paris ',\n",
              " 'Paris VIII -Miami',\n",
              " 'Ile de France, Paris',\n",
              " 'Paris/Caen',\n",
              " 'Paris Washington',\n",
              " 'Bordeaux. Paris. Cassis',\n",
              " 'Paris, Malm\u00f6 (Su\u00e9de) (Sweden) ',\n",
              " 'Paris - Rennes - Saint-Brieuc',\n",
              " 'Paris, Europe',\n",
              " 'Paris / Lille / Bonus SF ',\n",
              " 'Paris-Montreuil-Bordeaux',\n",
              " 'Paris, Mexico',\n",
              " 'now in Paris',\n",
              " 'Montreal | Paris',\n",
              " 'Angers - Paris ',\n",
              " \"14 avenue d'Eylau 75116 Paris\",\n",
              " 'Paris, Londres',\n",
              " 'France, Bordeaux-Paris',\n",
              " 'Paris - Madrid',\n",
              " 'Paris - Grenoble',\n",
              " 'R\u00e9gion parisienne, France',\n",
              " 'paris / france',\n",
              " 'Brussels, Paris, Philadelphia',\n",
              " 'Paris,Sud \u2665 =~}',\n",
              " 'Paris, la Capitale',\n",
              " 'Paris City',\n",
              " 'Paris / Palma de Mallorca ',\n",
              " 'Paris, Toulouse',\n",
              " 'Paris of the Plains',\n",
              " 'Paris Essonne',\n",
              " 'Paris,FRANCE',\n",
              " 'Paris (75002)',\n",
              " 'Paris 15',\n",
              " 'France/Paris',\n",
              " 'Paris - Fort de France',\n",
              " 'Paris, 3\u00e9me',\n",
              " 'Paris/London/Nottingham',\n",
              " 'HEC Paris',\n",
              " 'Fontenay en parisis',\n",
              " 'Paris. Enfin, \u00e0 c\u00f4t\u00e9 quoi.',\n",
              " 'R\u00e9gion Parisienne',\n",
              " 'Paris & Denver',\n",
              " 'Bastia - Paris',\n",
              " 'Paris 75014',\n",
              " 'Madrid , Paris ',\n",
              " 'Paris(L)',\n",
              " 'Guadeloupe-Geneva CH- Paris FR',\n",
              " 'Paris / IDF',\n",
              " 'Paris,Milan ',\n",
              " 'New York & Paris',\n",
              " 'PARIS 16EME',\n",
              " 'ADIAKE -ABIDJAN - PARIS',\n",
              " 'Nice, Paris, Amsterdam',\n",
              " 'Paris 20\u00e8me',\n",
              " 'Nice | Lyon | Paris ',\n",
              " 'paris/lyon',\n",
              " 'Calgary / Paris ',\n",
              " '2 rue de Viarmes, Paris',\n",
              " 'Paris et un peu ailleurs',\n",
              " 'PARIS / TANGER',\n",
              " 'Paris Tehran The World',\n",
              " 'Maastricht, Paris and South FR',\n",
              " 'Paris, Montreal, Palo Alto',\n",
              " 'Paris / Montpellier',\n",
              " 'Paris 18e',\n",
              " 'Bordeaux et Paris',\n",
              " \"11, Rue de L'etoile, Paris\",\n",
              " 'Bordeaux-Paris-Provence...',\n",
              " 'Paris - Saint Tropez',\n",
              " 'Deauville - Paris ',\n",
              " 'Paris-Reutlingen-Munich',\n",
              " 'Paris-BZH',\n",
              " 'Je ne suis pas parisienne. ',\n",
              " 'Between Paris & London',\n",
              " 'Paris / Madrid',\n",
              " 'Paris 17',\n",
              " 'Paris - Rueil Malmaison',\n",
              " 'PARIS, FRANCE.',\n",
              " 'Paris Lima',\n",
              " 'Paris, Lyon ou Lisboa',\n",
              " 'Paris/Hanoi',\n",
              " '2 Avenue Gabriel, 75008 Paris',\n",
              " 'S\u00e3o Paulo / Paris',\n",
              " 'Paris, London, Wonderland.',\n",
              " 'Macinaggio / Paris',\n",
              " \"ICI C'EST PARIS !! Psg3\",\n",
              " 'Paris 17eme',\n",
              " 'Paris, France (obviously)',\n",
              " 'Paris/LA/ Jamaica ',\n",
              " 'France, Paris, Marne la Vall\u00e9e',\n",
              " 'Gen\u00e8ve, Paris',\n",
              " 'Paris - \u00cele de France',\n",
              " 'paris 75003',\n",
              " '24 R. P\u00e9pini\u00e8re 75008 PARIS',\n",
              " 'franch,paris',\n",
              " 'Paris - France ',\n",
              " '- Paris - ',\n",
              " 'Paris /// New York',\n",
              " 'paris london',\n",
              " 'Paris \u2502 New York',\n",
              " 'Paris - Brest',\n",
              " 'Paris, Nice, Brest',\n",
              " 'PARIS-LONDON-ROMA',\n",
              " 'Brest - Paris',\n",
              " 'La Baule, Nantes, Paris',\n",
              " 'Paris aera',\n",
              " 'Paris - Evry ',\n",
              " 'Massy, R\u00e9gion parisienne',\n",
              " 'Paris et souvent ailleurs. ',\n",
              " 'Paris area, France',\n",
              " 'Paris Area',\n",
              " 'Paris , France ',\n",
              " 'oui je suis a paris',\n",
              " 'Montr\u00e9al  Paris',\n",
              " 'Nouvelle Ath\u00e8nes, Paris',\n",
              " 'PARIS  BARCELONE  MARRAKECH',\n",
              " '3 rue pache 75011 paris ',\n",
              " 'Marseille, Montpellier, Paris ',\n",
              " 'Paris & New-York',\n",
              " 'Paris, Roubaix, Bordeaux',\n",
              " '55, rue des Archives  Paris 3',\n",
              " 'Juan les Pins/Paris',\n",
              " 'Paris - France-Allemagne',\n",
              " 'De Paris \u00e0 la M\u00e9diterran\u00e9e !',\n",
              " 'Paris-Le Mans-Tr\u00e9flez',\n",
              " 'Paris - behind a cloud',\n",
              " 'Paris/Lyon/Marseille/Lille',\n",
              " 'Paris - TLV',\n",
              " '75015 Paris',\n",
              " 'Casablanca - Paris - #Afrique',\n",
              " 'Berlin & Paris',\n",
              " 'paris 14eme',\n",
              " 'Paris - Ile-de-France',\n",
              " 'Douala-Yaound\u00e9 - Paris - Dubai',\n",
              " 'Paris - Chantilly',\n",
              " 'Edinburgh-Taipei-Phoenix-Paris',\n",
              " 'Paris Casa',\n",
              " 'Lyon et Paris',\n",
              " 'Paris-France..jijel 18',\n",
              " 'PARIS 75',\n",
              " 'paris VI',\n",
              " 'Paris FRANCE',\n",
              " 'Paris - Londres',\n",
              " 'Paris, Casablanca',\n",
              " 'Bangalore / Paris',\n",
              " 'Paris, rive gauche',\n",
              " 'paris, France ',\n",
              " 'Paris/Bordeaux ',\n",
              " 'Paris, France / \u041d\u0438\u0448, \u0421\u0440\u0431\u0438\u0458\u0430',\n",
              " 'San Francisco et Paris',\n",
              " 'London, Paris',\n",
              " 'PARIS 8',\n",
              " 'Arras - Paris',\n",
              " 'Bologna \u2022 Paris \u2022 Milano',\n",
              " 'Bruxelles | Paris | Berlin',\n",
              " 'pAris, France',\n",
              " 'Paris Tel Aviv',\n",
              " 'Parisian - Caribbean ',\n",
              " 'PAris',\n",
              " 'Paris / SF',\n",
              " 'Le Mans. Paris',\n",
              " 'nvlle parisienne/hbte du monde',\n",
              " 'Close to Paris',\n",
              " '#OserParis #Paris7 #Paris2014',\n",
              " 'Montpellier, Paris',\n",
              " 'France Paris // Corsica Bonif',\n",
              " 'Paris 18',\n",
              " '#Paris ',\n",
              " 'Paris, avenue Velasquez',\n",
              " 'PARIS - LYON - LE MONDE',\n",
              " 'Oslo/Paris',\n",
              " 'Paris & Shanghai',\n",
              " 'Paris 19',\n",
              " 'Saint-R\u00e9my de Provence, Paris',\n",
              " '75020 PARIS FRANCE',\n",
              " 'Paris_France',\n",
              " 'Ni\u00e7oise \u00e0 Paris',\n",
              " 'Paris, Montpellier & Partout.',\n",
              " 'Palais des congr\u00e8s, Paris',\n",
              " 'Paris - Biarritz - Twitter ',\n",
              " 'PARIS 01',\n",
              " 'pres de paris',\n",
              " 'Lives in Paris & Bannockburn.',\n",
              " '58 rue Tiquetonne - PARIS',\n",
              " 'paris17',\n",
              " 'Dijon-Paris',\n",
              " 'Paris-Strasbourg',\n",
              " 'De Bruxelles \u00e0 Paris',\n",
              " 'France r\u00e9gion parisienne',\n",
              " 'Paris 75 020',\n",
              " 'Paris/London',\n",
              " 'Quimper / Paris',\n",
              " 'Paris 75011',\n",
              " 'Paris/Rodez',\n",
              " 'Paris / Strasbourg ',\n",
              " 'PARIS / m2c2 biotechnologie',\n",
              " 'Corps \u00e0 Paris, c\u0153ur \u00e0 Lyon',\n",
              " 'Paris (ou pas)',\n",
              " '@Alger @Paris ',\n",
              " 'Hong-Kong/Paris',\n",
              " 'Paris-Paimpol',\n",
              " 'Paris / Evreux / Le Havre',\n",
              " '20, rue du Temple, Paris IV',\n",
              " 'Paris, for a start',\n",
              " 'france paris ',\n",
              " 'Paris/Montpellier',\n",
              " 'Paris - ToLose',\n",
              " '#GoutteDOr, Paris',\n",
              " 'Paris 7',\n",
              " 'Paris - Moselle',\n",
              " 'Paris/ Nantes/Rennes/Bs Aires',\n",
              " 'Marseille / Paris',\n",
              " 'France, Bordeaux, Paris',\n",
              " 'Martigues (13) et Paris (75)',\n",
              " 'Paris. France',\n",
              " '\u041c\u043e\u0441\u043a\u0432\u0430-Paris',\n",
              " 'Corse, Paris',\n",
              " 'Paris 6\u00e8me/5\u00e8me ',\n",
              " 'Paris - Strasbourg - Mende',\n",
              " 'Paris 14\u00e8me et Nice',\n",
              " 'Paris Est',\n",
              " 'Paris, \u00cele-de-France',\n",
              " 'Paris - Bruxelles ',\n",
              " '32 RUE DE CONSTANTINOPLE PARIS',\n",
              " 'Paris, Sud de Seine (92)',\n",
              " 'Many. Heart in Paris!',\n",
              " 'Paris&L.A',\n",
              " 'Lyon & Paris',\n",
              " 'Paris ou avec @tamerelapute',\n",
              " 'London + Paris/Rabat/Eurostar',\n",
              " 'Paris / Gen\u00e8ve',\n",
              " 'PARIS  FRANCE',\n",
              " 'Paris, London, Europe ',\n",
              " 'Paris, Grenoble, Valence',\n",
              " '#Paris #Madrid #Aix',\n",
              " 'Paris/Bruxelles',\n",
              " 'Paris 75003',\n",
              " 'Paris - Lyon',\n",
              " 'paris.compte officiel twiter ',\n",
              " 'NCY - PARIS - NYC',\n",
              " 'unkut/paris',\n",
              " 'Paris / Tunis',\n",
              " 'Nantes (Paris)',\n",
              " 'paris/LA',\n",
              " 'Martinique-st Martin-Paris',\n",
              " '\u221e Paris \u221e',\n",
              " 'Paris - Bordeaux - New York',\n",
              " 'Valence - Le Touquet - Paris  ',\n",
              " 'Paris - Versailles, France',\n",
              " 'Paris, st germain ',\n",
              " 'paris dijon',\n",
              " 'Berlin, Paris',\n",
              " 'Paris // Reims',\n",
              " 'Paris IV',\n",
              " 'Paris \u2022',\n",
              " 'Paris, Brussels, Miami',\n",
              " 'Paris, Sarajevo...',\n",
              " 'Paris- France',\n",
              " 'Paris / NYC',\n",
              " 'London - Paris - Morocco',\n",
              " 'Luxembourg - Paris',\n",
              " 'paris ,france',\n",
              " 'paris/france',\n",
              " 'Martinique \u2192Paris ',\n",
              " 'Paris/Geneva/Casablanca',\n",
              " 'Paris. ',\n",
              " 'Paris !!!',\n",
              " 'Paris 10',\n",
              " 'Valencia/Paris',\n",
              " 'Paris & Embrun(05)',\n",
              " ' Paris - Madrid - Avignon',\n",
              " 'paris-sorbonne paris IV',\n",
              " 'Paris, London and beyond !',\n",
              " 'Paris / Cannes  ',\n",
              " 'Paris 1er ; Paris 19e',\n",
              " 'Paris Ici & Ailleurs',\n",
              " 'paris 10',\n",
              " 'Paris - Alger - Dakar',\n",
              " 'paris 11eme',\n",
              " 'Paris 13e',\n",
              " 'Texas - Paris',\n",
              " 'France- Paris-Toulouse',\n",
              " 'Paris based | NYC | SF',\n",
              " 'paris(france)',\n",
              " 'Pariss',\n",
              " 'paris 10eme et 17eme ',\n",
              " 'Metz-Paris-World',\n",
              " 'Paris, fr',\n",
              " 'Berlin / Paris',\n",
              " 'Paris-Havana',\n",
              " 'London / Paris / Chicago / NY',\n",
              " 'Paris (14\u00e8me)',\n",
              " 'paris.london',\n",
              " 'Paris, Los Angeles',\n",
              " 'champigny-sur-marne ,paris',\n",
              " 'Paris, Auvergne, Perigord',\n",
              " 'paris 15 ',\n",
              " 'Paris XI',\n",
              " 'Paris X\u00e8me',\n",
              " 'Maison des secret,Paris',\n",
              " 'Paris 75003, France',\n",
              " 'Paris | Monaco | Bordeaux',\n",
              " 'Paris et Nantes',\n",
              " 'Boston / Paris',\n",
              " 'Le Mans / Paris',\n",
              " 'Tours-Paris-La Roche sur Yon',\n",
              " 'Caen, Rouen, Paris',\n",
              " 'Tokyo-Paris-Nice',\n",
              " 'Paris / Martinique',\n",
              " 'Lille, Sophia, Paris',\n",
              " 'Los Angeles - Paris',\n",
              " 'Photographer: Paris-Normandy',\n",
              " '24 Rue H\u00e9nard 75012 Paris ',\n",
              " 'Paris/orleans/chateauroux/',\n",
              " 'Paris - Sydney',\n",
              " 'France Paris ',\n",
              " '9 Rue Littr\u00e9, 75006 Paris',\n",
              " 'Nantes - Paris',\n",
              " 'Chicago/Madrid/Paris',\n",
              " 'Tel: 01 48 74 22 22 - Paris',\n",
              " 'Lille - Paris - Bruxelles',\n",
              " 'Paris - Haute-Savoie.',\n",
              " 'Paris based, global reach',\n",
              " '51, rue des Archives, Paris',\n",
              " 'Paris, Chantilly - FRANCE',\n",
              " '22, rue Huyghens Paris 14e',\n",
              " '104, bd Arago 75014 Paris',\n",
              " '17 rue Dupin 75006 Paris',\n",
              " '#Paris #Tours #Bordeaux #Mars',\n",
              " 'Paris 16',\n",
              " '#Nantes - #Paris',\n",
              " 'Paris Lyon',\n",
              " 'Paris XVe',\n",
              " 'Paris, Ile-de-France 75015',\n",
              " 'Paris & Belgium',\n",
              " 'Paris/Versailles',\n",
              " 'Paris, Bordeaux',\n",
              " 'PARIS FR',\n",
              " 'Nancy, Paris',\n",
              " 'Paris - Gen\u00e8ve - Hong Kong',\n",
              " 'Paris Butte aux Cailles',\n",
              " 'Paris/Lordran',\n",
              " 'paris (france)',\n",
              " 'Paris & Bonn ',\n",
              " 'Vichy, Paris, Bucarest',\n",
              " 'Rouen - Paris',\n",
              " 'Paris | Aurillac',\n",
              " 'Paris - Toulouse ',\n",
              " 'Clermont-Ferrand vs Paris',\n",
              " 'BORDEAUX/PARIS',\n",
              " 'Avenue Ledru-Rollin, Paris',\n",
              " 'Paris, XVII\u00e8',\n",
              " 'Paris - La Rochelle',\n",
              " '23 Rue des Bernardins PARIS 5\u00b0',\n",
              " 'Paris - Tunis - Alger',\n",
              " 'paris le bourget',\n",
              " ' Paris Barcelone  Cap Salou ',\n",
              " '#Paris #Alen\u00e7on ',\n",
              " 'Paris -France',\n",
              " 'London, Paris, Dubai.',\n",
              " 'Paris, Nantes, Gap - France',\n",
              " 'Paris // FRANCE',\n",
              " 'usually in Paris',\n",
              " 'Paris / Bordeaux ',\n",
              " 'PARIS 75005',\n",
              " ' Paris',\n",
              " 'Villeneuve, Paris',\n",
              " 'Paris / Antony',\n",
              " 'paris/92100  -  Moscow',\n",
              " 'Troyes / Paris, France',\n",
              " 'Paris (92)',\n",
              " 'Next to Paris - France',\n",
              " 'FRANCE / PARIS',\n",
              " '29 Quai Voltaire Paris 7e',\n",
              " 'France, Paris,Bretagne,Mayenne',\n",
              " 'Paris-Albertville',\n",
              " 'Paris - Espace Pierre Cardin',\n",
              " 'Paris XV3',\n",
              " 'Paris | Formentera | Ibiza',\n",
              " 'Paris, France; Taipei, Taiwan',\n",
              " \"Paris & bassin d'Arcachon \",\n",
              " 'Paris 02, \u00cele-de-France',\n",
              " 'France - Paris - Lille',\n",
              " 'Paris IIX\u00e8me',\n",
              " 'Paris - Montpellier - Belfort',\n",
              " 'World: Europe: France: Paris.',\n",
              " 'Paris \u2022 Shanghai',\n",
              " 'paris (gerardmer)',\n",
              " ' Paris - Cannes \u2600\ufe0f',\n",
              " 'Paris La D\u00e9fense',\n",
              " 'paris montmartre',\n",
              " 'Paris \u2014 L.A. (Les Abbesses)',\n",
              " 'Paris & Normandie',\n",
              " 'Paris, kinshasa ',\n",
              " 'Troyes / Paris ',\n",
              " 'PARIS 75 ',\n",
              " 'Usually, Paris, France.',\n",
              " 'Paris come From West Indies',\n",
              " 'PariS',\n",
              " 'Paris-Tehran',\n",
              " 'Paris & Clermont-Ferrand',\n",
              " 'Paris 11',\n",
              " 'Paris, Ile-de-France FR',\n",
              " 'poissy, paris, france',\n",
              " 'Paris / Orl\u00e9ans',\n",
              " 'tehran and Paris ',\n",
              " 'Paris-Brussels-Geneva',\n",
              " 'Nantes - Rennes - Paris - Lyon',\n",
              " '#BZH #Paris ',\n",
              " 'Sunnyvale, CA + Paris, France',\n",
              " 'Lannion / Avignon / Paris',\n",
              " 'Bordeaux / Paris / Los Angeles',\n",
              " 'mornt\u00e9rial-paris-casa-doubai',\n",
              " 'pARIS',\n",
              " 'Paris - \u00cele-de-France - France',\n",
              " 'Paris (FRANCE)',\n",
              " 'Rio / Paris ',\n",
              " 'paris 75009',\n",
              " 'paris.  france',\n",
              " 'Cali, Edinburgh, London, Paris',\n",
              " 'Paris VIII',\n",
              " 'Paris, Concarneau, Marseille',\n",
              " '103 bvd Saint Michel Paris',\n",
              " 'Paris, Lyon',\n",
              " 'Bordeaux - Paris - Marrakech',\n",
              " 'Lyon / Paris',\n",
              " 'NYC-Paris-Milano',\n",
              " 'London / Paris',\n",
              " 'Modena \u2708\ufe0f Paris',\n",
              " 'Paris - 75017',\n",
              " 'PARIS & CHARTRES',\n",
              " 'Paris | Qu\u00e9bec',\n",
              " 'Amiens - Paris - Tours',\n",
              " 'Nantes, N\u00eemes, Paris, ...',\n",
              " 'Paris, Beijing, London',\n",
              " 'Paris / FRANCE',\n",
              " 'Paris, Ile de France',\n",
              " 'Paris - Montpellier - Houston',\n",
              " '50 rue Richer \u2022 Paris 09',\n",
              " \"ici c'est Paris\",\n",
              " 'London/Paris',\n",
              " 'Paris, New York, Dubai',\n",
              " 'Paris - Rio - SP',\n",
              " 'New York, London & Paris',\n",
              " 'PARIS - NEW YORK - HONG KONG',\n",
              " 'Paris - Inde - Etats-Unis',\n",
              " 'Paris/NYC/frenchriviera',\n",
              " 'Paris - Site Encres de Chine:',\n",
              " '2 Rue Vivienne 75002 Paris',\n",
              " 'Besan\u00e7on - Paris',\n",
              " 'Paris Marne-la-Vall\u00e9e',\n",
              " 'Martinique-Paris-Lyon-Madrid',\n",
              " 'Toulouse, Andernos, Paris',\n",
              " 'bruxelles (belgique) , Paris ',\n",
              " 'Paris Sorbonne',\n",
              " 'Paris/Levallois',\n",
              " 'Paris, UK',\n",
              " 'Paris - Mallorca',\n",
              " 'Paris | R\u00e9union',\n",
              " 'Paris - Los Angeles ',\n",
              " '26 rue de Berri 75008 Paris',\n",
              " 'Boston Milano Paris London',\n",
              " 'Paris - Shanghai',\n",
              " 'Paris - Lorraine',\n",
              " 'caen paris',\n",
              " 'Bastia, Marseille, Paris...',\n",
              " '  Paris',\n",
              " 'Marseille / Paris ',\n",
              " 'Paris , France',\n",
              " 'Paris// Issy les moulineaux',\n",
              " 'Paris / Liverpool / Propriano',\n",
              " 'Paris/Lyon/Cannes/Hawaii',\n",
              " 'Paris - Lisbonne ',\n",
              " 'Strasbourg / Paris',\n",
              " 'Paris, Lausanne',\n",
              " 'Lyon - Lille - Annecy - Paris',\n",
              " '#Paris11',\n",
              " 'Toulon/Paris ',\n",
              " 'Paris et Seine-Saint-Denis ',\n",
              " 'Paris 13',\n",
              " 'Paris/New York',\n",
              " 'PARIS - TUNIS ',\n",
              " 'Paris&Provence',\n",
              " 'Paris/Antibes/Cannes',\n",
              " 'Paris/Versailles/Le Chesnay',\n",
              " 'Paris, Porte de Versailles',\n",
              " 'Paris, 18\u00e8me',\n",
              " 'Paris XV\u00e8me',\n",
              " '#Nantes #Paris #Reims',\n",
              " 'paris8',\n",
              " 'Paris-Marseille-Gl\u00e9nan, France',\n",
              " '#Paris  #NewYork',\n",
              " 'Paris / Los Angeles',\n",
              " 'Paris\\n',\n",
              " 'Nantes - Paris - Dinard',\n",
              " 'Paris 75',\n",
              " 'LILLE/PARIS',\n",
              " 'paris francia',\n",
              " 'Paris - K\u00f6ln',\n",
              " 'France, Paris.',\n",
              " 'Pau/Paris',\n",
              " 'Saint-Quentin / Paris',\n",
              " 'Villeneuve, Paris, monde',\n",
              " 'Paris et Grand Quevilly',\n",
              " 'Paris Le Mans Sabl\u00e9',\n",
              " 'Paris \u2013 Montreuil',\n",
              " 'Paris/Amsterdam',\n",
              " 'Lyon et Paris, France']"
            ]
          },
          "execution_count": 20,
          "metadata": {},
          "output_type": "execute_result"
        }
      ],
      "source": [
        "## R\u00e9ponse 7.2\n",
        "import cytoolz as ct \n",
        "\n",
        "cursor_sqlite.execute( \"SELECT content FROM tw_users\")\n",
        "list(ct.unique( ct.filter( contains_paris, pluck_loc( get_json_seq(cursor_sqlite)))))\n",
        "## la liste doit contenir 977 \u00e9l\u00e9ments"
      ]
    },
    {
      "cell_type": "markdown",
      "metadata": {},
      "source": [
        "#### Question 8 : somme des tweets de tous les utilisateurs dont la location contient Paris"
      ]
    },
    {
      "cell_type": "markdown",
      "metadata": {},
      "source": [
        "Calculez le nombre de tweets total par les utilisateurs dont la \"location\" contient Paris.  \n",
        "Dans le json de twitter, la cl\u00e9 pour cela est \"statuses_count\"\n",
        "\n",
        "Pour cela plusieurs possibilit\u00e9s :  \n",
        "\n",
        "  - la plus simple est de red\u00e9finir une fonction contains_paris, qui prenne en entr\u00e9e un user json \n",
        "  - groupby(\"location\", seq) vous renvoit les r\u00e9ponses group\u00e9es par location. Cette m\u00e9thode poss\u00e8de l'inconv\u00e9nient de charger toutes les donn\u00e9es en m\u00e9moire\n",
        "  - reduceby(\"location\", lambda x,y: x + y[\"statuses_count\"], seq, 0) vous renvoit la somme par location, il ne reste plus qu'\u00e0 filtrer et additionner\n",
        "  - pluck([\"location\", \"statuses_count\"], seq) vous permet de garder les deux informations. Il faudra changer la fonction contains paris pour celle suivante (contains_paris_tuple)\n",
        "  \n",
        "R\u00e9ponse attendue : 9811612"
      ]
    },
    {
      "cell_type": "code",
      "execution_count": 20,
      "metadata": {},
      "outputs": [
        {
          "name": "stdout",
          "output_type": "stream",
          "text": [
            "9811612\n",
            "9811612\n",
            "9811612\n"
          ]
        }
      ],
      "source": [
        "## R\u00e9ponse 8\n",
        "import cytoolz as ct \n",
        "\n",
        "# solution 1 \n",
        "def contains_paris_json(loc):\n",
        "    return \"paris\" in loc[\"location\"].lower()\n",
        "\n",
        "cursor_sqlite.execute( \"SELECT content FROM tw_users\")\n",
        "# Ici j'utilise pipe, car les fonctions sont appel\u00e9es dans l'ordre indiqu\u00e9, cela est plus pratique\n",
        "# que compose\n",
        "print( ct.pipe( cursor_sqlite,\n",
        "                get_json_seq,\n",
        "                ctc.filter(contains_paris_json),\n",
        "                ctc.pluck(\"statuses_count\"),\n",
        "                sum ) )\n",
        "\n",
        "\n",
        "# Solution 2 - d\u00e9conseill\u00e9e\n",
        "cursor_sqlite.execute( \"SELECT content FROM tw_users\")\n",
        "# Ici j'utilise pipe, car les fonctions sont appel\u00e9es dans l'ordre indiqu\u00e9, cela est plus pratique\n",
        "# que compose\n",
        "print(\n",
        "  ct.pipe(cursor_sqlite,\n",
        "          ## on r\u00e9cup\u00e8re les objets json\n",
        "          get_json_seq,\n",
        "          ## on regroupe par localisation\n",
        "          ctc.groupby(\"location\"), \n",
        "          ## on ne garde que les entr\u00e9es dont la cl\u00e9 contient paris\n",
        "          ctc.keyfilter(contains_paris), \n",
        "          # Pour les valeurs, ont fait la somme des statuses_count\n",
        "          ctc.valmap( ctc.compose( sum, ctc.pluck(\"statuses_count\") )),     \n",
        "          lambda x:x.values(),\n",
        "          sum ))\n",
        "\n",
        "# Solution 4 - valable \u00e9galement\n",
        "cursor_sqlite.execute( \"SELECT content FROM tw_users\")\n",
        "print(\n",
        "  ct.pipe(cursor_sqlite,\n",
        "          ## on r\u00e9cup\u00e8re les objets json\n",
        "          get_json_seq,\n",
        "          ## on garde la location et les nombres de status\n",
        "          ctc.pluck([\"location\",\"statuses_count\"]),\n",
        "          ## on applique le filtre, avec contains_paris sur le premier \u00e9l\u00e9ment \n",
        "          ctc.filter( ctc.compose( contains_paris, ctc.get(0)) ),\n",
        "          ## une fois le filtre appliqu\u00e9, on ne garde que les statuses_count\n",
        "          ctc.pluck(1),\n",
        "          # on fait la somme\n",
        "          sum))"
      ]
    },
    {
      "cell_type": "markdown",
      "metadata": {},
      "source": [
        "#### Question 9 : comparaison des followers d'homme politique\n",
        "\n",
        "On va maintenant s'int\u00e9resser \u00e0 la proximit\u00e9 / corr\u00e9lation entre les hommes politiques, que l'on mesurera \u00e0 partir de la formule :\n",
        "\n",
        "$\\frac{1}{2}*( \\frac{nbFollowersCommun}{nbFollowersHommePolitique_1} + \\frac{nbFollowersCommun}{nbFollowersHommePolitique_2}$)\n",
        "\n",
        "On prend donc la moyenne des ratios des followers de chaque homme politique suivant l'autre (cette formule semble s'accommoder assez bien des diff\u00e9rences du nombre de followers entre homme politiques)\n",
        "\n",
        "On s'int\u00e9ressera notamment aux hommes politiques suivants :\n",
        "\n",
        "```\n",
        "benoithamon | 14389177\n",
        "montebourg  | 69255422\n",
        "alainjuppe  | 258345629\n",
        "```\n",
        "\n",
        "De fait vous pouvez prendre n'importe quel homme ou femme politique, les r\u00e9sultats de cette m\u00e9thode sont assez probants malgr\u00e9 sa rusticit\u00e9. "
      ]
    },
    {
      "cell_type": "markdown",
      "metadata": {},
      "source": [
        "**Important : pensez \u00e0 appliquer la cellule ci-dessous**"
      ]
    },
    {
      "cell_type": "code",
      "execution_count": 21,
      "metadata": {},
      "outputs": [
        {
          "name": "stdout",
          "output_type": "stream",
          "text": [
            "Index created\n"
          ]
        }
      ],
      "source": [
        "try:\n",
        "    cursor_sqlite.execute(\"CREATE UNIQUE INDEX tw_users_id_index ON tw_users(id)\")\n",
        "    print(\"Index created\")\n",
        "except sqlite3.OperationalError as e:\n",
        "    if( \"index tw_users_id_index already exists\" in str(e)):\n",
        "        print(\"Ok, index already exists\")\n",
        "    else:\n",
        "        raise e"
      ]
    },
    {
      "cell_type": "markdown",
      "metadata": {},
      "source": [
        "La fa\u00e7on la plus simple est de charger les listes d'id de followers en m\u00e9moire, dans des objets de type set, et de les comparer avec les op\u00e9rateurs & (intersection) - (diff\u00e9rences).  \n",
        "\n",
        "On peut aussi chercher une m\u00e9thode approch\u00e9e, en comparant de fa\u00e7on al\u00e9atoire les listes contenues dans tw_follower_id. "
      ]
    },
    {
      "cell_type": "code",
      "execution_count": 22,
      "metadata": {},
      "outputs": [
        {
          "name": "stdout",
          "output_type": "stream",
          "text": [
            "1.00;0.46;0.23\n",
            "0.46;1.00;0.27\n",
            "0.23;0.27;1.00\n"
          ]
        }
      ],
      "source": [
        "part_taken = 2\n",
        "\n",
        "get_all_followers_set = ctc.compose(\n",
        "    ctc.reduce(set.union), \n",
        "    ctc.map(set),\n",
        "    get_json_seq,\n",
        "    ctc.take_nth(part_taken),\n",
        "    ct.curry(cursor_sqlite.execute,\"SELECT content FROM tw_followers_id WHERE user_id = ?\"),\n",
        "    lambda x:(x,)\n",
        ")\n",
        "\n",
        "def proximite(a,b):\n",
        "    c = a & b\n",
        "    return min(1, 0.5*len(c)*(1/len(a)+1/len(b))*part_taken)\n",
        "\n",
        "users_id_list = [ 14389177, 69255422, 258345629 ]\n",
        "\n",
        "users_id_f_set = list( ct.map( get_all_followers_set, users_id_list ) )\n",
        "\n",
        "for it_l in users_id_f_set:\n",
        "    print( \";\".join(\"{0:.2f}\".format(proximite(it,it_l)) for it in users_id_f_set) )"
      ]
    },
    {
      "cell_type": "markdown",
      "metadata": {},
      "source": [
        "## Partie 2 : avec dask"
      ]
    },
    {
      "cell_type": "markdown",
      "metadata": {},
      "source": [
        "Essayez d'ex\u00e9cuter le code suivant"
      ]
    },
    {
      "cell_type": "code",
      "execution_count": 23,
      "metadata": {
        "collapsed": true
      },
      "outputs": [],
      "source": [
        "import dask"
      ]
    },
    {
      "cell_type": "markdown",
      "metadata": {},
      "source": [
        "On affiche la liste des tables de la base sqlite:"
      ]
    },
    {
      "cell_type": "code",
      "execution_count": 24,
      "metadata": {
        "collapsed": true
      },
      "outputs": [],
      "source": [
        "from pyensae.sql import Database\n",
        "dby = Database(\"twitter_for_network_100000.db\")\n",
        "dby.connect()"
      ]
    },
    {
      "cell_type": "code",
      "execution_count": 25,
      "metadata": {},
      "outputs": [
        {
          "data": {
            "text/plain": [
              "['tw_followers_id',\n",
              " 'tw_search_count',\n",
              " 'tw_status',\n",
              " 'tw_users',\n",
              " 'tw_users_history',\n",
              " 'tw_users_htmldata']"
            ]
          },
          "execution_count": 26,
          "metadata": {},
          "output_type": "execute_result"
        }
      ],
      "source": [
        "dby.get_table_list()"
      ]
    },
    {
      "cell_type": "code",
      "execution_count": 26,
      "metadata": {
        "collapsed": true
      },
      "outputs": [],
      "source": [
        "dby.close()"
      ]
    },
    {
      "cell_type": "markdown",
      "metadata": {},
      "source": [
        "[dask](http://dask.pydata.org/en/latest/) peut vous permettre de parall\u00e9liser de fa\u00e7on efficace votre code entre plusieurs processeurs. Utilisez le code suivant pour splitter la base 'twitter_for_network_full.db' en plusieurs fichiers plats (NB: pensez \u00e0 nettoyer votre disque dur apr\u00e8s ce tp)."
      ]
    },
    {
      "cell_type": "code",
      "execution_count": 27,
      "metadata": {
        "collapsed": true
      },
      "outputs": [],
      "source": [
        "import cytoolz as ct # import groupby, valmap, compose\n",
        "import cytoolz.curried as ctc ## pipe, map, filter, get\n",
        "import sqlite3\n",
        "import pprint\n",
        "try:\n",
        "    import ujson as json\n",
        "except:\n",
        "    import json\n",
        "\n",
        "conn_sqlite_f = sqlite3.connect(\"twitter_for_network_100000.db\")\n",
        "cursor_sqlite_f = conn_sqlite_f.cursor()"
      ]
    },
    {
      "cell_type": "code",
      "execution_count": 28,
      "metadata": {
        "collapsed": true
      },
      "outputs": [],
      "source": [
        "cursor_sqlite_f.execute(\"SELECT content FROM tw_users\")\n",
        "\n",
        "for it in range(100):\n",
        "    with open( \"tw_users_split_{0:02d}.json\".format(it), 'w') as f:\n",
        "        for it_index, it_json in enumerate( cursor_sqlite_f ):\n",
        "            f.write( it_json[0] )\n",
        "            f.write(\"\\n\")\n",
        "            if it_index == 100000:\n",
        "                break\n",
        "        else:\n",
        "            break"
      ]
    },
    {
      "cell_type": "markdown",
      "metadata": {},
      "source": [
        "Calculez maintenant, en utilisant [dask.bag](http://dask.pydata.org/en/latest/bag.html) :\n",
        "\n",
        "- le nombre total de status\n",
        "- le nombre de status moyen par location\n",
        "- la distribution du nombre de followers par puissance de 10 sur l'ensemble des users"
      ]
    },
    {
      "cell_type": "code",
      "execution_count": 29,
      "metadata": {},
      "outputs": [],
      "source": [
        "## Code commun n\u00e9cessaire\n",
        "\n",
        "import dask.bag as dbag\n",
        "try:\n",
        "    import ujson as json\n",
        "except:\n",
        "    print(\"ujson unavailable\")\n",
        "    import json\n",
        "from operator import add\n",
        "\n",
        "a = dbag.read_text('tw_users_split*.json')"
      ]
    },
    {
      "cell_type": "code",
      "execution_count": 30,
      "metadata": {},
      "outputs": [
        {
          "data": {
            "text/plain": [
              "80536977"
            ]
          },
          "execution_count": 31,
          "metadata": {},
          "output_type": "execute_result"
        }
      ],
      "source": [
        "# Le nombre total de status\n",
        "\n",
        "a.map(json.loads).pluck(\"statuses_count\").fold(add).compute()"
      ]
    },
    {
      "cell_type": "code",
      "execution_count": 31,
      "metadata": {
        "scrolled": false
      },
      "outputs": [
        {
          "data": {
            "text/plain": [
              "[('www.ville-troyes.fr', 292.0),\n",
              " ('', 299.8513534747518),\n",
              " ('Pau/Paris', 2147.0),\n",
              " ('France', 2739.652611705475),\n",
              " ('Villeneuve, Paris, monde', 13678.0),\n",
              " ('Nice, France', 7690.0),\n",
              " ('Trappes - Yvelines', 3602.0),\n",
              " ('Paris', 5858.625),\n",
              " ('France - Bordeaux', 2134.0),\n",
              " ('Crest', 2240.0)]"
            ]
          },
          "execution_count": 32,
          "metadata": {},
          "output_type": "execute_result"
        }
      ],
      "source": [
        "# Le nombre moyen de tweet par location.\n",
        "import cytoolz\n",
        "\n",
        "# Solution\n",
        "def mean(l):\n",
        "    # la parall\u00e9lisation n'est pas effectu\u00e9e de la m\u00eame mani\u00e8re\n",
        "    # sur linux et Windows\n",
        "    # dans un process diff\u00e9rent, les import\n",
        "    # faits au d\u00e9but du programme ne font pas partie\n",
        "    # du code parall\u00e9lis\u00e9, c'est pourquoi il faut les ajouter\n",
        "    # dans le code de la fonction\n",
        "    import cytoolz.curried as ctc\n",
        "    return sum( ctc.pluck(1, l) ) / len(l)\n",
        "\n",
        "def function_mapped(*args):\n",
        "    # Example of args:\n",
        "    # (('Lille', [['Lille', 483]]),)\n",
        "    if len(args) == 2:\n",
        "        x, y = args\n",
        "    else:\n",
        "        x, y = args[0]\n",
        "    me = mean(y)\n",
        "    return x, me\n",
        "\n",
        "result = a.map(json.loads).pluck([\"location\",\"statuses_count\"]) \\\n",
        "          .groupby(0).map(function_mapped).compute()\n",
        "result[:10]"
      ]
    },
    {
      "cell_type": "code",
      "execution_count": 32,
      "metadata": {},
      "outputs": [
        {
          "data": {
            "text/plain": [
              "[(3, 1922),\n",
              " (1, 28931),\n",
              " (4, 290),\n",
              " (5, 65),\n",
              " (2, 13377),\n",
              " (0, 55480),\n",
              " (6, 5),\n",
              " (7, 1)]"
            ]
          },
          "execution_count": 33,
          "metadata": {},
          "output_type": "execute_result"
        }
      ],
      "source": [
        "# La distribution du nombre de followers par puissance de 10\n",
        "import math\n",
        "a.map(json.loads) \\\n",
        " .pluck(\"followers_count\") \\\n",
        " .map(lambda x,math=math: int(math.log10(x+1)) ) \\\n",
        " .frequencies() \\\n",
        " .compute()"
      ]
    },
    {
      "cell_type": "markdown",
      "metadata": {},
      "source": [
        "Dans ce second cas, on a gard\u00e9 la parall\u00e9lisation mais il a fallu ajouter le module [math](https://docs.python.org/3/library/math.html) au contexte de la fonction parall\u00e9lis\u00e9e."
      ]
    },
    {
      "cell_type": "code",
      "execution_count": 33,
      "metadata": {
        "collapsed": true
      },
      "outputs": [],
      "source": []
    }
  ],
  "metadata": {
    "kernelspec": {
      "display_name": "Python 3",
      "language": "python",
      "name": "python3"
    }
  },
  "nbformat": 4,
  "nbformat_minor": 1
}