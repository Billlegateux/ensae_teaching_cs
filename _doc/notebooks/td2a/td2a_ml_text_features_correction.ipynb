{
  "cells": [
    {
      "cell_type": "markdown",
      "metadata": {},
      "source": [
        "# 2A.ml - Classification binaire avec features textuelles - correction\n",
        "\n",
        "Ce notebook propose de voir comment incorporer des features pour voir l'am\u00e9lioration des performances sur une classification binaire. "
      ]
    },
    {
      "cell_type": "code",
      "execution_count": 1,
      "metadata": {},
      "outputs": [
        {
          "data": {
            "text/html": [
              "<div id=\"my_id_menu_nb\">run previous cell, wait for 2 seconds</div>\n",
              "<script>\n",
              "function repeat_indent_string(n){\n",
              "    var a = \"\" ;\n",
              "    for ( ; n > 0 ; --n)\n",
              "        a += \"    \";\n",
              "    return a;\n",
              "}\n",
              "var update_menu_string = function(begin, lfirst, llast, sformat, send, keep_item, begin_format, end_format) {\n",
              "    var anchors = document.getElementsByClassName(\"section\");\n",
              "    if (anchors.length == 0) {\n",
              "        anchors = document.getElementsByClassName(\"text_cell_render rendered_html\");\n",
              "    }\n",
              "    var i,t;\n",
              "    var text_menu = begin;\n",
              "    var text_memo = \"<pre>\\nlength:\" + anchors.length + \"\\n\";\n",
              "    var ind = \"\";\n",
              "    var memo_level = 1;\n",
              "    var href;\n",
              "    var tags = [];\n",
              "    var main_item = 0;\n",
              "    var format_open = 0;\n",
              "    for (i = 0; i <= llast; i++)\n",
              "        tags.push(\"h\" + i);\n",
              "\n",
              "    for (i = 0; i < anchors.length; i++) {\n",
              "        text_memo += \"**\" + anchors[i].id + \"--\\n\";\n",
              "\n",
              "        var child = null;\n",
              "        for(t = 0; t < tags.length; t++) {\n",
              "            var r = anchors[i].getElementsByTagName(tags[t]);\n",
              "            if (r.length > 0) {\n",
              "child = r[0];\n",
              "break;\n",
              "            }\n",
              "        }\n",
              "        if (child == null) {\n",
              "            text_memo += \"null\\n\";\n",
              "            continue;\n",
              "        }\n",
              "        if (anchors[i].hasAttribute(\"id\")) {\n",
              "            // when converted in RST\n",
              "            href = anchors[i].id;\n",
              "            text_memo += \"#1-\" + href;\n",
              "            // passer \u00e0 child suivant (le chercher)\n",
              "        }\n",
              "        else if (child.hasAttribute(\"id\")) {\n",
              "            // in a notebook\n",
              "            href = child.id;\n",
              "            text_memo += \"#2-\" + href;\n",
              "        }\n",
              "        else {\n",
              "            text_memo += \"#3-\" + \"*\" + \"\\n\";\n",
              "            continue;\n",
              "        }\n",
              "        var title = child.textContent;\n",
              "        var level = parseInt(child.tagName.substring(1,2));\n",
              "\n",
              "        text_memo += \"--\" + level + \"?\" + lfirst + \"--\" + title + \"\\n\";\n",
              "\n",
              "        if ((level < lfirst) || (level > llast)) {\n",
              "            continue ;\n",
              "        }\n",
              "        if (title.endsWith('\u00b6')) {\n",
              "            title = title.substring(0,title.length-1).replace(\"<\", \"&lt;\")\n",
              "         .replace(\">\", \"&gt;\").replace(\"&\", \"&amp;\");\n",
              "        }\n",
              "        if (title.length == 0) {\n",
              "            continue;\n",
              "        }\n",
              "\n",
              "        while (level < memo_level) {\n",
              "            text_menu += end_format + \"</ul>\\n\";\n",
              "            format_open -= 1;\n",
              "            memo_level -= 1;\n",
              "        }\n",
              "        if (level == lfirst) {\n",
              "            main_item += 1;\n",
              "        }\n",
              "        if (keep_item != -1 && main_item != keep_item + 1) {\n",
              "            // alert(main_item + \" - \" + level + \" - \" + keep_item);\n",
              "            continue;\n",
              "        }\n",
              "        while (level > memo_level) {\n",
              "            text_menu += \"<ul>\\n\";\n",
              "            memo_level += 1;\n",
              "        }\n",
              "        text_menu += repeat_indent_string(level-2);\n",
              "        text_menu += begin_format + sformat.replace(\"__HREF__\", href).replace(\"__TITLE__\", title);\n",
              "        format_open += 1;\n",
              "    }\n",
              "    while (1 < memo_level) {\n",
              "        text_menu += end_format + \"</ul>\\n\";\n",
              "        memo_level -= 1;\n",
              "        format_open -= 1;\n",
              "    }\n",
              "    text_menu += send;\n",
              "    //text_menu += \"\\n\" + text_memo;\n",
              "\n",
              "    while (format_open > 0) {\n",
              "        text_menu += end_format;\n",
              "        format_open -= 1;\n",
              "    }\n",
              "    return text_menu;\n",
              "};\n",
              "var update_menu = function() {\n",
              "    var sbegin = \"\";\n",
              "    var sformat = '<a href=\"#__HREF__\">__TITLE__</a>';\n",
              "    var send = \"\";\n",
              "    var begin_format = '<li>';\n",
              "    var end_format = '</li>';\n",
              "    var keep_item = -1;\n",
              "    var text_menu = update_menu_string(sbegin, 2, 4, sformat, send, keep_item,\n",
              "       begin_format, end_format);\n",
              "    var menu = document.getElementById(\"my_id_menu_nb\");\n",
              "    menu.innerHTML=text_menu;\n",
              "};\n",
              "window.setTimeout(update_menu,2000);\n",
              "            </script>"
            ],
            "text/plain": [
              "<IPython.core.display.HTML object>"
            ]
          },
          "execution_count": 2,
          "metadata": {},
          "output_type": "execute_result"
        }
      ],
      "source": [
        "from jyquickhelper import add_notebook_menu\n",
        "add_notebook_menu()"
      ]
    },
    {
      "cell_type": "code",
      "execution_count": 2,
      "metadata": {
        "collapsed": true
      },
      "outputs": [],
      "source": [
        "%matplotlib inline"
      ]
    },
    {
      "cell_type": "markdown",
      "metadata": {
        "collapsed": true
      },
      "source": [
        "## R\u00e9cup\u00e9rer les donn\u00e9es\n",
        "\n",
        "Les donn\u00e9es sont t\u00e9l\u00e9chargeables [Comp\u00e9tition 2017 - additifs alimentaires](http://www.xavierdupre.fr/app/ensae_teaching_cs/helpsphinx/questions/competition_2A.html#id1) ou encore avec le code :"
      ]
    },
    {
      "cell_type": "code",
      "execution_count": 3,
      "metadata": {
        "collapsed": true
      },
      "outputs": [],
      "source": [
        "from pyensae.datasource import download_data\n",
        "data_train = download_data(\"off_train_all.zip\", \n",
        "                           url=\"https://raw.githubusercontent.com/sdpython/data/master/OpenFoodFacts/\")"
      ]
    },
    {
      "cell_type": "code",
      "execution_count": 4,
      "metadata": {
        "collapsed": true
      },
      "outputs": [],
      "source": [
        "data_test = download_data(\"off_test_all.zip\", \n",
        "                           url=\"https://raw.githubusercontent.com/sdpython/data/master/OpenFoodFacts/\")"
      ]
    },
    {
      "cell_type": "code",
      "execution_count": 5,
      "metadata": {
        "collapsed": true
      },
      "outputs": [],
      "source": [
        "import pandas\n",
        "df = pandas.read_csv(\"off_test_all.txt\", sep=\"\\t\", encoding=\"utf8\", low_memory=False)"
      ]
    },
    {
      "cell_type": "code",
      "execution_count": 6,
      "metadata": {},
      "outputs": [
        {
          "data": {
            "text/html": [
              "<div>\n",
              "<style>\n",
              "    .dataframe thead tr:only-child th {\n",
              "        text-align: right;\n",
              "    }\n",
              "\n",
              "    .dataframe thead th {\n",
              "        text-align: left;\n",
              "    }\n",
              "\n",
              "    .dataframe tbody tr th {\n",
              "        vertical-align: top;\n",
              "    }\n",
              "</style>\n",
              "<table border=\"1\" class=\"dataframe\">\n",
              "  <thead>\n",
              "    <tr style=\"text-align: right;\">\n",
              "      <th></th>\n",
              "      <th>code</th>\n",
              "      <th>url</th>\n",
              "      <th>creator</th>\n",
              "      <th>created_t</th>\n",
              "      <th>created_datetime</th>\n",
              "      <th>last_modified_t</th>\n",
              "      <th>last_modified_datetime</th>\n",
              "      <th>product_name</th>\n",
              "      <th>generic_name</th>\n",
              "      <th>quantity</th>\n",
              "      <th>...</th>\n",
              "      <th>collagen-meat-protein-ratio_100g</th>\n",
              "      <th>cocoa_100g</th>\n",
              "      <th>chlorophyl_100g</th>\n",
              "      <th>carbon-footprint_100g</th>\n",
              "      <th>nutrition-score-fr_100g</th>\n",
              "      <th>nutrition-score-uk_100g</th>\n",
              "      <th>glycemic-index_100g</th>\n",
              "      <th>water-hardness_100g</th>\n",
              "      <th>hasE</th>\n",
              "      <th>s100</th>\n",
              "    </tr>\n",
              "  </thead>\n",
              "  <tbody>\n",
              "    <tr>\n",
              "      <th>0</th>\n",
              "      <td>1.008255e+10</td>\n",
              "      <td>http://world-fr.openfoodfacts.org/produit/0010...</td>\n",
              "      <td>usda-ndb-import</td>\n",
              "      <td>1489064583</td>\n",
              "      <td>2017-03-09T13:03:03Z</td>\n",
              "      <td>1489064583</td>\n",
              "      <td>2017-03-09T13:03:03Z</td>\n",
              "      <td>Golden Island, Pork Jerky, Grilled Barbecue</td>\n",
              "      <td>NaN</td>\n",
              "      <td>NaN</td>\n",
              "      <td>...</td>\n",
              "      <td>NaN</td>\n",
              "      <td>NaN</td>\n",
              "      <td>NaN</td>\n",
              "      <td>NaN</td>\n",
              "      <td>23.0</td>\n",
              "      <td>23.0</td>\n",
              "      <td>NaN</td>\n",
              "      <td>NaN</td>\n",
              "      <td>False</td>\n",
              "      <td>17.0</td>\n",
              "    </tr>\n",
              "    <tr>\n",
              "      <th>1</th>\n",
              "      <td>1.182204e+10</td>\n",
              "      <td>http://world-fr.openfoodfacts.org/produit/0011...</td>\n",
              "      <td>usda-ndb-import</td>\n",
              "      <td>1489070197</td>\n",
              "      <td>2017-03-09T14:36:37Z</td>\n",
              "      <td>1489070197</td>\n",
              "      <td>2017-03-09T14:36:37Z</td>\n",
              "      <td>Big Fizz, Soda, Orange</td>\n",
              "      <td>NaN</td>\n",
              "      <td>NaN</td>\n",
              "      <td>...</td>\n",
              "      <td>NaN</td>\n",
              "      <td>NaN</td>\n",
              "      <td>NaN</td>\n",
              "      <td>NaN</td>\n",
              "      <td>NaN</td>\n",
              "      <td>NaN</td>\n",
              "      <td>NaN</td>\n",
              "      <td>NaN</td>\n",
              "      <td>True</td>\n",
              "      <td>7.0</td>\n",
              "    </tr>\n",
              "    <tr>\n",
              "      <th>2</th>\n",
              "      <td>2.548401e+10</td>\n",
              "      <td>http://world-fr.openfoodfacts.org/produit/0025...</td>\n",
              "      <td>usda-ndb-import</td>\n",
              "      <td>1489052024</td>\n",
              "      <td>2017-03-09T09:33:44Z</td>\n",
              "      <td>1489052024</td>\n",
              "      <td>2017-03-09T09:33:44Z</td>\n",
              "      <td>Tofubaked Marinated Baked Tofu, Sesame Ginger</td>\n",
              "      <td>NaN</td>\n",
              "      <td>NaN</td>\n",
              "      <td>...</td>\n",
              "      <td>NaN</td>\n",
              "      <td>NaN</td>\n",
              "      <td>NaN</td>\n",
              "      <td>NaN</td>\n",
              "      <td>-2.0</td>\n",
              "      <td>-2.0</td>\n",
              "      <td>NaN</td>\n",
              "      <td>NaN</td>\n",
              "      <td>True</td>\n",
              "      <td>17.0</td>\n",
              "    </tr>\n",
              "    <tr>\n",
              "      <th>3</th>\n",
              "      <td>1.229250e+10</td>\n",
              "      <td>http://world-fr.openfoodfacts.org/produit/0012...</td>\n",
              "      <td>usda-ndb-import</td>\n",
              "      <td>1489133493</td>\n",
              "      <td>2017-03-10T08:11:33Z</td>\n",
              "      <td>1489133493</td>\n",
              "      <td>2017-03-10T08:11:33Z</td>\n",
              "      <td>Milk Chocolate Eggs</td>\n",
              "      <td>NaN</td>\n",
              "      <td>NaN</td>\n",
              "      <td>...</td>\n",
              "      <td>NaN</td>\n",
              "      <td>NaN</td>\n",
              "      <td>NaN</td>\n",
              "      <td>NaN</td>\n",
              "      <td>23.0</td>\n",
              "      <td>23.0</td>\n",
              "      <td>NaN</td>\n",
              "      <td>NaN</td>\n",
              "      <td>True</td>\n",
              "      <td>17.0</td>\n",
              "    </tr>\n",
              "    <tr>\n",
              "      <th>4</th>\n",
              "      <td>1.115054e+10</td>\n",
              "      <td>http://world-fr.openfoodfacts.org/produit/0011...</td>\n",
              "      <td>usda-ndb-import</td>\n",
              "      <td>1489052892</td>\n",
              "      <td>2017-03-09T09:48:12Z</td>\n",
              "      <td>1489052892</td>\n",
              "      <td>2017-03-09T09:48:12Z</td>\n",
              "      <td>Fresh Polish Sausage</td>\n",
              "      <td>NaN</td>\n",
              "      <td>NaN</td>\n",
              "      <td>...</td>\n",
              "      <td>NaN</td>\n",
              "      <td>NaN</td>\n",
              "      <td>NaN</td>\n",
              "      <td>NaN</td>\n",
              "      <td>22.0</td>\n",
              "      <td>22.0</td>\n",
              "      <td>NaN</td>\n",
              "      <td>NaN</td>\n",
              "      <td>True</td>\n",
              "      <td>17.0</td>\n",
              "    </tr>\n",
              "  </tbody>\n",
              "</table>\n",
              "<p>5 rows \u00d7 165 columns</p>\n",
              "</div>"
            ],
            "text/plain": [
              "           code                                                url  \\\n",
              "0  1.008255e+10  http://world-fr.openfoodfacts.org/produit/0010...   \n",
              "1  1.182204e+10  http://world-fr.openfoodfacts.org/produit/0011...   \n",
              "2  2.548401e+10  http://world-fr.openfoodfacts.org/produit/0025...   \n",
              "3  1.229250e+10  http://world-fr.openfoodfacts.org/produit/0012...   \n",
              "4  1.115054e+10  http://world-fr.openfoodfacts.org/produit/0011...   \n",
              "\n",
              "           creator   created_t      created_datetime last_modified_t  \\\n",
              "0  usda-ndb-import  1489064583  2017-03-09T13:03:03Z      1489064583   \n",
              "1  usda-ndb-import  1489070197  2017-03-09T14:36:37Z      1489070197   \n",
              "2  usda-ndb-import  1489052024  2017-03-09T09:33:44Z      1489052024   \n",
              "3  usda-ndb-import  1489133493  2017-03-10T08:11:33Z      1489133493   \n",
              "4  usda-ndb-import  1489052892  2017-03-09T09:48:12Z      1489052892   \n",
              "\n",
              "  last_modified_datetime                                   product_name  \\\n",
              "0   2017-03-09T13:03:03Z    Golden Island, Pork Jerky, Grilled Barbecue   \n",
              "1   2017-03-09T14:36:37Z                         Big Fizz, Soda, Orange   \n",
              "2   2017-03-09T09:33:44Z  Tofubaked Marinated Baked Tofu, Sesame Ginger   \n",
              "3   2017-03-10T08:11:33Z                            Milk Chocolate Eggs   \n",
              "4   2017-03-09T09:48:12Z                           Fresh Polish Sausage   \n",
              "\n",
              "  generic_name quantity  ...  collagen-meat-protein-ratio_100g cocoa_100g  \\\n",
              "0          NaN      NaN  ...                               NaN        NaN   \n",
              "1          NaN      NaN  ...                               NaN        NaN   \n",
              "2          NaN      NaN  ...                               NaN        NaN   \n",
              "3          NaN      NaN  ...                               NaN        NaN   \n",
              "4          NaN      NaN  ...                               NaN        NaN   \n",
              "\n",
              "  chlorophyl_100g carbon-footprint_100g nutrition-score-fr_100g  \\\n",
              "0             NaN                   NaN                    23.0   \n",
              "1             NaN                   NaN                     NaN   \n",
              "2             NaN                   NaN                    -2.0   \n",
              "3             NaN                   NaN                    23.0   \n",
              "4             NaN                   NaN                    22.0   \n",
              "\n",
              "  nutrition-score-uk_100g glycemic-index_100g water-hardness_100g   hasE  s100  \n",
              "0                    23.0                 NaN                 NaN  False  17.0  \n",
              "1                     NaN                 NaN                 NaN   True   7.0  \n",
              "2                    -2.0                 NaN                 NaN   True  17.0  \n",
              "3                    23.0                 NaN                 NaN   True  17.0  \n",
              "4                    22.0                 NaN                 NaN   True  17.0  \n",
              "\n",
              "[5 rows x 165 columns]"
            ]
          },
          "execution_count": 7,
          "metadata": {},
          "output_type": "execute_result"
        }
      ],
      "source": [
        "df.head()"
      ]
    },
    {
      "cell_type": "markdown",
      "metadata": {},
      "source": [
        "## Exercice 1 : extraire un \u00e9chantillon al\u00e9atoire\n",
        "\n",
        "Les donn\u00e9es sont volumineuses. Prenons un \u00e9chantillon pour aller plus vite. On se sert de la m\u00e9thode [sample](https://pandas.pydata.org/pandas-docs/stable/generated/pandas.DataFrame.sample.html)."
      ]
    },
    {
      "cell_type": "code",
      "execution_count": 7,
      "metadata": {},
      "outputs": [
        {
          "data": {
            "text/plain": [
              "(10000, 165)"
            ]
          },
          "execution_count": 8,
          "metadata": {},
          "output_type": "execute_result"
        }
      ],
      "source": [
        "sample = df.sample(n=10000)\n",
        "sample.shape"
      ]
    },
    {
      "cell_type": "markdown",
      "metadata": {},
      "source": [
        "## Exercice 2 : caler un premier mod\u00e8le de classification binaire\n",
        "\n",
        "Avec les variables num\u00e9riques uniquement. La cible est la variable ``hasE``. On s\u00e9lectionne les variables num\u00e9riques et on cale un premier mod\u00e8le et la variable ``hasE`` dont le type est bool\u00e9en. On remplace les valeurs manquantes par z\u00e9ro."
      ]
    },
    {
      "cell_type": "code",
      "execution_count": 8,
      "metadata": {},
      "outputs": [
        {
          "data": {
            "text/plain": [
              "(10000, 110)"
            ]
          },
          "execution_count": 9,
          "metadata": {},
          "output_type": "execute_result"
        }
      ],
      "source": [
        "sample_num = sample.select_dtypes((float, bool))\n",
        "sample_num.shape"
      ]
    },
    {
      "cell_type": "code",
      "execution_count": 9,
      "metadata": {},
      "outputs": [],
      "source": [
        "X = sample_num.drop(\"hasE\", axis=1).fillna(0)\n",
        "Y = sample_num[\"hasE\"]"
      ]
    },
    {
      "cell_type": "code",
      "execution_count": 10,
      "metadata": {},
      "outputs": [
        {
          "data": {
            "text/plain": [
              "LogisticRegression(C=1.0, class_weight=None, dual=False, fit_intercept=True,\n",
              "          intercept_scaling=1, max_iter=100, multi_class='ovr', n_jobs=1,\n",
              "          penalty='l2', random_state=None, solver='liblinear', tol=0.0001,\n",
              "          verbose=0, warm_start=False)"
            ]
          },
          "execution_count": 11,
          "metadata": {},
          "output_type": "execute_result"
        }
      ],
      "source": [
        "from sklearn.linear_model import LogisticRegression\n",
        "clf = LogisticRegression()\n",
        "clf.fit(X, Y)"
      ]
    },
    {
      "cell_type": "markdown",
      "metadata": {},
      "source": [
        "On v\u00e9rifie que le mod\u00e8le fonctionne \u00e0 peu pr\u00e8s."
      ]
    },
    {
      "cell_type": "code",
      "execution_count": 11,
      "metadata": {},
      "outputs": [
        {
          "data": {
            "text/plain": [
              "array([[4418,    1],\n",
              "       [5581,    0]], dtype=int64)"
            ]
          },
          "execution_count": 12,
          "metadata": {},
          "output_type": "execute_result"
        }
      ],
      "source": [
        "from sklearn.metrics import confusion_matrix\n",
        "conf = confusion_matrix(Y, clf.predict(X))\n",
        "conf"
      ]
    },
    {
      "cell_type": "markdown",
      "metadata": {},
      "source": [
        "Ca ne marche pas vraiment. On essaye avec une for\u00eat d'arbres."
      ]
    },
    {
      "cell_type": "code",
      "execution_count": 12,
      "metadata": {},
      "outputs": [
        {
          "data": {
            "text/plain": [
              "RandomForestClassifier(bootstrap=True, class_weight=None, criterion='gini',\n",
              "            max_depth=None, max_features='auto', max_leaf_nodes=None,\n",
              "            min_impurity_decrease=0.0, min_impurity_split=None,\n",
              "            min_samples_leaf=1, min_samples_split=2,\n",
              "            min_weight_fraction_leaf=0.0, n_estimators=10, n_jobs=1,\n",
              "            oob_score=False, random_state=None, verbose=0,\n",
              "            warm_start=False)"
            ]
          },
          "execution_count": 13,
          "metadata": {},
          "output_type": "execute_result"
        }
      ],
      "source": [
        "from sklearn.ensemble import RandomForestClassifier\n",
        "clrf = RandomForestClassifier()\n",
        "clrf.fit(X, Y)"
      ]
    },
    {
      "cell_type": "code",
      "execution_count": 13,
      "metadata": {},
      "outputs": [
        {
          "data": {
            "text/plain": [
              "array([[4419,    0],\n",
              "       [   4, 5577]], dtype=int64)"
            ]
          },
          "execution_count": 14,
          "metadata": {},
          "output_type": "execute_result"
        }
      ],
      "source": [
        "conf = confusion_matrix(Y, clrf.predict(X))\n",
        "conf"
      ]
    },
    {
      "cell_type": "markdown",
      "metadata": {},
      "source": [
        "Beaucoup mieux. Les performances semblent incroyables mais il ne faut pas oublier qu'on \u00e9value le mod\u00e8le sur la base d'apprentissage. Essayons sur un autre \u00e9chantillon al\u00e9atoire."
      ]
    },
    {
      "cell_type": "code",
      "execution_count": 14,
      "metadata": {},
      "outputs": [
        {
          "data": {
            "text/plain": [
              "array([[4464,    0],\n",
              "       [  26, 5510]], dtype=int64)"
            ]
          },
          "execution_count": 15,
          "metadata": {},
          "output_type": "execute_result"
        }
      ],
      "source": [
        "sample2 = df.sample(n=10000)\n",
        "sample2_num = sample2.select_dtypes((float, bool))\n",
        "X2 = sample2_num.drop(\"hasE\", axis=1).fillna(0)\n",
        "Y2 = sample2_num[\"hasE\"]\n",
        "conf2 = confusion_matrix(Y2, clrf.predict(X2))\n",
        "conf2"
      ]
    },
    {
      "cell_type": "markdown",
      "metadata": {},
      "source": [
        "Pas si mal."
      ]
    },
    {
      "cell_type": "markdown",
      "metadata": {},
      "source": [
        "## Exercice 3 : tracer une courbe ROC\n",
        "\n",
        "On trace la courbe ROC avec le second \u00e9chantillon."
      ]
    },
    {
      "cell_type": "code",
      "execution_count": 15,
      "metadata": {},
      "outputs": [],
      "source": [
        "from sklearn.metrics import roc_curve\n",
        "y_proba = clrf.predict_proba(X2)\n",
        "y_pred = clrf.predict(X2)\n",
        "# y_pred est plein de bool\u00e9en. Il faut les convertir en entier.\n",
        "prob_pred = y_proba[:, 1]\n",
        "fpr, tpr, th = roc_curve(Y2, prob_pred)"
      ]
    },
    {
      "cell_type": "code",
      "execution_count": 16,
      "metadata": {},
      "outputs": [
        {
          "data": {
            "text/plain": [
              "<matplotlib.legend.Legend at 0x14d11214438>"
            ]
          },
          "execution_count": 17,
          "metadata": {},
          "output_type": "execute_result"
        },
        {
          "data": {
            "image/png": "[encoded data removed]",
            "text/plain": [
              "<matplotlib.figure.Figure at 0x14d111c8b70>"
            ]
          },
          "metadata": {},
          "output_type": "display_data"
        }
      ],
      "source": [
        "import matplotlib.pyplot as plt\n",
        "plt.figure()\n",
        "lw = 2\n",
        "plt.plot(fpr, tpr, color='darkorange', lw=lw, label='Courbe ROC')\n",
        "plt.plot([0, 1], [0, 1], color='navy', lw=lw, linestyle='--')\n",
        "plt.xlim([0.0, 1.0])\n",
        "plt.ylim([0.0, 1.05])\n",
        "plt.xlabel(\"Proportion mal class\u00e9e\")\n",
        "plt.ylabel(\"Proportion bien class\u00e9e\")\n",
        "plt.title('ROC')\n",
        "plt.legend(loc=\"lower right\")"
      ]
    },
    {
      "cell_type": "markdown",
      "metadata": {},
      "source": [
        "La courbe [ROC](http://www.xavierdupre.fr/app/mlstatpy/helpsphinx/c_metric/roc.html) para\u00eet fid\u00e8le \u00e0 la matrice de confusion, on v\u00e9rifie avec la distribution des scores."
      ]
    },
    {
      "cell_type": "code",
      "execution_count": 17,
      "metadata": {},
      "outputs": [
        {
          "data": {
            "image/png": "[encoded data removed]",
            "text/plain": [
              "<matplotlib.figure.Figure at 0x14d11d187b8>"
            ]
          },
          "metadata": {},
          "output_type": "display_data"
        }
      ],
      "source": [
        "fig, ax = plt.subplots(1, 1)\n",
        "ax.hist(y_proba[Y2==1, 1], alpha=0.5, label=\"score class 1\")\n",
        "ax.hist(y_proba[Y2==0, 1], alpha=0.5, label=\"score class 0\")\n",
        "ax.legend();"
      ]
    },
    {
      "cell_type": "markdown",
      "metadata": {},
      "source": [
        "## Exercice 4 : utiliser la variable qui contient le pays\n",
        "\n",
        "Est-ce que le mod\u00e8le est plus performant ?"
      ]
    },
    {
      "cell_type": "code",
      "execution_count": 18,
      "metadata": {
        "collapsed": true
      },
      "outputs": [],
      "source": []
    },
    {
      "cell_type": "markdown",
      "metadata": {},
      "source": [
        "## Exercice 5 : utiliser la variable additives_tags ?\n",
        "\n",
        "Les r\u00e9sultats ne vous paraissent-ils pas \u00e9tranges ?"
      ]
    },
    {
      "cell_type": "code",
      "execution_count": 19,
      "metadata": {
        "collapsed": true
      },
      "outputs": [],
      "source": []
    },
    {
      "cell_type": "markdown",
      "metadata": {},
      "source": [
        "## Exercice 6 : utiliser la variable ingredients_text ?\n",
        "\n",
        "Que sugg\u00e9rez vous *embedding* ?"
      ]
    },
    {
      "cell_type": "code",
      "execution_count": 20,
      "metadata": {
        "collapsed": true
      },
      "outputs": [],
      "source": []
    },
    {
      "cell_type": "markdown",
      "metadata": {},
      "source": [
        "## Exercice 7 : utiliser la variable product_name ?"
      ]
    },
    {
      "cell_type": "code",
      "execution_count": 21,
      "metadata": {
        "collapsed": true
      },
      "outputs": [],
      "source": []
    },
    {
      "cell_type": "markdown",
      "metadata": {},
      "source": [
        "## Exercice 8 : utiliser GridSearch pour optimiser un hyper-param\u00e8tre du mod\u00e8le ?"
      ]
    },
    {
      "cell_type": "code",
      "execution_count": 22,
      "metadata": {
        "collapsed": true
      },
      "outputs": [],
      "source": []
    },
    {
      "cell_type": "markdown",
      "metadata": {},
      "source": [
        "## Exercice 9 : faites tourner une cross validation ?"
      ]
    },
    {
      "cell_type": "code",
      "execution_count": 23,
      "metadata": {
        "collapsed": true
      },
      "outputs": [],
      "source": []
    }
  ],
  "metadata": {
    "kernelspec": {
      "display_name": "Python 3",
      "language": "python",
      "name": "python3"
    },
    "language_info": {
      "codemirror_mode": {
        "name": "ipython",
        "version": 3
      },
      "file_extension": ".py",
      "mimetype": "text/x-python",
      "name": "python",
      "nbconvert_exporter": "python",
      "pygments_lexer": "ipython3",
      "version": "3.6.5"
    }
  },
  "nbformat": 4,
  "nbformat_minor": 2
}