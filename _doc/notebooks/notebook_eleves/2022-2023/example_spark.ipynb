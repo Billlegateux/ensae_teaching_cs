{
 "cells": [
  {
   "cell_type": "markdown",
   "id": "233e0747-98ab-4fb5-8c50-80c6a9903d6f",
   "metadata": {},
   "source": [
    "# First steps on pyspark"
   ]
  },
  {
   "cell_type": "markdown",
   "id": "b5e10f52-1958-494c-9f01-80d00e8f8213",
   "metadata": {},
   "source": [
    "## Initialization\n",
    "\n",
    "Émissions de CO2e sur les liaisons TGV\n",
    "https://www.sncf.com/fr/engagements/developpement-durable/engagement-grand-groupe-pour-la-planete.\n",
    "données : https://www.data.gouv.fr/fr/datasets/r/9cbb2e7d-058b-4e58-b93b-2de23da80d70"
   ]
  },
  {
   "cell_type": "code",
   "execution_count": 4,
   "id": "5d91acaa-c8f9-402f-a786-b70d8498d840",
   "metadata": {
    "tags": []
   },
   "outputs": [
    {
     "name": "stdout",
     "output_type": "stream",
     "text": [
      "Collecting pandas\n",
      "  Downloading pandas-2.0.0-cp310-cp310-manylinux_2_17_x86_64.manylinux2014_x86_64.whl (12.3 MB)\n",
      "\u001b[2K     \u001b[90m━━━━━━━━━━━━━━━━━━━━━━━━━━━━━━━━━━━━━━━━\u001b[0m \u001b[32m12.3/12.3 MB\u001b[0m \u001b[31m23.5 MB/s\u001b[0m eta \u001b[36m0:00:00\u001b[0m00:01\u001b[0m00:01\u001b[0m\n",
      "\u001b[?25hRequirement already satisfied: pytz>=2020.1 in /opt/mamba/lib/python3.10/site-packages (from pandas) (2023.3)\n",
      "Collecting numpy>=1.21.0\n",
      "  Downloading numpy-1.24.2-cp310-cp310-manylinux_2_17_x86_64.manylinux2014_x86_64.whl (17.3 MB)\n",
      "\u001b[2K     \u001b[90m━━━━━━━━━━━━━━━━━━━━━━━━━━━━━━━━━━━━━━━━\u001b[0m \u001b[32m17.3/17.3 MB\u001b[0m \u001b[31m12.1 MB/s\u001b[0m eta \u001b[36m0:00:00\u001b[0m00:01\u001b[0m00:01\u001b[0m\n",
      "\u001b[?25hRequirement already satisfied: python-dateutil>=2.8.2 in /opt/mamba/lib/python3.10/site-packages (from pandas) (2.8.2)\n",
      "Collecting tzdata>=2022.1\n",
      "  Downloading tzdata-2023.3-py2.py3-none-any.whl (341 kB)\n",
      "\u001b[2K     \u001b[90m━━━━━━━━━━━━━━━━━━━━━━━━━━━━━━━━━━━━━━\u001b[0m \u001b[32m341.8/341.8 kB\u001b[0m \u001b[31m12.9 MB/s\u001b[0m eta \u001b[36m0:00:00\u001b[0m\n",
      "\u001b[?25hRequirement already satisfied: six>=1.5 in /opt/mamba/lib/python3.10/site-packages (from python-dateutil>=2.8.2->pandas) (1.16.0)\n",
      "Installing collected packages: tzdata, numpy, pandas\n",
      "Successfully installed numpy-1.24.2 pandas-2.0.0 tzdata-2023.3\n"
     ]
    }
   ],
   "source": [
    "!pip install pandas"
   ]
  },
  {
   "cell_type": "code",
   "execution_count": 5,
   "id": "bc477efb-511e-4614-86cf-d401a26d40cf",
   "metadata": {
    "tags": []
   },
   "outputs": [],
   "source": [
    "import pandas"
   ]
  },
  {
   "cell_type": "code",
   "execution_count": 63,
   "id": "f7f38591-9af4-44b8-adb1-e45a6f03c3a9",
   "metadata": {
    "tags": []
   },
   "outputs": [
    {
     "name": "stderr",
     "output_type": "stream",
     "text": [
      "/tmp/ipykernel_98/1748411573.py:1: DtypeWarning: Columns (0,3,4) have mixed types. Specify dtype option on import or set low_memory=False.\n",
      "  df = pandas.read_csv(\"https://www.data.gouv.fr/fr/datasets/r/d5f400de-ae3f-4966-8cb6-a85c70c6c24a\", sep=\"\\t\")\n"
     ]
    },
    {
     "data": {
      "text/html": [
       "<div>\n",
       "<style scoped>\n",
       "    .dataframe tbody tr th:only-of-type {\n",
       "        vertical-align: middle;\n",
       "    }\n",
       "\n",
       "    .dataframe tbody tr th {\n",
       "        vertical-align: top;\n",
       "    }\n",
       "\n",
       "    .dataframe thead th {\n",
       "        text-align: right;\n",
       "    }\n",
       "</style>\n",
       "<table border=\"1\" class=\"dataframe\">\n",
       "  <thead>\n",
       "    <tr style=\"text-align: right;\">\n",
       "      <th></th>\n",
       "      <th>Code du département</th>\n",
       "      <th>Libellé du département</th>\n",
       "      <th>Code de la collectivité à statut particulier</th>\n",
       "      <th>Libellé de la collectivité à statut particulier</th>\n",
       "      <th>Code de la commune</th>\n",
       "      <th>Libellé de la commune</th>\n",
       "      <th>Nom de l'élu</th>\n",
       "      <th>Prénom de l'élu</th>\n",
       "      <th>Code sexe</th>\n",
       "      <th>Date de naissance</th>\n",
       "      <th>Code de la catégorie socio-professionnelle</th>\n",
       "      <th>Libellé de la catégorie socio-professionnelle</th>\n",
       "      <th>Date de début du mandat</th>\n",
       "      <th>Libellé de la fonction</th>\n",
       "      <th>Date de début de la fonction</th>\n",
       "      <th>Code nationalité</th>\n",
       "    </tr>\n",
       "  </thead>\n",
       "  <tbody>\n",
       "    <tr>\n",
       "      <th>0</th>\n",
       "      <td>1</td>\n",
       "      <td>Ain</td>\n",
       "      <td>NaN</td>\n",
       "      <td>NaN</td>\n",
       "      <td>1001</td>\n",
       "      <td>L'Abergement-Clémenciat</td>\n",
       "      <td>BARRET</td>\n",
       "      <td>Yohann</td>\n",
       "      <td>M</td>\n",
       "      <td>09/02/1976</td>\n",
       "      <td>31.0</td>\n",
       "      <td>Profession libérale</td>\n",
       "      <td>18/05/2020</td>\n",
       "      <td>NaN</td>\n",
       "      <td>NaN</td>\n",
       "      <td>FR</td>\n",
       "    </tr>\n",
       "    <tr>\n",
       "      <th>1</th>\n",
       "      <td>1</td>\n",
       "      <td>Ain</td>\n",
       "      <td>NaN</td>\n",
       "      <td>NaN</td>\n",
       "      <td>1001</td>\n",
       "      <td>L'Abergement-Clémenciat</td>\n",
       "      <td>BEAUDET</td>\n",
       "      <td>Sylvie</td>\n",
       "      <td>F</td>\n",
       "      <td>25/03/1967</td>\n",
       "      <td>12.0</td>\n",
       "      <td>Agriculteur sur moyenne exploitation</td>\n",
       "      <td>18/05/2020</td>\n",
       "      <td>NaN</td>\n",
       "      <td>NaN</td>\n",
       "      <td>FR</td>\n",
       "    </tr>\n",
       "    <tr>\n",
       "      <th>2</th>\n",
       "      <td>1</td>\n",
       "      <td>Ain</td>\n",
       "      <td>NaN</td>\n",
       "      <td>NaN</td>\n",
       "      <td>1001</td>\n",
       "      <td>L'Abergement-Clémenciat</td>\n",
       "      <td>BERAUD</td>\n",
       "      <td>Zélie</td>\n",
       "      <td>F</td>\n",
       "      <td>26/03/1980</td>\n",
       "      <td>43.0</td>\n",
       "      <td>Profession intermédiaire de la santé et du tra...</td>\n",
       "      <td>18/05/2020</td>\n",
       "      <td>NaN</td>\n",
       "      <td>NaN</td>\n",
       "      <td>FR</td>\n",
       "    </tr>\n",
       "    <tr>\n",
       "      <th>3</th>\n",
       "      <td>1</td>\n",
       "      <td>Ain</td>\n",
       "      <td>NaN</td>\n",
       "      <td>NaN</td>\n",
       "      <td>1001</td>\n",
       "      <td>L'Abergement-Clémenciat</td>\n",
       "      <td>BOUILLOUX</td>\n",
       "      <td>Delphine</td>\n",
       "      <td>F</td>\n",
       "      <td>02/08/1977</td>\n",
       "      <td>38.0</td>\n",
       "      <td>Ingénieur et cadre technique d'entreprise</td>\n",
       "      <td>18/05/2020</td>\n",
       "      <td>NaN</td>\n",
       "      <td>NaN</td>\n",
       "      <td>FR</td>\n",
       "    </tr>\n",
       "    <tr>\n",
       "      <th>4</th>\n",
       "      <td>1</td>\n",
       "      <td>Ain</td>\n",
       "      <td>NaN</td>\n",
       "      <td>NaN</td>\n",
       "      <td>1001</td>\n",
       "      <td>L'Abergement-Clémenciat</td>\n",
       "      <td>BOULON</td>\n",
       "      <td>Daniel</td>\n",
       "      <td>M</td>\n",
       "      <td>04/03/1951</td>\n",
       "      <td>74.0</td>\n",
       "      <td>Ancien cadre</td>\n",
       "      <td>18/05/2020</td>\n",
       "      <td>Maire</td>\n",
       "      <td>26/05/2020</td>\n",
       "      <td>FR</td>\n",
       "    </tr>\n",
       "  </tbody>\n",
       "</table>\n",
       "</div>"
      ],
      "text/plain": [
       "  Code du département Libellé du département   \n",
       "0                   1                    Ain  \\\n",
       "1                   1                    Ain   \n",
       "2                   1                    Ain   \n",
       "3                   1                    Ain   \n",
       "4                   1                    Ain   \n",
       "\n",
       "   Code de la collectivité à statut particulier   \n",
       "0                                           NaN  \\\n",
       "1                                           NaN   \n",
       "2                                           NaN   \n",
       "3                                           NaN   \n",
       "4                                           NaN   \n",
       "\n",
       "  Libellé de la collectivité à statut particulier Code de la commune   \n",
       "0                                             NaN               1001  \\\n",
       "1                                             NaN               1001   \n",
       "2                                             NaN               1001   \n",
       "3                                             NaN               1001   \n",
       "4                                             NaN               1001   \n",
       "\n",
       "     Libellé de la commune Nom de l'élu Prénom de l'élu Code sexe   \n",
       "0  L'Abergement-Clémenciat       BARRET          Yohann         M  \\\n",
       "1  L'Abergement-Clémenciat      BEAUDET          Sylvie         F   \n",
       "2  L'Abergement-Clémenciat       BERAUD           Zélie         F   \n",
       "3  L'Abergement-Clémenciat    BOUILLOUX        Delphine         F   \n",
       "4  L'Abergement-Clémenciat       BOULON          Daniel         M   \n",
       "\n",
       "  Date de naissance  Code de la catégorie socio-professionnelle   \n",
       "0        09/02/1976                                        31.0  \\\n",
       "1        25/03/1967                                        12.0   \n",
       "2        26/03/1980                                        43.0   \n",
       "3        02/08/1977                                        38.0   \n",
       "4        04/03/1951                                        74.0   \n",
       "\n",
       "       Libellé de la catégorie socio-professionnelle Date de début du mandat   \n",
       "0                                Profession libérale              18/05/2020  \\\n",
       "1               Agriculteur sur moyenne exploitation              18/05/2020   \n",
       "2  Profession intermédiaire de la santé et du tra...              18/05/2020   \n",
       "3          Ingénieur et cadre technique d'entreprise              18/05/2020   \n",
       "4                                       Ancien cadre              18/05/2020   \n",
       "\n",
       "  Libellé de la fonction Date de début de la fonction Code nationalité  \n",
       "0                    NaN                          NaN               FR  \n",
       "1                    NaN                          NaN               FR  \n",
       "2                    NaN                          NaN               FR  \n",
       "3                    NaN                          NaN               FR  \n",
       "4                  Maire                   26/05/2020               FR  "
      ]
     },
     "execution_count": 63,
     "metadata": {},
     "output_type": "execute_result"
    }
   ],
   "source": [
    "df = pandas.read_csv(\"https://www.data.gouv.fr/fr/datasets/r/d5f400de-ae3f-4966-8cb6-a85c70c6c24a\", sep=\"\\t\")\n",
    "df.head()"
   ]
  },
  {
   "cell_type": "code",
   "execution_count": 108,
   "id": "84c6bbef-93f9-4b77-ad55-06cc2fc7bc78",
   "metadata": {
    "tags": []
   },
   "outputs": [
    {
     "data": {
      "text/plain": [
       "(498659, 16)"
      ]
     },
     "execution_count": 108,
     "metadata": {},
     "output_type": "execute_result"
    }
   ],
   "source": [
    "df.shape"
   ]
  },
  {
   "cell_type": "code",
   "execution_count": 91,
   "id": "1e0badd2-13f6-4403-ad55-64f6162b7d74",
   "metadata": {
    "tags": []
   },
   "outputs": [
    {
     "data": {
      "text/plain": [
       "{17}"
      ]
     },
     "execution_count": 91,
     "metadata": {},
     "output_type": "execute_result"
    }
   ],
   "source": [
    "data = list(map(tuple, df.itertuples()))\n",
    "setlen = set(map(len, data))\n",
    "setlen"
   ]
  },
  {
   "cell_type": "code",
   "execution_count": 92,
   "id": "bcc1ae66-57a9-4676-8ebc-172261e7ecfa",
   "metadata": {
    "tags": []
   },
   "outputs": [
    {
     "data": {
      "text/plain": [
       "(0,\n",
       " 1,\n",
       " 'Ain',\n",
       " nan,\n",
       " nan,\n",
       " 1001,\n",
       " \"L'Abergement-Clémenciat\",\n",
       " 'BARRET',\n",
       " 'Yohann',\n",
       " 'M',\n",
       " '09/02/1976',\n",
       " 31.0,\n",
       " 'Profession libérale',\n",
       " '18/05/2020',\n",
       " nan,\n",
       " nan,\n",
       " 'FR')"
      ]
     },
     "execution_count": 92,
     "metadata": {},
     "output_type": "execute_result"
    }
   ],
   "source": [
    "data[0]"
   ]
  },
  {
   "cell_type": "code",
   "execution_count": 125,
   "id": "0b9b099d-6667-4fbb-8812-68d247bffbef",
   "metadata": {
    "tags": []
   },
   "outputs": [],
   "source": [
    "import pyspark\n",
    "from pyspark.sql import SparkSession"
   ]
  },
  {
   "cell_type": "code",
   "execution_count": 126,
   "id": "b8ca13d5-c751-4b2e-ae09-aa8f8c1ac0e5",
   "metadata": {
    "tags": []
   },
   "outputs": [],
   "source": [
    "spark = SparkSession.builder.appName(\"sparksql\").getOrCreate()"
   ]
  },
  {
   "cell_type": "code",
   "execution_count": 164,
   "id": "8ad1b0d8-c058-43e5-90db-883b8a13d282",
   "metadata": {
    "tags": []
   },
   "outputs": [
    {
     "data": {
      "text/plain": [
       "StructType([StructField('index', IntegerType(), True), StructField('Code du département', StringType(), True), StructField('Libellé du département', StringType(), True), StructField('Code de la collectivité à statut particulier', DoubleType(), True), StructField('Libellé de la collectivité à statut particulier', StringType(), True), StructField('Code de la commune', StringType(), True), StructField('Libellé de la commune', StringType(), True), StructField('Nom de l'élu', StringType(), True), StructField('Prénom de l'élu', StringType(), True), StructField('Code sexe', StringType(), True), StructField('Date de naissance', StringType(), True), StructField('Code de la catégorie socio-professionnelle', DoubleType(), True), StructField('Libellé de la catégorie socio-professionnelle', StringType(), True), StructField('Date de début du mandat', StringType(), True), StructField('Libellé de la fonction', StringType(), True), StructField('Date de début de la fonction', StringType(), True), StructField('Code nationalité', StringType(), True)])"
      ]
     },
     "execution_count": 164,
     "metadata": {},
     "output_type": "execute_result"
    }
   ],
   "source": [
    "from pyspark.sql.types import StructType, StructField, StringType, DoubleType, IntegerType\n",
    "\n",
    "cols = [StructField(\"index\", IntegerType(), True)]\n",
    "for name, typ in zip(df.columns, df.dtypes):\n",
    "    if \"float64\" in str(typ):\n",
    "        cols.append(StructField(name, DoubleType(), True))\n",
    "    else:\n",
    "        cols.append(StructField(name, StringType(), True))\n",
    "schema = StructType(cols)\n",
    "encoded_name = schema.fields[0].name.encode('utf-8')\n",
    "schema"
   ]
  },
  {
   "cell_type": "code",
   "execution_count": 165,
   "id": "96fef64a-7b95-4476-b2db-5ef0a97979e8",
   "metadata": {
    "tags": []
   },
   "outputs": [
    {
     "name": "stderr",
     "output_type": "stream",
     "text": [
      "2023-04-11 23:38:16,433 WARN scheduler.TaskSetManager: Stage 22 contains a task of very large size (24718 KiB). The maximum recommended task size is 1000 KiB.\n",
      "[Stage 22:>                                                         (0 + 1) / 1]\r"
     ]
    },
    {
     "name": "stdout",
     "output_type": "stream",
     "text": [
      "+-----+-------------------+----------------------+--------------------------------------------+-----------------------------------------------+------------------+---------------------+-----------------+---------------+---------+-----------------+------------------------------------------+---------------------------------------------+-----------------------+----------------------+----------------------------+----------------+\n",
      "|index|Code du département|Libellé du département|Code de la collectivité à statut particulier|Libellé de la collectivité à statut particulier|Code de la commune|Libellé de la commune|     Nom de l'élu|Prénom de l'élu|Code sexe|Date de naissance|Code de la catégorie socio-professionnelle|Libellé de la catégorie socio-professionnelle|Date de début du mandat|Libellé de la fonction|Date de début de la fonction|Code nationalité|\n",
      "+-----+-------------------+----------------------+--------------------------------------------+-----------------------------------------------+------------------+---------------------+-----------------+---------------+---------+-----------------+------------------------------------------+---------------------------------------------+-----------------------+----------------------+----------------------------+----------------+\n",
      "|    0|                  1|                   Ain|                                         NaN|                                            NaN|              1001| L'Abergement-Clém...|           BARRET|         Yohann|        M|       09/02/1976|                                      31.0|                          Profession libérale|             18/05/2020|                   NaN|                         NaN|              FR|\n",
      "|    1|                  1|                   Ain|                                         NaN|                                            NaN|              1001| L'Abergement-Clém...|          BEAUDET|         Sylvie|        F|       25/03/1967|                                      12.0|                         Agriculteur sur m...|             18/05/2020|                   NaN|                         NaN|              FR|\n",
      "|    2|                  1|                   Ain|                                         NaN|                                            NaN|              1001| L'Abergement-Clém...|           BERAUD|          Zélie|        F|       26/03/1980|                                      43.0|                         Profession interm...|             18/05/2020|                   NaN|                         NaN|              FR|\n",
      "|    3|                  1|                   Ain|                                         NaN|                                            NaN|              1001| L'Abergement-Clém...|        BOUILLOUX|       Delphine|        F|       02/08/1977|                                      38.0|                         Ingénieur et cadr...|             18/05/2020|                   NaN|                         NaN|              FR|\n",
      "|    4|                  1|                   Ain|                                         NaN|                                            NaN|              1001| L'Abergement-Clém...|           BOULON|         Daniel|        M|       04/03/1951|                                      74.0|                                 Ancien cadre|             18/05/2020|                 Maire|                  26/05/2020|              FR|\n",
      "|    5|                  1|                   Ain|                                         NaN|                                            NaN|              1001| L'Abergement-Clém...|             BUET|          Roger|        M|       21/04/1952|                                      71.0|                         Ancien agriculteu...|             18/05/2020|  3ème adjoint au M...|                  26/05/2020|              FR|\n",
      "|    6|                  1|                   Ain|                                         NaN|                                            NaN|              1001| L'Abergement-Clém...|           BUGNOT|       Séverine|        F|       02/04/1974|                                      43.0|                         Profession interm...|             18/05/2020|                   NaN|                         NaN|              FR|\n",
      "|    7|                  1|                   Ain|                                         NaN|                                            NaN|              1001| L'Abergement-Clém...|         CHIGNARD|         Gilles|        M|       01/08/1968|                                      63.0|                         Ouvrier qualifié ...|             18/05/2020|                   NaN|                         NaN|              FR|\n",
      "|    8|                  1|                   Ain|                                         NaN|                                            NaN|              1001| L'Abergement-Clém...|   EVALET-TAPONAT|           Line|        F|       22/07/1967|                                      33.0|                         Cadre de la fonct...|             18/05/2020|                   NaN|                         NaN|              FR|\n",
      "|    9|                  1|                   Ain|                                         NaN|                                            NaN|              1001| L'Abergement-Clém...|          LLOBELL|          André|        M|       03/11/1951|                                      75.0|                         Ancienne professi...|             18/05/2020|  2ème adjoint au M...|                  26/05/2020|              FR|\n",
      "|   10|                  1|                   Ain|                                         NaN|                                            NaN|              1001| L'Abergement-Clém...|          MAISSON|        Sylvain|        M|       25/08/1965|                                      11.0|                         Agriculteur sur p...|             18/05/2020|                   NaN|                         NaN|              FR|\n",
      "|   11|                  1|                   Ain|                                         NaN|                                            NaN|              1001| L'Abergement-Clém...|          MARGUIN|      Jean Paul|        M|       24/06/1950|                                      71.0|                         Ancien agriculteu...|             18/05/2020|                   NaN|                         NaN|              FR|\n",
      "|   12|                  1|                   Ain|                                         NaN|                                            NaN|              1001| L'Abergement-Clém...|         MESQUIDA|         Azriel|        M|       10/09/1988|                                      47.0|                                   Technicien|             18/05/2020|                   NaN|                         NaN|              FR|\n",
      "|   13|                  1|                   Ain|                                         NaN|                                            NaN|              1001| L'Abergement-Clém...|MONTAGNAT-RENTIER|        Clément|        M|       27/09/1984|                                      31.0|                          Profession libérale|             18/05/2020|                   NaN|                         NaN|              FR|\n",
      "|   14|                  1|                   Ain|                                         NaN|                                            NaN|              1001| L'Abergement-Clém...|            VERNU|        Martine|        F|       11/01/1952|                                      74.0|                                 Ancien cadre|             18/05/2020|  1er adjoint au Maire|                  26/05/2020|              FR|\n",
      "|   15|                  1|                   Ain|                                         NaN|                                            NaN|              1002| L'Abergement-De-V...|            BIDAL|      Alexandre|        M|       18/07/1985|                                      52.0|                         Employé civil et ...|             18/05/2020|                   NaN|                         NaN|              FR|\n",
      "|   16|                  1|                   Ain|                                         NaN|                                            NaN|              1002| L'Abergement-De-V...|           BRUNET|        Anthony|        M|       01/03/1980|                                      65.0|                         Ouvrier qualifié ...|             18/05/2020|  3ème adjoint au M...|                  27/05/2020|              FR|\n",
      "|   17|                  1|                   Ain|                                         NaN|                                            NaN|              1002| L'Abergement-De-V...|      CHARBONNIER|          Julie|        F|       19/07/1979|                                      55.0|                          Employé de commerce|             18/05/2020|                   NaN|                         NaN|              FR|\n",
      "|   18|                  1|                   Ain|                                         NaN|                                            NaN|              1002| L'Abergement-De-V...|          DELORME|        Michele|        F|       26/03/1947|                                      62.0|                         Ouvrier qualifié ...|             18/05/2020|  2ème adjoint au M...|                  27/05/2020|              FR|\n",
      "|   19|                  1|                   Ain|                                         NaN|                                            NaN|              1002| L'Abergement-De-V...|          DEYGOUT|       Philippe|        M|       13/07/1953|                                      13.0|                         Agriculteur sur g...|             18/05/2020|  1er adjoint au Maire|                  27/05/2020|              FR|\n",
      "+-----+-------------------+----------------------+--------------------------------------------+-----------------------------------------------+------------------+---------------------+-----------------+---------------+---------+-----------------+------------------------------------------+---------------------------------------------+-----------------------+----------------------+----------------------------+----------------+\n",
      "only showing top 20 rows\n",
      "\n"
     ]
    },
    {
     "name": "stderr",
     "output_type": "stream",
     "text": [
      "                                                                                \r"
     ]
    }
   ],
   "source": [
    "dfs = spark.createDataFrame(data, schema=schema)\n",
    "dfs.show()"
   ]
  },
  {
   "cell_type": "code",
   "execution_count": 166,
   "id": "cf80249d-ac8b-48ea-a003-d13f70aeb194",
   "metadata": {
    "tags": []
   },
   "outputs": [
    {
     "data": {
      "text/plain": [
       "['index',\n",
       " 'Code du département',\n",
       " 'Libellé du département',\n",
       " 'Code de la collectivité à statut particulier',\n",
       " 'Libellé de la collectivité à statut particulier',\n",
       " 'Code de la commune',\n",
       " 'Libellé de la commune',\n",
       " \"Nom de l'élu\",\n",
       " \"Prénom de l'élu\",\n",
       " 'Code sexe',\n",
       " 'Date de naissance',\n",
       " 'Code de la catégorie socio-professionnelle',\n",
       " 'Libellé de la catégorie socio-professionnelle',\n",
       " 'Date de début du mandat',\n",
       " 'Libellé de la fonction',\n",
       " 'Date de début de la fonction',\n",
       " 'Code nationalité']"
      ]
     },
     "execution_count": 166,
     "metadata": {},
     "output_type": "execute_result"
    }
   ],
   "source": [
    "dfs.columns"
   ]
  },
  {
   "cell_type": "code",
   "execution_count": 167,
   "id": "d167a8fb-c10e-4848-9bdf-067a2d8f0d0d",
   "metadata": {
    "tags": []
   },
   "outputs": [
    {
     "name": "stdout",
     "output_type": "stream",
     "text": [
      "root\n",
      " |-- index: integer (nullable = true)\n",
      " |-- Code du département: string (nullable = true)\n",
      " |-- Libellé du département: string (nullable = true)\n",
      " |-- Code de la collectivité à statut particulier: double (nullable = true)\n",
      " |-- Libellé de la collectivité à statut particulier: string (nullable = true)\n",
      " |-- Code de la commune: string (nullable = true)\n",
      " |-- Libellé de la commune: string (nullable = true)\n",
      " |-- Nom de l'élu: string (nullable = true)\n",
      " |-- Prénom de l'élu: string (nullable = true)\n",
      " |-- Code sexe: string (nullable = true)\n",
      " |-- Date de naissance: string (nullable = true)\n",
      " |-- Code de la catégorie socio-professionnelle: double (nullable = true)\n",
      " |-- Libellé de la catégorie socio-professionnelle: string (nullable = true)\n",
      " |-- Date de début du mandat: string (nullable = true)\n",
      " |-- Libellé de la fonction: string (nullable = true)\n",
      " |-- Date de début de la fonction: string (nullable = true)\n",
      " |-- Code nationalité: string (nullable = true)\n",
      "\n"
     ]
    }
   ],
   "source": [
    "dfs.printSchema()"
   ]
  },
  {
   "cell_type": "code",
   "execution_count": 133,
   "id": "e445914f-6108-42f6-a58d-2e02669e8320",
   "metadata": {
    "tags": []
   },
   "outputs": [
    {
     "name": "stderr",
     "output_type": "stream",
     "text": [
      "2023-04-11 23:23:35,630 WARN scheduler.TaskSetManager: Stage 21 contains a task of very large size (24718 KiB). The maximum recommended task size is 1000 KiB.\n",
      "                                                                                \r"
     ]
    }
   ],
   "source": [
    "dfs.write.mode(\"overwrite\").format(\"parquet\").save(\"data/elu.parquet\")"
   ]
  },
  {
   "cell_type": "code",
   "execution_count": null,
   "id": "dee679c5-3d75-49f1-9fe5-28c6f662279e",
   "metadata": {
    "tags": []
   },
   "outputs": [],
   "source": [
    "dfs.write.csv(\"data/elu.csv\")"
   ]
  },
  {
   "cell_type": "code",
   "execution_count": 168,
   "id": "a2f3d4aa-b790-4a2d-a5d4-482559e12174",
   "metadata": {
    "tags": []
   },
   "outputs": [
    {
     "name": "stdout",
     "output_type": "stream",
     "text": [
      "Found 8 items\n",
      "drwxr-xr-x   - onyxia users       4096 2023-04-11 22:10 .ipynb_checkpoints\n",
      "drwxr-xr-x   - onyxia users       4096 2023-04-11 23:23 data\n",
      "drwxr-xr-x   - onyxia users       4096 2023-04-11 22:37 donnees.parquet\n",
      "drwxr-xr-x   - onyxia users       4096 2023-04-11 22:42 donnees2.parquet\n",
      "-rw-r--r--   1 onyxia users      45488 2023-04-11 23:34 example.ipynb\n",
      "drwxrwx---   - root   users      16384 2023-04-11 21:59 lost+found\n",
      "drwxr-xr-x   - onyxia users       4096 2023-04-11 22:46 train.parquet\n",
      "drwxr-xr-x   - onyxia users       4096 2023-04-11 22:50 ~\n"
     ]
    }
   ],
   "source": [
    "!hdfs dfs -ls"
   ]
  },
  {
   "cell_type": "code",
   "execution_count": 145,
   "id": "cf0430b8-20a5-4fb9-b964-359ed72400a3",
   "metadata": {
    "tags": []
   },
   "outputs": [
    {
     "name": "stdout",
     "output_type": "stream",
     "text": [
      "-ls: Illegal option --help\n",
      "Usage: hadoop fs [generic options]\n",
      "\t[-appendToFile <localsrc> ... <dst>]\n",
      "\t[-cat [-ignoreCrc] <src> ...]\n",
      "\t[-checksum [-v] <src> ...]\n",
      "\t[-chgrp [-R] GROUP PATH...]\n",
      "\t[-chmod [-R] <MODE[,MODE]... | OCTALMODE> PATH...]\n",
      "\t[-chown [-R] [OWNER][:[GROUP]] PATH...]\n",
      "\t[-concat <target path> <src path> <src path> ...]\n",
      "\t[-copyFromLocal [-f] [-p] [-l] [-d] [-t <thread count>] [-q <thread pool queue size>] <localsrc> ... <dst>]\n",
      "\t[-copyToLocal [-f] [-p] [-crc] [-ignoreCrc] [-t <thread count>] [-q <thread pool queue size>] <src> ... <localdst>]\n",
      "\t[-count [-q] [-h] [-v] [-t [<storage type>]] [-u] [-x] [-e] [-s] <path> ...]\n",
      "\t[-cp [-f] [-p | -p[topax]] [-d] [-t <thread count>] [-q <thread pool queue size>] <src> ... <dst>]\n",
      "\t[-createSnapshot <snapshotDir> [<snapshotName>]]\n",
      "\t[-deleteSnapshot <snapshotDir> <snapshotName>]\n",
      "\t[-df [-h] [<path> ...]]\n",
      "\t[-du [-s] [-h] [-v] [-x] <path> ...]\n",
      "\t[-expunge [-immediate] [-fs <path>]]\n",
      "\t[-find <path> ... <expression> ...]\n",
      "\t[-get [-f] [-p] [-crc] [-ignoreCrc] [-t <thread count>] [-q <thread pool queue size>] <src> ... <localdst>]\n",
      "\t[-getfacl [-R] <path>]\n",
      "\t[-getfattr [-R] {-n name | -d} [-e en] <path>]\n",
      "\t[-getmerge [-nl] [-skip-empty-file] <src> <localdst>]\n",
      "\t[-head <file>]\n",
      "\t[-help [cmd ...]]\n",
      "\t[-ls [-C] [-d] [-h] [-q] [-R] [-t] [-S] [-r] [-u] [-e] [<path> ...]]\n",
      "\t[-mkdir [-p] <path> ...]\n",
      "\t[-moveFromLocal [-f] [-p] [-l] [-d] <localsrc> ... <dst>]\n",
      "\t[-moveToLocal <src> <localdst>]\n",
      "\t[-mv <src> ... <dst>]\n",
      "\t[-put [-f] [-p] [-l] [-d] [-t <thread count>] [-q <thread pool queue size>] <localsrc> ... <dst>]\n",
      "\t[-renameSnapshot <snapshotDir> <oldName> <newName>]\n",
      "\t[-rm [-f] [-r|-R] [-skipTrash] [-safely] <src> ...]\n",
      "\t[-rmdir [--ignore-fail-on-non-empty] <dir> ...]\n",
      "\t[-setfacl [-R] [{-b|-k} {-m|-x <acl_spec>} <path>]|[--set <acl_spec> <path>]]\n",
      "\t[-setfattr {-n name [-v value] | -x name} <path>]\n",
      "\t[-setrep [-R] [-w] <rep> <path> ...]\n",
      "\t[-stat [format] <path> ...]\n",
      "\t[-tail [-f] [-s <sleep interval>] <file>]\n",
      "\t[-test -[defswrz] <path>]\n",
      "\t[-text [-ignoreCrc] <src> ...]\n",
      "\t[-touch [-a] [-m] [-t TIMESTAMP (yyyyMMdd:HHmmss) ] [-c] <path> ...]\n",
      "\t[-touchz <path> ...]\n",
      "\t[-truncate [-w] <length> <path> ...]\n",
      "\t[-usage [cmd ...]]\n",
      "\n",
      "Generic options supported are:\n",
      "-conf <configuration file>        specify an application configuration file\n",
      "-D <property=value>               define a value for a given property\n",
      "-fs <file:///|hdfs://namenode:port> specify default filesystem URL to use, overrides 'fs.defaultFS' property from configurations.\n",
      "-jt <local|resourcemanager:port>  specify a ResourceManager\n",
      "-files <file1,...>                specify a comma-separated list of files to be copied to the map reduce cluster\n",
      "-libjars <jar1,...>               specify a comma-separated list of jar files to be included in the classpath\n",
      "-archives <archive1,...>          specify a comma-separated list of archives to be unarchived on the compute machines\n",
      "\n",
      "The general command line syntax is:\n",
      "command [genericOptions] [commandOptions]\n",
      "\n",
      "Usage: hadoop fs [generic options] -ls [-C] [-d] [-h] [-q] [-R] [-t] [-S] [-r] [-u] [-e] [<path> ...]\n"
     ]
    }
   ],
   "source": [
    "!hdfs dfs -ls --help"
   ]
  },
  {
   "cell_type": "code",
   "execution_count": 136,
   "id": "c9f65c67-a52f-4aaf-b1d5-edffd3b9d289",
   "metadata": {
    "tags": []
   },
   "outputs": [
    {
     "name": "stdout",
     "output_type": "stream",
     "text": [
      "Found 1 items\n",
      "-rw-r--r--   1 onyxia users          0 2023-04-11 23:23 data/elu.parquet/_SUCCESS\n"
     ]
    }
   ],
   "source": [
    "!hdfs dfs -ls data/elu.parquet/"
   ]
  },
  {
   "cell_type": "markdown",
   "id": "1fbb63a6-1e5d-4a63-8087-9a0df532ae40",
   "metadata": {},
   "source": [
    "## HDFS"
   ]
  },
  {
   "cell_type": "code",
   "execution_count": 35,
   "id": "4df90fd9-4bd0-4a4d-a974-95c612b712c1",
   "metadata": {
    "tags": []
   },
   "outputs": [
    {
     "name": "stdout",
     "output_type": "stream",
     "text": [
      "Usage: hdfs [OPTIONS] SUBCOMMAND [SUBCOMMAND OPTIONS]\n",
      "\n",
      "  OPTIONS is none or any of:\n",
      "\n",
      "--buildpaths                       attempt to add class files from build tree\n",
      "--config dir                       Hadoop config directory\n",
      "--daemon (start|status|stop)       operate on a daemon\n",
      "--debug                            turn on shell script debug mode\n",
      "--help                             usage information\n",
      "--hostnames list[,of,host,names]   hosts to use in worker mode\n",
      "--hosts filename                   list of hosts to use in worker mode\n",
      "--loglevel level                   set the log4j level for this command\n",
      "--workers                          turn on worker mode\n",
      "\n",
      "  SUBCOMMAND is one of:\n",
      "\n",
      "\n",
      "    Admin Commands:\n",
      "\n",
      "cacheadmin           configure the HDFS cache\n",
      "crypto               configure HDFS encryption zones\n",
      "debug                run a Debug Admin to execute HDFS debug commands\n",
      "dfsadmin             run a DFS admin client\n",
      "dfsrouteradmin       manage Router-based federation\n",
      "ec                   run a HDFS ErasureCoding CLI\n",
      "fsck                 run a DFS filesystem checking utility\n",
      "haadmin              run a DFS HA admin client\n",
      "jmxget               get JMX exported values from NameNode or DataNode.\n",
      "oev                  apply the offline edits viewer to an edits file\n",
      "oiv                  apply the offline fsimage viewer to an fsimage\n",
      "oiv_legacy           apply the offline fsimage viewer to a legacy fsimage\n",
      "storagepolicies      list/get/set/satisfyStoragePolicy block storage policies\n",
      "\n",
      "    Client Commands:\n",
      "\n",
      "classpath            prints the class path needed to get the hadoop jar and\n",
      "                     the required libraries\n",
      "dfs                  run a filesystem command on the file system\n",
      "envvars              display computed Hadoop environment variables\n",
      "fetchdt              fetch a delegation token from the NameNode\n",
      "getconf              get config values from configuration\n",
      "groups               get the groups which users belong to\n",
      "lsSnapshottableDir   list all snapshottable dirs owned by the current user\n",
      "snapshotDiff         diff two snapshots of a directory or diff the current\n",
      "                     directory contents with a snapshot\n",
      "version              print the version\n",
      "\n",
      "    Daemon Commands:\n",
      "\n",
      "balancer             run a cluster balancing utility\n",
      "datanode             run a DFS datanode\n",
      "dfsrouter            run the DFS router\n",
      "diskbalancer         Distributes data evenly among disks on a given node\n",
      "journalnode          run the DFS journalnode\n",
      "mover                run a utility to move block replicas across storage types\n",
      "namenode             run the DFS namenode\n",
      "nfs3                 run an NFS version 3 gateway\n",
      "portmap              run a portmap service\n",
      "secondarynamenode    run the DFS secondary namenode\n",
      "sps                  run external storagepolicysatisfier\n",
      "zkfc                 run the ZK Failover Controller daemon\n",
      "\n",
      "SUBCOMMAND may print help when invoked w/o parameters or with -h.\n"
     ]
    }
   ],
   "source": [
    "!hdfs --help"
   ]
  },
  {
   "cell_type": "code",
   "execution_count": 36,
   "id": "bf54e27a-c8b6-4cdb-b532-ddb151515d44",
   "metadata": {
    "tags": []
   },
   "outputs": [
    {
     "name": "stdout",
     "output_type": "stream",
     "text": [
      "--help: Unknown command\n",
      "Usage: hadoop fs [generic options]\n",
      "\t[-appendToFile <localsrc> ... <dst>]\n",
      "\t[-cat [-ignoreCrc] <src> ...]\n",
      "\t[-checksum [-v] <src> ...]\n",
      "\t[-chgrp [-R] GROUP PATH...]\n",
      "\t[-chmod [-R] <MODE[,MODE]... | OCTALMODE> PATH...]\n",
      "\t[-chown [-R] [OWNER][:[GROUP]] PATH...]\n",
      "\t[-concat <target path> <src path> <src path> ...]\n",
      "\t[-copyFromLocal [-f] [-p] [-l] [-d] [-t <thread count>] [-q <thread pool queue size>] <localsrc> ... <dst>]\n",
      "\t[-copyToLocal [-f] [-p] [-crc] [-ignoreCrc] [-t <thread count>] [-q <thread pool queue size>] <src> ... <localdst>]\n",
      "\t[-count [-q] [-h] [-v] [-t [<storage type>]] [-u] [-x] [-e] [-s] <path> ...]\n",
      "\t[-cp [-f] [-p | -p[topax]] [-d] [-t <thread count>] [-q <thread pool queue size>] <src> ... <dst>]\n",
      "\t[-createSnapshot <snapshotDir> [<snapshotName>]]\n",
      "\t[-deleteSnapshot <snapshotDir> <snapshotName>]\n",
      "\t[-df [-h] [<path> ...]]\n",
      "\t[-du [-s] [-h] [-v] [-x] <path> ...]\n",
      "\t[-expunge [-immediate] [-fs <path>]]\n",
      "\t[-find <path> ... <expression> ...]\n",
      "\t[-get [-f] [-p] [-crc] [-ignoreCrc] [-t <thread count>] [-q <thread pool queue size>] <src> ... <localdst>]\n",
      "\t[-getfacl [-R] <path>]\n",
      "\t[-getfattr [-R] {-n name | -d} [-e en] <path>]\n",
      "\t[-getmerge [-nl] [-skip-empty-file] <src> <localdst>]\n",
      "\t[-head <file>]\n",
      "\t[-help [cmd ...]]\n",
      "\t[-ls [-C] [-d] [-h] [-q] [-R] [-t] [-S] [-r] [-u] [-e] [<path> ...]]\n",
      "\t[-mkdir [-p] <path> ...]\n",
      "\t[-moveFromLocal [-f] [-p] [-l] [-d] <localsrc> ... <dst>]\n",
      "\t[-moveToLocal <src> <localdst>]\n",
      "\t[-mv <src> ... <dst>]\n",
      "\t[-put [-f] [-p] [-l] [-d] [-t <thread count>] [-q <thread pool queue size>] <localsrc> ... <dst>]\n",
      "\t[-renameSnapshot <snapshotDir> <oldName> <newName>]\n",
      "\t[-rm [-f] [-r|-R] [-skipTrash] [-safely] <src> ...]\n",
      "\t[-rmdir [--ignore-fail-on-non-empty] <dir> ...]\n",
      "\t[-setfacl [-R] [{-b|-k} {-m|-x <acl_spec>} <path>]|[--set <acl_spec> <path>]]\n",
      "\t[-setfattr {-n name [-v value] | -x name} <path>]\n",
      "\t[-setrep [-R] [-w] <rep> <path> ...]\n",
      "\t[-stat [format] <path> ...]\n",
      "\t[-tail [-f] [-s <sleep interval>] <file>]\n",
      "\t[-test -[defswrz] <path>]\n",
      "\t[-text [-ignoreCrc] <src> ...]\n",
      "\t[-touch [-a] [-m] [-t TIMESTAMP (yyyyMMdd:HHmmss) ] [-c] <path> ...]\n",
      "\t[-touchz <path> ...]\n",
      "\t[-truncate [-w] <length> <path> ...]\n",
      "\t[-usage [cmd ...]]\n",
      "\n",
      "Generic options supported are:\n",
      "-conf <configuration file>        specify an application configuration file\n",
      "-D <property=value>               define a value for a given property\n",
      "-fs <file:///|hdfs://namenode:port> specify default filesystem URL to use, overrides 'fs.defaultFS' property from configurations.\n",
      "-jt <local|resourcemanager:port>  specify a ResourceManager\n",
      "-files <file1,...>                specify a comma-separated list of files to be copied to the map reduce cluster\n",
      "-libjars <jar1,...>               specify a comma-separated list of jar files to be included in the classpath\n",
      "-archives <archive1,...>          specify a comma-separated list of archives to be unarchived on the compute machines\n",
      "\n",
      "The general command line syntax is:\n",
      "command [genericOptions] [commandOptions]\n",
      "\n"
     ]
    }
   ],
   "source": [
    "!hdfs dfs --help"
   ]
  },
  {
   "cell_type": "code",
   "execution_count": 124,
   "id": "ad8053d2-4717-42de-ab4c-5beae2f91c7c",
   "metadata": {
    "tags": []
   },
   "outputs": [
    {
     "name": "stdout",
     "output_type": "stream",
     "text": [
      "43955  43955  example.ipynb\n",
      "0      0      lost+found\n",
      "0      0      donnees2.parquet\n",
      "0      0      ~\n",
      "0      0      train.parquet\n",
      "0      0      data\n",
      "23179  23179  .ipynb_checkpoints\n",
      "0      0      donnees.parquet\n"
     ]
    }
   ],
   "source": [
    "!hdfs dfs -du"
   ]
  },
  {
   "cell_type": "markdown",
   "id": "a88d041a-cf16-4b9c-9d06-d40b4c39030d",
   "metadata": {},
   "source": [
    "## Lecture"
   ]
  },
  {
   "cell_type": "code",
   "execution_count": 117,
   "id": "755b73f6-c8fd-4614-a108-d6d54ba34d34",
   "metadata": {
    "tags": []
   },
   "outputs": [
    {
     "ename": "AnalysisException",
     "evalue": "Unable to infer schema for CSV. It must be specified manually.",
     "output_type": "error",
     "traceback": [
      "\u001b[0;31m---------------------------------------------------------------------------\u001b[0m",
      "\u001b[0;31mAnalysisException\u001b[0m                         Traceback (most recent call last)",
      "Cell \u001b[0;32mIn[117], line 1\u001b[0m\n\u001b[0;32m----> 1\u001b[0m df2 \u001b[38;5;241m=\u001b[39m \u001b[43mspark\u001b[49m\u001b[38;5;241;43m.\u001b[39;49m\u001b[43mread\u001b[49m\u001b[38;5;241;43m.\u001b[39;49m\u001b[43mcsv\u001b[49m\u001b[43m(\u001b[49m\u001b[38;5;124;43m\"\u001b[39;49m\u001b[38;5;124;43mdata/elu.csv/\u001b[39;49m\u001b[38;5;124;43m\"\u001b[39;49m\u001b[43m)\u001b[49m\n",
      "File \u001b[0;32m/opt/spark/python/pyspark/sql/readwriter.py:535\u001b[0m, in \u001b[0;36mDataFrameReader.csv\u001b[0;34m(self, path, schema, sep, encoding, quote, escape, comment, header, inferSchema, ignoreLeadingWhiteSpace, ignoreTrailingWhiteSpace, nullValue, nanValue, positiveInf, negativeInf, dateFormat, timestampFormat, maxColumns, maxCharsPerColumn, maxMalformedLogPerPartition, mode, columnNameOfCorruptRecord, multiLine, charToEscapeQuoteEscaping, samplingRatio, enforceSchema, emptyValue, locale, lineSep, pathGlobFilter, recursiveFileLookup, modifiedBefore, modifiedAfter, unescapedQuoteHandling)\u001b[0m\n\u001b[1;32m    533\u001b[0m \u001b[38;5;28;01mif\u001b[39;00m \u001b[38;5;28mtype\u001b[39m(path) \u001b[38;5;241m==\u001b[39m \u001b[38;5;28mlist\u001b[39m:\n\u001b[1;32m    534\u001b[0m     \u001b[38;5;28;01massert\u001b[39;00m \u001b[38;5;28mself\u001b[39m\u001b[38;5;241m.\u001b[39m_spark\u001b[38;5;241m.\u001b[39m_sc\u001b[38;5;241m.\u001b[39m_jvm \u001b[38;5;129;01mis\u001b[39;00m \u001b[38;5;129;01mnot\u001b[39;00m \u001b[38;5;28;01mNone\u001b[39;00m\n\u001b[0;32m--> 535\u001b[0m     \u001b[38;5;28;01mreturn\u001b[39;00m \u001b[38;5;28mself\u001b[39m\u001b[38;5;241m.\u001b[39m_df(\u001b[38;5;28;43mself\u001b[39;49m\u001b[38;5;241;43m.\u001b[39;49m\u001b[43m_jreader\u001b[49m\u001b[38;5;241;43m.\u001b[39;49m\u001b[43mcsv\u001b[49m\u001b[43m(\u001b[49m\u001b[38;5;28;43mself\u001b[39;49m\u001b[38;5;241;43m.\u001b[39;49m\u001b[43m_spark\u001b[49m\u001b[38;5;241;43m.\u001b[39;49m\u001b[43m_sc\u001b[49m\u001b[38;5;241;43m.\u001b[39;49m\u001b[43m_jvm\u001b[49m\u001b[38;5;241;43m.\u001b[39;49m\u001b[43mPythonUtils\u001b[49m\u001b[38;5;241;43m.\u001b[39;49m\u001b[43mtoSeq\u001b[49m\u001b[43m(\u001b[49m\u001b[43mpath\u001b[49m\u001b[43m)\u001b[49m\u001b[43m)\u001b[49m)\n\u001b[1;32m    536\u001b[0m \u001b[38;5;28;01melif\u001b[39;00m \u001b[38;5;28misinstance\u001b[39m(path, RDD):\n\u001b[1;32m    538\u001b[0m     \u001b[38;5;28;01mdef\u001b[39;00m \u001b[38;5;21mfunc\u001b[39m(iterator):\n",
      "File \u001b[0;32m/opt/spark/python/lib/py4j-0.10.9.5-src.zip/py4j/java_gateway.py:1321\u001b[0m, in \u001b[0;36mJavaMember.__call__\u001b[0;34m(self, *args)\u001b[0m\n\u001b[1;32m   1315\u001b[0m command \u001b[38;5;241m=\u001b[39m proto\u001b[38;5;241m.\u001b[39mCALL_COMMAND_NAME \u001b[38;5;241m+\u001b[39m\\\n\u001b[1;32m   1316\u001b[0m     \u001b[38;5;28mself\u001b[39m\u001b[38;5;241m.\u001b[39mcommand_header \u001b[38;5;241m+\u001b[39m\\\n\u001b[1;32m   1317\u001b[0m     args_command \u001b[38;5;241m+\u001b[39m\\\n\u001b[1;32m   1318\u001b[0m     proto\u001b[38;5;241m.\u001b[39mEND_COMMAND_PART\n\u001b[1;32m   1320\u001b[0m answer \u001b[38;5;241m=\u001b[39m \u001b[38;5;28mself\u001b[39m\u001b[38;5;241m.\u001b[39mgateway_client\u001b[38;5;241m.\u001b[39msend_command(command)\n\u001b[0;32m-> 1321\u001b[0m return_value \u001b[38;5;241m=\u001b[39m \u001b[43mget_return_value\u001b[49m\u001b[43m(\u001b[49m\n\u001b[1;32m   1322\u001b[0m \u001b[43m    \u001b[49m\u001b[43manswer\u001b[49m\u001b[43m,\u001b[49m\u001b[43m \u001b[49m\u001b[38;5;28;43mself\u001b[39;49m\u001b[38;5;241;43m.\u001b[39;49m\u001b[43mgateway_client\u001b[49m\u001b[43m,\u001b[49m\u001b[43m \u001b[49m\u001b[38;5;28;43mself\u001b[39;49m\u001b[38;5;241;43m.\u001b[39;49m\u001b[43mtarget_id\u001b[49m\u001b[43m,\u001b[49m\u001b[43m \u001b[49m\u001b[38;5;28;43mself\u001b[39;49m\u001b[38;5;241;43m.\u001b[39;49m\u001b[43mname\u001b[49m\u001b[43m)\u001b[49m\n\u001b[1;32m   1324\u001b[0m \u001b[38;5;28;01mfor\u001b[39;00m temp_arg \u001b[38;5;129;01min\u001b[39;00m temp_args:\n\u001b[1;32m   1325\u001b[0m     temp_arg\u001b[38;5;241m.\u001b[39m_detach()\n",
      "File \u001b[0;32m/opt/spark/python/pyspark/sql/utils.py:196\u001b[0m, in \u001b[0;36mcapture_sql_exception.<locals>.deco\u001b[0;34m(*a, **kw)\u001b[0m\n\u001b[1;32m    192\u001b[0m converted \u001b[38;5;241m=\u001b[39m convert_exception(e\u001b[38;5;241m.\u001b[39mjava_exception)\n\u001b[1;32m    193\u001b[0m \u001b[38;5;28;01mif\u001b[39;00m \u001b[38;5;129;01mnot\u001b[39;00m \u001b[38;5;28misinstance\u001b[39m(converted, UnknownException):\n\u001b[1;32m    194\u001b[0m     \u001b[38;5;66;03m# Hide where the exception came from that shows a non-Pythonic\u001b[39;00m\n\u001b[1;32m    195\u001b[0m     \u001b[38;5;66;03m# JVM exception message.\u001b[39;00m\n\u001b[0;32m--> 196\u001b[0m     \u001b[38;5;28;01mraise\u001b[39;00m converted \u001b[38;5;28;01mfrom\u001b[39;00m \u001b[38;5;28mNone\u001b[39m\n\u001b[1;32m    197\u001b[0m \u001b[38;5;28;01melse\u001b[39;00m:\n\u001b[1;32m    198\u001b[0m     \u001b[38;5;28;01mraise\u001b[39;00m\n",
      "\u001b[0;31mAnalysisException\u001b[0m: Unable to infer schema for CSV. It must be specified manually."
     ]
    }
   ],
   "source": [
    "df2 = spark.read.csv(\"data/elu.csv/\")"
   ]
  },
  {
   "cell_type": "markdown",
   "id": "96347606-1e09-4ff0-8c0b-00b8a9e3364b",
   "metadata": {},
   "source": [
    "## Group by"
   ]
  },
  {
   "cell_type": "code",
   "execution_count": 169,
   "id": "45ce6d79-307e-45be-b80d-69395eb600ca",
   "metadata": {
    "tags": []
   },
   "outputs": [
    {
     "name": "stdout",
     "output_type": "stream",
     "text": [
      "root\n",
      " |-- index: integer (nullable = true)\n",
      " |-- Code du département: string (nullable = true)\n",
      " |-- Libellé du département: string (nullable = true)\n",
      " |-- Code de la collectivité à statut particulier: double (nullable = true)\n",
      " |-- Libellé de la collectivité à statut particulier: string (nullable = true)\n",
      " |-- Code de la commune: string (nullable = true)\n",
      " |-- Libellé de la commune: string (nullable = true)\n",
      " |-- Nom de l'élu: string (nullable = true)\n",
      " |-- Prénom de l'élu: string (nullable = true)\n",
      " |-- Code sexe: string (nullable = true)\n",
      " |-- Date de naissance: string (nullable = true)\n",
      " |-- Code de la catégorie socio-professionnelle: double (nullable = true)\n",
      " |-- Libellé de la catégorie socio-professionnelle: string (nullable = true)\n",
      " |-- Date de début du mandat: string (nullable = true)\n",
      " |-- Libellé de la fonction: string (nullable = true)\n",
      " |-- Date de début de la fonction: string (nullable = true)\n",
      " |-- Code nationalité: string (nullable = true)\n",
      "\n"
     ]
    }
   ],
   "source": [
    "dfs.printSchema()"
   ]
  },
  {
   "cell_type": "code",
   "execution_count": 189,
   "id": "abbda9c5-caea-4486-838e-cd91cd0a3b42",
   "metadata": {
    "tags": []
   },
   "outputs": [],
   "source": [
    "from pyspark.sql.functions import split\n",
    "from pyspark.sql.functions import col\n",
    "\n",
    "dfs_new = dfs.withColumn(\"année_naissance\", split(col(\"Date de naissance\"), \"/\")[2])"
   ]
  },
  {
   "cell_type": "code",
   "execution_count": 190,
   "id": "21812721-54ee-45ae-9a5c-e756a616757d",
   "metadata": {
    "tags": []
   },
   "outputs": [
    {
     "data": {
      "text/plain": [
       "DataFrame[année_naissance: string, count: bigint]"
      ]
     },
     "execution_count": 190,
     "metadata": {},
     "output_type": "execute_result"
    }
   ],
   "source": [
    "gr = dfs_new.groupBy(\"année_naissance\").count()\n",
    "gr"
   ]
  },
  {
   "cell_type": "code",
   "execution_count": 191,
   "id": "844f1ca3-992b-4868-9318-c0cc2d04635a",
   "metadata": {
    "tags": []
   },
   "outputs": [
    {
     "name": "stderr",
     "output_type": "stream",
     "text": [
      "2023-04-11 23:46:58,186 WARN scheduler.TaskSetManager: Stage 40 contains a task of very large size (24718 KiB). The maximum recommended task size is 1000 KiB.\n",
      "                                                                                \r"
     ]
    },
    {
     "data": {
      "text/plain": [
       "[Row(année_naissance='1953', count=10747),\n",
       " Row(année_naissance='1957', count=13411),\n",
       " Row(année_naissance='1987', count=6161),\n",
       " Row(année_naissance='1956', count=12842),\n",
       " Row(année_naissance='1936', count=136),\n",
       " Row(année_naissance='1958', count=12967),\n",
       " Row(année_naissance='1943', count=1511),\n",
       " Row(année_naissance='1972', count=13908),\n",
       " Row(année_naissance='1931', count=9),\n",
       " Row(année_naissance='1988', count=5327),\n",
       " Row(année_naissance='1938', count=287),\n",
       " Row(année_naissance='1926', count=1),\n",
       " Row(année_naissance='1932', count=31),\n",
       " Row(année_naissance='1977', count=11566),\n",
       " Row(année_naissance='1971', count=13662),\n",
       " Row(année_naissance='1984', count=8382),\n",
       " Row(année_naissance='1982', count=9919),\n",
       " Row(année_naissance='1941', count=713),\n",
       " Row(année_naissance='2000', count=763),\n",
       " Row(année_naissance='1965', count=12163),\n",
       " Row(année_naissance='1962', count=12185),\n",
       " Row(année_naissance='1954', count=11571),\n",
       " Row(année_naissance='1930', count=9),\n",
       " Row(année_naissance='1981', count=10592),\n",
       " Row(année_naissance='1940', count=501),\n",
       " Row(année_naissance='1978', count=11247),\n",
       " Row(année_naissance='1974', count=12948),\n",
       " Row(année_naissance='1959', count=13435),\n",
       " Row(année_naissance='2002', count=77),\n",
       " Row(année_naissance='1995', count=1704),\n",
       " Row(année_naissance='1964', count=12404),\n",
       " Row(année_naissance='1946', count=4560),\n",
       " Row(année_naissance='1927', count=5),\n",
       " Row(année_naissance='1976', count=11403),\n",
       " Row(année_naissance='1942', count=1160),\n",
       " Row(année_naissance='1935', count=90),\n",
       " Row(année_naissance='1947', count=5902),\n",
       " Row(année_naissance='1967', count=11966),\n",
       " Row(année_naissance='1968', count=12308),\n",
       " Row(année_naissance='1989', count=4667),\n",
       " Row(année_naissance='1939', count=391),\n",
       " Row(année_naissance='1992', count=2955),\n",
       " Row(année_naissance='1961', count=12516),\n",
       " Row(année_naissance='1951', count=9050),\n",
       " Row(année_naissance='1966', count=12251),\n",
       " Row(année_naissance='1955', count=12116),\n",
       " Row(année_naissance='1999', count=884),\n",
       " Row(année_naissance='1963', count=12192),\n",
       " Row(année_naissance='1994', count=1925),\n",
       " Row(année_naissance='1950', count=8213),\n",
       " Row(année_naissance='1997', count=1229),\n",
       " Row(année_naissance='1973', count=13692),\n",
       " Row(année_naissance='1925', count=1),\n",
       " Row(année_naissance='1996', count=1382),\n",
       " Row(année_naissance='1983', count=8723),\n",
       " Row(année_naissance='1969', count=12720),\n",
       " Row(année_naissance='1980', count=11102),\n",
       " Row(année_naissance='1881', count=1),\n",
       " Row(année_naissance='1944', count=2086),\n",
       " Row(année_naissance='1960', count=12716),\n",
       " Row(année_naissance='1934', count=51),\n",
       " Row(année_naissance='1937', count=195),\n",
       " Row(année_naissance='1948', count=6681),\n",
       " Row(année_naissance='1986', count=6944),\n",
       " Row(année_naissance='1952', count=10236),\n",
       " Row(année_naissance='1985', count=7700),\n",
       " Row(année_naissance='1929', count=9),\n",
       " Row(année_naissance='1979', count=10944),\n",
       " Row(année_naissance='1998', count=1045),\n",
       " Row(année_naissance='1949', count=7465),\n",
       " Row(année_naissance='1993', count=2378),\n",
       " Row(année_naissance='2001', count=545),\n",
       " Row(année_naissance='0975', count=1),\n",
       " Row(année_naissance='1990', count=3980),\n",
       " Row(année_naissance='1991', count=3300),\n",
       " Row(année_naissance='2003', count=10),\n",
       " Row(année_naissance='1928', count=5),\n",
       " Row(année_naissance='1945', count=2699),\n",
       " Row(année_naissance='1975', count=11971),\n",
       " Row(année_naissance='1970', count=13085),\n",
       " Row(année_naissance='1933', count=29),\n",
       " Row(année_naissance='0974', count=1)]"
      ]
     },
     "execution_count": 191,
     "metadata": {},
     "output_type": "execute_result"
    }
   ],
   "source": [
    "grexe = gr.collect()\n",
    "grexe"
   ]
  },
  {
   "cell_type": "code",
   "execution_count": 192,
   "id": "467128ca-bd8b-4d2a-b2a5-74c9a191f808",
   "metadata": {
    "tags": []
   },
   "outputs": [
    {
     "data": {
      "text/html": [
       "<div>\n",
       "<style scoped>\n",
       "    .dataframe tbody tr th:only-of-type {\n",
       "        vertical-align: middle;\n",
       "    }\n",
       "\n",
       "    .dataframe tbody tr th {\n",
       "        vertical-align: top;\n",
       "    }\n",
       "\n",
       "    .dataframe thead th {\n",
       "        text-align: right;\n",
       "    }\n",
       "</style>\n",
       "<table border=\"1\" class=\"dataframe\">\n",
       "  <thead>\n",
       "    <tr style=\"text-align: right;\">\n",
       "      <th></th>\n",
       "      <th>année_naissance</th>\n",
       "      <th>count</th>\n",
       "    </tr>\n",
       "  </thead>\n",
       "  <tbody>\n",
       "    <tr>\n",
       "      <th>0</th>\n",
       "      <td>1953</td>\n",
       "      <td>10747</td>\n",
       "    </tr>\n",
       "    <tr>\n",
       "      <th>1</th>\n",
       "      <td>1957</td>\n",
       "      <td>13411</td>\n",
       "    </tr>\n",
       "    <tr>\n",
       "      <th>2</th>\n",
       "      <td>1987</td>\n",
       "      <td>6161</td>\n",
       "    </tr>\n",
       "    <tr>\n",
       "      <th>3</th>\n",
       "      <td>1956</td>\n",
       "      <td>12842</td>\n",
       "    </tr>\n",
       "    <tr>\n",
       "      <th>4</th>\n",
       "      <td>1936</td>\n",
       "      <td>136</td>\n",
       "    </tr>\n",
       "    <tr>\n",
       "      <th>...</th>\n",
       "      <td>...</td>\n",
       "      <td>...</td>\n",
       "    </tr>\n",
       "    <tr>\n",
       "      <th>77</th>\n",
       "      <td>1933</td>\n",
       "      <td>29</td>\n",
       "    </tr>\n",
       "    <tr>\n",
       "      <th>78</th>\n",
       "      <td>1926</td>\n",
       "      <td>1</td>\n",
       "    </tr>\n",
       "    <tr>\n",
       "      <th>79</th>\n",
       "      <td>1925</td>\n",
       "      <td>1</td>\n",
       "    </tr>\n",
       "    <tr>\n",
       "      <th>80</th>\n",
       "      <td>1881</td>\n",
       "      <td>1</td>\n",
       "    </tr>\n",
       "    <tr>\n",
       "      <th>81</th>\n",
       "      <td>0975</td>\n",
       "      <td>1</td>\n",
       "    </tr>\n",
       "  </tbody>\n",
       "</table>\n",
       "<p>82 rows × 2 columns</p>\n",
       "</div>"
      ],
      "text/plain": [
       "   année_naissance  count\n",
       "0             1953  10747\n",
       "1             1957  13411\n",
       "2             1987   6161\n",
       "3             1956  12842\n",
       "4             1936    136\n",
       "..             ...    ...\n",
       "77            1933     29\n",
       "78            1926      1\n",
       "79            1925      1\n",
       "80            1881      1\n",
       "81            0975      1\n",
       "\n",
       "[82 rows x 2 columns]"
      ]
     },
     "execution_count": 192,
     "metadata": {},
     "output_type": "execute_result"
    }
   ],
   "source": [
    "pdf = gr.toPandas()\n",
    "pdf"
   ]
  },
  {
   "cell_type": "code",
   "execution_count": 194,
   "id": "ccf19ed2-0875-4a6e-ac5c-55a0f538ea8f",
   "metadata": {
    "tags": []
   },
   "outputs": [
    {
     "name": "stdout",
     "output_type": "stream",
     "text": [
      "Collecting matplotlib\n",
      "  Downloading matplotlib-3.7.1-cp310-cp310-manylinux_2_17_x86_64.manylinux2014_x86_64.whl (11.6 MB)\n",
      "\u001b[2K     \u001b[90m━━━━━━━━━━━━━━━━━━━━━━━━━━━━━━━━━━━━━━━━\u001b[0m \u001b[32m11.6/11.6 MB\u001b[0m \u001b[31m28.8 MB/s\u001b[0m eta \u001b[36m0:00:00\u001b[0m00:01\u001b[0m00:01\u001b[0m\n",
      "\u001b[?25hCollecting cycler>=0.10\n",
      "  Downloading cycler-0.11.0-py3-none-any.whl (6.4 kB)\n",
      "Collecting fonttools>=4.22.0\n",
      "  Downloading fonttools-4.39.3-py3-none-any.whl (1.0 MB)\n",
      "\u001b[2K     \u001b[90m━━━━━━━━━━━━━━━━━━━━━━━━━━━━━━━━━━━━━━━━\u001b[0m \u001b[32m1.0/1.0 MB\u001b[0m \u001b[31m26.3 MB/s\u001b[0m eta \u001b[36m0:00:00\u001b[0m00:01\u001b[0m\n",
      "\u001b[?25hRequirement already satisfied: numpy>=1.20 in /opt/mamba/lib/python3.10/site-packages (from matplotlib) (1.24.2)\n",
      "Collecting contourpy>=1.0.1\n",
      "  Downloading contourpy-1.0.7-cp310-cp310-manylinux_2_17_x86_64.manylinux2014_x86_64.whl (300 kB)\n",
      "\u001b[2K     \u001b[90m━━━━━━━━━━━━━━━━━━━━━━━━━━━━━━━━━━━━━━\u001b[0m \u001b[32m300.3/300.3 kB\u001b[0m \u001b[31m46.8 MB/s\u001b[0m eta \u001b[36m0:00:00\u001b[0m\n",
      "\u001b[?25hCollecting kiwisolver>=1.0.1\n",
      "  Downloading kiwisolver-1.4.4-cp310-cp310-manylinux_2_12_x86_64.manylinux2010_x86_64.whl (1.6 MB)\n",
      "\u001b[2K     \u001b[90m━━━━━━━━━━━━━━━━━━━━━━━━━━━━━━━━━━━━━━━━\u001b[0m \u001b[32m1.6/1.6 MB\u001b[0m \u001b[31m26.2 MB/s\u001b[0m eta \u001b[36m0:00:00\u001b[0ma \u001b[36m0:00:01\u001b[0m\n",
      "\u001b[?25hCollecting pillow>=6.2.0\n",
      "  Downloading Pillow-9.5.0-cp310-cp310-manylinux_2_28_x86_64.whl (3.4 MB)\n",
      "\u001b[2K     \u001b[90m━━━━━━━━━━━━━━━━━━━━━━━━━━━━━━━━━━━━━━━━\u001b[0m \u001b[32m3.4/3.4 MB\u001b[0m \u001b[31m27.5 MB/s\u001b[0m eta \u001b[36m0:00:00\u001b[0ma \u001b[36m0:00:01\u001b[0m\n",
      "\u001b[?25hRequirement already satisfied: python-dateutil>=2.7 in /opt/mamba/lib/python3.10/site-packages (from matplotlib) (2.8.2)\n",
      "Requirement already satisfied: packaging>=20.0 in /opt/mamba/lib/python3.10/site-packages (from matplotlib) (23.0)\n",
      "Collecting pyparsing>=2.3.1\n",
      "  Downloading pyparsing-3.0.9-py3-none-any.whl (98 kB)\n",
      "\u001b[2K     \u001b[90m━━━━━━━━━━━━━━━━━━━━━━━━━━━━━━━━━━━━━━━━\u001b[0m \u001b[32m98.3/98.3 kB\u001b[0m \u001b[31m27.6 MB/s\u001b[0m eta \u001b[36m0:00:00\u001b[0m\n",
      "\u001b[?25hRequirement already satisfied: six>=1.5 in /opt/mamba/lib/python3.10/site-packages (from python-dateutil>=2.7->matplotlib) (1.16.0)\n",
      "Installing collected packages: pyparsing, pillow, kiwisolver, fonttools, cycler, contourpy, matplotlib\n",
      "Successfully installed contourpy-1.0.7 cycler-0.11.0 fonttools-4.39.3 kiwisolver-1.4.4 matplotlib-3.7.1 pillow-9.5.0 pyparsing-3.0.9\n"
     ]
    }
   ],
   "source": [
    "!pip install matplotlib"
   ]
  },
  {
   "cell_type": "code",
   "execution_count": 197,
   "id": "ec55e391-d31a-4431-b7d0-253a03ba0bf4",
   "metadata": {
    "tags": []
   },
   "outputs": [
    {
     "data": {
      "text/plain": [
       "<Axes: xlabel='année_naissance', ylabel='count'>"
      ]
     },
     "execution_count": 197,
     "metadata": {},
     "output_type": "execute_result"
    },
    {
     "data": {
      "image/png": "[encoded data removed]",
      "text/plain": [
       "<Figure size 640x480 with 1 Axes>"
      ]
     },
     "metadata": {},
     "output_type": "display_data"
    }
   ],
   "source": [
    "pdf.plot.scatter(x=\"année_naissance\", y=\"count\")"
   ]
  },
  {
   "cell_type": "markdown",
   "id": "a3958191-60e0-4ca8-8210-85a96b090f74",
   "metadata": {},
   "source": [
    "## Mllib"
   ]
  },
  {
   "cell_type": "code",
   "execution_count": 198,
   "id": "a5585c3a-0512-485d-a89d-1754bbf2aa72",
   "metadata": {
    "tags": []
   },
   "outputs": [],
   "source": [
    "from pyspark.ml.regression import LinearRegression"
   ]
  },
  {
   "cell_type": "code",
   "execution_count": null,
   "id": "ecfa0e61-c2ca-4a53-9b5f-b58b9b1f0105",
   "metadata": {},
   "outputs": [],
   "source": []
  }
 ],
 "metadata": {
  "kernelspec": {
   "display_name": "Python 3 (ipykernel)",
   "language": "python",
   "name": "python3"
  },
  "language_info": {
   "codemirror_mode": {
    "name": "ipython",
    "version": 3
   },
   "file_extension": ".py",
   "mimetype": "text/x-python",
   "name": "python",
   "nbconvert_exporter": "python",
   "pygments_lexer": "ipython3",
   "version": "3.10.9"
  }
 },
 "nbformat": 4,
 "nbformat_minor": 5
}
