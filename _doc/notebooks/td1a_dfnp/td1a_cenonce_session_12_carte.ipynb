{
  "cells": [
    {
      "cell_type": "markdown",
      "metadata": {},
      "source": [
        "# 1A.data - Visualisation des donn\u00e9es - cartes\n",
        "\n",
        "Les cartes sont probablement les graphes les plus longs \u00e0 mettre en place. Si les coordonn\u00e9es longitude lattitude sont les plus utilis\u00e9es, il est possible de les consid\u00e9rer comme des coordonn\u00e9es carth\u00e9siennes sur une grande surface (sph\u00e9rique). Il faut passer par une projection sp\u00e9cifique dans le plan. Il faut \u00e9galement ajouter des rep\u00e8res g\u00e9ographiques pour lire efficacement une carte comme les fronti\u00e8res des pays, les rivi\u00e8res... Tout \u00e7a prend du temps."
      ]
    },
    {
      "cell_type": "code",
      "execution_count": 1,
      "metadata": {},
      "outputs": [],
      "source": [
        "%matplotlib inline"
      ]
    },
    {
      "cell_type": "code",
      "execution_count": 2,
      "metadata": {},
      "outputs": [
        {
          "data": {
            "text/html": [
              "<div id=\"my_id_menu_nb\">run previous cell, wait for 2 seconds</div>\n",
              "<script>\n",
              "function repeat_indent_string(n){\n",
              "    var a = \"\" ;\n",
              "    for ( ; n > 0 ; --n)\n",
              "        a += \"    \";\n",
              "    return a;\n",
              "}\n",
              "// look up into all sections and builds an automated menu //\n",
              "var update_menu_string = function(begin, lfirst, llast, sformat, send, keep_item, begin_format, end_format) {\n",
              "    var anchors = document.getElementsByClassName(\"section\");\n",
              "    if (anchors.length == 0) {\n",
              "        anchors = document.getElementsByClassName(\"text_cell_render rendered_html\");\n",
              "    }\n",
              "    var i,t;\n",
              "    var text_menu = begin;\n",
              "    var text_memo = \"<pre>\\nlength:\" + anchors.length + \"\\n\";\n",
              "    var ind = \"\";\n",
              "    var memo_level = 1;\n",
              "    var href;\n",
              "    var tags = [];\n",
              "    var main_item = 0;\n",
              "    var format_open = 0;\n",
              "    for (i = 0; i <= llast; i++)\n",
              "        tags.push(\"h\" + i);\n",
              "\n",
              "    for (i = 0; i < anchors.length; i++) {\n",
              "        text_memo += \"**\" + anchors[i].id + \"--\\n\";\n",
              "\n",
              "        var child = null;\n",
              "        for(t = 0; t < tags.length; t++) {\n",
              "            var r = anchors[i].getElementsByTagName(tags[t]);\n",
              "            if (r.length > 0) {\n",
              "child = r[0];\n",
              "break;\n",
              "            }\n",
              "        }\n",
              "        if (child == null) {\n",
              "            text_memo += \"null\\n\";\n",
              "            continue;\n",
              "        }\n",
              "        if (anchors[i].hasAttribute(\"id\")) {\n",
              "            // when converted in RST\n",
              "            href = anchors[i].id;\n",
              "            text_memo += \"#1-\" + href;\n",
              "            // passer \u00e0 child suivant (le chercher)\n",
              "        }\n",
              "        else if (child.hasAttribute(\"id\")) {\n",
              "            // in a notebook\n",
              "            href = child.id;\n",
              "            text_memo += \"#2-\" + href;\n",
              "        }\n",
              "        else {\n",
              "            text_memo += \"#3-\" + \"*\" + \"\\n\";\n",
              "            continue;\n",
              "        }\n",
              "        var title = child.textContent;\n",
              "        var level = parseInt(child.tagName.substring(1,2));\n",
              "\n",
              "        text_memo += \"--\" + level + \"?\" + lfirst + \"--\" + title + \"\\n\";\n",
              "\n",
              "        if ((level < lfirst) || (level > llast)) {\n",
              "            continue ;\n",
              "        }\n",
              "        if (title.endsWith('\u00b6')) {\n",
              "            title = title.substring(0,title.length-1).replace(\"<\", \"&lt;\")\n",
              "         .replace(\">\", \"&gt;\").replace(\"&\", \"&amp;\");\n",
              "        }\n",
              "        if (title.length == 0) {\n",
              "            continue;\n",
              "        }\n",
              "\n",
              "        while (level < memo_level) {\n",
              "            text_menu += end_format + \"</ul>\\n\";\n",
              "            format_open -= 1;\n",
              "            memo_level -= 1;\n",
              "        }\n",
              "        if (level == lfirst) {\n",
              "            main_item += 1;\n",
              "        }\n",
              "        if (keep_item != -1 && main_item != keep_item + 1) {\n",
              "            // alert(main_item + \" - \" + level + \" - \" + keep_item);\n",
              "            continue;\n",
              "        }\n",
              "        while (level > memo_level) {\n",
              "            text_menu += \"<ul>\\n\";\n",
              "            memo_level += 1;\n",
              "        }\n",
              "        text_menu += repeat_indent_string(level-2);\n",
              "        text_menu += begin_format + sformat.replace(\"__HREF__\", href).replace(\"__TITLE__\", title);\n",
              "        format_open += 1;\n",
              "    }\n",
              "    while (1 < memo_level) {\n",
              "        text_menu += end_format + \"</ul>\\n\";\n",
              "        memo_level -= 1;\n",
              "        format_open -= 1;\n",
              "    }\n",
              "    text_menu += send;\n",
              "    //text_menu += \"\\n\" + text_memo;\n",
              "\n",
              "    while (format_open > 0) {\n",
              "        text_menu += end_format;\n",
              "        format_open -= 1;\n",
              "    }\n",
              "    return text_menu;\n",
              "};\n",
              "var update_menu = function() {\n",
              "    var sbegin = \"\";\n",
              "    var sformat = '<a href=\"#__HREF__\">__TITLE__</a>';\n",
              "    var send = \"\";\n",
              "    var begin_format = '<li>';\n",
              "    var end_format = '</li>';\n",
              "    var keep_item = -1;\n",
              "    var text_menu = update_menu_string(sbegin, 2, 4, sformat, send, keep_item,\n",
              "       begin_format, end_format);\n",
              "    var menu = document.getElementById(\"my_id_menu_nb\");\n",
              "    menu.innerHTML=text_menu;\n",
              "};\n",
              "window.setTimeout(update_menu,2000);\n",
              "            </script>"
            ],
            "text/plain": [
              "<IPython.core.display.HTML object>"
            ]
          },
          "execution_count": 3,
          "metadata": {},
          "output_type": "execute_result"
        }
      ],
      "source": [
        "from jyquickhelper import add_notebook_menu\n",
        "add_notebook_menu()"
      ]
    },
    {
      "cell_type": "markdown",
      "metadata": {},
      "source": [
        "## Cartographie\n",
        "\n",
        "Dessiner une carte n'est pas difficile en soit. Toute la difficult\u00e9 vient du fait qu'on a besoin pour lire cette carte de point de r\u00e9f\u00e9rence : les rues pour une ville, les fronti\u00e8res pour un d\u00e9partement, une r\u00e9gion, un pays, les fleuves et montagnes pour une carte repr\u00e9sentation des donn\u00e9es d\u00e9mographiques. Ces informations sont importantes pour situer l'information repr\u00e9sent\u00e9e par le graphique. Si vous n'avez pas besoin de tout \u00e7a, les formules suivantes vous suffiront :\n",
        "\n",
        "- [Coordonn\u00e9es sph\u00e9riques](http://fr.wikipedia.org/wiki/Coordonn%C3%A9es_sph%C3%A9riques)\n",
        "- [Conversion latitude/longitude to X/Y](http://www.movable-type.co.uk/scripts/latlong.html)\n",
        "- [distance de Haversine](http://en.wikipedia.org/wiki/Haversine_formula)\n",
        "\n",
        "Ces fonctionnalit\u00e9s sont disponibles via le module [geopy](https://github.com/geopy/geopy). Dans le cas contraire, voici quelques directions :\n",
        "\n",
        "- [cartopy](https://scitools.org.uk/cartopy/docs/latest/) : le module est une surcouche du module [matplotlib](https://matplotlib.org/), il convertit les coordonn\u00e9es g\u00e9ographiques et ajoutent quelques \u00e9l\u00e9ments de paysages (fronti\u00e8res, rivi\u00e8res...). Il ne contient pas tout comme la d\u00e9finition des d\u00e9partements fran\u00e7ais.\n",
        "- [shapely](https://github.com/Toblerity/Shapely) : ce module est utile pour dessiner des aires sur des cartes. Sous Windows, il faut l'installer depuis [Unofficial Windows Binaries for Python Extension Packages](http://www.lfd.uci.edu/~gohlke/pythonlibs/) car il inclut la DLL ``geos_c.dll`` qui vient de [GEOS](http://trac.osgeo.org/osgeo4w/). Dans le cas contraire, il faut installer [GEOS](http://trac.osgeo.org/osgeo4w/), ce qui prend pas mal de temps. Il est utilis\u00e9 par  [cartopy](http://scitools.org.uk/cartopy/).\n",
        "\n",
        "Il en existe d'autres mais leur installation rec\u00e8le quelques difficult\u00e9s que je n'ai pas toujours eu la patience de contourner :\n",
        "\n",
        "- [mapnik](http://mapnik.org/) : l'installation sur Windows est r\u00e9serv\u00e9e aux connaisseurs, trop compliqu\u00e9e sous Windows.\n",
        "- [geopandas](http://geopandas.org/index.html) manipule les coordonn\u00e9es g\u00e9ographiques dans des dataframe et impl\u00e9mente des graphiques simples.\n",
        "\n",
        "L'exemple qui suit utilise [cartopy](https://scitools.org.uk/cartopy/docs/latest/). Comme beaucoup de modules, il contient principalement des informations que le territoire am\u00e9ricains."
      ]
    },
    {
      "cell_type": "code",
      "execution_count": 3,
      "metadata": {},
      "outputs": [
        {
          "ename": "ImportError",
          "evalue": "DLL load failed while importing trace: Le module sp\u00e9cifi\u00e9 est introuvable.",
          "output_type": "error",
          "traceback": [
            "\u001b[1;31m---------------------------------------------------------------------------\u001b[0m",
            "\u001b[1;31mImportError\u001b[0m                               Traceback (most recent call last)",
            "Cell \u001b[1;32mIn [4], line 1\u001b[0m\n\u001b[1;32m----> 1\u001b[0m \u001b[38;5;28;01mimport\u001b[39;00m \u001b[38;5;21;01mcartopy\u001b[39;00m\u001b[38;5;21;01m.\u001b[39;00m\u001b[38;5;21;01mcrs\u001b[39;00m \u001b[38;5;28;01mas\u001b[39;00m \u001b[38;5;21;01mccrs\u001b[39;00m\n\u001b[0;32m      2\u001b[0m \u001b[38;5;28;01mimport\u001b[39;00m \u001b[38;5;21;01mmatplotlib\u001b[39;00m\u001b[38;5;21;01m.\u001b[39;00m\u001b[38;5;21;01mpyplot\u001b[39;00m \u001b[38;5;28;01mas\u001b[39;00m \u001b[38;5;21;01mplt\u001b[39;00m\n\u001b[0;32m      3\u001b[0m \u001b[38;5;28;01mimport\u001b[39;00m \u001b[38;5;21;01mcartopy\u001b[39;00m\u001b[38;5;21;01m.\u001b[39;00m\u001b[38;5;21;01mfeature\u001b[39;00m \u001b[38;5;28;01mas\u001b[39;00m \u001b[38;5;21;01mcfeature\u001b[39;00m\n",
            "File \u001b[1;32mC:\\Python3105_x64\\lib\\site-packages\\cartopy\\__init__.py:109\u001b[0m\n\u001b[0;32m    104\u001b[0m     \u001b[38;5;28;01mpass\u001b[39;00m\n\u001b[0;32m    107\u001b[0m \u001b[38;5;66;03m# Commonly used sub-modules. Imported here to provide end-user\u001b[39;00m\n\u001b[0;32m    108\u001b[0m \u001b[38;5;66;03m# convenience.\u001b[39;00m\n\u001b[1;32m--> 109\u001b[0m \u001b[38;5;28;01mimport\u001b[39;00m \u001b[38;5;21;01mcartopy\u001b[39;00m\u001b[38;5;21;01m.\u001b[39;00m\u001b[38;5;21;01mcrs\u001b[39;00m\n\u001b[0;32m    110\u001b[0m \u001b[38;5;28;01mimport\u001b[39;00m \u001b[38;5;21;01mcartopy\u001b[39;00m\u001b[38;5;21;01m.\u001b[39;00m\u001b[38;5;21;01mfeature\u001b[39;00m\n",
            "File \u001b[1;32mC:\\Python3105_x64\\lib\\site-packages\\cartopy\\crs.py:26\u001b[0m\n\u001b[0;32m     23\u001b[0m \u001b[38;5;28;01mfrom\u001b[39;00m \u001b[38;5;21;01mpyproj\u001b[39;00m\u001b[38;5;21;01m.\u001b[39;00m\u001b[38;5;21;01mexceptions\u001b[39;00m \u001b[38;5;28;01mimport\u001b[39;00m ProjError\n\u001b[0;32m     24\u001b[0m \u001b[38;5;28;01mfrom\u001b[39;00m \u001b[38;5;21;01mshapely\u001b[39;00m\u001b[38;5;21;01m.\u001b[39;00m\u001b[38;5;21;01mprepared\u001b[39;00m \u001b[38;5;28;01mimport\u001b[39;00m prep\n\u001b[1;32m---> 26\u001b[0m \u001b[38;5;28;01mimport\u001b[39;00m \u001b[38;5;21;01mcartopy\u001b[39;00m\u001b[38;5;21;01m.\u001b[39;00m\u001b[38;5;21;01mtrace\u001b[39;00m\n\u001b[0;32m     29\u001b[0m \u001b[38;5;28;01mtry\u001b[39;00m:\n\u001b[0;32m     30\u001b[0m     \u001b[38;5;66;03m# https://github.com/pyproj4/pyproj/pull/912\u001b[39;00m\n\u001b[0;32m     31\u001b[0m     \u001b[38;5;28;01mfrom\u001b[39;00m \u001b[38;5;21;01mpyproj\u001b[39;00m\u001b[38;5;21;01m.\u001b[39;00m\u001b[38;5;21;01mcrs\u001b[39;00m \u001b[38;5;28;01mimport\u001b[39;00m CustomConstructorCRS \u001b[38;5;28;01mas\u001b[39;00m _CRS\n",
            "\u001b[1;31mImportError\u001b[0m: DLL load failed while importing trace: Le module sp\u00e9cifi\u00e9 est introuvable."
          ]
        }
      ],
      "source": [
        "import cartopy.crs as ccrs\n",
        "import matplotlib.pyplot as plt\n",
        "import cartopy.feature as cfeature\n",
        "projection = ccrs.PlateCarree()\n",
        "fig = plt.figure(figsize=(12, 6))\n",
        "ax = fig.add_subplot(1, 2, 1, projection=projection)\n",
        "ax.add_feature(cfeature.BORDERS)\n",
        "ax.add_feature(cfeature.LAKES)\n",
        "ax.add_feature(cfeature.LAND)\n",
        "ax.add_feature(cfeature.OCEAN)\n",
        "ax.add_feature(cfeature.RIVERS)\n",
        "ax.add_feature(cfeature.COASTLINE)\n",
        "ax.set_extent([-5, 9, 42, 52])\n",
        "ax.set_title(\"France\")\n",
        "\n",
        "ax = fig.add_subplot(1, 2, 2, projection=projection)\n",
        "ax.add_feature(cfeature.BORDERS)\n",
        "ax.add_feature(cfeature.LAKES)\n",
        "ax.add_feature(cfeature.LAND)\n",
        "ax.add_feature(cfeature.OCEAN)\n",
        "ax.add_feature(cfeature.RIVERS)\n",
        "ax.add_feature(cfeature.COASTLINE)\n",
        "ax.set_extent([-125, -66.5, 20, 50])\n",
        "ax.set_title(\"USA\");\n",
        "# debug"
      ]
    },
    {
      "cell_type": "markdown",
      "metadata": {},
      "source": [
        "On peut am\u00e9liorer la pr\u00e9cision en pr\u00e9cisant l'\u00e9chelle avec la m\u00e9thode [with_scale](https://scitools.org.uk/cartopy/docs/latest/matplotlib/feature_interface.html?highlight=with_scale#cartopy.feature.NaturalEarthFeature.with_scale) qui propose trois r\u00e9solution 10m, 50m, 110m. La module [cartopy](https://scitools.org.uk/cartopy/docs/latest/) n'inclut que la r\u00e9solution 110m, le reste doit \u00eatre t\u00e9l\u00e9charg\u00e9. La premi\u00e8re ex\u00e9cution prend un peu de temps."
      ]
    },
    {
      "cell_type": "code",
      "execution_count": 4,
      "metadata": {},
      "outputs": [],
      "source": [
        "projection = ccrs.PlateCarree()\n",
        "fig = plt.figure(figsize=(12, 6))\n",
        "ax = fig.add_subplot(1, 2, 1, projection=projection)\n",
        "ax.add_feature(cfeature.BORDERS.with_scale('50m'))\n",
        "ax.add_feature(cfeature.LAKES.with_scale('50m'))\n",
        "ax.add_feature(cfeature.LAND.with_scale('50m'))\n",
        "ax.add_feature(cfeature.OCEAN.with_scale('50m'))\n",
        "ax.add_feature(cfeature.RIVERS.with_scale('50m'))\n",
        "ax.add_feature(cfeature.COASTLINE.with_scale('50m'))\n",
        "ax.set_extent([-5, 9, 42, 52])\n",
        "ax.set_title(\"France\")\n",
        "\n",
        "ax = fig.add_subplot(1, 2, 2, projection=projection)\n",
        "ax.add_feature(cfeature.BORDERS.with_scale('50m'))\n",
        "ax.add_feature(cfeature.LAKES.with_scale('50m'))\n",
        "ax.add_feature(cfeature.LAND.with_scale('50m'))\n",
        "ax.add_feature(cfeature.OCEAN.with_scale('50m'))\n",
        "ax.add_feature(cfeature.RIVERS.with_scale('50m'))\n",
        "ax.add_feature(cfeature.COASTLINE.with_scale('50m'))\n",
        "ax.set_extent([-125, -66.5, 20, 50])\n",
        "ax.set_title(\"USA\");"
      ]
    },
    {
      "cell_type": "markdown",
      "metadata": {},
      "source": [
        "On peut ajouter un peu plus d'information avec la m\u00e9thode [stock_img](https://scitools.org.uk/cartopy/docs/latest/matplotlib/geoaxes.html?highlight=stock_img#cartopy.mpl.geoaxes.GeoAxes.stock_img)."
      ]
    },
    {
      "cell_type": "code",
      "execution_count": 5,
      "metadata": {},
      "outputs": [],
      "source": [
        "import cartopy.crs as ccrs\n",
        "import matplotlib.pyplot as plt\n",
        "import cartopy.feature as cfeature\n",
        "projection = ccrs.PlateCarree()\n",
        "fig = plt.figure(figsize=(12, 6))\n",
        "ax = fig.add_subplot(1, 2, 1, projection=projection)\n",
        "ax.add_feature(cfeature.BORDERS.with_scale('50m'))\n",
        "ax.add_feature(cfeature.LAKES.with_scale('50m'))\n",
        "ax.add_feature(cfeature.LAND.with_scale('50m'))\n",
        "ax.add_feature(cfeature.OCEAN.with_scale('50m'))\n",
        "ax.add_feature(cfeature.RIVERS.with_scale('50m'))\n",
        "ax.add_feature(cfeature.COASTLINE.with_scale('50m'))\n",
        "ax.set_extent([-5, 9, 42, 52])\n",
        "ax.set_title(\"France\")\n",
        "ax.stock_img()\n",
        "\n",
        "ax = fig.add_subplot(1, 2, 2, projection=projection)\n",
        "ax.add_feature(cfeature.BORDERS.with_scale('50m'))\n",
        "ax.add_feature(cfeature.LAKES.with_scale('50m'))\n",
        "ax.add_feature(cfeature.LAND.with_scale('50m'))\n",
        "ax.add_feature(cfeature.OCEAN.with_scale('50m'))\n",
        "ax.add_feature(cfeature.RIVERS.with_scale('50m'))\n",
        "ax.add_feature(cfeature.COASTLINE.with_scale('50m'))\n",
        "ax.set_extent([-125, -66.5, 20, 50])\n",
        "ax.stock_img()\n",
        "ax.set_title(\"USA\");"
      ]
    },
    {
      "cell_type": "markdown",
      "metadata": {},
      "source": [
        "Cette fonction plaque une portion d'une grande image repr\u00e9sentant la terre dans cette projection. On peut en obtenir d'autre \u00e0 des r\u00e9solutions diff\u00e9rentes sur [1:10m Natural Earth I](https://www.naturalearthdata.com/downloads/10m-raster-data/10m-natural-earth-1/) ou encore [1:10m Gray Earth](https://www.naturalearthdata.com/downloads/10m-raster-data/10m-gray-earth/) mais ces images sont cons\u00e9quentes. On s'inspire du code de la fonction [stock_img](https://scitools.org.uk/cartopy/docs/latest/_modules/cartopy/mpl/geoaxes.html#GeoAxes.stock_img) et on \u00e9crit le code qui suit. D'autres informations sont disponibles sur [github/natural-earth-vector](https://github.com/nvkelso/natural-earth-vector)."
      ]
    },
    {
      "cell_type": "code",
      "execution_count": 6,
      "metadata": {},
      "outputs": [],
      "source": [
        "import os\n",
        "from matplotlib.image import imread\n",
        "\n",
        "projection = ccrs.PlateCarree()\n",
        "fig = plt.figure(figsize=(12, 6))\n",
        "ax = fig.add_subplot(1, 2, 1, projection=projection)\n",
        "ax.add_feature(cfeature.BORDERS.with_scale('50m'))\n",
        "ax.add_feature(cfeature.LAKES.with_scale('50m'))\n",
        "ax.add_feature(cfeature.LAND.with_scale('50m'))\n",
        "ax.add_feature(cfeature.OCEAN.with_scale('50m'))\n",
        "ax.add_feature(cfeature.RIVERS.with_scale('50m'))\n",
        "ax.add_feature(cfeature.COASTLINE.with_scale('50m'))\n",
        "ax.set_extent([-5, 9, 42, 52])\n",
        "ax.set_title(\"France 50\")\n",
        "ax.stock_img()\n",
        "\n",
        "ax = fig.add_subplot(1, 2, 2, projection=projection)\n",
        "\n",
        "fname = \"NE1_LR_LC.tif\"\n",
        "if os.path.exists(fname):\n",
        "    ax.imshow(imread(fname), origin='upper', transform=projection,\n",
        "              extent=[-180, 180, -90, 90]);\n",
        "else:\n",
        "    import warnings\n",
        "    warnings.warn(\"L'image n'a pas \u00e9t\u00e9 t\u00e9l\u00e9charg\u00e9e. Lire le paragraphe qui pr\u00e9c\u00e8de.\")\n",
        "    \n",
        "ax.add_feature(cfeature.BORDERS.with_scale('50m'))\n",
        "ax.add_feature(cfeature.LAKES.with_scale('50m'))\n",
        "ax.add_feature(cfeature.LAND.with_scale('50m'))\n",
        "ax.add_feature(cfeature.OCEAN.with_scale('50m'))\n",
        "ax.add_feature(cfeature.RIVERS.with_scale('50m'))\n",
        "ax.add_feature(cfeature.COASTLINE.with_scale('50m'))\n",
        "ax.set_extent([-5, 9, 42, 52])\n",
        "ax.set_title(\"France 10\");    "
      ]
    },
    {
      "cell_type": "markdown",
      "metadata": {},
      "source": [
        "Presque parfait. Le suivant montre l'Europe et ses pays puis ajoute les m\u00e9ridiens et parall\u00e8les."
      ]
    },
    {
      "cell_type": "code",
      "execution_count": 7,
      "metadata": {},
      "outputs": [],
      "source": [
        "import cartopy.crs as ccrs\n",
        "import matplotlib.pyplot as plt\n",
        "import cartopy.feature as cfeature\n",
        "projection = ccrs.PlateCarree()\n",
        "fig = plt.figure(figsize=(12, 6))\n",
        "ax = fig.add_subplot(1, 1, 1, projection=projection)\n",
        "ax.add_feature(cfeature.BORDERS)\n",
        "ax.add_feature(cfeature.LAKES)\n",
        "ax.add_feature(cfeature.LAND)\n",
        "ax.add_feature(cfeature.OCEAN)\n",
        "ax.add_feature(cfeature.RIVERS)\n",
        "ax.add_feature(cfeature.COASTLINE)\n",
        "ax.set_extent([-10, 31, 35, 71])\n",
        "ax.stock_img()\n",
        "ax.set_title(\"Europe\")\n",
        "\n",
        "x, y = 2.3488000, 48.853410\n",
        "ax.plot(x, y, 'bo', markersize=6)\n",
        "ax.text(x, y, \"Paris\")\n",
        "\n",
        "ax.gridlines(crs=projection, draw_labels=True,\n",
        "             linewidth=2, color='gray', alpha=0.5, linestyle='--');"
      ]
    },
    {
      "cell_type": "markdown",
      "metadata": {},
      "source": [
        "### Cartes avec les d\u00e9partements\n",
        "\n",
        "Pour dessiner des formes sur une carte, il faut conna\u00eetre les coordonn\u00e9es de ces formes. La premi\u00e8re chose \u00e0 faire est de r\u00e9cup\u00e9rer leurs donn\u00e9es g\u00e9ographiques. Une fois simple de les trouver est d'utiliser un moteur de recherche avec le mot cl\u00e9 **shapefile** inclus dedans : c'est le format du fichier. *shapefile france* permet d'obtenir quelques sources. En voici d'autres :\n",
        "\n",
        "* [GADM](http://www.gadm.org/) : database of Global Administrative Areas\n",
        "* [OpenData.gouv commune](https://www.data.gouv.fr/fr/datasets/geofla-communes/) : base de donn\u00e9es sur data.gouv.fr\n",
        "* [The National Map Small-Scale Collection](http://nationalmap.gov/small_scale/#chpbound) : Etats-Unis\n",
        "* [ArcGIS](https://developers.arcgis.com/javascript/jsapi/esri.basemaps-amd.html) : API Javascripts\n",
        "* [Natural Earth](http://www.naturalearthdata.com/) : Natural Earth is a public domain map dataset available at 1:10m, 1:50m, and 1:110 million scales. Featuring tightly integrated vector and raster data, with Natural Earth you can make a variety of visually pleasing, well-crafted maps with cartography or GIS software.\n",
        "* [thematicmapping](http://thematicmapping.org/downloads/world_borders.php) : World Borders Dataset\n",
        "* [OpenStreetMap Data Extracts](http://download.geofabrik.de/) : OpenStreetMap data\n",
        "* [OpenStreetMapData](http://openstreetmapdata.com/) : OpenStreetMap data\n",
        "* [Shapefile sur Wikipedia](http://wiki.openstreetmap.org/wiki/Shapefiles) : contient divers liens vers des sources de donn\u00e9es\n",
        "\n",
        "La premi\u00e8re chose \u00e0 v\u00e9rifier est la licence associ\u00e9es aux donn\u00e9es : on ne peut pas en faire ce qu'on veut. Pour cet exemple, j'avais choisi la premi\u00e8re source de donn\u00e9es, GADM. La licence n'est pas pr\u00e9cis\u00e9e explicitement (on pouvait trouver *happy to share* sur le site, la page wikipedia [GADM](https://en.wikipedia.org/wiki/GADM) pr\u00e9cise : *GADM is not freely available for commercial use. The GADM project created the spatial data for many countries from spatial databases provided by national governments, NGO, and/or from maps and lists of names available on the Internet (e.g. from Wikipedia)*. C'est le choix que j'avais fait en 2015 mais l'acc\u00e8s \u00e0 ces bases a probablement chang\u00e9 car l'acc\u00e8s est restreint. J'ai donc opt\u00e9 pour les bases accessibles depuis [data.gouv.fr](https://www.data.gouv.fr/fr/datasets/geofla-departements-30383060/). Leur seul inconv\u00e9nient est que les coordonn\u00e9es sont exprim\u00e9es dans une projection de type [Lambert 93](https://fr.wikipedia.org/wiki/Projection_conique_conforme_de_Lambert). Cela n\u00e9cessite une conversion.\n",
        "\n",
        "*L'acc\u00e8s aux donn\u00e9es g\u00e9ographiques s'est d\u00e9mocratis\u00e9 et nombreux pays disposent maintenant d'un site mettant \u00e0 disposition gratuitement ce type de donn\u00e9es. C'est sans doute la source de donn\u00e9es \u00e0 privil\u00e9gi\u00e9 avec notemment la description des zones administratives comme les d\u00e9partements, r\u00e9gions dont les d\u00e9finitions peuvent changer.*"
      ]
    },
    {
      "cell_type": "code",
      "execution_count": 8,
      "metadata": {},
      "outputs": [],
      "source": [
        "from pyensae.datasource import download_data\n",
        "try:\n",
        "    download_data(\"GEOFLA_2-1_DEPARTEMENT_SHP_LAMB93_FXX_2015-12-01.7z\", \n",
        "                  website=\"https://wxs-telechargement.ign.fr/oikr5jryiph0iwhw36053ptm/telechargement/inspire/\" + \\\n",
        "                          \"GEOFLA_THEME-DEPARTEMENTS_2015_2$GEOFLA_2-1_DEPARTEMENT_SHP_LAMB93_FXX_2015-12-01/file/\")\n",
        "except Exception as e:\n",
        "    # au cas le site n'est pas accessible\n",
        "    download_data(\"GEOFLA_2-1_DEPARTEMENT_SHP_LAMB93_FXX_2015-12-01.7z\", website=\"xd\")"
      ]
    },
    {
      "cell_type": "code",
      "execution_count": 9,
      "metadata": {},
      "outputs": [],
      "source": [
        "from pyquickhelper.filehelper import un7zip_files\n",
        "try:\n",
        "    un7zip_files(\"GEOFLA_2-1_DEPARTEMENT_SHP_LAMB93_FXX_2015-12-01.7z\", where_to=\"shapefiles\")\n",
        "    departements = 'shapefiles/GEOFLA_2-1_DEPARTEMENT_SHP_LAMB93_FXX_2015-12-01/GEOFLA/1_DONNEES_LIVRAISON_2015/' + \\\n",
        "                   'GEOFLA_2-1_SHP_LAMB93_FR-ED152/DEPARTEMENT/DEPARTEMENT.shp'\n",
        "except FileNotFoundError as e:\n",
        "    # Il est possible que cette instruction ne fonctionne pas.\n",
        "    # Dans ce cas, on prendra une copie de ce fichier.\n",
        "    import warnings\n",
        "    warnings.warn(\"Plan B parce que \" + str(e))\n",
        "    download_data(\"DEPARTEMENT.zip\")\n",
        "    departements = \"DEPARTEMENT.shp\"\n",
        "    \n",
        "if not os.path.exists(departements):\n",
        "    raise FileNotFoundError(\"Impossible de trouver '{0}'\\ncurrent folder: '{1}'\".format(\n",
        "        departements, os.getcwd()))"
      ]
    },
    {
      "cell_type": "markdown",
      "metadata": {},
      "source": [
        "La license accompagne les donn\u00e9es : *ce produit est t\u00e9l\u00e9chargeable et utilisable gratuitement sous licence* [Etalab](https://www.etalab.gouv.fr/licence-ouverte-open-licence). Pour un usage commercial, il faut faire attentation \u00e0 la license associ\u00e9e aux donn\u00e9es. Le seul inconv\u00e9nient des donn\u00e9es *GEOFLA* est que certaines sont donn\u00e9es dans le syst\u00e8me de coordonn\u00e9es [Lambert 93](https://fr.wikipedia.org/wiki/Projection_conique_conforme_de_Lambert) (voir aussi [Cartographie\n",
        "avec R](https://www.sylvaindurand.org/cartographie-avec-R/))."
      ]
    },
    {
      "cell_type": "code",
      "execution_count": 10,
      "metadata": {},
      "outputs": [],
      "source": [
        "shp = departements\n",
        "import shapefile\n",
        "r = shapefile.Reader(shp)\n",
        "shapes = r.shapes()\n",
        "records = r.records()\n",
        "len(shapes), len(records)"
      ]
    },
    {
      "cell_type": "code",
      "execution_count": 11,
      "metadata": {},
      "outputs": [],
      "source": [
        "r.shpLength, r.numRecords"
      ]
    },
    {
      "cell_type": "code",
      "execution_count": 12,
      "metadata": {},
      "outputs": [],
      "source": [
        "r.bbox"
      ]
    },
    {
      "cell_type": "code",
      "execution_count": 13,
      "metadata": {},
      "outputs": [],
      "source": [
        "r.shapeType"
      ]
    },
    {
      "cell_type": "markdown",
      "metadata": {},
      "source": [
        "On regarde une zone en particulier mais on r\u00e9duit la quantit\u00e9 de donn\u00e9es affich\u00e9es :"
      ]
    },
    {
      "cell_type": "code",
      "execution_count": 14,
      "metadata": {},
      "outputs": [],
      "source": [
        "d = shapes[0].__dict__.copy()\n",
        "d[\"points\"] = d[\"points\"][:10]\n",
        "d"
      ]
    },
    {
      "cell_type": "code",
      "execution_count": 15,
      "metadata": {},
      "outputs": [],
      "source": [
        "records[0]"
      ]
    },
    {
      "cell_type": "markdown",
      "metadata": {},
      "source": [
        "J'utilise une fonction de conversion des coordonn\u00e9es r\u00e9cup\u00e9r\u00e9e sur [Internet](https://gist.github.com/blemoine/e6045ed93b3d90a52891)."
      ]
    },
    {
      "cell_type": "code",
      "execution_count": 16,
      "metadata": {},
      "outputs": [],
      "source": [
        "import math\n",
        "\n",
        "def lambert932WGPS(lambertE, lambertN):\n",
        "\n",
        "    class constantes:\n",
        "        GRS80E = 0.081819191042816\n",
        "        LONG_0 = 3\n",
        "        XS = 700000\n",
        "        YS = 12655612.0499\n",
        "        n = 0.7256077650532670\n",
        "        C = 11754255.4261\n",
        "\n",
        "    delX = lambertE - constantes.XS\n",
        "    delY = lambertN - constantes.YS\n",
        "    gamma = math.atan(-delX / delY)\n",
        "    R = math.sqrt(delX * delX + delY * delY)\n",
        "    latiso = math.log(constantes.C / R) / constantes.n\n",
        "    sinPhiit0 = math.tanh(latiso + constantes.GRS80E * math.atanh(constantes.GRS80E * math.sin(1)))\n",
        "    sinPhiit1 = math.tanh(latiso + constantes.GRS80E * math.atanh(constantes.GRS80E * sinPhiit0))\n",
        "    sinPhiit2 = math.tanh(latiso + constantes.GRS80E * math.atanh(constantes.GRS80E * sinPhiit1))\n",
        "    sinPhiit3 = math.tanh(latiso + constantes.GRS80E * math.atanh(constantes.GRS80E * sinPhiit2))\n",
        "    sinPhiit4 = math.tanh(latiso + constantes.GRS80E * math.atanh(constantes.GRS80E * sinPhiit3))\n",
        "    sinPhiit5 = math.tanh(latiso + constantes.GRS80E * math.atanh(constantes.GRS80E * sinPhiit4))\n",
        "    sinPhiit6 = math.tanh(latiso + constantes.GRS80E * math.atanh(constantes.GRS80E * sinPhiit5))\n",
        "\n",
        "    longRad = math.asin(sinPhiit6)\n",
        "    latRad = gamma / constantes.n + constantes.LONG_0 / 180 * math.pi\n",
        "\n",
        "    longitude = latRad / math.pi * 180\n",
        "    latitude = longRad / math.pi * 180\n",
        "\n",
        "    return longitude, latitude\n",
        "\n",
        "lambert932WGPS(99217.1, 6049646.300000001), lambert932WGPS(1242417.2, 7110480.100000001)"
      ]
    },
    {
      "cell_type": "markdown",
      "metadata": {},
      "source": [
        "Apr\u00e8s plusieurs recherches sur internet, un grand nombre, on aboutit \u00e0 la carte suivante non sans avoir red\u00e9fini des contours et fronti\u00e8res plus pr\u00e9cis inspir\u00e9 du code [feature.py](https://github.com/SciTools/cartopy/blob/master/lib/cartopy/feature.py)."
      ]
    },
    {
      "cell_type": "code",
      "execution_count": 17,
      "metadata": {},
      "outputs": [],
      "source": [
        "from cartopy.feature import NaturalEarthFeature, COLORS\n",
        "resolution = \"50m\"\n",
        "BORDERS = NaturalEarthFeature('cultural', 'admin_0_boundary_lines_land',\n",
        "                              resolution, edgecolor='black', facecolor='none')\n",
        "STATES = NaturalEarthFeature('cultural', 'admin_1_states_provinces_lakes',\n",
        "                             resolution, edgecolor='black', facecolor='none')\n",
        "COASTLINE = NaturalEarthFeature('physical', 'coastline', resolution,\n",
        "                                edgecolor='black', facecolor='none')\n",
        "LAKES = NaturalEarthFeature('physical', 'lakes', resolution,\n",
        "                            edgecolor='face',\n",
        "                            facecolor=COLORS['water'])\n",
        "LAND = NaturalEarthFeature('physical', 'land', resolution,\n",
        "                           edgecolor='face',\n",
        "                           facecolor=COLORS['land'], zorder=-1)\n",
        "OCEAN = NaturalEarthFeature('physical', 'ocean', resolution,\n",
        "                            edgecolor='face',\n",
        "                            facecolor=COLORS['water'], zorder=-1)\n",
        "RIVERS = NaturalEarthFeature('physical', 'rivers_lake_centerlines', resolution,\n",
        "                             edgecolor=COLORS['water'],\n",
        "                             facecolor='none')"
      ]
    },
    {
      "cell_type": "code",
      "execution_count": 18,
      "metadata": {
        "scrolled": false
      },
      "outputs": [],
      "source": [
        "import cartopy.crs as ccrs\n",
        "import matplotlib.pyplot as plt\n",
        "projection = ccrs.PlateCarree()\n",
        "fig = plt.figure(figsize=(12, 12))\n",
        "ax = fig.add_subplot(1, 1, 1, projection=projection)\n",
        "ax.add_feature(BORDERS)\n",
        "ax.add_feature(LAKES)\n",
        "ax.add_feature(LAND)\n",
        "ax.add_feature(OCEAN)\n",
        "ax.add_feature(RIVERS)\n",
        "ax.add_feature(COASTLINE)\n",
        "ax.set_extent([-5, 12, 40, 54])\n",
        "ax.set_title(\"Europe\")\n",
        "ax.gridlines(crs=projection, draw_labels=True,\n",
        "             linewidth=2, color='gray', alpha=0.5, linestyle='--')\n",
        "\n",
        "from matplotlib.collections import LineCollection\n",
        "import shapefile\n",
        "import geopandas\n",
        "from shapely.geometry import Polygon\n",
        "from shapely.ops import cascaded_union, unary_union\n",
        " \n",
        "shp = departements\n",
        "r = shapefile.Reader(shp)\n",
        "shapes = r.shapes()\n",
        "records = r.records()\n",
        "\n",
        "polys = []\n",
        "for i, (record, shape) in enumerate(zip(records, shapes)):\n",
        "    # les coordonn\u00e9es sont en Lambert 93\n",
        "    if i == 0:\n",
        "        print(record, shape.parts)\n",
        "    geo_points = [lambert932WGPS(x,y) for x, y in shape.points]\n",
        "    if len(shape.parts) == 1:\n",
        "        # Un seul polygone\n",
        "        poly = Polygon(geo_points)\n",
        "    else:\n",
        "        # Il faut les fusionner.\n",
        "        ind = list(shape.parts) + [len(shape.points)]\n",
        "        pols = [Polygon(geo_points[ind[i]:ind[i+1]]) for i in range(0, len(shape.parts))]\n",
        "        try:\n",
        "            poly = unary_union(pols)\n",
        "        except Exception as e:\n",
        "            print(\"Cannot merge: \", record)\n",
        "            print([_.length for _ in pols], ind)\n",
        "            poly = Polygon(geo_points)\n",
        "    polys.append(poly)\n",
        "    \n",
        "data = geopandas.GeoDataFrame(geometry=polys)\n",
        "# cmap -> voir https://matplotlib.org/users/colormaps.html\n",
        "data.plot(ax=ax, cmap='tab20', edgecolor='black');\n",
        "# Ou pour d\u00e9finir des couleurs sp\u00e9cifiques.\n",
        "# geopandas.plotting.plot_polygon_collection(ax, data['geometry'], facecolor=data['colors'], values=None)"
      ]
    },
    {
      "cell_type": "markdown",
      "metadata": {},
      "source": [
        "### Cartes interactives"
      ]
    },
    {
      "cell_type": "markdown",
      "metadata": {},
      "source": [
        "La vid\u00e9o [Spatial data and web mapping with Python](http://www.youtube.com/watch?v=qmgh14LUOjQ&feature=youtu.be) vous en dira un peu plus sur la cartographie. Lorsqu'on dessine une carte avec les rues d'une ville, on veut pouvoir zoomer et d\u00e9zoomer facilement pour avoir une vue d'ensemble ou une vue d\u00e9taill\u00e9. Dans ce cas l\u00e0, il faut utiliser un service externe telle que [Gmap API](https://developers.google.com/maps/?hl=FR), [Bing Map API](http://www.microsoft.com/maps/choose-your-bing-maps-API.aspx), [Yahoo Map API](https://developer.yahoo.com/maps/simple/V1/) ou [OpenStreetMap](https://openstreetmap.fr/) qui est une version open source. Dans tous les cas, il faut faire attention si les donn\u00e9es que vous manipulez dans la mesure o\u00f9 elles transitent par un service externe. L'article [Busy areas in Paris](http://www.xavierdupre.fr/blog/2013-09-26_nojs.html) est un exemple d'utilisation d'[OpenStreetMap](https://openstreetmap.fr/). Ce qu'on cherche avant tout, c'est un [graphique interactif](#inter). Il existe des modules qui permettent d'utiliser ces services directement depuis un notebook python.\n",
        "\n",
        "Le module [folium](https://github.com/wrobstory/folium) insert du javascript dans le notebook lui-m\u00eame. Voici un exemple construit \u00e0 partir de ce module : [Creating Interactive Election Maps Using folium and IPython Notebooks](http://blog.ouseful.info/2015/04/17/creating-interactive-election-maps-using-folium-and-ipython-notebooks/). Il est pr\u00e9vu pour fonctionner comme suit. D'abord, une \u00e9tape d'initialisation :"
      ]
    },
    {
      "cell_type": "code",
      "execution_count": 19,
      "metadata": {},
      "outputs": [],
      "source": [
        "import folium"
      ]
    },
    {
      "cell_type": "markdown",
      "metadata": {},
      "source": [
        "Et si elle fonctionne (un jour peut-\u00eatre), la suite devrait \u00eatre :"
      ]
    },
    {
      "cell_type": "code",
      "execution_count": 20,
      "metadata": {},
      "outputs": [],
      "source": [
        "map_osm = folium.Map(location=[48.85, 2.34])\n",
        "map_osm"
      ]
    },
    {
      "cell_type": "markdown",
      "metadata": {},
      "source": [
        "Donc, on prend un raccourci et on en profite pour ajouter un triangle \u00e0 l'emplacement de l'ENSAE :"
      ]
    },
    {
      "cell_type": "code",
      "execution_count": 21,
      "metadata": {},
      "outputs": [],
      "source": [
        "import folium\n",
        "map_osm = folium.Map(location=[48.711478,2.207708])\n",
        "from pyensae.notebookhelper import folium_html_map\n",
        "map_osm.add_child(folium.RegularPolygonMarker(location=[48.711478,2.207708], popup='ENSAE', \n",
        "                       fill_color='#132b5e', radius=10))\n",
        "from IPython.display import HTML\n",
        "#HTML(folium_html_map(map_osm))\n",
        "map_osm"
      ]
    },
    {
      "cell_type": "markdown",
      "metadata": {},
      "source": [
        "Un moteur de recherche vous donnera rapidement quelques exemples de cartes utilisant ce module :\n",
        "[Folium Polygon Markers](http://bl.ocks.org/wrobstory/5609786), [Easy interactive maps with folium](https://ocefpaf.github.io/python4oceanographers/blog/2014/05/05/folium/), [Plotting shapefiles with cartopy and folium](https://ocefpaf.github.io/python4oceanographers/blog/2015/02/02/cartopy_folium_shapefile/)."
      ]
    },
    {
      "cell_type": "code",
      "execution_count": 22,
      "metadata": {},
      "outputs": [],
      "source": []
    }
  ],
  "metadata": {
    "kernelspec": {
      "display_name": "Python 3 (ipykernel)",
      "language": "python",
      "name": "python3"
    },
    "language_info": {
      "codemirror_mode": {
        "name": "ipython",
        "version": 3
      },
      "file_extension": ".py",
      "mimetype": "text/x-python",
      "name": "python",
      "nbconvert_exporter": "python",
      "pygments_lexer": "ipython3",
      "version": "3.10.5"
    }
  },
  "nbformat": 4,
  "nbformat_minor": 1
}