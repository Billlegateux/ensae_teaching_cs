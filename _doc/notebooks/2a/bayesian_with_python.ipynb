{
  "cells": [
    {
      "cell_type": "markdown",
      "metadata": {},
      "source": [
        "# 2A.ml - Bayesian models with Python\n",
        "\n",
        "Mod\u00e8les de m\u00e9langes de lois. Statistiques bay\u00e9siennes. *bayespy*, *scikit-learn*."
      ]
    },
    {
      "cell_type": "code",
      "execution_count": 1,
      "metadata": {},
      "outputs": [
        {
          "data": {
            "text/html": [
              "<div id=\"my_id_menu_nb\">run previous cell, wait for 2 seconds</div>\n",
              "<script>\n",
              "function repeat_indent_string(n){\n",
              "    var a = \"\" ;\n",
              "    for ( ; n > 0 ; --n)\n",
              "        a += \"    \";\n",
              "    return a;\n",
              "}\n",
              "// look up into all sections and builds an automated menu //\n",
              "var update_menu_string = function(begin, lfirst, llast, sformat, send, keep_item, begin_format, end_format) {\n",
              "    var anchors = document.getElementsByClassName(\"section\");\n",
              "    if (anchors.length == 0) {\n",
              "        anchors = document.getElementsByClassName(\"text_cell_render rendered_html\");\n",
              "    }\n",
              "    var i,t;\n",
              "    var text_menu = begin;\n",
              "    var text_memo = \"<pre>\\nlength:\" + anchors.length + \"\\n\";\n",
              "    var ind = \"\";\n",
              "    var memo_level = 1;\n",
              "    var href;\n",
              "    var tags = [];\n",
              "    var main_item = 0;\n",
              "    var format_open = 0;\n",
              "    for (i = 0; i <= llast; i++)\n",
              "        tags.push(\"h\" + i);\n",
              "\n",
              "    for (i = 0; i < anchors.length; i++) {\n",
              "        text_memo += \"**\" + anchors[i].id + \"--\\n\";\n",
              "\n",
              "        var child = null;\n",
              "        for(t = 0; t < tags.length; t++) {\n",
              "            var r = anchors[i].getElementsByTagName(tags[t]);\n",
              "            if (r.length > 0) {\n",
              "child = r[0];\n",
              "break;\n",
              "            }\n",
              "        }\n",
              "        if (child == null) {\n",
              "            text_memo += \"null\\n\";\n",
              "            continue;\n",
              "        }\n",
              "        if (anchors[i].hasAttribute(\"id\")) {\n",
              "            // when converted in RST\n",
              "            href = anchors[i].id;\n",
              "            text_memo += \"#1-\" + href;\n",
              "            // passer \u00e0 child suivant (le chercher)\n",
              "        }\n",
              "        else if (child.hasAttribute(\"id\")) {\n",
              "            // in a notebook\n",
              "            href = child.id;\n",
              "            text_memo += \"#2-\" + href;\n",
              "        }\n",
              "        else {\n",
              "            text_memo += \"#3-\" + \"*\" + \"\\n\";\n",
              "            continue;\n",
              "        }\n",
              "        var title = child.textContent;\n",
              "        var level = parseInt(child.tagName.substring(1,2));\n",
              "\n",
              "        text_memo += \"--\" + level + \"?\" + lfirst + \"--\" + title + \"\\n\";\n",
              "\n",
              "        if ((level < lfirst) || (level > llast)) {\n",
              "            continue ;\n",
              "        }\n",
              "        if (title.endsWith('\u00b6')) {\n",
              "            title = title.substring(0,title.length-1).replace(\"<\", \"&lt;\")\n",
              "         .replace(\">\", \"&gt;\").replace(\"&\", \"&amp;\");\n",
              "        }\n",
              "        if (title.length == 0) {\n",
              "            continue;\n",
              "        }\n",
              "\n",
              "        while (level < memo_level) {\n",
              "            text_menu += end_format + \"</ul>\\n\";\n",
              "            format_open -= 1;\n",
              "            memo_level -= 1;\n",
              "        }\n",
              "        if (level == lfirst) {\n",
              "            main_item += 1;\n",
              "        }\n",
              "        if (keep_item != -1 && main_item != keep_item + 1) {\n",
              "            // alert(main_item + \" - \" + level + \" - \" + keep_item);\n",
              "            continue;\n",
              "        }\n",
              "        while (level > memo_level) {\n",
              "            text_menu += \"<ul>\\n\";\n",
              "            memo_level += 1;\n",
              "        }\n",
              "        text_menu += repeat_indent_string(level-2);\n",
              "        text_menu += begin_format + sformat.replace(\"__HREF__\", href).replace(\"__TITLE__\", title);\n",
              "        format_open += 1;\n",
              "    }\n",
              "    while (1 < memo_level) {\n",
              "        text_menu += end_format + \"</ul>\\n\";\n",
              "        memo_level -= 1;\n",
              "        format_open -= 1;\n",
              "    }\n",
              "    text_menu += send;\n",
              "    //text_menu += \"\\n\" + text_memo;\n",
              "\n",
              "    while (format_open > 0) {\n",
              "        text_menu += end_format;\n",
              "        format_open -= 1;\n",
              "    }\n",
              "    return text_menu;\n",
              "};\n",
              "var update_menu = function() {\n",
              "    var sbegin = \"\";\n",
              "    var sformat = '<a href=\"#__HREF__\">__TITLE__</a>';\n",
              "    var send = \"\";\n",
              "    var begin_format = '<li>';\n",
              "    var end_format = '</li>';\n",
              "    var keep_item = -1;\n",
              "    var text_menu = update_menu_string(sbegin, 2, 4, sformat, send, keep_item,\n",
              "       begin_format, end_format);\n",
              "    var menu = document.getElementById(\"my_id_menu_nb\");\n",
              "    menu.innerHTML=text_menu;\n",
              "};\n",
              "window.setTimeout(update_menu,2000);\n",
              "            </script>"
            ],
            "text/plain": [
              "<IPython.core.display.HTML object>"
            ]
          },
          "execution_count": 2,
          "metadata": {},
          "output_type": "execute_result"
        }
      ],
      "source": [
        "from jyquickhelper import add_notebook_menu\n",
        "add_notebook_menu()"
      ]
    },
    {
      "cell_type": "markdown",
      "metadata": {},
      "source": [
        "You can read [Probabilistic Programming and Bayesian Methods for Hackers](http://nbviewer.jupyter.org/github/CamDavidsonPilon/Probabilistic-Programming-and-Bayesian-Methods-for-Hackers/blob/master/Prologue/Prologue.ipynb). Results might be different between examples. The example used is the same but the default parameters the optimisation uses are different."
      ]
    },
    {
      "cell_type": "markdown",
      "metadata": {},
      "source": [
        "We try different python model to deal with a Bayesian problem: a Gaussian Mixture. We will use the following example."
      ]
    },
    {
      "cell_type": "code",
      "execution_count": 2,
      "metadata": {},
      "outputs": [],
      "source": [
        "%matplotlib inline"
      ]
    },
    {
      "cell_type": "code",
      "execution_count": 3,
      "metadata": {},
      "outputs": [],
      "source": [
        "import matplotlib.pyplot as plt"
      ]
    },
    {
      "cell_type": "code",
      "execution_count": 4,
      "metadata": {},
      "outputs": [
        {
          "data": {
            "image/png": "[encoded data removed]",
            "text/plain": [
              "<Figure size 720x504 with 1 Axes>"
            ]
          },
          "metadata": {
            "needs_background": "light"
          },
          "output_type": "display_data"
        }
      ],
      "source": [
        "import numpy as np\n",
        "y0 = np.random.multivariate_normal([0, 0], [[2, 0], [0, 0.1]], size=50)\n",
        "y1 = np.random.multivariate_normal([0, 0], [[0.1, 0], [0, 2]], size=50)\n",
        "y2 = np.random.multivariate_normal([5, 2], [[2, -1.5], [-1.5, 2]], size=50)\n",
        "y3 = np.random.multivariate_normal([-2, -2], [[0.5, 0], [0, 0.5]], size=50)\n",
        "y = np.vstack([y0, y1, y2, y3])\n",
        "X=y\n",
        "\n",
        "fig, ax = plt.subplots(1, 1, figsize=(10, 7))\n",
        "ax.plot(y[:,0], y[:,1], \"o\");"
      ]
    },
    {
      "cell_type": "markdown",
      "metadata": {},
      "source": [
        "<h3 id=\"bayespy\">bayespy</h3>"
      ]
    },
    {
      "cell_type": "markdown",
      "metadata": {},
      "source": [
        "The module [bayespy](http://www.bayespy.org/) allows to build and estimate simple bayesian models. I just replicate the example on the [Gaussian mixture model](http://www.bayespy.org/examples/gmm.html)."
      ]
    },
    {
      "cell_type": "markdown",
      "metadata": {},
      "source": [
        "We define the model:"
      ]
    },
    {
      "cell_type": "code",
      "execution_count": 5,
      "metadata": {},
      "outputs": [
        {
          "data": {
            "text/plain": [
              "('0.5.22', '1.22.1')"
            ]
          },
          "execution_count": 6,
          "metadata": {},
          "output_type": "execute_result"
        }
      ],
      "source": [
        "from bayespy import __version__ as v1\n",
        "from numpy import __version__ as v2\n",
        "v1, v2"
      ]
    },
    {
      "cell_type": "markdown",
      "metadata": {},
      "source": [
        "Si cela ne marche pas avec la version 1.14 de numpy, vous devriez essayez la version 1.13 (a priori, cette [exception](https://github.com/numpy/numpy/blob/master/numpy/core/einsumfunc.py#L710) pose probl\u00e8me)."
      ]
    },
    {
      "cell_type": "code",
      "execution_count": 6,
      "metadata": {},
      "outputs": [],
      "source": [
        "N = 200  # number of data vectors\n",
        "D = 2    # dimension\n",
        "K = 10   # maximum number of clusters"
      ]
    },
    {
      "cell_type": "code",
      "execution_count": 7,
      "metadata": {
        "scrolled": false
      },
      "outputs": [],
      "source": [
        "from bayespy.nodes import Dirichlet, Categorical, Gaussian, Wishart, Mixture\n",
        "alpha = Dirichlet(1e-5*np.ones(K), name='alpha')\n",
        "Z = Categorical(alpha, plates=(N,), name='z')\n",
        "mu = Gaussian(np.zeros(D), 1e-5*np.identity(D), plates=(K,), name='mu')\n",
        "sigma = Wishart(D, 1e-5*np.identity(D), plates=(K,), name='Lambda')\n",
        "Y = Mixture(Z, Gaussian, mu, sigma, name='Y')"
      ]
    },
    {
      "cell_type": "code",
      "execution_count": 8,
      "metadata": {},
      "outputs": [],
      "source": [
        "Z.initialize_from_random()"
      ]
    },
    {
      "cell_type": "code",
      "execution_count": 9,
      "metadata": {},
      "outputs": [],
      "source": [
        "from bayespy.inference import VB\n",
        "Q = VB(Y, mu, sigma, Z, alpha)"
      ]
    },
    {
      "cell_type": "code",
      "execution_count": 10,
      "metadata": {},
      "outputs": [],
      "source": [
        "Y.observe(y)"
      ]
    },
    {
      "cell_type": "code",
      "execution_count": 11,
      "metadata": {},
      "outputs": [],
      "source": [
        "import time\n",
        "if not hasattr(time, 'clock'):\n",
        "    # bayespy still clock and it was removed in python 3.8\n",
        "    setattr(time, 'clock', time.perf_counter)"
      ]
    },
    {
      "cell_type": "code",
      "execution_count": 12,
      "metadata": {},
      "outputs": [
        {
          "name": "stdout",
          "output_type": "stream",
          "text": [
            "Iteration 1: loglike=-1.497701e+03 (0.012 seconds)\n",
            "Iteration 2: loglike=-1.359319e+03 (0.009 seconds)\n",
            "Iteration 3: loglike=-1.345008e+03 (0.007 seconds)\n",
            "Iteration 4: loglike=-1.333128e+03 (0.007 seconds)\n",
            "Iteration 5: loglike=-1.321888e+03 (0.008 seconds)\n",
            "Iteration 6: loglike=-1.308002e+03 (0.007 seconds)\n",
            "Iteration 7: loglike=-1.290391e+03 (0.007 seconds)\n",
            "Iteration 8: loglike=-1.275647e+03 (0.006 seconds)\n",
            "Iteration 9: loglike=-1.264646e+03 (0.008 seconds)\n",
            "Iteration 10: loglike=-1.251051e+03 (0.006 seconds)\n",
            "Iteration 11: loglike=-1.229172e+03 (0.006 seconds)\n",
            "Iteration 12: loglike=-1.182531e+03 (0.006 seconds)\n",
            "Iteration 13: loglike=-1.162046e+03 (0.007 seconds)\n",
            "Iteration 14: loglike=-1.129390e+03 (0.008 seconds)\n",
            "Iteration 15: loglike=-1.114487e+03 (0.007 seconds)\n",
            "Iteration 16: loglike=-1.089347e+03 (0.008 seconds)\n",
            "Iteration 17: loglike=-1.086340e+03 (0.007 seconds)\n",
            "Iteration 18: loglike=-1.083643e+03 (0.008 seconds)\n",
            "Iteration 19: loglike=-1.080921e+03 (0.007 seconds)\n",
            "Iteration 20: loglike=-1.077116e+03 (0.008 seconds)\n",
            "Iteration 21: loglike=-1.064775e+03 (0.007 seconds)\n",
            "Iteration 22: loglike=-1.052069e+03 (0.006 seconds)\n",
            "Iteration 23: loglike=-1.031870e+03 (0.006 seconds)\n",
            "Iteration 24: loglike=-1.020058e+03 (0.006 seconds)\n",
            "Iteration 25: loglike=-1.008205e+03 (0.011 seconds)\n",
            "Iteration 26: loglike=-9.924005e+02 (0.011 seconds)\n",
            "Iteration 27: loglike=-9.920968e+02 (0.016 seconds)\n",
            "Iteration 28: loglike=-9.917380e+02 (0.018 seconds)\n",
            "Iteration 29: loglike=-9.912025e+02 (0.008 seconds)\n",
            "Iteration 30: loglike=-9.903257e+02 (0.009 seconds)\n",
            "Iteration 31: loglike=-9.892435e+02 (0.008 seconds)\n",
            "Iteration 32: loglike=-9.877160e+02 (0.007 seconds)\n",
            "Iteration 33: loglike=-9.859192e+02 (0.006 seconds)\n",
            "Iteration 34: loglike=-9.836574e+02 (0.009 seconds)\n",
            "Iteration 35: loglike=-9.814675e+02 (0.007 seconds)\n",
            "Iteration 36: loglike=-9.798386e+02 (0.006 seconds)\n",
            "Iteration 37: loglike=-9.793723e+02 (0.006 seconds)\n",
            "Iteration 38: loglike=-9.792857e+02 (0.006 seconds)\n",
            "Iteration 39: loglike=-9.792329e+02 (0.008 seconds)\n",
            "Iteration 40: loglike=-9.791737e+02 (0.006 seconds)\n",
            "Iteration 41: loglike=-9.791036e+02 (0.008 seconds)\n",
            "Iteration 42: loglike=-9.790199e+02 (0.007 seconds)\n",
            "Iteration 43: loglike=-9.789201e+02 (0.006 seconds)\n",
            "Iteration 44: loglike=-9.788011e+02 (0.006 seconds)\n",
            "Iteration 45: loglike=-9.786598e+02 (0.006 seconds)\n",
            "Iteration 46: loglike=-9.784926e+02 (0.007 seconds)\n",
            "Iteration 47: loglike=-9.782935e+02 (0.007 seconds)\n",
            "Iteration 48: loglike=-9.780498e+02 (0.007 seconds)\n",
            "Iteration 49: loglike=-9.777315e+02 (0.006 seconds)\n",
            "Iteration 50: loglike=-9.772782e+02 (0.005 seconds)\n",
            "Iteration 51: loglike=-9.766198e+02 (0.006 seconds)\n",
            "Iteration 52: loglike=-9.757762e+02 (0.010 seconds)\n",
            "Iteration 53: loglike=-9.748480e+02 (0.011 seconds)\n",
            "Iteration 54: loglike=-9.738679e+02 (0.011 seconds)\n",
            "Iteration 55: loglike=-9.728080e+02 (0.007 seconds)\n",
            "Iteration 56: loglike=-9.716088e+02 (0.006 seconds)\n",
            "Iteration 57: loglike=-9.701531e+02 (0.005 seconds)\n",
            "Iteration 58: loglike=-9.684097e+02 (0.006 seconds)\n",
            "Iteration 59: loglike=-9.668369e+02 (0.007 seconds)\n",
            "Iteration 60: loglike=-9.658912e+02 (0.006 seconds)\n",
            "Iteration 61: loglike=-9.654709e+02 (0.004 seconds)\n",
            "Iteration 62: loglike=-9.652997e+02 (0.000 seconds)\n",
            "Iteration 63: loglike=-9.652227e+02 (0.000 seconds)\n",
            "Iteration 64: loglike=-9.651824e+02 (0.023 seconds)\n",
            "Iteration 65: loglike=-9.651584e+02 (0.006 seconds)\n",
            "Iteration 66: loglike=-9.651426e+02 (0.008 seconds)\n",
            "Iteration 67: loglike=-9.651314e+02 (0.007 seconds)\n",
            "Iteration 68: loglike=-9.651230e+02 (0.007 seconds)\n",
            "Converged at iteration 68.\n"
          ]
        }
      ],
      "source": [
        "Q.update(repeat=1000)"
      ]
    },
    {
      "cell_type": "code",
      "execution_count": 13,
      "metadata": {},
      "outputs": [
        {
          "data": {
            "image/png": "[encoded data removed]",
            "text/plain": [
              "<Figure size 720x504 with 1 Axes>"
            ]
          },
          "metadata": {
            "needs_background": "light"
          },
          "output_type": "display_data"
        }
      ],
      "source": [
        "import bayespy.plot as bpplt\n",
        "fig, ax = plt.subplots(1, 1, figsize=(10, 7))\n",
        "bpplt.gaussian_mixture_2d(Y, alpha=alpha, scale=2, color=\"black\", fill=True, axes=ax)"
      ]
    },
    {
      "cell_type": "markdown",
      "metadata": {},
      "source": [
        "We get the result of the optimization:"
      ]
    },
    {
      "cell_type": "code",
      "execution_count": 14,
      "metadata": {},
      "outputs": [
        {
          "data": {
            "text/plain": [
              "(array([[-1.36058471e-01, -5.54785591e-01],\n",
              "        [ 0.00000000e+00,  0.00000000e+00],\n",
              "        [ 0.00000000e+00,  0.00000000e+00],\n",
              "        [ 7.32146904e+00,  4.25483005e+00],\n",
              "        [ 0.00000000e+00,  0.00000000e+00],\n",
              "        [ 8.75857358e-02,  9.11669540e-03],\n",
              "        [ 3.72250304e+04,  1.40121275e+04],\n",
              "        [ 0.00000000e+00,  0.00000000e+00],\n",
              "        [ 0.00000000e+00,  0.00000000e+00],\n",
              "        [-7.71374280e+00, -7.35395097e+00]]),\n",
              " array([[[ 6.52316512e-01, -1.63828746e-01],\n",
              "         [-1.63828746e-01,  8.96234523e+00]],\n",
              " \n",
              "        [[ 2.00000000e+05,  0.00000000e+00],\n",
              "         [ 0.00000000e+00,  2.00000000e+05]],\n",
              " \n",
              "        [[ 2.00000000e+05,  0.00000000e+00],\n",
              "         [ 0.00000000e+00,  2.00000000e+05]],\n",
              " \n",
              "        [[ 1.28998747e+00,  6.13731151e-01],\n",
              "         [ 6.13731151e-01,  6.90986759e-01]],\n",
              " \n",
              "        [[ 2.00000000e+05,  0.00000000e+00],\n",
              "         [ 0.00000000e+00,  2.00000000e+05]],\n",
              " \n",
              "        [[ 8.65297348e+00,  9.29871380e-03],\n",
              "         [ 9.29871380e-03,  3.55806853e-01]],\n",
              " \n",
              "        [[ 4.64596327e+03,  1.74893727e+03],\n",
              "         [ 1.74893727e+03,  6.60113981e+02]],\n",
              " \n",
              "        [[ 2.00000000e+05,  0.00000000e+00],\n",
              "         [ 0.00000000e+00,  2.00000000e+05]],\n",
              " \n",
              "        [[ 2.00000000e+05,  0.00000000e+00],\n",
              "         [ 0.00000000e+00,  2.00000000e+05]],\n",
              " \n",
              "        [[ 2.88152054e+00,  9.46475241e-01],\n",
              "         [ 9.46475241e-01,  2.54402981e+00]]]))"
            ]
          },
          "execution_count": 15,
          "metadata": {},
          "output_type": "execute_result"
        }
      ],
      "source": [
        "from bayespy.inference.vmp.nodes.gaussian import GaussianWishartMoments\n",
        "parent = Y.parents[1]\n",
        "(mu, _, sigma, _) = parent.get_moments()\n",
        "mu, sigma"
      ]
    },
    {
      "cell_type": "code",
      "execution_count": 15,
      "metadata": {},
      "outputs": [
        {
          "data": {
            "text/plain": [
              "array([[-0.22515766, -0.06601764],\n",
              "       [ 0.        ,  0.        ],\n",
              "       [ 0.        ,  0.        ],\n",
              "       [ 4.75563304,  1.93368381],\n",
              "       [ 0.        ,  0.        ],\n",
              "       [ 0.01009479,  0.02535878],\n",
              "       [ 8.21785907, -0.54595493],\n",
              "       [ 0.        ,  0.        ],\n",
              "       [ 0.        ,  0.        ],\n",
              "       [-1.96797779, -2.158508  ]])"
            ]
          },
          "execution_count": 16,
          "metadata": {},
          "output_type": "execute_result"
        }
      ],
      "source": [
        "import numpy as np\n",
        "mu2 = np.linalg.solve(sigma, mu)\n",
        "mu2"
      ]
    },
    {
      "cell_type": "markdown",
      "metadata": {},
      "source": [
        "The way you can build your model is quite nice but it still needs some development. scikit-learn proposes a better interface."
      ]
    },
    {
      "cell_type": "markdown",
      "metadata": {},
      "source": [
        "<h3 id=\"scikit\">scikit-learn</h3>"
      ]
    },
    {
      "cell_type": "markdown",
      "metadata": {},
      "source": [
        "We try to solve the same problem with another module: [scikit-learn](http://scikit-learn.org/stable/auto_examples/mixture/plot_gmm.html#example-mixture-plot-gmm-py)."
      ]
    },
    {
      "cell_type": "code",
      "execution_count": 16,
      "metadata": {
        "scrolled": false
      },
      "outputs": [
        {
          "data": {
            "text/plain": [
              "GaussianMixture(n_components=10)"
            ]
          },
          "execution_count": 17,
          "metadata": {},
          "output_type": "execute_result"
        }
      ],
      "source": [
        "from sklearn import mixture\n",
        "gmm = mixture.GaussianMixture (n_components=10, covariance_type='full')\n",
        "gmm.fit(X)"
      ]
    },
    {
      "cell_type": "code",
      "execution_count": 17,
      "metadata": {},
      "outputs": [
        {
          "data": {
            "text/plain": [
              "BayesianGaussianMixture(n_components=10)"
            ]
          },
          "execution_count": 18,
          "metadata": {},
          "output_type": "execute_result"
        }
      ],
      "source": [
        "dpgmm = mixture.BayesianGaussianMixture(n_components=10, covariance_type='full')\n",
        "dpgmm.fit(X)"
      ]
    },
    {
      "cell_type": "code",
      "execution_count": 18,
      "metadata": {},
      "outputs": [
        {
          "data": {
            "image/png": "[encoded data removed]",
            "text/plain": [
              "<Figure size 1008x504 with 2 Axes>"
            ]
          },
          "metadata": {
            "needs_background": "light"
          },
          "output_type": "display_data"
        }
      ],
      "source": [
        "import itertools\n",
        "import matplotlib as mpl\n",
        "color_iter = itertools.cycle(['r', 'g', 'b', 'c', 'm'])\n",
        "f, axarr = plt.subplots(1, 2, figsize=(14,7))\n",
        "\n",
        "for i, (clf, title) in enumerate([(gmm, 'GMM'),\n",
        "                                  (dpgmm, 'Dirichlet Process GMM')]):\n",
        "    splot = axarr[i]\n",
        "    Y_ = clf.predict(X)\n",
        "    for i, (mean, covar, color) in enumerate(zip(\n",
        "            clf.means_, clf.covariances_, color_iter)):\n",
        "        v, w = np.linalg.eigh(covar)\n",
        "        u = w[0] / np.linalg.norm(w[0])\n",
        "        # as the DP will not use every component it has access to\n",
        "        # unless it needs it, we shouldn't plot the redundant\n",
        "        # components.\n",
        "        if not np.any(Y_ == i):\n",
        "            continue\n",
        "        splot.scatter(X[Y_ == i, 0], X[Y_ == i, 1], 0.8, color=color)\n",
        "\n",
        "        # Plot an ellipse to show the Gaussian component\n",
        "        angle = np.arctan(u[1] / u[0])\n",
        "        angle = 180 * angle / np.pi  # convert to degrees\n",
        "        ell = mpl.patches.Ellipse(mean, v[0], v[1], 180 + angle, color=color)\n",
        "        ell.set_clip_box(splot.bbox)\n",
        "        ell.set_alpha(0.5)\n",
        "        splot.add_artist(ell)\n",
        "        splot.set_title(title)"
      ]
    },
    {
      "cell_type": "code",
      "execution_count": 19,
      "metadata": {},
      "outputs": [],
      "source": []
    }
  ],
  "metadata": {
    "kernelspec": {
      "display_name": "Python 3",
      "language": "python",
      "name": "python3"
    },
    "language_info": {
      "codemirror_mode": {
        "name": "ipython",
        "version": 3
      },
      "file_extension": ".py",
      "mimetype": "text/x-python",
      "name": "python",
      "nbconvert_exporter": "python",
      "pygments_lexer": "ipython3",
      "version": "3.9.5"
    }
  },
  "nbformat": 4,
  "nbformat_minor": 1
}