{
  "cells": [
    {
      "cell_type": "markdown",
      "metadata": {},
      "source": [
        "# 2A.ml - Statistiques descriptives avec scikit-learn - correction\n",
        "\n",
        "ACP, CAH, r\u00e9gression lin\u00e9aire, correction."
      ]
    },
    {
      "cell_type": "code",
      "execution_count": 1,
      "metadata": {},
      "outputs": [],
      "source": [
        "%matplotlib inline"
      ]
    },
    {
      "cell_type": "code",
      "execution_count": 2,
      "metadata": {},
      "outputs": [],
      "source": [
        "import matplotlib.pyplot as plt"
      ]
    },
    {
      "cell_type": "code",
      "execution_count": 3,
      "metadata": {},
      "outputs": [
        {
          "data": {
            "text/html": [
              "<div id=\"my_id_menu_nb\">run previous cell, wait for 2 seconds</div>\n",
              "<script>\n",
              "function repeat_indent_string(n){\n",
              "    var a = \"\" ;\n",
              "    for ( ; n > 0 ; --n)\n",
              "        a += \"    \";\n",
              "    return a;\n",
              "}\n",
              "// look up into all sections and builds an automated menu //\n",
              "var update_menu_string = function(begin, lfirst, llast, sformat, send, keep_item, begin_format, end_format) {\n",
              "    var anchors = document.getElementsByClassName(\"section\");\n",
              "    if (anchors.length == 0) {\n",
              "        anchors = document.getElementsByClassName(\"text_cell_render rendered_html\");\n",
              "    }\n",
              "    var i,t;\n",
              "    var text_menu = begin;\n",
              "    var text_memo = \"<pre>\\nlength:\" + anchors.length + \"\\n\";\n",
              "    var ind = \"\";\n",
              "    var memo_level = 1;\n",
              "    var href;\n",
              "    var tags = [];\n",
              "    var main_item = 0;\n",
              "    var format_open = 0;\n",
              "    for (i = 0; i <= llast; i++)\n",
              "        tags.push(\"h\" + i);\n",
              "\n",
              "    for (i = 0; i < anchors.length; i++) {\n",
              "        text_memo += \"**\" + anchors[i].id + \"--\\n\";\n",
              "\n",
              "        var child = null;\n",
              "        for(t = 0; t < tags.length; t++) {\n",
              "            var r = anchors[i].getElementsByTagName(tags[t]);\n",
              "            if (r.length > 0) {\n",
              "child = r[0];\n",
              "break;\n",
              "            }\n",
              "        }\n",
              "        if (child == null) {\n",
              "            text_memo += \"null\\n\";\n",
              "            continue;\n",
              "        }\n",
              "        if (anchors[i].hasAttribute(\"id\")) {\n",
              "            // when converted in RST\n",
              "            href = anchors[i].id;\n",
              "            text_memo += \"#1-\" + href;\n",
              "            // passer \u00e0 child suivant (le chercher)\n",
              "        }\n",
              "        else if (child.hasAttribute(\"id\")) {\n",
              "            // in a notebook\n",
              "            href = child.id;\n",
              "            text_memo += \"#2-\" + href;\n",
              "        }\n",
              "        else {\n",
              "            text_memo += \"#3-\" + \"*\" + \"\\n\";\n",
              "            continue;\n",
              "        }\n",
              "        var title = child.textContent;\n",
              "        var level = parseInt(child.tagName.substring(1,2));\n",
              "\n",
              "        text_memo += \"--\" + level + \"?\" + lfirst + \"--\" + title + \"\\n\";\n",
              "\n",
              "        if ((level < lfirst) || (level > llast)) {\n",
              "            continue ;\n",
              "        }\n",
              "        if (title.endsWith('\u00b6')) {\n",
              "            title = title.substring(0,title.length-1).replace(\"<\", \"&lt;\")\n",
              "         .replace(\">\", \"&gt;\").replace(\"&\", \"&amp;\");\n",
              "        }\n",
              "        if (title.length == 0) {\n",
              "            continue;\n",
              "        }\n",
              "\n",
              "        while (level < memo_level) {\n",
              "            text_menu += end_format + \"</ul>\\n\";\n",
              "            format_open -= 1;\n",
              "            memo_level -= 1;\n",
              "        }\n",
              "        if (level == lfirst) {\n",
              "            main_item += 1;\n",
              "        }\n",
              "        if (keep_item != -1 && main_item != keep_item + 1) {\n",
              "            // alert(main_item + \" - \" + level + \" - \" + keep_item);\n",
              "            continue;\n",
              "        }\n",
              "        while (level > memo_level) {\n",
              "            text_menu += \"<ul>\\n\";\n",
              "            memo_level += 1;\n",
              "        }\n",
              "        text_menu += repeat_indent_string(level-2);\n",
              "        text_menu += begin_format + sformat.replace(\"__HREF__\", href).replace(\"__TITLE__\", title);\n",
              "        format_open += 1;\n",
              "    }\n",
              "    while (1 < memo_level) {\n",
              "        text_menu += end_format + \"</ul>\\n\";\n",
              "        memo_level -= 1;\n",
              "        format_open -= 1;\n",
              "    }\n",
              "    text_menu += send;\n",
              "    //text_menu += \"\\n\" + text_memo;\n",
              "\n",
              "    while (format_open > 0) {\n",
              "        text_menu += end_format;\n",
              "        format_open -= 1;\n",
              "    }\n",
              "    return text_menu;\n",
              "};\n",
              "var update_menu = function() {\n",
              "    var sbegin = \"\";\n",
              "    var sformat = '<a href=\"#__HREF__\">__TITLE__</a>';\n",
              "    var send = \"\";\n",
              "    var begin_format = '<li>';\n",
              "    var end_format = '</li>';\n",
              "    var keep_item = -1;\n",
              "    var text_menu = update_menu_string(sbegin, 2, 4, sformat, send, keep_item,\n",
              "       begin_format, end_format);\n",
              "    var menu = document.getElementById(\"my_id_menu_nb\");\n",
              "    menu.innerHTML=text_menu;\n",
              "};\n",
              "window.setTimeout(update_menu,2000);\n",
              "            </script>"
            ],
            "text/plain": [
              "<IPython.core.display.HTML object>"
            ]
          },
          "execution_count": 4,
          "metadata": {},
          "output_type": "execute_result"
        }
      ],
      "source": [
        "from jyquickhelper import add_notebook_menu\n",
        "add_notebook_menu()"
      ]
    },
    {
      "cell_type": "code",
      "execution_count": 4,
      "metadata": {},
      "outputs": [],
      "source": [
        "# R\u00e9pare une incompatibilit\u00e9 entre scipy 1.0 et statsmodels 0.8.\n",
        "from pymyinstall.fix import fix_scipy10_for_statsmodels08\n",
        "fix_scipy10_for_statsmodels08()"
      ]
    },
    {
      "cell_type": "markdown",
      "metadata": {},
      "source": [
        "### Pr\u00e9requis de l'\u00e9nonc\u00e9"
      ]
    },
    {
      "cell_type": "code",
      "execution_count": 5,
      "metadata": {
        "scrolled": false
      },
      "outputs": [
        {
          "name": "stdout",
          "output_type": "stream",
          "text": [
            "convert dbase into sqllite\n",
            "unable to execute a SQL request (1)(file salaries2011.db3)\n",
            "create table varlist (VARIABLE TEXT, LIBELLE TEXT, TYPE TEXT, LONGUEUR REAL)\n",
            "La base de donn\u00e9es est d\u00e9j\u00e0 renseign\u00e9e.\n"
          ]
        }
      ],
      "source": [
        "import pyensae.datasource\n",
        "f = pyensae.datasource.download_data(\"dads2011_gf_salaries11_dbase.zip\",\n",
        "                          website=\"https://www.insee.fr/fr/statistiques/fichier/2011542/\")\n",
        "\n",
        "import pandas\n",
        "try:\n",
        "    from dbfread import DBF\n",
        "    use_dbfread = True\n",
        "except ImportError as e :\n",
        "    use_dbfread = False\n",
        "    \n",
        "if use_dbfread:\n",
        "    import os\n",
        "    from pyensae.sql.database_exception import ExceptionSQL\n",
        "    from pyensae.datasource import dBase2sqllite\n",
        "    print(\"convert dbase into sqllite\")\n",
        "    try:\n",
        "        dBase2sqllite(\"salaries2011.db3\", \"varlist_salaries11.dbf\", overwrite_table=\"varlist\")\n",
        "        dBase2sqllite(\"salaries2011.db3\", \"varmod_salaries11.dbf\", overwrite_table=\"varmod\")\n",
        "        dBase2sqllite(\"salaries2011.db3\", 'salaries11.dbf', overwrite_table=\"salaries\", fLOG = print)\n",
        "    except ExceptionSQL:\n",
        "        print(\"La base de donn\u00e9es est d\u00e9j\u00e0 renseign\u00e9e.\")\n",
        "else :\n",
        "    print(\"use of zipped version\")\n",
        "    import pyensae.datasource\n",
        "    db3 = pyensae.datasource.download_data(\"salaries2011.zip\")\n",
        "    # pour aller plus vite, donn\u00e9es \u00e0 t\u00e9l\u00e9charger au\n",
        "    # http://www.xavierdupre.fr/enseignement/complements/salaries2011.zip"
      ]
    },
    {
      "cell_type": "markdown",
      "metadata": {},
      "source": [
        "### Exercice 1 : CAH (classification ascendante hi\u00e9rarchique)\n",
        "\n",
        "Le point commun de ces m\u00e9thodes est qu'elles ne sont pas supervis\u00e9es. L'objectif est de r\u00e9duire la complexit\u00e9 des donn\u00e9es. R\u00e9duire le nombre de dimensions pour l'ACP ou segmenter les observations pour les k-means et la CAH."
      ]
    },
    {
      "cell_type": "code",
      "execution_count": 6,
      "metadata": {},
      "outputs": [
        {
          "name": "stdout",
          "output_type": "stream",
          "text": [
            "(27, 21)\n"
          ]
        },
        {
          "data": {
            "text/html": [
              "<div>\n",
              "<style scoped>\n",
              "    .dataframe tbody tr th:only-of-type {\n",
              "        vertical-align: middle;\n",
              "    }\n",
              "\n",
              "    .dataframe tbody tr th {\n",
              "        vertical-align: top;\n",
              "    }\n",
              "\n",
              "    .dataframe thead th {\n",
              "        text-align: right;\n",
              "    }\n",
              "</style>\n",
              "<table border=\"1\" class=\"dataframe\">\n",
              "  <thead>\n",
              "    <tr style=\"text-align: right;\">\n",
              "      <th></th>\n",
              "      <th>1993</th>\n",
              "      <th>1994</th>\n",
              "      <th>1995</th>\n",
              "      <th>1996</th>\n",
              "      <th>1997</th>\n",
              "      <th>1998</th>\n",
              "      <th>1999</th>\n",
              "      <th>2000</th>\n",
              "      <th>2001</th>\n",
              "      <th>2002</th>\n",
              "      <th>...</th>\n",
              "      <th>2004</th>\n",
              "      <th>2005</th>\n",
              "      <th>2006</th>\n",
              "      <th>2007</th>\n",
              "      <th>2008</th>\n",
              "      <th>2009</th>\n",
              "      <th>2010</th>\n",
              "      <th>2011</th>\n",
              "      <th>2012</th>\n",
              "      <th>2013</th>\n",
              "    </tr>\n",
              "    <tr>\n",
              "      <th>acad\u00e9mie</th>\n",
              "      <th></th>\n",
              "      <th></th>\n",
              "      <th></th>\n",
              "      <th></th>\n",
              "      <th></th>\n",
              "      <th></th>\n",
              "      <th></th>\n",
              "      <th></th>\n",
              "      <th></th>\n",
              "      <th></th>\n",
              "      <th></th>\n",
              "      <th></th>\n",
              "      <th></th>\n",
              "      <th></th>\n",
              "      <th></th>\n",
              "      <th></th>\n",
              "      <th></th>\n",
              "      <th></th>\n",
              "      <th></th>\n",
              "      <th></th>\n",
              "      <th></th>\n",
              "    </tr>\n",
              "  </thead>\n",
              "  <tbody>\n",
              "    <tr>\n",
              "      <th>Aix-Marseille</th>\n",
              "      <td>241357</td>\n",
              "      <td>242298</td>\n",
              "      <td>242096</td>\n",
              "      <td>242295</td>\n",
              "      <td>243660</td>\n",
              "      <td>244608</td>\n",
              "      <td>245536</td>\n",
              "      <td>247288</td>\n",
              "      <td>249331</td>\n",
              "      <td>250871</td>\n",
              "      <td>...</td>\n",
              "      <td>250622</td>\n",
              "      <td>248208</td>\n",
              "      <td>245755</td>\n",
              "      <td>243832</td>\n",
              "      <td>242309</td>\n",
              "      <td>240664</td>\n",
              "      <td>240432</td>\n",
              "      <td>241336</td>\n",
              "      <td>239051</td>\n",
              "      <td>240115</td>\n",
              "    </tr>\n",
              "    <tr>\n",
              "      <th>Amiens</th>\n",
              "      <td>198281</td>\n",
              "      <td>196871</td>\n",
              "      <td>195709</td>\n",
              "      <td>194055</td>\n",
              "      <td>192893</td>\n",
              "      <td>191862</td>\n",
              "      <td>189636</td>\n",
              "      <td>185977</td>\n",
              "      <td>183357</td>\n",
              "      <td>180973</td>\n",
              "      <td>...</td>\n",
              "      <td>175610</td>\n",
              "      <td>172110</td>\n",
              "      <td>168718</td>\n",
              "      <td>165295</td>\n",
              "      <td>163116</td>\n",
              "      <td>162548</td>\n",
              "      <td>163270</td>\n",
              "      <td>164422</td>\n",
              "      <td>165275</td>\n",
              "      <td>166345</td>\n",
              "    </tr>\n",
              "    <tr>\n",
              "      <th>Besan\u00e7on</th>\n",
              "      <td>116373</td>\n",
              "      <td>115600</td>\n",
              "      <td>114282</td>\n",
              "      <td>113312</td>\n",
              "      <td>112076</td>\n",
              "      <td>110261</td>\n",
              "      <td>108106</td>\n",
              "      <td>105463</td>\n",
              "      <td>103336</td>\n",
              "      <td>102264</td>\n",
              "      <td>...</td>\n",
              "      <td>100117</td>\n",
              "      <td>98611</td>\n",
              "      <td>97038</td>\n",
              "      <td>95779</td>\n",
              "      <td>95074</td>\n",
              "      <td>94501</td>\n",
              "      <td>94599</td>\n",
              "      <td>94745</td>\n",
              "      <td>94351</td>\n",
              "      <td>94613</td>\n",
              "    </tr>\n",
              "    <tr>\n",
              "      <th>Bordeaux</th>\n",
              "      <td>253551</td>\n",
              "      <td>252644</td>\n",
              "      <td>249658</td>\n",
              "      <td>247708</td>\n",
              "      <td>247499</td>\n",
              "      <td>245757</td>\n",
              "      <td>244992</td>\n",
              "      <td>243047</td>\n",
              "      <td>243592</td>\n",
              "      <td>245198</td>\n",
              "      <td>...</td>\n",
              "      <td>244805</td>\n",
              "      <td>244343</td>\n",
              "      <td>242602</td>\n",
              "      <td>242933</td>\n",
              "      <td>243146</td>\n",
              "      <td>244336</td>\n",
              "      <td>246806</td>\n",
              "      <td>250626</td>\n",
              "      <td>252085</td>\n",
              "      <td>255761</td>\n",
              "    </tr>\n",
              "    <tr>\n",
              "      <th>Caen</th>\n",
              "      <td>145435</td>\n",
              "      <td>144369</td>\n",
              "      <td>141883</td>\n",
              "      <td>140658</td>\n",
              "      <td>139585</td>\n",
              "      <td>137704</td>\n",
              "      <td>135613</td>\n",
              "      <td>133255</td>\n",
              "      <td>131206</td>\n",
              "      <td>129271</td>\n",
              "      <td>...</td>\n",
              "      <td>125552</td>\n",
              "      <td>123889</td>\n",
              "      <td>122550</td>\n",
              "      <td>121002</td>\n",
              "      <td>119857</td>\n",
              "      <td>119426</td>\n",
              "      <td>119184</td>\n",
              "      <td>119764</td>\n",
              "      <td>119010</td>\n",
              "      <td>119238</td>\n",
              "    </tr>\n",
              "  </tbody>\n",
              "</table>\n",
              "<p>5 rows \u00d7 21 columns</p>\n",
              "</div>"
            ],
            "text/plain": [
              "                 1993    1994    1995    1996    1997    1998    1999    2000  \\\n",
              "acad\u00e9mie                                                                        \n",
              "Aix-Marseille  241357  242298  242096  242295  243660  244608  245536  247288   \n",
              "Amiens         198281  196871  195709  194055  192893  191862  189636  185977   \n",
              "Besan\u00e7on       116373  115600  114282  113312  112076  110261  108106  105463   \n",
              "Bordeaux       253551  252644  249658  247708  247499  245757  244992  243047   \n",
              "Caen           145435  144369  141883  140658  139585  137704  135613  133255   \n",
              "\n",
              "                 2001    2002  ...    2004    2005    2006    2007    2008  \\\n",
              "acad\u00e9mie                       ...                                           \n",
              "Aix-Marseille  249331  250871  ...  250622  248208  245755  243832  242309   \n",
              "Amiens         183357  180973  ...  175610  172110  168718  165295  163116   \n",
              "Besan\u00e7on       103336  102264  ...  100117   98611   97038   95779   95074   \n",
              "Bordeaux       243592  245198  ...  244805  244343  242602  242933  243146   \n",
              "Caen           131206  129271  ...  125552  123889  122550  121002  119857   \n",
              "\n",
              "                 2009    2010    2011    2012    2013  \n",
              "acad\u00e9mie                                               \n",
              "Aix-Marseille  240664  240432  241336  239051  240115  \n",
              "Amiens         162548  163270  164422  165275  166345  \n",
              "Besan\u00e7on        94501   94599   94745   94351   94613  \n",
              "Bordeaux       244336  246806  250626  252085  255761  \n",
              "Caen           119426  119184  119764  119010  119238  \n",
              "\n",
              "[5 rows x 21 columns]"
            ]
          },
          "execution_count": 7,
          "metadata": {},
          "output_type": "execute_result"
        }
      ],
      "source": [
        "import pandas, numpy, matplotlib.pyplot as plt\n",
        "from sklearn.decomposition import PCA\n",
        "import pyensae.datasource\n",
        "\n",
        "pyensae.datasource.download_data(\"eleve_region.txt\")\n",
        "df = pandas.read_csv(\"eleve_region.txt\", sep=\"\\t\", encoding=\"utf8\", index_col=0)\n",
        "print(df.shape)\n",
        "df.head(n=5)"
      ]
    },
    {
      "cell_type": "code",
      "execution_count": 7,
      "metadata": {},
      "outputs": [
        {
          "data": {
            "text/html": [
              "<div>\n",
              "<style scoped>\n",
              "    .dataframe tbody tr th:only-of-type {\n",
              "        vertical-align: middle;\n",
              "    }\n",
              "\n",
              "    .dataframe tbody tr th {\n",
              "        vertical-align: top;\n",
              "    }\n",
              "\n",
              "    .dataframe thead th {\n",
              "        text-align: right;\n",
              "    }\n",
              "</style>\n",
              "<table border=\"1\" class=\"dataframe\">\n",
              "  <thead>\n",
              "    <tr style=\"text-align: right;\">\n",
              "      <th></th>\n",
              "      <th>1993</th>\n",
              "      <th>1994</th>\n",
              "      <th>1995</th>\n",
              "      <th>1996</th>\n",
              "      <th>1997</th>\n",
              "      <th>1998</th>\n",
              "      <th>1999</th>\n",
              "      <th>2000</th>\n",
              "      <th>2001</th>\n",
              "      <th>2002</th>\n",
              "      <th>...</th>\n",
              "      <th>2004</th>\n",
              "      <th>2005</th>\n",
              "      <th>2006</th>\n",
              "      <th>2007</th>\n",
              "      <th>2008</th>\n",
              "      <th>2009</th>\n",
              "      <th>2010</th>\n",
              "      <th>2011</th>\n",
              "      <th>2012</th>\n",
              "      <th>2013</th>\n",
              "    </tr>\n",
              "    <tr>\n",
              "      <th>acad\u00e9mie</th>\n",
              "      <th></th>\n",
              "      <th></th>\n",
              "      <th></th>\n",
              "      <th></th>\n",
              "      <th></th>\n",
              "      <th></th>\n",
              "      <th></th>\n",
              "      <th></th>\n",
              "      <th></th>\n",
              "      <th></th>\n",
              "      <th></th>\n",
              "      <th></th>\n",
              "      <th></th>\n",
              "      <th></th>\n",
              "      <th></th>\n",
              "      <th></th>\n",
              "      <th></th>\n",
              "      <th></th>\n",
              "      <th></th>\n",
              "      <th></th>\n",
              "      <th></th>\n",
              "    </tr>\n",
              "  </thead>\n",
              "  <tbody>\n",
              "    <tr>\n",
              "      <th>Aix-Marseille</th>\n",
              "      <td>1.0</td>\n",
              "      <td>1.003899</td>\n",
              "      <td>1.003062</td>\n",
              "      <td>1.003886</td>\n",
              "      <td>1.009542</td>\n",
              "      <td>1.013470</td>\n",
              "      <td>1.017315</td>\n",
              "      <td>1.024574</td>\n",
              "      <td>1.033038</td>\n",
              "      <td>1.039419</td>\n",
              "      <td>...</td>\n",
              "      <td>1.038387</td>\n",
              "      <td>1.028385</td>\n",
              "      <td>1.018222</td>\n",
              "      <td>1.010255</td>\n",
              "      <td>1.003944</td>\n",
              "      <td>0.997129</td>\n",
              "      <td>0.996168</td>\n",
              "      <td>0.999913</td>\n",
              "      <td>0.990446</td>\n",
              "      <td>0.994854</td>\n",
              "    </tr>\n",
              "    <tr>\n",
              "      <th>Amiens</th>\n",
              "      <td>1.0</td>\n",
              "      <td>0.992889</td>\n",
              "      <td>0.987029</td>\n",
              "      <td>0.978687</td>\n",
              "      <td>0.972826</td>\n",
              "      <td>0.967627</td>\n",
              "      <td>0.956400</td>\n",
              "      <td>0.937947</td>\n",
              "      <td>0.924733</td>\n",
              "      <td>0.912710</td>\n",
              "      <td>...</td>\n",
              "      <td>0.885662</td>\n",
              "      <td>0.868011</td>\n",
              "      <td>0.850904</td>\n",
              "      <td>0.833640</td>\n",
              "      <td>0.822651</td>\n",
              "      <td>0.819786</td>\n",
              "      <td>0.823427</td>\n",
              "      <td>0.829237</td>\n",
              "      <td>0.833539</td>\n",
              "      <td>0.838936</td>\n",
              "    </tr>\n",
              "    <tr>\n",
              "      <th>Besan\u00e7on</th>\n",
              "      <td>1.0</td>\n",
              "      <td>0.993358</td>\n",
              "      <td>0.982032</td>\n",
              "      <td>0.973697</td>\n",
              "      <td>0.963076</td>\n",
              "      <td>0.947479</td>\n",
              "      <td>0.928961</td>\n",
              "      <td>0.906250</td>\n",
              "      <td>0.887972</td>\n",
              "      <td>0.878761</td>\n",
              "      <td>...</td>\n",
              "      <td>0.860311</td>\n",
              "      <td>0.847370</td>\n",
              "      <td>0.833853</td>\n",
              "      <td>0.823035</td>\n",
              "      <td>0.816976</td>\n",
              "      <td>0.812053</td>\n",
              "      <td>0.812895</td>\n",
              "      <td>0.814149</td>\n",
              "      <td>0.810764</td>\n",
              "      <td>0.813015</td>\n",
              "    </tr>\n",
              "    <tr>\n",
              "      <th>Bordeaux</th>\n",
              "      <td>1.0</td>\n",
              "      <td>0.996423</td>\n",
              "      <td>0.984646</td>\n",
              "      <td>0.976955</td>\n",
              "      <td>0.976131</td>\n",
              "      <td>0.969261</td>\n",
              "      <td>0.966243</td>\n",
              "      <td>0.958572</td>\n",
              "      <td>0.960722</td>\n",
              "      <td>0.967056</td>\n",
              "      <td>...</td>\n",
              "      <td>0.965506</td>\n",
              "      <td>0.963684</td>\n",
              "      <td>0.956817</td>\n",
              "      <td>0.958123</td>\n",
              "      <td>0.958963</td>\n",
              "      <td>0.963656</td>\n",
              "      <td>0.973398</td>\n",
              "      <td>0.988464</td>\n",
              "      <td>0.994218</td>\n",
              "      <td>1.008716</td>\n",
              "    </tr>\n",
              "    <tr>\n",
              "      <th>Caen</th>\n",
              "      <td>1.0</td>\n",
              "      <td>0.992670</td>\n",
              "      <td>0.975577</td>\n",
              "      <td>0.967154</td>\n",
              "      <td>0.959776</td>\n",
              "      <td>0.946842</td>\n",
              "      <td>0.932465</td>\n",
              "      <td>0.916251</td>\n",
              "      <td>0.902162</td>\n",
              "      <td>0.888858</td>\n",
              "      <td>...</td>\n",
              "      <td>0.863286</td>\n",
              "      <td>0.851851</td>\n",
              "      <td>0.842644</td>\n",
              "      <td>0.832001</td>\n",
              "      <td>0.824128</td>\n",
              "      <td>0.821164</td>\n",
              "      <td>0.819500</td>\n",
              "      <td>0.823488</td>\n",
              "      <td>0.818304</td>\n",
              "      <td>0.819871</td>\n",
              "    </tr>\n",
              "  </tbody>\n",
              "</table>\n",
              "<p>5 rows \u00d7 21 columns</p>\n",
              "</div>"
            ],
            "text/plain": [
              "               1993      1994      1995      1996      1997      1998  \\\n",
              "acad\u00e9mie                                                                \n",
              "Aix-Marseille   1.0  1.003899  1.003062  1.003886  1.009542  1.013470   \n",
              "Amiens          1.0  0.992889  0.987029  0.978687  0.972826  0.967627   \n",
              "Besan\u00e7on        1.0  0.993358  0.982032  0.973697  0.963076  0.947479   \n",
              "Bordeaux        1.0  0.996423  0.984646  0.976955  0.976131  0.969261   \n",
              "Caen            1.0  0.992670  0.975577  0.967154  0.959776  0.946842   \n",
              "\n",
              "                   1999      2000      2001      2002  ...      2004  \\\n",
              "acad\u00e9mie                                               ...             \n",
              "Aix-Marseille  1.017315  1.024574  1.033038  1.039419  ...  1.038387   \n",
              "Amiens         0.956400  0.937947  0.924733  0.912710  ...  0.885662   \n",
              "Besan\u00e7on       0.928961  0.906250  0.887972  0.878761  ...  0.860311   \n",
              "Bordeaux       0.966243  0.958572  0.960722  0.967056  ...  0.965506   \n",
              "Caen           0.932465  0.916251  0.902162  0.888858  ...  0.863286   \n",
              "\n",
              "                   2005      2006      2007      2008      2009      2010  \\\n",
              "acad\u00e9mie                                                                    \n",
              "Aix-Marseille  1.028385  1.018222  1.010255  1.003944  0.997129  0.996168   \n",
              "Amiens         0.868011  0.850904  0.833640  0.822651  0.819786  0.823427   \n",
              "Besan\u00e7on       0.847370  0.833853  0.823035  0.816976  0.812053  0.812895   \n",
              "Bordeaux       0.963684  0.956817  0.958123  0.958963  0.963656  0.973398   \n",
              "Caen           0.851851  0.842644  0.832001  0.824128  0.821164  0.819500   \n",
              "\n",
              "                   2011      2012      2013  \n",
              "acad\u00e9mie                                     \n",
              "Aix-Marseille  0.999913  0.990446  0.994854  \n",
              "Amiens         0.829237  0.833539  0.838936  \n",
              "Besan\u00e7on       0.814149  0.810764  0.813015  \n",
              "Bordeaux       0.988464  0.994218  1.008716  \n",
              "Caen           0.823488  0.818304  0.819871  \n",
              "\n",
              "[5 rows x 21 columns]"
            ]
          },
          "execution_count": 8,
          "metadata": {},
          "output_type": "execute_result"
        }
      ],
      "source": [
        "for c in df.columns:\n",
        "    if c != \"1993\":\n",
        "        df[c] /= df [\"1993\"]\n",
        "df[\"1993\"] /= df[\"1993\"]\n",
        "df.head()"
      ]
    },
    {
      "cell_type": "code",
      "execution_count": 8,
      "metadata": {},
      "outputs": [
        {
          "data": {
            "text/plain": [
              "AgglomerativeClustering(compute_full_tree=True)"
            ]
          },
          "execution_count": 9,
          "metadata": {},
          "output_type": "execute_result"
        }
      ],
      "source": [
        "from sklearn.cluster import AgglomerativeClustering\n",
        "\n",
        "ward = AgglomerativeClustering(linkage='ward', compute_full_tree=True).fit(df)\n",
        "ward"
      ]
    },
    {
      "cell_type": "code",
      "execution_count": 9,
      "metadata": {},
      "outputs": [
        {
          "data": {
            "image/png": "[encoded data removed]",
            "text/plain": [
              "<Figure size 576x576 with 1 Axes>"
            ]
          },
          "metadata": {
            "needs_background": "light"
          },
          "output_type": "display_data"
        }
      ],
      "source": [
        "from scipy.cluster.hierarchy import dendrogram\n",
        "import matplotlib.pyplot as plt\n",
        "\n",
        "dendro = [ ]\n",
        "for a,b in ward.children_:\n",
        "    dendro.append([a, b, float(len(dendro)+1), len(dendro)+1])\n",
        "    # le dernier coefficient devrait contenir le nombre de feuilles d\u00e9pendant de ce noeud\n",
        "    # et non le dernier indice\n",
        "    # de m\u00eame, le niveau (3\u00e8me colonne) ne devrait pas \u00eatre le nombre de noeud\n",
        "    # mais la distance de Ward\n",
        "    \n",
        "fig = plt.figure( figsize=(8,8) )\n",
        "ax = fig.add_subplot(1,1,1) \n",
        "r = dendrogram(dendro, color_threshold=1, labels=list(df.index),\n",
        "               show_leaf_counts=True, ax=ax, orientation=\"left\")"
      ]
    },
    {
      "cell_type": "markdown",
      "metadata": {},
      "source": [
        "Je reprends \u00e9galement le graphique montrant la matrice de corr\u00e9lations qu'on peut \u00e9galement obtenir avec [seaborn : clustermap](https://seaborn.pydata.org/examples/structured_heatmap.html)."
      ]
    },
    {
      "cell_type": "code",
      "execution_count": 10,
      "metadata": {},
      "outputs": [
        {
          "data": {
            "image/png": "[encoded data removed]",
            "text/plain": [
              "<Figure size 576x576 with 4 Axes>"
            ]
          },
          "metadata": {
            "needs_background": "light"
          },
          "output_type": "display_data"
        }
      ],
      "source": [
        "from scipy.spatial.distance import pdist, squareform\n",
        "\n",
        "data_dist = pdist(df)\n",
        "\n",
        "fig = plt.figure(figsize=(8,8))\n",
        "\n",
        "# x ywidth height\n",
        "ax1 = fig.add_axes([0.05,0.1,0.2,0.6])\n",
        "Z1 = dendrogram(dendro, orientation='right',labels=list(df.index))\n",
        "ax1.set_xticks([])\n",
        "\n",
        "# Compute and plot second dendrogram.\n",
        "ax2 = fig.add_axes([0.3,0.71,0.6,0.2])\n",
        "Z2 = dendrogram(dendro)\n",
        "ax2.set_xticks([])\n",
        "ax2.set_yticks([])\n",
        "\n",
        "# Compute and plot the heatmap\n",
        "axmatrix = fig.add_axes([0.3,0.1,0.6,0.6])\n",
        "idx1 = Z1['leaves']\n",
        "idx2 = Z2['leaves']\n",
        "\n",
        "D = squareform(data_dist)\n",
        "D = D[idx1,:]\n",
        "D = D[:,idx2]\n",
        "im = axmatrix.matshow(D, aspect='auto', origin='lower', cmap=plt.cm.YlGnBu)\n",
        "axmatrix.set_xticks([])\n",
        "axmatrix.set_yticks([])\n",
        "\n",
        "# Plot colorbar.\n",
        "axcolor = fig.add_axes([0.91,0.1,0.02,0.6])\n",
        "plt.colorbar(im, cax=axcolor)\n",
        "plt.title(\"Matrice de corr\u00e9lation et dendogramme.\");"
      ]
    },
    {
      "cell_type": "markdown",
      "metadata": {},
      "source": [
        "### Exercice 2 : r\u00e9gression lin\u00e9aire\n",
        "\n",
        "Ce sont trois m\u00e9thodes supervis\u00e9es : on s'en sert pour expliquer pr\u00e9dire le lien entre deux variables $X$ et $Y$ (ou ensemble de variables) ou pr\u00e9dire $Y$ en fonction de $X$. On suppose que les donn\u00e9es ont d\u00e9j\u00e0 \u00e9t\u00e9 t\u00e9l\u00e9charg\u00e9es (voir l'\u00e9nonc\u00e9 de cet exercice). On continue avec l'extraction de l'\u00e2ge, du sexe et du salaire comme indiqu\u00e9 dans l'\u00e9nonc\u00e9."
      ]
    },
    {
      "cell_type": "code",
      "execution_count": 11,
      "metadata": {},
      "outputs": [
        {
          "data": {
            "text/html": [
              "<div>\n",
              "<style scoped>\n",
              "    .dataframe tbody tr th:only-of-type {\n",
              "        vertical-align: middle;\n",
              "    }\n",
              "\n",
              "    .dataframe tbody tr th {\n",
              "        vertical-align: top;\n",
              "    }\n",
              "\n",
              "    .dataframe thead th {\n",
              "        text-align: right;\n",
              "    }\n",
              "</style>\n",
              "<table border=\"1\" class=\"dataframe\">\n",
              "  <thead>\n",
              "    <tr style=\"text-align: right;\">\n",
              "      <th></th>\n",
              "      <th>VARIABLE</th>\n",
              "      <th>MODALITE</th>\n",
              "      <th>MODLIBELLE</th>\n",
              "      <th>montant</th>\n",
              "    </tr>\n",
              "  </thead>\n",
              "  <tbody>\n",
              "    <tr>\n",
              "      <th>8957</th>\n",
              "      <td>TRNNETO</td>\n",
              "      <td>00</td>\n",
              "      <td>[0 ; 200[ euros</td>\n",
              "      <td>100.0</td>\n",
              "    </tr>\n",
              "    <tr>\n",
              "      <th>8958</th>\n",
              "      <td>TRNNETO</td>\n",
              "      <td>01</td>\n",
              "      <td>[200 ; 500[ euros</td>\n",
              "      <td>350.0</td>\n",
              "    </tr>\n",
              "    <tr>\n",
              "      <th>8959</th>\n",
              "      <td>TRNNETO</td>\n",
              "      <td>02</td>\n",
              "      <td>[500 ; 1 000[ euros</td>\n",
              "      <td>750.0</td>\n",
              "    </tr>\n",
              "    <tr>\n",
              "      <th>8960</th>\n",
              "      <td>TRNNETO</td>\n",
              "      <td>03</td>\n",
              "      <td>[1 000 ; 1 500[ euros</td>\n",
              "      <td>1250.0</td>\n",
              "    </tr>\n",
              "    <tr>\n",
              "      <th>8961</th>\n",
              "      <td>TRNNETO</td>\n",
              "      <td>04</td>\n",
              "      <td>[1\u00a0500 ; 2 000[ euros</td>\n",
              "      <td>1750.0</td>\n",
              "    </tr>\n",
              "  </tbody>\n",
              "</table>\n",
              "</div>"
            ],
            "text/plain": [
              "     VARIABLE MODALITE             MODLIBELLE  montant\n",
              "8957  TRNNETO       00        [0 ; 200[ euros    100.0\n",
              "8958  TRNNETO       01      [200 ; 500[ euros    350.0\n",
              "8959  TRNNETO       02    [500 ; 1 000[ euros    750.0\n",
              "8960  TRNNETO       03  [1 000 ; 1 500[ euros   1250.0\n",
              "8961  TRNNETO       04  [1\u00a0500 ; 2 000[ euros   1750.0"
            ]
          },
          "execution_count": 12,
          "metadata": {},
          "output_type": "execute_result"
        }
      ],
      "source": [
        "import sqlite3, pandas\n",
        "con = sqlite3.connect(\"salaries2011.db3\")\n",
        "df = pandas.io.sql.read_sql(\"select * from varmod\", con)\n",
        "con.close()\n",
        "\n",
        "values = df[ df.VARIABLE == \"TRNNETO\"].copy()\n",
        "\n",
        "def process_intervalle(s):\n",
        "    # [14 000 ; 16 000[ euros\n",
        "    acc = \"0123456789;+\"\n",
        "    s0 = \"\".join(c for c in s if c in acc)\n",
        "    spl = s0.split(';')\n",
        "    if len(spl) != 2:\n",
        "        raise ValueError(\"Unable to process '{0}'\".format(s0))\n",
        "    try:\n",
        "        a = float(spl[0])\n",
        "    except Exception as e:\n",
        "        raise ValueError(\"Cannot interpret '{0}' - {1}\".format(s, spl))\n",
        "    b = float(spl[1]) if \"+\" not in spl[1] else None\n",
        "    if b is None:\n",
        "        return a\n",
        "    return (a+b) / 2.0\n",
        "\n",
        "values[\"montant\"] = values.apply(lambda r : process_intervalle(r[\"MODLIBELLE\"]), axis=1)\n",
        "values.head()"
      ]
    },
    {
      "cell_type": "code",
      "execution_count": 12,
      "metadata": {},
      "outputs": [
        {
          "data": {
            "text/html": [
              "<div>\n",
              "<style scoped>\n",
              "    .dataframe tbody tr th:only-of-type {\n",
              "        vertical-align: middle;\n",
              "    }\n",
              "\n",
              "    .dataframe tbody tr th {\n",
              "        vertical-align: top;\n",
              "    }\n",
              "\n",
              "    .dataframe thead th {\n",
              "        text-align: right;\n",
              "    }\n",
              "</style>\n",
              "<table border=\"1\" class=\"dataframe\">\n",
              "  <thead>\n",
              "    <tr style=\"text-align: right;\">\n",
              "      <th></th>\n",
              "      <th>AGE</th>\n",
              "      <th>M</th>\n",
              "      <th>F</th>\n",
              "      <th>montant</th>\n",
              "    </tr>\n",
              "  </thead>\n",
              "  <tbody>\n",
              "    <tr>\n",
              "      <th>0</th>\n",
              "      <td>49.0</td>\n",
              "      <td>1</td>\n",
              "      <td>0</td>\n",
              "      <td>750.0</td>\n",
              "    </tr>\n",
              "    <tr>\n",
              "      <th>1</th>\n",
              "      <td>27.0</td>\n",
              "      <td>1</td>\n",
              "      <td>0</td>\n",
              "      <td>750.0</td>\n",
              "    </tr>\n",
              "    <tr>\n",
              "      <th>2</th>\n",
              "      <td>22.0</td>\n",
              "      <td>1</td>\n",
              "      <td>0</td>\n",
              "      <td>750.0</td>\n",
              "    </tr>\n",
              "    <tr>\n",
              "      <th>3</th>\n",
              "      <td>26.0</td>\n",
              "      <td>1</td>\n",
              "      <td>0</td>\n",
              "      <td>750.0</td>\n",
              "    </tr>\n",
              "    <tr>\n",
              "      <th>4</th>\n",
              "      <td>29.0</td>\n",
              "      <td>0</td>\n",
              "      <td>1</td>\n",
              "      <td>750.0</td>\n",
              "    </tr>\n",
              "  </tbody>\n",
              "</table>\n",
              "</div>"
            ],
            "text/plain": [
              "    AGE  M  F  montant\n",
              "0  49.0  1  0    750.0\n",
              "1  27.0  1  0    750.0\n",
              "2  22.0  1  0    750.0\n",
              "3  26.0  1  0    750.0\n",
              "4  29.0  0  1    750.0"
            ]
          },
          "execution_count": 13,
          "metadata": {},
          "output_type": "execute_result"
        }
      ],
      "source": [
        "import sqlite3, pandas\n",
        "con = sqlite3.connect(\"salaries2011.db3\")\n",
        "data = pandas.io.sql.read_sql(\"select TRNNETO,AGE,SEXE from salaries\", con)\n",
        "con.close()\n",
        "\n",
        "salaires = data.merge (values, left_on=\"TRNNETO\", right_on=\"MODALITE\" )\n",
        "salaires[\"M\"] = salaires.apply(lambda r: 1 if r[\"SEXE\"] == \"1\" else 0, axis=1)\n",
        "salaires[\"F\"] = salaires.apply(lambda r: 1 if r[\"SEXE\"] == \"2\" else 0, axis=1)\n",
        "data = salaires[[\"AGE\",\"M\",\"F\",\"montant\"]]\n",
        "data = data [data.M + data.F > 0]\n",
        "data.head()"
      ]
    },
    {
      "cell_type": "markdown",
      "metadata": {},
      "source": [
        "On supprime les valeurs manquantes :"
      ]
    },
    {
      "cell_type": "code",
      "execution_count": 13,
      "metadata": {},
      "outputs": [
        {
          "data": {
            "text/plain": [
              "(2240691, 4)"
            ]
          },
          "execution_count": 14,
          "metadata": {},
          "output_type": "execute_result"
        }
      ],
      "source": [
        "nonull = data.dropna().copy()\n",
        "nonull.shape"
      ]
    },
    {
      "cell_type": "markdown",
      "metadata": {},
      "source": [
        "#### version scikit-learn\n",
        "\n",
        "La [r\u00e9gression lin\u00e9raire](http://scikit-learn.org/stable/modules/linear_model.html) suit :"
      ]
    },
    {
      "cell_type": "code",
      "execution_count": 14,
      "metadata": {},
      "outputs": [
        {
          "data": {
            "text/plain": [
              "(2240691, 2)"
            ]
          },
          "execution_count": 15,
          "metadata": {},
          "output_type": "execute_result"
        }
      ],
      "source": [
        "nonull[[\"AGE\",\"M\"]].dropna().shape"
      ]
    },
    {
      "cell_type": "code",
      "execution_count": 15,
      "metadata": {},
      "outputs": [
        {
          "name": "stderr",
          "output_type": "stream",
          "text": [
            "C:\\Python395_x64\\lib\\site-packages\\sklearn\\base.py:443: UserWarning: X has feature names, but LinearRegression was fitted without feature names\n",
            "  warnings.warn(\n"
          ]
        },
        {
          "data": {
            "text/plain": [
              "(array([ 310.98873096, 4710.02901965]),\n",
              " 4927.219006697269,\n",
              " 'R^2=',\n",
              " 0.13957345814666222)"
            ]
          },
          "execution_count": 16,
          "metadata": {},
          "output_type": "execute_result"
        }
      ],
      "source": [
        "from sklearn import linear_model\n",
        "clf = linear_model.LinearRegression()\n",
        "clf.fit (nonull[[\"AGE\",\"M\"]].values, nonull.montant.values)\n",
        "clf.coef_, clf.intercept_, \"R^2=\", clf.score(\n",
        "    nonull[[\"AGE\",\"M\"]], nonull.montant)"
      ]
    },
    {
      "cell_type": "markdown",
      "metadata": {},
      "source": [
        "On prend un \u00e9chantillon al\u00e9atoire :"
      ]
    },
    {
      "cell_type": "code",
      "execution_count": 16,
      "metadata": {},
      "outputs": [
        {
          "data": {
            "text/plain": [
              "(2278, 5)"
            ]
          },
          "execution_count": 17,
          "metadata": {},
          "output_type": "execute_result"
        }
      ],
      "source": [
        "import random\n",
        "val = nonull.copy()\n",
        "val[\"rnd\"] = val.apply(lambda r: random.randint(0, 1000), axis=1)\n",
        "ech = val[val[\"rnd\"] == 1]\n",
        "ech.shape"
      ]
    },
    {
      "cell_type": "markdown",
      "metadata": {},
      "source": [
        "On s\u00e9pare homme et femmes :"
      ]
    },
    {
      "cell_type": "code",
      "execution_count": 17,
      "metadata": {},
      "outputs": [
        {
          "name": "stderr",
          "output_type": "stream",
          "text": [
            "C:\\Python395_x64\\lib\\site-packages\\sklearn\\base.py:443: UserWarning: X has feature names, but LinearRegression was fitted without feature names\n",
            "  warnings.warn(\n",
            "C:\\Python395_x64\\lib\\site-packages\\sklearn\\base.py:443: UserWarning: X has feature names, but LinearRegression was fitted without feature names\n",
            "  warnings.warn(\n"
          ]
        },
        {
          "data": {
            "image/png": "[encoded data removed]",
            "text/plain": [
              "<Figure size 1152x432 with 1 Axes>"
            ]
          },
          "metadata": {
            "needs_background": "light"
          },
          "output_type": "display_data"
        }
      ],
      "source": [
        "homme = ech[ech.M == 1]\n",
        "femme = ech[ech.M == 0]\n",
        "\n",
        "predh = clf.predict(homme[[\"AGE\",\"M\"]])\n",
        "predf = clf.predict(femme[[\"AGE\",\"M\"]])\n",
        "\n",
        "import matplotlib.pyplot as plt\n",
        "plt.figure(figsize=(16,6))\n",
        "plt.plot(homme.AGE, homme.montant, \"r.\")\n",
        "plt.plot(femme.AGE + 0.2, femme.montant, \"b.\")\n",
        "plt.plot(homme.AGE, predh, \"ro-\", label=\"hommes\")\n",
        "plt.plot(femme.AGE, predf, \"bo-\", label=\"femmes\")\n",
        "plt.legend()\n",
        "plt.title(\"Montant moyen par \u00e2ge et genre\");"
      ]
    },
    {
      "cell_type": "markdown",
      "metadata": {},
      "source": [
        "#### version statsmodels"
      ]
    },
    {
      "cell_type": "code",
      "execution_count": 18,
      "metadata": {},
      "outputs": [
        {
          "name": "stderr",
          "output_type": "stream",
          "text": [
            "C:\\Python395_x64\\lib\\site-packages\\statsmodels\\tsa\\base\\tsa_model.py:7: FutureWarning: pandas.Int64Index is deprecated and will be removed from pandas in a future version. Use pandas.Index with the appropriate dtype instead.\n",
            "  from pandas import (to_datetime, Int64Index, DatetimeIndex, Period,\n",
            "C:\\Python395_x64\\lib\\site-packages\\statsmodels\\tsa\\base\\tsa_model.py:7: FutureWarning: pandas.Float64Index is deprecated and will be removed from pandas in a future version. Use pandas.Index with the appropriate dtype instead.\n",
            "  from pandas import (to_datetime, Int64Index, DatetimeIndex, Period,\n"
          ]
        },
        {
          "name": "stdout",
          "output_type": "stream",
          "text": [
            "coefficients AGE     310.988731\n",
            "M      4710.029020\n",
            "one    4927.219007\n",
            "dtype: float64\n"
          ]
        },
        {
          "data": {
            "text/html": [
              "<table class=\"simpletable\">\n",
              "<caption>OLS Regression Results</caption>\n",
              "<tr>\n",
              "  <th>Dep. Variable:</th>         <td>montant</td>     <th>  R-squared:         </th>  <td>   0.140</td>  \n",
              "</tr>\n",
              "<tr>\n",
              "  <th>Model:</th>                   <td>OLS</td>       <th>  Adj. R-squared:    </th>  <td>   0.140</td>  \n",
              "</tr>\n",
              "<tr>\n",
              "  <th>Method:</th>             <td>Least Squares</td>  <th>  F-statistic:       </th>  <td>1.817e+05</td> \n",
              "</tr>\n",
              "<tr>\n",
              "  <th>Date:</th>             <td>Sat, 12 Feb 2022</td> <th>  Prob (F-statistic):</th>   <td>  0.00</td>   \n",
              "</tr>\n",
              "<tr>\n",
              "  <th>Time:</th>                 <td>18:57:08</td>     <th>  Log-Likelihood:    </th> <td>-2.4023e+07</td>\n",
              "</tr>\n",
              "<tr>\n",
              "  <th>No. Observations:</th>      <td>2240691</td>     <th>  AIC:               </th>  <td>4.805e+07</td> \n",
              "</tr>\n",
              "<tr>\n",
              "  <th>Df Residuals:</th>          <td>2240688</td>     <th>  BIC:               </th>  <td>4.805e+07</td> \n",
              "</tr>\n",
              "<tr>\n",
              "  <th>Df Model:</th>              <td>     2</td>      <th>                     </th>      <td> </td>     \n",
              "</tr>\n",
              "<tr>\n",
              "  <th>Covariance Type:</th>      <td>nonrobust</td>    <th>                     </th>      <td> </td>     \n",
              "</tr>\n",
              "</table>\n",
              "<table class=\"simpletable\">\n",
              "<tr>\n",
              "   <td></td>      <th>coef</th>     <th>std err</th>      <th>t</th>      <th>P>|t|</th>  <th>[0.025</th>    <th>0.975]</th>  \n",
              "</tr>\n",
              "<tr>\n",
              "  <th>AGE</th> <td>  310.9887</td> <td>    0.600</td> <td>  518.682</td> <td> 0.000</td> <td>  309.814</td> <td>  312.164</td>\n",
              "</tr>\n",
              "<tr>\n",
              "  <th>M</th>   <td> 4710.0290</td> <td>   14.658</td> <td>  321.323</td> <td> 0.000</td> <td> 4681.299</td> <td> 4738.759</td>\n",
              "</tr>\n",
              "<tr>\n",
              "  <th>one</th> <td> 4927.2190</td> <td>   26.032</td> <td>  189.272</td> <td> 0.000</td> <td> 4876.196</td> <td> 4978.242</td>\n",
              "</tr>\n",
              "</table>\n",
              "<table class=\"simpletable\">\n",
              "<tr>\n",
              "  <th>Omnibus:</th>       <td>132298.944</td> <th>  Durbin-Watson:     </th>  <td>   0.183</td> \n",
              "</tr>\n",
              "<tr>\n",
              "  <th>Prob(Omnibus):</th>   <td> 0.000</td>   <th>  Jarque-Bera (JB):  </th> <td>158649.997</td>\n",
              "</tr>\n",
              "<tr>\n",
              "  <th>Skew:</th>            <td> 0.614</td>   <th>  Prob(JB):          </th>  <td>    0.00</td> \n",
              "</tr>\n",
              "<tr>\n",
              "  <th>Kurtosis:</th>        <td> 3.440</td>   <th>  Cond. No.          </th>  <td>    150.</td> \n",
              "</tr>\n",
              "</table><br/><br/>Notes:<br/>[1] Standard Errors assume that the covariance matrix of the errors is correctly specified."
            ],
            "text/plain": [
              "<class 'statsmodels.iolib.summary.Summary'>\n",
              "\"\"\"\n",
              "                            OLS Regression Results                            \n",
              "==============================================================================\n",
              "Dep. Variable:                montant   R-squared:                       0.140\n",
              "Model:                            OLS   Adj. R-squared:                  0.140\n",
              "Method:                 Least Squares   F-statistic:                 1.817e+05\n",
              "Date:                Sat, 12 Feb 2022   Prob (F-statistic):               0.00\n",
              "Time:                        18:57:08   Log-Likelihood:            -2.4023e+07\n",
              "No. Observations:             2240691   AIC:                         4.805e+07\n",
              "Df Residuals:                 2240688   BIC:                         4.805e+07\n",
              "Df Model:                           2                                         \n",
              "Covariance Type:            nonrobust                                         \n",
              "==============================================================================\n",
              "                 coef    std err          t      P>|t|      [0.025      0.975]\n",
              "------------------------------------------------------------------------------\n",
              "AGE          310.9887      0.600    518.682      0.000     309.814     312.164\n",
              "M           4710.0290     14.658    321.323      0.000    4681.299    4738.759\n",
              "one         4927.2190     26.032    189.272      0.000    4876.196    4978.242\n",
              "==============================================================================\n",
              "Omnibus:                   132298.944   Durbin-Watson:                   0.183\n",
              "Prob(Omnibus):                  0.000   Jarque-Bera (JB):           158649.997\n",
              "Skew:                           0.614   Prob(JB):                         0.00\n",
              "Kurtosis:                       3.440   Cond. No.                         150.\n",
              "==============================================================================\n",
              "\n",
              "Notes:\n",
              "[1] Standard Errors assume that the covariance matrix of the errors is correctly specified.\n",
              "\"\"\""
            ]
          },
          "execution_count": 19,
          "metadata": {},
          "output_type": "execute_result"
        }
      ],
      "source": [
        "import statsmodels.api as sm\n",
        "nonull[\"one\"] = 1.0  # on ajoute la constante\n",
        "model = sm.OLS(nonull.montant, nonull [[\"AGE\",\"M\", \"one\"]])\n",
        "results = model.fit()\n",
        "print(\"coefficients\",results.params)\n",
        "results.summary()"
      ]
    },
    {
      "cell_type": "markdown",
      "metadata": {},
      "source": [
        "On reproduit le m\u00eame dessin :"
      ]
    },
    {
      "cell_type": "code",
      "execution_count": 19,
      "metadata": {},
      "outputs": [],
      "source": [
        "import random\n",
        "val = nonull.copy()\n",
        "val[\"rnd\"] = val.apply(lambda r: random.randint(0,1000), axis=1)\n",
        "ech = val[val[\"rnd\"] == 1]"
      ]
    },
    {
      "cell_type": "code",
      "execution_count": 20,
      "metadata": {},
      "outputs": [
        {
          "data": {
            "image/png": "[encoded data removed]",
            "text/plain": [
              "<Figure size 1152x432 with 1 Axes>"
            ]
          },
          "metadata": {
            "needs_background": "light"
          },
          "output_type": "display_data"
        }
      ],
      "source": [
        "homme = ech [ ech.M == 1]\n",
        "femme = ech [ ech.M == 0]\n",
        "\n",
        "predh = results.predict(homme[[\"AGE\",\"M\",\"one\"]])\n",
        "predf = results.predict(femme[[\"AGE\",\"M\",\"one\"]])\n",
        "\n",
        "import matplotlib.pyplot as plt\n",
        "def graph(homme, femme, predh, predf):\n",
        "    fig, ax = plt.subplots(1, 1, figsize=(16, 6))\n",
        "    ax.plot(homme.AGE, homme.montant, \"r.\")\n",
        "    ax.plot(femme.AGE + 0.2, femme.montant, \"b.\")\n",
        "    ax.plot(homme.AGE, predh, \"ro-\", label=\"hommes\")\n",
        "    ax.plot(femme.AGE, predf, \"bo-\", label=\"femmes\")\n",
        "    ax.legend()\n",
        "    ax.set_title(\"Montant moyen par \u00e2ge et genre\");\n",
        "    return ax\n",
        "\n",
        "graph(homme, femme, predh, predf);"
      ]
    },
    {
      "cell_type": "markdown",
      "metadata": {},
      "source": [
        "On ajoute l'intervalle de confiance sur un \u00e9chantillon :"
      ]
    },
    {
      "cell_type": "code",
      "execution_count": 21,
      "metadata": {},
      "outputs": [
        {
          "data": {
            "text/html": [
              "<div>\n",
              "<style scoped>\n",
              "    .dataframe tbody tr th:only-of-type {\n",
              "        vertical-align: middle;\n",
              "    }\n",
              "\n",
              "    .dataframe tbody tr th {\n",
              "        vertical-align: top;\n",
              "    }\n",
              "\n",
              "    .dataframe thead th {\n",
              "        text-align: right;\n",
              "    }\n",
              "</style>\n",
              "<table border=\"1\" class=\"dataframe\">\n",
              "  <thead>\n",
              "    <tr style=\"text-align: right;\">\n",
              "      <th></th>\n",
              "      <th>AGE</th>\n",
              "      <th>M</th>\n",
              "      <th>F</th>\n",
              "      <th>montant</th>\n",
              "      <th>one</th>\n",
              "      <th>rnd</th>\n",
              "      <th>pred</th>\n",
              "      <th>up</th>\n",
              "      <th>down</th>\n",
              "    </tr>\n",
              "  </thead>\n",
              "  <tbody>\n",
              "    <tr>\n",
              "      <th>86</th>\n",
              "      <td>34.0</td>\n",
              "      <td>0</td>\n",
              "      <td>1</td>\n",
              "      <td>750.0</td>\n",
              "      <td>1.0</td>\n",
              "      <td>1</td>\n",
              "      <td>10964.546920</td>\n",
              "      <td>36990.964539</td>\n",
              "      <td>-5989.292820</td>\n",
              "    </tr>\n",
              "    <tr>\n",
              "      <th>355</th>\n",
              "      <td>48.0</td>\n",
              "      <td>0</td>\n",
              "      <td>1</td>\n",
              "      <td>750.0</td>\n",
              "      <td>1.0</td>\n",
              "      <td>1</td>\n",
              "      <td>10964.547492</td>\n",
              "      <td>41344.807893</td>\n",
              "      <td>-1635.451707</td>\n",
              "    </tr>\n",
              "    <tr>\n",
              "      <th>1046</th>\n",
              "      <td>68.0</td>\n",
              "      <td>0</td>\n",
              "      <td>1</td>\n",
              "      <td>750.0</td>\n",
              "      <td>1.0</td>\n",
              "      <td>1</td>\n",
              "      <td>10964.559457</td>\n",
              "      <td>47564.605962</td>\n",
              "      <td>4584.299462</td>\n",
              "    </tr>\n",
              "    <tr>\n",
              "      <th>2008</th>\n",
              "      <td>21.0</td>\n",
              "      <td>0</td>\n",
              "      <td>1</td>\n",
              "      <td>750.0</td>\n",
              "      <td>1.0</td>\n",
              "      <td>1</td>\n",
              "      <td>10964.552144</td>\n",
              "      <td>32948.121273</td>\n",
              "      <td>-10032.156559</td>\n",
              "    </tr>\n",
              "    <tr>\n",
              "      <th>3761</th>\n",
              "      <td>18.0</td>\n",
              "      <td>1</td>\n",
              "      <td>0</td>\n",
              "      <td>750.0</td>\n",
              "      <td>1.0</td>\n",
              "      <td>1</td>\n",
              "      <td>10964.553468</td>\n",
              "      <td>36725.186695</td>\n",
              "      <td>-6255.096328</td>\n",
              "    </tr>\n",
              "  </tbody>\n",
              "</table>\n",
              "</div>"
            ],
            "text/plain": [
              "       AGE  M  F  montant  one  rnd          pred            up          down\n",
              "86    34.0  0  1    750.0  1.0    1  10964.546920  36990.964539  -5989.292820\n",
              "355   48.0  0  1    750.0  1.0    1  10964.547492  41344.807893  -1635.451707\n",
              "1046  68.0  0  1    750.0  1.0    1  10964.559457  47564.605962   4584.299462\n",
              "2008  21.0  0  1    750.0  1.0    1  10964.552144  32948.121273 -10032.156559\n",
              "3761  18.0  1  0    750.0  1.0    1  10964.553468  36725.186695  -6255.096328"
            ]
          },
          "execution_count": 22,
          "metadata": {},
          "output_type": "execute_result"
        }
      ],
      "source": [
        "from statsmodels.sandbox.regression.predstd import wls_prediction_std\n",
        "\n",
        "prstd, iv_l, iv_u = wls_prediction_std(results)\n",
        "\n",
        "val = nonull.copy()\n",
        "val[\"rnd\"] = val.apply(lambda r: random.randint(0, 1000), axis=1)\n",
        "val[\"pred\"] = prstd\n",
        "val[\"up\"] = iv_u\n",
        "val[\"down\"] = iv_l\n",
        "\n",
        "ech = val[val[\"rnd\"] == 1]\n",
        "ech.head()"
      ]
    },
    {
      "cell_type": "markdown",
      "metadata": {},
      "source": [
        "Puis on l'ajoute au graphe pr\u00e9c\u00e9dent :"
      ]
    },
    {
      "cell_type": "code",
      "execution_count": 22,
      "metadata": {},
      "outputs": [
        {
          "data": {
            "image/png": "[encoded data removed]",
            "text/plain": [
              "<Figure size 1152x432 with 1 Axes>"
            ]
          },
          "metadata": {
            "needs_background": "light"
          },
          "output_type": "display_data"
        }
      ],
      "source": [
        "homme = ech[ech.M == 1]\n",
        "femme = ech[ech.M == 0]\n",
        "\n",
        "predh = results.predict(homme[[\"AGE\",\"M\",\"one\"]])\n",
        "predf = results.predict(femme[[\"AGE\",\"M\",\"one\"]])\n",
        "\n",
        "ax = graph(homme, femme, predh, predf)\n",
        "ax.plot(homme.AGE, homme.up, 'r-')\n",
        "ax.plot(homme.AGE, homme.down, 'r-')\n",
        "ax.plot(femme.AGE, femme.up, 'b-')\n",
        "ax.plot(femme.AGE, femme.down, 'b-')\n",
        "ax.set_title(\"Montant moyen par \u00e2ge et genre avec \u00e9cart-type\");"
      ]
    },
    {
      "cell_type": "code",
      "execution_count": 23,
      "metadata": {},
      "outputs": [],
      "source": []
    },
    {
      "cell_type": "code",
      "execution_count": 24,
      "metadata": {},
      "outputs": [],
      "source": []
    }
  ],
  "metadata": {
    "kernelspec": {
      "display_name": "Python 3",
      "language": "python",
      "name": "python3"
    },
    "language_info": {
      "codemirror_mode": {
        "name": "ipython",
        "version": 3
      },
      "file_extension": ".py",
      "mimetype": "text/x-python",
      "name": "python",
      "nbconvert_exporter": "python",
      "pygments_lexer": "ipython3",
      "version": "3.9.5"
    }
  },
  "nbformat": 4,
  "nbformat_minor": 1
}