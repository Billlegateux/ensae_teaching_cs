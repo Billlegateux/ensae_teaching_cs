{
  "cells": [
    {
      "cell_type": "markdown",
      "metadata": {},
      "source": [
        "# 2A.ml - Boosting, random forest, gradient - les features qu'ils aiment\n",
        "\n",
        "Avantages et inconv\u00e9nients des m\u00e9thodes \u00e0 gradient. Exercice sur la rotation de features avant l'utilisation d'une random forest."
      ]
    },
    {
      "cell_type": "code",
      "execution_count": 1,
      "metadata": {},
      "outputs": [
        {
          "data": {
            "text/html": [
              "<div id=\"my_id_menu_nb\">run previous cell, wait for 2 seconds</div>\n",
              "<script>\n",
              "function repeat_indent_string(n){\n",
              "    var a = \"\" ;\n",
              "    for ( ; n > 0 ; --n)\n",
              "        a += \"    \";\n",
              "    return a;\n",
              "}\n",
              "// look up into all sections and builds an automated menu //\n",
              "var update_menu_string = function(begin, lfirst, llast, sformat, send, keep_item, begin_format, end_format) {\n",
              "    var anchors = document.getElementsByClassName(\"section\");\n",
              "    if (anchors.length == 0) {\n",
              "        anchors = document.getElementsByClassName(\"text_cell_render rendered_html\");\n",
              "    }\n",
              "    var i,t;\n",
              "    var text_menu = begin;\n",
              "    var text_memo = \"<pre>\\nlength:\" + anchors.length + \"\\n\";\n",
              "    var ind = \"\";\n",
              "    var memo_level = 1;\n",
              "    var href;\n",
              "    var tags = [];\n",
              "    var main_item = 0;\n",
              "    var format_open = 0;\n",
              "    for (i = 0; i <= llast; i++)\n",
              "        tags.push(\"h\" + i);\n",
              "\n",
              "    for (i = 0; i < anchors.length; i++) {\n",
              "        text_memo += \"**\" + anchors[i].id + \"--\\n\";\n",
              "\n",
              "        var child = null;\n",
              "        for(t = 0; t < tags.length; t++) {\n",
              "            var r = anchors[i].getElementsByTagName(tags[t]);\n",
              "            if (r.length > 0) {\n",
              "child = r[0];\n",
              "break;\n",
              "            }\n",
              "        }\n",
              "        if (child == null) {\n",
              "            text_memo += \"null\\n\";\n",
              "            continue;\n",
              "        }\n",
              "        if (anchors[i].hasAttribute(\"id\")) {\n",
              "            // when converted in RST\n",
              "            href = anchors[i].id;\n",
              "            text_memo += \"#1-\" + href;\n",
              "            // passer \u00e0 child suivant (le chercher)\n",
              "        }\n",
              "        else if (child.hasAttribute(\"id\")) {\n",
              "            // in a notebook\n",
              "            href = child.id;\n",
              "            text_memo += \"#2-\" + href;\n",
              "        }\n",
              "        else {\n",
              "            text_memo += \"#3-\" + \"*\" + \"\\n\";\n",
              "            continue;\n",
              "        }\n",
              "        var title = child.textContent;\n",
              "        var level = parseInt(child.tagName.substring(1,2));\n",
              "\n",
              "        text_memo += \"--\" + level + \"?\" + lfirst + \"--\" + title + \"\\n\";\n",
              "\n",
              "        if ((level < lfirst) || (level > llast)) {\n",
              "            continue ;\n",
              "        }\n",
              "        if (title.endsWith('\u00b6')) {\n",
              "            title = title.substring(0,title.length-1).replace(\"<\", \"&lt;\")\n",
              "         .replace(\">\", \"&gt;\").replace(\"&\", \"&amp;\");\n",
              "        }\n",
              "        if (title.length == 0) {\n",
              "            continue;\n",
              "        }\n",
              "\n",
              "        while (level < memo_level) {\n",
              "            text_menu += end_format + \"</ul>\\n\";\n",
              "            format_open -= 1;\n",
              "            memo_level -= 1;\n",
              "        }\n",
              "        if (level == lfirst) {\n",
              "            main_item += 1;\n",
              "        }\n",
              "        if (keep_item != -1 && main_item != keep_item + 1) {\n",
              "            // alert(main_item + \" - \" + level + \" - \" + keep_item);\n",
              "            continue;\n",
              "        }\n",
              "        while (level > memo_level) {\n",
              "            text_menu += \"<ul>\\n\";\n",
              "            memo_level += 1;\n",
              "        }\n",
              "        text_menu += repeat_indent_string(level-2);\n",
              "        text_menu += begin_format + sformat.replace(\"__HREF__\", href).replace(\"__TITLE__\", title);\n",
              "        format_open += 1;\n",
              "    }\n",
              "    while (1 < memo_level) {\n",
              "        text_menu += end_format + \"</ul>\\n\";\n",
              "        memo_level -= 1;\n",
              "        format_open -= 1;\n",
              "    }\n",
              "    text_menu += send;\n",
              "    //text_menu += \"\\n\" + text_memo;\n",
              "\n",
              "    while (format_open > 0) {\n",
              "        text_menu += end_format;\n",
              "        format_open -= 1;\n",
              "    }\n",
              "    return text_menu;\n",
              "};\n",
              "var update_menu = function() {\n",
              "    var sbegin = \"\";\n",
              "    var sformat = '<a href=\"#__HREF__\">__TITLE__</a>';\n",
              "    var send = \"\";\n",
              "    var begin_format = '<li>';\n",
              "    var end_format = '</li>';\n",
              "    var keep_item = -1;\n",
              "    var text_menu = update_menu_string(sbegin, 2, 4, sformat, send, keep_item,\n",
              "       begin_format, end_format);\n",
              "    var menu = document.getElementById(\"my_id_menu_nb\");\n",
              "    menu.innerHTML=text_menu;\n",
              "};\n",
              "window.setTimeout(update_menu,2000);\n",
              "            </script>"
            ],
            "text/plain": [
              "<IPython.core.display.HTML object>"
            ]
          },
          "execution_count": 2,
          "metadata": {},
          "output_type": "execute_result"
        }
      ],
      "source": [
        "from jyquickhelper import add_notebook_menu\n",
        "add_notebook_menu()"
      ]
    },
    {
      "cell_type": "markdown",
      "metadata": {},
      "source": [
        "La bible que tout le monde recommande :\n",
        "[The Elements of Statistical Learning](http://statweb.stanford.edu/~tibs/ElemStatLearn/), Trevor Hastie, Robert Tibshirani, Jerome Friedman"
      ]
    },
    {
      "cell_type": "markdown",
      "metadata": {},
      "source": [
        "## Mod\u00e8le ou features ?\n",
        "\n",
        "On passe 90% du temps \u00e0 cr\u00e9er de nouvelles features, 10% restant \u00e0 am\u00e9liorer\n",
        "les param\u00e8tres du mod\u00e8le : \n",
        "[Travailler les features ou le mod\u00e8le](http://www.xavierdupre.fr/app/ensae_teaching_cs/helpsphinx/notebooks/ml_features_model.html#mlfeaturesmodelrst)."
      ]
    },
    {
      "cell_type": "markdown",
      "metadata": {},
      "source": [
        "## Boosting\n",
        "\n",
        "Le [boosting](https://en.wikipedia.org/wiki/Boosting_(machine_learning)) est une technique de machine learning\n",
        "qui consiste \u00e0 sur-pond\u00e9rer les erreurs. Pour un algorithme d'apprentissage it\u00e9ratif,\n",
        "cela consiste \u00e0 donner plus de poids \u00e0 l'it\u00e9ration *n* aux erreurs produites par l'it\u00e9ration *n-1*.\n",
        "L'algorithme le plus connu est [AdaBoost](https://en.wikipedia.org/wiki/AdaBoost).\n",
        "Le [gradient boosting](https://en.wikipedia.org/wiki/Gradient_boosting) est l'application de ce concept \n",
        "\u00e0 un mod\u00e8le et une fonction d'erreur d\u00e9rivable.\n",
        "\n",
        "* [The Boosting Approach to Machine Learning An Overview](https://www.cs.princeton.edu/picasso/mats/schapire02boosting_schapire.pdf)\n",
        "* [A Theory of Multiclass Boosting](http://rob.schapire.net/papers/multiboost-journal.pdf)"
      ]
    },
    {
      "cell_type": "markdown",
      "metadata": {},
      "source": [
        "## Weak Learners\n",
        "\n",
        "Un [weak learner](http://stats.stackexchange.com/questions/82049/what-is-meant-by-weak-learner>) est un mod\u00e8le \n",
        "de machine learning aux performances faibles. Typiquement, un noeud d'un arbre de d\u00e9cision est un *weak learner*.\n",
        "Le *boosting* est une fa\u00e7on de construire un *strong learner* \u00e0 partir d'un assemblage de *weak learners*."
      ]
    },
    {
      "cell_type": "markdown",
      "metadata": {},
      "source": [
        "## Forces et faiblesses des mod\u00e8les de machine learning"
      ]
    },
    {
      "cell_type": "markdown",
      "metadata": {},
      "source": [
        "### R\u00e9seau de neurones\n",
        "\n",
        "Les r\u00e9seaux de neurones s'apprennent avec des m\u00e9thodes de d'optimisation bas\u00e9es sur le gradient. Elles n'aiment pas :\n",
        "\n",
        "* *Les \u00e9chelles logarithmiques :* les variables de type fr\u00e9quences (nombre de clics sur une page, nombre d'occurence d'un mot, ...) ont des queues \u00e9paisses et quelques valeurs extr\u00eames, il est conseill\u00e9 de normaliser et de passer \u00e0 une \u00e9chelle logarithmique. \n",
        "* *Les gradients \u00e9lev\u00e9s :* le gradient peut avoir une valeur tr\u00e8s \u00e9lev\u00e9e dan un voisinage localis\u00e9e (un regression proche d'une fonction en escalier), l'optimisation \u00e0 base de gradient mettra beaucoup de temps \u00e0 converger.\n",
        "* *Les variables discr\u00e8tes :* le calcul du gradient fonctionne beaucoup mieux sur des variables continues plut\u00f4t que des variables discr\u00e8tes car cela limite le nombre de valeurs que peut prendre le gradient."
      ]
    },
    {
      "cell_type": "markdown",
      "metadata": {},
      "source": [
        "### For\u00eat al\u00e9atoire, arbre de d\u00e9cision\n",
        "\n",
        "*Ce qui ne les d\u00e9range pas :*\n",
        "\n",
        "* *Normalisation :* assemblages de d\u00e9cisions bas\u00e9es sur des seuils, les for\u00eats al\u00e9atoires et arbres de d\u00e9cisions ne sont pas sensibles aux changements d'\u00e9chelle.\n",
        "  \n",
        "*Ce qu'elle n'aime pas :*\n",
        "\n",
        "* *Decision oblique :* un seuil s'applique sur une variable, il ne peut approcher une droite $x + y = 1$ qu'avec une fonction en escalier.\n",
        "* *Multi-classe :* pour un assemblage de fonction binaire, il est plus facile d'avoir seulement deux choix. On compense cette lacune avec deux strat\u00e9gies [one versus rest](https://en.wikipedia.org/wiki/Multiclass_classification#One-vs.-rest) ou\n",
        "[one versus one](https://en.wikipedia.org/wiki/Multiclass_classification#One-vs.-one)."
      ]
    },
    {
      "cell_type": "markdown",
      "metadata": {},
      "source": [
        "### Exercice 1 : rotations al\u00e9atoires et arbres de d\u00e9cision\n",
        "\n",
        "[Random Rotation Ensembles](http://www.jmlr.org/papers/volume17/blaser16a/blaser16a.pdf) l'article \u00e9tudie le gain obtenu en utilisant des rotations al\u00e9atoires de l'ensemble des caract\u00e9ristiques. Le gain est significatif. Appliqu\u00e9 cette m\u00e9thode sur une probl\u00e8me de classification binaire."
      ]
    },
    {
      "cell_type": "code",
      "execution_count": 2,
      "metadata": {},
      "outputs": [],
      "source": []
    },
    {
      "cell_type": "markdown",
      "metadata": {},
      "source": [
        "## Benchmark"
      ]
    },
    {
      "cell_type": "markdown",
      "metadata": {},
      "source": [
        "### XGBoost\n",
        "\n",
        "[XGBoost](https://github.com/dmlc/xgboost) est une librairie de machine learning connue pour avoir gagn\u00e9 de nombreuses \n",
        "[comp\u00e9titions](https://github.com/dmlc/xgboost/blob/master/demo/README.md#machine-learning-challenge-winning-solutions).\n",
        "Extrait de [XGBoost A Scalable Tree Boosting System](https://arxiv.org/pdf/1603.02754.pdf) :"
      ]
    },
    {
      "cell_type": "code",
      "execution_count": 3,
      "metadata": {},
      "outputs": [
        {
          "data": {
            "image/png": "[encoded data removed]",
            "text/plain": [
              "<IPython.core.display.Image object>"
            ]
          },
          "execution_count": 4,
          "metadata": {},
          "output_type": "execute_result"
        }
      ],
      "source": [
        "from pyquickhelper.helpgen import NbImage\n",
        "NbImage(\"xgboost.png\")"
      ]
    },
    {
      "cell_type": "markdown",
      "metadata": {},
      "source": [
        "Plusieurs am\u00e9liorations ont \u00e9t\u00e9 impl\u00e9ment\u00e9es pour rendre l'apprentissage rapide\n",
        "et capable de g\u00e9rer de gros volumes de donn\u00e9es :\n",
        "\n",
        "* **exact greedy :** algorithme standard pour apprendre une for\u00eat al\u00e9atoire\n",
        "* **approximate global :** chaque noeud est un seuil sur une variable, ce seuil est choisi\n",
        "  parmi toutes les valeurs possibles ou des quantiles, ces quantiles sont fixes pour un arbre\n",
        "* **approximate local :** ou ces quantiles sont r\u00e9alust\u00e9s pour chaque noeud\n",
        "* **out-of-core :** la librairie compresse les valeurs des variables par colonnes pour r\u00e9duire l'empreinte\n",
        "  m\u00e9moire\n",
        "* **sparsity aware :** la librairie tient compte des valeurs manquantes qui ne sont pas trait\u00e9es\n",
        "  comme des valeurs comme les autres, chaque noeud d'un arbre poss\u00e8de une direction par d\u00e9faut \n",
        "* **parallel :** certains traitements sont parall\u00e9lis\u00e9s\n",
        "\n"
      ]
    },
    {
      "cell_type": "markdown",
      "metadata": {
        "collapsed": true
      },
      "source": [
        "### LightGBM\n",
        "\n",
        "[LightGBM](https://github.com/Microsoft/LightGBM) est une librairie concurrente de XGBoost d\u00e9velopp\u00e9 par Microsoft. Elle tend \u00e0 s'imposer car elle est plus rapide dans la plupart des cas."
      ]
    },
    {
      "cell_type": "markdown",
      "metadata": {},
      "source": [
        "### Exercice 2 : benchmark\n",
        "\n",
        "Comparer les random forest de XGBoost, LightGBM, scikit-learn sur diff\u00e9rents jeux de donn\u00e9es synth\u00e9tiques :\n",
        "\n",
        "* Classification binaire en petite dimension.\n",
        "* Classification binaire en grande dimension.\n",
        "* Classification binaire en grande dimension et sparse features.\n",
        "\n",
        "Faire de m\u00eame pour une classification multi-classes et une r\u00e9gression."
      ]
    },
    {
      "cell_type": "code",
      "execution_count": 4,
      "metadata": {},
      "outputs": [],
      "source": []
    }
  ],
  "metadata": {
    "kernelspec": {
      "display_name": "Python 3",
      "language": "python",
      "name": "python3"
    },
    "language_info": {
      "codemirror_mode": {
        "name": "ipython",
        "version": 3
      },
      "file_extension": ".py",
      "mimetype": "text/x-python",
      "name": "python",
      "nbconvert_exporter": "python",
      "pygments_lexer": "ipython3",
      "version": "3.7.0"
    }
  },
  "nbformat": 4,
  "nbformat_minor": 1
}