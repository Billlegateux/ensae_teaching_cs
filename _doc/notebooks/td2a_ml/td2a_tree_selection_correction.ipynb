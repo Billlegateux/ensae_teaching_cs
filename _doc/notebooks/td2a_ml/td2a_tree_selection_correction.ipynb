{
  "cells": [
    {
      "cell_type": "markdown",
      "metadata": {},
      "source": [
        "# 2A.ml - R\u00e9duction d'une for\u00eat al\u00e9atoire - correction\n",
        "\n",
        "Le mod\u00e8le Lasso permet de s\u00e9lectionner des variables, une for\u00eat al\u00e9atoire produit une pr\u00e9diction comme \u00e9tant la moyenne d'arbres de r\u00e9gression. Et si on m\u00e9langeait les deux ?"
      ]
    },
    {
      "cell_type": "code",
      "execution_count": 1,
      "metadata": {},
      "outputs": [
        {
          "data": {
            "text/html": [
              "<div id=\"my_id_menu_nb\">run previous cell, wait for 2 seconds</div>\n",
              "<script>\n",
              "function repeat_indent_string(n){\n",
              "    var a = \"\" ;\n",
              "    for ( ; n > 0 ; --n)\n",
              "        a += \"    \";\n",
              "    return a;\n",
              "}\n",
              "// look up into all sections and builds an automated menu //\n",
              "var update_menu_string = function(begin, lfirst, llast, sformat, send, keep_item, begin_format, end_format) {\n",
              "    var anchors = document.getElementsByClassName(\"section\");\n",
              "    if (anchors.length == 0) {\n",
              "        anchors = document.getElementsByClassName(\"text_cell_render rendered_html\");\n",
              "    }\n",
              "    var i,t;\n",
              "    var text_menu = begin;\n",
              "    var text_memo = \"<pre>\\nlength:\" + anchors.length + \"\\n\";\n",
              "    var ind = \"\";\n",
              "    var memo_level = 1;\n",
              "    var href;\n",
              "    var tags = [];\n",
              "    var main_item = 0;\n",
              "    var format_open = 0;\n",
              "    for (i = 0; i <= llast; i++)\n",
              "        tags.push(\"h\" + i);\n",
              "\n",
              "    for (i = 0; i < anchors.length; i++) {\n",
              "        text_memo += \"**\" + anchors[i].id + \"--\\n\";\n",
              "\n",
              "        var child = null;\n",
              "        for(t = 0; t < tags.length; t++) {\n",
              "            var r = anchors[i].getElementsByTagName(tags[t]);\n",
              "            if (r.length > 0) {\n",
              "child = r[0];\n",
              "break;\n",
              "            }\n",
              "        }\n",
              "        if (child == null) {\n",
              "            text_memo += \"null\\n\";\n",
              "            continue;\n",
              "        }\n",
              "        if (anchors[i].hasAttribute(\"id\")) {\n",
              "            // when converted in RST\n",
              "            href = anchors[i].id;\n",
              "            text_memo += \"#1-\" + href;\n",
              "            // passer \u00e0 child suivant (le chercher)\n",
              "        }\n",
              "        else if (child.hasAttribute(\"id\")) {\n",
              "            // in a notebook\n",
              "            href = child.id;\n",
              "            text_memo += \"#2-\" + href;\n",
              "        }\n",
              "        else {\n",
              "            text_memo += \"#3-\" + \"*\" + \"\\n\";\n",
              "            continue;\n",
              "        }\n",
              "        var title = child.textContent;\n",
              "        var level = parseInt(child.tagName.substring(1,2));\n",
              "\n",
              "        text_memo += \"--\" + level + \"?\" + lfirst + \"--\" + title + \"\\n\";\n",
              "\n",
              "        if ((level < lfirst) || (level > llast)) {\n",
              "            continue ;\n",
              "        }\n",
              "        if (title.endsWith('\u00b6')) {\n",
              "            title = title.substring(0,title.length-1).replace(\"<\", \"&lt;\")\n",
              "         .replace(\">\", \"&gt;\").replace(\"&\", \"&amp;\");\n",
              "        }\n",
              "        if (title.length == 0) {\n",
              "            continue;\n",
              "        }\n",
              "\n",
              "        while (level < memo_level) {\n",
              "            text_menu += end_format + \"</ul>\\n\";\n",
              "            format_open -= 1;\n",
              "            memo_level -= 1;\n",
              "        }\n",
              "        if (level == lfirst) {\n",
              "            main_item += 1;\n",
              "        }\n",
              "        if (keep_item != -1 && main_item != keep_item + 1) {\n",
              "            // alert(main_item + \" - \" + level + \" - \" + keep_item);\n",
              "            continue;\n",
              "        }\n",
              "        while (level > memo_level) {\n",
              "            text_menu += \"<ul>\\n\";\n",
              "            memo_level += 1;\n",
              "        }\n",
              "        text_menu += repeat_indent_string(level-2);\n",
              "        text_menu += begin_format + sformat.replace(\"__HREF__\", href).replace(\"__TITLE__\", title);\n",
              "        format_open += 1;\n",
              "    }\n",
              "    while (1 < memo_level) {\n",
              "        text_menu += end_format + \"</ul>\\n\";\n",
              "        memo_level -= 1;\n",
              "        format_open -= 1;\n",
              "    }\n",
              "    text_menu += send;\n",
              "    //text_menu += \"\\n\" + text_memo;\n",
              "\n",
              "    while (format_open > 0) {\n",
              "        text_menu += end_format;\n",
              "        format_open -= 1;\n",
              "    }\n",
              "    return text_menu;\n",
              "};\n",
              "var update_menu = function() {\n",
              "    var sbegin = \"\";\n",
              "    var sformat = '<a href=\"#__HREF__\">__TITLE__</a>';\n",
              "    var send = \"\";\n",
              "    var begin_format = '<li>';\n",
              "    var end_format = '</li>';\n",
              "    var keep_item = -1;\n",
              "    var text_menu = update_menu_string(sbegin, 2, 4, sformat, send, keep_item,\n",
              "       begin_format, end_format);\n",
              "    var menu = document.getElementById(\"my_id_menu_nb\");\n",
              "    menu.innerHTML=text_menu;\n",
              "};\n",
              "window.setTimeout(update_menu,2000);\n",
              "            </script>"
            ],
            "text/plain": [
              "<IPython.core.display.HTML object>"
            ]
          },
          "execution_count": 2,
          "metadata": {},
          "output_type": "execute_result"
        }
      ],
      "source": [
        "from jyquickhelper import add_notebook_menu\n",
        "add_notebook_menu()"
      ]
    },
    {
      "cell_type": "code",
      "execution_count": 2,
      "metadata": {},
      "outputs": [],
      "source": [
        "%matplotlib inline"
      ]
    },
    {
      "cell_type": "markdown",
      "metadata": {},
      "source": [
        "## Datasets\n",
        "\n",
        "Comme il faut toujours des donn\u00e9es, on prend ce jeu [Boston](https://scikit-learn.org/stable/modules/generated/sklearn.datasets.load_boston.html)."
      ]
    },
    {
      "cell_type": "code",
      "execution_count": 3,
      "metadata": {},
      "outputs": [],
      "source": [
        "from sklearn.datasets import load_diabetes\n",
        "data = load_diabetes()\n",
        "X, y = data.data, data.target"
      ]
    },
    {
      "cell_type": "code",
      "execution_count": 4,
      "metadata": {},
      "outputs": [],
      "source": [
        "from sklearn.model_selection import train_test_split\n",
        "X_train, X_test, y_train, y_test = train_test_split(X, y)"
      ]
    },
    {
      "cell_type": "markdown",
      "metadata": {},
      "source": [
        "## Une for\u00eat al\u00e9atoire"
      ]
    },
    {
      "cell_type": "code",
      "execution_count": 5,
      "metadata": {},
      "outputs": [
        {
          "data": {
            "text/plain": [
              "RandomForestRegressor()"
            ]
          },
          "execution_count": 6,
          "metadata": {},
          "output_type": "execute_result"
        }
      ],
      "source": [
        "from sklearn.ensemble import RandomForestRegressor as model_class\n",
        "clr = model_class()\n",
        "clr.fit(X_train, y_train)"
      ]
    },
    {
      "cell_type": "markdown",
      "metadata": {},
      "source": [
        "Le nombre d'arbres est..."
      ]
    },
    {
      "cell_type": "code",
      "execution_count": 6,
      "metadata": {},
      "outputs": [
        {
          "data": {
            "text/plain": [
              "100"
            ]
          },
          "execution_count": 7,
          "metadata": {},
          "output_type": "execute_result"
        }
      ],
      "source": [
        "len(clr.estimators_)"
      ]
    },
    {
      "cell_type": "code",
      "execution_count": 7,
      "metadata": {},
      "outputs": [
        {
          "data": {
            "text/plain": [
              "0.45644838513417174"
            ]
          },
          "execution_count": 8,
          "metadata": {},
          "output_type": "execute_result"
        }
      ],
      "source": [
        "from sklearn.metrics import r2_score\n",
        "r2_score(y_test, clr.predict(X_test))"
      ]
    },
    {
      "cell_type": "markdown",
      "metadata": {},
      "source": [
        "## Random Forest = moyenne des pr\u00e9dictions\n",
        "\n",
        "On recommence en faisant la moyenne soi-m\u00eame."
      ]
    },
    {
      "cell_type": "code",
      "execution_count": 8,
      "metadata": {},
      "outputs": [
        {
          "data": {
            "text/plain": [
              "0.45644838513417174"
            ]
          },
          "execution_count": 9,
          "metadata": {},
          "output_type": "execute_result"
        }
      ],
      "source": [
        "import numpy\n",
        "dest = numpy.zeros((X_test.shape[0], len(clr.estimators_)))\n",
        "estimators = numpy.array(clr.estimators_).ravel()\n",
        "for i, est in enumerate(estimators):\n",
        "    pred = est.predict(X_test)\n",
        "    dest[:, i] = pred\n",
        "\n",
        "average = numpy.mean(dest, axis=1)\n",
        "r2_score(y_test, average)"
      ]
    },
    {
      "cell_type": "markdown",
      "metadata": {},
      "source": [
        "A priori, c'est la m\u00eame chose."
      ]
    },
    {
      "cell_type": "markdown",
      "metadata": {},
      "source": [
        "## Pond\u00e9rer les arbres \u00e0 l'aide d'une r\u00e9gression lin\u00e9aire\n",
        "\n",
        "La for\u00eat al\u00e9atoire est une fa\u00e7on de cr\u00e9er de nouvelles features, 100 exactement qu'on utilise pour caler une r\u00e9gression lin\u00e9aire."
      ]
    },
    {
      "cell_type": "code",
      "execution_count": 9,
      "metadata": {},
      "outputs": [
        {
          "data": {
            "text/plain": [
              "LinearRegression()"
            ]
          },
          "execution_count": 10,
          "metadata": {},
          "output_type": "execute_result"
        }
      ],
      "source": [
        "from sklearn.linear_model import LinearRegression\n",
        "\n",
        "\n",
        "def new_features(forest, X):\n",
        "    dest = numpy.zeros((X.shape[0], len(forest.estimators_)))\n",
        "    estimators = numpy.array(forest.estimators_).ravel()\n",
        "    for i, est in enumerate(estimators):\n",
        "        pred = est.predict(X)\n",
        "        dest[:, i] = pred\n",
        "    return dest\n",
        "\n",
        "\n",
        "X_train_2 = new_features(clr, X_train)\n",
        "lr = LinearRegression()\n",
        "lr.fit(X_train_2, y_train)"
      ]
    },
    {
      "cell_type": "code",
      "execution_count": 10,
      "metadata": {},
      "outputs": [
        {
          "data": {
            "text/plain": [
              "0.4134869746554457"
            ]
          },
          "execution_count": 11,
          "metadata": {},
          "output_type": "execute_result"
        }
      ],
      "source": [
        "X_test_2 = new_features(clr, X_test)\n",
        "r2_score(y_test, lr.predict(X_test_2))"
      ]
    },
    {
      "cell_type": "markdown",
      "metadata": {},
      "source": [
        "Un peu moins bien, un peu mieux, le risque d'overfitting est un peu plus grand avec ces nombreuses features car la base d'apprentissage ne contient que 379 observations (regardez ``X_train.shape`` pour v\u00e9rifier)."
      ]
    },
    {
      "cell_type": "code",
      "execution_count": 11,
      "metadata": {},
      "outputs": [
        {
          "data": {
            "text/plain": [
              "array([-2.09457865e-02,  1.29679061e-02,  9.43392755e-03, -7.51148999e-03,\n",
              "        5.16087918e-02,  1.83294655e-02,  7.23653628e-03,  1.80807456e-02,\n",
              "       -3.25298371e-03,  1.04952870e-01,  1.66235396e-02,  3.58901717e-02,\n",
              "       -1.57599927e-02,  3.93075217e-02, -1.03558301e-02,  3.68480355e-02,\n",
              "        6.60151676e-02,  7.21841424e-03, -3.22447652e-02, -7.11075349e-03,\n",
              "        2.56119700e-02,  8.70448289e-03,  1.52166943e-02, -4.77073501e-02,\n",
              "       -2.79973243e-02,  3.98248622e-03,  3.41335072e-02,  4.37761968e-02,\n",
              "       -2.86609769e-02,  5.84325383e-04, -2.41816894e-02, -4.31525604e-02,\n",
              "       -2.94690996e-02,  4.12262686e-02,  3.15810096e-04, -3.16758484e-02,\n",
              "        3.26218949e-02,  3.94270066e-02, -1.43895048e-02, -1.23290740e-02,\n",
              "        7.54401474e-02,  4.37096599e-02,  2.41821413e-03,  3.20217041e-02,\n",
              "       -3.11952579e-02,  3.14644464e-03,  4.65619038e-02,  1.72257142e-03,\n",
              "        1.33921245e-02,  4.24316712e-02,  3.07044263e-03,  4.32540380e-02,\n",
              "        3.65472907e-02, -2.56983940e-02,  4.30878640e-02, -1.27102301e-02,\n",
              "        2.16537755e-02,  6.91462734e-02,  3.94075533e-02, -3.95348340e-02,\n",
              "        2.56391665e-02,  3.27801661e-02, -2.73111893e-02,  5.39093958e-03,\n",
              "        6.56394079e-02,  6.44363706e-02, -3.99108149e-02, -5.00667417e-03,\n",
              "        3.54294179e-02, -2.56235131e-03,  3.97903873e-02, -2.29949252e-02,\n",
              "        6.17425360e-02,  4.86772020e-02,  1.54618846e-02,  6.80923457e-03,\n",
              "        1.47147208e-02,  2.90578914e-02,  1.10473365e-02, -3.58067868e-03,\n",
              "       -3.81340514e-02, -2.45798400e-02,  1.71557222e-02, -2.30634814e-02,\n",
              "        6.62929688e-02, -1.69400497e-02,  2.85918859e-02, -4.25539805e-05,\n",
              "        2.79172301e-02,  3.33047623e-02, -9.46047879e-03,  1.73926593e-02,\n",
              "        1.63031407e-02, -9.66237825e-03,  4.08378996e-03, -2.03258914e-02,\n",
              "        6.48228883e-03, -3.06662916e-02,  1.39992907e-02,  3.61861444e-02])"
            ]
          },
          "execution_count": 12,
          "metadata": {},
          "output_type": "execute_result"
        }
      ],
      "source": [
        "lr.coef_"
      ]
    },
    {
      "cell_type": "code",
      "execution_count": 12,
      "metadata": {},
      "outputs": [
        {
          "data": {
            "image/png": "[encoded data removed]",
            "text/plain": [
              "<Figure size 864x288 with 1 Axes>"
            ]
          },
          "metadata": {
            "needs_background": "light"
          },
          "output_type": "display_data"
        }
      ],
      "source": [
        "import matplotlib.pyplot as plt\n",
        "fig, ax = plt.subplots(1, 1, figsize=(12, 4))\n",
        "ax.bar(numpy.arange(0, len(lr.coef_)), lr.coef_)\n",
        "ax.set_title(\"Coefficients pour chaque arbre calcul\u00e9s avec une r\u00e9gression lin\u00e9aire\");"
      ]
    },
    {
      "cell_type": "markdown",
      "metadata": {},
      "source": [
        "Le score est avec une r\u00e9gression lin\u00e9aire sur les variables initiales est nettement moins \u00e9lev\u00e9."
      ]
    },
    {
      "cell_type": "code",
      "execution_count": 13,
      "metadata": {},
      "outputs": [
        {
          "data": {
            "text/plain": [
              "0.49450365296272114"
            ]
          },
          "execution_count": 14,
          "metadata": {},
          "output_type": "execute_result"
        }
      ],
      "source": [
        "lr_raw = LinearRegression()\n",
        "lr_raw.fit(X_train, y_train)\n",
        "r2_score(y_test, lr_raw.predict(X_test))"
      ]
    },
    {
      "cell_type": "markdown",
      "metadata": {},
      "source": [
        "## S\u00e9lection d'arbres\n",
        "\n",
        "L'id\u00e9e est d'utiliser un algorithme de s\u00e9lection de variables type [Lasso](https://scikit-learn.org/stable/modules/generated/sklearn.linear_model.Lasso.html) pour r\u00e9duire la for\u00eat al\u00e9atoire sans perdre en performance. C'est presque le m\u00eame code."
      ]
    },
    {
      "cell_type": "code",
      "execution_count": 14,
      "metadata": {},
      "outputs": [
        {
          "data": {
            "text/plain": [
              "array([-0.01957286,  0.01233369,  0.00954118, -0.00569504,  0.05049884,\n",
              "        0.01689251,  0.00654297,  0.01733487, -0.001983  ,  0.10400337,\n",
              "        0.01641583,  0.03557317, -0.01438057,  0.03812027, -0.00941841,\n",
              "        0.03543891,  0.06498173,  0.00790916, -0.03173719, -0.00512061,\n",
              "        0.02618226,  0.00872055,  0.0131708 , -0.04746082, -0.02753308,\n",
              "        0.00404911,  0.03485009,  0.04268146, -0.02774186,  0.        ,\n",
              "       -0.02320031, -0.04180379, -0.02657871,  0.04069398,  0.0001481 ,\n",
              "       -0.02846403,  0.03199247,  0.03842821, -0.01314624, -0.01076699,\n",
              "        0.07402192,  0.04288976,  0.00227952,  0.03126979, -0.02792699,\n",
              "        0.00095921,  0.0462247 ,  0.00120941,  0.01234276,  0.04226981,\n",
              "        0.00160673,  0.0427622 ,  0.03551004, -0.02358261,  0.04337921,\n",
              "       -0.01070174,  0.02080949,  0.06721657,  0.03804108, -0.03936158,\n",
              "        0.02494815,  0.03105243, -0.02499851,  0.00457056,  0.06495372,\n",
              "        0.06310639, -0.03850654, -0.00462205,  0.03420462, -0.00174634,\n",
              "        0.03783146, -0.02243859,  0.06010729,  0.04711684,  0.0151376 ,\n",
              "        0.00733786,  0.01459947,  0.02916957,  0.01121003, -0.00256379,\n",
              "       -0.0361877 , -0.02292101,  0.01660751, -0.02246885,  0.06526353,\n",
              "       -0.01654637,  0.02958867,  0.00056826,  0.02714269,  0.03228886,\n",
              "       -0.00976671,  0.01639697,  0.01627114, -0.00857047,  0.00255319,\n",
              "       -0.01879625,  0.00517358, -0.0292916 ,  0.01473404,  0.03575909])"
            ]
          },
          "execution_count": 15,
          "metadata": {},
          "output_type": "execute_result"
        }
      ],
      "source": [
        "from sklearn.linear_model import Lasso\n",
        "\n",
        "lrs = Lasso(max_iter=10000)\n",
        "lrs.fit(X_train_2, y_train)\n",
        "lrs.coef_"
      ]
    },
    {
      "cell_type": "markdown",
      "metadata": {},
      "source": [
        "Pas mal de z\u00e9ros donc pas mal d'arbres non utilis\u00e9s."
      ]
    },
    {
      "cell_type": "code",
      "execution_count": 15,
      "metadata": {},
      "outputs": [
        {
          "data": {
            "text/plain": [
              "0.41523953764907784"
            ]
          },
          "execution_count": 16,
          "metadata": {},
          "output_type": "execute_result"
        }
      ],
      "source": [
        "r2_score(y_test, lrs.predict(X_test_2))"
      ]
    },
    {
      "cell_type": "markdown",
      "metadata": {},
      "source": [
        "Pas trop de perte... Ca donne envie d'essayer plusieurs valeur de `alpha`."
      ]
    },
    {
      "cell_type": "code",
      "execution_count": 16,
      "metadata": {},
      "outputs": [
        {
          "name": "stderr",
          "output_type": "stream",
          "text": [
            "  0%|          | 0/200 [00:00<?, ?it/s]<ipython-input-50-9ddf7d241c96>:7: UserWarning: With alpha=0, this algorithm does not converge well. You are advised to use the LinearRegression estimator\n",
            "  lrs.fit(X_train_2, y_train)\n",
            "C:\\Python395_x64\\lib\\site-packages\\sklearn\\linear_model\\_coordinate_descent.py:647: UserWarning: Coordinate descent with no regularization may lead to unexpected results and is discouraged.\n",
            "  model = cd_fast.enet_coordinate_descent(\n",
            "C:\\Python395_x64\\lib\\site-packages\\sklearn\\linear_model\\_coordinate_descent.py:647: ConvergenceWarning: Objective did not converge. You might want to increase the number of iterations, check the scale of the features or consider increasing regularisation. Duality gap: 3.376e+04, tolerance: 1.963e+02 Linear regression models with null weight for the l1 regularization term are more efficiently fitted using one of the solvers implemented in sklearn.linear_model.Ridge/RidgeCV instead.\n",
            "  model = cd_fast.enet_coordinate_descent(\n",
            "100%|\u2588\u2588\u2588\u2588\u2588\u2588\u2588\u2588\u2588\u2588| 200/200 [00:45<00:00,  4.38it/s]\n"
          ]
        }
      ],
      "source": [
        "from tqdm import tqdm\n",
        "alphas = [0.01 * i for i in range(100)] +[1 + 0.1 * i for i in range(100)]\n",
        "obs = []\n",
        "for i in tqdm(range(0, len(alphas))):\n",
        "    alpha = alphas[i]\n",
        "    lrs = Lasso(max_iter=20000, alpha=alpha)\n",
        "    lrs.fit(X_train_2, y_train)\n",
        "    obs.append(dict(\n",
        "        alpha=alpha,\n",
        "        null=len(lrs.coef_[lrs.coef_!=0]),\n",
        "        r2=r2_score(y_test, lrs.predict(X_test_2))\n",
        "    ))"
      ]
    },
    {
      "cell_type": "code",
      "execution_count": 17,
      "metadata": {},
      "outputs": [
        {
          "data": {
            "text/html": [
              "<div>\n",
              "<style scoped>\n",
              "    .dataframe tbody tr th:only-of-type {\n",
              "        vertical-align: middle;\n",
              "    }\n",
              "\n",
              "    .dataframe tbody tr th {\n",
              "        vertical-align: top;\n",
              "    }\n",
              "\n",
              "    .dataframe thead th {\n",
              "        text-align: right;\n",
              "    }\n",
              "</style>\n",
              "<table border=\"1\" class=\"dataframe\">\n",
              "  <thead>\n",
              "    <tr style=\"text-align: right;\">\n",
              "      <th></th>\n",
              "      <th>alpha</th>\n",
              "      <th>null</th>\n",
              "      <th>r2</th>\n",
              "    </tr>\n",
              "  </thead>\n",
              "  <tbody>\n",
              "    <tr>\n",
              "      <th>195</th>\n",
              "      <td>10.5</td>\n",
              "      <td>83</td>\n",
              "      <td>0.429636</td>\n",
              "    </tr>\n",
              "    <tr>\n",
              "      <th>196</th>\n",
              "      <td>10.6</td>\n",
              "      <td>83</td>\n",
              "      <td>0.429767</td>\n",
              "    </tr>\n",
              "    <tr>\n",
              "      <th>197</th>\n",
              "      <td>10.7</td>\n",
              "      <td>83</td>\n",
              "      <td>0.429898</td>\n",
              "    </tr>\n",
              "    <tr>\n",
              "      <th>198</th>\n",
              "      <td>10.8</td>\n",
              "      <td>83</td>\n",
              "      <td>0.430029</td>\n",
              "    </tr>\n",
              "    <tr>\n",
              "      <th>199</th>\n",
              "      <td>10.9</td>\n",
              "      <td>83</td>\n",
              "      <td>0.430158</td>\n",
              "    </tr>\n",
              "  </tbody>\n",
              "</table>\n",
              "</div>"
            ],
            "text/plain": [
              "     alpha  null        r2\n",
              "195   10.5    83  0.429636\n",
              "196   10.6    83  0.429767\n",
              "197   10.7    83  0.429898\n",
              "198   10.8    83  0.430029\n",
              "199   10.9    83  0.430158"
            ]
          },
          "execution_count": 18,
          "metadata": {},
          "output_type": "execute_result"
        }
      ],
      "source": [
        "from pandas import DataFrame\n",
        "df = DataFrame(obs)\n",
        "df.tail()"
      ]
    },
    {
      "cell_type": "code",
      "execution_count": 18,
      "metadata": {},
      "outputs": [
        {
          "data": {
            "image/png": "[encoded data removed]",
            "text/plain": [
              "<Figure size 864x288 with 2 Axes>"
            ]
          },
          "metadata": {
            "needs_background": "light"
          },
          "output_type": "display_data"
        }
      ],
      "source": [
        "fig, ax = plt.subplots(1, 2, figsize=(12, 4))\n",
        "df[[\"alpha\", \"null\"]].set_index(\"alpha\").plot(ax=ax[0], logx=True)\n",
        "ax[0].set_title(\"Nombre de coefficients non nulls\")\n",
        "df[[\"alpha\", \"r2\"]].set_index(\"alpha\").plot(ax=ax[1], logx=True)\n",
        "ax[1].set_title(\"r2\");"
      ]
    },
    {
      "cell_type": "markdown",
      "metadata": {},
      "source": [
        "Dans ce cas, supprimer des arbres augmente la performance, comme \u00e9voqu\u00e9 ci-dessus, cela r\u00e9duit l'overfitting. Le nombre d'arbres peut \u00eatre r\u00e9duit des deux tiers avec ce mod\u00e8le."
      ]
    },
    {
      "cell_type": "code",
      "execution_count": 19,
      "metadata": {},
      "outputs": [],
      "source": []
    }
  ],
  "metadata": {
    "kernelspec": {
      "display_name": "Python 3",
      "language": "python",
      "name": "python3"
    },
    "language_info": {
      "codemirror_mode": {
        "name": "ipython",
        "version": 3
      },
      "file_extension": ".py",
      "mimetype": "text/x-python",
      "name": "python",
      "nbconvert_exporter": "python",
      "pygments_lexer": "ipython3",
      "version": "3.9.5"
    }
  },
  "nbformat": 4,
  "nbformat_minor": 2
}