{
  "cells": [
    {
      "cell_type": "markdown",
      "metadata": {},
      "source": [
        "# 2A.eco - Exercice API SNCF corrig\u00e9\n",
        "\n",
        "Manipulation d'une [API REST](https://fr.wikipedia.org/wiki/Representational_state_transfer), celle de la SNCF est prise comme exemple. Correction d'exercices."
      ]
    },
    {
      "cell_type": "code",
      "execution_count": 1,
      "metadata": {
        "ExecuteTime": {
          "end_time": "2016-10-31T22:28:01.178979",
          "start_time": "2016-10-31T22:28:01.147978"
        },
        "scrolled": true
      },
      "outputs": [
        {
          "data": {
            "text/html": [
              "<div id=\"my_id_menu_nb\">run previous cell, wait for 2 seconds</div>\n",
              "<script>\n",
              "function repeat_indent_string(n){\n",
              "    var a = \"\" ;\n",
              "    for ( ; n > 0 ; --n)\n",
              "        a += \"    \";\n",
              "    return a;\n",
              "}\n",
              "// look up into all sections and builds an automated menu //\n",
              "var update_menu_string = function(begin, lfirst, llast, sformat, send, keep_item, begin_format, end_format) {\n",
              "    var anchors = document.getElementsByClassName(\"section\");\n",
              "    if (anchors.length == 0) {\n",
              "        anchors = document.getElementsByClassName(\"text_cell_render rendered_html\");\n",
              "    }\n",
              "    var i,t;\n",
              "    var text_menu = begin;\n",
              "    var text_memo = \"<pre>\\nlength:\" + anchors.length + \"\\n\";\n",
              "    var ind = \"\";\n",
              "    var memo_level = 1;\n",
              "    var href;\n",
              "    var tags = [];\n",
              "    var main_item = 0;\n",
              "    var format_open = 0;\n",
              "    for (i = 0; i <= llast; i++)\n",
              "        tags.push(\"h\" + i);\n",
              "\n",
              "    for (i = 0; i < anchors.length; i++) {\n",
              "        text_memo += \"**\" + anchors[i].id + \"--\\n\";\n",
              "\n",
              "        var child = null;\n",
              "        for(t = 0; t < tags.length; t++) {\n",
              "            var r = anchors[i].getElementsByTagName(tags[t]);\n",
              "            if (r.length > 0) {\n",
              "child = r[0];\n",
              "break;\n",
              "            }\n",
              "        }\n",
              "        if (child == null) {\n",
              "            text_memo += \"null\\n\";\n",
              "            continue;\n",
              "        }\n",
              "        if (anchors[i].hasAttribute(\"id\")) {\n",
              "            // when converted in RST\n",
              "            href = anchors[i].id;\n",
              "            text_memo += \"#1-\" + href;\n",
              "            // passer \u00e0 child suivant (le chercher)\n",
              "        }\n",
              "        else if (child.hasAttribute(\"id\")) {\n",
              "            // in a notebook\n",
              "            href = child.id;\n",
              "            text_memo += \"#2-\" + href;\n",
              "        }\n",
              "        else {\n",
              "            text_memo += \"#3-\" + \"*\" + \"\\n\";\n",
              "            continue;\n",
              "        }\n",
              "        var title = child.textContent;\n",
              "        var level = parseInt(child.tagName.substring(1,2));\n",
              "\n",
              "        text_memo += \"--\" + level + \"?\" + lfirst + \"--\" + title + \"\\n\";\n",
              "\n",
              "        if ((level < lfirst) || (level > llast)) {\n",
              "            continue ;\n",
              "        }\n",
              "        if (title.endsWith('\u00b6')) {\n",
              "            title = title.substring(0,title.length-1).replace(\"<\", \"&lt;\")\n",
              "         .replace(\">\", \"&gt;\").replace(\"&\", \"&amp;\");\n",
              "        }\n",
              "        if (title.length == 0) {\n",
              "            continue;\n",
              "        }\n",
              "\n",
              "        while (level < memo_level) {\n",
              "            text_menu += end_format + \"</ul>\\n\";\n",
              "            format_open -= 1;\n",
              "            memo_level -= 1;\n",
              "        }\n",
              "        if (level == lfirst) {\n",
              "            main_item += 1;\n",
              "        }\n",
              "        if (keep_item != -1 && main_item != keep_item + 1) {\n",
              "            // alert(main_item + \" - \" + level + \" - \" + keep_item);\n",
              "            continue;\n",
              "        }\n",
              "        while (level > memo_level) {\n",
              "            text_menu += \"<ul>\\n\";\n",
              "            memo_level += 1;\n",
              "        }\n",
              "        text_menu += repeat_indent_string(level-2);\n",
              "        text_menu += begin_format + sformat.replace(\"__HREF__\", href).replace(\"__TITLE__\", title);\n",
              "        format_open += 1;\n",
              "    }\n",
              "    while (1 < memo_level) {\n",
              "        text_menu += end_format + \"</ul>\\n\";\n",
              "        memo_level -= 1;\n",
              "        format_open -= 1;\n",
              "    }\n",
              "    text_menu += send;\n",
              "    //text_menu += \"\\n\" + text_memo;\n",
              "\n",
              "    while (format_open > 0) {\n",
              "        text_menu += end_format;\n",
              "        format_open -= 1;\n",
              "    }\n",
              "    return text_menu;\n",
              "};\n",
              "var update_menu = function() {\n",
              "    var sbegin = \"\";\n",
              "    var sformat = '<a href=\"#__HREF__\">__TITLE__</a>';\n",
              "    var send = \"\";\n",
              "    var begin_format = '<li>';\n",
              "    var end_format = '</li>';\n",
              "    var keep_item = -1;\n",
              "    var text_menu = update_menu_string(sbegin, 2, 4, sformat, send, keep_item,\n",
              "       begin_format, end_format);\n",
              "    var menu = document.getElementById(\"my_id_menu_nb\");\n",
              "    menu.innerHTML=text_menu;\n",
              "};\n",
              "window.setTimeout(update_menu,2000);\n",
              "            </script>"
            ],
            "text/plain": [
              "<IPython.core.display.HTML object>"
            ]
          },
          "execution_count": 2,
          "metadata": {},
          "output_type": "execute_result"
        }
      ],
      "source": [
        "from jyquickhelper import add_notebook_menu\n",
        "add_notebook_menu()"
      ]
    },
    {
      "cell_type": "markdown",
      "metadata": {},
      "source": [
        "## Partie 0 - modules recommand\u00e9s et connexion \u00e0 l'API \n",
        "\n",
        "Il vous faudra s\u00fbrement les modules suivant : \n",
        "\n",
        "- requests\n",
        "- datetime\n",
        "- pandas\n",
        "- matplotlib\n",
        "\n",
        "Cr\u00e9er un login pour vous connecter \u00e0 l'API de la SNCF https://data.sncf.com/api \n",
        "\n",
        "Vous pouvez maintenant commencer. Ce notebook peut prendre du temps \u00e0 s'\u00e9x\u00e9cuter, surout \u00e0 partir de la partie 3"
      ]
    },
    {
      "cell_type": "code",
      "execution_count": 2,
      "metadata": {
        "ExecuteTime": {
          "end_time": "2016-10-31T22:28:01.188478",
          "start_time": "2016-10-31T22:28:01.182482"
        }
      },
      "outputs": [],
      "source": [
        "# !!!!! Attention \u00e0 bien mettre votre token ici  !!!!!\n",
        "\n",
        "token_auth = 'XXXXXXXXXXXXXXXXXXXXXXXXXXXXXX'"
      ]
    },
    {
      "cell_type": "code",
      "execution_count": 3,
      "metadata": {
        "ExecuteTime": {
          "end_time": "2016-10-31T22:28:01.286480",
          "start_time": "2016-10-31T22:28:01.193478"
        }
      },
      "outputs": [],
      "source": [
        "import os\n",
        "from pyquickhelper.loghelper import get_password\n",
        "if \"XXXXXX\" in token_auth:\n",
        "    token_auth = get_password(\"sncf\", \"ensae_teaching_cs,key\")"
      ]
    },
    {
      "cell_type": "markdown",
      "metadata": {},
      "source": [
        "## Partie 1 - Trouver les gares accessibles _via_ la SNCF\n",
        "\n",
        "- Trouver l'ensemble des gares disponibles sur l'API et cr\u00e9er un fichier csv avec les codes de la gare, son nom et ses coordonn\u00e9es latitude et longitude, ainsi que les informations administratives de la r\u00e9gion quand elles sont disponibles\n",
        "\n",
        "- Repr\u00e9sentez les sur un graphique"
      ]
    },
    {
      "cell_type": "code",
      "execution_count": 4,
      "metadata": {
        "ExecuteTime": {
          "end_time": "2016-10-31T22:28:02.003606",
          "start_time": "2016-10-31T22:28:01.290481"
        }
      },
      "outputs": [],
      "source": [
        "import pandas as pd\n",
        "import requests"
      ]
    },
    {
      "cell_type": "code",
      "execution_count": 5,
      "metadata": {
        "ExecuteTime": {
          "end_time": "2016-10-31T22:28:42.662787",
          "start_time": "2016-10-31T22:28:02.006100"
        }
      },
      "outputs": [
        {
          "name": "stdout",
          "output_type": "stream",
          "text": [
            "je suis \u00e0 la page 0 --- (25, 11)\n",
            "je suis \u00e0 la page 10 --- (25, 11)\n",
            "je suis \u00e0 la page 20 --- (25, 11)\n",
            "je suis \u00e0 la page 30 --- (25, 11)\n",
            "je suis \u00e0 la page 40 --- (25, 11)\n",
            "je suis \u00e0 la page 50 --- (25, 11)\n",
            "je suis \u00e0 la page 60 --- (25, 11)\n",
            "je suis \u00e0 la page 70 --- (25, 11)\n",
            "je suis \u00e0 la page 80 --- (25, 11)\n",
            "je suis \u00e0 la page 90 --- (25, 11)\n",
            "je suis \u00e0 la page 100 --- (25, 11)\n",
            "je suis \u00e0 la page 110 --- (25, 11)\n",
            "je suis \u00e0 la page 120 --- (25, 11)\n",
            "je suis \u00e0 la page 130 --- (25, 11)\n",
            "je suis \u00e0 la page 140 --- (25, 11)\n",
            "je suis \u00e0 la page 150 --- (25, 11)\n",
            "je suis \u00e0 la page 160 --- (25, 11)\n",
            "je suis \u00e0 la page 170 --- (25, 11)\n",
            "je suis \u00e0 la page 180 --- (25, 11)\n",
            "je suis \u00e0 la page 190 --- (25, 11)\n",
            "(4922, 11)\n"
          ]
        },
        {
          "data": {
            "text/html": [
              "<div>\n",
              "<style scoped>\n",
              "    .dataframe tbody tr th:only-of-type {\n",
              "        vertical-align: middle;\n",
              "    }\n",
              "\n",
              "    .dataframe tbody tr th {\n",
              "        vertical-align: top;\n",
              "    }\n",
              "\n",
              "    .dataframe thead th {\n",
              "        text-align: right;\n",
              "    }\n",
              "</style>\n",
              "<table border=\"1\" class=\"dataframe\">\n",
              "  <thead>\n",
              "    <tr style=\"text-align: right;\">\n",
              "      <th></th>\n",
              "      <th>name</th>\n",
              "      <th>label</th>\n",
              "      <th>timezone</th>\n",
              "      <th>id</th>\n",
              "      <th>lat</th>\n",
              "      <th>lon</th>\n",
              "      <th>insee</th>\n",
              "      <th>region</th>\n",
              "      <th>label_region</th>\n",
              "      <th>id_region</th>\n",
              "      <th>zip_code</th>\n",
              "    </tr>\n",
              "  </thead>\n",
              "  <tbody>\n",
              "    <tr>\n",
              "      <th>0</th>\n",
              "      <td></td>\n",
              "      <td></td>\n",
              "      <td>Europe/Paris</td>\n",
              "      <td>stop_area:SNCF:87407536</td>\n",
              "      <td>0</td>\n",
              "      <td>0</td>\n",
              "      <td>NaN</td>\n",
              "      <td>NaN</td>\n",
              "      <td>NaN</td>\n",
              "      <td>NaN</td>\n",
              "      <td>NaN</td>\n",
              "    </tr>\n",
              "    <tr>\n",
              "      <th>1</th>\n",
              "      <td>Abancourt</td>\n",
              "      <td>Abancourt (Abancourt)</td>\n",
              "      <td>Europe/Paris</td>\n",
              "      <td>stop_area:SNCF:87313759</td>\n",
              "      <td>49.685621</td>\n",
              "      <td>1.774297</td>\n",
              "      <td>60001</td>\n",
              "      <td>Abancourt</td>\n",
              "      <td>Abancourt (60220)</td>\n",
              "      <td>admin:fr:60001</td>\n",
              "      <td>60220</td>\n",
              "    </tr>\n",
              "    <tr>\n",
              "      <th>2</th>\n",
              "      <td>Abbaretz</td>\n",
              "      <td>Abbaretz (Abbaretz)</td>\n",
              "      <td>Europe/Paris</td>\n",
              "      <td>stop_area:SNCF:87481614</td>\n",
              "      <td>47.555241</td>\n",
              "      <td>-1.524289</td>\n",
              "      <td>44001</td>\n",
              "      <td>Abbaretz</td>\n",
              "      <td>Abbaretz (44170)</td>\n",
              "      <td>admin:fr:44001</td>\n",
              "      <td>44170</td>\n",
              "    </tr>\n",
              "    <tr>\n",
              "      <th>3</th>\n",
              "      <td>Abbeville</td>\n",
              "      <td>Abbeville (Abbeville)</td>\n",
              "      <td>Europe/Paris</td>\n",
              "      <td>stop_area:SNCF:87317362</td>\n",
              "      <td>50.102175</td>\n",
              "      <td>1.824538</td>\n",
              "      <td>80001</td>\n",
              "      <td>Abbeville</td>\n",
              "      <td>Abbeville (80100)</td>\n",
              "      <td>admin:fr:80001</td>\n",
              "      <td>80100</td>\n",
              "    </tr>\n",
              "    <tr>\n",
              "      <th>4</th>\n",
              "      <td>Ablon</td>\n",
              "      <td>Ablon (Ablon-sur-Seine)</td>\n",
              "      <td>Europe/Paris</td>\n",
              "      <td>stop_area:SNCF:87545269</td>\n",
              "      <td>48.725443</td>\n",
              "      <td>2.419213</td>\n",
              "      <td>94001</td>\n",
              "      <td>Ablon-sur-Seine</td>\n",
              "      <td>Ablon-sur-Seine (94480)</td>\n",
              "      <td>admin:fr:94001</td>\n",
              "      <td>94480</td>\n",
              "    </tr>\n",
              "  </tbody>\n",
              "</table>\n",
              "</div>"
            ],
            "text/plain": [
              "        name                    label      timezone                       id  \\\n",
              "0                                      Europe/Paris  stop_area:SNCF:87407536   \n",
              "1  Abancourt    Abancourt (Abancourt)  Europe/Paris  stop_area:SNCF:87313759   \n",
              "2   Abbaretz      Abbaretz (Abbaretz)  Europe/Paris  stop_area:SNCF:87481614   \n",
              "3  Abbeville    Abbeville (Abbeville)  Europe/Paris  stop_area:SNCF:87317362   \n",
              "4      Ablon  Ablon (Ablon-sur-Seine)  Europe/Paris  stop_area:SNCF:87545269   \n",
              "\n",
              "         lat        lon  insee           region             label_region  \\\n",
              "0          0          0    NaN              NaN                      NaN   \n",
              "1  49.685621   1.774297  60001        Abancourt        Abancourt (60220)   \n",
              "2  47.555241  -1.524289  44001         Abbaretz         Abbaretz (44170)   \n",
              "3  50.102175   1.824538  80001        Abbeville        Abbeville (80100)   \n",
              "4  48.725443   2.419213  94001  Ablon-sur-Seine  Ablon-sur-Seine (94480)   \n",
              "\n",
              "        id_region zip_code  \n",
              "0             NaN      NaN  \n",
              "1  admin:fr:60001    60220  \n",
              "2  admin:fr:44001    44170  \n",
              "3  admin:fr:80001    80100  \n",
              "4  admin:fr:94001    94480  "
            ]
          },
          "execution_count": 6,
          "metadata": {},
          "output_type": "execute_result"
        }
      ],
      "source": [
        "def page_gares(numero_page) :\n",
        "    return requests.get(\n",
        "        ('https://api.sncf.com/v1/coverage/sncf/stop_areas?start_page={}').format(numero_page),\n",
        "        auth=(token_auth, ''))\n",
        "\n",
        "######################################\n",
        "# on commence par la premi\u00e8re page qui nous donne le nombre de r\u00e9sultats par page ainsi que le nombre total de r\u00e9sultats                    \n",
        "\n",
        "page_initiale = page_gares(0)                        \n",
        "item_per_page = page_initiale.json()['pagination']['items_per_page']\n",
        "total_items = page_initiale.json()['pagination']['total_result']\n",
        "dfs = []\n",
        "\n",
        "# on fait une boucle sur toutes les pages suivantes \n",
        "print_done = {}\n",
        "\n",
        "for page in range(int(total_items/item_per_page)+1) : \n",
        "    stations_page = page_gares(page)\n",
        "    \n",
        "    ensemble_stations = stations_page.json()\n",
        "    \n",
        "    if 'stop_areas' not in ensemble_stations:\n",
        "        # pas d'arr\u00eat\n",
        "        continue\n",
        "    \n",
        "    # on ne retient que les informations qui nous int\u00e9ressent \n",
        "    for station in ensemble_stations['stop_areas']:\n",
        "\n",
        "        station['lat'] = station['coord']['lat']\n",
        "        station[\"lon\"]  = station['coord']['lon']\n",
        "\n",
        "        if 'administrative_regions' in station.keys() : \n",
        "            for var_api, var_df in zip(['insee','name','label','id','zip_code'],\n",
        "                                       ['insee','region','label_region','id_region','zip_code']): \n",
        "                try:\n",
        "                    station[var_df] = station['administrative_regions'][0][var_api]\n",
        "                except KeyError:\n",
        "                    if var_api not in print_done:\n",
        "                        print(\"key '{0}' not here but {1}\".format(var_api, \n",
        "                                \",\".join(station['administrative_regions'][0].keys())))\n",
        "                        print_done[var_api] = var_api\n",
        "\n",
        "        [station.pop(k,None) for k in ['coord','links','administrative_regions', 'type', 'codes']]\n",
        "\n",
        "    stations = ensemble_stations['stop_areas']\n",
        "    try:\n",
        "        dp = pd.DataFrame(stations)\n",
        "    except Exception as e:\n",
        "        # La SNCF modifie parfois le sch\u00e9ma de ses donn\u00e9es.\n",
        "        # On affiche station pour avoir une meilleure id\u00e9e que l'erreur retourn\u00e9e par pandas\n",
        "        raise Exception(\"Probl\u00e8me de donn\u00e9es\\n{0}\".format(stations)) from e\n",
        "        \n",
        "    dfs.append(dp)\n",
        "    if page % 10 == 0:\n",
        "        print(\"je suis \u00e0 la page\", page, \"---\", dp.shape)\n",
        "\n",
        "import pandas\n",
        "df = pandas.concat(dfs)\n",
        "df.to_csv(\"./ensemble_gares.csv\")  \n",
        "print(df.shape)\n",
        "df.head()"
      ]
    },
    {
      "cell_type": "code",
      "execution_count": 6,
      "metadata": {},
      "outputs": [
        {
          "data": {
            "text/html": [
              "<div>\n",
              "<style scoped>\n",
              "    .dataframe tbody tr th:only-of-type {\n",
              "        vertical-align: middle;\n",
              "    }\n",
              "\n",
              "    .dataframe tbody tr th {\n",
              "        vertical-align: top;\n",
              "    }\n",
              "\n",
              "    .dataframe thead th {\n",
              "        text-align: right;\n",
              "    }\n",
              "</style>\n",
              "<table border=\"1\" class=\"dataframe\">\n",
              "  <thead>\n",
              "    <tr style=\"text-align: right;\">\n",
              "      <th></th>\n",
              "      <th>name</th>\n",
              "      <th>label</th>\n",
              "      <th>timezone</th>\n",
              "      <th>id</th>\n",
              "      <th>lat</th>\n",
              "      <th>lon</th>\n",
              "      <th>insee</th>\n",
              "      <th>region</th>\n",
              "      <th>label_region</th>\n",
              "      <th>id_region</th>\n",
              "      <th>zip_code</th>\n",
              "    </tr>\n",
              "  </thead>\n",
              "  <tbody>\n",
              "    <tr>\n",
              "      <th>19</th>\n",
              "      <td>Gare De Lyon Noctilien</td>\n",
              "      <td>Gare De Lyon Noctilien (Paris)</td>\n",
              "      <td>Europe/Paris</td>\n",
              "      <td>stop_area:SNCF:87588202</td>\n",
              "      <td>48.84578</td>\n",
              "      <td>2.373719</td>\n",
              "      <td>75056</td>\n",
              "      <td>Paris</td>\n",
              "      <td>Paris (75000-75116)</td>\n",
              "      <td>admin:fr:75056</td>\n",
              "      <td>75000;75116</td>\n",
              "    </tr>\n",
              "    <tr>\n",
              "      <th>3</th>\n",
              "      <td>Lyon Gorge de Loup</td>\n",
              "      <td>Lyon Gorge de Loup (Lyon)</td>\n",
              "      <td>Europe/Paris</td>\n",
              "      <td>stop_area:SNCF:87721175</td>\n",
              "      <td>45.766095</td>\n",
              "      <td>4.804697</td>\n",
              "      <td>69123</td>\n",
              "      <td>Lyon</td>\n",
              "      <td>Lyon</td>\n",
              "      <td>admin:fr:69123</td>\n",
              "      <td></td>\n",
              "    </tr>\n",
              "    <tr>\n",
              "      <th>4</th>\n",
              "      <td>Lyon Jean Mac\u00e9</td>\n",
              "      <td>Lyon Jean Mac\u00e9 (Lyon)</td>\n",
              "      <td>Europe/Paris</td>\n",
              "      <td>stop_area:SNCF:87282624</td>\n",
              "      <td>45.74503</td>\n",
              "      <td>4.841499</td>\n",
              "      <td>69123</td>\n",
              "      <td>Lyon</td>\n",
              "      <td>Lyon</td>\n",
              "      <td>admin:fr:69123</td>\n",
              "      <td></td>\n",
              "    </tr>\n",
              "    <tr>\n",
              "      <th>5</th>\n",
              "      <td>Lyon Part Dieu</td>\n",
              "      <td>Lyon Part Dieu (Lyon)</td>\n",
              "      <td>Europe/Paris</td>\n",
              "      <td>stop_area:SNCF:87723197</td>\n",
              "      <td>45.760596</td>\n",
              "      <td>4.859409</td>\n",
              "      <td>69123</td>\n",
              "      <td>Lyon</td>\n",
              "      <td>Lyon</td>\n",
              "      <td>admin:fr:69123</td>\n",
              "      <td></td>\n",
              "    </tr>\n",
              "    <tr>\n",
              "      <th>6</th>\n",
              "      <td>Lyon Perrache</td>\n",
              "      <td>Lyon Perrache (Lyon)</td>\n",
              "      <td>Europe/Paris</td>\n",
              "      <td>stop_area:SNCF:87722025</td>\n",
              "      <td>45.748508</td>\n",
              "      <td>4.825777</td>\n",
              "      <td>69123</td>\n",
              "      <td>Lyon</td>\n",
              "      <td>Lyon</td>\n",
              "      <td>admin:fr:69123</td>\n",
              "      <td></td>\n",
              "    </tr>\n",
              "    <tr>\n",
              "      <th>7</th>\n",
              "      <td>Lyon Saint-Exup\u00e9ry TGV</td>\n",
              "      <td>Lyon Saint-Exup\u00e9ry TGV (Colombier-Saugnieu)</td>\n",
              "      <td>Europe/Paris</td>\n",
              "      <td>stop_area:SNCF:87762906</td>\n",
              "      <td>45.721109</td>\n",
              "      <td>5.074969</td>\n",
              "      <td>69299</td>\n",
              "      <td>Colombier-Saugnieu</td>\n",
              "      <td>Colombier-Saugnieu (69124-69125)</td>\n",
              "      <td>admin:fr:69299</td>\n",
              "      <td>69124;69125</td>\n",
              "    </tr>\n",
              "    <tr>\n",
              "      <th>8</th>\n",
              "      <td>Lyon Saint-Paul</td>\n",
              "      <td>Lyon Saint-Paul (Lyon)</td>\n",
              "      <td>Europe/Paris</td>\n",
              "      <td>stop_area:SNCF:87721159</td>\n",
              "      <td>45.766077</td>\n",
              "      <td>4.826954</td>\n",
              "      <td>69123</td>\n",
              "      <td>Lyon</td>\n",
              "      <td>Lyon</td>\n",
              "      <td>admin:fr:69123</td>\n",
              "      <td></td>\n",
              "    </tr>\n",
              "    <tr>\n",
              "      <th>9</th>\n",
              "      <td>Lyon Vaise</td>\n",
              "      <td>Lyon Vaise (Lyon)</td>\n",
              "      <td>Europe/Paris</td>\n",
              "      <td>stop_area:SNCF:87721001</td>\n",
              "      <td>45.77976</td>\n",
              "      <td>4.804186</td>\n",
              "      <td>69123</td>\n",
              "      <td>Lyon</td>\n",
              "      <td>Lyon</td>\n",
              "      <td>admin:fr:69123</td>\n",
              "      <td></td>\n",
              "    </tr>\n",
              "    <tr>\n",
              "      <th>10</th>\n",
              "      <td>Lyon-Part-Dieu Gare Routi\u00e8re</td>\n",
              "      <td>Lyon-Part-Dieu Gare Routi\u00e8re (Lyon)</td>\n",
              "      <td>Europe/Paris</td>\n",
              "      <td>stop_area:SNCF:87697128</td>\n",
              "      <td>45.761064</td>\n",
              "      <td>4.862984</td>\n",
              "      <td>69123</td>\n",
              "      <td>Lyon</td>\n",
              "      <td>Lyon</td>\n",
              "      <td>admin:fr:69123</td>\n",
              "      <td></td>\n",
              "    </tr>\n",
              "    <tr>\n",
              "      <th>11</th>\n",
              "      <td>Lyon-Perrache Gare Routi\u00e8re</td>\n",
              "      <td>Lyon-Perrache Gare Routi\u00e8re (Lyon)</td>\n",
              "      <td>Europe/Paris</td>\n",
              "      <td>stop_area:SNCF:87697136</td>\n",
              "      <td>45.74912</td>\n",
              "      <td>4.827332</td>\n",
              "      <td>69123</td>\n",
              "      <td>Lyon</td>\n",
              "      <td>Lyon</td>\n",
              "      <td>admin:fr:69123</td>\n",
              "      <td></td>\n",
              "    </tr>\n",
              "    <tr>\n",
              "      <th>12</th>\n",
              "      <td>Lyon-Saint-Paul La Feuill\u00e9e</td>\n",
              "      <td>Lyon-Saint-Paul La Feuill\u00e9e (Lyon)</td>\n",
              "      <td>Europe/Paris</td>\n",
              "      <td>stop_area:SNCF:87698340</td>\n",
              "      <td>45.765943</td>\n",
              "      <td>4.827477</td>\n",
              "      <td>69123</td>\n",
              "      <td>Lyon</td>\n",
              "      <td>Lyon</td>\n",
              "      <td>admin:fr:69123</td>\n",
              "      <td></td>\n",
              "    </tr>\n",
              "    <tr>\n",
              "      <th>13</th>\n",
              "      <td>Lyon-Saint-Paul Quai de Bondy</td>\n",
              "      <td>Lyon-Saint-Paul Quai de Bondy (Lyon)</td>\n",
              "      <td>Europe/Paris</td>\n",
              "      <td>stop_area:SNCF:87698332</td>\n",
              "      <td>45.766595</td>\n",
              "      <td>4.828287</td>\n",
              "      <td>69123</td>\n",
              "      <td>Lyon</td>\n",
              "      <td>Lyon</td>\n",
              "      <td>admin:fr:69123</td>\n",
              "      <td></td>\n",
              "    </tr>\n",
              "    <tr>\n",
              "      <th>14</th>\n",
              "      <td>Lyon-Vaise-Gare-Routi\u00e8re</td>\n",
              "      <td>Lyon-Vaise-Gare-Routi\u00e8re (Lyon)</td>\n",
              "      <td>Europe/Paris</td>\n",
              "      <td>stop_area:SNCF:87697045</td>\n",
              "      <td>45.779611</td>\n",
              "      <td>4.803685</td>\n",
              "      <td>69123</td>\n",
              "      <td>Lyon</td>\n",
              "      <td>Lyon</td>\n",
              "      <td>admin:fr:69123</td>\n",
              "      <td></td>\n",
              "    </tr>\n",
              "    <tr>\n",
              "      <th>4</th>\n",
              "      <td>Paris Gare de Lyon Hall 1 &amp;2</td>\n",
              "      <td>Paris Gare de Lyon Hall 1 &amp;2 (Paris)</td>\n",
              "      <td>Europe/Paris</td>\n",
              "      <td>stop_area:SNCF:87686006</td>\n",
              "      <td>48.844945</td>\n",
              "      <td>2.373481</td>\n",
              "      <td>75056</td>\n",
              "      <td>Paris</td>\n",
              "      <td>Paris (75000-75116)</td>\n",
              "      <td>admin:fr:75056</td>\n",
              "      <td>75000;75116</td>\n",
              "    </tr>\n",
              "    <tr>\n",
              "      <th>10</th>\n",
              "      <td>Urcay H\u00f4tel du Lyon d'Or</td>\n",
              "      <td>Urcay H\u00f4tel du Lyon d'Or (Ur\u00e7ay)</td>\n",
              "      <td>Europe/Paris</td>\n",
              "      <td>stop_area:SNCF:87409490</td>\n",
              "      <td>46.626834</td>\n",
              "      <td>2.589442</td>\n",
              "      <td>03293</td>\n",
              "      <td>Ur\u00e7ay</td>\n",
              "      <td>Ur\u00e7ay (03360)</td>\n",
              "      <td>admin:fr:03293</td>\n",
              "      <td>03360</td>\n",
              "    </tr>\n",
              "  </tbody>\n",
              "</table>\n",
              "</div>"
            ],
            "text/plain": [
              "                             name  \\\n",
              "19         Gare De Lyon Noctilien   \n",
              "3              Lyon Gorge de Loup   \n",
              "4                  Lyon Jean Mac\u00e9   \n",
              "5                  Lyon Part Dieu   \n",
              "6                   Lyon Perrache   \n",
              "7          Lyon Saint-Exup\u00e9ry TGV   \n",
              "8                 Lyon Saint-Paul   \n",
              "9                      Lyon Vaise   \n",
              "10   Lyon-Part-Dieu Gare Routi\u00e8re   \n",
              "11    Lyon-Perrache Gare Routi\u00e8re   \n",
              "12    Lyon-Saint-Paul La Feuill\u00e9e   \n",
              "13  Lyon-Saint-Paul Quai de Bondy   \n",
              "14       Lyon-Vaise-Gare-Routi\u00e8re   \n",
              "4    Paris Gare de Lyon Hall 1 &2   \n",
              "10       Urcay H\u00f4tel du Lyon d'Or   \n",
              "\n",
              "                                          label      timezone  \\\n",
              "19               Gare De Lyon Noctilien (Paris)  Europe/Paris   \n",
              "3                     Lyon Gorge de Loup (Lyon)  Europe/Paris   \n",
              "4                         Lyon Jean Mac\u00e9 (Lyon)  Europe/Paris   \n",
              "5                         Lyon Part Dieu (Lyon)  Europe/Paris   \n",
              "6                          Lyon Perrache (Lyon)  Europe/Paris   \n",
              "7   Lyon Saint-Exup\u00e9ry TGV (Colombier-Saugnieu)  Europe/Paris   \n",
              "8                        Lyon Saint-Paul (Lyon)  Europe/Paris   \n",
              "9                             Lyon Vaise (Lyon)  Europe/Paris   \n",
              "10          Lyon-Part-Dieu Gare Routi\u00e8re (Lyon)  Europe/Paris   \n",
              "11           Lyon-Perrache Gare Routi\u00e8re (Lyon)  Europe/Paris   \n",
              "12           Lyon-Saint-Paul La Feuill\u00e9e (Lyon)  Europe/Paris   \n",
              "13         Lyon-Saint-Paul Quai de Bondy (Lyon)  Europe/Paris   \n",
              "14              Lyon-Vaise-Gare-Routi\u00e8re (Lyon)  Europe/Paris   \n",
              "4          Paris Gare de Lyon Hall 1 &2 (Paris)  Europe/Paris   \n",
              "10             Urcay H\u00f4tel du Lyon d'Or (Ur\u00e7ay)  Europe/Paris   \n",
              "\n",
              "                         id        lat       lon  insee              region  \\\n",
              "19  stop_area:SNCF:87588202   48.84578  2.373719  75056               Paris   \n",
              "3   stop_area:SNCF:87721175  45.766095  4.804697  69123                Lyon   \n",
              "4   stop_area:SNCF:87282624   45.74503  4.841499  69123                Lyon   \n",
              "5   stop_area:SNCF:87723197  45.760596  4.859409  69123                Lyon   \n",
              "6   stop_area:SNCF:87722025  45.748508  4.825777  69123                Lyon   \n",
              "7   stop_area:SNCF:87762906  45.721109  5.074969  69299  Colombier-Saugnieu   \n",
              "8   stop_area:SNCF:87721159  45.766077  4.826954  69123                Lyon   \n",
              "9   stop_area:SNCF:87721001   45.77976  4.804186  69123                Lyon   \n",
              "10  stop_area:SNCF:87697128  45.761064  4.862984  69123                Lyon   \n",
              "11  stop_area:SNCF:87697136   45.74912  4.827332  69123                Lyon   \n",
              "12  stop_area:SNCF:87698340  45.765943  4.827477  69123                Lyon   \n",
              "13  stop_area:SNCF:87698332  45.766595  4.828287  69123                Lyon   \n",
              "14  stop_area:SNCF:87697045  45.779611  4.803685  69123                Lyon   \n",
              "4   stop_area:SNCF:87686006  48.844945  2.373481  75056               Paris   \n",
              "10  stop_area:SNCF:87409490  46.626834  2.589442  03293               Ur\u00e7ay   \n",
              "\n",
              "                        label_region       id_region     zip_code  \n",
              "19               Paris (75000-75116)  admin:fr:75056  75000;75116  \n",
              "3                               Lyon  admin:fr:69123               \n",
              "4                               Lyon  admin:fr:69123               \n",
              "5                               Lyon  admin:fr:69123               \n",
              "6                               Lyon  admin:fr:69123               \n",
              "7   Colombier-Saugnieu (69124-69125)  admin:fr:69299  69124;69125  \n",
              "8                               Lyon  admin:fr:69123               \n",
              "9                               Lyon  admin:fr:69123               \n",
              "10                              Lyon  admin:fr:69123               \n",
              "11                              Lyon  admin:fr:69123               \n",
              "12                              Lyon  admin:fr:69123               \n",
              "13                              Lyon  admin:fr:69123               \n",
              "14                              Lyon  admin:fr:69123               \n",
              "4                Paris (75000-75116)  admin:fr:75056  75000;75116  \n",
              "10                     Ur\u00e7ay (03360)  admin:fr:03293        03360  "
            ]
          },
          "execution_count": 7,
          "metadata": {},
          "output_type": "execute_result"
        }
      ],
      "source": [
        "df[df.name.str.contains('Lyon')]"
      ]
    },
    {
      "cell_type": "code",
      "execution_count": 7,
      "metadata": {
        "ExecuteTime": {
          "end_time": "2016-10-31T22:28:42.713781",
          "start_time": "2016-10-31T22:28:42.665782"
        }
      },
      "outputs": [
        {
          "name": "stdout",
          "output_type": "stream",
          "text": [
            "Index(['Unnamed: 0', 'name', 'label', 'timezone', 'id', 'lat', 'lon', 'insee',\n",
            "       'region', 'label_region', 'id_region', 'zip_code'],\n",
            "      dtype='object')\n",
            "(4922, 12)\n"
          ]
        },
        {
          "data": {
            "text/plain": [
              "Unnamed: 0                           17\n",
              "name                             Bandol\n",
              "label                   Bandol (Bandol)\n",
              "timezone                   Europe/Paris\n",
              "id              stop_area:SNCF:87755223\n",
              "lat                           43.140385\n",
              "lon                            5.750128\n",
              "insee                           83009.0\n",
              "region                           Bandol\n",
              "label_region             Bandol (83150)\n",
              "id_region                admin:fr:83009\n",
              "zip_code                          83150\n",
              "Name: 317, dtype: object"
            ]
          },
          "execution_count": 8,
          "metadata": {},
          "output_type": "execute_result"
        }
      ],
      "source": [
        "df = pd.read_csv(\"./ensemble_gares.csv\", encoding = \"ISO-8859-1\")\n",
        "print(df.columns)\n",
        "print(df.shape)\n",
        "# Exemple des informations sur une gare\n",
        "df.iloc[317]"
      ]
    },
    {
      "cell_type": "code",
      "execution_count": 8,
      "metadata": {
        "ExecuteTime": {
          "end_time": "2016-10-31T22:28:42.732284",
          "start_time": "2016-10-31T22:28:42.716783"
        }
      },
      "outputs": [],
      "source": [
        "# on cr\u00e9e un dictionnaire des correspondances entre les noms et les codes des gares\n",
        "dict_label_gare_code = df[['label','id']].set_index('label').to_dict()['id']\n",
        "dict_nom_gare_code = df[['name','id']].set_index('name').to_dict()['id']"
      ]
    },
    {
      "cell_type": "code",
      "execution_count": 9,
      "metadata": {
        "ExecuteTime": {
          "end_time": "2016-10-31T22:37:58.586054",
          "start_time": "2016-10-31T22:37:58.102547"
        }
      },
      "outputs": [
        {
          "name": "stdout",
          "output_type": "stream",
          "text": [
            "Index(['Unnamed: 0', 'name', 'label', 'timezone', 'id', 'lat', 'lon', 'insee',\n",
            "       'region', 'label_region', 'id_region', 'zip_code'],\n",
            "      dtype='object')\n"
          ]
        },
        {
          "data": {
            "image/png": "[encoded data removed]",
            "text/plain": [
              "<Figure size 432x288 with 1 Axes>"
            ]
          },
          "metadata": {
            "needs_background": "light"
          },
          "output_type": "display_data"
        }
      ],
      "source": [
        "print(df.columns)\n",
        "\n",
        "# graphique dans le plan des gares\n",
        "%matplotlib inline\n",
        "import matplotlib.pyplot as plt\n",
        "lng_var = df[(df['lat']>35) & (df['lat']<60)][\"lon\"].tolist()\n",
        "lat_var = df[(df['lat']>35) & (df['lat']<60)][\"lat\"].tolist()\n",
        "plt.scatter(x = lng_var , y = lat_var,marker = \"o\");"
      ]
    },
    {
      "cell_type": "markdown",
      "metadata": {},
      "source": [
        "## Les trajets depuis la Gare de Lyon\n",
        "\n",
        "### Partons \u00e0 Lyon\n",
        "\n",
        "Imaginez que vous vouliez un peu voyager hors de Paris, et il se trouve que justement on vous propose de passer quelques jours \u00e0 Lyon. Vous partez le 17 novembre vers 19h50 pour ne pas trop \u00e9courter votre journ\u00e9e de travail ([documentation de l'API](https://doc.navitia.io/#api-catalog))."
      ]
    },
    {
      "cell_type": "markdown",
      "metadata": {},
      "source": [
        "#### Question 1\n",
        "\n",
        "- Commencez par r\u00e9cup\u00e9rer les informations sur le trajet entre Paris Gare de Lyon et Lyon Perrache le 17 novembre \u00e0 19h57\n",
        "\n",
        "    - Paris - Gare de Lyon (code de la gare : __stop\\_area:OCE:SA:87686006__)\n",
        "\n",
        "    - Lyon - Gare Lyon Perrache (code de la gare : __stop\\_area:OCE:SA:87722025__)\n",
        "    \n",
        "    - Indice : utiliser la requ\u00eate \"journeys\"\n",
        "    \n",
        "    - Autre indice : le format de la date est AAAAMMJJTHHMMSS (Ann\u00e9e, mois, jour, heure, minutes, secondes)\n",
        "    \n",
        "- R\u00e9pondez aux questions suivantes \n",
        "    - combien y a-t-il d'arr\u00eats entre ces deux gares ? (utilisez la cl\u00e9 'journeys')\n",
        "    - combien de temps d'arr\u00eat \u00e0 chacune d'elles ?"
      ]
    },
    {
      "cell_type": "markdown",
      "metadata": {},
      "source": [
        "Tout d'abord une fonction qui sera utile pour calculer des temps :"
      ]
    },
    {
      "cell_type": "code",
      "execution_count": 10,
      "metadata": {
        "ExecuteTime": {
          "end_time": "2016-10-31T22:28:43.364179",
          "start_time": "2016-10-31T22:28:43.355677"
        }
      },
      "outputs": [],
      "source": [
        "from datetime import datetime, timedelta\n",
        "\n",
        "def convertir_en_temps(chaine) : \n",
        "    ''' on convertit en date la chaine de caract\u00e8res de l API'''\n",
        "    return datetime.strptime(chaine.replace('T',''),'%Y%m%d%H%M%S')"
      ]
    },
    {
      "cell_type": "markdown",
      "metadata": {},
      "source": [
        "Et l'inverse :"
      ]
    },
    {
      "cell_type": "code",
      "execution_count": 11,
      "metadata": {},
      "outputs": [
        {
          "data": {
            "text/plain": [
              "'20221204T235120'"
            ]
          },
          "execution_count": 12,
          "metadata": {},
          "output_type": "execute_result"
        }
      ],
      "source": [
        "def convertir_en_chaine(dt) : \n",
        "    ''' on convertit en cha\u00eene de caract\u00e8res un datetime'''\n",
        "    return datetime.strftime(dt, '%Y%m%dT%H%M%S')\n",
        "\n",
        "now = datetime.now()\n",
        "convertir_en_chaine(now)"
      ]
    },
    {
      "cell_type": "code",
      "execution_count": 12,
      "metadata": {},
      "outputs": [
        {
          "data": {
            "text/plain": [
              "datetime.datetime(2022, 12, 4, 23, 51, 20)"
            ]
          },
          "execution_count": 13,
          "metadata": {},
          "output_type": "execute_result"
        }
      ],
      "source": [
        "convertir_en_temps(convertir_en_chaine(now))"
      ]
    },
    {
      "cell_type": "code",
      "execution_count": 13,
      "metadata": {
        "ExecuteTime": {
          "end_time": "2016-10-31T22:28:43.722293",
          "start_time": "2016-10-31T22:28:43.368183"
        }
      },
      "outputs": [
        {
          "data": {
            "text/plain": [
              "'20221218T235120'"
            ]
          },
          "execution_count": 14,
          "metadata": {},
          "output_type": "execute_result"
        }
      ],
      "source": [
        "# informations sur le trajet qu'on choisit dans le futur\n",
        "# l'API ne retourne pas de r\u00e9sultatq tr\u00e8s loin dans le pass\u00e9\n",
        "now = datetime.now()\n",
        "dt = now + timedelta(14)  # dans deux semaines\n",
        "\n",
        "date_depart = convertir_en_chaine(dt)\n",
        "gare_depart = 'stop_area:OCE:SA:87686006'\n",
        "gare_arrivee = 'stop_area:OCE:SA:87722025'\n",
        "\n",
        "date_depart"
      ]
    },
    {
      "cell_type": "markdown",
      "metadata": {},
      "source": [
        "Ensemble des d\u00e9parts :"
      ]
    },
    {
      "cell_type": "code",
      "execution_count": 14,
      "metadata": {},
      "outputs": [],
      "source": [
        "paris_lyon = requests.get(\n",
        "    ('https://api.sncf.com/v1/coverage/sncf/journeys?'\n",
        "     'from={}&to={}&datetime={}').format(gare_depart, gare_arrivee, date_depart),\n",
        "    auth=(token_auth, '')).json()"
      ]
    },
    {
      "cell_type": "markdown",
      "metadata": {},
      "source": [
        "Les gares du chemin entre Paris et Lyon sur ce trajet ainsi que le temps d'arr\u00eat :"
      ]
    },
    {
      "cell_type": "code",
      "execution_count": 15,
      "metadata": {
        "ExecuteTime": {
          "end_time": "2016-10-31T22:28:43.732622",
          "start_time": "2016-10-31T22:28:43.724623"
        }
      },
      "outputs": [
        {
          "ename": "KeyError",
          "evalue": "'journeys'",
          "output_type": "error",
          "traceback": [
            "\u001b[1;31m---------------------------------------------------------------------------\u001b[0m",
            "\u001b[1;31mKeyError\u001b[0m                                  Traceback (most recent call last)",
            "Cell \u001b[1;32mIn [15], line 1\u001b[0m\n\u001b[1;32m----> 1\u001b[0m session \u001b[38;5;241m=\u001b[39m \u001b[43mparis_lyon\u001b[49m\u001b[43m[\u001b[49m\u001b[38;5;124;43m'\u001b[39;49m\u001b[38;5;124;43mjourneys\u001b[39;49m\u001b[38;5;124;43m'\u001b[39;49m\u001b[43m]\u001b[49m[\u001b[38;5;241m0\u001b[39m][\u001b[38;5;124m'\u001b[39m\u001b[38;5;124msections\u001b[39m\u001b[38;5;124m'\u001b[39m][\u001b[38;5;241m1\u001b[39m]\n\u001b[0;32m      2\u001b[0m rows \u001b[38;5;241m=\u001b[39m []\n\u001b[0;32m      3\u001b[0m \u001b[38;5;28;01mif\u001b[39;00m \u001b[38;5;124m\"\u001b[39m\u001b[38;5;124mstop_date_times\u001b[39m\u001b[38;5;124m\"\u001b[39m \u001b[38;5;129;01min\u001b[39;00m session:\n",
            "\u001b[1;31mKeyError\u001b[0m: 'journeys'"
          ]
        }
      ],
      "source": [
        "session = paris_lyon['journeys'][0]['sections'][1]\n",
        "rows = []\n",
        "if \"stop_date_times\" in session:\n",
        "    for i in session['stop_date_times']:\n",
        "        rows.append(dict(name=i['stop_point']['name'],\n",
        "                         depart=convertir_en_temps(i['departure_date_time']),\n",
        "                         arrivee=convertir_en_temps(i['arrival_date_time'])))\n",
        "pandas.DataFrame(rows)\n",
        "# debug"
      ]
    },
    {
      "cell_type": "markdown",
      "metadata": {},
      "source": [
        "#### Question 2\n",
        "\n",
        "Vous \u00eates un peu press\u00e9 et vous avez peur de vous tromper en arrivant \u00e0 la gare car d'autres TGV partent \u00e0 peu pr\u00e8s en m\u00eame temps (\u00e0 partir de 19h00) de la gare de Lyon. Si vous demandez \u00e0 l'API, combien de r\u00e9sultats vous donne-t-elle ?"
      ]
    },
    {
      "cell_type": "markdown",
      "metadata": {},
      "source": [
        "Soit l'API a chang\u00e9, soit..."
      ]
    },
    {
      "cell_type": "code",
      "execution_count": 16,
      "metadata": {},
      "outputs": [],
      "source": [
        "requests.get(\n",
        "    ('https://api.sncf.com/v1/coverage/sncf/stop_points/'\n",
        "     'stop_area:OCE:SA:87686006/departures'), auth=(token_auth, '')).json()"
      ]
    },
    {
      "cell_type": "code",
      "execution_count": 17,
      "metadata": {
        "ExecuteTime": {
          "end_time": "2016-10-31T22:28:44.077096",
          "start_time": "2016-10-31T22:28:43.736625"
        },
        "scrolled": true
      },
      "outputs": [],
      "source": [
        "### les trains qui partent autour de 19h00\n",
        "departs_paris = requests.get(\n",
        "    ('https://api.sncf.com/v1/coverage/sncf/stop_points/stop_point:OCE:SP:'\n",
        "     'TGV-87686006/departures?from_datetime={}').format(\n",
        "        date_depart), auth=(token_auth, '')).json()\n",
        "\n",
        "# Nombre de trains que l'API renvoie \u00e0 partir de cet horaire-l\u00e0\n",
        "#print(len(departs_paris['departures']))\n",
        "departs_paris"
      ]
    },
    {
      "cell_type": "code",
      "execution_count": 18,
      "metadata": {},
      "outputs": [],
      "source": [
        "from jyquickhelper import JSONJS\n",
        "JSONJS(departs_paris)"
      ]
    },
    {
      "cell_type": "markdown",
      "metadata": {},
      "source": [
        "- Quels sont les horaires de d\u00e9part de ces trains ? "
      ]
    },
    {
      "cell_type": "code",
      "execution_count": 19,
      "metadata": {
        "ExecuteTime": {
          "end_time": "2016-10-31T22:28:44.086095",
          "start_time": "2016-10-31T22:28:44.080093"
        }
      },
      "outputs": [],
      "source": [
        "for i in range(len(departs_paris['departures'])) :\n",
        "    print(departs_paris['departures'][i]['stop_date_time']['departure_date_time'])"
      ]
    },
    {
      "cell_type": "markdown",
      "metadata": {},
      "source": [
        "- Parmi ces trains, combien de trains ont pour destination finale Lyon et qui partent le 17 novembre ?"
      ]
    },
    {
      "cell_type": "code",
      "execution_count": 20,
      "metadata": {
        "ExecuteTime": {
          "end_time": "2016-10-31T22:28:44.109595",
          "start_time": "2016-10-31T22:28:44.090095"
        }
      },
      "outputs": [],
      "source": [
        "nombre_trains_pour_lyon = 0\n",
        "\n",
        "for depart in departs_paris['departures'] :     \n",
        "    if \"Lyon\" in depart['display_informations']['direction'] : \n",
        "        if (convertir_en_temps(depart['stop_date_time']['arrival_date_time']) > \n",
        "                convertir_en_temps(date_depart) and\n",
        "                convertir_en_temps(depart['stop_date_time']['arrival_date_time']) < \n",
        "                datetime(2016,11,18,0,0,0)):\n",
        "            nombre_trains_pour_lyon += 1\n",
        "            print(\"le prochain d\u00e9part pour Lyon sera le\",\n",
        "                  convertir_en_temps(depart['stop_date_time']['arrival_date_time']))\n",
        "        \n",
        "print(\"Il y a\" , nombre_trains_pour_lyon, \"train(s) pour Lyon dans les trains propos\u00e9s\", \n",
        "      \"par l'API qui partent encore le 17 novembre\")"
      ]
    },
    {
      "cell_type": "markdown",
      "metadata": {},
      "source": [
        "### C'est quand qu'on va o\u00f9 ?\n",
        "\n",
        "En fait, vous n'\u00eates plus tr\u00e8s s\u00fbr de vouloir aller \u00e0 Lyon. Mais bon maintenant vous \u00eates Gare de Lyon et il est 18h00. "
      ]
    },
    {
      "cell_type": "markdown",
      "metadata": {},
      "source": [
        "#### Question 3\n",
        "\n",
        "- Combien de tgv partent entre 18h00 et 20h00 ?\n",
        "- Lequel arrive le plus t\u00f4t \u00e0 sa destination finale ?"
      ]
    },
    {
      "cell_type": "code",
      "execution_count": 21,
      "metadata": {
        "ExecuteTime": {
          "end_time": "2016-10-31T22:28:44.140593",
          "start_time": "2016-10-31T22:28:44.113095"
        }
      },
      "outputs": [],
      "source": [
        "# on cr\u00e9e deux fonctions : \n",
        "\n",
        "def trouver_destination_tgv(origine, datetime) : \n",
        "    '''Permet d avoir les 10 prochains d\u00e9parts d une gare donn\u00e9e '''\n",
        "    return requests.get('https://api.sncf.com/v1/coverage/sncf/stop_points/{}/' \\\n",
        "                        'departures?from_datetime={}'.format(origine, datetime) ,\n",
        "                        auth=(token_auth, '')).json()\n",
        "\n",
        "def trouver_trajet_dispo_max_heure(gare_depart, date_heure_depart, date_heure_max) : \n",
        "    '''Permet d avoir toutes les informations sur des trajets partant \n",
        "    d une gare entre une date X et une date Y'''\n",
        "    \n",
        "    destinations = []\n",
        "    \n",
        "    # on interroge l'API tant qu'il renvoie des information\n",
        "    # sur les trains partant de Gare de lyon \n",
        "\n",
        "    while convertir_en_temps(date_heure_depart) < convertir_en_temps(date_heure_max) :\n",
        "    # on prend toutes les destinations qui partent \u00e0 partir d'une certaine heure\n",
        "        destinations = destinations + trouver_destination_tgv(\n",
        "            gare_depart, date_heure_depart)['departures']\n",
        "        \n",
        "        nombre_resultats = trouver_destination_tgv(\n",
        "            gare_depart, date_heure_depart)['pagination']['items_on_page']\n",
        "        \n",
        "        if nombre_resultats <= 0:\n",
        "            break\n",
        "\n",
        "        # on trouve l'heure max de la premi\u00e8re s\u00e9rie de 10 solutions que l'application renvoie\n",
        "        # on remplace l'heure qu'on cherche par celle l\u00e0\n",
        "        resultats = trouver_destination_tgv(gare_depart, date_heure_depart)\n",
        "        date_heure_depart = resultats['departures'][nombre_resultats-1][\n",
        "            'stop_date_time']['departure_date_time']\n",
        "\n",
        "    return destinations"
      ]
    },
    {
      "cell_type": "code",
      "execution_count": 22,
      "metadata": {
        "ExecuteTime": {
          "end_time": "2016-10-31T22:28:45.992030",
          "start_time": "2016-10-31T22:28:44.145095"
        }
      },
      "outputs": [],
      "source": [
        "# on trouve l'ensemble des trajets dont le d\u00e9part est compris entre deux horaires\n",
        "# informations sur le trajet qu'on choisit dans le futur\n",
        "# l'API ne retourne pas de r\u00e9sultatq tr\u00e8s loin dans le pass\u00e9\n",
        "now = datetime.now()\n",
        "if now.hour < 6:\n",
        "    # pas trop t\u00f4t\n",
        "    now += timedelta(hours=4)\n",
        "dt = now + timedelta(14)  # dans deux semaines\n",
        "\n",
        "date_heure = convertir_en_chaine(dt)\n",
        "max_date_heure = convertir_en_chaine(dt + timedelta(hours=24))\n",
        "print(\"entre\", date_heure, \"et\", max_date_heure)\n",
        "\n",
        "gare_initiale = 'stop_point:OCE:SP:TGV-87686006'\n",
        "\n",
        "# on demande \u00e0 avoir tous les trajets partant de gare de lyon\n",
        "# entre deux heures pr\u00e9cises\n",
        "\n",
        "destinations_depuis_paris_max_20h = trouver_trajet_dispo_max_heure(\n",
        "    gare_initiale, date_heure, max_date_heure)\n",
        "\n",
        "# on veut supprimer ceux pour lesquels le d\u00e9part est apr\u00e8s 20h00\n",
        "\n",
        "dictionnaire_destinations = {}\n",
        "\n",
        "i = 0\n",
        "\n",
        "for depart in destinations_depuis_paris_max_20h :    \n",
        "    print(depart['display_informations']['direction'],\n",
        "          depart['stop_date_time']['departure_date_time'])\n",
        "    if (convertir_en_temps(depart['stop_date_time']['departure_date_time']) < \n",
        "            convertir_en_temps(max_date_heure)): \n",
        "        i += 1\n",
        "        dictionnaire_destinations[i] = depart \n",
        "    \n",
        "print(\"Je peux prendre\", len(dictionnaire_destinations.keys()), \n",
        "      \"trains qui partent entre 18h et 20h de Gare de Lyon le 17 novembre 2016\")"
      ]
    },
    {
      "cell_type": "code",
      "execution_count": 23,
      "metadata": {
        "ExecuteTime": {
          "end_time": "2016-10-31T22:28:50.170515",
          "start_time": "2016-10-31T22:28:45.997536"
        }
      },
      "outputs": [],
      "source": [
        "# on cherche celui qui arrive le plus t\u00f4t \u00e0 sa destination\n",
        "\n",
        "def trouver_info_trajet(dep, arr, heure) :\n",
        "    res = requests.get('https://api.sncf.com/v1/coverage/sncf/journeys?from={}&to={}&datetime={}'.format(dep, arr, heure), \\\n",
        "                         auth=(token_auth, '')).json()\n",
        "    if 'journeys' not in res:\n",
        "        if 'error' in res and \"no solution\" in res[\"error\"]['message']:\n",
        "            print(\"Pas de solution pour '{0} --> '{1}' h: {2}.\".format(dep, arr, heure))\n",
        "            return None\n",
        "    return res['journeys'][0]\n",
        "\n",
        "# on initiale l'heure \u00e0 la fin de la journ\u00e9e : on veut r\u00e9duire cette variable au maximum\n",
        "# on veut 6h apr\u00e8s le d\u00e9part\n",
        "heure_minimale = dt + timedelta(hours=8)\n",
        "destination_la_plus_rapide = None\n",
        "print(\"heure_minimale\", heure_minimale, \" len \", len(dictionnaire_destinations))\n",
        "\n",
        "# parmi toutes les destinations possibles, on recherche le train qui arrive le plus t\u00f4t \u00e0 sa destination finale\n",
        "for code, valeurs in dictionnaire_destinations.items() : \n",
        "    ''' on prend le code de la gare'''\n",
        "    code_destination = dictionnaire_destinations[code]['route']['direction']['id']\n",
        "    ''' on regarde \u00e0 quelle heure arrive le train'''\n",
        "    trajet = trouver_info_trajet('stop_area:OCE:SA:87686006',code_destination,\n",
        "                                 dictionnaire_destinations[code]['stop_date_time']['arrival_date_time'])\n",
        "    if trajet is None:\n",
        "        continue\n",
        "    if heure_minimale > convertir_en_temps(trajet['arrival_date_time']) : \n",
        "        heure_minimale = convertir_en_temps(trajet['arrival_date_time'])\n",
        "        destination_la_plus_rapide = dictionnaire_destinations[code]"
      ]
    },
    {
      "cell_type": "code",
      "execution_count": 24,
      "metadata": {
        "ExecuteTime": {
          "end_time": "2016-10-31T22:28:50.192983",
          "start_time": "2016-10-31T22:28:50.179500"
        }
      },
      "outputs": [],
      "source": [
        "if destination_la_plus_rapide is not None:\n",
        "    print(destination_la_plus_rapide['display_informations']['direction'], heure_minimale)\n",
        "else:\n",
        "    print(\"pas de r\u00e9sultat\")"
      ]
    },
    {
      "cell_type": "markdown",
      "metadata": {},
      "source": [
        "### Et les correspondances ? "
      ]
    },
    {
      "cell_type": "markdown",
      "metadata": {},
      "source": [
        "#### Question 4\n",
        "\n",
        "- On va essayer de voir jusqu'o\u00f9 on peut aller, en prenant des trains au d\u00e9part de la Gare de Lyon : \n",
        "    - Quelles sont toutes les gares atteignables en partant le 17 novembre, sans faire de changement et sans partir apr\u00e8s minuit ?\n",
        "    - Si on prend un de ces trains, jusqu'o\u00f9 peut-on aller, avec une correspondance, sans partir apr\u00e8s 8h le lendemain matin ?"
      ]
    },
    {
      "cell_type": "code",
      "execution_count": 25,
      "metadata": {
        "ExecuteTime": {
          "end_time": "2016-10-31T22:28:50.218482",
          "start_time": "2016-10-31T22:28:50.198985"
        }
      },
      "outputs": [],
      "source": [
        "# on va trouver toutes les gares qui sont sur les trajets des \n",
        "# trains retenus donc atteignables sans correspondance\n",
        "\n",
        "def trouver_toutes_les_gares_du_trajet(gare_depart, gare_arrivee_finale, horaire_depart) :\n",
        "    return requests.get('https://api.sncf.com/v1/coverage/sncf/journeys?from={}&to={}' \\\n",
        "                        '&datetime={}'.format(gare_depart,gare_arrivee_finale,horaire_depart), \\\n",
        "                        auth=(token_auth, '')).json()"
      ]
    },
    {
      "cell_type": "code",
      "execution_count": 26,
      "metadata": {
        "ExecuteTime": {
          "end_time": "2016-10-31T22:28:50.477570",
          "start_time": "2016-10-31T22:28:50.222980"
        },
        "scrolled": true
      },
      "outputs": [],
      "source": [
        "# Exemple pour la premi\u00e8re gare de la liste\n",
        "\n",
        "if len(dictionnaire_destinations) > 1:\n",
        "    gare_depart = dictionnaire_destinations[1]['stop_point']['id']\n",
        "    gare_arrivee = dictionnaire_destinations[1]['route']['direction']['id']\n",
        "    horaire_train = dictionnaire_destinations[1]['stop_date_time']['arrival_date_time']\n",
        "\n",
        "    trajet_recherche = trouver_toutes_les_gares_du_trajet(gare_depart,gare_arrivee,horaire_train)\n",
        "    session = trajet_recherche['journeys'][0]['sections'][0]\n",
        "    if \"stop_date_times\" in session:\n",
        "        for i in session['stop_date_times']:\n",
        "            print(i['stop_point']['name'])"
      ]
    },
    {
      "cell_type": "code",
      "execution_count": 27,
      "metadata": {
        "ExecuteTime": {
          "end_time": "2016-10-31T22:28:54.060163",
          "start_time": "2016-10-31T22:28:50.486560"
        },
        "scrolled": false
      },
      "outputs": [],
      "source": [
        "# on fait la liste des gares o\u00f9 on\n",
        "# peut aller sans correspondance\n",
        "\n",
        "liste_gares_direct = []\n",
        "\n",
        "for x in dictionnaire_destinations.keys():\n",
        "    # on prend les deux gares d\u00e9part + finale\n",
        "    gare_depart = dictionnaire_destinations[x]['stop_point']['id']\n",
        "    gare_arrivee = dictionnaire_destinations[x]['route']['direction']['id']\n",
        "    horaire_train = dictionnaire_destinations[x]['stop_date_time']['arrival_date_time']\n",
        "    \n",
        "    # on appelle la fonction d\u00e9finie pr\u00e9c\u00e9demment\n",
        "    trajet_recherche = trouver_toutes_les_gares_du_trajet(gare_depart,gare_arrivee,horaire_train)\n",
        "    if 'error' in trajet_recherche:\n",
        "        continue\n",
        "    session = trajet_recherche['journeys'][0]['sections'][0]\n",
        "    if \"stop_date_times\" in session:\n",
        "        for i in session['stop_date_times']: \n",
        "            print(i['stop_point']['name'], i['arrival_date_time'])\n",
        "            liste_gares_direct.append(i['stop_point']['name'])\n",
        "        print(\"-------------\")    \n",
        "    \n",
        "#### l\u00e0 on a la liste des gares atteignables sans correspondance    \n",
        "liste_gares_direct = set(liste_gares_direct)"
      ]
    },
    {
      "cell_type": "markdown",
      "metadata": {},
      "source": [
        "#### Exemple : trouver toutes les correspondances possibles depuis le trajet entre les gares de Paris et de Perpignan"
      ]
    },
    {
      "cell_type": "code",
      "execution_count": 28,
      "metadata": {
        "ExecuteTime": {
          "end_time": "2016-10-31T22:28:54.070863",
          "start_time": "2016-10-31T22:28:54.063361"
        }
      },
      "outputs": [],
      "source": [
        "# pour le premier trajet gare de la liste trouv\u00e9e \u00e0 l'\u00e9tape pr\u00e9c\u00e9dente\n",
        "# on va chercher toutes les connexions des gares possibles, entre le moment de l'arriv\u00e9e \n",
        "# et 8 heures le lendemain matin\n",
        "\n",
        "if len(dictionnaire_destinations) > 1:\n",
        "    gare_depart = dictionnaire_destinations[1]['stop_point']['id']\n",
        "    gare_arrivee = dictionnaire_destinations[1]['route']['direction']['id']\n",
        "    horaire_train = dictionnaire_destinations[1]['stop_date_time']['arrival_date_time']\n",
        "\n",
        "    horaire_max = convertir_en_chaine(dt + timedelta(hours=8))\n",
        "    print(\"horaire_max\", horaire_max)\n",
        "else:\n",
        "    horaire_train = None"
      ]
    },
    {
      "cell_type": "code",
      "execution_count": 29,
      "metadata": {
        "ExecuteTime": {
          "end_time": "2016-10-31T22:29:01.132682",
          "start_time": "2016-10-31T22:28:54.075860"
        }
      },
      "outputs": [],
      "source": [
        "# en partant de gare de lyon en direction de Perpignan\n",
        "\n",
        "if horaire_train is not None:\n",
        "    trajet_recherche = trouver_toutes_les_gares_du_trajet(gare_depart,gare_arrivee,horaire_train)\n",
        "\n",
        "dictionnaire_correspondances = {}\n",
        "\n",
        "if (horaire_train is not None and \n",
        "        'stop_date_times' in trajet_recherche['journeys'][0]['sections'][0]):\n",
        "    for i in trajet_recherche['journeys'][0]['sections'][0]['stop_date_times']: \n",
        "\n",
        "        #print(\"la gare o\u00f9 on est descendu depuis Paris\", i['stop_point']['name'])\n",
        "\n",
        "        if i['stop_point']['id'] == \"stop_point:OCE:SP:TGV-87686006\" : \n",
        "            #print(\"on ne prend pas la gare de Lyon - ce n'est pas une gare du trajet\")\n",
        "            pass\n",
        "\n",
        "        else :\n",
        "            # on va appliquer \u00e0 nouveau la fonction des trajets disponibles mais pour l'ensemble des gares\n",
        "            gare_dep_connexion = i['stop_point']['id']\n",
        "            nom_gare_dep = i['stop_point']['name']\n",
        "            heure_dep_connexion = i['arrival_date_time']\n",
        "\n",
        "            trajet_recherche_connexion = trouver_trajet_dispo_max_heure(gare_dep_connexion, heure_dep_connexion, horaire_max)\n",
        "\n",
        "            test_as_connexion_on_time = True\n",
        "\n",
        "            # pour chaque trajet possible depuis la gare o\u00f9 on est arriv\u00e9 depuis paris, on va v\u00e9rifier qu'on part bien  \n",
        "            # avant 8h le lendemain\n",
        "            autre_gare = None\n",
        "            for vers_autre_gare in trajet_recherche_connexion :  \n",
        "                heure_depart_depuis_autre_gare = vers_autre_gare['stop_date_time']['departure_date_time']\n",
        "                destination_trajet = vers_autre_gare['display_informations']['direction']\n",
        "\n",
        "                if convertir_en_temps(heure_depart_depuis_autre_gare) < convertir_en_temps(horaire_max) : \n",
        "                    dictionnaire_correspondances[(nom_gare_dep,heure_depart_depuis_autre_gare)] = destination_trajet  \n",
        "                    test_as_connexion_on_time = False\n",
        "                    # print(nom_gare_dep,heure_depart_depuis_autre_gare, \"gare finale du trajet\", destination_trajet)\n",
        "                    autre_gare = vers_autre_gare\n",
        "\n",
        "            if autre_gare and test_as_connexion_on_time: \n",
        "                dictionnaire_correspondances[(nom_gare_dep,autre_gare['stop_date_time']['departure_date_time'])] = \"\"\n",
        "else:\n",
        "    print(\"impossible de trouver 'stop_date_times'\")\n",
        "                \n",
        "# on garde toutes les gares o\u00f9 on peut aller depuis une des gares de correspondance, avec un d\u00e9part avant 8H\n",
        "dictionnaire_correspondances"
      ]
    },
    {
      "cell_type": "code",
      "execution_count": 30,
      "metadata": {
        "ExecuteTime": {
          "end_time": "2016-10-31T22:29:13.601156",
          "start_time": "2016-10-31T22:29:01.141674"
        }
      },
      "outputs": [],
      "source": [
        "# Pour les trajets qui partent avant 8h des gares, on va chercher toutes les gares qui sont sur le trajet\n",
        "gares_avec_connexion = []\n",
        "for k,v in dictionnaire_correspondances.items() : \n",
        "    if len(v) == 0 : \n",
        "        pass\n",
        "    else :\n",
        "        if k[0] not in dict_nom_gare_code:\n",
        "            print(\"'{0}' pas trouv\u00e9 dans {1}\".format(k[0], \", \".join(\n",
        "                sorted(_ for _ in dict_nom_gare_code if isinstance(_, str) and _[:4] == k[0][:4]))))\n",
        "            continue\n",
        "        if v not in dict_label_gare_code:\n",
        "            print(\"'{0}' pas trouv\u00e9 dans {1}\".format(v, \", \".join(\n",
        "                sorted(_ for _ in dict_label_gare_code if isinstance(_, str) and _[:4] == v[:4]))))\n",
        "            continue\n",
        "\n",
        "        dep = dict_nom_gare_code[k[0]]\n",
        "        arr = dict_label_gare_code[v]\n",
        "        \n",
        "        gares_entre_dep_arr = trouver_toutes_les_gares_du_trajet(dep, arr,k[1])\n",
        "        for gare in gares_entre_dep_arr['journeys'][0]['sections'][1]['stop_date_times']: \n",
        "            #print(\"gare depart:\", k[0], gare['stop_point']['name'])\n",
        "            gares_avec_connexion.append(gare['stop_point']['name'])\n",
        "            \n",
        "# la liste des gares atteignables avec 1 correspondance            \n",
        "gares_avec_connexion = set(gares_avec_connexion)"
      ]
    },
    {
      "cell_type": "code",
      "execution_count": 31,
      "metadata": {
        "ExecuteTime": {
          "end_time": "2016-10-31T22:29:13.621150",
          "start_time": "2016-10-31T22:29:13.609156"
        }
      },
      "outputs": [],
      "source": [
        "print(gares_avec_connexion)"
      ]
    },
    {
      "cell_type": "code",
      "execution_count": 32,
      "metadata": {
        "ExecuteTime": {
          "end_time": "2016-10-31T22:29:13.643652",
          "start_time": "2016-10-31T22:29:13.625651"
        }
      },
      "outputs": [],
      "source": [
        "# on cr\u00e9e la liste des gares atteignables seulement avec une correspondance (pas directement atteignable)\n",
        "gares_atteintes_avec_connexion = [a for a in gares_avec_connexion if (a not in liste_gares_direct)]\n",
        "print(gares_atteintes_avec_connexion)"
      ]
    },
    {
      "cell_type": "markdown",
      "metadata": {},
      "source": [
        "##### Exemple : trouver toutes les correspondances possibles depuis les trains qu'on prend de la Gare de Lyon\n",
        "\n",
        "Maintenant qu'on a fait un exemple, on le fait pour tous les trajets qui partent de la Gare de Lyon\n",
        "\n",
        "!!! Attention cette celulle prend du temps (beaucoup beaucoup de temps) !!!!"
      ]
    },
    {
      "cell_type": "code",
      "execution_count": 33,
      "metadata": {
        "ExecuteTime": {
          "end_time": "2016-10-31T22:31:46.483477",
          "start_time": "2016-10-31T22:29:13.648151"
        },
        "scrolled": false
      },
      "outputs": [],
      "source": [
        "gares_avec_connexion = []\n",
        "\n",
        "for gare_initiale in dictionnaire_destinations: \n",
        "    # pour le premier trajet gare de la liste trouv\u00e9e \u00e0 l'\u00e9tape pr\u00e9c\u00e9dente\n",
        "    # on va chercher toutes les connexions des gares possibles\n",
        "    print(gare_initiale, \"/\", len(dictionnaire_destinations))\n",
        "\n",
        "    gare_depart = dictionnaire_destinations[gare_initiale]['stop_point']['id']\n",
        "    gare_arrivee = dictionnaire_destinations[gare_initiale]['route']['direction']['id']\n",
        "    horaire_train = dictionnaire_destinations[gare_initiale]['stop_date_time']['arrival_date_time']\n",
        "    \n",
        "    # Pour les trajets qui partent avant 8h des gares, on va chercher toutes les gares qui sont sur le trajet\n",
        "    \n",
        "    trajet_recherche = trouver_toutes_les_gares_du_trajet(gare_depart, gare_arrivee, horaire_train)\n",
        "\n",
        "    dictionnaire_correspondances = {}\n",
        "    if 'journeys' not in trajet_recherche:\n",
        "        print(\"Pas de trajet entre '{0}' et '{1}' h={2}.\".format(gare_depart, gare_arrivee, horaire_train))\n",
        "        continue\n",
        "    session = trajet_recherche['journeys'][0]['sections'][0] \n",
        "\n",
        "    if \"stop_date_times\" in session:\n",
        "        for i in session['stop_date_times']: \n",
        "\n",
        "            if i['stop_point']['id'] == \"stop_point:OCE:SP:TGV-87686006\" : \n",
        "                #print(\"on ne prend pas la gare de Lyon - ce n'est pas une gare du trajet\")\n",
        "                pass\n",
        "\n",
        "            else :\n",
        "                # on va appliquer \u00e0 nouveau la fonction des trajets disponibles mais pour l'ensemble des gares\n",
        "                gare_dep_connexion = i['stop_point']['id']\n",
        "                nom_gare_dep = i['stop_point']['name']\n",
        "                heure_dep_connexion = i['arrival_date_time']\n",
        "\n",
        "                trajet_recherche_connexion = trouver_trajet_dispo_max_heure(gare_dep_connexion, heure_dep_connexion, horaire_max)\n",
        "\n",
        "                test_as_connexion_on_time = True\n",
        "\n",
        "                # pour chaque trajet possible depuis la gare o\u00f9 on est arriv\u00e9 depuis paris, on va v\u00e9rifier qu'on part bien  \n",
        "                # avant 8h le lendemain\n",
        "                for vers_autre_gare in trajet_recherche_connexion :  \n",
        "                    heure_depart_depuis_autre_gare = vers_autre_gare['stop_date_time']['departure_date_time']\n",
        "                    destination_trajet = vers_autre_gare['display_informations']['direction']\n",
        "\n",
        "                    if convertir_en_temps(heure_depart_depuis_autre_gare) < convertir_en_temps(horaire_max) : \n",
        "                        dictionnaire_correspondances[(nom_gare_dep,heure_depart_depuis_autre_gare)] = destination_trajet  \n",
        "                        test_as_connexion_on_time = False\n",
        "\n",
        "                if test_as_connexion_on_time == True : \n",
        "                    dictionnaire_correspondances[(nom_gare_dep,vers_autre_gare['stop_date_time']['departure_date_time'])] = \"\"\n",
        "\n",
        "    # on garde toutes les gares o\u00f9 on peut aller depuis une des gares de correspondance, avec un d\u00e9part avant 8H\n",
        "\n",
        "    for k,v in dictionnaire_correspondances.items() : \n",
        "        if len(v) == 0:\n",
        "            continue\n",
        "        if k[0] not in dict_nom_gare_code:\n",
        "            print(\"'{0}' pas trouv\u00e9 dans {1}\".format(k[0], \", \".join(\n",
        "                sorted(_ for _ in dict_nom_gare_code if isinstance(_, str) and _[:4] == k[0][:4]))))\n",
        "            continue\n",
        "        if v not in dict_label_gare_code:\n",
        "            print(\"'{0}' pas trouv\u00e9 dans {1}\".format(v, \", \".join(\n",
        "                sorted(_ for _ in dict_label_gare_code if isinstance(_, str) and _[:4] == v[:4]))))\n",
        "            continue\n",
        "        dep = dict_nom_gare_code[k[0]]\n",
        "        arr = dict_label_gare_code[v]\n",
        "        gares_entre_dep_arr = trouver_toutes_les_gares_du_trajet(dep, arr, k[1])\n",
        "        if 'journeys' not in gares_entre_dep_arr:\n",
        "            print(\"Pas de trajet entre '{0}' et '{1}'.\".format(k[0], v))\n",
        "            continue\n",
        "        session = gares_entre_dep_arr['journeys'][0]['sections'][1]\n",
        "        if \"stop_date_times\" in session:\n",
        "            for gare in session['stop_date_times'] : \n",
        "                gares_avec_connexion.append(gare['stop_point']['name'])"
      ]
    },
    {
      "cell_type": "code",
      "execution_count": 34,
      "metadata": {
        "ExecuteTime": {
          "end_time": "2016-10-31T22:31:46.495972",
          "start_time": "2016-10-31T22:31:46.488473"
        }
      },
      "outputs": [],
      "source": [
        "# la liste des gares atteignables avec 1 correspondance            \n",
        "gares_avec_connexion = set(gares_avec_connexion)"
      ]
    },
    {
      "cell_type": "code",
      "execution_count": 35,
      "metadata": {
        "ExecuteTime": {
          "end_time": "2016-10-31T22:31:46.531470",
          "start_time": "2016-10-31T22:31:46.501971"
        }
      },
      "outputs": [],
      "source": [
        "gares_connexion = [a for a in gares_avec_connexion if a not in liste_gares_direct]\n",
        "print(gares_connexion)"
      ]
    },
    {
      "cell_type": "markdown",
      "metadata": {},
      "source": [
        "#### Question 5\n",
        "- Repr\u00e9senter toutes les gares atteignables avec un graphique de type scatter. Distinguer les gares atteintes en un seul trajet et celles atteintes avec une correspondance."
      ]
    },
    {
      "cell_type": "code",
      "execution_count": 36,
      "metadata": {
        "ExecuteTime": {
          "end_time": "2016-10-31T22:31:46.568470",
          "start_time": "2016-10-31T22:31:46.535469"
        }
      },
      "outputs": [],
      "source": [
        "######### Type de chaque gare pour le graphique\n",
        "dict_type_gares = {}\n",
        "for a in liste_gares_direct :\n",
        "    dict_type_gares[a] = \"direct\"\n",
        "for a in gares_connexion :\n",
        "    dict_type_gares[a] = \"correspondance\"    \n",
        "dict_type_gares['Paris-Gare-de-Lyon'] = 'depart'\n",
        "dict_type_gares"
      ]
    },
    {
      "cell_type": "markdown",
      "metadata": {},
      "source": [
        "On repr\u00e9sente tout \u00e7a sur un graphique"
      ]
    },
    {
      "cell_type": "code",
      "execution_count": 37,
      "metadata": {
        "ExecuteTime": {
          "end_time": "2016-10-31T22:31:46.634977",
          "start_time": "2016-10-31T22:31:46.572473"
        }
      },
      "outputs": [],
      "source": [
        "# on va les repr\u00e9senter gr\u00e2ce \u00e0 la base des latitude / longitude\n",
        "\n",
        "import pandas as pd\n",
        "import matplotlib.pyplot as plt\n",
        "import matplotlib as mpl\n",
        "from matplotlib.lines import Line2D \n",
        "\n",
        "mpl.rcParams['axes.facecolor'] = \"whitesmoke\"\n",
        "\n",
        "palette = plt.cm.spring \n",
        "\n",
        "liste_couleurs = [palette(0), palette(0.5), palette(0.8)]\n",
        "\n",
        "data_all = pd.read_csv(\"./ensemble_gares.csv\", encoding = \"ISO-8859-1\")\n",
        "\n",
        "connexions = []\n",
        "lat = []\n",
        "lon = []\n",
        "labels = []\n",
        "\n",
        "dict_lat = data_all.set_index('name')['lat'].to_dict()\n",
        "dict_lon = data_all.set_index('name')['lon'].to_dict()\n",
        "#dict_lab = data_all.set_index('name')['name'].str.replace(\"gare de\",\"\").to_dict()\n",
        "\n",
        "\n",
        "for gare in dict_type_gares: \n",
        "    if gare not in dict_lat:\n",
        "        print(\"'{0}' pas trouv\u00e9 dans dict_lat (probl\u00e8me d'accents?)\".format(gare))\n",
        "        continue\n",
        "    if gare not in dict_lon:\n",
        "        print(\"'{0}' pas trouv\u00e9 dans dict_lon (probl\u00e8me d'accents?)\".format(gare))\n",
        "        continue\n",
        "    lat.append(dict_lat[gare])                              \n",
        "    lon.append(dict_lon[gare])\n",
        "    labels.append(gare)"
      ]
    },
    {
      "cell_type": "code",
      "execution_count": 38,
      "metadata": {},
      "outputs": [],
      "source": [
        "%matplotlib inline"
      ]
    },
    {
      "cell_type": "code",
      "execution_count": 39,
      "metadata": {
        "ExecuteTime": {
          "end_time": "2016-10-31T22:31:48.233605",
          "start_time": "2016-10-31T22:31:46.638970"
        }
      },
      "outputs": [],
      "source": [
        "### La carte \n",
        "###################################################################################################\n",
        "\n",
        "def liste_unique(liste) : \n",
        "    unicite = [] \n",
        "    for x in liste : \n",
        "        if x in unicite :\n",
        "            pass\n",
        "        else :\n",
        "            unicite.append(x)\n",
        "    return unicite\n",
        "\n",
        "lab_un = liste_unique(labels)\n",
        "lat_un = liste_unique(lat)\n",
        "lon_un = liste_unique(lon)\n",
        "\n",
        "fig = plt.figure(figsize=(12,10))\n",
        "\n",
        "for label, x, y in set(zip(labels, lon, lat)) :\n",
        "    if dict_type_gares[label] == \"direct\" :  \n",
        "        plt.annotate(label, xy = (x - 0.05, y - 0.05), horizontalalignment = 'right', size = 13)\n",
        "    else :\n",
        "        plt.annotate(label, xy = (x + 0.05, y + 0.05), horizontalalignment = 'left', size = 13)\n",
        "\n",
        "colors = []     \n",
        "for x in lab_un : \n",
        "    if dict_type_gares[x] == \"depart\" : \n",
        "        colors.append(liste_couleurs[0])\n",
        "    if dict_type_gares[x] == \"direct\" :\n",
        "        colors.append(liste_couleurs[1])\n",
        "    if dict_type_gares[x] == \"correspondance\" : \n",
        "        colors.append(liste_couleurs[2])\n",
        "                \n",
        "        \n",
        "plt.scatter(x = lon_un , y = lat_un, marker = \"o\", c = colors, s = 100, alpha = 0.5)\n",
        "\n",
        "#### Legende\n",
        "\n",
        "circ1 = Line2D([0], [0], linestyle=\"none\", marker=\"o\", alpha=0.5, markersize=10, markerfacecolor = liste_couleurs[0])\n",
        "circ2 = Line2D([0], [0], linestyle=\"none\", marker=\"o\", alpha=0.5, markersize=10, markerfacecolor = liste_couleurs[1])\n",
        "circ3 = Line2D([0], [0], linestyle=\"none\", marker=\"o\", alpha=0.5, markersize=10, markerfacecolor = liste_couleurs[2])\n",
        "\n",
        "legende = plt.legend((circ1, circ2, circ3), (\"Gare de d\u00e9part\", \"Direct depuis Gare de Lyon le soir du 17 novembre\", \n",
        "                                             \"Avec une correspondance depuis une gare directe\"), numpoints=1, loc=\"best\")\n",
        "\n",
        "legende.get_frame().set_facecolor('white')\n",
        "\n",
        "plt.title(\"Gares atteignables avant minuit depuis la Gare de Lyon\", size = 20);"
      ]
    },
    {
      "cell_type": "code",
      "execution_count": 40,
      "metadata": {},
      "outputs": [],
      "source": []
    }
  ],
  "metadata": {
    "kernelspec": {
      "display_name": "Python 3 (ipykernel)",
      "language": "python",
      "name": "python3"
    },
    "language_info": {
      "codemirror_mode": {
        "name": "ipython",
        "version": 3
      },
      "file_extension": ".py",
      "mimetype": "text/x-python",
      "name": "python",
      "nbconvert_exporter": "python",
      "pygments_lexer": "ipython3",
      "version": "3.10.5"
    }
  },
  "nbformat": 4,
  "nbformat_minor": 1
}