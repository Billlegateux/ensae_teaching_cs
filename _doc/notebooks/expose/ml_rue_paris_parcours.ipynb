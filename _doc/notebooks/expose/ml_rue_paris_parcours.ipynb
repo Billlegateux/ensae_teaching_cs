{
  "cells": [
    {
      "cell_type": "markdown",
      "metadata": {},
      "source": [
        "# 2A.algo - Parcourir les rues de Paris\n",
        "\n",
        "Algorithme de plus courts chemins dans un graphe. Calcul d'un chemin compar\u00e9 au calcul de tous les chemins les plus courts."
      ]
    },
    {
      "cell_type": "code",
      "execution_count": 1,
      "metadata": {},
      "outputs": [
        {
          "name": "stdout",
          "output_type": "stream",
          "text": [
            "Populating the interactive namespace from numpy and matplotlib\n"
          ]
        }
      ],
      "source": [
        "%matplotlib inline"
      ]
    },
    {
      "cell_type": "markdown",
      "metadata": {},
      "source": [
        "Cette id\u00e9e vient d'une soir\u00e9e Google Code initi\u00e9e par Google et \u00e0 laquelle des \u00e9l\u00e8ves de l'ENSAE ont particip\u00e9. On dispose de la description des rues de Paris (qu'on consid\u00e8rera comme des lignes droites). On veut d\u00e9terminer le trajet de huit voitures de telle sorte qu'elles parcourent la ville le plus rapidement possible. On supposera deux cas :\n",
        "\n",
        "- Les voitures peuvent \u00eatre plac\u00e9es n'importe o\u00f9 dans la ville.\n",
        "- Les voitures d\u00e9marrent et reviennent au m\u00eame point de d\u00e9part, le m\u00eame pour toutes.\n",
        "\n",
        "Ce notebook d\u00e9crit comment r\u00e9cup\u00e9rer les donn\u00e9es et propose une solution. Ce probl\u00e8me est plus connu sous le nom du [probl\u00e8me du postier chinois](https://fr.wikipedia.org/wiki/Probl%C3%A8me_du_postier_chinois) ou [Route inspection problem](https://en.wikipedia.org/wiki/Route_inspection_problem) pour lequel il existe un algorithme optimal \u00e0 co\u00fbt polynomial. Le probl\u00e8me n'est donc pas [NP complet](https://en.wikipedia.org/wiki/NP-completeness)."
      ]
    },
    {
      "cell_type": "code",
      "execution_count": 2,
      "metadata": {},
      "outputs": [
        {
          "data": {
            "text/html": [
              "<div id=\"my_id_menu_nb\">run previous cell, wait for 2 seconds</div>\n",
              "<script>\n",
              "function repeat_indent_string(n){\n",
              "    var a = \"\" ;\n",
              "    for ( ; n > 0 ; --n) {\n",
              "        a += \"    \";\n",
              "    }\n",
              "    return a;\n",
              "}\n",
              "var update_menu_string = function(begin, lfirst, llast, sformat, send, keep_item) {\n",
              "    var anchors = document.getElementsByClassName(\"section\");\n",
              "    if (anchors.length == 0) {\n",
              "        anchors = document.getElementsByClassName(\"text_cell_render rendered_html\");\n",
              "    }\n",
              "    var i,t;\n",
              "    var text_menu = begin;\n",
              "    var text_memo = \"<pre>\\nlength:\" + anchors.length + \"\\n\";\n",
              "    var ind = \"\";\n",
              "    var memo_level = 1;\n",
              "    var href;\n",
              "    var tags = [];\n",
              "    var main_item = 0;\n",
              "    for (i = 0; i <= llast; i++) {\n",
              "        tags.push(\"h\" + i);\n",
              "    }\n",
              "\n",
              "    for (i = 0; i < anchors.length; i++) {\n",
              "        text_memo += \"**\" + anchors[i].id + \"--\\n\";\n",
              "\n",
              "        var child = null;\n",
              "        for(t = 0; t < tags.length; t++) {\n",
              "            var r = anchors[i].getElementsByTagName(tags[t]);\n",
              "            if (r.length > 0) {\n",
              "child = r[0];\n",
              "break;\n",
              "            }\n",
              "        }\n",
              "        if (child == null){\n",
              "            text_memo += \"null\\n\";\n",
              "            continue;\n",
              "        }\n",
              "        if (anchors[i].hasAttribute(\"id\")) {\n",
              "            // when converted in RST\n",
              "            href = anchors[i].id;\n",
              "            text_memo += \"#1-\" + href;\n",
              "            // passer \u00e0 child suivant (le chercher)\n",
              "        }\n",
              "        else if (child.hasAttribute(\"id\")) {\n",
              "            // in a notebook\n",
              "            href = child.id;\n",
              "            text_memo += \"#2-\" + href;\n",
              "        }\n",
              "        else {\n",
              "            text_memo += \"#3-\" + \"*\" + \"\\n\";\n",
              "            continue;\n",
              "        }\n",
              "        var title = child.textContent;\n",
              "        var level = parseInt(child.tagName.substring(1,2));\n",
              "\n",
              "        text_memo += \"--\" + level + \"?\" + lfirst + \"--\" + title + \"\\n\";\n",
              "\n",
              "        if ((level < lfirst) || (level > llast)) {\n",
              "            continue ;\n",
              "        }\n",
              "        if (title.endsWith('\u00b6')) {\n",
              "            title = title.substring(0,title.length-1).replace(\"<\", \"&lt;\").replace(\">\", \"&gt;\").replace(\"&\", \"&amp;\")\n",
              "        }\n",
              "\n",
              "        if (title.length == 0) {\n",
              "            continue;\n",
              "        }\n",
              "\n",
              "        while (level < memo_level) {\n",
              "            text_menu += \"</ul>\\n\";\n",
              "            memo_level -= 1;\n",
              "        }\n",
              "        if (level == lfirst) {\n",
              "            main_item += 1;\n",
              "        }\n",
              "        if (keep_item != -1 && main_item != keep_item + 1) {\n",
              "            // alert(main_item + \" - \" + level + \" - \" + keep_item);\n",
              "            continue;\n",
              "        }\n",
              "        while (level > memo_level) {\n",
              "            text_menu += \"<ul>\\n\";\n",
              "            memo_level += 1;\n",
              "        }\n",
              "        text_menu += repeat_indent_string(level-2) + sformat.replace(\"__HREF__\", href).replace(\"__TITLE__\", title);\n",
              "    }\n",
              "    while (1 < memo_level) {\n",
              "        text_menu += \"</ul>\\n\";\n",
              "        memo_level -= 1;\n",
              "    }\n",
              "    text_menu += send;\n",
              "    //text_menu += \"\\n\" + text_memo;\n",
              "    return text_menu;\n",
              "};\n",
              "var update_menu = function() {\n",
              "    var sbegin = \"\";\n",
              "    var sformat = '<li><a href=\"#__HREF__\">__TITLE__</a></li>';\n",
              "    var send = \"\";\n",
              "    var keep_item = -1;\n",
              "    var text_menu = update_menu_string(sbegin, 2, 4, sformat, send, keep_item);\n",
              "    var menu = document.getElementById(\"my_id_menu_nb\");\n",
              "    menu.innerHTML=text_menu;\n",
              "};\n",
              "window.setTimeout(update_menu,2000);\n",
              "            </script>"
            ],
            "text/plain": [
              "<IPython.core.display.HTML object>"
            ]
          },
          "execution_count": 3,
          "metadata": {},
          "output_type": "execute_result"
        }
      ],
      "source": [
        "from jyquickhelper import add_notebook_menu\n",
        "add_notebook_menu()"
      ]
    },
    {
      "cell_type": "markdown",
      "metadata": {},
      "source": [
        "Une versions de ce probl\u00e8me est propos\u00e9e sous forme de challenge : [City Tour](http://www.xavierdupre.fr/app/ensae_projects/helpsphinx/challenges/city_tour.html)."
      ]
    },
    {
      "cell_type": "markdown",
      "metadata": {},
      "source": [
        "## Les donn\u00e9es\n",
        "\n",
        "On r\u00e9cup\u00e8re les donn\u00e9es sur Internet."
      ]
    },
    {
      "cell_type": "code",
      "execution_count": 3,
      "metadata": {},
      "outputs": [
        {
          "name": "stdout",
          "output_type": "stream",
          "text": [
            "    downloading of  http://www.xavierdupre.fr/enseignement/complements/paris_54000.zip  to  paris_54000.zip\n",
            "    unzipped  paris_54000.txt  to  .\\paris_54000.txt\n"
          ]
        },
        {
          "data": {
            "text/plain": [
              "['.\\\\paris_54000.txt']"
            ]
          },
          "execution_count": 4,
          "metadata": {},
          "output_type": "execute_result"
        }
      ],
      "source": [
        "import pyensae.datasource\n",
        "data = pyensae.datasource.download_data(\"paris_54000.zip\")\n",
        "data"
      ]
    },
    {
      "cell_type": "markdown",
      "metadata": {},
      "source": [
        "On extrait du fichier l'ensemble des carrefours (vertices) et des rues ou segment de rues (edges)."
      ]
    },
    {
      "cell_type": "code",
      "execution_count": 4,
      "metadata": {},
      "outputs": [
        {
          "name": "stdout",
          "output_type": "stream",
          "text": [
            "#E= 17958 #V= 11348 > 11347\n"
          ]
        }
      ],
      "source": [
        "name = data[0]\n",
        "with open(name, \"r\") as f : lines = f.readlines()\n",
        "    \n",
        "vertices = []\n",
        "edges    = [ ]\n",
        "for i,line in enumerate(lines) :\n",
        "    spl = line.strip(\"\\n\\r\").split(\" \")\n",
        "    if len(spl) == 2 :\n",
        "        vertices.append ( (float(spl[0]), float(spl[1]) ) )\n",
        "    elif len(spl) == 5 and i > 0:\n",
        "        v1,v2 = int(spl[0]),int(spl[1])\n",
        "        ways = int(spl[2]) # dans les deux sens ou pas\n",
        "        p1 = vertices[v1]\n",
        "        p2 = vertices[v2]\n",
        "        edges.append ( (v1,v2,ways,p1,p2) )\n",
        "    elif i > 0 :\n",
        "        raise Exception(\"unable to interpret line {0}: \".format(i) + line)\n",
        "print(\"#E=\",len(edges), \"#V=\",len(vertices), \">\",max (max( _[0] for _ in edges),  max( _[1] for _ in edges)))"
      ]
    },
    {
      "cell_type": "markdown",
      "metadata": {},
      "source": [
        "On trace sur un graphique un \u00e9chantillon des carrefours. On suppose la ville de Paris suffisamment petite et loin des p\u00f4les pour consid\u00e9rer les coordonn\u00e9es comme cart\u00e9siennes (et non comme longitude/latitude)."
      ]
    },
    {
      "cell_type": "code",
      "execution_count": 5,
      "metadata": {},
      "outputs": [
        {
          "data": {
            "text/plain": [
              "[<matplotlib.lines.Line2D at 0x948b898>]"
            ]
          },
          "execution_count": 6,
          "metadata": {},
          "output_type": "execute_result"
        },
        {
          "data": {
            "image/png": "[encoded data removed]",
            "text/plain": [
              "<matplotlib.figure.Figure at 0x8e37cf8>"
            ]
          },
          "metadata": {},
          "output_type": "display_data"
        }
      ],
      "source": [
        "import matplotlib.pyplot as plt\n",
        "import random\n",
        "sample = [ vertices[random.randint(0,len(vertices)-1)] for i in range(0,1000)]\n",
        "plt.plot( [_[0] for _ in sample], [_[1] for _ in sample], \".\")"
      ]
    },
    {
      "cell_type": "markdown",
      "metadata": {},
      "source": [
        "Puis on dessine \u00e9galement un \u00e9chantillon des rues."
      ]
    },
    {
      "cell_type": "code",
      "execution_count": 6,
      "metadata": {},
      "outputs": [
        {
          "data": {
            "image/png": "[encoded data removed]",
            "text/plain": [
              "<matplotlib.figure.Figure at 0x8e37748>"
            ]
          },
          "metadata": {},
          "output_type": "display_data"
        }
      ],
      "source": [
        "sample = [ edges[random.randint(0,len(edges)-1)] for i in range(0,1000)]\n",
        "for edge in sample:\n",
        "    plt.plot( [_[0] for _ in edge[-2:]], [_[1] for _ in edge[-2:]], \"b-\")"
      ]
    },
    {
      "cell_type": "markdown",
      "metadata": {},
      "source": [
        "Petite remarque : il n'y a pas de rues reliant le m\u00eame carrefour :"
      ]
    },
    {
      "cell_type": "code",
      "execution_count": 7,
      "metadata": {},
      "outputs": [
        {
          "data": {
            "text/plain": [
              "0"
            ]
          },
          "execution_count": 8,
          "metadata": {},
          "output_type": "execute_result"
        }
      ],
      "source": [
        "len ( list(e for e in edges if e[0]==e[1] ))"
      ]
    },
    {
      "cell_type": "markdown",
      "metadata": {},
      "source": [
        "## Une premi\u00e8re solution au premier probl\u00e8me\n",
        "\n",
        "Ce probl\u00e8me est tr\u00e8s similaire \u00e0 celui du [portier chinois](http://fr.wikipedia.org/wiki/Probl%C3%A8me_du_postier_chinois). La solution qui suit n'est pas n\u00e9cessaire la meilleure mais elle donne une id\u00e9e de ce que peut-\u00eatre une recherche un peu exp\u00e9rimentale sur le sujet.\n",
        "\n",
        "Chaque noeud repr\u00e9sente un carrefour et chaque rue est un arc reliant des deux carrefours. L'objectif est de parcourir tous les arcs du graphe avec 8 voitures. \n",
        "\n",
        "Premiere remarque, l'\u00e9nonc\u00e9 ne dit pas qu'il faut parcourir toutes les rues une seule fois. On con\u00e7oit ais\u00e9ment que ce serait l'id\u00e9al mais on ne sait pas si ce serait possible. N\u00e9anmoins, si une telle solution (un chemin passant une et une seule fois par toutes les rues) existe, elle est forc\u00e9ment optimale.\n",
        "\n",
        "Deuxi\u00e8me remarque, les sens interdits rendent le probl\u00e8me plus complexe. On va dans un premier temps ne pas en tenir compte. On verra comment ajouter la contrainte par la suite et il y a aussi le probl\u00e8me des impasses. On peut n\u00e9anmoins les contourner en les supprimant du graphe : il faut n\u00e9cessairement faire demi-tour et il n'y a pas de meilleure solution.\n",
        "\n",
        "Ces deux remarques \u00e9tant faite, ce probl\u00e8me rappelle un peu le probl\u00e8me des sept ponts de [Konigsberg](http://fr.wikipedia.org/wiki/Probl%C3%A8me_des_sept_ponts_de_K%C3%B6nigsberg) : comment traverser passer par les sept de la ville une et une seule fois. Le math\u00e9maticien [Euler](http://fr.wikipedia.org/wiki/Leonhard_Euler) a r\u00e9pondu \u00e0 cette question : c'est simple, il suffit que chaque noeud du graphe soit rejoint par un nombre pair de d'arc (= ponts) sauf au plus 2 (les noeuds de d\u00e9part et d'arriv\u00e9e). De cette fa\u00e7on, \u00e0 chaque qu'on rejoint un noeud, il y a toujours une fa\u00e7on de repartir."
      ]
    },
    {
      "cell_type": "code",
      "execution_count": 8,
      "metadata": {},
      "outputs": [
        {
          "data": {
            "image/png": "[encoded data removed]",
            "text/plain": [
              "<matplotlib.figure.Figure at 0xb2ea2b0>"
            ]
          },
          "metadata": {},
          "output_type": "display_data"
        }
      ],
      "source": [
        "import networkx as nx\n",
        "g = nx.Graph()\n",
        "for i,j in [(1,2),(1,3),(1,4),(2,3),(3,4),(4,5),(5,2),(2,4) ]:\n",
        "    g.add_edge( i,j )\n",
        "import matplotlib.pyplot as plt\n",
        "f, ax = plt.subplots(figsize=(6,3))\n",
        "nx.draw(g, ax = ax)"
      ]
    },
    {
      "cell_type": "markdown",
      "metadata": {},
      "source": [
        "On ne peut pas trouver une chemin qui parcourt tous les arcs du graphe pr\u00e9c\u00e9dent une et une seule fois. Qu'en est-il du graphe de la ville de Paris ? On compte les noeuds qui ont un nombre pairs et impairs d'arcs les rejoignant (on appelle cela le [degr\u00e9](http://fr.wikipedia.org/wiki/Degr%C3%A9_(th%C3%A9orie_des_graphes)))."
      ]
    },
    {
      "cell_type": "code",
      "execution_count": 9,
      "metadata": {},
      "outputs": [
        {
          "data": {
            "text/plain": [
              "[[(2, 1337), (3, 7103), (4, 2657), (5, 209), (6, 35), (7, 6), (8, 1)]]"
            ]
          },
          "execution_count": 10,
          "metadata": {},
          "output_type": "execute_result"
        }
      ],
      "source": [
        "nb_edge = { }\n",
        "for edge in edges :\n",
        "    v1,v2 = edge[:2]\n",
        "    nb_edge[v1] = nb_edge.get(v1,0)+1\n",
        "    nb_edge[v2] = nb_edge.get(v2,0)+1\n",
        "parite = { }\n",
        "for k,v in nb_edge.items():\n",
        "    parite[v] = parite.get(v,0) + 1\n",
        "[ sorted(parite.items()) ]"
      ]
    },
    {
      "cell_type": "markdown",
      "metadata": {},
      "source": [
        "On remarque que la plupart des carrefours sont le d\u00e9part de 3 rues. Qu'\u00e0 cela ne tienne, pourquoi ne pas ajouter des arcs entre des noeuds de degr\u00e9 impair jusqu'\u00e0 ce qu'il n'y en ait plus que 2. De cette fa\u00e7on, il sera facile de construire un seul chemin parcourant toutes les rues. Comment ajouter ces arcs ? Cela va se faire en deux \u00e9tapes :\n",
        "\n",
        "- On utilise l'algorithme de [Bellman-Ford](http://fr.wikipedia.org/wiki/Algorithme_de_Bellman-Ford) pour construire une matrice des plus courts chemins entre tous les noeuds.\n",
        "- On s'inspire de l'algorithme de poids minimal [Kruskal](http://fr.wikipedia.org/wiki/Algorithme_de_Kruskal). On trie les arcs par ordre croissant de distance. On ajoute ceux qui r\u00e9duisent le nombre de noeuds de degr\u00e9 impairs en les prenant dans cet ordre.\n",
        "\n",
        "**Quelques justifications :** le meilleur parcours ne pourra pas descendre en de\u00e7a de la somme des distances des rues puisqu'il faut toutes les parcourir. De plus, s'il existe un chemin qui parcourt toutes les rues, en d\u00e9doublant toutes celles parcourues plus d'une fois, il est facile de rendre ce chemin *eul\u00e9rien* dans un graphe l\u00e9g\u00e8rement modifi\u00e9 par rapport au graphe initial."
      ]
    },
    {
      "cell_type": "markdown",
      "metadata": {},
      "source": [
        "### Etape 1 : la matrice Bellman\n",
        "\n",
        "Je ne d\u00e9taillerai pas trop, la page Wikipedia est assez claire. Dans un premier temps on calcule la longueur de chaque arc (de fa\u00e7on cart\u00e9sienne). Une autre distance ([Haversine](http://en.wikipedia.org/wiki/Haversine_formula)) ne changerait pas le raisonnement."
      ]
    },
    {
      "cell_type": "code",
      "execution_count": 10,
      "metadata": {},
      "outputs": [],
      "source": [
        "def distance(p1,p2):\n",
        "    return ((p1[0]-p2[0])**2+(p1[1]-p2[1])**2)**0.5\n",
        "edges = [ edge + (distance( edge[-2],edge[-1]),) for edge in edges]"
      ]
    },
    {
      "cell_type": "markdown",
      "metadata": {},
      "source": [
        "Ensuite, on impl\u00e9mente l'algorithme de [Bellman-Ford](http://fr.wikipedia.org/wiki/Algorithme_de_Bellman-Ford)."
      ]
    },
    {
      "cell_type": "code",
      "execution_count": 11,
      "metadata": {},
      "outputs": [
        {
          "name": "stdout",
          "output_type": "stream",
          "text": [
            "2015-04-12 01:16:40.590690 iteration  0  modif  72870  #  35916 / 128777104 = 0.03%\n",
            "2015-04-12 01:16:41.340550 iteration  1  modif  120368  #  104842 / 128777104 = 0.08%\n",
            "2015-04-12 01:16:42.887810 iteration  2  modif  180646  #  213826 / 128777104 = 0.17%\n",
            "2015-04-12 01:16:45.510596 iteration  3  modif  255702  #  368960 / 128777104 = 0.29%\n",
            "2015-04-12 01:16:49.759326 iteration  4  modif  347092  #  576106 / 128777104 = 0.45%\n",
            "2015-04-12 01:16:55.781000 iteration  5  modif  455899  #  839276 / 128777104 = 0.65%\n",
            "2015-04-12 01:17:04.276258 iteration  6  modif  584263  #  1162870 / 128777104 = 0.90%\n"
          ]
        }
      ],
      "source": [
        "import datetime\n",
        "init = { (e[0],e[1]) : e[-1] for e in edges }\n",
        "init.update ( { (e[1],e[0]) : e[-1] for e in edges } )\n",
        "\n",
        "edges_from = {  }\n",
        "for e in edges :\n",
        "    if e[0] not in edges_from : edges_from[e[0]] = []\n",
        "    if e[1] not in edges_from : edges_from[e[1]] = []\n",
        "    edges_from[e[0]].append(e)\n",
        "    edges_from[e[1]].append( (e[1], e[0], e[2], e[4], e[3], e[5] ) )\n",
        "    \n",
        "modif = 1\n",
        "total_possible_edges = len(edges_from)**2\n",
        "it = 0\n",
        "while modif > 0 :\n",
        "    modif = 0\n",
        "    initc = init.copy()   # to avoid RuntimeError: dictionary changed size during iteration\n",
        "    s = 0\n",
        "    for i,d in initc.items() :\n",
        "        fromi2 = edges_from[i[1]]\n",
        "        s += d\n",
        "        for e in fromi2 :\n",
        "            if i[0] == e[1] : # on fait attention \u00e0 ne pas ajouter de boucle sur le m\u00eame noeud\n",
        "                continue\n",
        "            new_e = i[0], e[1]\n",
        "            new_d = d + e[-1]\n",
        "            if new_e not in init or init[new_e] > new_d :\n",
        "                init[new_e] = new_d \n",
        "                modif += 1\n",
        "    print(datetime.datetime.now(), \"iteration \", it, \" modif \", modif, \" # \", len(initc),\"/\",total_possible_edges,\"=\", \n",
        "            \"%1.2f\" %(len(initc)*100 / total_possible_edges) + \"%\")\n",
        "    it += 1\n",
        "    if it > 6 : break"
      ]
    },
    {
      "cell_type": "markdown",
      "metadata": {},
      "source": [
        "On s'aper\u00e7oit vite que cela va \u00eatre tr\u00e8s tr\u00e8s long. On d\u00e9cide alors de ne consid\u00e9rer que les paires de noeuds pour lesquelles la distance \u00e0 vol d'oiseau est inf\u00e9rieure au plus grand segment de rue ou inf\u00e9rieure \u00e0 cette distance multipli\u00e9e par un coefficient."
      ]
    },
    {
      "cell_type": "code",
      "execution_count": 12,
      "metadata": {},
      "outputs": [
        {
          "data": {
            "text/plain": [
              "0.017418989861067814"
            ]
          },
          "execution_count": 13,
          "metadata": {},
          "output_type": "execute_result"
        }
      ],
      "source": [
        "max_segment = max( e[-1] for e in edges )\n",
        "max_segment"
      ]
    },
    {
      "cell_type": "markdown",
      "metadata": {},
      "source": [
        "On calcule les arcs admissibles (en esp\u00e9rant que les noeuds de degr\u00e9 impairs seront bien dedans). Cette \u00e9tape prend quelques minutes :"
      ]
    },
    {
      "cell_type": "code",
      "execution_count": 13,
      "metadata": {},
      "outputs": [
        {
          "name": "stdout",
          "output_type": "stream",
          "text": [
            "original 35916 / 128777104 = 0.000278900510140374\n",
            "addition 2875586 / 128777104 = 0.022329947721141486\n"
          ]
        }
      ],
      "source": [
        "possibles = { (e[0],e[1]) : e[-1] for e in edges }\n",
        "possibles.update ( { (e[1],e[0]) : e[-1] for e in edges } )\n",
        "initial = possibles.copy()\n",
        "for i1,v1 in enumerate(vertices) :\n",
        "    for i2 in range(i1+1,len(vertices)):\n",
        "        v2 = vertices[i2]\n",
        "        d = distance(v1,v2)\n",
        "        if d < max_segment / 2 :         # on ajuste le seuil\n",
        "            possibles [ i1,i2 ] = d\n",
        "            possibles [ i2,i1 ] = d\n",
        "print(\"original\",len(initial),\"/\",total_possible_edges,\"=\", len(initial)/total_possible_edges)\n",
        "print(\"addition\",len(possibles)-len(initial),\"/\",total_possible_edges,\"=\", (len(possibles)-len(initial))/total_possible_edges)"
      ]
    },
    {
      "cell_type": "markdown",
      "metadata": {},
      "source": [
        "On v\u00e9rifie que les noeuds de degr\u00e9 impairs font tous partie de l'ensemble des noeuds recevant de nouveaux arcs. La matrice de Bellman envisagera au pire 2.2% de toutes les distances possibles."
      ]
    },
    {
      "cell_type": "code",
      "execution_count": 14,
      "metadata": {},
      "outputs": [
        {
          "name": "stdout",
          "output_type": "stream",
          "text": [
            "si vous voyez cette ligne, c'est que tout est bon\n"
          ]
        }
      ],
      "source": [
        "allv = { p[0]:True for p in possibles if p not in initial } # possibles est sym\u00e9trique\n",
        "for v,p in nb_edge.items() :\n",
        "    if p % 2 == 1 and v not in allv :\n",
        "        raise Exception(\"probl\u00e8me pour le noeud: {0}\".format(v))\n",
        "print(\"si vous voyez cette ligne, c'est que tout est bon\")"
      ]
    },
    {
      "cell_type": "markdown",
      "metadata": {},
      "source": [
        "On continue avec l'algorithme de [Bellman-Ford](http://fr.wikipedia.org/wiki/Algorithme_de_Bellman-Ford) modifi\u00e9 :"
      ]
    },
    {
      "cell_type": "code",
      "execution_count": 15,
      "metadata": {},
      "outputs": [
        {
          "name": "stdout",
          "output_type": "stream",
          "text": [
            "2015-04-12 01:18:45.389333 iteration  0  modif  72870  #  35916 / 128777104 = 0.03%\n",
            "2015-04-12 01:18:46.179293 iteration  1  modif  119604  #  104842 / 128777104 = 0.08%\n",
            "2015-04-12 01:18:47.853483 iteration  2  modif  178033  #  213086 / 128777104 = 0.17%\n",
            "2015-04-12 01:18:50.790772 iteration  3  modif  248648  #  365751 / 128777104 = 0.28%\n",
            "2015-04-12 01:18:55.302585 iteration  4  modif  330443  #  566457 / 128777104 = 0.44%\n",
            "2015-04-12 01:19:02.002318 iteration  5  modif  419549  #  815211 / 128777104 = 0.63%\n",
            "2015-04-12 01:19:11.623367 iteration  6  modif  508807  #  1109019 / 128777104 = 0.86%\n",
            "2015-04-12 01:19:23.579840 iteration  7  modif  585973  #  1438040 / 128777104 = 1.12%\n",
            "2015-04-12 01:19:38.370350 iteration  8  modif  639491  #  1785232 / 128777104 = 1.39%\n",
            "2015-04-12 01:19:56.035255 iteration  9  modif  656961  #  2127675 / 128777104 = 1.65%\n",
            "2015-04-12 01:20:16.436453 iteration  10  modif  638987  #  2441604 / 128777104 = 1.90%\n",
            "2015-04-12 01:20:39.075644 iteration  11  modif  591284  #  2711201 / 128777104 = 2.11%\n",
            "2015-04-12 01:21:04.245760 iteration  12  modif  519515  #  2928527 / 128777104 = 2.27%\n",
            "2015-04-12 01:21:33.496050 iteration  13  modif  434787  #  3091667 / 128777104 = 2.40%\n",
            "2015-04-12 01:22:02.419568 iteration  14  modif  346204  #  3205671 / 128777104 = 2.49%\n",
            "2015-04-12 01:22:29.389913 iteration  15  modif  263229  #  3279078 / 128777104 = 2.55%\n",
            "2015-04-12 01:22:55.394012 iteration  16  modif  191482  #  3323381 / 128777104 = 2.58%\n",
            "2015-04-12 01:23:22.033884 iteration  17  modif  133738  #  3348569 / 128777104 = 2.60%\n",
            "2015-04-12 01:23:49.684842 iteration  18  modif  90442  #  3362160 / 128777104 = 2.61%\n",
            "2015-04-12 01:24:17.267404 iteration  19  modif  59686  #  3369505 / 128777104 = 2.62%\n",
            "2015-04-12 01:24:46.839139 iteration  20  modif  38936  #  3373640 / 128777104 = 2.62%\n"
          ]
        }
      ],
      "source": [
        "import datetime\n",
        "init = { (e[0],e[1]) : e[-1] for e in edges }\n",
        "init.update ( { (e[1],e[0]) : e[-1] for e in edges } )\n",
        "\n",
        "edges_from = {  }\n",
        "for e in edges :\n",
        "    if e[0] not in edges_from : edges_from[e[0]] = []\n",
        "    if e[1] not in edges_from : edges_from[e[1]] = []\n",
        "    edges_from[e[0]].append(e)\n",
        "    edges_from[e[1]].append( (e[1], e[0], e[2], e[4], e[3], e[5] ) )\n",
        "    \n",
        "modif = 1\n",
        "total_possible_edges = len(edges_from)**2\n",
        "it = 0\n",
        "while modif > 0 :\n",
        "    modif = 0\n",
        "    initc = init.copy()   # to avoid RuntimeError: dictionary changed size during iteration\n",
        "    s = 0\n",
        "    for i,d in initc.items() :\n",
        "        if i not in possibles : \n",
        "            continue  # we skip undesired edges ------------------- addition\n",
        "        fromi2 = edges_from[i[1]]\n",
        "        s += d\n",
        "        for e in fromi2 :\n",
        "            if i[0] == e[1] : # on fait attention \u00e0 ne pas ajouter de boucle sur le m\u00eame noeud\n",
        "                continue\n",
        "            new_e = i[0], e[1]\n",
        "            new_d = d + e[-1]\n",
        "            if new_e not in init or init[new_e] > new_d :\n",
        "                init[new_e] = new_d \n",
        "                modif += 1\n",
        "    print(datetime.datetime.now(), \"iteration \", it, \" modif \", modif, \" # \", len(initc),\"/\",total_possible_edges,\"=\", \n",
        "            \"%1.2f\" %(len(initc)*100 / total_possible_edges) + \"%\")\n",
        "    it += 1\n",
        "    if it > 20 : \n",
        "        break"
      ]
    },
    {
      "cell_type": "markdown",
      "metadata": {},
      "source": [
        "L'algorithme consiste \u00e0 regarder les chemins $a \\rightarrow b \\rightarrow c$ et \u00e0 comparer s'il est plus rapide que $a \\rightarrow c$. 2.6% > 2.2% parce que le filtre est appliqu\u00e9 seulement sur $a \\rightarrow b$. Finalement, on consid\u00e8re les arcs ajout\u00e9s puis on retire les arcs originaux."
      ]
    },
    {
      "cell_type": "code",
      "execution_count": 16,
      "metadata": {},
      "outputs": [],
      "source": [
        "original = { (e[0],e[1]) : e[-1] for e in edges }\n",
        "original.update ( { (e[1],e[0]) : e[-1] for e in edges } )\n",
        "additions = { k:v for k,v in init.items() if k not in original }\n",
        "additions.update( { (k[1],k[0]):v for k,v in additions.items() } )    "
      ]
    },
    {
      "cell_type": "markdown",
      "metadata": {},
      "source": [
        "### Kruskall\n",
        "\n",
        "On trie les arcs par distance croissante, on enl\u00e8ve les arcs qui ne relient pas des noeuds de degr\u00e9 impair puis on les ajoute un par jusqu'\u00e0 ce qu'il n'y ait plus d'arc de degr\u00e9 impair."
      ]
    },
    {
      "cell_type": "code",
      "execution_count": 17,
      "metadata": {},
      "outputs": [
        {
          "name": "stdout",
          "output_type": "stream",
          "text": [
            "nb degr\u00e9 impairs 22 nombre d'arcs ajout\u00e9s 3648\n",
            "longueur ajout\u00e9e  3.5423464430662346\n",
            "longueur initiale  17.418504406203844\n"
          ]
        }
      ],
      "source": [
        "degre = { }\n",
        "for k,v in original.items() :  # original est sym\u00e9trique\n",
        "    degre[k[0]] = degre.get(k[0],0) + 1\n",
        "\n",
        "tri = [ (v,k) for k,v in additions.items() if degre[k[0]] %2 == 1 and degre[k[1]] %2 == 1  ]\n",
        "tri.extend( [ (v,k) for k,v in original.items() if degre[k[0]] %2 == 1 and degre[k[1]] %2 == 1  ] )\n",
        "tri.sort()\n",
        "\n",
        "impairs = sum ( v%2 for k,v in degre.items()  )\n",
        "\n",
        "added_edges = [] \n",
        "\n",
        "for v,a in tri :\n",
        "    if degre[a[0]] % 2 == 1 and degre[a[1]] % 2 == 1 :\n",
        "        # il faut refaire le test car degre peut changer \u00e0 chaque it\u00e9ration\n",
        "        degre[a[0]] += 1\n",
        "        degre[a[1]] += 1\n",
        "        added_edges.append ( a + (v,) )\n",
        "        impairs -= 2\n",
        "        if impairs <= 0 :\n",
        "            break\n",
        "\n",
        "# on v\u00e9rifie\n",
        "print(\"nb degr\u00e9 impairs\",impairs, \"nombre d'arcs ajout\u00e9s\",len(added_edges))\n",
        "print(\"longueur ajout\u00e9e \", sum( v for a,b,v in added_edges ))\n",
        "print(\"longueur initiale \", sum( e[-1] for e in edges ))"
      ]
    },
    {
      "cell_type": "markdown",
      "metadata": {},
      "source": [
        "Le nombre de noeuds impairs obtenus \u00e0 la fin doit \u00eatre inf\u00e9rieur \u00e0 2 pour \u00eatre s\u00fbr de trouver un chemin (mais on choisira 0 pour avoir un circuit eul\u00e9rien). Mon premier essai n'a pas donn\u00e9 satisfaction (92 noeuds impairs restant) car j'avais choisi un seuil (max_segment / 4) trop petit lors de la s\u00e9lection des arcs \u00e0 ajouter. J'ai augment\u00e9 le seuil par la suite mais il reste encore 22 noeuds de degr\u00e9 impairs. On a le choix entre augmenter ce seuil mais l'algorithme est d\u00e9j\u00e0 long ou chercher dans une autre direction comme laisser l'algorithme de Bellman explorer les noeuds de degr\u00e9 impairs. Ca ne veut pas forc\u00e9ment dire qu'il manque des arcs mais que peut-\u00eatre ils sont mal choisis. Si l'arc $i \\rightarrow j$ est choisi, l'arc $j \\rightarrow k$ ne le sera pas car $j$ aura un degr\u00e9 pair. Mais dans ce cas, si l'arc $j \\rightarrow k$ \u00e9tait le dernier arc disponible pour combler $k$, on est coinc\u00e9. On peut augmenter le seuil encore mais cela risquee de prendre du temps et puis cela ne fonctionnerait pas toujours sur tous les jeux de donn\u00e9es.\n",
        "\n",
        "On pourait alors \u00e9crire une sorte d'algorithme it\u00e9ratif qui ex\u00e9cute l'algorithme de Bellman, puis lance celui qui ajoute les arcs. Puis on revient au premier en ajoutant plus d'arcs autour des noeuds probl\u00e8matique lors de la seconde \u00e9tape. L'ensemble est un peu long pour tenir dans un notebook mais le code est celui de la fonction [eulerien_extension](http://www.xavierdupre.fr/app/ensae_teaching_cs/helpsphinx3/ensae_teaching_cs/special/rues_paris.html#special.rues_paris.eulerien_extension). Je conseille \u00e9galement la lecture de cet article : [Efficient Algorithms for Eulerian Extension](http://www.akt.tu-berlin.de/fileadmin/fg34/publications-akt/euler_short.pdf) (voir \u00e9galement [On Making Directed Graphs Eulerian](http://arxiv.org/abs/1101.4283)). L'ex\u00e9cution qui suit prend une vingtaine de minutes."
      ]
    },
    {
      "cell_type": "code",
      "execution_count": 18,
      "metadata": {},
      "outputs": [
        {
          "name": "stdout",
          "output_type": "stream",
          "text": [
            "data\n",
            "start, nb edges 17958\n",
            "possible_edges\n",
            "original 17958 / 64382878.0 = 0.00027892508936925745\n",
            "addition 1312214 / 64382878.0 = 0.020381412586122666\n",
            "next\n",
            "iteration  0  modif  72876  #  17958 / 64382878 = 0.03%\n",
            "iteration  1  modif  119544  #  52421 / 64382878 = 0.08%\n",
            "iteration  2  modif  177609  #  106511 / 64382878 = 0.17%\n",
            "iteration  3  modif  247689  #  182680 / 64382878 = 0.28%\n",
            "iteration  4  modif  327843  #  282626 / 64382878 = 0.44%\n",
            "iteration  5  modif  413418  #  405980 / 64382878 = 0.63%\n",
            "iteration  6  modif  496069  #  550546 / 64382878 = 0.86%\n",
            "iteration  7  modif  561366  #  710517 / 64382878 = 1.10%\n",
            "iteration  8  modif  598700  #  875788 / 64382878 = 1.36%\n",
            "iteration  9  modif  600000  #  1034325 / 64382878 = 1.61%\n",
            "iteration  10  modif  567801  #  1175548 / 64382878 = 1.83%\n",
            "iteration  11  modif  510076  #  1292961 / 64382878 = 2.01%\n",
            "iteration  12  modif  433796  #  1384196 / 64382878 = 2.15%\n",
            "iteration  13  modif  349510  #  1449682 / 64382878 = 2.25%\n",
            "iteration  14  modif  267371  #  1493038 / 64382878 = 2.32%\n",
            "iteration  15  modif  194659  #  1519796 / 64382878 = 2.36%\n",
            "iteration  16  modif  135778  #  1535222 / 64382878 = 2.38%\n",
            "iteration  17  modif  90864  #  1543743 / 64382878 = 2.40%\n",
            "iteration  18  modif  58784  #  1548367 / 64382878 = 2.40%\n",
            "iteration  19  modif  37306  #  1550830 / 64382878 = 2.41%\n",
            "iteration  20  modif  23232  #  1552160 / 64382878 = 2.41%\n",
            "nb odd degrees 7318 nb added edges 0\n",
            "nb odd degrees 28 nb added edges 3645\n",
            "added length  312.732395725235\n",
            "initial length 1511.8818424919855\n",
            "degrees [444, 833, 1112, 1672, 2080, 2218, 2428, 2595, 2767, 2772]\n",
            "------- nb odd vertices 28 iteration 0\n",
            "iteration  0  modif  18055  #  1552928 / 64382878 = 2.41%\n",
            "iteration  1  modif  11117  #  1555011 / 64382878 = 2.42%\n",
            "iteration  2  modif  8346  #  1556008 / 64382878 = 2.42%\n",
            "iteration  3  modif  6811  #  1557026 / 64382878 = 2.42%\n",
            "iteration  4  modif  6056  #  1558080 / 64382878 = 2.42%\n",
            "iteration  5  modif  5889  #  1559203 / 64382878 = 2.42%\n",
            "iteration  6  modif  6182  #  1560422 / 64382878 = 2.42%\n",
            "iteration  7  modif  6606  #  1561720 / 64382878 = 2.43%\n",
            "iteration  8  modif  7245  #  1563108 / 64382878 = 2.43%\n",
            "iteration  9  modif  8000  #  1564601 / 64382878 = 2.43%\n",
            "iteration  10  modif  8813  #  1566180 / 64382878 = 2.43%\n",
            "iteration  11  modif  9947  #  1567891 / 64382878 = 2.44%\n",
            "iteration  12  modif  11220  #  1569765 / 64382878 = 2.44%\n",
            "iteration  13  modif  12595  #  1571750 / 64382878 = 2.44%\n",
            "iteration  14  modif  14231  #  1573865 / 64382878 = 2.44%\n",
            "iteration  15  modif  15907  #  1576113 / 64382878 = 2.45%\n",
            "iteration  16  modif  17720  #  1578466 / 64382878 = 2.45%\n",
            "iteration  17  modif  19396  #  1580917 / 64382878 = 2.46%\n",
            "iteration  18  modif  21385  #  1583422 / 64382878 = 2.46%\n",
            "iteration  19  modif  23468  #  1586072 / 64382878 = 2.46%\n",
            "iteration  20  modif  25721  #  1588844 / 64382878 = 2.47%\n",
            "nb odd degrees 7318 nb added edges 0\n",
            "nb odd degrees 0 nb added edges 3659\n",
            "added length  341.68448700406753\n",
            "initial length 1511.8818424919855\n",
            "degrees []\n",
            "end, nb added 3659\n"
          ]
        }
      ],
      "source": [
        "from ensae_teaching_cs.special.rues_paris import eulerien_extension, distance_paris,get_data\n",
        "print(\"data\")\n",
        "edges = get_data()\n",
        "print(\"start, nb edges\", len(edges))\n",
        "added = eulerien_extension(edges, distance=distance_paris)\n",
        "print(\"end, nb added\", len(added))"
      ]
    },
    {
      "cell_type": "markdown",
      "metadata": {},
      "source": [
        "On enregistre le r\u00e9sultat o\u00f9 on souhaite recommencer \u00e0 partir de ce moment-l\u00e0 plus tard."
      ]
    },
    {
      "cell_type": "code",
      "execution_count": 19,
      "metadata": {},
      "outputs": [],
      "source": [
        "with open(\"added.txt\",\"w\") as f : f.write(str(added))"
      ]
    },
    {
      "cell_type": "markdown",
      "metadata": {},
      "source": [
        "Et si vous voulez le retrouver :"
      ]
    },
    {
      "cell_type": "code",
      "execution_count": 20,
      "metadata": {},
      "outputs": [],
      "source": [
        "from ensae_teaching_cs.data import added\n",
        "data = added()"
      ]
    },
    {
      "cell_type": "code",
      "execution_count": 21,
      "metadata": {},
      "outputs": [],
      "source": [
        "from ensae_teaching_cs.special.rues_paris import eulerien_extension, distance_paris, get_data\n",
        "edges = get_data()\n",
        "\n",
        "with open(data, \"r\") as f: text = f.read()\n",
        "added_edges = eval(text)"
      ]
    },
    {
      "cell_type": "markdown",
      "metadata": {},
      "source": [
        "### Chemin Eul\u00e9rien\n",
        "\n",
        "A cet instant, on n'a pas vraiment besoin de conna\u00eetre la longueur du chemin eul\u00e9rien passant par tous les arcs. Il s'agit de la somme des arcs initiaux et ajout\u00e9s (soit environ 334 + 1511). On suppose qu'il n'y qu'une composante connexe. Construire le chemin eul\u00e9rien fait appara\u00eetre quelques difficult\u00e9s comme la suivante : on parcourt le graphe dans un sens mais on peut laisser de c\u00f4t\u00e9 une partie du chemin et cr\u00e9er une seconde composante connexe."
      ]
    },
    {
      "cell_type": "code",
      "execution_count": 22,
      "metadata": {},
      "outputs": [
        {
          "data": {
            "image/png": "[encoded data removed]",
            "text/plain": [
              "<IPython.core.display.Image at 0xbbea128>"
            ]
          },
          "execution_count": 23,
          "metadata": {},
          "output_type": "execute_result"
        }
      ],
      "source": [
        "from pyquickhelper.helpgen import NbImage\n",
        "NbImage(\"euler.png\")"
      ]
    },
    {
      "cell_type": "markdown",
      "metadata": {},
      "source": [
        "Quelques algorithmes sont disponibles sur cette page [Eulerian_path](http://en.wikipedia.org/wiki/Eulerian_path). L'algorithme de Hierholzer consiste \u00e0 commencer un chemin eul\u00e9rien qui peut revenir au premier avant d'avoir tout parcouru. Dans ce cas, on parcourt les noeuds du graphe pour trouver un noeud qui repart ailleurs et qui revient au m\u00eame noeud. On insert cette boucle dans le chemin initial. Tout d'abord, on construit une structure qui pour chaque noeud associe les noeuds suivant. La fonction [euler_path](http://www.xavierdupre.fr/app/ensae_teaching_cs/helpsphinx3/ensae_teaching_cs/special/rues_paris.html#special.rues_paris.eurler_path)"
      ]
    },
    {
      "cell_type": "code",
      "execution_count": 23,
      "metadata": {},
      "outputs": [
        {
          "data": {
            "text/plain": [
              "[(2121, ['street', 3, 2121, 0.049532522902426074]),\n",
              " (10363, ['street', 2121, 10363, 0.1474817976215633]),\n",
              " (3517, ['street', 3517, 10363, 0.10602477572757586]),\n",
              " (2829, ['street', 2829, 3517, 0.03409802890007801]),\n",
              " (3515, ['street', 3515, 2829, 0.060836636019222866])]"
            ]
          },
          "execution_count": 24,
          "metadata": {},
          "output_type": "execute_result"
        }
      ],
      "source": [
        "from ensae_teaching_cs.special.rues_paris import euler_path\n",
        "path = euler_path(edges, added_edges)\n",
        "path[:5]"
      ]
    },
    {
      "cell_type": "markdown",
      "metadata": {},
      "source": [
        "Le label ``street`` signifie que l'ar\u00eate provient de l'ensemble des rues, le label ``jump`` signifie que c'est une ar\u00eate ajout\u00e9e. Pour couper le parcours en 8 (8 voitures), il suffit de couper le chemin en 8 parts presque \u00e9gales en trouvant 8 ar\u00eates ``jump`` presque \u00e9galement r\u00e9parties le long du chemin eul\u00e9rien. On peut bien \u00e9videmment couper \u00e0 une ar\u00eate ``street`` mais celle-l\u00e0 devra faire partie d'un des deux ensembles pas l'ar\u00eate ``jump`` qui peut \u00eatre jet\u00e9e. On peut envisager une approche dichotomique. Couper en deux, recouper en deux chaque intervalle et minimiser sur la meilleur ar\u00eate ``jump`` du d\u00e9but.\n",
        "\n",
        "Il reste maintenant \u00e0 prendre en compte les sens interdits. Cette modification peut intervenir \u00e0 deux endroits :\n",
        "\n",
        "* Soit le nombre de sens interdit est faible et on peut s'en d\u00e9patouiller en parcourant le plus possible des rues dans le bon sens, en choisissant le plus les arcs dans le bon sens lors de la cr\u00e9ation du chemin eul\u00e9rien.\n",
        "* Soit on cr\u00e9e un graphe eul\u00e9rien orient\u00e9 (pour chaque noeud, les nombres d'ar\u00eates sortantes et entrantes sont \u00e9gaux, voir [Euler Circuit in a Directed Graph](http://www.geeksforgeeks.org/euler-circuit-directed-graph/)).\n",
        "\n",
        "Dans le cas o\u00f9 on souhaite que les voitures partent toutes du m\u00eame point et reviennent \u00e0 ce m\u00eame point, la solution pr\u00e9c\u00e9dente fournira une borne sup\u00e9rieure (il suffit d'ajouter des ar\u00eates ``jump`` pour amener et ramener les voitures)."
      ]
    },
    {
      "cell_type": "markdown",
      "metadata": {},
      "source": [
        "## Algorithme optimal\n",
        "\n",
        "La variante de l'algorithme de [Kruskal](https://en.wikipedia.org/wiki/Kruskal%27s_algorithm) propose une solution approch\u00e9e pour apparier les noeuds de degr\u00e9 impair. On cherche \u00e0 minimiser la somme des distances entre les noeuds apparier. Il existe un algorithme optimal pour r\u00e9soudre ce probl\u00e8me : l'[algorithme d'Edmonds pour les couplages](https://en.wikipedia.org/wiki/Blossom_algorithm)."
      ]
    },
    {
      "cell_type": "markdown",
      "metadata": {},
      "source": [
        "## Variantes"
      ]
    },
    {
      "cell_type": "markdown",
      "metadata": {},
      "source": [
        "### Sens interdit et gaphe orient\u00e9\n",
        "\n",
        "Si la ville contient des sens interdits, c'est comme si le graphe \u00e9tait orient\u00e9. Chaque arc ne peut \u00eatre parcouru que dans un sens. Il faut alors distinguer les degr\u00e9s entrants et sortants de chaque noeud. Il faut s'assurer pour chaque noeud que le nombre d'arc entrant et sortant sont identiques. Si ce n'est pas le cas, on se sert de l'algorithme d'appariement pour recr\u00e9er des arcs."
      ]
    },
    {
      "cell_type": "markdown",
      "metadata": {},
      "source": [
        "### Windy postman problem\n",
        "\n",
        "C'est une variante pour laquelle le co\u00fbt d'un arc n'est pas le m\u00eame selon qu'on le parcourt dans un sens ou dans l'autre (\u00e0 contre sens). Ce probl\u00e8me est [NP complet](https://en.wikipedia.org/wiki/NP-completeness)."
      ]
    },
    {
      "cell_type": "code",
      "execution_count": 24,
      "metadata": {
        "collapsed": true
      },
      "outputs": [],
      "source": []
    }
  ],
  "metadata": {
    "kernelspec": {
      "display_name": "Python 3",
      "language": "python",
      "name": "python3"
    },
    "language_info": {
      "codemirror_mode": {
        "name": "ipython",
        "version": 3
      },
      "file_extension": ".py",
      "mimetype": "text/x-python",
      "name": "python",
      "nbconvert_exporter": "python",
      "pygments_lexer": "ipython3",
      "version": "3.7.2"
    }
  },
  "nbformat": 4,
  "nbformat_minor": 1
}